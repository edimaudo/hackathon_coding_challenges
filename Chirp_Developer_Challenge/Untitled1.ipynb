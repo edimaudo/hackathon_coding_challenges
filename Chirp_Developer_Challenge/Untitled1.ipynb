{
 "cells": [
  {
   "cell_type": "code",
   "execution_count": 1,
   "metadata": {},
   "outputs": [],
   "source": [
    "import pandas as pd\n",
    "import requests\n",
    "import json"
   ]
  },
  {
   "cell_type": "code",
   "execution_count": 4,
   "metadata": {},
   "outputs": [
    {
     "name": "stdout",
     "output_type": "stream",
     "text": [
      "Collecting tweepy\n",
      "  Using cached https://files.pythonhosted.org/packages/20/29/d07ca458ed84fa173f3bff5e67697066b8ebb0c31957d4fa8aaed14a891f/tweepy-4.10.0-py3-none-any.whl\n",
      "Collecting requests<3,>=2.27.0 (from tweepy)\n",
      "\u001b[?25l  Downloading https://files.pythonhosted.org/packages/ca/91/6d9b8ccacd0412c08820f72cebaa4f0c0441b5cda699c90f618b6f8a1b42/requests-2.28.1-py3-none-any.whl (62kB)\n",
      "\u001b[K     |████████████████████████████████| 71kB 12.7MB/s eta 0:00:01\n",
      "\u001b[?25hCollecting oauthlib<4,>=3.2.0 (from tweepy)\n",
      "  Using cached https://files.pythonhosted.org/packages/1d/46/5ee2475e1b46a26ca0fa10d3c1d479577fde6ee289f8c6aa6d7ec33e31fd/oauthlib-3.2.0-py3-none-any.whl\n",
      "Requirement already satisfied: requests-oauthlib<2,>=1.2.0 in /opt/anaconda3/lib/python3.7/site-packages (from tweepy) (1.3.0)\n",
      "Collecting charset-normalizer<3,>=2 (from requests<3,>=2.27.0->tweepy)\n",
      "  Downloading https://files.pythonhosted.org/packages/94/69/64b11e8c2fb21f08634468caef885112e682b0ebe2908e74d3616eb1c113/charset_normalizer-2.1.0-py3-none-any.whl\n",
      "Requirement already satisfied: certifi>=2017.4.17 in /opt/anaconda3/lib/python3.7/site-packages (from requests<3,>=2.27.0->tweepy) (2019.9.11)\n",
      "Requirement already satisfied: idna<4,>=2.5 in /opt/anaconda3/lib/python3.7/site-packages (from requests<3,>=2.27.0->tweepy) (2.8)\n",
      "Requirement already satisfied: urllib3<1.27,>=1.21.1 in /opt/anaconda3/lib/python3.7/site-packages (from requests<3,>=2.27.0->tweepy) (1.24.2)\n",
      "Installing collected packages: charset-normalizer, requests, oauthlib, tweepy\n",
      "  Found existing installation: requests 2.22.0\n",
      "    Uninstalling requests-2.22.0:\n",
      "      Successfully uninstalled requests-2.22.0\n",
      "  Found existing installation: oauthlib 3.1.0\n",
      "    Uninstalling oauthlib-3.1.0:\n",
      "      Successfully uninstalled oauthlib-3.1.0\n",
      "Successfully installed charset-normalizer-2.1.0 oauthlib-3.2.0 requests-2.28.1 tweepy-4.10.0\n"
     ]
    }
   ],
   "source": [
    "!pip install tweepy"
   ]
  },
  {
   "cell_type": "code",
   "execution_count": 10,
   "metadata": {},
   "outputs": [
    {
     "name": "stdout",
     "output_type": "stream",
     "text": [
      "Requirement already satisfied: PyTweet in /opt/anaconda3/lib/python3.7/site-packages (1.3.6)\n",
      "Requirement already satisfied: requests-oauthlib in /opt/anaconda3/lib/python3.7/site-packages (from PyTweet) (1.3.0)\n",
      "Requirement already satisfied: requests in /opt/anaconda3/lib/python3.7/site-packages (from PyTweet) (2.28.1)\n",
      "Requirement already satisfied: python-dateutil in /opt/anaconda3/lib/python3.7/site-packages (from PyTweet) (2.8.2)\n",
      "Requirement already satisfied: oauthlib>=3.0.0 in /opt/anaconda3/lib/python3.7/site-packages (from requests-oauthlib->PyTweet) (3.2.0)\n",
      "Requirement already satisfied: charset-normalizer<3,>=2 in /opt/anaconda3/lib/python3.7/site-packages (from requests->PyTweet) (2.1.0)\n",
      "Requirement already satisfied: certifi>=2017.4.17 in /opt/anaconda3/lib/python3.7/site-packages (from requests->PyTweet) (2019.9.11)\n",
      "Requirement already satisfied: idna<4,>=2.5 in /opt/anaconda3/lib/python3.7/site-packages (from requests->PyTweet) (2.8)\n",
      "Requirement already satisfied: urllib3<1.27,>=1.21.1 in /opt/anaconda3/lib/python3.7/site-packages (from requests->PyTweet) (1.24.2)\n",
      "Requirement already satisfied: six>=1.5 in /opt/anaconda3/lib/python3.7/site-packages (from python-dateutil->PyTweet) (1.12.0)\n"
     ]
    }
   ],
   "source": [
    "!pip install PyTweet"
   ]
  },
  {
   "cell_type": "code",
   "execution_count": 12,
   "metadata": {},
   "outputs": [
    {
     "name": "stdout",
     "output_type": "stream",
     "text": [
      "Post Malone is playing Apex Legends for charity this week\n",
      "https://t.co/Qvl3MmBbKG https://t.co/7amCoIrswF\n",
      "RT @unicodeveloper: @hackSultan I’m Prosper. A software engineer and developer advocate from Nigeria. \n",
      "\n",
      "Checkout GitHub for some of my work…\n",
      "Apple M2 Pro and M2 Max MacBook Pro will reportedly launch this fall or next spring\n",
      "https://t.co/29ApXGWeWj https://t.co/nymaQyq3Q9\n",
      "Apple is expected to slow hiring and spending due to recession concerns https://t.co/ntPh0gRuDD https://t.co/qdCQKJ0glv\n",
      "New speakers added to our panel discussion on removing resources limits from public assistance programs--join our P… https://t.co/Q9Rz8SdBM0\n",
      "First there was Goat Simulator, now there is 'Stray'. \n",
      "In Stray, you're in control of a stray cat traversing a barr… https://t.co/tNadmeTRKw\n",
      "Watch the winning submission from Eindhoven University of Technology’s Master of Industrial and Applied Mathematics… https://t.co/uKvqP1c4uB\n",
      "What is a piece of tech that isn't mainstream today, but you think everyone will use in 10 years?\n",
      "https://t.co/8IYBfjFact\n",
      "SaskTel expands maxTV Stream to three northern communities https://t.co/rRaRsvX95r https://t.co/sdv6jexRsV\n",
      "[Press Release] New Research Puts Your Online Privacy Preferences to the Test \n",
      "https://t.co/FDMwG5jTgG\n",
      "\n",
      "#INFORMS… https://t.co/sXQ14IJKEj\n",
      "What are some of the barriers preventing people from participating in local elections? 🤔\n",
      "\n",
      "Learn more ➡️… https://t.co/o8JJ2wvd0P\n",
      "Deal: Save up to 25% on TP-Link Smart Home Products [direct] https://t.co/xiSWPW2aKO https://t.co/pooPZZoui4\n",
      "RT @Rainmaker1973: Building a LEGO-powered Submarine with automatic depth control\n",
      "\n",
      "[📹 YouTube's Brick Experiment Channel: https://t.co/HT8g…\n",
      "RT @Fresh_Logic: 😭😭😭 https://t.co/kFrePBwS7Z\n",
      "Twitter has 100000000% shadow banned Elon Musk!!!! Look at his engagement since he pulled out of the deal https://t.co/Iy6fqeWXto\n",
      "As Dusk Falls and Watch Dogs 2 are among the new games being released this month on Xbox Game Pass.\n",
      "Xbox Game Pass… https://t.co/Zh09zd8YuO\n",
      "RT @dilipsoman: I and @kayyyyln @UofT_BEAR write about why segmentation needs a rethink! @avicgoldfarb @rotmanschool @geeta_menon @SternUC\n"
     ]
    }
   ],
   "source": [
    "auth = tweepy.OAuth1UserHandler(\n",
    "   'we3z0faGK85kZjt1JcRIqfVjR', 'bccPPE54SIn8MxtfGzcEWUNhzLlozBVwuZVydJlq1T0HaBLsms', \n",
    "    '345481722-AppKDAsF1qQH87TWKSpu1f1GNBEtdpNhPG1qRYgb', \n",
    "    'cqbIiawD1o8IP1tu32kCFnj6CoXi80BlCgJ7wd0YEOxLs'\n",
    ")\n",
    "\n",
    "api = tweepy.API(auth)\n",
    "\n",
    "public_tweets = api.home_timeline()\n",
    "for tweet in public_tweets:\n",
    "    print(tweet.text)"
   ]
  },
  {
   "cell_type": "code",
   "execution_count": 13,
   "metadata": {},
   "outputs": [],
   "source": [
    "# Get the User object for twitter...\n",
    "user = api.get_user(screen_name='twitter')"
   ]
  },
  {
   "cell_type": "code",
   "execution_count": 14,
   "metadata": {},
   "outputs": [
    {
     "data": {
      "text/plain": [
       "User(_api=<tweepy.api.API object at 0x7fb0de889c90>, _json={'id': 783214, 'id_str': '783214', 'name': 'Twitter', 'screen_name': 'Twitter', 'location': 'everywhere', 'profile_location': None, 'description': \"What's happening?!\", 'url': 'https://t.co/DAtOo6uuHk', 'entities': {'url': {'urls': [{'url': 'https://t.co/DAtOo6uuHk', 'expanded_url': 'https://about.twitter.com/', 'display_url': 'about.twitter.com', 'indices': [0, 23]}]}, 'description': {'urls': []}}, 'protected': False, 'followers_count': 62208882, 'friends_count': 0, 'listed_count': 87503, 'created_at': 'Tue Feb 20 14:35:54 +0000 2007', 'favourites_count': 6224, 'utc_offset': None, 'time_zone': None, 'geo_enabled': True, 'verified': True, 'statuses_count': 15010, 'lang': None, 'status': {'created_at': 'Thu Jun 30 17:52:17 +0000 2022', 'id': 1542566710594658312, 'id_str': '1542566710594658312', 'text': \"if you've ever stolen a Tweet say sorry\", 'truncated': False, 'entities': {'hashtags': [], 'symbols': [], 'user_mentions': [], 'urls': []}, 'source': '<a href=\"https://www.sprinklr.com\" rel=\"nofollow\">Sprinklr</a>', 'in_reply_to_status_id': None, 'in_reply_to_status_id_str': None, 'in_reply_to_user_id': None, 'in_reply_to_user_id_str': None, 'in_reply_to_screen_name': None, 'geo': None, 'coordinates': None, 'place': None, 'contributors': None, 'is_quote_status': False, 'retweet_count': 11738, 'favorite_count': 112896, 'favorited': False, 'retweeted': False, 'lang': 'en'}, 'contributors_enabled': False, 'is_translator': False, 'is_translation_enabled': False, 'profile_background_color': 'ACDED6', 'profile_background_image_url': 'http://abs.twimg.com/images/themes/theme18/bg.gif', 'profile_background_image_url_https': 'https://abs.twimg.com/images/themes/theme18/bg.gif', 'profile_background_tile': True, 'profile_image_url': 'http://pbs.twimg.com/profile_images/1488548719062654976/u6qfBBkF_normal.jpg', 'profile_image_url_https': 'https://pbs.twimg.com/profile_images/1488548719062654976/u6qfBBkF_normal.jpg', 'profile_banner_url': 'https://pbs.twimg.com/profile_banners/783214/1646075315', 'profile_link_color': '1B95E0', 'profile_sidebar_border_color': 'FFFFFF', 'profile_sidebar_fill_color': 'F6F6F6', 'profile_text_color': '333333', 'profile_use_background_image': True, 'has_extended_profile': True, 'default_profile': False, 'default_profile_image': False, 'following': False, 'follow_request_sent': False, 'notifications': False, 'translator_type': 'regular', 'withheld_in_countries': []}, id=783214, id_str='783214', name='Twitter', screen_name='Twitter', location='everywhere', profile_location=None, description=\"What's happening?!\", url='https://t.co/DAtOo6uuHk', entities={'url': {'urls': [{'url': 'https://t.co/DAtOo6uuHk', 'expanded_url': 'https://about.twitter.com/', 'display_url': 'about.twitter.com', 'indices': [0, 23]}]}, 'description': {'urls': []}}, protected=False, followers_count=62208882, friends_count=0, listed_count=87503, created_at=datetime.datetime(2007, 2, 20, 14, 35, 54, tzinfo=datetime.timezone.utc), favourites_count=6224, utc_offset=None, time_zone=None, geo_enabled=True, verified=True, statuses_count=15010, lang=None, status=Status(_api=<tweepy.api.API object at 0x7fb0de889c90>, _json={'created_at': 'Thu Jun 30 17:52:17 +0000 2022', 'id': 1542566710594658312, 'id_str': '1542566710594658312', 'text': \"if you've ever stolen a Tweet say sorry\", 'truncated': False, 'entities': {'hashtags': [], 'symbols': [], 'user_mentions': [], 'urls': []}, 'source': '<a href=\"https://www.sprinklr.com\" rel=\"nofollow\">Sprinklr</a>', 'in_reply_to_status_id': None, 'in_reply_to_status_id_str': None, 'in_reply_to_user_id': None, 'in_reply_to_user_id_str': None, 'in_reply_to_screen_name': None, 'geo': None, 'coordinates': None, 'place': None, 'contributors': None, 'is_quote_status': False, 'retweet_count': 11738, 'favorite_count': 112896, 'favorited': False, 'retweeted': False, 'lang': 'en'}, created_at=datetime.datetime(2022, 6, 30, 17, 52, 17, tzinfo=datetime.timezone.utc), id=1542566710594658312, id_str='1542566710594658312', text=\"if you've ever stolen a Tweet say sorry\", truncated=False, entities={'hashtags': [], 'symbols': [], 'user_mentions': [], 'urls': []}, source='Sprinklr', source_url='https://www.sprinklr.com', in_reply_to_status_id=None, in_reply_to_status_id_str=None, in_reply_to_user_id=None, in_reply_to_user_id_str=None, in_reply_to_screen_name=None, geo=None, coordinates=None, place=None, contributors=None, is_quote_status=False, retweet_count=11738, favorite_count=112896, favorited=False, retweeted=False, lang='en'), contributors_enabled=False, is_translator=False, is_translation_enabled=False, profile_background_color='ACDED6', profile_background_image_url='http://abs.twimg.com/images/themes/theme18/bg.gif', profile_background_image_url_https='https://abs.twimg.com/images/themes/theme18/bg.gif', profile_background_tile=True, profile_image_url='http://pbs.twimg.com/profile_images/1488548719062654976/u6qfBBkF_normal.jpg', profile_image_url_https='https://pbs.twimg.com/profile_images/1488548719062654976/u6qfBBkF_normal.jpg', profile_banner_url='https://pbs.twimg.com/profile_banners/783214/1646075315', profile_link_color='1B95E0', profile_sidebar_border_color='FFFFFF', profile_sidebar_fill_color='F6F6F6', profile_text_color='333333', profile_use_background_image=True, has_extended_profile=True, default_profile=False, default_profile_image=False, following=False, follow_request_sent=False, notifications=False, translator_type='regular', withheld_in_countries=[])"
      ]
     },
     "execution_count": 14,
     "metadata": {},
     "output_type": "execute_result"
    }
   ],
   "source": [
    "user"
   ]
  },
  {
   "cell_type": "code",
   "execution_count": null,
   "metadata": {},
   "outputs": [],
   "source": [
    "#Search Tweets\n"
   ]
  },
  {
   "cell_type": "code",
   "execution_count": null,
   "metadata": {},
   "outputs": [],
   "source": [
    "#Tweet counts"
   ]
  },
  {
   "cell_type": "code",
   "execution_count": null,
   "metadata": {},
   "outputs": [],
   "source": [
    "#Filtered stream\n"
   ]
  },
  {
   "cell_type": "code",
   "execution_count": null,
   "metadata": {},
   "outputs": [],
   "source": [
    "#Tweet annotations\n"
   ]
  }
 ],
 "metadata": {
  "kernelspec": {
   "display_name": "Python 3",
   "language": "python",
   "name": "python3"
  },
  "language_info": {
   "codemirror_mode": {
    "name": "ipython",
    "version": 3
   },
   "file_extension": ".py",
   "mimetype": "text/x-python",
   "name": "python",
   "nbconvert_exporter": "python",
   "pygments_lexer": "ipython3",
   "version": "3.7.4"
  }
 },
 "nbformat": 4,
 "nbformat_minor": 2
}
