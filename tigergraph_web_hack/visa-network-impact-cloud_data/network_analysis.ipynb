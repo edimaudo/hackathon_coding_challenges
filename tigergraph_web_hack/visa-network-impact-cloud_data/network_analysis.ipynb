{
 "cells": [
  {
   "cell_type": "code",
   "execution_count": 24,
   "metadata": {},
   "outputs": [],
   "source": [
    "#load libraries\n",
    "import pandas as pd\n",
    "import numpy as np\n",
    "import matplotlib\n",
    "import plotly\n",
    "import plotly.offline as py\n",
    "import plotly.graph_objs as go\n",
    "import plotly.express as px"
   ]
  },
  {
   "cell_type": "code",
   "execution_count": 3,
   "metadata": {},
   "outputs": [],
   "source": [
    "#load data\n",
    "warnings = pd.read_csv('warnings.csv')\n",
    "SWITCH = pd.read_csv('SWITCH.csv')\n",
    "SERVICE_MANAGER = pd.read_csv('SERVICE_MANAGER.csv')\n",
    "SERVER_APP = pd.read_csv('SERVER_APP.csv')\n",
    "LUN = pd.read_csv('LUN.csv')\n",
    "APP_SERVICE = pd.read_csv('APP_SERVICE.csv')\n",
    "APP_APP = pd.read_csv('APP_APP.csv')"
   ]
  },
  {
   "cell_type": "markdown",
   "metadata": {},
   "source": [
    "## Data Overview"
   ]
  },
  {
   "cell_type": "code",
   "execution_count": 4,
   "metadata": {},
   "outputs": [
    {
     "data": {
      "text/html": [
       "<div>\n",
       "<style scoped>\n",
       "    .dataframe tbody tr th:only-of-type {\n",
       "        vertical-align: middle;\n",
       "    }\n",
       "\n",
       "    .dataframe tbody tr th {\n",
       "        vertical-align: top;\n",
       "    }\n",
       "\n",
       "    .dataframe thead th {\n",
       "        text-align: right;\n",
       "    }\n",
       "</style>\n",
       "<table border=\"1\" class=\"dataframe\">\n",
       "  <thead>\n",
       "    <tr style=\"text-align: right;\">\n",
       "      <th></th>\n",
       "      <th>WARNID</th>\n",
       "      <th>EVENT_TYPE</th>\n",
       "      <th>APP ID</th>\n",
       "    </tr>\n",
       "  </thead>\n",
       "  <tbody>\n",
       "    <tr>\n",
       "      <td>count</td>\n",
       "      <td>8.520000e+02</td>\n",
       "      <td>852.000000</td>\n",
       "      <td>852.000000</td>\n",
       "    </tr>\n",
       "    <tr>\n",
       "      <td>mean</td>\n",
       "      <td>2.000426e+06</td>\n",
       "      <td>6.068075</td>\n",
       "      <td>2297.335681</td>\n",
       "    </tr>\n",
       "    <tr>\n",
       "      <td>std</td>\n",
       "      <td>2.460955e+02</td>\n",
       "      <td>2.820117</td>\n",
       "      <td>994.416535</td>\n",
       "    </tr>\n",
       "    <tr>\n",
       "      <td>min</td>\n",
       "      <td>2.000001e+06</td>\n",
       "      <td>0.000000</td>\n",
       "      <td>631.000000</td>\n",
       "    </tr>\n",
       "    <tr>\n",
       "      <td>25%</td>\n",
       "      <td>2.000214e+06</td>\n",
       "      <td>4.000000</td>\n",
       "      <td>1528.750000</td>\n",
       "    </tr>\n",
       "    <tr>\n",
       "      <td>50%</td>\n",
       "      <td>2.000426e+06</td>\n",
       "      <td>6.000000</td>\n",
       "      <td>2066.500000</td>\n",
       "    </tr>\n",
       "    <tr>\n",
       "      <td>75%</td>\n",
       "      <td>2.000639e+06</td>\n",
       "      <td>8.000000</td>\n",
       "      <td>3210.250000</td>\n",
       "    </tr>\n",
       "    <tr>\n",
       "      <td>max</td>\n",
       "      <td>2.000852e+06</td>\n",
       "      <td>12.000000</td>\n",
       "      <td>4155.000000</td>\n",
       "    </tr>\n",
       "  </tbody>\n",
       "</table>\n",
       "</div>"
      ],
      "text/plain": [
       "             WARNID  EVENT_TYPE       APP ID\n",
       "count  8.520000e+02  852.000000   852.000000\n",
       "mean   2.000426e+06    6.068075  2297.335681\n",
       "std    2.460955e+02    2.820117   994.416535\n",
       "min    2.000001e+06    0.000000   631.000000\n",
       "25%    2.000214e+06    4.000000  1528.750000\n",
       "50%    2.000426e+06    6.000000  2066.500000\n",
       "75%    2.000639e+06    8.000000  3210.250000\n",
       "max    2.000852e+06   12.000000  4155.000000"
      ]
     },
     "execution_count": 4,
     "metadata": {},
     "output_type": "execute_result"
    }
   ],
   "source": [
    "warnings.describe()"
   ]
  },
  {
   "cell_type": "code",
   "execution_count": 5,
   "metadata": {},
   "outputs": [
    {
     "data": {
      "text/html": [
       "<div>\n",
       "<style scoped>\n",
       "    .dataframe tbody tr th:only-of-type {\n",
       "        vertical-align: middle;\n",
       "    }\n",
       "\n",
       "    .dataframe tbody tr th {\n",
       "        vertical-align: top;\n",
       "    }\n",
       "\n",
       "    .dataframe thead th {\n",
       "        text-align: right;\n",
       "    }\n",
       "</style>\n",
       "<table border=\"1\" class=\"dataframe\">\n",
       "  <thead>\n",
       "    <tr style=\"text-align: right;\">\n",
       "      <th></th>\n",
       "      <th>SWITCH_ID</th>\n",
       "      <th>STORAGE_ARRAY_ID</th>\n",
       "    </tr>\n",
       "  </thead>\n",
       "  <tbody>\n",
       "    <tr>\n",
       "      <td>count</td>\n",
       "      <td>26440.000000</td>\n",
       "      <td>26440.000000</td>\n",
       "    </tr>\n",
       "    <tr>\n",
       "      <td>mean</td>\n",
       "      <td>61845.445386</td>\n",
       "      <td>50351.581959</td>\n",
       "    </tr>\n",
       "    <tr>\n",
       "      <td>std</td>\n",
       "      <td>12.892664</td>\n",
       "      <td>24063.896697</td>\n",
       "    </tr>\n",
       "    <tr>\n",
       "      <td>min</td>\n",
       "      <td>61812.000000</td>\n",
       "      <td>0.000000</td>\n",
       "    </tr>\n",
       "    <tr>\n",
       "      <td>25%</td>\n",
       "      <td>61840.000000</td>\n",
       "      <td>61815.000000</td>\n",
       "    </tr>\n",
       "    <tr>\n",
       "      <td>50%</td>\n",
       "      <td>61843.000000</td>\n",
       "      <td>61843.000000</td>\n",
       "    </tr>\n",
       "    <tr>\n",
       "      <td>75%</td>\n",
       "      <td>61854.000000</td>\n",
       "      <td>61862.000000</td>\n",
       "    </tr>\n",
       "    <tr>\n",
       "      <td>max</td>\n",
       "      <td>61871.000000</td>\n",
       "      <td>61923.000000</td>\n",
       "    </tr>\n",
       "  </tbody>\n",
       "</table>\n",
       "</div>"
      ],
      "text/plain": [
       "          SWITCH_ID  STORAGE_ARRAY_ID\n",
       "count  26440.000000      26440.000000\n",
       "mean   61845.445386      50351.581959\n",
       "std       12.892664      24063.896697\n",
       "min    61812.000000          0.000000\n",
       "25%    61840.000000      61815.000000\n",
       "50%    61843.000000      61843.000000\n",
       "75%    61854.000000      61862.000000\n",
       "max    61871.000000      61923.000000"
      ]
     },
     "execution_count": 5,
     "metadata": {},
     "output_type": "execute_result"
    }
   ],
   "source": [
    "SWITCH.describe()"
   ]
  },
  {
   "cell_type": "code",
   "execution_count": 6,
   "metadata": {},
   "outputs": [
    {
     "data": {
      "text/html": [
       "<div>\n",
       "<style scoped>\n",
       "    .dataframe tbody tr th:only-of-type {\n",
       "        vertical-align: middle;\n",
       "    }\n",
       "\n",
       "    .dataframe tbody tr th {\n",
       "        vertical-align: top;\n",
       "    }\n",
       "\n",
       "    .dataframe thead th {\n",
       "        text-align: right;\n",
       "    }\n",
       "</style>\n",
       "<table border=\"1\" class=\"dataframe\">\n",
       "  <thead>\n",
       "    <tr style=\"text-align: right;\">\n",
       "      <th></th>\n",
       "      <th>Id</th>\n",
       "    </tr>\n",
       "  </thead>\n",
       "  <tbody>\n",
       "    <tr>\n",
       "      <td>count</td>\n",
       "      <td>406.000000</td>\n",
       "    </tr>\n",
       "    <tr>\n",
       "      <td>mean</td>\n",
       "      <td>617.935961</td>\n",
       "    </tr>\n",
       "    <tr>\n",
       "      <td>std</td>\n",
       "      <td>244.552846</td>\n",
       "    </tr>\n",
       "    <tr>\n",
       "      <td>min</td>\n",
       "      <td>256.000000</td>\n",
       "    </tr>\n",
       "    <tr>\n",
       "      <td>25%</td>\n",
       "      <td>391.250000</td>\n",
       "    </tr>\n",
       "    <tr>\n",
       "      <td>50%</td>\n",
       "      <td>594.500000</td>\n",
       "    </tr>\n",
       "    <tr>\n",
       "      <td>75%</td>\n",
       "      <td>831.750000</td>\n",
       "    </tr>\n",
       "    <tr>\n",
       "      <td>max</td>\n",
       "      <td>1011.000000</td>\n",
       "    </tr>\n",
       "  </tbody>\n",
       "</table>\n",
       "</div>"
      ],
      "text/plain": [
       "                Id\n",
       "count   406.000000\n",
       "mean    617.935961\n",
       "std     244.552846\n",
       "min     256.000000\n",
       "25%     391.250000\n",
       "50%     594.500000\n",
       "75%     831.750000\n",
       "max    1011.000000"
      ]
     },
     "execution_count": 6,
     "metadata": {},
     "output_type": "execute_result"
    }
   ],
   "source": [
    "SERVICE_MANAGER.describe()"
   ]
  },
  {
   "cell_type": "code",
   "execution_count": 7,
   "metadata": {},
   "outputs": [
    {
     "data": {
      "text/html": [
       "<div>\n",
       "<style scoped>\n",
       "    .dataframe tbody tr th:only-of-type {\n",
       "        vertical-align: middle;\n",
       "    }\n",
       "\n",
       "    .dataframe tbody tr th {\n",
       "        vertical-align: top;\n",
       "    }\n",
       "\n",
       "    .dataframe thead th {\n",
       "        text-align: right;\n",
       "    }\n",
       "</style>\n",
       "<table border=\"1\" class=\"dataframe\">\n",
       "  <thead>\n",
       "    <tr style=\"text-align: right;\">\n",
       "      <th></th>\n",
       "      <th>app_id</th>\n",
       "    </tr>\n",
       "  </thead>\n",
       "  <tbody>\n",
       "    <tr>\n",
       "      <td>count</td>\n",
       "      <td>141813.000000</td>\n",
       "    </tr>\n",
       "    <tr>\n",
       "      <td>mean</td>\n",
       "      <td>3726.794843</td>\n",
       "    </tr>\n",
       "    <tr>\n",
       "      <td>std</td>\n",
       "      <td>10335.253773</td>\n",
       "    </tr>\n",
       "    <tr>\n",
       "      <td>min</td>\n",
       "      <td>640.000000</td>\n",
       "    </tr>\n",
       "    <tr>\n",
       "      <td>25%</td>\n",
       "      <td>1907.000000</td>\n",
       "    </tr>\n",
       "    <tr>\n",
       "      <td>50%</td>\n",
       "      <td>2501.000000</td>\n",
       "    </tr>\n",
       "    <tr>\n",
       "      <td>75%</td>\n",
       "      <td>3662.000000</td>\n",
       "    </tr>\n",
       "    <tr>\n",
       "      <td>max</td>\n",
       "      <td>99324.000000</td>\n",
       "    </tr>\n",
       "  </tbody>\n",
       "</table>\n",
       "</div>"
      ],
      "text/plain": [
       "              app_id\n",
       "count  141813.000000\n",
       "mean     3726.794843\n",
       "std     10335.253773\n",
       "min       640.000000\n",
       "25%      1907.000000\n",
       "50%      2501.000000\n",
       "75%      3662.000000\n",
       "max     99324.000000"
      ]
     },
     "execution_count": 7,
     "metadata": {},
     "output_type": "execute_result"
    }
   ],
   "source": [
    "SERVER_APP.describe()"
   ]
  },
  {
   "cell_type": "code",
   "execution_count": 8,
   "metadata": {},
   "outputs": [
    {
     "data": {
      "text/html": [
       "<div>\n",
       "<style scoped>\n",
       "    .dataframe tbody tr th:only-of-type {\n",
       "        vertical-align: middle;\n",
       "    }\n",
       "\n",
       "    .dataframe tbody tr th {\n",
       "        vertical-align: top;\n",
       "    }\n",
       "\n",
       "    .dataframe thead th {\n",
       "        text-align: right;\n",
       "    }\n",
       "</style>\n",
       "<table border=\"1\" class=\"dataframe\">\n",
       "  <thead>\n",
       "    <tr style=\"text-align: right;\">\n",
       "      <th></th>\n",
       "      <th>LUN ID</th>\n",
       "      <th>LUN Total Capacity</th>\n",
       "      <th>LUN Estimated USED</th>\n",
       "      <th>Pool ID</th>\n",
       "      <th>Pool Raw Capcity</th>\n",
       "      <th>Pool Used Capcity</th>\n",
       "      <th>Pool User Capcity</th>\n",
       "      <th>Pool Subscribed Capcity</th>\n",
       "      <th>Storage Array ID</th>\n",
       "      <th>Storage Array Capcity</th>\n",
       "      <th>Storage Array Allocated</th>\n",
       "      <th>Storage Array Available</th>\n",
       "      <th>Storage Array Raw Capcity</th>\n",
       "      <th>Storage Array Raw Allocated</th>\n",
       "      <th>Storage Array Raw Available</th>\n",
       "    </tr>\n",
       "  </thead>\n",
       "  <tbody>\n",
       "    <tr>\n",
       "      <td>count</td>\n",
       "      <td>236173.000000</td>\n",
       "      <td>236173.0</td>\n",
       "      <td>236173.0</td>\n",
       "      <td>236173.000000</td>\n",
       "      <td>236173.0</td>\n",
       "      <td>236173.0</td>\n",
       "      <td>236173.0</td>\n",
       "      <td>2.361730e+05</td>\n",
       "      <td>236173.000000</td>\n",
       "      <td>236173.0</td>\n",
       "      <td>236173.0</td>\n",
       "      <td>236173.0</td>\n",
       "      <td>236173.0</td>\n",
       "      <td>236173.0</td>\n",
       "      <td>2.361730e+05</td>\n",
       "    </tr>\n",
       "    <tr>\n",
       "      <td>mean</td>\n",
       "      <td>169059.940611</td>\n",
       "      <td>10.0</td>\n",
       "      <td>5.0</td>\n",
       "      <td>50618.938926</td>\n",
       "      <td>300.0</td>\n",
       "      <td>100.0</td>\n",
       "      <td>50.0</td>\n",
       "      <td>2.415871e+03</td>\n",
       "      <td>50555.131052</td>\n",
       "      <td>1000.0</td>\n",
       "      <td>1000.0</td>\n",
       "      <td>1000.0</td>\n",
       "      <td>1000.0</td>\n",
       "      <td>1000.0</td>\n",
       "      <td>3.624956e+09</td>\n",
       "    </tr>\n",
       "    <tr>\n",
       "      <td>std</td>\n",
       "      <td>69670.836717</td>\n",
       "      <td>0.0</td>\n",
       "      <td>0.0</td>\n",
       "      <td>23929.581069</td>\n",
       "      <td>0.0</td>\n",
       "      <td>0.0</td>\n",
       "      <td>0.0</td>\n",
       "      <td>1.174056e+06</td>\n",
       "      <td>23899.260471</td>\n",
       "      <td>0.0</td>\n",
       "      <td>0.0</td>\n",
       "      <td>0.0</td>\n",
       "      <td>0.0</td>\n",
       "      <td>0.0</td>\n",
       "      <td>1.113894e+10</td>\n",
       "    </tr>\n",
       "    <tr>\n",
       "      <td>min</td>\n",
       "      <td>61888.000000</td>\n",
       "      <td>10.0</td>\n",
       "      <td>5.0</td>\n",
       "      <td>0.000000</td>\n",
       "      <td>300.0</td>\n",
       "      <td>100.0</td>\n",
       "      <td>50.0</td>\n",
       "      <td>0.000000e+00</td>\n",
       "      <td>0.000000</td>\n",
       "      <td>1000.0</td>\n",
       "      <td>1000.0</td>\n",
       "      <td>1000.0</td>\n",
       "      <td>1000.0</td>\n",
       "      <td>1000.0</td>\n",
       "      <td>1.000000e+01</td>\n",
       "    </tr>\n",
       "    <tr>\n",
       "      <td>25%</td>\n",
       "      <td>109760.000000</td>\n",
       "      <td>10.0</td>\n",
       "      <td>5.0</td>\n",
       "      <td>61837.000000</td>\n",
       "      <td>300.0</td>\n",
       "      <td>100.0</td>\n",
       "      <td>50.0</td>\n",
       "      <td>0.000000e+00</td>\n",
       "      <td>61818.000000</td>\n",
       "      <td>1000.0</td>\n",
       "      <td>1000.0</td>\n",
       "      <td>1000.0</td>\n",
       "      <td>1000.0</td>\n",
       "      <td>1000.0</td>\n",
       "      <td>1.000000e+01</td>\n",
       "    </tr>\n",
       "    <tr>\n",
       "      <td>50%</td>\n",
       "      <td>166420.000000</td>\n",
       "      <td>10.0</td>\n",
       "      <td>5.0</td>\n",
       "      <td>61928.000000</td>\n",
       "      <td>300.0</td>\n",
       "      <td>100.0</td>\n",
       "      <td>50.0</td>\n",
       "      <td>0.000000e+00</td>\n",
       "      <td>61858.000000</td>\n",
       "      <td>1000.0</td>\n",
       "      <td>1000.0</td>\n",
       "      <td>1000.0</td>\n",
       "      <td>1000.0</td>\n",
       "      <td>1000.0</td>\n",
       "      <td>1.000000e+01</td>\n",
       "    </tr>\n",
       "    <tr>\n",
       "      <td>75%</td>\n",
       "      <td>210127.000000</td>\n",
       "      <td>10.0</td>\n",
       "      <td>5.0</td>\n",
       "      <td>61939.000000</td>\n",
       "      <td>300.0</td>\n",
       "      <td>100.0</td>\n",
       "      <td>50.0</td>\n",
       "      <td>0.000000e+00</td>\n",
       "      <td>61862.000000</td>\n",
       "      <td>1000.0</td>\n",
       "      <td>1000.0</td>\n",
       "      <td>1000.0</td>\n",
       "      <td>1000.0</td>\n",
       "      <td>1000.0</td>\n",
       "      <td>1.000000e+01</td>\n",
       "    </tr>\n",
       "    <tr>\n",
       "      <td>max</td>\n",
       "      <td>305066.000000</td>\n",
       "      <td>10.0</td>\n",
       "      <td>5.0</td>\n",
       "      <td>62336.000000</td>\n",
       "      <td>300.0</td>\n",
       "      <td>100.0</td>\n",
       "      <td>50.0</td>\n",
       "      <td>5.705635e+08</td>\n",
       "      <td>61923.000000</td>\n",
       "      <td>1000.0</td>\n",
       "      <td>1000.0</td>\n",
       "      <td>1000.0</td>\n",
       "      <td>1000.0</td>\n",
       "      <td>1000.0</td>\n",
       "      <td>7.601400e+10</td>\n",
       "    </tr>\n",
       "  </tbody>\n",
       "</table>\n",
       "</div>"
      ],
      "text/plain": [
       "              LUN ID  LUN Total Capacity  LUN Estimated USED        Pool ID  \\\n",
       "count  236173.000000            236173.0            236173.0  236173.000000   \n",
       "mean   169059.940611                10.0                 5.0   50618.938926   \n",
       "std     69670.836717                 0.0                 0.0   23929.581069   \n",
       "min     61888.000000                10.0                 5.0       0.000000   \n",
       "25%    109760.000000                10.0                 5.0   61837.000000   \n",
       "50%    166420.000000                10.0                 5.0   61928.000000   \n",
       "75%    210127.000000                10.0                 5.0   61939.000000   \n",
       "max    305066.000000                10.0                 5.0   62336.000000   \n",
       "\n",
       "       Pool Raw Capcity  Pool Used Capcity  Pool User Capcity  \\\n",
       "count          236173.0           236173.0           236173.0   \n",
       "mean              300.0              100.0               50.0   \n",
       "std                 0.0                0.0                0.0   \n",
       "min               300.0              100.0               50.0   \n",
       "25%               300.0              100.0               50.0   \n",
       "50%               300.0              100.0               50.0   \n",
       "75%               300.0              100.0               50.0   \n",
       "max               300.0              100.0               50.0   \n",
       "\n",
       "       Pool Subscribed Capcity  Storage Array ID  Storage Array Capcity  \\\n",
       "count             2.361730e+05     236173.000000               236173.0   \n",
       "mean              2.415871e+03      50555.131052                 1000.0   \n",
       "std               1.174056e+06      23899.260471                    0.0   \n",
       "min               0.000000e+00          0.000000                 1000.0   \n",
       "25%               0.000000e+00      61818.000000                 1000.0   \n",
       "50%               0.000000e+00      61858.000000                 1000.0   \n",
       "75%               0.000000e+00      61862.000000                 1000.0   \n",
       "max               5.705635e+08      61923.000000                 1000.0   \n",
       "\n",
       "       Storage Array Allocated  Storage Array Available  \\\n",
       "count                 236173.0                 236173.0   \n",
       "mean                    1000.0                   1000.0   \n",
       "std                        0.0                      0.0   \n",
       "min                     1000.0                   1000.0   \n",
       "25%                     1000.0                   1000.0   \n",
       "50%                     1000.0                   1000.0   \n",
       "75%                     1000.0                   1000.0   \n",
       "max                     1000.0                   1000.0   \n",
       "\n",
       "       Storage Array Raw Capcity  Storage Array Raw Allocated  \\\n",
       "count                   236173.0                     236173.0   \n",
       "mean                      1000.0                       1000.0   \n",
       "std                          0.0                          0.0   \n",
       "min                       1000.0                       1000.0   \n",
       "25%                       1000.0                       1000.0   \n",
       "50%                       1000.0                       1000.0   \n",
       "75%                       1000.0                       1000.0   \n",
       "max                       1000.0                       1000.0   \n",
       "\n",
       "       Storage Array Raw Available  \n",
       "count                 2.361730e+05  \n",
       "mean                  3.624956e+09  \n",
       "std                   1.113894e+10  \n",
       "min                   1.000000e+01  \n",
       "25%                   1.000000e+01  \n",
       "50%                   1.000000e+01  \n",
       "75%                   1.000000e+01  \n",
       "max                   7.601400e+10  "
      ]
     },
     "execution_count": 8,
     "metadata": {},
     "output_type": "execute_result"
    }
   ],
   "source": [
    "LUN.describe()"
   ]
  },
  {
   "cell_type": "code",
   "execution_count": 9,
   "metadata": {},
   "outputs": [
    {
     "data": {
      "text/html": [
       "<div>\n",
       "<style scoped>\n",
       "    .dataframe tbody tr th:only-of-type {\n",
       "        vertical-align: middle;\n",
       "    }\n",
       "\n",
       "    .dataframe tbody tr th {\n",
       "        vertical-align: top;\n",
       "    }\n",
       "\n",
       "    .dataframe thead th {\n",
       "        text-align: right;\n",
       "    }\n",
       "</style>\n",
       "<table border=\"1\" class=\"dataframe\">\n",
       "  <thead>\n",
       "    <tr style=\"text-align: right;\">\n",
       "      <th></th>\n",
       "      <th>APP ID</th>\n",
       "      <th>Tier</th>\n",
       "      <th>Id</th>\n",
       "    </tr>\n",
       "  </thead>\n",
       "  <tbody>\n",
       "    <tr>\n",
       "      <td>count</td>\n",
       "      <td>852.000000</td>\n",
       "      <td>852.000000</td>\n",
       "      <td>852.000000</td>\n",
       "    </tr>\n",
       "    <tr>\n",
       "      <td>mean</td>\n",
       "      <td>2297.335681</td>\n",
       "      <td>1.038732</td>\n",
       "      <td>600.584507</td>\n",
       "    </tr>\n",
       "    <tr>\n",
       "      <td>std</td>\n",
       "      <td>994.416535</td>\n",
       "      <td>0.999249</td>\n",
       "      <td>249.915847</td>\n",
       "    </tr>\n",
       "    <tr>\n",
       "      <td>min</td>\n",
       "      <td>631.000000</td>\n",
       "      <td>0.000000</td>\n",
       "      <td>256.000000</td>\n",
       "    </tr>\n",
       "    <tr>\n",
       "      <td>25%</td>\n",
       "      <td>1528.750000</td>\n",
       "      <td>0.000000</td>\n",
       "      <td>351.750000</td>\n",
       "    </tr>\n",
       "    <tr>\n",
       "      <td>50%</td>\n",
       "      <td>2066.500000</td>\n",
       "      <td>1.000000</td>\n",
       "      <td>551.000000</td>\n",
       "    </tr>\n",
       "    <tr>\n",
       "      <td>75%</td>\n",
       "      <td>3210.250000</td>\n",
       "      <td>2.000000</td>\n",
       "      <td>822.250000</td>\n",
       "    </tr>\n",
       "    <tr>\n",
       "      <td>max</td>\n",
       "      <td>4155.000000</td>\n",
       "      <td>9.000000</td>\n",
       "      <td>1011.000000</td>\n",
       "    </tr>\n",
       "  </tbody>\n",
       "</table>\n",
       "</div>"
      ],
      "text/plain": [
       "            APP ID        Tier           Id\n",
       "count   852.000000  852.000000   852.000000\n",
       "mean   2297.335681    1.038732   600.584507\n",
       "std     994.416535    0.999249   249.915847\n",
       "min     631.000000    0.000000   256.000000\n",
       "25%    1528.750000    0.000000   351.750000\n",
       "50%    2066.500000    1.000000   551.000000\n",
       "75%    3210.250000    2.000000   822.250000\n",
       "max    4155.000000    9.000000  1011.000000"
      ]
     },
     "execution_count": 9,
     "metadata": {},
     "output_type": "execute_result"
    }
   ],
   "source": [
    "APP_SERVICE.describe()"
   ]
  },
  {
   "cell_type": "code",
   "execution_count": 10,
   "metadata": {},
   "outputs": [
    {
     "data": {
      "text/html": [
       "<div>\n",
       "<style scoped>\n",
       "    .dataframe tbody tr th:only-of-type {\n",
       "        vertical-align: middle;\n",
       "    }\n",
       "\n",
       "    .dataframe tbody tr th {\n",
       "        vertical-align: top;\n",
       "    }\n",
       "\n",
       "    .dataframe thead th {\n",
       "        text-align: right;\n",
       "    }\n",
       "</style>\n",
       "<table border=\"1\" class=\"dataframe\">\n",
       "  <thead>\n",
       "    <tr style=\"text-align: right;\">\n",
       "      <th></th>\n",
       "      <th>5149</th>\n",
       "      <th>3552</th>\n",
       "    </tr>\n",
       "  </thead>\n",
       "  <tbody>\n",
       "    <tr>\n",
       "      <td>count</td>\n",
       "      <td>299.000000</td>\n",
       "      <td>299.000000</td>\n",
       "    </tr>\n",
       "    <tr>\n",
       "      <td>mean</td>\n",
       "      <td>5696.247492</td>\n",
       "      <td>5800.183946</td>\n",
       "    </tr>\n",
       "    <tr>\n",
       "      <td>std</td>\n",
       "      <td>2688.585826</td>\n",
       "      <td>2579.236171</td>\n",
       "    </tr>\n",
       "    <tr>\n",
       "      <td>min</td>\n",
       "      <td>1125.000000</td>\n",
       "      <td>1125.000000</td>\n",
       "    </tr>\n",
       "    <tr>\n",
       "      <td>25%</td>\n",
       "      <td>2988.000000</td>\n",
       "      <td>3622.500000</td>\n",
       "    </tr>\n",
       "    <tr>\n",
       "      <td>50%</td>\n",
       "      <td>6042.000000</td>\n",
       "      <td>6112.000000</td>\n",
       "    </tr>\n",
       "    <tr>\n",
       "      <td>75%</td>\n",
       "      <td>8050.000000</td>\n",
       "      <td>7908.000000</td>\n",
       "    </tr>\n",
       "    <tr>\n",
       "      <td>max</td>\n",
       "      <td>9998.000000</td>\n",
       "      <td>9998.000000</td>\n",
       "    </tr>\n",
       "  </tbody>\n",
       "</table>\n",
       "</div>"
      ],
      "text/plain": [
       "              5149         3552\n",
       "count   299.000000   299.000000\n",
       "mean   5696.247492  5800.183946\n",
       "std    2688.585826  2579.236171\n",
       "min    1125.000000  1125.000000\n",
       "25%    2988.000000  3622.500000\n",
       "50%    6042.000000  6112.000000\n",
       "75%    8050.000000  7908.000000\n",
       "max    9998.000000  9998.000000"
      ]
     },
     "execution_count": 10,
     "metadata": {},
     "output_type": "execute_result"
    }
   ],
   "source": [
    "APP_APP.describe()"
   ]
  },
  {
   "cell_type": "code",
   "execution_count": 11,
   "metadata": {},
   "outputs": [
    {
     "data": {
      "text/html": [
       "<div>\n",
       "<style scoped>\n",
       "    .dataframe tbody tr th:only-of-type {\n",
       "        vertical-align: middle;\n",
       "    }\n",
       "\n",
       "    .dataframe tbody tr th {\n",
       "        vertical-align: top;\n",
       "    }\n",
       "\n",
       "    .dataframe thead th {\n",
       "        text-align: right;\n",
       "    }\n",
       "</style>\n",
       "<table border=\"1\" class=\"dataframe\">\n",
       "  <thead>\n",
       "    <tr style=\"text-align: right;\">\n",
       "      <th></th>\n",
       "      <th>WARNID</th>\n",
       "      <th>EVENT_TYPE</th>\n",
       "      <th>APP ID</th>\n",
       "    </tr>\n",
       "  </thead>\n",
       "  <tbody>\n",
       "    <tr>\n",
       "      <td>0</td>\n",
       "      <td>2000001</td>\n",
       "      <td>9</td>\n",
       "      <td>3595</td>\n",
       "    </tr>\n",
       "    <tr>\n",
       "      <td>1</td>\n",
       "      <td>2000002</td>\n",
       "      <td>4</td>\n",
       "      <td>3596</td>\n",
       "    </tr>\n",
       "    <tr>\n",
       "      <td>2</td>\n",
       "      <td>2000003</td>\n",
       "      <td>6</td>\n",
       "      <td>3268</td>\n",
       "    </tr>\n",
       "    <tr>\n",
       "      <td>3</td>\n",
       "      <td>2000004</td>\n",
       "      <td>6</td>\n",
       "      <td>1907</td>\n",
       "    </tr>\n",
       "    <tr>\n",
       "      <td>4</td>\n",
       "      <td>2000005</td>\n",
       "      <td>6</td>\n",
       "      <td>1915</td>\n",
       "    </tr>\n",
       "  </tbody>\n",
       "</table>\n",
       "</div>"
      ],
      "text/plain": [
       "    WARNID  EVENT_TYPE  APP ID\n",
       "0  2000001           9    3595\n",
       "1  2000002           4    3596\n",
       "2  2000003           6    3268\n",
       "3  2000004           6    1907\n",
       "4  2000005           6    1915"
      ]
     },
     "execution_count": 11,
     "metadata": {},
     "output_type": "execute_result"
    }
   ],
   "source": [
    "warnings.head()"
   ]
  },
  {
   "cell_type": "code",
   "execution_count": 12,
   "metadata": {},
   "outputs": [
    {
     "data": {
      "text/html": [
       "<div>\n",
       "<style scoped>\n",
       "    .dataframe tbody tr th:only-of-type {\n",
       "        vertical-align: middle;\n",
       "    }\n",
       "\n",
       "    .dataframe tbody tr th {\n",
       "        vertical-align: top;\n",
       "    }\n",
       "\n",
       "    .dataframe thead th {\n",
       "        text-align: right;\n",
       "    }\n",
       "</style>\n",
       "<table border=\"1\" class=\"dataframe\">\n",
       "  <thead>\n",
       "    <tr style=\"text-align: right;\">\n",
       "      <th></th>\n",
       "      <th>Host</th>\n",
       "      <th>HOST_NAME</th>\n",
       "      <th>SWITCH_ID</th>\n",
       "      <th>SWITCH_NAME</th>\n",
       "      <th>STORAGE_ARRAY_ID</th>\n",
       "    </tr>\n",
       "  </thead>\n",
       "  <tbody>\n",
       "    <tr>\n",
       "      <td>0</td>\n",
       "      <td>SL55PTDB1P11</td>\n",
       "      <td>HOSTNAME01</td>\n",
       "      <td>61847</td>\n",
       "      <td>SWITCHNAME01</td>\n",
       "      <td>61810</td>\n",
       "    </tr>\n",
       "    <tr>\n",
       "      <td>1</td>\n",
       "      <td>SL55PTDB1P12</td>\n",
       "      <td>HOSTNAME02</td>\n",
       "      <td>61847</td>\n",
       "      <td>SWITCHNAME02</td>\n",
       "      <td>61810</td>\n",
       "    </tr>\n",
       "    <tr>\n",
       "      <td>2</td>\n",
       "      <td>SL55TAASDBP10</td>\n",
       "      <td>HOSTNAME03</td>\n",
       "      <td>61847</td>\n",
       "      <td>SWITCHNAME03</td>\n",
       "      <td>61810</td>\n",
       "    </tr>\n",
       "    <tr>\n",
       "      <td>3</td>\n",
       "      <td>SL55MAPAYDB1P01</td>\n",
       "      <td>HOSTNAME04</td>\n",
       "      <td>61847</td>\n",
       "      <td>SWITCHNAME04</td>\n",
       "      <td>61810</td>\n",
       "    </tr>\n",
       "    <tr>\n",
       "      <td>4</td>\n",
       "      <td>SL55PTDB1P10</td>\n",
       "      <td>HOSTNAME05</td>\n",
       "      <td>61847</td>\n",
       "      <td>SWITCHNAME05</td>\n",
       "      <td>61810</td>\n",
       "    </tr>\n",
       "  </tbody>\n",
       "</table>\n",
       "</div>"
      ],
      "text/plain": [
       "              Host   HOST_NAME  SWITCH_ID   SWITCH_NAME  STORAGE_ARRAY_ID\n",
       "0     SL55PTDB1P11  HOSTNAME01      61847  SWITCHNAME01             61810\n",
       "1     SL55PTDB1P12  HOSTNAME02      61847  SWITCHNAME02             61810\n",
       "2    SL55TAASDBP10  HOSTNAME03      61847  SWITCHNAME03             61810\n",
       "3  SL55MAPAYDB1P01  HOSTNAME04      61847  SWITCHNAME04             61810\n",
       "4     SL55PTDB1P10  HOSTNAME05      61847  SWITCHNAME05             61810"
      ]
     },
     "execution_count": 12,
     "metadata": {},
     "output_type": "execute_result"
    }
   ],
   "source": [
    "SWITCH.head()"
   ]
  },
  {
   "cell_type": "code",
   "execution_count": null,
   "metadata": {},
   "outputs": [],
   "source": []
  },
  {
   "cell_type": "code",
   "execution_count": 13,
   "metadata": {},
   "outputs": [
    {
     "data": {
      "text/html": [
       "<div>\n",
       "<style scoped>\n",
       "    .dataframe tbody tr th:only-of-type {\n",
       "        vertical-align: middle;\n",
       "    }\n",
       "\n",
       "    .dataframe tbody tr th {\n",
       "        vertical-align: top;\n",
       "    }\n",
       "\n",
       "    .dataframe thead th {\n",
       "        text-align: right;\n",
       "    }\n",
       "</style>\n",
       "<table border=\"1\" class=\"dataframe\">\n",
       "  <thead>\n",
       "    <tr style=\"text-align: right;\">\n",
       "      <th></th>\n",
       "      <th>Id</th>\n",
       "      <th>SERVICE Name</th>\n",
       "      <th>SERVICE Owner</th>\n",
       "    </tr>\n",
       "  </thead>\n",
       "  <tbody>\n",
       "    <tr>\n",
       "      <td>0</td>\n",
       "      <td>256</td>\n",
       "      <td>SERVICENAME01</td>\n",
       "      <td>Raymond Constantino</td>\n",
       "    </tr>\n",
       "    <tr>\n",
       "      <td>1</td>\n",
       "      <td>257</td>\n",
       "      <td>SERVICENAME02</td>\n",
       "      <td>Tony Gates</td>\n",
       "    </tr>\n",
       "    <tr>\n",
       "      <td>2</td>\n",
       "      <td>259</td>\n",
       "      <td>SERVICENAME03</td>\n",
       "      <td>Tony Gates</td>\n",
       "    </tr>\n",
       "    <tr>\n",
       "      <td>3</td>\n",
       "      <td>260</td>\n",
       "      <td>SERVICENAME04</td>\n",
       "      <td>Roger Totten</td>\n",
       "    </tr>\n",
       "    <tr>\n",
       "      <td>4</td>\n",
       "      <td>261</td>\n",
       "      <td>SERVICENAME05</td>\n",
       "      <td>Margaret Weiss</td>\n",
       "    </tr>\n",
       "  </tbody>\n",
       "</table>\n",
       "</div>"
      ],
      "text/plain": [
       "    Id   SERVICE Name        SERVICE Owner\n",
       "0  256  SERVICENAME01  Raymond Constantino\n",
       "1  257  SERVICENAME02           Tony Gates\n",
       "2  259  SERVICENAME03           Tony Gates\n",
       "3  260  SERVICENAME04         Roger Totten\n",
       "4  261  SERVICENAME05       Margaret Weiss"
      ]
     },
     "execution_count": 13,
     "metadata": {},
     "output_type": "execute_result"
    }
   ],
   "source": [
    "SERVICE_MANAGER.head()"
   ]
  },
  {
   "cell_type": "code",
   "execution_count": 14,
   "metadata": {},
   "outputs": [
    {
     "data": {
      "text/html": [
       "<div>\n",
       "<style scoped>\n",
       "    .dataframe tbody tr th:only-of-type {\n",
       "        vertical-align: middle;\n",
       "    }\n",
       "\n",
       "    .dataframe tbody tr th {\n",
       "        vertical-align: top;\n",
       "    }\n",
       "\n",
       "    .dataframe thead th {\n",
       "        text-align: right;\n",
       "    }\n",
       "</style>\n",
       "<table border=\"1\" class=\"dataframe\">\n",
       "  <thead>\n",
       "    <tr style=\"text-align: right;\">\n",
       "      <th></th>\n",
       "      <th>hoZt_name</th>\n",
       "      <th>status</th>\n",
       "      <th>app_id</th>\n",
       "      <th>app_name</th>\n",
       "    </tr>\n",
       "  </thead>\n",
       "  <tbody>\n",
       "    <tr>\n",
       "      <td>0</td>\n",
       "      <td>ZT55VCPZAPD942</td>\n",
       "      <td>End of Life</td>\n",
       "      <td>3692</td>\n",
       "      <td>APPNAME01</td>\n",
       "    </tr>\n",
       "    <tr>\n",
       "      <td>1</td>\n",
       "      <td>ZT55CWGWBD11</td>\n",
       "      <td>End of Life</td>\n",
       "      <td>2871</td>\n",
       "      <td>APPNAME02</td>\n",
       "    </tr>\n",
       "    <tr>\n",
       "      <td>2</td>\n",
       "      <td>ZW461TAQA105</td>\n",
       "      <td>Deployed</td>\n",
       "      <td>2050</td>\n",
       "      <td>APPNAME03</td>\n",
       "    </tr>\n",
       "    <tr>\n",
       "      <td>3</td>\n",
       "      <td>ZW461TAQA90</td>\n",
       "      <td>Deployed</td>\n",
       "      <td>2050</td>\n",
       "      <td>APPNAME04</td>\n",
       "    </tr>\n",
       "    <tr>\n",
       "      <td>4</td>\n",
       "      <td>ZT55VCPZDBD886</td>\n",
       "      <td>End of Life</td>\n",
       "      <td>3692</td>\n",
       "      <td>APPNAME05</td>\n",
       "    </tr>\n",
       "  </tbody>\n",
       "</table>\n",
       "</div>"
      ],
      "text/plain": [
       "        hoZt_name       status  app_id   app_name\n",
       "0  ZT55VCPZAPD942  End of Life    3692  APPNAME01\n",
       "1    ZT55CWGWBD11  End of Life    2871  APPNAME02\n",
       "2    ZW461TAQA105     Deployed    2050  APPNAME03\n",
       "3     ZW461TAQA90     Deployed    2050  APPNAME04\n",
       "4  ZT55VCPZDBD886  End of Life    3692  APPNAME05"
      ]
     },
     "execution_count": 14,
     "metadata": {},
     "output_type": "execute_result"
    }
   ],
   "source": [
    "SERVER_APP.head()"
   ]
  },
  {
   "cell_type": "code",
   "execution_count": 15,
   "metadata": {},
   "outputs": [
    {
     "data": {
      "text/html": [
       "<div>\n",
       "<style scoped>\n",
       "    .dataframe tbody tr th:only-of-type {\n",
       "        vertical-align: middle;\n",
       "    }\n",
       "\n",
       "    .dataframe tbody tr th {\n",
       "        vertical-align: top;\n",
       "    }\n",
       "\n",
       "    .dataframe thead th {\n",
       "        text-align: right;\n",
       "    }\n",
       "</style>\n",
       "<table border=\"1\" class=\"dataframe\">\n",
       "  <thead>\n",
       "    <tr style=\"text-align: right;\">\n",
       "      <th></th>\n",
       "      <th>APP ID</th>\n",
       "      <th>Short Name</th>\n",
       "      <th>Tier</th>\n",
       "      <th>Id</th>\n",
       "      <th>SERVICE NAME</th>\n",
       "    </tr>\n",
       "  </thead>\n",
       "  <tbody>\n",
       "    <tr>\n",
       "      <td>0</td>\n",
       "      <td>3595</td>\n",
       "      <td>SN01</td>\n",
       "      <td>0</td>\n",
       "      <td>256</td>\n",
       "      <td>SERVICENAME01</td>\n",
       "    </tr>\n",
       "    <tr>\n",
       "      <td>1</td>\n",
       "      <td>3596</td>\n",
       "      <td>SN02</td>\n",
       "      <td>0</td>\n",
       "      <td>256</td>\n",
       "      <td>SERVICENAME02</td>\n",
       "    </tr>\n",
       "    <tr>\n",
       "      <td>2</td>\n",
       "      <td>3268</td>\n",
       "      <td>SN03</td>\n",
       "      <td>0</td>\n",
       "      <td>257</td>\n",
       "      <td>SERVICENAME03</td>\n",
       "    </tr>\n",
       "    <tr>\n",
       "      <td>3</td>\n",
       "      <td>1907</td>\n",
       "      <td>SN04</td>\n",
       "      <td>0</td>\n",
       "      <td>259</td>\n",
       "      <td>SERVICENAME04</td>\n",
       "    </tr>\n",
       "    <tr>\n",
       "      <td>4</td>\n",
       "      <td>1915</td>\n",
       "      <td>SN05</td>\n",
       "      <td>0</td>\n",
       "      <td>259</td>\n",
       "      <td>SERVICENAME05</td>\n",
       "    </tr>\n",
       "  </tbody>\n",
       "</table>\n",
       "</div>"
      ],
      "text/plain": [
       "   APP ID Short Name  Tier   Id   SERVICE NAME\n",
       "0    3595       SN01     0  256  SERVICENAME01\n",
       "1    3596       SN02     0  256  SERVICENAME02\n",
       "2    3268       SN03     0  257  SERVICENAME03\n",
       "3    1907       SN04     0  259  SERVICENAME04\n",
       "4    1915       SN05     0  259  SERVICENAME05"
      ]
     },
     "execution_count": 15,
     "metadata": {},
     "output_type": "execute_result"
    }
   ],
   "source": [
    "APP_SERVICE.head()"
   ]
  },
  {
   "cell_type": "code",
   "execution_count": 16,
   "metadata": {},
   "outputs": [
    {
     "data": {
      "text/html": [
       "<div>\n",
       "<style scoped>\n",
       "    .dataframe tbody tr th:only-of-type {\n",
       "        vertical-align: middle;\n",
       "    }\n",
       "\n",
       "    .dataframe tbody tr th {\n",
       "        vertical-align: top;\n",
       "    }\n",
       "\n",
       "    .dataframe thead th {\n",
       "        text-align: right;\n",
       "    }\n",
       "</style>\n",
       "<table border=\"1\" class=\"dataframe\">\n",
       "  <thead>\n",
       "    <tr style=\"text-align: right;\">\n",
       "      <th></th>\n",
       "      <th>5149</th>\n",
       "      <th>3552</th>\n",
       "    </tr>\n",
       "  </thead>\n",
       "  <tbody>\n",
       "    <tr>\n",
       "      <td>0</td>\n",
       "      <td>7364</td>\n",
       "      <td>8419</td>\n",
       "    </tr>\n",
       "    <tr>\n",
       "      <td>1</td>\n",
       "      <td>9636</td>\n",
       "      <td>7364</td>\n",
       "    </tr>\n",
       "    <tr>\n",
       "      <td>2</td>\n",
       "      <td>7587</td>\n",
       "      <td>3357</td>\n",
       "    </tr>\n",
       "    <tr>\n",
       "      <td>3</td>\n",
       "      <td>9649</td>\n",
       "      <td>9952</td>\n",
       "    </tr>\n",
       "    <tr>\n",
       "      <td>4</td>\n",
       "      <td>6054</td>\n",
       "      <td>3674</td>\n",
       "    </tr>\n",
       "  </tbody>\n",
       "</table>\n",
       "</div>"
      ],
      "text/plain": [
       "   5149  3552\n",
       "0  7364  8419\n",
       "1  9636  7364\n",
       "2  7587  3357\n",
       "3  9649  9952\n",
       "4  6054  3674"
      ]
     },
     "execution_count": 16,
     "metadata": {},
     "output_type": "execute_result"
    }
   ],
   "source": [
    "APP_APP.head()"
   ]
  },
  {
   "cell_type": "code",
   "execution_count": 17,
   "metadata": {},
   "outputs": [
    {
     "data": {
      "text/html": [
       "<div>\n",
       "<style scoped>\n",
       "    .dataframe tbody tr th:only-of-type {\n",
       "        vertical-align: middle;\n",
       "    }\n",
       "\n",
       "    .dataframe tbody tr th {\n",
       "        vertical-align: top;\n",
       "    }\n",
       "\n",
       "    .dataframe thead th {\n",
       "        text-align: right;\n",
       "    }\n",
       "</style>\n",
       "<table border=\"1\" class=\"dataframe\">\n",
       "  <thead>\n",
       "    <tr style=\"text-align: right;\">\n",
       "      <th></th>\n",
       "      <th>LUN ID</th>\n",
       "      <th>LUN Name</th>\n",
       "      <th>LUN Total Capacity</th>\n",
       "      <th>LUN Estimated USED</th>\n",
       "      <th>Pool ID</th>\n",
       "      <th>Pool Name</th>\n",
       "      <th>Pool Raw Capcity</th>\n",
       "      <th>Pool Used Capcity</th>\n",
       "      <th>Pool User Capcity</th>\n",
       "      <th>Pool Subscribed Capcity</th>\n",
       "      <th>HoZt</th>\n",
       "      <th>HOST NAME</th>\n",
       "      <th>Storage Array ID</th>\n",
       "      <th>Array Name</th>\n",
       "      <th>Storage Array Capcity</th>\n",
       "      <th>Storage Array Allocated</th>\n",
       "      <th>Storage Array Available</th>\n",
       "      <th>Storage Array Raw Capcity</th>\n",
       "      <th>Storage Array Raw Allocated</th>\n",
       "      <th>Storage Array Raw Available</th>\n",
       "    </tr>\n",
       "  </thead>\n",
       "  <tbody>\n",
       "    <tr>\n",
       "      <td>0</td>\n",
       "      <td>61896</td>\n",
       "      <td>LUN01</td>\n",
       "      <td>10</td>\n",
       "      <td>5</td>\n",
       "      <td>61813</td>\n",
       "      <td>POOL01</td>\n",
       "      <td>300</td>\n",
       "      <td>100</td>\n",
       "      <td>50</td>\n",
       "      <td>0</td>\n",
       "      <td>ZT55PTDB1P11</td>\n",
       "      <td>HOSTNAME01</td>\n",
       "      <td>61810</td>\n",
       "      <td>ARRAY001</td>\n",
       "      <td>1000</td>\n",
       "      <td>1000</td>\n",
       "      <td>1000</td>\n",
       "      <td>1000</td>\n",
       "      <td>1000</td>\n",
       "      <td>10.0</td>\n",
       "    </tr>\n",
       "    <tr>\n",
       "      <td>1</td>\n",
       "      <td>61896</td>\n",
       "      <td>LUN02</td>\n",
       "      <td>10</td>\n",
       "      <td>5</td>\n",
       "      <td>61813</td>\n",
       "      <td>POOL02</td>\n",
       "      <td>300</td>\n",
       "      <td>100</td>\n",
       "      <td>50</td>\n",
       "      <td>0</td>\n",
       "      <td>ZT55PTDB1P12</td>\n",
       "      <td>HOSTNAME02</td>\n",
       "      <td>61810</td>\n",
       "      <td>ARRAY002</td>\n",
       "      <td>1000</td>\n",
       "      <td>1000</td>\n",
       "      <td>1000</td>\n",
       "      <td>1000</td>\n",
       "      <td>1000</td>\n",
       "      <td>10.0</td>\n",
       "    </tr>\n",
       "    <tr>\n",
       "      <td>2</td>\n",
       "      <td>62058</td>\n",
       "      <td>LUN03</td>\n",
       "      <td>10</td>\n",
       "      <td>5</td>\n",
       "      <td>61813</td>\n",
       "      <td>POOL03</td>\n",
       "      <td>300</td>\n",
       "      <td>100</td>\n",
       "      <td>50</td>\n",
       "      <td>0</td>\n",
       "      <td>ZT55TAAZDBP10</td>\n",
       "      <td>HOSTNAME03</td>\n",
       "      <td>61810</td>\n",
       "      <td>ARRAY003</td>\n",
       "      <td>1000</td>\n",
       "      <td>1000</td>\n",
       "      <td>1000</td>\n",
       "      <td>1000</td>\n",
       "      <td>1000</td>\n",
       "      <td>10.0</td>\n",
       "    </tr>\n",
       "    <tr>\n",
       "      <td>3</td>\n",
       "      <td>61945</td>\n",
       "      <td>LUN04</td>\n",
       "      <td>10</td>\n",
       "      <td>5</td>\n",
       "      <td>61813</td>\n",
       "      <td>POOL04</td>\n",
       "      <td>300</td>\n",
       "      <td>100</td>\n",
       "      <td>50</td>\n",
       "      <td>0</td>\n",
       "      <td>ZT55MAPAYDB1P01</td>\n",
       "      <td>HOSTNAME04</td>\n",
       "      <td>61810</td>\n",
       "      <td>ARRAY004</td>\n",
       "      <td>1000</td>\n",
       "      <td>1000</td>\n",
       "      <td>1000</td>\n",
       "      <td>1000</td>\n",
       "      <td>1000</td>\n",
       "      <td>10.0</td>\n",
       "    </tr>\n",
       "    <tr>\n",
       "      <td>4</td>\n",
       "      <td>61911</td>\n",
       "      <td>LUN05</td>\n",
       "      <td>10</td>\n",
       "      <td>5</td>\n",
       "      <td>61813</td>\n",
       "      <td>POOL05</td>\n",
       "      <td>300</td>\n",
       "      <td>100</td>\n",
       "      <td>50</td>\n",
       "      <td>0</td>\n",
       "      <td>ZT55PTDB1P10</td>\n",
       "      <td>HOSTNAME05</td>\n",
       "      <td>61810</td>\n",
       "      <td>ARRAY005</td>\n",
       "      <td>1000</td>\n",
       "      <td>1000</td>\n",
       "      <td>1000</td>\n",
       "      <td>1000</td>\n",
       "      <td>1000</td>\n",
       "      <td>10.0</td>\n",
       "    </tr>\n",
       "  </tbody>\n",
       "</table>\n",
       "</div>"
      ],
      "text/plain": [
       "   LUN ID LUN Name  LUN Total Capacity  LUN Estimated USED  Pool ID Pool Name  \\\n",
       "0   61896    LUN01                  10                   5    61813    POOL01   \n",
       "1   61896    LUN02                  10                   5    61813    POOL02   \n",
       "2   62058    LUN03                  10                   5    61813    POOL03   \n",
       "3   61945    LUN04                  10                   5    61813    POOL04   \n",
       "4   61911    LUN05                  10                   5    61813    POOL05   \n",
       "\n",
       "   Pool Raw Capcity  Pool Used Capcity  Pool User Capcity  \\\n",
       "0               300                100                 50   \n",
       "1               300                100                 50   \n",
       "2               300                100                 50   \n",
       "3               300                100                 50   \n",
       "4               300                100                 50   \n",
       "\n",
       "   Pool Subscribed Capcity             HoZt   HOST NAME  Storage Array ID  \\\n",
       "0                        0     ZT55PTDB1P11  HOSTNAME01             61810   \n",
       "1                        0     ZT55PTDB1P12  HOSTNAME02             61810   \n",
       "2                        0    ZT55TAAZDBP10  HOSTNAME03             61810   \n",
       "3                        0  ZT55MAPAYDB1P01  HOSTNAME04             61810   \n",
       "4                        0     ZT55PTDB1P10  HOSTNAME05             61810   \n",
       "\n",
       "  Array Name  Storage Array Capcity  Storage Array Allocated  \\\n",
       "0   ARRAY001                   1000                     1000   \n",
       "1   ARRAY002                   1000                     1000   \n",
       "2   ARRAY003                   1000                     1000   \n",
       "3   ARRAY004                   1000                     1000   \n",
       "4   ARRAY005                   1000                     1000   \n",
       "\n",
       "   Storage Array Available  Storage Array Raw Capcity  \\\n",
       "0                     1000                       1000   \n",
       "1                     1000                       1000   \n",
       "2                     1000                       1000   \n",
       "3                     1000                       1000   \n",
       "4                     1000                       1000   \n",
       "\n",
       "   Storage Array Raw Allocated  Storage Array Raw Available  \n",
       "0                         1000                         10.0  \n",
       "1                         1000                         10.0  \n",
       "2                         1000                         10.0  \n",
       "3                         1000                         10.0  \n",
       "4                         1000                         10.0  "
      ]
     },
     "execution_count": 17,
     "metadata": {},
     "output_type": "execute_result"
    }
   ],
   "source": [
    "LUN.head()"
   ]
  },
  {
   "cell_type": "code",
   "execution_count": 20,
   "metadata": {},
   "outputs": [
    {
     "data": {
      "text/plain": [
       "['LUN ID',\n",
       " 'LUN Name',\n",
       " 'LUN Total Capacity',\n",
       " 'LUN Estimated USED',\n",
       " 'Pool ID',\n",
       " 'Pool Name',\n",
       " 'Pool Raw Capcity',\n",
       " 'Pool Used Capcity',\n",
       " 'Pool User Capcity',\n",
       " 'Pool Subscribed Capcity',\n",
       " 'HoZt',\n",
       " 'HOST NAME',\n",
       " 'Storage Array ID',\n",
       " 'Array Name',\n",
       " 'Storage Array Capcity',\n",
       " 'Storage Array Allocated',\n",
       " 'Storage Array Available',\n",
       " 'Storage Array Raw Capcity',\n",
       " 'Storage Array Raw Allocated',\n",
       " 'Storage Array Raw Available']"
      ]
     },
     "execution_count": 20,
     "metadata": {},
     "output_type": "execute_result"
    }
   ],
   "source": [
    "LUN.columns.tolist()"
   ]
  },
  {
   "cell_type": "code",
   "execution_count": 23,
   "metadata": {},
   "outputs": [],
   "source": [
    "\n",
    "#add column name to APP_APP\n",
    "#Apps can call on each other\n",
    "APP_APP.columns =['APP_ID','TOAPP_ID'] \n",
    "#update name so that they are consistent across the boarding\n",
    "warnings.columns = ['WARN_ID','EVENT_TYPE','APP_ID']\n",
    "SWITCH.columns = ['HOST','HOST_NAME','SWITCH_ID','SWITCH_NAME','STORAGE_ARRAY_ID']\n",
    "SERVICE_MANAGER.columns = ['SERVICE_MANAGER_ID','SERVICE_NAME','SERVICE_OWNER']\n",
    "SERVER_APP.columns = ['HOZT_NAME','STATUS','APP_ID','APP_NAME']\n",
    "APP_SERVICE.columns = ['APP_ID','SHORT_NAME','TIER','APP_SERVICE_ID','APP_SERVICE_NAME']\n",
    "LUN.columns = ['LUN_ID',\n",
    " 'LUN_NAME',\n",
    " 'LUN_TOTAL_CAPACITY',\n",
    " 'LUN_ESTIMATED_USED',\n",
    " 'POOL_ID',\n",
    " 'POOL_NAME',\n",
    " 'POOL_RAW_CAPACITY',\n",
    " 'POOL_USED_CAPACITY',\n",
    " 'POOL_USER_CAPACITY',\n",
    " 'POOL_SUBSCRIBED_CAPACITY',\n",
    " 'HOZT',\n",
    " 'HOST_NAME',\n",
    " 'STORAGE_ARRAY_ID',\n",
    " 'ARRAY_NAME',  \n",
    " 'STORAGE_ARRAY_Capcity',\n",
    " 'STORAGE_ARRAY_ALLOCATED',\n",
    " 'STORAGE_ARRAY_AVAILABLE',\n",
    " 'STORAGE_ARRAY_RAW_CAPACITY',\n",
    " 'STORAGE_ARRAY_RAW_ALLOCATED',\n",
    " 'STORAGE_ARRAY_RAW_AVAILABLE']"
   ]
  },
  {
   "cell_type": "markdown",
   "metadata": {},
   "source": [
    "## Visualizations"
   ]
  },
  {
   "cell_type": "code",
   "execution_count": 30,
   "metadata": {},
   "outputs": [
    {
     "data": {
      "application/vnd.plotly.v1+json": {
       "config": {
        "plotlyServerURL": "https://plot.ly"
       },
       "data": [
        {
         "alignmentgroup": "True",
         "hoverlabel": {
          "namelength": 0
         },
         "hovertemplate": "<b>%{hovertext}</b><br><br>SERVICE_OWNER=%{x}",
         "hovertext": [
          "Raymond Constantino",
          "Tony Gates",
          "Tony Gates",
          "Roger Totten",
          "Margaret Weiss",
          "Margaret Weiss",
          "Sybil Worrell",
          "Barbara Jones",
          "James Ashley",
          "James Ashley",
          "James Ashley",
          "Michelle Whitley",
          "Gladys Padgett",
          "Elizabeth Bailey",
          "Anthony Greenlee",
          "Donald Smith",
          "Donald Smith",
          "Donald Smith",
          "Donald Smith",
          "Donald Smith",
          "Donald Smith",
          "Donald Smith",
          "Donald Smith",
          "Ted Keller",
          "Matthew Cobb",
          "Mabel Runyon",
          "Dennis Armand",
          "Isaac Fleagle",
          "Isaac Fleagle",
          "Victoria Hapke",
          "Andrea Sacchetti",
          "Billie Miller",
          "Kandace Osuna",
          "Kandace Osuna",
          "Robert Olander",
          "Nicole Shiner",
          "Dorothy Lally",
          "Eric Staten",
          "Craig Monaghan",
          "Craig Monaghan",
          "Brian Edwards",
          "Eugene Downie",
          "Eugene Downie",
          "Sonia Johnson",
          "Carolyn Theis",
          "Pamela Sewell",
          "Pamela Sewell",
          "Jason Watts",
          "Jason Watts",
          "Jason Watts",
          "James Dixon",
          "James Dixon",
          "Sadie Oneal",
          "Richard Tate",
          "Richard Tate",
          "Patricia Evanich",
          "William Pearson",
          "Joseph Ewing",
          "James Ellis",
          "David Degaetano",
          "Jolene Mcconnell",
          "Lee Hunsaker",
          "Betty Booth",
          "Betty Booth",
          "Thomas Edmiston",
          "Bryan Koppenhaver",
          "Billie Baker",
          "Melissa Finneran",
          "Melissa Finneran",
          "Melissa Finneran",
          "Melissa Finneran",
          "Melissa Finneran",
          "Darryl Boger",
          "Maria Wangberg",
          "John Harris",
          "John Harris",
          "John Harris",
          "John Harris",
          "John Harris",
          "John Harris",
          "John Harris",
          "John Harris",
          "John Harris",
          "John Harris",
          "Shasta Carpenter",
          "Claudia Figueras",
          "Claudia Figueras",
          "Tom Rigel",
          "Tom Rigel",
          "Tom Rigel",
          "Birdie Talley",
          "Kenneth Calvert",
          "Manuel Amick",
          "Manuel Amick",
          "Mitchell Anderson",
          "Robert Cummings",
          "Dianna Espinosa",
          "Angela Hersh",
          "Mary Combest",
          "Aubrey Wilson",
          "Megan Zielinski",
          "Craig Jones",
          "Craig Jones",
          "Craig Jones",
          "James Mcglade",
          "Guy Rickenbacker",
          "Michelle Beezley",
          "Michelle Beezley",
          "Michelle Beezley",
          "Michelle Beezley",
          "Michelle Beezley",
          "Michelle Beezley",
          "Michelle Beezley",
          "Rose Abreu",
          "Rose Abreu",
          "Rose Abreu",
          "Rose Abreu",
          "Rose Abreu",
          "Rose Abreu",
          "Rose Abreu",
          "Rose Abreu",
          "Rose Abreu",
          "Rose Abreu",
          "Rose Abreu",
          "Rose Abreu",
          "Donna Turney",
          "Luis Reinkemeyer",
          "Luis Reinkemeyer",
          "Bertha Giese",
          "Bertha Giese",
          "Jorge Crow",
          "Elizabeth Mora",
          "Beth Alfaro",
          "Paula Logsdon",
          "Donna Goldstein",
          "Donna Goldstein",
          "Donna Goldstein",
          "Betty Richardson",
          "Betty Richardson",
          "Betty Richardson",
          "Betty Richardson",
          "Betty Richardson",
          "Betty Richardson",
          "Betty Richardson",
          "Betty Richardson",
          "Betty Richardson",
          "Betty Richardson",
          "Betty Richardson",
          "Betty Richardson",
          "Betty Richardson",
          "Betty Richardson",
          "Betty Richardson",
          "Betty Richardson",
          "Betty Richardson",
          "Betty Richardson",
          "William Sebek",
          "Patricia Ruth",
          "Colette Blackford",
          "Jose Quick",
          "Jose Quick",
          "Kenneth Kirk",
          "Joe Burkley",
          "Joe Burkley",
          "Dora Siever",
          "Dora Siever",
          "Donald Anderson",
          "Linda Tardif",
          "Linda Tardif",
          "Linda Tardif",
          "Linda Tardif",
          "Linda Tardif",
          "Linda Tardif",
          "Linda Tardif",
          "Linda Tardif",
          "Linda Tardif",
          "Linda Tardif",
          "Linda Tardif",
          "Linda Tardif",
          "Linda Tardif",
          "Linda Tardif",
          "Linda Tardif",
          "Linda Tardif",
          "Stacy Rodriquez",
          "Tracy Smith",
          "Ella Pickens",
          "Sam Woodworth",
          "Denise Xiong",
          "Denise Xiong",
          "Patricia Robinson",
          "Frank Stewart",
          "Frank Stewart",
          "Christopher Brady",
          "Alfred Ettienne",
          "Alfred Ettienne",
          "Christopher Robin",
          "George Mooneyhan",
          "Agripina Palka",
          "Raul Hassinger",
          "Michelle Carrington",
          "Michelle Carrington",
          "Michelle Carrington",
          "Michelle Carrington",
          "Michelle Carrington",
          "Michelle Carrington",
          "Michelle Carrington",
          "Michelle Carrington",
          "Michelle Carrington",
          "Michelle Carrington",
          "Jessica Cunningham",
          "Bryon Thornberry",
          "Bryon Thornberry",
          "William Cherry",
          "Anthony Herms",
          "Charles Stoner",
          "Maurice Galow",
          "Maurice Galow",
          "Jerry Guptill",
          "James Burton",
          "Stephen Batdorf",
          "Stephen Batdorf",
          "Stephen Batdorf",
          "Mark Smith",
          "Tammy Moses",
          "Tammy Moses",
          "Tammy Moses",
          "Tammy Moses",
          "Tammy Moses",
          "Tammy Moses",
          "Tammy Moses",
          "Tammy Moses",
          "Tammy Moses",
          "Tammy Moses",
          "Tammy Moses",
          "Tammy Moses",
          "Tammy Moses",
          "Tammy Moses",
          "Mary Taylor",
          "Shane Burke",
          "Shane Burke",
          "Shane Burke",
          "John Peeples",
          "Earl Harmon",
          "Earl Harmon",
          "Earl Harmon",
          "Earl Harmon",
          "Earl Harmon",
          "Earl Harmon",
          "Earl Harmon",
          "Earl Harmon",
          "Earl Harmon",
          "Earl Harmon",
          "Earl Harmon",
          "Earl Harmon",
          "Earl Harmon",
          "Earl Harmon",
          "Earl Harmon",
          "Earl Harmon",
          "Earl Harmon",
          "Earl Harmon",
          "Earl Harmon",
          "Earl Harmon",
          "Earl Harmon",
          "Blair Mckissick",
          "Everett Mcneill",
          "Everett Mcneill",
          "Everett Mcneill",
          "Everett Mcneill",
          "Everett Mcneill",
          "Everett Mcneill",
          "Everett Mcneill",
          "Everett Mcneill",
          "Everett Mcneill",
          "Everett Mcneill",
          "Everett Mcneill",
          "Everett Mcneill",
          "Everett Mcneill",
          "Everett Mcneill",
          "Everett Mcneill",
          "Everett Mcneill",
          "Everett Mcneill",
          "Everett Mcneill",
          "Everett Mcneill",
          "Everett Mcneill",
          "Everett Mcneill",
          "Everett Mcneill",
          "Everett Mcneill",
          "Everett Mcneill",
          "Everett Mcneill",
          "Everett Mcneill",
          "Everett Mcneill",
          "Everett Mcneill",
          "Everett Mcneill",
          "Everett Mcneill",
          "Everett Mcneill",
          "Everett Mcneill",
          "Everett Mcneill",
          "Everett Mcneill",
          "Everett Mcneill",
          "Everett Mcneill",
          "Everett Mcneill",
          "Everett Mcneill",
          "Everett Mcneill",
          "Everett Mcneill",
          "Everett Mcneill",
          "Everett Mcneill",
          "Everett Mcneill",
          "Everett Mcneill",
          "Maggie Wallace",
          "Victoria Mcintosh",
          "Victoria Mcintosh",
          "Victoria Mcintosh",
          "Victoria Mcintosh",
          "Victoria Mcintosh",
          "Victoria Mcintosh",
          "Victoria Mcintosh",
          "Victoria Mcintosh",
          "Victoria Mcintosh",
          "Victoria Mcintosh",
          "Victoria Mcintosh",
          "Victoria Mcintosh",
          "Victoria Mcintosh",
          "Victoria Mcintosh",
          "Victoria Mcintosh",
          "Victoria Mcintosh",
          "Victoria Mcintosh",
          "Victoria Mcintosh",
          "Victoria Mcintosh",
          "Victoria Mcintosh",
          "Victoria Mcintosh",
          "Victoria Mcintosh",
          "Victoria Mcintosh",
          "Victoria Mcintosh",
          "Victoria Mcintosh",
          "Victoria Mcintosh",
          "Victoria Mcintosh",
          "Victoria Mcintosh",
          "Victoria Mcintosh",
          "Victoria Mcintosh",
          "Victoria Mcintosh",
          "Victoria Mcintosh",
          "Victoria Mcintosh",
          "Victoria Mcintosh",
          "Victoria Mcintosh",
          "Victoria Mcintosh",
          "Brenda Guiterrez",
          "Brenda Guiterrez",
          "Brenda Guiterrez",
          "John Thomas",
          "Robert Appleby",
          "Kerry Clarkson",
          "Ruby Trahan",
          "Ruby Trahan",
          "Ruby Trahan",
          "Ruby Trahan",
          "Harvey Millsaps",
          "Harvey Millsaps",
          "Harvey Millsaps",
          "Charles Ferguson",
          "Leo Wigington",
          "Katie Bingham",
          "Katie Bingham",
          "Katie Bingham",
          "Katie Bingham",
          "Katie Bingham",
          "Katie Bingham",
          "Katie Bingham",
          "Ruth Oakley",
          "William Wait",
          "Carmen Seaney",
          "Carmen Seaney",
          "Carmen Seaney",
          "Elizabeth Mutter",
          "Laura Campbell",
          "Laura Campbell",
          "Laura Campbell",
          "Laura Campbell",
          "Laura Campbell",
          "Laura Campbell",
          "Dorothy Menendez",
          "Dorothy Menendez",
          "Dorothy Menendez",
          "Dorothy Menendez",
          "Dorothy Menendez",
          "Dorothy Menendez",
          "Dorothy Menendez",
          "Dorothy Menendez",
          "George Proctor",
          "George Proctor",
          "Bonnie Humes",
          "Leroy Vela",
          "Leroy Vela",
          "Leroy Vela",
          "Leroy Vela",
          "Douglas Woodruff",
          "Douglas Woodruff",
          "Douglas Woodruff",
          "Douglas Woodruff",
          "Mary Falk",
          "Laura Brewer",
          "Laura Brewer",
          "Laura Brewer",
          "Laura Brewer",
          "Aida Vito",
          "Aida Vito",
          "Aida Vito",
          null
         ],
         "legendgroup": "",
         "marker": {
          "color": "#636efa"
         },
         "name": "",
         "offsetgroup": "",
         "orientation": "v",
         "showlegend": false,
         "textposition": "auto",
         "type": "bar",
         "x": [
          "Raymond Constantino",
          "Tony Gates",
          "Tony Gates",
          "Roger Totten",
          "Margaret Weiss",
          "Margaret Weiss",
          "Sybil Worrell",
          "Barbara Jones",
          "James Ashley",
          "James Ashley",
          "James Ashley",
          "Michelle Whitley",
          "Gladys Padgett",
          "Elizabeth Bailey",
          "Anthony Greenlee",
          "Donald Smith",
          "Donald Smith",
          "Donald Smith",
          "Donald Smith",
          "Donald Smith",
          "Donald Smith",
          "Donald Smith",
          "Donald Smith",
          "Ted Keller",
          "Matthew Cobb",
          "Mabel Runyon",
          "Dennis Armand",
          "Isaac Fleagle",
          "Isaac Fleagle",
          "Victoria Hapke",
          "Andrea Sacchetti",
          "Billie Miller",
          "Kandace Osuna",
          "Kandace Osuna",
          "Robert Olander",
          "Nicole Shiner",
          "Dorothy Lally",
          "Eric Staten",
          "Craig Monaghan",
          "Craig Monaghan",
          "Brian Edwards",
          "Eugene Downie",
          "Eugene Downie",
          "Sonia Johnson",
          "Carolyn Theis",
          "Pamela Sewell",
          "Pamela Sewell",
          "Jason Watts",
          "Jason Watts",
          "Jason Watts",
          "James Dixon",
          "James Dixon",
          "Sadie Oneal",
          "Richard Tate",
          "Richard Tate",
          "Patricia Evanich",
          "William Pearson",
          "Joseph Ewing",
          "James Ellis",
          "David Degaetano",
          "Jolene Mcconnell",
          "Lee Hunsaker",
          "Betty Booth",
          "Betty Booth",
          "Thomas Edmiston",
          "Bryan Koppenhaver",
          "Billie Baker",
          "Melissa Finneran",
          "Melissa Finneran",
          "Melissa Finneran",
          "Melissa Finneran",
          "Melissa Finneran",
          "Darryl Boger",
          "Maria Wangberg",
          "John Harris",
          "John Harris",
          "John Harris",
          "John Harris",
          "John Harris",
          "John Harris",
          "John Harris",
          "John Harris",
          "John Harris",
          "John Harris",
          "Shasta Carpenter",
          "Claudia Figueras",
          "Claudia Figueras",
          "Tom Rigel",
          "Tom Rigel",
          "Tom Rigel",
          "Birdie Talley",
          "Kenneth Calvert",
          "Manuel Amick",
          "Manuel Amick",
          "Mitchell Anderson",
          "Robert Cummings",
          "Dianna Espinosa",
          "Angela Hersh",
          "Mary Combest",
          "Aubrey Wilson",
          "Megan Zielinski",
          "Craig Jones",
          "Craig Jones",
          "Craig Jones",
          "James Mcglade",
          "Guy Rickenbacker",
          "Michelle Beezley",
          "Michelle Beezley",
          "Michelle Beezley",
          "Michelle Beezley",
          "Michelle Beezley",
          "Michelle Beezley",
          "Michelle Beezley",
          "Rose Abreu",
          "Rose Abreu",
          "Rose Abreu",
          "Rose Abreu",
          "Rose Abreu",
          "Rose Abreu",
          "Rose Abreu",
          "Rose Abreu",
          "Rose Abreu",
          "Rose Abreu",
          "Rose Abreu",
          "Rose Abreu",
          "Donna Turney",
          "Luis Reinkemeyer",
          "Luis Reinkemeyer",
          "Bertha Giese",
          "Bertha Giese",
          "Jorge Crow",
          "Elizabeth Mora",
          "Beth Alfaro",
          "Paula Logsdon",
          "Donna Goldstein",
          "Donna Goldstein",
          "Donna Goldstein",
          "Betty Richardson",
          "Betty Richardson",
          "Betty Richardson",
          "Betty Richardson",
          "Betty Richardson",
          "Betty Richardson",
          "Betty Richardson",
          "Betty Richardson",
          "Betty Richardson",
          "Betty Richardson",
          "Betty Richardson",
          "Betty Richardson",
          "Betty Richardson",
          "Betty Richardson",
          "Betty Richardson",
          "Betty Richardson",
          "Betty Richardson",
          "Betty Richardson",
          "William Sebek",
          "Patricia Ruth",
          "Colette Blackford",
          "Jose Quick",
          "Jose Quick",
          "Kenneth Kirk",
          "Joe Burkley",
          "Joe Burkley",
          "Dora Siever",
          "Dora Siever",
          "Donald Anderson",
          "Linda Tardif",
          "Linda Tardif",
          "Linda Tardif",
          "Linda Tardif",
          "Linda Tardif",
          "Linda Tardif",
          "Linda Tardif",
          "Linda Tardif",
          "Linda Tardif",
          "Linda Tardif",
          "Linda Tardif",
          "Linda Tardif",
          "Linda Tardif",
          "Linda Tardif",
          "Linda Tardif",
          "Linda Tardif",
          "Stacy Rodriquez",
          "Tracy Smith",
          "Ella Pickens",
          "Sam Woodworth",
          "Denise Xiong",
          "Denise Xiong",
          "Patricia Robinson",
          "Frank Stewart",
          "Frank Stewart",
          "Christopher Brady",
          "Alfred Ettienne",
          "Alfred Ettienne",
          "Christopher Robin",
          "George Mooneyhan",
          "Agripina Palka",
          "Raul Hassinger",
          "Michelle Carrington",
          "Michelle Carrington",
          "Michelle Carrington",
          "Michelle Carrington",
          "Michelle Carrington",
          "Michelle Carrington",
          "Michelle Carrington",
          "Michelle Carrington",
          "Michelle Carrington",
          "Michelle Carrington",
          "Jessica Cunningham",
          "Bryon Thornberry",
          "Bryon Thornberry",
          "William Cherry",
          "Anthony Herms",
          "Charles Stoner",
          "Maurice Galow",
          "Maurice Galow",
          "Jerry Guptill",
          "James Burton",
          "Stephen Batdorf",
          "Stephen Batdorf",
          "Stephen Batdorf",
          "Mark Smith",
          "Tammy Moses",
          "Tammy Moses",
          "Tammy Moses",
          "Tammy Moses",
          "Tammy Moses",
          "Tammy Moses",
          "Tammy Moses",
          "Tammy Moses",
          "Tammy Moses",
          "Tammy Moses",
          "Tammy Moses",
          "Tammy Moses",
          "Tammy Moses",
          "Tammy Moses",
          "Mary Taylor",
          "Shane Burke",
          "Shane Burke",
          "Shane Burke",
          "John Peeples",
          "Earl Harmon",
          "Earl Harmon",
          "Earl Harmon",
          "Earl Harmon",
          "Earl Harmon",
          "Earl Harmon",
          "Earl Harmon",
          "Earl Harmon",
          "Earl Harmon",
          "Earl Harmon",
          "Earl Harmon",
          "Earl Harmon",
          "Earl Harmon",
          "Earl Harmon",
          "Earl Harmon",
          "Earl Harmon",
          "Earl Harmon",
          "Earl Harmon",
          "Earl Harmon",
          "Earl Harmon",
          "Earl Harmon",
          "Blair Mckissick",
          "Everett Mcneill",
          "Everett Mcneill",
          "Everett Mcneill",
          "Everett Mcneill",
          "Everett Mcneill",
          "Everett Mcneill",
          "Everett Mcneill",
          "Everett Mcneill",
          "Everett Mcneill",
          "Everett Mcneill",
          "Everett Mcneill",
          "Everett Mcneill",
          "Everett Mcneill",
          "Everett Mcneill",
          "Everett Mcneill",
          "Everett Mcneill",
          "Everett Mcneill",
          "Everett Mcneill",
          "Everett Mcneill",
          "Everett Mcneill",
          "Everett Mcneill",
          "Everett Mcneill",
          "Everett Mcneill",
          "Everett Mcneill",
          "Everett Mcneill",
          "Everett Mcneill",
          "Everett Mcneill",
          "Everett Mcneill",
          "Everett Mcneill",
          "Everett Mcneill",
          "Everett Mcneill",
          "Everett Mcneill",
          "Everett Mcneill",
          "Everett Mcneill",
          "Everett Mcneill",
          "Everett Mcneill",
          "Everett Mcneill",
          "Everett Mcneill",
          "Everett Mcneill",
          "Everett Mcneill",
          "Everett Mcneill",
          "Everett Mcneill",
          "Everett Mcneill",
          "Everett Mcneill",
          "Maggie Wallace",
          "Victoria Mcintosh",
          "Victoria Mcintosh",
          "Victoria Mcintosh",
          "Victoria Mcintosh",
          "Victoria Mcintosh",
          "Victoria Mcintosh",
          "Victoria Mcintosh",
          "Victoria Mcintosh",
          "Victoria Mcintosh",
          "Victoria Mcintosh",
          "Victoria Mcintosh",
          "Victoria Mcintosh",
          "Victoria Mcintosh",
          "Victoria Mcintosh",
          "Victoria Mcintosh",
          "Victoria Mcintosh",
          "Victoria Mcintosh",
          "Victoria Mcintosh",
          "Victoria Mcintosh",
          "Victoria Mcintosh",
          "Victoria Mcintosh",
          "Victoria Mcintosh",
          "Victoria Mcintosh",
          "Victoria Mcintosh",
          "Victoria Mcintosh",
          "Victoria Mcintosh",
          "Victoria Mcintosh",
          "Victoria Mcintosh",
          "Victoria Mcintosh",
          "Victoria Mcintosh",
          "Victoria Mcintosh",
          "Victoria Mcintosh",
          "Victoria Mcintosh",
          "Victoria Mcintosh",
          "Victoria Mcintosh",
          "Victoria Mcintosh",
          "Brenda Guiterrez",
          "Brenda Guiterrez",
          "Brenda Guiterrez",
          "John Thomas",
          "Robert Appleby",
          "Kerry Clarkson",
          "Ruby Trahan",
          "Ruby Trahan",
          "Ruby Trahan",
          "Ruby Trahan",
          "Harvey Millsaps",
          "Harvey Millsaps",
          "Harvey Millsaps",
          "Charles Ferguson",
          "Leo Wigington",
          "Katie Bingham",
          "Katie Bingham",
          "Katie Bingham",
          "Katie Bingham",
          "Katie Bingham",
          "Katie Bingham",
          "Katie Bingham",
          "Ruth Oakley",
          "William Wait",
          "Carmen Seaney",
          "Carmen Seaney",
          "Carmen Seaney",
          "Elizabeth Mutter",
          "Laura Campbell",
          "Laura Campbell",
          "Laura Campbell",
          "Laura Campbell",
          "Laura Campbell",
          "Laura Campbell",
          "Dorothy Menendez",
          "Dorothy Menendez",
          "Dorothy Menendez",
          "Dorothy Menendez",
          "Dorothy Menendez",
          "Dorothy Menendez",
          "Dorothy Menendez",
          "Dorothy Menendez",
          "George Proctor",
          "George Proctor",
          "Bonnie Humes",
          "Leroy Vela",
          "Leroy Vela",
          "Leroy Vela",
          "Leroy Vela",
          "Douglas Woodruff",
          "Douglas Woodruff",
          "Douglas Woodruff",
          "Douglas Woodruff",
          "Mary Falk",
          "Laura Brewer",
          "Laura Brewer",
          "Laura Brewer",
          "Laura Brewer",
          "Aida Vito",
          "Aida Vito",
          "Aida Vito",
          null
         ],
         "xaxis": "x",
         "yaxis": "y"
        }
       ],
       "layout": {
        "barmode": "relative",
        "legend": {
         "tracegroupgap": 0
        },
        "template": {
         "data": {
          "bar": [
           {
            "error_x": {
             "color": "#2a3f5f"
            },
            "error_y": {
             "color": "#2a3f5f"
            },
            "marker": {
             "line": {
              "color": "#E5ECF6",
              "width": 0.5
             }
            },
            "type": "bar"
           }
          ],
          "barpolar": [
           {
            "marker": {
             "line": {
              "color": "#E5ECF6",
              "width": 0.5
             }
            },
            "type": "barpolar"
           }
          ],
          "carpet": [
           {
            "aaxis": {
             "endlinecolor": "#2a3f5f",
             "gridcolor": "white",
             "linecolor": "white",
             "minorgridcolor": "white",
             "startlinecolor": "#2a3f5f"
            },
            "baxis": {
             "endlinecolor": "#2a3f5f",
             "gridcolor": "white",
             "linecolor": "white",
             "minorgridcolor": "white",
             "startlinecolor": "#2a3f5f"
            },
            "type": "carpet"
           }
          ],
          "choropleth": [
           {
            "colorbar": {
             "outlinewidth": 0,
             "ticks": ""
            },
            "type": "choropleth"
           }
          ],
          "contour": [
           {
            "colorbar": {
             "outlinewidth": 0,
             "ticks": ""
            },
            "colorscale": [
             [
              0,
              "#0d0887"
             ],
             [
              0.1111111111111111,
              "#46039f"
             ],
             [
              0.2222222222222222,
              "#7201a8"
             ],
             [
              0.3333333333333333,
              "#9c179e"
             ],
             [
              0.4444444444444444,
              "#bd3786"
             ],
             [
              0.5555555555555556,
              "#d8576b"
             ],
             [
              0.6666666666666666,
              "#ed7953"
             ],
             [
              0.7777777777777778,
              "#fb9f3a"
             ],
             [
              0.8888888888888888,
              "#fdca26"
             ],
             [
              1,
              "#f0f921"
             ]
            ],
            "type": "contour"
           }
          ],
          "contourcarpet": [
           {
            "colorbar": {
             "outlinewidth": 0,
             "ticks": ""
            },
            "type": "contourcarpet"
           }
          ],
          "heatmap": [
           {
            "colorbar": {
             "outlinewidth": 0,
             "ticks": ""
            },
            "colorscale": [
             [
              0,
              "#0d0887"
             ],
             [
              0.1111111111111111,
              "#46039f"
             ],
             [
              0.2222222222222222,
              "#7201a8"
             ],
             [
              0.3333333333333333,
              "#9c179e"
             ],
             [
              0.4444444444444444,
              "#bd3786"
             ],
             [
              0.5555555555555556,
              "#d8576b"
             ],
             [
              0.6666666666666666,
              "#ed7953"
             ],
             [
              0.7777777777777778,
              "#fb9f3a"
             ],
             [
              0.8888888888888888,
              "#fdca26"
             ],
             [
              1,
              "#f0f921"
             ]
            ],
            "type": "heatmap"
           }
          ],
          "heatmapgl": [
           {
            "colorbar": {
             "outlinewidth": 0,
             "ticks": ""
            },
            "colorscale": [
             [
              0,
              "#0d0887"
             ],
             [
              0.1111111111111111,
              "#46039f"
             ],
             [
              0.2222222222222222,
              "#7201a8"
             ],
             [
              0.3333333333333333,
              "#9c179e"
             ],
             [
              0.4444444444444444,
              "#bd3786"
             ],
             [
              0.5555555555555556,
              "#d8576b"
             ],
             [
              0.6666666666666666,
              "#ed7953"
             ],
             [
              0.7777777777777778,
              "#fb9f3a"
             ],
             [
              0.8888888888888888,
              "#fdca26"
             ],
             [
              1,
              "#f0f921"
             ]
            ],
            "type": "heatmapgl"
           }
          ],
          "histogram": [
           {
            "marker": {
             "colorbar": {
              "outlinewidth": 0,
              "ticks": ""
             }
            },
            "type": "histogram"
           }
          ],
          "histogram2d": [
           {
            "colorbar": {
             "outlinewidth": 0,
             "ticks": ""
            },
            "colorscale": [
             [
              0,
              "#0d0887"
             ],
             [
              0.1111111111111111,
              "#46039f"
             ],
             [
              0.2222222222222222,
              "#7201a8"
             ],
             [
              0.3333333333333333,
              "#9c179e"
             ],
             [
              0.4444444444444444,
              "#bd3786"
             ],
             [
              0.5555555555555556,
              "#d8576b"
             ],
             [
              0.6666666666666666,
              "#ed7953"
             ],
             [
              0.7777777777777778,
              "#fb9f3a"
             ],
             [
              0.8888888888888888,
              "#fdca26"
             ],
             [
              1,
              "#f0f921"
             ]
            ],
            "type": "histogram2d"
           }
          ],
          "histogram2dcontour": [
           {
            "colorbar": {
             "outlinewidth": 0,
             "ticks": ""
            },
            "colorscale": [
             [
              0,
              "#0d0887"
             ],
             [
              0.1111111111111111,
              "#46039f"
             ],
             [
              0.2222222222222222,
              "#7201a8"
             ],
             [
              0.3333333333333333,
              "#9c179e"
             ],
             [
              0.4444444444444444,
              "#bd3786"
             ],
             [
              0.5555555555555556,
              "#d8576b"
             ],
             [
              0.6666666666666666,
              "#ed7953"
             ],
             [
              0.7777777777777778,
              "#fb9f3a"
             ],
             [
              0.8888888888888888,
              "#fdca26"
             ],
             [
              1,
              "#f0f921"
             ]
            ],
            "type": "histogram2dcontour"
           }
          ],
          "mesh3d": [
           {
            "colorbar": {
             "outlinewidth": 0,
             "ticks": ""
            },
            "type": "mesh3d"
           }
          ],
          "parcoords": [
           {
            "line": {
             "colorbar": {
              "outlinewidth": 0,
              "ticks": ""
             }
            },
            "type": "parcoords"
           }
          ],
          "pie": [
           {
            "automargin": true,
            "type": "pie"
           }
          ],
          "scatter": [
           {
            "marker": {
             "colorbar": {
              "outlinewidth": 0,
              "ticks": ""
             }
            },
            "type": "scatter"
           }
          ],
          "scatter3d": [
           {
            "line": {
             "colorbar": {
              "outlinewidth": 0,
              "ticks": ""
             }
            },
            "marker": {
             "colorbar": {
              "outlinewidth": 0,
              "ticks": ""
             }
            },
            "type": "scatter3d"
           }
          ],
          "scattercarpet": [
           {
            "marker": {
             "colorbar": {
              "outlinewidth": 0,
              "ticks": ""
             }
            },
            "type": "scattercarpet"
           }
          ],
          "scattergeo": [
           {
            "marker": {
             "colorbar": {
              "outlinewidth": 0,
              "ticks": ""
             }
            },
            "type": "scattergeo"
           }
          ],
          "scattergl": [
           {
            "marker": {
             "colorbar": {
              "outlinewidth": 0,
              "ticks": ""
             }
            },
            "type": "scattergl"
           }
          ],
          "scattermapbox": [
           {
            "marker": {
             "colorbar": {
              "outlinewidth": 0,
              "ticks": ""
             }
            },
            "type": "scattermapbox"
           }
          ],
          "scatterpolar": [
           {
            "marker": {
             "colorbar": {
              "outlinewidth": 0,
              "ticks": ""
             }
            },
            "type": "scatterpolar"
           }
          ],
          "scatterpolargl": [
           {
            "marker": {
             "colorbar": {
              "outlinewidth": 0,
              "ticks": ""
             }
            },
            "type": "scatterpolargl"
           }
          ],
          "scatterternary": [
           {
            "marker": {
             "colorbar": {
              "outlinewidth": 0,
              "ticks": ""
             }
            },
            "type": "scatterternary"
           }
          ],
          "surface": [
           {
            "colorbar": {
             "outlinewidth": 0,
             "ticks": ""
            },
            "colorscale": [
             [
              0,
              "#0d0887"
             ],
             [
              0.1111111111111111,
              "#46039f"
             ],
             [
              0.2222222222222222,
              "#7201a8"
             ],
             [
              0.3333333333333333,
              "#9c179e"
             ],
             [
              0.4444444444444444,
              "#bd3786"
             ],
             [
              0.5555555555555556,
              "#d8576b"
             ],
             [
              0.6666666666666666,
              "#ed7953"
             ],
             [
              0.7777777777777778,
              "#fb9f3a"
             ],
             [
              0.8888888888888888,
              "#fdca26"
             ],
             [
              1,
              "#f0f921"
             ]
            ],
            "type": "surface"
           }
          ],
          "table": [
           {
            "cells": {
             "fill": {
              "color": "#EBF0F8"
             },
             "line": {
              "color": "white"
             }
            },
            "header": {
             "fill": {
              "color": "#C8D4E3"
             },
             "line": {
              "color": "white"
             }
            },
            "type": "table"
           }
          ]
         },
         "layout": {
          "annotationdefaults": {
           "arrowcolor": "#2a3f5f",
           "arrowhead": 0,
           "arrowwidth": 1
          },
          "coloraxis": {
           "colorbar": {
            "outlinewidth": 0,
            "ticks": ""
           }
          },
          "colorscale": {
           "diverging": [
            [
             0,
             "#8e0152"
            ],
            [
             0.1,
             "#c51b7d"
            ],
            [
             0.2,
             "#de77ae"
            ],
            [
             0.3,
             "#f1b6da"
            ],
            [
             0.4,
             "#fde0ef"
            ],
            [
             0.5,
             "#f7f7f7"
            ],
            [
             0.6,
             "#e6f5d0"
            ],
            [
             0.7,
             "#b8e186"
            ],
            [
             0.8,
             "#7fbc41"
            ],
            [
             0.9,
             "#4d9221"
            ],
            [
             1,
             "#276419"
            ]
           ],
           "sequential": [
            [
             0,
             "#0d0887"
            ],
            [
             0.1111111111111111,
             "#46039f"
            ],
            [
             0.2222222222222222,
             "#7201a8"
            ],
            [
             0.3333333333333333,
             "#9c179e"
            ],
            [
             0.4444444444444444,
             "#bd3786"
            ],
            [
             0.5555555555555556,
             "#d8576b"
            ],
            [
             0.6666666666666666,
             "#ed7953"
            ],
            [
             0.7777777777777778,
             "#fb9f3a"
            ],
            [
             0.8888888888888888,
             "#fdca26"
            ],
            [
             1,
             "#f0f921"
            ]
           ],
           "sequentialminus": [
            [
             0,
             "#0d0887"
            ],
            [
             0.1111111111111111,
             "#46039f"
            ],
            [
             0.2222222222222222,
             "#7201a8"
            ],
            [
             0.3333333333333333,
             "#9c179e"
            ],
            [
             0.4444444444444444,
             "#bd3786"
            ],
            [
             0.5555555555555556,
             "#d8576b"
            ],
            [
             0.6666666666666666,
             "#ed7953"
            ],
            [
             0.7777777777777778,
             "#fb9f3a"
            ],
            [
             0.8888888888888888,
             "#fdca26"
            ],
            [
             1,
             "#f0f921"
            ]
           ]
          },
          "colorway": [
           "#636efa",
           "#EF553B",
           "#00cc96",
           "#ab63fa",
           "#FFA15A",
           "#19d3f3",
           "#FF6692",
           "#B6E880",
           "#FF97FF",
           "#FECB52"
          ],
          "font": {
           "color": "#2a3f5f"
          },
          "geo": {
           "bgcolor": "white",
           "lakecolor": "white",
           "landcolor": "#E5ECF6",
           "showlakes": true,
           "showland": true,
           "subunitcolor": "white"
          },
          "hoverlabel": {
           "align": "left"
          },
          "hovermode": "closest",
          "mapbox": {
           "style": "light"
          },
          "paper_bgcolor": "white",
          "plot_bgcolor": "#E5ECF6",
          "polar": {
           "angularaxis": {
            "gridcolor": "white",
            "linecolor": "white",
            "ticks": ""
           },
           "bgcolor": "#E5ECF6",
           "radialaxis": {
            "gridcolor": "white",
            "linecolor": "white",
            "ticks": ""
           }
          },
          "scene": {
           "xaxis": {
            "backgroundcolor": "#E5ECF6",
            "gridcolor": "white",
            "gridwidth": 2,
            "linecolor": "white",
            "showbackground": true,
            "ticks": "",
            "zerolinecolor": "white"
           },
           "yaxis": {
            "backgroundcolor": "#E5ECF6",
            "gridcolor": "white",
            "gridwidth": 2,
            "linecolor": "white",
            "showbackground": true,
            "ticks": "",
            "zerolinecolor": "white"
           },
           "zaxis": {
            "backgroundcolor": "#E5ECF6",
            "gridcolor": "white",
            "gridwidth": 2,
            "linecolor": "white",
            "showbackground": true,
            "ticks": "",
            "zerolinecolor": "white"
           }
          },
          "shapedefaults": {
           "line": {
            "color": "#2a3f5f"
           }
          },
          "ternary": {
           "aaxis": {
            "gridcolor": "white",
            "linecolor": "white",
            "ticks": ""
           },
           "baxis": {
            "gridcolor": "white",
            "linecolor": "white",
            "ticks": ""
           },
           "bgcolor": "#E5ECF6",
           "caxis": {
            "gridcolor": "white",
            "linecolor": "white",
            "ticks": ""
           }
          },
          "title": {
           "x": 0.05
          },
          "xaxis": {
           "automargin": true,
           "gridcolor": "white",
           "linecolor": "white",
           "ticks": "",
           "title": {
            "standoff": 15
           },
           "zerolinecolor": "white",
           "zerolinewidth": 2
          },
          "yaxis": {
           "automargin": true,
           "gridcolor": "white",
           "linecolor": "white",
           "ticks": "",
           "title": {
            "standoff": 15
           },
           "zerolinecolor": "white",
           "zerolinewidth": 2
          }
         }
        },
        "title": {
         "text": "Services by Service Manager"
        },
        "xaxis": {
         "anchor": "y",
         "domain": [
          0,
          1
         ],
         "title": {
          "text": "SERVICE_OWNER"
         }
        },
        "yaxis": {
         "anchor": "x",
         "domain": [
          0,
          1
         ]
        }
       }
      },
      "text/html": [
       "<div>\n",
       "        \n",
       "        \n",
       "            <div id=\"1a60f192-73ee-4b54-8286-84ecb729aadb\" class=\"plotly-graph-div\" style=\"height:525px; width:100%;\"></div>\n",
       "            <script type=\"text/javascript\">\n",
       "                require([\"plotly\"], function(Plotly) {\n",
       "                    window.PLOTLYENV=window.PLOTLYENV || {};\n",
       "                    \n",
       "                if (document.getElementById(\"1a60f192-73ee-4b54-8286-84ecb729aadb\")) {\n",
       "                    Plotly.newPlot(\n",
       "                        '1a60f192-73ee-4b54-8286-84ecb729aadb',\n",
       "                        [{\"alignmentgroup\": \"True\", \"hoverlabel\": {\"namelength\": 0}, \"hovertemplate\": \"<b>%{hovertext}</b><br><br>SERVICE_OWNER=%{x}\", \"hovertext\": [\"Raymond Constantino\", \"Tony Gates\", \"Tony Gates\", \"Roger Totten\", \"Margaret Weiss\", \"Margaret Weiss\", \"Sybil Worrell\", \"Barbara Jones\", \"James Ashley\", \"James Ashley\", \"James Ashley\", \"Michelle Whitley\", \"Gladys Padgett\", \"Elizabeth Bailey\", \"Anthony Greenlee\", \"Donald Smith\", \"Donald Smith\", \"Donald Smith\", \"Donald Smith\", \"Donald Smith\", \"Donald Smith\", \"Donald Smith\", \"Donald Smith\", \"Ted Keller\", \"Matthew Cobb\", \"Mabel Runyon\", \"Dennis Armand\", \"Isaac Fleagle\", \"Isaac Fleagle\", \"Victoria Hapke\", \"Andrea Sacchetti\", \"Billie Miller\", \"Kandace Osuna\", \"Kandace Osuna\", \"Robert Olander\", \"Nicole Shiner\", \"Dorothy Lally\", \"Eric Staten\", \"Craig Monaghan\", \"Craig Monaghan\", \"Brian Edwards\", \"Eugene Downie\", \"Eugene Downie\", \"Sonia Johnson\", \"Carolyn Theis\", \"Pamela Sewell\", \"Pamela Sewell\", \"Jason Watts\", \"Jason Watts\", \"Jason Watts\", \"James Dixon\", \"James Dixon\", \"Sadie Oneal\", \"Richard Tate\", \"Richard Tate\", \"Patricia Evanich\", \"William Pearson\", \"Joseph Ewing\", \"James Ellis\", \"David Degaetano\", \"Jolene Mcconnell\", \"Lee Hunsaker\", \"Betty Booth\", \"Betty Booth\", \"Thomas Edmiston\", \"Bryan Koppenhaver\", \"Billie Baker\", \"Melissa Finneran\", \"Melissa Finneran\", \"Melissa Finneran\", \"Melissa Finneran\", \"Melissa Finneran\", \"Darryl Boger\", \"Maria Wangberg\", \"John Harris\", \"John Harris\", \"John Harris\", \"John Harris\", \"John Harris\", \"John Harris\", \"John Harris\", \"John Harris\", \"John Harris\", \"John Harris\", \"Shasta Carpenter\", \"Claudia Figueras\", \"Claudia Figueras\", \"Tom Rigel\", \"Tom Rigel\", \"Tom Rigel\", \"Birdie Talley\", \"Kenneth Calvert\", \"Manuel Amick\", \"Manuel Amick\", \"Mitchell Anderson\", \"Robert Cummings\", \"Dianna Espinosa\", \"Angela Hersh\", \"Mary Combest\", \"Aubrey Wilson\", \"Megan Zielinski\", \"Craig Jones\", \"Craig Jones\", \"Craig Jones\", \"James Mcglade\", \"Guy Rickenbacker\", \"Michelle Beezley\", \"Michelle Beezley\", \"Michelle Beezley\", \"Michelle Beezley\", \"Michelle Beezley\", \"Michelle Beezley\", \"Michelle Beezley\", \"Rose Abreu\", \"Rose Abreu\", \"Rose Abreu\", \"Rose Abreu\", \"Rose Abreu\", \"Rose Abreu\", \"Rose Abreu\", \"Rose Abreu\", \"Rose Abreu\", \"Rose Abreu\", \"Rose Abreu\", \"Rose Abreu\", \"Donna Turney\", \"Luis Reinkemeyer\", \"Luis Reinkemeyer\", \"Bertha Giese\", \"Bertha Giese\", \"Jorge Crow\", \"Elizabeth Mora\", \"Beth Alfaro\", \"Paula Logsdon\", \"Donna Goldstein\", \"Donna Goldstein\", \"Donna Goldstein\", \"Betty Richardson\", \"Betty Richardson\", \"Betty Richardson\", \"Betty Richardson\", \"Betty Richardson\", \"Betty Richardson\", \"Betty Richardson\", \"Betty Richardson\", \"Betty Richardson\", \"Betty Richardson\", \"Betty Richardson\", \"Betty Richardson\", \"Betty Richardson\", \"Betty Richardson\", \"Betty Richardson\", \"Betty Richardson\", \"Betty Richardson\", \"Betty Richardson\", \"William Sebek\", \"Patricia Ruth\", \"Colette Blackford\", \"Jose Quick\", \"Jose Quick\", \"Kenneth Kirk\", \"Joe Burkley\", \"Joe Burkley\", \"Dora Siever\", \"Dora Siever\", \"Donald Anderson\", \"Linda Tardif\", \"Linda Tardif\", \"Linda Tardif\", \"Linda Tardif\", \"Linda Tardif\", \"Linda Tardif\", \"Linda Tardif\", \"Linda Tardif\", \"Linda Tardif\", \"Linda Tardif\", \"Linda Tardif\", \"Linda Tardif\", \"Linda Tardif\", \"Linda Tardif\", \"Linda Tardif\", \"Linda Tardif\", \"Stacy Rodriquez\", \"Tracy Smith\", \"Ella Pickens\", \"Sam Woodworth\", \"Denise Xiong\", \"Denise Xiong\", \"Patricia Robinson\", \"Frank Stewart\", \"Frank Stewart\", \"Christopher Brady\", \"Alfred Ettienne\", \"Alfred Ettienne\", \"Christopher Robin\", \"George Mooneyhan\", \"Agripina Palka\", \"Raul Hassinger\", \"Michelle Carrington\", \"Michelle Carrington\", \"Michelle Carrington\", \"Michelle Carrington\", \"Michelle Carrington\", \"Michelle Carrington\", \"Michelle Carrington\", \"Michelle Carrington\", \"Michelle Carrington\", \"Michelle Carrington\", \"Jessica Cunningham\", \"Bryon Thornberry\", \"Bryon Thornberry\", \"William Cherry\", \"Anthony Herms\", \"Charles Stoner\", \"Maurice Galow\", \"Maurice Galow\", \"Jerry Guptill\", \"James Burton\", \"Stephen Batdorf\", \"Stephen Batdorf\", \"Stephen Batdorf\", \"Mark Smith\", \"Tammy Moses\", \"Tammy Moses\", \"Tammy Moses\", \"Tammy Moses\", \"Tammy Moses\", \"Tammy Moses\", \"Tammy Moses\", \"Tammy Moses\", \"Tammy Moses\", \"Tammy Moses\", \"Tammy Moses\", \"Tammy Moses\", \"Tammy Moses\", \"Tammy Moses\", \"Mary Taylor\", \"Shane Burke\", \"Shane Burke\", \"Shane Burke\", \"John Peeples\", \"Earl Harmon\", \"Earl Harmon\", \"Earl Harmon\", \"Earl Harmon\", \"Earl Harmon\", \"Earl Harmon\", \"Earl Harmon\", \"Earl Harmon\", \"Earl Harmon\", \"Earl Harmon\", \"Earl Harmon\", \"Earl Harmon\", \"Earl Harmon\", \"Earl Harmon\", \"Earl Harmon\", \"Earl Harmon\", \"Earl Harmon\", \"Earl Harmon\", \"Earl Harmon\", \"Earl Harmon\", \"Earl Harmon\", \"Blair Mckissick\", \"Everett Mcneill\", \"Everett Mcneill\", \"Everett Mcneill\", \"Everett Mcneill\", \"Everett Mcneill\", \"Everett Mcneill\", \"Everett Mcneill\", \"Everett Mcneill\", \"Everett Mcneill\", \"Everett Mcneill\", \"Everett Mcneill\", \"Everett Mcneill\", \"Everett Mcneill\", \"Everett Mcneill\", \"Everett Mcneill\", \"Everett Mcneill\", \"Everett Mcneill\", \"Everett Mcneill\", \"Everett Mcneill\", \"Everett Mcneill\", \"Everett Mcneill\", \"Everett Mcneill\", \"Everett Mcneill\", \"Everett Mcneill\", \"Everett Mcneill\", \"Everett Mcneill\", \"Everett Mcneill\", \"Everett Mcneill\", \"Everett Mcneill\", \"Everett Mcneill\", \"Everett Mcneill\", \"Everett Mcneill\", \"Everett Mcneill\", \"Everett Mcneill\", \"Everett Mcneill\", \"Everett Mcneill\", \"Everett Mcneill\", \"Everett Mcneill\", \"Everett Mcneill\", \"Everett Mcneill\", \"Everett Mcneill\", \"Everett Mcneill\", \"Everett Mcneill\", \"Everett Mcneill\", \"Maggie Wallace\", \"Victoria Mcintosh\", \"Victoria Mcintosh\", \"Victoria Mcintosh\", \"Victoria Mcintosh\", \"Victoria Mcintosh\", \"Victoria Mcintosh\", \"Victoria Mcintosh\", \"Victoria Mcintosh\", \"Victoria Mcintosh\", \"Victoria Mcintosh\", \"Victoria Mcintosh\", \"Victoria Mcintosh\", \"Victoria Mcintosh\", \"Victoria Mcintosh\", \"Victoria Mcintosh\", \"Victoria Mcintosh\", \"Victoria Mcintosh\", \"Victoria Mcintosh\", \"Victoria Mcintosh\", \"Victoria Mcintosh\", \"Victoria Mcintosh\", \"Victoria Mcintosh\", \"Victoria Mcintosh\", \"Victoria Mcintosh\", \"Victoria Mcintosh\", \"Victoria Mcintosh\", \"Victoria Mcintosh\", \"Victoria Mcintosh\", \"Victoria Mcintosh\", \"Victoria Mcintosh\", \"Victoria Mcintosh\", \"Victoria Mcintosh\", \"Victoria Mcintosh\", \"Victoria Mcintosh\", \"Victoria Mcintosh\", \"Victoria Mcintosh\", \"Brenda Guiterrez\", \"Brenda Guiterrez\", \"Brenda Guiterrez\", \"John Thomas\", \"Robert Appleby\", \"Kerry Clarkson\", \"Ruby Trahan\", \"Ruby Trahan\", \"Ruby Trahan\", \"Ruby Trahan\", \"Harvey Millsaps\", \"Harvey Millsaps\", \"Harvey Millsaps\", \"Charles Ferguson\", \"Leo Wigington\", \"Katie Bingham\", \"Katie Bingham\", \"Katie Bingham\", \"Katie Bingham\", \"Katie Bingham\", \"Katie Bingham\", \"Katie Bingham\", \"Ruth Oakley\", \"William Wait\", \"Carmen Seaney\", \"Carmen Seaney\", \"Carmen Seaney\", \"Elizabeth Mutter\", \"Laura Campbell\", \"Laura Campbell\", \"Laura Campbell\", \"Laura Campbell\", \"Laura Campbell\", \"Laura Campbell\", \"Dorothy Menendez\", \"Dorothy Menendez\", \"Dorothy Menendez\", \"Dorothy Menendez\", \"Dorothy Menendez\", \"Dorothy Menendez\", \"Dorothy Menendez\", \"Dorothy Menendez\", \"George Proctor\", \"George Proctor\", \"Bonnie Humes\", \"Leroy Vela\", \"Leroy Vela\", \"Leroy Vela\", \"Leroy Vela\", \"Douglas Woodruff\", \"Douglas Woodruff\", \"Douglas Woodruff\", \"Douglas Woodruff\", \"Mary Falk\", \"Laura Brewer\", \"Laura Brewer\", \"Laura Brewer\", \"Laura Brewer\", \"Aida Vito\", \"Aida Vito\", \"Aida Vito\", null], \"legendgroup\": \"\", \"marker\": {\"color\": \"#636efa\"}, \"name\": \"\", \"offsetgroup\": \"\", \"orientation\": \"v\", \"showlegend\": false, \"textposition\": \"auto\", \"type\": \"bar\", \"x\": [\"Raymond Constantino\", \"Tony Gates\", \"Tony Gates\", \"Roger Totten\", \"Margaret Weiss\", \"Margaret Weiss\", \"Sybil Worrell\", \"Barbara Jones\", \"James Ashley\", \"James Ashley\", \"James Ashley\", \"Michelle Whitley\", \"Gladys Padgett\", \"Elizabeth Bailey\", \"Anthony Greenlee\", \"Donald Smith\", \"Donald Smith\", \"Donald Smith\", \"Donald Smith\", \"Donald Smith\", \"Donald Smith\", \"Donald Smith\", \"Donald Smith\", \"Ted Keller\", \"Matthew Cobb\", \"Mabel Runyon\", \"Dennis Armand\", \"Isaac Fleagle\", \"Isaac Fleagle\", \"Victoria Hapke\", \"Andrea Sacchetti\", \"Billie Miller\", \"Kandace Osuna\", \"Kandace Osuna\", \"Robert Olander\", \"Nicole Shiner\", \"Dorothy Lally\", \"Eric Staten\", \"Craig Monaghan\", \"Craig Monaghan\", \"Brian Edwards\", \"Eugene Downie\", \"Eugene Downie\", \"Sonia Johnson\", \"Carolyn Theis\", \"Pamela Sewell\", \"Pamela Sewell\", \"Jason Watts\", \"Jason Watts\", \"Jason Watts\", \"James Dixon\", \"James Dixon\", \"Sadie Oneal\", \"Richard Tate\", \"Richard Tate\", \"Patricia Evanich\", \"William Pearson\", \"Joseph Ewing\", \"James Ellis\", \"David Degaetano\", \"Jolene Mcconnell\", \"Lee Hunsaker\", \"Betty Booth\", \"Betty Booth\", \"Thomas Edmiston\", \"Bryan Koppenhaver\", \"Billie Baker\", \"Melissa Finneran\", \"Melissa Finneran\", \"Melissa Finneran\", \"Melissa Finneran\", \"Melissa Finneran\", \"Darryl Boger\", \"Maria Wangberg\", \"John Harris\", \"John Harris\", \"John Harris\", \"John Harris\", \"John Harris\", \"John Harris\", \"John Harris\", \"John Harris\", \"John Harris\", \"John Harris\", \"Shasta Carpenter\", \"Claudia Figueras\", \"Claudia Figueras\", \"Tom Rigel\", \"Tom Rigel\", \"Tom Rigel\", \"Birdie Talley\", \"Kenneth Calvert\", \"Manuel Amick\", \"Manuel Amick\", \"Mitchell Anderson\", \"Robert Cummings\", \"Dianna Espinosa\", \"Angela Hersh\", \"Mary Combest\", \"Aubrey Wilson\", \"Megan Zielinski\", \"Craig Jones\", \"Craig Jones\", \"Craig Jones\", \"James Mcglade\", \"Guy Rickenbacker\", \"Michelle Beezley\", \"Michelle Beezley\", \"Michelle Beezley\", \"Michelle Beezley\", \"Michelle Beezley\", \"Michelle Beezley\", \"Michelle Beezley\", \"Rose Abreu\", \"Rose Abreu\", \"Rose Abreu\", \"Rose Abreu\", \"Rose Abreu\", \"Rose Abreu\", \"Rose Abreu\", \"Rose Abreu\", \"Rose Abreu\", \"Rose Abreu\", \"Rose Abreu\", \"Rose Abreu\", \"Donna Turney\", \"Luis Reinkemeyer\", \"Luis Reinkemeyer\", \"Bertha Giese\", \"Bertha Giese\", \"Jorge Crow\", \"Elizabeth Mora\", \"Beth Alfaro\", \"Paula Logsdon\", \"Donna Goldstein\", \"Donna Goldstein\", \"Donna Goldstein\", \"Betty Richardson\", \"Betty Richardson\", \"Betty Richardson\", \"Betty Richardson\", \"Betty Richardson\", \"Betty Richardson\", \"Betty Richardson\", \"Betty Richardson\", \"Betty Richardson\", \"Betty Richardson\", \"Betty Richardson\", \"Betty Richardson\", \"Betty Richardson\", \"Betty Richardson\", \"Betty Richardson\", \"Betty Richardson\", \"Betty Richardson\", \"Betty Richardson\", \"William Sebek\", \"Patricia Ruth\", \"Colette Blackford\", \"Jose Quick\", \"Jose Quick\", \"Kenneth Kirk\", \"Joe Burkley\", \"Joe Burkley\", \"Dora Siever\", \"Dora Siever\", \"Donald Anderson\", \"Linda Tardif\", \"Linda Tardif\", \"Linda Tardif\", \"Linda Tardif\", \"Linda Tardif\", \"Linda Tardif\", \"Linda Tardif\", \"Linda Tardif\", \"Linda Tardif\", \"Linda Tardif\", \"Linda Tardif\", \"Linda Tardif\", \"Linda Tardif\", \"Linda Tardif\", \"Linda Tardif\", \"Linda Tardif\", \"Stacy Rodriquez\", \"Tracy Smith\", \"Ella Pickens\", \"Sam Woodworth\", \"Denise Xiong\", \"Denise Xiong\", \"Patricia Robinson\", \"Frank Stewart\", \"Frank Stewart\", \"Christopher Brady\", \"Alfred Ettienne\", \"Alfred Ettienne\", \"Christopher Robin\", \"George Mooneyhan\", \"Agripina Palka\", \"Raul Hassinger\", \"Michelle Carrington\", \"Michelle Carrington\", \"Michelle Carrington\", \"Michelle Carrington\", \"Michelle Carrington\", \"Michelle Carrington\", \"Michelle Carrington\", \"Michelle Carrington\", \"Michelle Carrington\", \"Michelle Carrington\", \"Jessica Cunningham\", \"Bryon Thornberry\", \"Bryon Thornberry\", \"William Cherry\", \"Anthony Herms\", \"Charles Stoner\", \"Maurice Galow\", \"Maurice Galow\", \"Jerry Guptill\", \"James Burton\", \"Stephen Batdorf\", \"Stephen Batdorf\", \"Stephen Batdorf\", \"Mark Smith\", \"Tammy Moses\", \"Tammy Moses\", \"Tammy Moses\", \"Tammy Moses\", \"Tammy Moses\", \"Tammy Moses\", \"Tammy Moses\", \"Tammy Moses\", \"Tammy Moses\", \"Tammy Moses\", \"Tammy Moses\", \"Tammy Moses\", \"Tammy Moses\", \"Tammy Moses\", \"Mary Taylor\", \"Shane Burke\", \"Shane Burke\", \"Shane Burke\", \"John Peeples\", \"Earl Harmon\", \"Earl Harmon\", \"Earl Harmon\", \"Earl Harmon\", \"Earl Harmon\", \"Earl Harmon\", \"Earl Harmon\", \"Earl Harmon\", \"Earl Harmon\", \"Earl Harmon\", \"Earl Harmon\", \"Earl Harmon\", \"Earl Harmon\", \"Earl Harmon\", \"Earl Harmon\", \"Earl Harmon\", \"Earl Harmon\", \"Earl Harmon\", \"Earl Harmon\", \"Earl Harmon\", \"Earl Harmon\", \"Blair Mckissick\", \"Everett Mcneill\", \"Everett Mcneill\", \"Everett Mcneill\", \"Everett Mcneill\", \"Everett Mcneill\", \"Everett Mcneill\", \"Everett Mcneill\", \"Everett Mcneill\", \"Everett Mcneill\", \"Everett Mcneill\", \"Everett Mcneill\", \"Everett Mcneill\", \"Everett Mcneill\", \"Everett Mcneill\", \"Everett Mcneill\", \"Everett Mcneill\", \"Everett Mcneill\", \"Everett Mcneill\", \"Everett Mcneill\", \"Everett Mcneill\", \"Everett Mcneill\", \"Everett Mcneill\", \"Everett Mcneill\", \"Everett Mcneill\", \"Everett Mcneill\", \"Everett Mcneill\", \"Everett Mcneill\", \"Everett Mcneill\", \"Everett Mcneill\", \"Everett Mcneill\", \"Everett Mcneill\", \"Everett Mcneill\", \"Everett Mcneill\", \"Everett Mcneill\", \"Everett Mcneill\", \"Everett Mcneill\", \"Everett Mcneill\", \"Everett Mcneill\", \"Everett Mcneill\", \"Everett Mcneill\", \"Everett Mcneill\", \"Everett Mcneill\", \"Everett Mcneill\", \"Everett Mcneill\", \"Maggie Wallace\", \"Victoria Mcintosh\", \"Victoria Mcintosh\", \"Victoria Mcintosh\", \"Victoria Mcintosh\", \"Victoria Mcintosh\", \"Victoria Mcintosh\", \"Victoria Mcintosh\", \"Victoria Mcintosh\", \"Victoria Mcintosh\", \"Victoria Mcintosh\", \"Victoria Mcintosh\", \"Victoria Mcintosh\", \"Victoria Mcintosh\", \"Victoria Mcintosh\", \"Victoria Mcintosh\", \"Victoria Mcintosh\", \"Victoria Mcintosh\", \"Victoria Mcintosh\", \"Victoria Mcintosh\", \"Victoria Mcintosh\", \"Victoria Mcintosh\", \"Victoria Mcintosh\", \"Victoria Mcintosh\", \"Victoria Mcintosh\", \"Victoria Mcintosh\", \"Victoria Mcintosh\", \"Victoria Mcintosh\", \"Victoria Mcintosh\", \"Victoria Mcintosh\", \"Victoria Mcintosh\", \"Victoria Mcintosh\", \"Victoria Mcintosh\", \"Victoria Mcintosh\", \"Victoria Mcintosh\", \"Victoria Mcintosh\", \"Victoria Mcintosh\", \"Brenda Guiterrez\", \"Brenda Guiterrez\", \"Brenda Guiterrez\", \"John Thomas\", \"Robert Appleby\", \"Kerry Clarkson\", \"Ruby Trahan\", \"Ruby Trahan\", \"Ruby Trahan\", \"Ruby Trahan\", \"Harvey Millsaps\", \"Harvey Millsaps\", \"Harvey Millsaps\", \"Charles Ferguson\", \"Leo Wigington\", \"Katie Bingham\", \"Katie Bingham\", \"Katie Bingham\", \"Katie Bingham\", \"Katie Bingham\", \"Katie Bingham\", \"Katie Bingham\", \"Ruth Oakley\", \"William Wait\", \"Carmen Seaney\", \"Carmen Seaney\", \"Carmen Seaney\", \"Elizabeth Mutter\", \"Laura Campbell\", \"Laura Campbell\", \"Laura Campbell\", \"Laura Campbell\", \"Laura Campbell\", \"Laura Campbell\", \"Dorothy Menendez\", \"Dorothy Menendez\", \"Dorothy Menendez\", \"Dorothy Menendez\", \"Dorothy Menendez\", \"Dorothy Menendez\", \"Dorothy Menendez\", \"Dorothy Menendez\", \"George Proctor\", \"George Proctor\", \"Bonnie Humes\", \"Leroy Vela\", \"Leroy Vela\", \"Leroy Vela\", \"Leroy Vela\", \"Douglas Woodruff\", \"Douglas Woodruff\", \"Douglas Woodruff\", \"Douglas Woodruff\", \"Mary Falk\", \"Laura Brewer\", \"Laura Brewer\", \"Laura Brewer\", \"Laura Brewer\", \"Aida Vito\", \"Aida Vito\", \"Aida Vito\", null], \"xaxis\": \"x\", \"yaxis\": \"y\"}],\n",
       "                        {\"barmode\": \"relative\", \"legend\": {\"tracegroupgap\": 0}, \"template\": {\"data\": {\"bar\": [{\"error_x\": {\"color\": \"#2a3f5f\"}, \"error_y\": {\"color\": \"#2a3f5f\"}, \"marker\": {\"line\": {\"color\": \"#E5ECF6\", \"width\": 0.5}}, \"type\": \"bar\"}], \"barpolar\": [{\"marker\": {\"line\": {\"color\": \"#E5ECF6\", \"width\": 0.5}}, \"type\": \"barpolar\"}], \"carpet\": [{\"aaxis\": {\"endlinecolor\": \"#2a3f5f\", \"gridcolor\": \"white\", \"linecolor\": \"white\", \"minorgridcolor\": \"white\", \"startlinecolor\": \"#2a3f5f\"}, \"baxis\": {\"endlinecolor\": \"#2a3f5f\", \"gridcolor\": \"white\", \"linecolor\": \"white\", \"minorgridcolor\": \"white\", \"startlinecolor\": \"#2a3f5f\"}, \"type\": \"carpet\"}], \"choropleth\": [{\"colorbar\": {\"outlinewidth\": 0, \"ticks\": \"\"}, \"type\": \"choropleth\"}], \"contour\": [{\"colorbar\": {\"outlinewidth\": 0, \"ticks\": \"\"}, \"colorscale\": [[0.0, \"#0d0887\"], [0.1111111111111111, \"#46039f\"], [0.2222222222222222, \"#7201a8\"], [0.3333333333333333, \"#9c179e\"], [0.4444444444444444, \"#bd3786\"], [0.5555555555555556, \"#d8576b\"], [0.6666666666666666, \"#ed7953\"], [0.7777777777777778, \"#fb9f3a\"], [0.8888888888888888, \"#fdca26\"], [1.0, \"#f0f921\"]], \"type\": \"contour\"}], \"contourcarpet\": [{\"colorbar\": {\"outlinewidth\": 0, \"ticks\": \"\"}, \"type\": \"contourcarpet\"}], \"heatmap\": [{\"colorbar\": {\"outlinewidth\": 0, \"ticks\": \"\"}, \"colorscale\": [[0.0, \"#0d0887\"], [0.1111111111111111, \"#46039f\"], [0.2222222222222222, \"#7201a8\"], [0.3333333333333333, \"#9c179e\"], [0.4444444444444444, \"#bd3786\"], [0.5555555555555556, \"#d8576b\"], [0.6666666666666666, \"#ed7953\"], [0.7777777777777778, \"#fb9f3a\"], [0.8888888888888888, \"#fdca26\"], [1.0, \"#f0f921\"]], \"type\": \"heatmap\"}], \"heatmapgl\": [{\"colorbar\": {\"outlinewidth\": 0, \"ticks\": \"\"}, \"colorscale\": [[0.0, \"#0d0887\"], [0.1111111111111111, \"#46039f\"], [0.2222222222222222, \"#7201a8\"], [0.3333333333333333, \"#9c179e\"], [0.4444444444444444, \"#bd3786\"], [0.5555555555555556, \"#d8576b\"], [0.6666666666666666, \"#ed7953\"], [0.7777777777777778, \"#fb9f3a\"], [0.8888888888888888, \"#fdca26\"], [1.0, \"#f0f921\"]], \"type\": \"heatmapgl\"}], \"histogram\": [{\"marker\": {\"colorbar\": {\"outlinewidth\": 0, \"ticks\": \"\"}}, \"type\": \"histogram\"}], \"histogram2d\": [{\"colorbar\": {\"outlinewidth\": 0, \"ticks\": \"\"}, \"colorscale\": [[0.0, \"#0d0887\"], [0.1111111111111111, \"#46039f\"], [0.2222222222222222, \"#7201a8\"], [0.3333333333333333, \"#9c179e\"], [0.4444444444444444, \"#bd3786\"], [0.5555555555555556, \"#d8576b\"], [0.6666666666666666, \"#ed7953\"], [0.7777777777777778, \"#fb9f3a\"], [0.8888888888888888, \"#fdca26\"], [1.0, \"#f0f921\"]], \"type\": \"histogram2d\"}], \"histogram2dcontour\": [{\"colorbar\": {\"outlinewidth\": 0, \"ticks\": \"\"}, \"colorscale\": [[0.0, \"#0d0887\"], [0.1111111111111111, \"#46039f\"], [0.2222222222222222, \"#7201a8\"], [0.3333333333333333, \"#9c179e\"], [0.4444444444444444, \"#bd3786\"], [0.5555555555555556, \"#d8576b\"], [0.6666666666666666, \"#ed7953\"], [0.7777777777777778, \"#fb9f3a\"], [0.8888888888888888, \"#fdca26\"], [1.0, \"#f0f921\"]], \"type\": \"histogram2dcontour\"}], \"mesh3d\": [{\"colorbar\": {\"outlinewidth\": 0, \"ticks\": \"\"}, \"type\": \"mesh3d\"}], \"parcoords\": [{\"line\": {\"colorbar\": {\"outlinewidth\": 0, \"ticks\": \"\"}}, \"type\": \"parcoords\"}], \"pie\": [{\"automargin\": true, \"type\": \"pie\"}], \"scatter\": [{\"marker\": {\"colorbar\": {\"outlinewidth\": 0, \"ticks\": \"\"}}, \"type\": \"scatter\"}], \"scatter3d\": [{\"line\": {\"colorbar\": {\"outlinewidth\": 0, \"ticks\": \"\"}}, \"marker\": {\"colorbar\": {\"outlinewidth\": 0, \"ticks\": \"\"}}, \"type\": \"scatter3d\"}], \"scattercarpet\": [{\"marker\": {\"colorbar\": {\"outlinewidth\": 0, \"ticks\": \"\"}}, \"type\": \"scattercarpet\"}], \"scattergeo\": [{\"marker\": {\"colorbar\": {\"outlinewidth\": 0, \"ticks\": \"\"}}, \"type\": \"scattergeo\"}], \"scattergl\": [{\"marker\": {\"colorbar\": {\"outlinewidth\": 0, \"ticks\": \"\"}}, \"type\": \"scattergl\"}], \"scattermapbox\": [{\"marker\": {\"colorbar\": {\"outlinewidth\": 0, \"ticks\": \"\"}}, \"type\": \"scattermapbox\"}], \"scatterpolar\": [{\"marker\": {\"colorbar\": {\"outlinewidth\": 0, \"ticks\": \"\"}}, \"type\": \"scatterpolar\"}], \"scatterpolargl\": [{\"marker\": {\"colorbar\": {\"outlinewidth\": 0, \"ticks\": \"\"}}, \"type\": \"scatterpolargl\"}], \"scatterternary\": [{\"marker\": {\"colorbar\": {\"outlinewidth\": 0, \"ticks\": \"\"}}, \"type\": \"scatterternary\"}], \"surface\": [{\"colorbar\": {\"outlinewidth\": 0, \"ticks\": \"\"}, \"colorscale\": [[0.0, \"#0d0887\"], [0.1111111111111111, \"#46039f\"], [0.2222222222222222, \"#7201a8\"], [0.3333333333333333, \"#9c179e\"], [0.4444444444444444, \"#bd3786\"], [0.5555555555555556, \"#d8576b\"], [0.6666666666666666, \"#ed7953\"], [0.7777777777777778, \"#fb9f3a\"], [0.8888888888888888, \"#fdca26\"], [1.0, \"#f0f921\"]], \"type\": \"surface\"}], \"table\": [{\"cells\": {\"fill\": {\"color\": \"#EBF0F8\"}, \"line\": {\"color\": \"white\"}}, \"header\": {\"fill\": {\"color\": \"#C8D4E3\"}, \"line\": {\"color\": \"white\"}}, \"type\": \"table\"}]}, \"layout\": {\"annotationdefaults\": {\"arrowcolor\": \"#2a3f5f\", \"arrowhead\": 0, \"arrowwidth\": 1}, \"coloraxis\": {\"colorbar\": {\"outlinewidth\": 0, \"ticks\": \"\"}}, \"colorscale\": {\"diverging\": [[0, \"#8e0152\"], [0.1, \"#c51b7d\"], [0.2, \"#de77ae\"], [0.3, \"#f1b6da\"], [0.4, \"#fde0ef\"], [0.5, \"#f7f7f7\"], [0.6, \"#e6f5d0\"], [0.7, \"#b8e186\"], [0.8, \"#7fbc41\"], [0.9, \"#4d9221\"], [1, \"#276419\"]], \"sequential\": [[0.0, \"#0d0887\"], [0.1111111111111111, \"#46039f\"], [0.2222222222222222, \"#7201a8\"], [0.3333333333333333, \"#9c179e\"], [0.4444444444444444, \"#bd3786\"], [0.5555555555555556, \"#d8576b\"], [0.6666666666666666, \"#ed7953\"], [0.7777777777777778, \"#fb9f3a\"], [0.8888888888888888, \"#fdca26\"], [1.0, \"#f0f921\"]], \"sequentialminus\": [[0.0, \"#0d0887\"], [0.1111111111111111, \"#46039f\"], [0.2222222222222222, \"#7201a8\"], [0.3333333333333333, \"#9c179e\"], [0.4444444444444444, \"#bd3786\"], [0.5555555555555556, \"#d8576b\"], [0.6666666666666666, \"#ed7953\"], [0.7777777777777778, \"#fb9f3a\"], [0.8888888888888888, \"#fdca26\"], [1.0, \"#f0f921\"]]}, \"colorway\": [\"#636efa\", \"#EF553B\", \"#00cc96\", \"#ab63fa\", \"#FFA15A\", \"#19d3f3\", \"#FF6692\", \"#B6E880\", \"#FF97FF\", \"#FECB52\"], \"font\": {\"color\": \"#2a3f5f\"}, \"geo\": {\"bgcolor\": \"white\", \"lakecolor\": \"white\", \"landcolor\": \"#E5ECF6\", \"showlakes\": true, \"showland\": true, \"subunitcolor\": \"white\"}, \"hoverlabel\": {\"align\": \"left\"}, \"hovermode\": \"closest\", \"mapbox\": {\"style\": \"light\"}, \"paper_bgcolor\": \"white\", \"plot_bgcolor\": \"#E5ECF6\", \"polar\": {\"angularaxis\": {\"gridcolor\": \"white\", \"linecolor\": \"white\", \"ticks\": \"\"}, \"bgcolor\": \"#E5ECF6\", \"radialaxis\": {\"gridcolor\": \"white\", \"linecolor\": \"white\", \"ticks\": \"\"}}, \"scene\": {\"xaxis\": {\"backgroundcolor\": \"#E5ECF6\", \"gridcolor\": \"white\", \"gridwidth\": 2, \"linecolor\": \"white\", \"showbackground\": true, \"ticks\": \"\", \"zerolinecolor\": \"white\"}, \"yaxis\": {\"backgroundcolor\": \"#E5ECF6\", \"gridcolor\": \"white\", \"gridwidth\": 2, \"linecolor\": \"white\", \"showbackground\": true, \"ticks\": \"\", \"zerolinecolor\": \"white\"}, \"zaxis\": {\"backgroundcolor\": \"#E5ECF6\", \"gridcolor\": \"white\", \"gridwidth\": 2, \"linecolor\": \"white\", \"showbackground\": true, \"ticks\": \"\", \"zerolinecolor\": \"white\"}}, \"shapedefaults\": {\"line\": {\"color\": \"#2a3f5f\"}}, \"ternary\": {\"aaxis\": {\"gridcolor\": \"white\", \"linecolor\": \"white\", \"ticks\": \"\"}, \"baxis\": {\"gridcolor\": \"white\", \"linecolor\": \"white\", \"ticks\": \"\"}, \"bgcolor\": \"#E5ECF6\", \"caxis\": {\"gridcolor\": \"white\", \"linecolor\": \"white\", \"ticks\": \"\"}}, \"title\": {\"x\": 0.05}, \"xaxis\": {\"automargin\": true, \"gridcolor\": \"white\", \"linecolor\": \"white\", \"ticks\": \"\", \"title\": {\"standoff\": 15}, \"zerolinecolor\": \"white\", \"zerolinewidth\": 2}, \"yaxis\": {\"automargin\": true, \"gridcolor\": \"white\", \"linecolor\": \"white\", \"ticks\": \"\", \"title\": {\"standoff\": 15}, \"zerolinecolor\": \"white\", \"zerolinewidth\": 2}}}, \"title\": {\"text\": \"Services by Service Manager\"}, \"xaxis\": {\"anchor\": \"y\", \"domain\": [0.0, 1.0], \"title\": {\"text\": \"SERVICE_OWNER\"}}, \"yaxis\": {\"anchor\": \"x\", \"domain\": [0.0, 1.0]}},\n",
       "                        {\"responsive\": true}\n",
       "                    ).then(function(){\n",
       "                            \n",
       "var gd = document.getElementById('1a60f192-73ee-4b54-8286-84ecb729aadb');\n",
       "var x = new MutationObserver(function (mutations, observer) {{\n",
       "        var display = window.getComputedStyle(gd).display;\n",
       "        if (!display || display === 'none') {{\n",
       "            console.log([gd, 'removed!']);\n",
       "            Plotly.purge(gd);\n",
       "            observer.disconnect();\n",
       "        }}\n",
       "}});\n",
       "\n",
       "// Listen for the removal of the full notebook cells\n",
       "var notebookContainer = gd.closest('#notebook-container');\n",
       "if (notebookContainer) {{\n",
       "    x.observe(notebookContainer, {childList: true});\n",
       "}}\n",
       "\n",
       "// Listen for the clearing of the current output cell\n",
       "var outputEl = gd.closest('.output');\n",
       "if (outputEl) {{\n",
       "    x.observe(outputEl, {childList: true});\n",
       "}}\n",
       "\n",
       "                        })\n",
       "                };\n",
       "                });\n",
       "            </script>\n",
       "        </div>"
      ]
     },
     "metadata": {},
     "output_type": "display_data"
    }
   ],
   "source": [
    "## Service Manager\n",
    "## Count of Services by Service manager - \n",
    "\n",
    "fig = px.bar(SERVICE_MANAGER, x='SERVICE_OWNER',hover_name='SERVICE_OWNER',title='Services by Service Manager')\n",
    "fig.show()"
   ]
  },
  {
   "cell_type": "code",
   "execution_count": 31,
   "metadata": {},
   "outputs": [
    {
     "data": {
      "application/vnd.plotly.v1+json": {
       "config": {
        "plotlyServerURL": "https://plot.ly"
       },
       "data": [
        {
         "alignmentgroup": "True",
         "hoverlabel": {
          "namelength": 0
         },
         "hovertemplate": "<b>%{hovertext}</b><br><br>EVENT_TYPE=%{x}",
         "hovertext": [
          9,
          4,
          6,
          6,
          6,
          4,
          4,
          4,
          4,
          4,
          4,
          4,
          4,
          4,
          4,
          6,
          6,
          8,
          8,
          6,
          6,
          8,
          8,
          8,
          8,
          8,
          8,
          8,
          8,
          8,
          8,
          8,
          6,
          6,
          6,
          6,
          6,
          6,
          6,
          6,
          6,
          6,
          6,
          6,
          6,
          6,
          6,
          6,
          6,
          6,
          6,
          6,
          6,
          6,
          6,
          6,
          6,
          6,
          6,
          6,
          6,
          6,
          6,
          6,
          6,
          6,
          6,
          6,
          6,
          6,
          6,
          6,
          6,
          6,
          6,
          6,
          6,
          6,
          6,
          6,
          6,
          6,
          6,
          6,
          6,
          6,
          8,
          6,
          4,
          8,
          0,
          6,
          6,
          6,
          6,
          6,
          6,
          6,
          9,
          6,
          6,
          6,
          0,
          6,
          4,
          9,
          8,
          4,
          8,
          8,
          4,
          4,
          6,
          4,
          4,
          4,
          4,
          4,
          4,
          4,
          4,
          4,
          6,
          1,
          8,
          1,
          1,
          8,
          6,
          4,
          4,
          4,
          9,
          9,
          8,
          6,
          6,
          4,
          4,
          4,
          4,
          1,
          1,
          1,
          9,
          1,
          6,
          8,
          8,
          1,
          1,
          4,
          4,
          4,
          4,
          1,
          8,
          8,
          8,
          8,
          8,
          8,
          8,
          9,
          9,
          9,
          8,
          8,
          8,
          12,
          3,
          9,
          9,
          9,
          9,
          9,
          8,
          8,
          8,
          8,
          8,
          8,
          8,
          8,
          8,
          8,
          8,
          8,
          8,
          8,
          8,
          8,
          8,
          8,
          8,
          8,
          8,
          8,
          8,
          8,
          9,
          9,
          9,
          9,
          9,
          9,
          8,
          8,
          8,
          8,
          8,
          8,
          8,
          8,
          8,
          8,
          8,
          8,
          8,
          8,
          8,
          4,
          4,
          4,
          9,
          9,
          1,
          8,
          8,
          8,
          8,
          8,
          8,
          9,
          9,
          6,
          4,
          4,
          4,
          9,
          9,
          6,
          9,
          9,
          6,
          6,
          0,
          0,
          9,
          9,
          9,
          8,
          6,
          9,
          8,
          8,
          4,
          4,
          4,
          9,
          9,
          8,
          8,
          9,
          9,
          9,
          8,
          8,
          1,
          1,
          1,
          1,
          1,
          1,
          1,
          1,
          5,
          8,
          6,
          6,
          8,
          0,
          0,
          1,
          1,
          4,
          1,
          1,
          1,
          1,
          6,
          1,
          8,
          1,
          1,
          0,
          6,
          1,
          6,
          6,
          9,
          1,
          1,
          8,
          8,
          8,
          8,
          8,
          8,
          8,
          8,
          8,
          4,
          6,
          9,
          1,
          8,
          8,
          8,
          9,
          9,
          8,
          8,
          8,
          4,
          4,
          9,
          8,
          9,
          9,
          8,
          9,
          4,
          9,
          9,
          1,
          8,
          8,
          8,
          9,
          9,
          9,
          6,
          8,
          9,
          9,
          9,
          9,
          8,
          8,
          8,
          9,
          9,
          9,
          6,
          6,
          6,
          4,
          9,
          9,
          9,
          9,
          9,
          9,
          6,
          9,
          9,
          9,
          4,
          9,
          9,
          9,
          9,
          1,
          1,
          1,
          6,
          9,
          1,
          1,
          4,
          4,
          4,
          9,
          0,
          8,
          9,
          0,
          0,
          4,
          9,
          0,
          0,
          4,
          9,
          4,
          4,
          4,
          9,
          9,
          9,
          8,
          4,
          4,
          4,
          4,
          4,
          4,
          4,
          9,
          9,
          1,
          1,
          9,
          0,
          9,
          6,
          6,
          9,
          8,
          8,
          4,
          9,
          0,
          0,
          0,
          0,
          0,
          0,
          9,
          9,
          6,
          6,
          4,
          9,
          9,
          9,
          9,
          12,
          1,
          1,
          1,
          1,
          4,
          1,
          8,
          12,
          9,
          4,
          4,
          9,
          9,
          9,
          6,
          12,
          4,
          9,
          9,
          9,
          9,
          9,
          6,
          6,
          6,
          6,
          6,
          6,
          9,
          9,
          9,
          6,
          9,
          9,
          9,
          4,
          6,
          9,
          9,
          9,
          9,
          4,
          4,
          4,
          4,
          4,
          4,
          9,
          6,
          9,
          9,
          9,
          9,
          9,
          9,
          8,
          9,
          4,
          4,
          4,
          4,
          1,
          9,
          9,
          9,
          9,
          9,
          9,
          9,
          9,
          9,
          9,
          9,
          9,
          9,
          9,
          9,
          9,
          9,
          9,
          9,
          9,
          9,
          9,
          9,
          9,
          9,
          9,
          9,
          9,
          9,
          9,
          9,
          4,
          8,
          6,
          9,
          9,
          4,
          4,
          4,
          1,
          9,
          8,
          0,
          4,
          9,
          1,
          6,
          9,
          6,
          6,
          6,
          6,
          4,
          4,
          9,
          4,
          4,
          9,
          1,
          4,
          4,
          12,
          6,
          6,
          9,
          9,
          9,
          6,
          4,
          6,
          6,
          6,
          6,
          6,
          6,
          6,
          1,
          9,
          9,
          8,
          6,
          6,
          1,
          1,
          4,
          4,
          4,
          4,
          4,
          9,
          6,
          4,
          4,
          4,
          4,
          4,
          4,
          4,
          4,
          4,
          4,
          4,
          4,
          4,
          8,
          8,
          8,
          8,
          1,
          1,
          4,
          4,
          4,
          1,
          1,
          8,
          9,
          4,
          9,
          9,
          6,
          4,
          4,
          8,
          9,
          9,
          6,
          4,
          4,
          9,
          8,
          9,
          9,
          9,
          6,
          8,
          8,
          4,
          1,
          1,
          1,
          4,
          9,
          6,
          1,
          1,
          0,
          4,
          4,
          0,
          1,
          1,
          4,
          9,
          9,
          9,
          6,
          6,
          6,
          4,
          4,
          1,
          9,
          1,
          1,
          8,
          4,
          6,
          8,
          8,
          6,
          4,
          4,
          9,
          4,
          6,
          6,
          4,
          4,
          4,
          4,
          8,
          4,
          9,
          9,
          4,
          8,
          8,
          4,
          4,
          9,
          9,
          8,
          8,
          8,
          8,
          8,
          8,
          4,
          0,
          8,
          8,
          8,
          8,
          0,
          8,
          8,
          8,
          8,
          8,
          0,
          8,
          8,
          9,
          9,
          8,
          8,
          8,
          8,
          4,
          8,
          8,
          6,
          8,
          8,
          8,
          8,
          8,
          8,
          8,
          8,
          8,
          8,
          8,
          8,
          8,
          0,
          0,
          0,
          8,
          8,
          8,
          0,
          6,
          6,
          9,
          9,
          0,
          4,
          4,
          4,
          4,
          4,
          4,
          9,
          1,
          6,
          4,
          4,
          1,
          1,
          8,
          4,
          4,
          8,
          8,
          6,
          6,
          6,
          1,
          8,
          1,
          4,
          4,
          4,
          1,
          8,
          1,
          8,
          8,
          8,
          8,
          4,
          4,
          4,
          0,
          6,
          4,
          4,
          4,
          4,
          4,
          4,
          4,
          4,
          4,
          4,
          4,
          4,
          4,
          4,
          8,
          1,
          9,
          0,
          0,
          8,
          9,
          1,
          1,
          8,
          4,
          4,
          4,
          9,
          9,
          9,
          8,
          8,
          6,
          9,
          9,
          4,
          4,
          4,
          4,
          4,
          4,
          4,
          4,
          4,
          4,
          4,
          4,
          4,
          12,
          12,
          12,
          12,
          9,
          8,
          8,
          9,
          9,
          9,
          8,
          4,
          1,
          8,
          8,
          1
         ],
         "legendgroup": "",
         "marker": {
          "color": "#636efa"
         },
         "name": "",
         "offsetgroup": "",
         "orientation": "v",
         "showlegend": false,
         "textposition": "auto",
         "type": "bar",
         "x": [
          9,
          4,
          6,
          6,
          6,
          4,
          4,
          4,
          4,
          4,
          4,
          4,
          4,
          4,
          4,
          6,
          6,
          8,
          8,
          6,
          6,
          8,
          8,
          8,
          8,
          8,
          8,
          8,
          8,
          8,
          8,
          8,
          6,
          6,
          6,
          6,
          6,
          6,
          6,
          6,
          6,
          6,
          6,
          6,
          6,
          6,
          6,
          6,
          6,
          6,
          6,
          6,
          6,
          6,
          6,
          6,
          6,
          6,
          6,
          6,
          6,
          6,
          6,
          6,
          6,
          6,
          6,
          6,
          6,
          6,
          6,
          6,
          6,
          6,
          6,
          6,
          6,
          6,
          6,
          6,
          6,
          6,
          6,
          6,
          6,
          6,
          8,
          6,
          4,
          8,
          0,
          6,
          6,
          6,
          6,
          6,
          6,
          6,
          9,
          6,
          6,
          6,
          0,
          6,
          4,
          9,
          8,
          4,
          8,
          8,
          4,
          4,
          6,
          4,
          4,
          4,
          4,
          4,
          4,
          4,
          4,
          4,
          6,
          1,
          8,
          1,
          1,
          8,
          6,
          4,
          4,
          4,
          9,
          9,
          8,
          6,
          6,
          4,
          4,
          4,
          4,
          1,
          1,
          1,
          9,
          1,
          6,
          8,
          8,
          1,
          1,
          4,
          4,
          4,
          4,
          1,
          8,
          8,
          8,
          8,
          8,
          8,
          8,
          9,
          9,
          9,
          8,
          8,
          8,
          12,
          3,
          9,
          9,
          9,
          9,
          9,
          8,
          8,
          8,
          8,
          8,
          8,
          8,
          8,
          8,
          8,
          8,
          8,
          8,
          8,
          8,
          8,
          8,
          8,
          8,
          8,
          8,
          8,
          8,
          8,
          9,
          9,
          9,
          9,
          9,
          9,
          8,
          8,
          8,
          8,
          8,
          8,
          8,
          8,
          8,
          8,
          8,
          8,
          8,
          8,
          8,
          4,
          4,
          4,
          9,
          9,
          1,
          8,
          8,
          8,
          8,
          8,
          8,
          9,
          9,
          6,
          4,
          4,
          4,
          9,
          9,
          6,
          9,
          9,
          6,
          6,
          0,
          0,
          9,
          9,
          9,
          8,
          6,
          9,
          8,
          8,
          4,
          4,
          4,
          9,
          9,
          8,
          8,
          9,
          9,
          9,
          8,
          8,
          1,
          1,
          1,
          1,
          1,
          1,
          1,
          1,
          5,
          8,
          6,
          6,
          8,
          0,
          0,
          1,
          1,
          4,
          1,
          1,
          1,
          1,
          6,
          1,
          8,
          1,
          1,
          0,
          6,
          1,
          6,
          6,
          9,
          1,
          1,
          8,
          8,
          8,
          8,
          8,
          8,
          8,
          8,
          8,
          4,
          6,
          9,
          1,
          8,
          8,
          8,
          9,
          9,
          8,
          8,
          8,
          4,
          4,
          9,
          8,
          9,
          9,
          8,
          9,
          4,
          9,
          9,
          1,
          8,
          8,
          8,
          9,
          9,
          9,
          6,
          8,
          9,
          9,
          9,
          9,
          8,
          8,
          8,
          9,
          9,
          9,
          6,
          6,
          6,
          4,
          9,
          9,
          9,
          9,
          9,
          9,
          6,
          9,
          9,
          9,
          4,
          9,
          9,
          9,
          9,
          1,
          1,
          1,
          6,
          9,
          1,
          1,
          4,
          4,
          4,
          9,
          0,
          8,
          9,
          0,
          0,
          4,
          9,
          0,
          0,
          4,
          9,
          4,
          4,
          4,
          9,
          9,
          9,
          8,
          4,
          4,
          4,
          4,
          4,
          4,
          4,
          9,
          9,
          1,
          1,
          9,
          0,
          9,
          6,
          6,
          9,
          8,
          8,
          4,
          9,
          0,
          0,
          0,
          0,
          0,
          0,
          9,
          9,
          6,
          6,
          4,
          9,
          9,
          9,
          9,
          12,
          1,
          1,
          1,
          1,
          4,
          1,
          8,
          12,
          9,
          4,
          4,
          9,
          9,
          9,
          6,
          12,
          4,
          9,
          9,
          9,
          9,
          9,
          6,
          6,
          6,
          6,
          6,
          6,
          9,
          9,
          9,
          6,
          9,
          9,
          9,
          4,
          6,
          9,
          9,
          9,
          9,
          4,
          4,
          4,
          4,
          4,
          4,
          9,
          6,
          9,
          9,
          9,
          9,
          9,
          9,
          8,
          9,
          4,
          4,
          4,
          4,
          1,
          9,
          9,
          9,
          9,
          9,
          9,
          9,
          9,
          9,
          9,
          9,
          9,
          9,
          9,
          9,
          9,
          9,
          9,
          9,
          9,
          9,
          9,
          9,
          9,
          9,
          9,
          9,
          9,
          9,
          9,
          9,
          4,
          8,
          6,
          9,
          9,
          4,
          4,
          4,
          1,
          9,
          8,
          0,
          4,
          9,
          1,
          6,
          9,
          6,
          6,
          6,
          6,
          4,
          4,
          9,
          4,
          4,
          9,
          1,
          4,
          4,
          12,
          6,
          6,
          9,
          9,
          9,
          6,
          4,
          6,
          6,
          6,
          6,
          6,
          6,
          6,
          1,
          9,
          9,
          8,
          6,
          6,
          1,
          1,
          4,
          4,
          4,
          4,
          4,
          9,
          6,
          4,
          4,
          4,
          4,
          4,
          4,
          4,
          4,
          4,
          4,
          4,
          4,
          4,
          8,
          8,
          8,
          8,
          1,
          1,
          4,
          4,
          4,
          1,
          1,
          8,
          9,
          4,
          9,
          9,
          6,
          4,
          4,
          8,
          9,
          9,
          6,
          4,
          4,
          9,
          8,
          9,
          9,
          9,
          6,
          8,
          8,
          4,
          1,
          1,
          1,
          4,
          9,
          6,
          1,
          1,
          0,
          4,
          4,
          0,
          1,
          1,
          4,
          9,
          9,
          9,
          6,
          6,
          6,
          4,
          4,
          1,
          9,
          1,
          1,
          8,
          4,
          6,
          8,
          8,
          6,
          4,
          4,
          9,
          4,
          6,
          6,
          4,
          4,
          4,
          4,
          8,
          4,
          9,
          9,
          4,
          8,
          8,
          4,
          4,
          9,
          9,
          8,
          8,
          8,
          8,
          8,
          8,
          4,
          0,
          8,
          8,
          8,
          8,
          0,
          8,
          8,
          8,
          8,
          8,
          0,
          8,
          8,
          9,
          9,
          8,
          8,
          8,
          8,
          4,
          8,
          8,
          6,
          8,
          8,
          8,
          8,
          8,
          8,
          8,
          8,
          8,
          8,
          8,
          8,
          8,
          0,
          0,
          0,
          8,
          8,
          8,
          0,
          6,
          6,
          9,
          9,
          0,
          4,
          4,
          4,
          4,
          4,
          4,
          9,
          1,
          6,
          4,
          4,
          1,
          1,
          8,
          4,
          4,
          8,
          8,
          6,
          6,
          6,
          1,
          8,
          1,
          4,
          4,
          4,
          1,
          8,
          1,
          8,
          8,
          8,
          8,
          4,
          4,
          4,
          0,
          6,
          4,
          4,
          4,
          4,
          4,
          4,
          4,
          4,
          4,
          4,
          4,
          4,
          4,
          4,
          8,
          1,
          9,
          0,
          0,
          8,
          9,
          1,
          1,
          8,
          4,
          4,
          4,
          9,
          9,
          9,
          8,
          8,
          6,
          9,
          9,
          4,
          4,
          4,
          4,
          4,
          4,
          4,
          4,
          4,
          4,
          4,
          4,
          4,
          12,
          12,
          12,
          12,
          9,
          8,
          8,
          9,
          9,
          9,
          8,
          4,
          1,
          8,
          8,
          1
         ],
         "xaxis": "x",
         "yaxis": "y"
        }
       ],
       "layout": {
        "barmode": "relative",
        "legend": {
         "tracegroupgap": 0
        },
        "template": {
         "data": {
          "bar": [
           {
            "error_x": {
             "color": "#2a3f5f"
            },
            "error_y": {
             "color": "#2a3f5f"
            },
            "marker": {
             "line": {
              "color": "#E5ECF6",
              "width": 0.5
             }
            },
            "type": "bar"
           }
          ],
          "barpolar": [
           {
            "marker": {
             "line": {
              "color": "#E5ECF6",
              "width": 0.5
             }
            },
            "type": "barpolar"
           }
          ],
          "carpet": [
           {
            "aaxis": {
             "endlinecolor": "#2a3f5f",
             "gridcolor": "white",
             "linecolor": "white",
             "minorgridcolor": "white",
             "startlinecolor": "#2a3f5f"
            },
            "baxis": {
             "endlinecolor": "#2a3f5f",
             "gridcolor": "white",
             "linecolor": "white",
             "minorgridcolor": "white",
             "startlinecolor": "#2a3f5f"
            },
            "type": "carpet"
           }
          ],
          "choropleth": [
           {
            "colorbar": {
             "outlinewidth": 0,
             "ticks": ""
            },
            "type": "choropleth"
           }
          ],
          "contour": [
           {
            "colorbar": {
             "outlinewidth": 0,
             "ticks": ""
            },
            "colorscale": [
             [
              0,
              "#0d0887"
             ],
             [
              0.1111111111111111,
              "#46039f"
             ],
             [
              0.2222222222222222,
              "#7201a8"
             ],
             [
              0.3333333333333333,
              "#9c179e"
             ],
             [
              0.4444444444444444,
              "#bd3786"
             ],
             [
              0.5555555555555556,
              "#d8576b"
             ],
             [
              0.6666666666666666,
              "#ed7953"
             ],
             [
              0.7777777777777778,
              "#fb9f3a"
             ],
             [
              0.8888888888888888,
              "#fdca26"
             ],
             [
              1,
              "#f0f921"
             ]
            ],
            "type": "contour"
           }
          ],
          "contourcarpet": [
           {
            "colorbar": {
             "outlinewidth": 0,
             "ticks": ""
            },
            "type": "contourcarpet"
           }
          ],
          "heatmap": [
           {
            "colorbar": {
             "outlinewidth": 0,
             "ticks": ""
            },
            "colorscale": [
             [
              0,
              "#0d0887"
             ],
             [
              0.1111111111111111,
              "#46039f"
             ],
             [
              0.2222222222222222,
              "#7201a8"
             ],
             [
              0.3333333333333333,
              "#9c179e"
             ],
             [
              0.4444444444444444,
              "#bd3786"
             ],
             [
              0.5555555555555556,
              "#d8576b"
             ],
             [
              0.6666666666666666,
              "#ed7953"
             ],
             [
              0.7777777777777778,
              "#fb9f3a"
             ],
             [
              0.8888888888888888,
              "#fdca26"
             ],
             [
              1,
              "#f0f921"
             ]
            ],
            "type": "heatmap"
           }
          ],
          "heatmapgl": [
           {
            "colorbar": {
             "outlinewidth": 0,
             "ticks": ""
            },
            "colorscale": [
             [
              0,
              "#0d0887"
             ],
             [
              0.1111111111111111,
              "#46039f"
             ],
             [
              0.2222222222222222,
              "#7201a8"
             ],
             [
              0.3333333333333333,
              "#9c179e"
             ],
             [
              0.4444444444444444,
              "#bd3786"
             ],
             [
              0.5555555555555556,
              "#d8576b"
             ],
             [
              0.6666666666666666,
              "#ed7953"
             ],
             [
              0.7777777777777778,
              "#fb9f3a"
             ],
             [
              0.8888888888888888,
              "#fdca26"
             ],
             [
              1,
              "#f0f921"
             ]
            ],
            "type": "heatmapgl"
           }
          ],
          "histogram": [
           {
            "marker": {
             "colorbar": {
              "outlinewidth": 0,
              "ticks": ""
             }
            },
            "type": "histogram"
           }
          ],
          "histogram2d": [
           {
            "colorbar": {
             "outlinewidth": 0,
             "ticks": ""
            },
            "colorscale": [
             [
              0,
              "#0d0887"
             ],
             [
              0.1111111111111111,
              "#46039f"
             ],
             [
              0.2222222222222222,
              "#7201a8"
             ],
             [
              0.3333333333333333,
              "#9c179e"
             ],
             [
              0.4444444444444444,
              "#bd3786"
             ],
             [
              0.5555555555555556,
              "#d8576b"
             ],
             [
              0.6666666666666666,
              "#ed7953"
             ],
             [
              0.7777777777777778,
              "#fb9f3a"
             ],
             [
              0.8888888888888888,
              "#fdca26"
             ],
             [
              1,
              "#f0f921"
             ]
            ],
            "type": "histogram2d"
           }
          ],
          "histogram2dcontour": [
           {
            "colorbar": {
             "outlinewidth": 0,
             "ticks": ""
            },
            "colorscale": [
             [
              0,
              "#0d0887"
             ],
             [
              0.1111111111111111,
              "#46039f"
             ],
             [
              0.2222222222222222,
              "#7201a8"
             ],
             [
              0.3333333333333333,
              "#9c179e"
             ],
             [
              0.4444444444444444,
              "#bd3786"
             ],
             [
              0.5555555555555556,
              "#d8576b"
             ],
             [
              0.6666666666666666,
              "#ed7953"
             ],
             [
              0.7777777777777778,
              "#fb9f3a"
             ],
             [
              0.8888888888888888,
              "#fdca26"
             ],
             [
              1,
              "#f0f921"
             ]
            ],
            "type": "histogram2dcontour"
           }
          ],
          "mesh3d": [
           {
            "colorbar": {
             "outlinewidth": 0,
             "ticks": ""
            },
            "type": "mesh3d"
           }
          ],
          "parcoords": [
           {
            "line": {
             "colorbar": {
              "outlinewidth": 0,
              "ticks": ""
             }
            },
            "type": "parcoords"
           }
          ],
          "pie": [
           {
            "automargin": true,
            "type": "pie"
           }
          ],
          "scatter": [
           {
            "marker": {
             "colorbar": {
              "outlinewidth": 0,
              "ticks": ""
             }
            },
            "type": "scatter"
           }
          ],
          "scatter3d": [
           {
            "line": {
             "colorbar": {
              "outlinewidth": 0,
              "ticks": ""
             }
            },
            "marker": {
             "colorbar": {
              "outlinewidth": 0,
              "ticks": ""
             }
            },
            "type": "scatter3d"
           }
          ],
          "scattercarpet": [
           {
            "marker": {
             "colorbar": {
              "outlinewidth": 0,
              "ticks": ""
             }
            },
            "type": "scattercarpet"
           }
          ],
          "scattergeo": [
           {
            "marker": {
             "colorbar": {
              "outlinewidth": 0,
              "ticks": ""
             }
            },
            "type": "scattergeo"
           }
          ],
          "scattergl": [
           {
            "marker": {
             "colorbar": {
              "outlinewidth": 0,
              "ticks": ""
             }
            },
            "type": "scattergl"
           }
          ],
          "scattermapbox": [
           {
            "marker": {
             "colorbar": {
              "outlinewidth": 0,
              "ticks": ""
             }
            },
            "type": "scattermapbox"
           }
          ],
          "scatterpolar": [
           {
            "marker": {
             "colorbar": {
              "outlinewidth": 0,
              "ticks": ""
             }
            },
            "type": "scatterpolar"
           }
          ],
          "scatterpolargl": [
           {
            "marker": {
             "colorbar": {
              "outlinewidth": 0,
              "ticks": ""
             }
            },
            "type": "scatterpolargl"
           }
          ],
          "scatterternary": [
           {
            "marker": {
             "colorbar": {
              "outlinewidth": 0,
              "ticks": ""
             }
            },
            "type": "scatterternary"
           }
          ],
          "surface": [
           {
            "colorbar": {
             "outlinewidth": 0,
             "ticks": ""
            },
            "colorscale": [
             [
              0,
              "#0d0887"
             ],
             [
              0.1111111111111111,
              "#46039f"
             ],
             [
              0.2222222222222222,
              "#7201a8"
             ],
             [
              0.3333333333333333,
              "#9c179e"
             ],
             [
              0.4444444444444444,
              "#bd3786"
             ],
             [
              0.5555555555555556,
              "#d8576b"
             ],
             [
              0.6666666666666666,
              "#ed7953"
             ],
             [
              0.7777777777777778,
              "#fb9f3a"
             ],
             [
              0.8888888888888888,
              "#fdca26"
             ],
             [
              1,
              "#f0f921"
             ]
            ],
            "type": "surface"
           }
          ],
          "table": [
           {
            "cells": {
             "fill": {
              "color": "#EBF0F8"
             },
             "line": {
              "color": "white"
             }
            },
            "header": {
             "fill": {
              "color": "#C8D4E3"
             },
             "line": {
              "color": "white"
             }
            },
            "type": "table"
           }
          ]
         },
         "layout": {
          "annotationdefaults": {
           "arrowcolor": "#2a3f5f",
           "arrowhead": 0,
           "arrowwidth": 1
          },
          "coloraxis": {
           "colorbar": {
            "outlinewidth": 0,
            "ticks": ""
           }
          },
          "colorscale": {
           "diverging": [
            [
             0,
             "#8e0152"
            ],
            [
             0.1,
             "#c51b7d"
            ],
            [
             0.2,
             "#de77ae"
            ],
            [
             0.3,
             "#f1b6da"
            ],
            [
             0.4,
             "#fde0ef"
            ],
            [
             0.5,
             "#f7f7f7"
            ],
            [
             0.6,
             "#e6f5d0"
            ],
            [
             0.7,
             "#b8e186"
            ],
            [
             0.8,
             "#7fbc41"
            ],
            [
             0.9,
             "#4d9221"
            ],
            [
             1,
             "#276419"
            ]
           ],
           "sequential": [
            [
             0,
             "#0d0887"
            ],
            [
             0.1111111111111111,
             "#46039f"
            ],
            [
             0.2222222222222222,
             "#7201a8"
            ],
            [
             0.3333333333333333,
             "#9c179e"
            ],
            [
             0.4444444444444444,
             "#bd3786"
            ],
            [
             0.5555555555555556,
             "#d8576b"
            ],
            [
             0.6666666666666666,
             "#ed7953"
            ],
            [
             0.7777777777777778,
             "#fb9f3a"
            ],
            [
             0.8888888888888888,
             "#fdca26"
            ],
            [
             1,
             "#f0f921"
            ]
           ],
           "sequentialminus": [
            [
             0,
             "#0d0887"
            ],
            [
             0.1111111111111111,
             "#46039f"
            ],
            [
             0.2222222222222222,
             "#7201a8"
            ],
            [
             0.3333333333333333,
             "#9c179e"
            ],
            [
             0.4444444444444444,
             "#bd3786"
            ],
            [
             0.5555555555555556,
             "#d8576b"
            ],
            [
             0.6666666666666666,
             "#ed7953"
            ],
            [
             0.7777777777777778,
             "#fb9f3a"
            ],
            [
             0.8888888888888888,
             "#fdca26"
            ],
            [
             1,
             "#f0f921"
            ]
           ]
          },
          "colorway": [
           "#636efa",
           "#EF553B",
           "#00cc96",
           "#ab63fa",
           "#FFA15A",
           "#19d3f3",
           "#FF6692",
           "#B6E880",
           "#FF97FF",
           "#FECB52"
          ],
          "font": {
           "color": "#2a3f5f"
          },
          "geo": {
           "bgcolor": "white",
           "lakecolor": "white",
           "landcolor": "#E5ECF6",
           "showlakes": true,
           "showland": true,
           "subunitcolor": "white"
          },
          "hoverlabel": {
           "align": "left"
          },
          "hovermode": "closest",
          "mapbox": {
           "style": "light"
          },
          "paper_bgcolor": "white",
          "plot_bgcolor": "#E5ECF6",
          "polar": {
           "angularaxis": {
            "gridcolor": "white",
            "linecolor": "white",
            "ticks": ""
           },
           "bgcolor": "#E5ECF6",
           "radialaxis": {
            "gridcolor": "white",
            "linecolor": "white",
            "ticks": ""
           }
          },
          "scene": {
           "xaxis": {
            "backgroundcolor": "#E5ECF6",
            "gridcolor": "white",
            "gridwidth": 2,
            "linecolor": "white",
            "showbackground": true,
            "ticks": "",
            "zerolinecolor": "white"
           },
           "yaxis": {
            "backgroundcolor": "#E5ECF6",
            "gridcolor": "white",
            "gridwidth": 2,
            "linecolor": "white",
            "showbackground": true,
            "ticks": "",
            "zerolinecolor": "white"
           },
           "zaxis": {
            "backgroundcolor": "#E5ECF6",
            "gridcolor": "white",
            "gridwidth": 2,
            "linecolor": "white",
            "showbackground": true,
            "ticks": "",
            "zerolinecolor": "white"
           }
          },
          "shapedefaults": {
           "line": {
            "color": "#2a3f5f"
           }
          },
          "ternary": {
           "aaxis": {
            "gridcolor": "white",
            "linecolor": "white",
            "ticks": ""
           },
           "baxis": {
            "gridcolor": "white",
            "linecolor": "white",
            "ticks": ""
           },
           "bgcolor": "#E5ECF6",
           "caxis": {
            "gridcolor": "white",
            "linecolor": "white",
            "ticks": ""
           }
          },
          "title": {
           "x": 0.05
          },
          "xaxis": {
           "automargin": true,
           "gridcolor": "white",
           "linecolor": "white",
           "ticks": "",
           "title": {
            "standoff": 15
           },
           "zerolinecolor": "white",
           "zerolinewidth": 2
          },
          "yaxis": {
           "automargin": true,
           "gridcolor": "white",
           "linecolor": "white",
           "ticks": "",
           "title": {
            "standoff": 15
           },
           "zerolinecolor": "white",
           "zerolinewidth": 2
          }
         }
        },
        "title": {
         "text": "Warning count by event type"
        },
        "xaxis": {
         "anchor": "y",
         "domain": [
          0,
          1
         ],
         "title": {
          "text": "EVENT_TYPE"
         }
        },
        "yaxis": {
         "anchor": "x",
         "domain": [
          0,
          1
         ]
        }
       }
      },
      "text/html": [
       "<div>\n",
       "        \n",
       "        \n",
       "            <div id=\"c5392366-facb-4f2e-b540-4a4e68ebd33f\" class=\"plotly-graph-div\" style=\"height:525px; width:100%;\"></div>\n",
       "            <script type=\"text/javascript\">\n",
       "                require([\"plotly\"], function(Plotly) {\n",
       "                    window.PLOTLYENV=window.PLOTLYENV || {};\n",
       "                    \n",
       "                if (document.getElementById(\"c5392366-facb-4f2e-b540-4a4e68ebd33f\")) {\n",
       "                    Plotly.newPlot(\n",
       "                        'c5392366-facb-4f2e-b540-4a4e68ebd33f',\n",
       "                        [{\"alignmentgroup\": \"True\", \"hoverlabel\": {\"namelength\": 0}, \"hovertemplate\": \"<b>%{hovertext}</b><br><br>EVENT_TYPE=%{x}\", \"hovertext\": [9.0, 4.0, 6.0, 6.0, 6.0, 4.0, 4.0, 4.0, 4.0, 4.0, 4.0, 4.0, 4.0, 4.0, 4.0, 6.0, 6.0, 8.0, 8.0, 6.0, 6.0, 8.0, 8.0, 8.0, 8.0, 8.0, 8.0, 8.0, 8.0, 8.0, 8.0, 8.0, 6.0, 6.0, 6.0, 6.0, 6.0, 6.0, 6.0, 6.0, 6.0, 6.0, 6.0, 6.0, 6.0, 6.0, 6.0, 6.0, 6.0, 6.0, 6.0, 6.0, 6.0, 6.0, 6.0, 6.0, 6.0, 6.0, 6.0, 6.0, 6.0, 6.0, 6.0, 6.0, 6.0, 6.0, 6.0, 6.0, 6.0, 6.0, 6.0, 6.0, 6.0, 6.0, 6.0, 6.0, 6.0, 6.0, 6.0, 6.0, 6.0, 6.0, 6.0, 6.0, 6.0, 6.0, 8.0, 6.0, 4.0, 8.0, 0.0, 6.0, 6.0, 6.0, 6.0, 6.0, 6.0, 6.0, 9.0, 6.0, 6.0, 6.0, 0.0, 6.0, 4.0, 9.0, 8.0, 4.0, 8.0, 8.0, 4.0, 4.0, 6.0, 4.0, 4.0, 4.0, 4.0, 4.0, 4.0, 4.0, 4.0, 4.0, 6.0, 1.0, 8.0, 1.0, 1.0, 8.0, 6.0, 4.0, 4.0, 4.0, 9.0, 9.0, 8.0, 6.0, 6.0, 4.0, 4.0, 4.0, 4.0, 1.0, 1.0, 1.0, 9.0, 1.0, 6.0, 8.0, 8.0, 1.0, 1.0, 4.0, 4.0, 4.0, 4.0, 1.0, 8.0, 8.0, 8.0, 8.0, 8.0, 8.0, 8.0, 9.0, 9.0, 9.0, 8.0, 8.0, 8.0, 12.0, 3.0, 9.0, 9.0, 9.0, 9.0, 9.0, 8.0, 8.0, 8.0, 8.0, 8.0, 8.0, 8.0, 8.0, 8.0, 8.0, 8.0, 8.0, 8.0, 8.0, 8.0, 8.0, 8.0, 8.0, 8.0, 8.0, 8.0, 8.0, 8.0, 8.0, 9.0, 9.0, 9.0, 9.0, 9.0, 9.0, 8.0, 8.0, 8.0, 8.0, 8.0, 8.0, 8.0, 8.0, 8.0, 8.0, 8.0, 8.0, 8.0, 8.0, 8.0, 4.0, 4.0, 4.0, 9.0, 9.0, 1.0, 8.0, 8.0, 8.0, 8.0, 8.0, 8.0, 9.0, 9.0, 6.0, 4.0, 4.0, 4.0, 9.0, 9.0, 6.0, 9.0, 9.0, 6.0, 6.0, 0.0, 0.0, 9.0, 9.0, 9.0, 8.0, 6.0, 9.0, 8.0, 8.0, 4.0, 4.0, 4.0, 9.0, 9.0, 8.0, 8.0, 9.0, 9.0, 9.0, 8.0, 8.0, 1.0, 1.0, 1.0, 1.0, 1.0, 1.0, 1.0, 1.0, 5.0, 8.0, 6.0, 6.0, 8.0, 0.0, 0.0, 1.0, 1.0, 4.0, 1.0, 1.0, 1.0, 1.0, 6.0, 1.0, 8.0, 1.0, 1.0, 0.0, 6.0, 1.0, 6.0, 6.0, 9.0, 1.0, 1.0, 8.0, 8.0, 8.0, 8.0, 8.0, 8.0, 8.0, 8.0, 8.0, 4.0, 6.0, 9.0, 1.0, 8.0, 8.0, 8.0, 9.0, 9.0, 8.0, 8.0, 8.0, 4.0, 4.0, 9.0, 8.0, 9.0, 9.0, 8.0, 9.0, 4.0, 9.0, 9.0, 1.0, 8.0, 8.0, 8.0, 9.0, 9.0, 9.0, 6.0, 8.0, 9.0, 9.0, 9.0, 9.0, 8.0, 8.0, 8.0, 9.0, 9.0, 9.0, 6.0, 6.0, 6.0, 4.0, 9.0, 9.0, 9.0, 9.0, 9.0, 9.0, 6.0, 9.0, 9.0, 9.0, 4.0, 9.0, 9.0, 9.0, 9.0, 1.0, 1.0, 1.0, 6.0, 9.0, 1.0, 1.0, 4.0, 4.0, 4.0, 9.0, 0.0, 8.0, 9.0, 0.0, 0.0, 4.0, 9.0, 0.0, 0.0, 4.0, 9.0, 4.0, 4.0, 4.0, 9.0, 9.0, 9.0, 8.0, 4.0, 4.0, 4.0, 4.0, 4.0, 4.0, 4.0, 9.0, 9.0, 1.0, 1.0, 9.0, 0.0, 9.0, 6.0, 6.0, 9.0, 8.0, 8.0, 4.0, 9.0, 0.0, 0.0, 0.0, 0.0, 0.0, 0.0, 9.0, 9.0, 6.0, 6.0, 4.0, 9.0, 9.0, 9.0, 9.0, 12.0, 1.0, 1.0, 1.0, 1.0, 4.0, 1.0, 8.0, 12.0, 9.0, 4.0, 4.0, 9.0, 9.0, 9.0, 6.0, 12.0, 4.0, 9.0, 9.0, 9.0, 9.0, 9.0, 6.0, 6.0, 6.0, 6.0, 6.0, 6.0, 9.0, 9.0, 9.0, 6.0, 9.0, 9.0, 9.0, 4.0, 6.0, 9.0, 9.0, 9.0, 9.0, 4.0, 4.0, 4.0, 4.0, 4.0, 4.0, 9.0, 6.0, 9.0, 9.0, 9.0, 9.0, 9.0, 9.0, 8.0, 9.0, 4.0, 4.0, 4.0, 4.0, 1.0, 9.0, 9.0, 9.0, 9.0, 9.0, 9.0, 9.0, 9.0, 9.0, 9.0, 9.0, 9.0, 9.0, 9.0, 9.0, 9.0, 9.0, 9.0, 9.0, 9.0, 9.0, 9.0, 9.0, 9.0, 9.0, 9.0, 9.0, 9.0, 9.0, 9.0, 9.0, 4.0, 8.0, 6.0, 9.0, 9.0, 4.0, 4.0, 4.0, 1.0, 9.0, 8.0, 0.0, 4.0, 9.0, 1.0, 6.0, 9.0, 6.0, 6.0, 6.0, 6.0, 4.0, 4.0, 9.0, 4.0, 4.0, 9.0, 1.0, 4.0, 4.0, 12.0, 6.0, 6.0, 9.0, 9.0, 9.0, 6.0, 4.0, 6.0, 6.0, 6.0, 6.0, 6.0, 6.0, 6.0, 1.0, 9.0, 9.0, 8.0, 6.0, 6.0, 1.0, 1.0, 4.0, 4.0, 4.0, 4.0, 4.0, 9.0, 6.0, 4.0, 4.0, 4.0, 4.0, 4.0, 4.0, 4.0, 4.0, 4.0, 4.0, 4.0, 4.0, 4.0, 8.0, 8.0, 8.0, 8.0, 1.0, 1.0, 4.0, 4.0, 4.0, 1.0, 1.0, 8.0, 9.0, 4.0, 9.0, 9.0, 6.0, 4.0, 4.0, 8.0, 9.0, 9.0, 6.0, 4.0, 4.0, 9.0, 8.0, 9.0, 9.0, 9.0, 6.0, 8.0, 8.0, 4.0, 1.0, 1.0, 1.0, 4.0, 9.0, 6.0, 1.0, 1.0, 0.0, 4.0, 4.0, 0.0, 1.0, 1.0, 4.0, 9.0, 9.0, 9.0, 6.0, 6.0, 6.0, 4.0, 4.0, 1.0, 9.0, 1.0, 1.0, 8.0, 4.0, 6.0, 8.0, 8.0, 6.0, 4.0, 4.0, 9.0, 4.0, 6.0, 6.0, 4.0, 4.0, 4.0, 4.0, 8.0, 4.0, 9.0, 9.0, 4.0, 8.0, 8.0, 4.0, 4.0, 9.0, 9.0, 8.0, 8.0, 8.0, 8.0, 8.0, 8.0, 4.0, 0.0, 8.0, 8.0, 8.0, 8.0, 0.0, 8.0, 8.0, 8.0, 8.0, 8.0, 0.0, 8.0, 8.0, 9.0, 9.0, 8.0, 8.0, 8.0, 8.0, 4.0, 8.0, 8.0, 6.0, 8.0, 8.0, 8.0, 8.0, 8.0, 8.0, 8.0, 8.0, 8.0, 8.0, 8.0, 8.0, 8.0, 0.0, 0.0, 0.0, 8.0, 8.0, 8.0, 0.0, 6.0, 6.0, 9.0, 9.0, 0.0, 4.0, 4.0, 4.0, 4.0, 4.0, 4.0, 9.0, 1.0, 6.0, 4.0, 4.0, 1.0, 1.0, 8.0, 4.0, 4.0, 8.0, 8.0, 6.0, 6.0, 6.0, 1.0, 8.0, 1.0, 4.0, 4.0, 4.0, 1.0, 8.0, 1.0, 8.0, 8.0, 8.0, 8.0, 4.0, 4.0, 4.0, 0.0, 6.0, 4.0, 4.0, 4.0, 4.0, 4.0, 4.0, 4.0, 4.0, 4.0, 4.0, 4.0, 4.0, 4.0, 4.0, 8.0, 1.0, 9.0, 0.0, 0.0, 8.0, 9.0, 1.0, 1.0, 8.0, 4.0, 4.0, 4.0, 9.0, 9.0, 9.0, 8.0, 8.0, 6.0, 9.0, 9.0, 4.0, 4.0, 4.0, 4.0, 4.0, 4.0, 4.0, 4.0, 4.0, 4.0, 4.0, 4.0, 4.0, 12.0, 12.0, 12.0, 12.0, 9.0, 8.0, 8.0, 9.0, 9.0, 9.0, 8.0, 4.0, 1.0, 8.0, 8.0, 1.0], \"legendgroup\": \"\", \"marker\": {\"color\": \"#636efa\"}, \"name\": \"\", \"offsetgroup\": \"\", \"orientation\": \"v\", \"showlegend\": false, \"textposition\": \"auto\", \"type\": \"bar\", \"x\": [9, 4, 6, 6, 6, 4, 4, 4, 4, 4, 4, 4, 4, 4, 4, 6, 6, 8, 8, 6, 6, 8, 8, 8, 8, 8, 8, 8, 8, 8, 8, 8, 6, 6, 6, 6, 6, 6, 6, 6, 6, 6, 6, 6, 6, 6, 6, 6, 6, 6, 6, 6, 6, 6, 6, 6, 6, 6, 6, 6, 6, 6, 6, 6, 6, 6, 6, 6, 6, 6, 6, 6, 6, 6, 6, 6, 6, 6, 6, 6, 6, 6, 6, 6, 6, 6, 8, 6, 4, 8, 0, 6, 6, 6, 6, 6, 6, 6, 9, 6, 6, 6, 0, 6, 4, 9, 8, 4, 8, 8, 4, 4, 6, 4, 4, 4, 4, 4, 4, 4, 4, 4, 6, 1, 8, 1, 1, 8, 6, 4, 4, 4, 9, 9, 8, 6, 6, 4, 4, 4, 4, 1, 1, 1, 9, 1, 6, 8, 8, 1, 1, 4, 4, 4, 4, 1, 8, 8, 8, 8, 8, 8, 8, 9, 9, 9, 8, 8, 8, 12, 3, 9, 9, 9, 9, 9, 8, 8, 8, 8, 8, 8, 8, 8, 8, 8, 8, 8, 8, 8, 8, 8, 8, 8, 8, 8, 8, 8, 8, 8, 9, 9, 9, 9, 9, 9, 8, 8, 8, 8, 8, 8, 8, 8, 8, 8, 8, 8, 8, 8, 8, 4, 4, 4, 9, 9, 1, 8, 8, 8, 8, 8, 8, 9, 9, 6, 4, 4, 4, 9, 9, 6, 9, 9, 6, 6, 0, 0, 9, 9, 9, 8, 6, 9, 8, 8, 4, 4, 4, 9, 9, 8, 8, 9, 9, 9, 8, 8, 1, 1, 1, 1, 1, 1, 1, 1, 5, 8, 6, 6, 8, 0, 0, 1, 1, 4, 1, 1, 1, 1, 6, 1, 8, 1, 1, 0, 6, 1, 6, 6, 9, 1, 1, 8, 8, 8, 8, 8, 8, 8, 8, 8, 4, 6, 9, 1, 8, 8, 8, 9, 9, 8, 8, 8, 4, 4, 9, 8, 9, 9, 8, 9, 4, 9, 9, 1, 8, 8, 8, 9, 9, 9, 6, 8, 9, 9, 9, 9, 8, 8, 8, 9, 9, 9, 6, 6, 6, 4, 9, 9, 9, 9, 9, 9, 6, 9, 9, 9, 4, 9, 9, 9, 9, 1, 1, 1, 6, 9, 1, 1, 4, 4, 4, 9, 0, 8, 9, 0, 0, 4, 9, 0, 0, 4, 9, 4, 4, 4, 9, 9, 9, 8, 4, 4, 4, 4, 4, 4, 4, 9, 9, 1, 1, 9, 0, 9, 6, 6, 9, 8, 8, 4, 9, 0, 0, 0, 0, 0, 0, 9, 9, 6, 6, 4, 9, 9, 9, 9, 12, 1, 1, 1, 1, 4, 1, 8, 12, 9, 4, 4, 9, 9, 9, 6, 12, 4, 9, 9, 9, 9, 9, 6, 6, 6, 6, 6, 6, 9, 9, 9, 6, 9, 9, 9, 4, 6, 9, 9, 9, 9, 4, 4, 4, 4, 4, 4, 9, 6, 9, 9, 9, 9, 9, 9, 8, 9, 4, 4, 4, 4, 1, 9, 9, 9, 9, 9, 9, 9, 9, 9, 9, 9, 9, 9, 9, 9, 9, 9, 9, 9, 9, 9, 9, 9, 9, 9, 9, 9, 9, 9, 9, 9, 4, 8, 6, 9, 9, 4, 4, 4, 1, 9, 8, 0, 4, 9, 1, 6, 9, 6, 6, 6, 6, 4, 4, 9, 4, 4, 9, 1, 4, 4, 12, 6, 6, 9, 9, 9, 6, 4, 6, 6, 6, 6, 6, 6, 6, 1, 9, 9, 8, 6, 6, 1, 1, 4, 4, 4, 4, 4, 9, 6, 4, 4, 4, 4, 4, 4, 4, 4, 4, 4, 4, 4, 4, 8, 8, 8, 8, 1, 1, 4, 4, 4, 1, 1, 8, 9, 4, 9, 9, 6, 4, 4, 8, 9, 9, 6, 4, 4, 9, 8, 9, 9, 9, 6, 8, 8, 4, 1, 1, 1, 4, 9, 6, 1, 1, 0, 4, 4, 0, 1, 1, 4, 9, 9, 9, 6, 6, 6, 4, 4, 1, 9, 1, 1, 8, 4, 6, 8, 8, 6, 4, 4, 9, 4, 6, 6, 4, 4, 4, 4, 8, 4, 9, 9, 4, 8, 8, 4, 4, 9, 9, 8, 8, 8, 8, 8, 8, 4, 0, 8, 8, 8, 8, 0, 8, 8, 8, 8, 8, 0, 8, 8, 9, 9, 8, 8, 8, 8, 4, 8, 8, 6, 8, 8, 8, 8, 8, 8, 8, 8, 8, 8, 8, 8, 8, 0, 0, 0, 8, 8, 8, 0, 6, 6, 9, 9, 0, 4, 4, 4, 4, 4, 4, 9, 1, 6, 4, 4, 1, 1, 8, 4, 4, 8, 8, 6, 6, 6, 1, 8, 1, 4, 4, 4, 1, 8, 1, 8, 8, 8, 8, 4, 4, 4, 0, 6, 4, 4, 4, 4, 4, 4, 4, 4, 4, 4, 4, 4, 4, 4, 8, 1, 9, 0, 0, 8, 9, 1, 1, 8, 4, 4, 4, 9, 9, 9, 8, 8, 6, 9, 9, 4, 4, 4, 4, 4, 4, 4, 4, 4, 4, 4, 4, 4, 12, 12, 12, 12, 9, 8, 8, 9, 9, 9, 8, 4, 1, 8, 8, 1], \"xaxis\": \"x\", \"yaxis\": \"y\"}],\n",
       "                        {\"barmode\": \"relative\", \"legend\": {\"tracegroupgap\": 0}, \"template\": {\"data\": {\"bar\": [{\"error_x\": {\"color\": \"#2a3f5f\"}, \"error_y\": {\"color\": \"#2a3f5f\"}, \"marker\": {\"line\": {\"color\": \"#E5ECF6\", \"width\": 0.5}}, \"type\": \"bar\"}], \"barpolar\": [{\"marker\": {\"line\": {\"color\": \"#E5ECF6\", \"width\": 0.5}}, \"type\": \"barpolar\"}], \"carpet\": [{\"aaxis\": {\"endlinecolor\": \"#2a3f5f\", \"gridcolor\": \"white\", \"linecolor\": \"white\", \"minorgridcolor\": \"white\", \"startlinecolor\": \"#2a3f5f\"}, \"baxis\": {\"endlinecolor\": \"#2a3f5f\", \"gridcolor\": \"white\", \"linecolor\": \"white\", \"minorgridcolor\": \"white\", \"startlinecolor\": \"#2a3f5f\"}, \"type\": \"carpet\"}], \"choropleth\": [{\"colorbar\": {\"outlinewidth\": 0, \"ticks\": \"\"}, \"type\": \"choropleth\"}], \"contour\": [{\"colorbar\": {\"outlinewidth\": 0, \"ticks\": \"\"}, \"colorscale\": [[0.0, \"#0d0887\"], [0.1111111111111111, \"#46039f\"], [0.2222222222222222, \"#7201a8\"], [0.3333333333333333, \"#9c179e\"], [0.4444444444444444, \"#bd3786\"], [0.5555555555555556, \"#d8576b\"], [0.6666666666666666, \"#ed7953\"], [0.7777777777777778, \"#fb9f3a\"], [0.8888888888888888, \"#fdca26\"], [1.0, \"#f0f921\"]], \"type\": \"contour\"}], \"contourcarpet\": [{\"colorbar\": {\"outlinewidth\": 0, \"ticks\": \"\"}, \"type\": \"contourcarpet\"}], \"heatmap\": [{\"colorbar\": {\"outlinewidth\": 0, \"ticks\": \"\"}, \"colorscale\": [[0.0, \"#0d0887\"], [0.1111111111111111, \"#46039f\"], [0.2222222222222222, \"#7201a8\"], [0.3333333333333333, \"#9c179e\"], [0.4444444444444444, \"#bd3786\"], [0.5555555555555556, \"#d8576b\"], [0.6666666666666666, \"#ed7953\"], [0.7777777777777778, \"#fb9f3a\"], [0.8888888888888888, \"#fdca26\"], [1.0, \"#f0f921\"]], \"type\": \"heatmap\"}], \"heatmapgl\": [{\"colorbar\": {\"outlinewidth\": 0, \"ticks\": \"\"}, \"colorscale\": [[0.0, \"#0d0887\"], [0.1111111111111111, \"#46039f\"], [0.2222222222222222, \"#7201a8\"], [0.3333333333333333, \"#9c179e\"], [0.4444444444444444, \"#bd3786\"], [0.5555555555555556, \"#d8576b\"], [0.6666666666666666, \"#ed7953\"], [0.7777777777777778, \"#fb9f3a\"], [0.8888888888888888, \"#fdca26\"], [1.0, \"#f0f921\"]], \"type\": \"heatmapgl\"}], \"histogram\": [{\"marker\": {\"colorbar\": {\"outlinewidth\": 0, \"ticks\": \"\"}}, \"type\": \"histogram\"}], \"histogram2d\": [{\"colorbar\": {\"outlinewidth\": 0, \"ticks\": \"\"}, \"colorscale\": [[0.0, \"#0d0887\"], [0.1111111111111111, \"#46039f\"], [0.2222222222222222, \"#7201a8\"], [0.3333333333333333, \"#9c179e\"], [0.4444444444444444, \"#bd3786\"], [0.5555555555555556, \"#d8576b\"], [0.6666666666666666, \"#ed7953\"], [0.7777777777777778, \"#fb9f3a\"], [0.8888888888888888, \"#fdca26\"], [1.0, \"#f0f921\"]], \"type\": \"histogram2d\"}], \"histogram2dcontour\": [{\"colorbar\": {\"outlinewidth\": 0, \"ticks\": \"\"}, \"colorscale\": [[0.0, \"#0d0887\"], [0.1111111111111111, \"#46039f\"], [0.2222222222222222, \"#7201a8\"], [0.3333333333333333, \"#9c179e\"], [0.4444444444444444, \"#bd3786\"], [0.5555555555555556, \"#d8576b\"], [0.6666666666666666, \"#ed7953\"], [0.7777777777777778, \"#fb9f3a\"], [0.8888888888888888, \"#fdca26\"], [1.0, \"#f0f921\"]], \"type\": \"histogram2dcontour\"}], \"mesh3d\": [{\"colorbar\": {\"outlinewidth\": 0, \"ticks\": \"\"}, \"type\": \"mesh3d\"}], \"parcoords\": [{\"line\": {\"colorbar\": {\"outlinewidth\": 0, \"ticks\": \"\"}}, \"type\": \"parcoords\"}], \"pie\": [{\"automargin\": true, \"type\": \"pie\"}], \"scatter\": [{\"marker\": {\"colorbar\": {\"outlinewidth\": 0, \"ticks\": \"\"}}, \"type\": \"scatter\"}], \"scatter3d\": [{\"line\": {\"colorbar\": {\"outlinewidth\": 0, \"ticks\": \"\"}}, \"marker\": {\"colorbar\": {\"outlinewidth\": 0, \"ticks\": \"\"}}, \"type\": \"scatter3d\"}], \"scattercarpet\": [{\"marker\": {\"colorbar\": {\"outlinewidth\": 0, \"ticks\": \"\"}}, \"type\": \"scattercarpet\"}], \"scattergeo\": [{\"marker\": {\"colorbar\": {\"outlinewidth\": 0, \"ticks\": \"\"}}, \"type\": \"scattergeo\"}], \"scattergl\": [{\"marker\": {\"colorbar\": {\"outlinewidth\": 0, \"ticks\": \"\"}}, \"type\": \"scattergl\"}], \"scattermapbox\": [{\"marker\": {\"colorbar\": {\"outlinewidth\": 0, \"ticks\": \"\"}}, \"type\": \"scattermapbox\"}], \"scatterpolar\": [{\"marker\": {\"colorbar\": {\"outlinewidth\": 0, \"ticks\": \"\"}}, \"type\": \"scatterpolar\"}], \"scatterpolargl\": [{\"marker\": {\"colorbar\": {\"outlinewidth\": 0, \"ticks\": \"\"}}, \"type\": \"scatterpolargl\"}], \"scatterternary\": [{\"marker\": {\"colorbar\": {\"outlinewidth\": 0, \"ticks\": \"\"}}, \"type\": \"scatterternary\"}], \"surface\": [{\"colorbar\": {\"outlinewidth\": 0, \"ticks\": \"\"}, \"colorscale\": [[0.0, \"#0d0887\"], [0.1111111111111111, \"#46039f\"], [0.2222222222222222, \"#7201a8\"], [0.3333333333333333, \"#9c179e\"], [0.4444444444444444, \"#bd3786\"], [0.5555555555555556, \"#d8576b\"], [0.6666666666666666, \"#ed7953\"], [0.7777777777777778, \"#fb9f3a\"], [0.8888888888888888, \"#fdca26\"], [1.0, \"#f0f921\"]], \"type\": \"surface\"}], \"table\": [{\"cells\": {\"fill\": {\"color\": \"#EBF0F8\"}, \"line\": {\"color\": \"white\"}}, \"header\": {\"fill\": {\"color\": \"#C8D4E3\"}, \"line\": {\"color\": \"white\"}}, \"type\": \"table\"}]}, \"layout\": {\"annotationdefaults\": {\"arrowcolor\": \"#2a3f5f\", \"arrowhead\": 0, \"arrowwidth\": 1}, \"coloraxis\": {\"colorbar\": {\"outlinewidth\": 0, \"ticks\": \"\"}}, \"colorscale\": {\"diverging\": [[0, \"#8e0152\"], [0.1, \"#c51b7d\"], [0.2, \"#de77ae\"], [0.3, \"#f1b6da\"], [0.4, \"#fde0ef\"], [0.5, \"#f7f7f7\"], [0.6, \"#e6f5d0\"], [0.7, \"#b8e186\"], [0.8, \"#7fbc41\"], [0.9, \"#4d9221\"], [1, \"#276419\"]], \"sequential\": [[0.0, \"#0d0887\"], [0.1111111111111111, \"#46039f\"], [0.2222222222222222, \"#7201a8\"], [0.3333333333333333, \"#9c179e\"], [0.4444444444444444, \"#bd3786\"], [0.5555555555555556, \"#d8576b\"], [0.6666666666666666, \"#ed7953\"], [0.7777777777777778, \"#fb9f3a\"], [0.8888888888888888, \"#fdca26\"], [1.0, \"#f0f921\"]], \"sequentialminus\": [[0.0, \"#0d0887\"], [0.1111111111111111, \"#46039f\"], [0.2222222222222222, \"#7201a8\"], [0.3333333333333333, \"#9c179e\"], [0.4444444444444444, \"#bd3786\"], [0.5555555555555556, \"#d8576b\"], [0.6666666666666666, \"#ed7953\"], [0.7777777777777778, \"#fb9f3a\"], [0.8888888888888888, \"#fdca26\"], [1.0, \"#f0f921\"]]}, \"colorway\": [\"#636efa\", \"#EF553B\", \"#00cc96\", \"#ab63fa\", \"#FFA15A\", \"#19d3f3\", \"#FF6692\", \"#B6E880\", \"#FF97FF\", \"#FECB52\"], \"font\": {\"color\": \"#2a3f5f\"}, \"geo\": {\"bgcolor\": \"white\", \"lakecolor\": \"white\", \"landcolor\": \"#E5ECF6\", \"showlakes\": true, \"showland\": true, \"subunitcolor\": \"white\"}, \"hoverlabel\": {\"align\": \"left\"}, \"hovermode\": \"closest\", \"mapbox\": {\"style\": \"light\"}, \"paper_bgcolor\": \"white\", \"plot_bgcolor\": \"#E5ECF6\", \"polar\": {\"angularaxis\": {\"gridcolor\": \"white\", \"linecolor\": \"white\", \"ticks\": \"\"}, \"bgcolor\": \"#E5ECF6\", \"radialaxis\": {\"gridcolor\": \"white\", \"linecolor\": \"white\", \"ticks\": \"\"}}, \"scene\": {\"xaxis\": {\"backgroundcolor\": \"#E5ECF6\", \"gridcolor\": \"white\", \"gridwidth\": 2, \"linecolor\": \"white\", \"showbackground\": true, \"ticks\": \"\", \"zerolinecolor\": \"white\"}, \"yaxis\": {\"backgroundcolor\": \"#E5ECF6\", \"gridcolor\": \"white\", \"gridwidth\": 2, \"linecolor\": \"white\", \"showbackground\": true, \"ticks\": \"\", \"zerolinecolor\": \"white\"}, \"zaxis\": {\"backgroundcolor\": \"#E5ECF6\", \"gridcolor\": \"white\", \"gridwidth\": 2, \"linecolor\": \"white\", \"showbackground\": true, \"ticks\": \"\", \"zerolinecolor\": \"white\"}}, \"shapedefaults\": {\"line\": {\"color\": \"#2a3f5f\"}}, \"ternary\": {\"aaxis\": {\"gridcolor\": \"white\", \"linecolor\": \"white\", \"ticks\": \"\"}, \"baxis\": {\"gridcolor\": \"white\", \"linecolor\": \"white\", \"ticks\": \"\"}, \"bgcolor\": \"#E5ECF6\", \"caxis\": {\"gridcolor\": \"white\", \"linecolor\": \"white\", \"ticks\": \"\"}}, \"title\": {\"x\": 0.05}, \"xaxis\": {\"automargin\": true, \"gridcolor\": \"white\", \"linecolor\": \"white\", \"ticks\": \"\", \"title\": {\"standoff\": 15}, \"zerolinecolor\": \"white\", \"zerolinewidth\": 2}, \"yaxis\": {\"automargin\": true, \"gridcolor\": \"white\", \"linecolor\": \"white\", \"ticks\": \"\", \"title\": {\"standoff\": 15}, \"zerolinecolor\": \"white\", \"zerolinewidth\": 2}}}, \"title\": {\"text\": \"Warning count by event type\"}, \"xaxis\": {\"anchor\": \"y\", \"domain\": [0.0, 1.0], \"title\": {\"text\": \"EVENT_TYPE\"}}, \"yaxis\": {\"anchor\": \"x\", \"domain\": [0.0, 1.0]}},\n",
       "                        {\"responsive\": true}\n",
       "                    ).then(function(){\n",
       "                            \n",
       "var gd = document.getElementById('c5392366-facb-4f2e-b540-4a4e68ebd33f');\n",
       "var x = new MutationObserver(function (mutations, observer) {{\n",
       "        var display = window.getComputedStyle(gd).display;\n",
       "        if (!display || display === 'none') {{\n",
       "            console.log([gd, 'removed!']);\n",
       "            Plotly.purge(gd);\n",
       "            observer.disconnect();\n",
       "        }}\n",
       "}});\n",
       "\n",
       "// Listen for the removal of the full notebook cells\n",
       "var notebookContainer = gd.closest('#notebook-container');\n",
       "if (notebookContainer) {{\n",
       "    x.observe(notebookContainer, {childList: true});\n",
       "}}\n",
       "\n",
       "// Listen for the clearing of the current output cell\n",
       "var outputEl = gd.closest('.output');\n",
       "if (outputEl) {{\n",
       "    x.observe(outputEl, {childList: true});\n",
       "}}\n",
       "\n",
       "                        })\n",
       "                };\n",
       "                });\n",
       "            </script>\n",
       "        </div>"
      ]
     },
     "metadata": {},
     "output_type": "display_data"
    }
   ],
   "source": [
    "## Warning Breakdown\n",
    "## Count of warnid by event type \n",
    "fig = px.bar(warnings, x='EVENT_TYPE',hover_name='EVENT_TYPE',title='Warning count by event type')\n",
    "fig.show()"
   ]
  },
  {
   "cell_type": "code",
   "execution_count": null,
   "metadata": {},
   "outputs": [],
   "source": [
    "## SERVER_APP - breakdown by hoZt_name\tstatus\tapp_name\n",
    "\n",
    "fig = px.bar(SERVICE_MANAGER, x='SERVICE_OWNER',hover_name='SERVICE_OWNER',title='Services by Service Manager')\n",
    "fig.show()"
   ]
  },
  {
   "cell_type": "code",
   "execution_count": null,
   "metadata": {},
   "outputs": [],
   "source": [
    "## APP_SERVICE - count of tier by SERVICE NAME\n",
    "\n",
    "fig = px.bar(SERVICE_MANAGER, x='SERVICE_OWNER',hover_name='SERVICE_OWNER',title='Services by Service Manager')\n",
    "fig.show()"
   ]
  },
  {
   "cell_type": "code",
   "execution_count": null,
   "metadata": {},
   "outputs": [],
   "source": []
  },
  {
   "cell_type": "code",
   "execution_count": null,
   "metadata": {},
   "outputs": [],
   "source": [
    "## combine service manager and app service using service name\n",
    "## service owner by tier\n",
    "\n",
    "fig = px.bar(SERVICE_MANAGER, x='SERVICE_OWNER',hover_name='SERVICE_OWNER',title='Services by Service Manager')\n",
    "fig.show()"
   ]
  },
  {
   "cell_type": "code",
   "execution_count": null,
   "metadata": {},
   "outputs": [],
   "source": []
  },
  {
   "cell_type": "code",
   "execution_count": null,
   "metadata": {},
   "outputs": [],
   "source": []
  },
  {
   "cell_type": "code",
   "execution_count": null,
   "metadata": {},
   "outputs": [],
   "source": []
  }
 ],
 "metadata": {
  "kernelspec": {
   "display_name": "Python 3",
   "language": "python",
   "name": "python3"
  },
  "language_info": {
   "codemirror_mode": {
    "name": "ipython",
    "version": 3
   },
   "file_extension": ".py",
   "mimetype": "text/x-python",
   "name": "python",
   "nbconvert_exporter": "python",
   "pygments_lexer": "ipython3",
   "version": "3.7.4"
  }
 },
 "nbformat": 4,
 "nbformat_minor": 2
}
