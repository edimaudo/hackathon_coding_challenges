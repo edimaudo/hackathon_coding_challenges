{
 "cells": [
  {
   "cell_type": "code",
   "execution_count": 1,
   "metadata": {},
   "outputs": [],
   "source": [
    "#load libraries\n",
    "import pandas as pd\n",
    "import numpy as np\n",
    "import matplotlib\n",
    "import plotly\n",
    "import plotly.offline as py\n",
    "import plotly.graph_objs as go"
   ]
  },
  {
   "cell_type": "code",
   "execution_count": 4,
   "metadata": {},
   "outputs": [],
   "source": [
    "#load data\n",
    "warnings = pd.read_csv('warnings.csv')\n",
    "SWITCH = pd.read_csv('SWITCH.csv')\n",
    "SERVICE_MANAGER = pd.read_csv('SERVICE_MANAGER.csv')\n",
    "SERVER_APP = pd.read_csv('SERVER_APP.csv')\n",
    "LUN = pd.read_csv('LUN.csv')\n",
    "APP_SERVICE = pd.read_csv('APP_SERVICE.csv')\n",
    "APP_APP = pd.read_csv('APP_APP.csv')"
   ]
  },
  {
   "cell_type": "code",
   "execution_count": null,
   "metadata": {},
   "outputs": [],
   "source": []
  }
 ],
 "metadata": {
  "kernelspec": {
   "display_name": "Python 3",
   "language": "python",
   "name": "python3"
  },
  "language_info": {
   "codemirror_mode": {
    "name": "ipython",
    "version": 3
   },
   "file_extension": ".py",
   "mimetype": "text/x-python",
   "name": "python",
   "nbconvert_exporter": "python",
   "pygments_lexer": "ipython3",
   "version": "3.7.4"
  }
 },
 "nbformat": 4,
 "nbformat_minor": 2
}
