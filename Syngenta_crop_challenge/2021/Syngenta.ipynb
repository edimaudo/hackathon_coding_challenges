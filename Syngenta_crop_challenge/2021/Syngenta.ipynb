{
 "cells": [
  {
   "cell_type": "code",
   "execution_count": 35,
   "metadata": {},
   "outputs": [],
   "source": [
    "#!pip install ortools"
   ]
  },
  {
   "cell_type": "code",
   "execution_count": 36,
   "metadata": {},
   "outputs": [],
   "source": [
    "from __future__ import print_function\n",
    "import pandas as pd\n",
    "import numpy as np\n",
    "from ortools.linear_solver import pywraplp\n",
    "# Create the mip solver with the SCIP backend.\n",
    "solver = pywraplp.Solver.CreateSolver('SCIP')"
   ]
  },
  {
   "cell_type": "code",
   "execution_count": 37,
   "metadata": {},
   "outputs": [],
   "source": [
    "#site 0 data\n",
    "scenario1 = pd.read_csv(\"scenario1_0.csv\")"
   ]
  },
  {
   "cell_type": "code",
   "execution_count": 38,
   "metadata": {},
   "outputs": [
    {
     "data": {
      "text/html": [
       "<div>\n",
       "<style scoped>\n",
       "    .dataframe tbody tr th:only-of-type {\n",
       "        vertical-align: middle;\n",
       "    }\n",
       "\n",
       "    .dataframe tbody tr th {\n",
       "        vertical-align: top;\n",
       "    }\n",
       "\n",
       "    .dataframe thead th {\n",
       "        text-align: right;\n",
       "    }\n",
       "</style>\n",
       "<table border=\"1\" class=\"dataframe\">\n",
       "  <thead>\n",
       "    <tr style=\"text-align: right;\">\n",
       "      <th></th>\n",
       "      <th>population</th>\n",
       "      <th>required_gdus</th>\n",
       "      <th>scenario_1_harvest_quantity</th>\n",
       "      <th>week_original_plant_date</th>\n",
       "    </tr>\n",
       "  </thead>\n",
       "  <tbody>\n",
       "    <tr>\n",
       "      <td>0</td>\n",
       "      <td>p_56</td>\n",
       "      <td>1259</td>\n",
       "      <td>270</td>\n",
       "      <td>1</td>\n",
       "    </tr>\n",
       "    <tr>\n",
       "      <td>1</td>\n",
       "      <td>p_57</td>\n",
       "      <td>1259</td>\n",
       "      <td>389</td>\n",
       "      <td>1</td>\n",
       "    </tr>\n",
       "    <tr>\n",
       "      <td>2</td>\n",
       "      <td>p_58</td>\n",
       "      <td>1259</td>\n",
       "      <td>249</td>\n",
       "      <td>1</td>\n",
       "    </tr>\n",
       "    <tr>\n",
       "      <td>3</td>\n",
       "      <td>p_59</td>\n",
       "      <td>1356</td>\n",
       "      <td>100</td>\n",
       "      <td>1</td>\n",
       "    </tr>\n",
       "    <tr>\n",
       "      <td>4</td>\n",
       "      <td>p_60</td>\n",
       "      <td>1356</td>\n",
       "      <td>296</td>\n",
       "      <td>1</td>\n",
       "    </tr>\n",
       "  </tbody>\n",
       "</table>\n",
       "</div>"
      ],
      "text/plain": [
       "  population  required_gdus  scenario_1_harvest_quantity  \\\n",
       "0       p_56           1259                          270   \n",
       "1       p_57           1259                          389   \n",
       "2       p_58           1259                          249   \n",
       "3       p_59           1356                          100   \n",
       "4       p_60           1356                          296   \n",
       "\n",
       "   week_original_plant_date  \n",
       "0                         1  \n",
       "1                         1  \n",
       "2                         1  \n",
       "3                         1  \n",
       "4                         1  "
      ]
     },
     "execution_count": 38,
     "metadata": {},
     "output_type": "execute_result"
    }
   ],
   "source": [
    "scenario1.head()"
   ]
  },
  {
   "cell_type": "code",
   "execution_count": 39,
   "metadata": {},
   "outputs": [],
   "source": [
    "#sort scenario\n",
    "scenario1.sort_values(by=['population'], inplace=True)"
   ]
  },
  {
   "cell_type": "code",
   "execution_count": 40,
   "metadata": {},
   "outputs": [],
   "source": [
    "values = [] #\n",
    "weights = [] #scenario 1 weight using GDU\n",
    "week = []"
   ]
  },
  {
   "cell_type": "code",
   "execution_count": 41,
   "metadata": {},
   "outputs": [],
   "source": [
    "for index, row in scenario1.iterrows():\n",
    "    week.append(row[\"week_original_plant_date\"])"
   ]
  },
  {
   "cell_type": "code",
   "execution_count": 42,
   "metadata": {},
   "outputs": [],
   "source": [
    "week = list(set(week))"
   ]
  },
  {
   "cell_type": "code",
   "execution_count": 43,
   "metadata": {},
   "outputs": [],
   "source": [
    "#filter scenario for 1 week\n",
    "scenario = scenario1[scenario1['week_original_plant_date'] == 1]"
   ]
  },
  {
   "cell_type": "code",
   "execution_count": 44,
   "metadata": {},
   "outputs": [],
   "source": [
    "for index, row in scenario.iterrows():\n",
    "    weights.append(row[\"required_gdus\"])\n",
    "    values.append(row[\"scenario_1_harvest_quantity\"])"
   ]
  },
  {
   "cell_type": "code",
   "execution_count": 54,
   "metadata": {},
   "outputs": [
    {
     "data": {
      "text/html": [
       "<div>\n",
       "<style scoped>\n",
       "    .dataframe tbody tr th:only-of-type {\n",
       "        vertical-align: middle;\n",
       "    }\n",
       "\n",
       "    .dataframe tbody tr th {\n",
       "        vertical-align: top;\n",
       "    }\n",
       "\n",
       "    .dataframe thead th {\n",
       "        text-align: right;\n",
       "    }\n",
       "</style>\n",
       "<table border=\"1\" class=\"dataframe\">\n",
       "  <thead>\n",
       "    <tr style=\"text-align: right;\">\n",
       "      <th></th>\n",
       "      <th>population</th>\n",
       "      <th>required_gdus</th>\n",
       "      <th>scenario_1_harvest_quantity</th>\n",
       "      <th>week_original_plant_date</th>\n",
       "    </tr>\n",
       "  </thead>\n",
       "  <tbody>\n",
       "    <tr>\n",
       "      <td>0</td>\n",
       "      <td>p_56</td>\n",
       "      <td>1259</td>\n",
       "      <td>270</td>\n",
       "      <td>1</td>\n",
       "    </tr>\n",
       "    <tr>\n",
       "      <td>1</td>\n",
       "      <td>p_57</td>\n",
       "      <td>1259</td>\n",
       "      <td>389</td>\n",
       "      <td>1</td>\n",
       "    </tr>\n",
       "    <tr>\n",
       "      <td>2</td>\n",
       "      <td>p_58</td>\n",
       "      <td>1259</td>\n",
       "      <td>249</td>\n",
       "      <td>1</td>\n",
       "    </tr>\n",
       "    <tr>\n",
       "      <td>3</td>\n",
       "      <td>p_59</td>\n",
       "      <td>1356</td>\n",
       "      <td>100</td>\n",
       "      <td>1</td>\n",
       "    </tr>\n",
       "    <tr>\n",
       "      <td>4</td>\n",
       "      <td>p_60</td>\n",
       "      <td>1356</td>\n",
       "      <td>296</td>\n",
       "      <td>1</td>\n",
       "    </tr>\n",
       "    <tr>\n",
       "      <td>5</td>\n",
       "      <td>p_61</td>\n",
       "      <td>1259</td>\n",
       "      <td>104</td>\n",
       "      <td>1</td>\n",
       "    </tr>\n",
       "    <tr>\n",
       "      <td>6</td>\n",
       "      <td>p_62</td>\n",
       "      <td>1356</td>\n",
       "      <td>267</td>\n",
       "      <td>1</td>\n",
       "    </tr>\n",
       "    <tr>\n",
       "      <td>7</td>\n",
       "      <td>p_63</td>\n",
       "      <td>1356</td>\n",
       "      <td>268</td>\n",
       "      <td>1</td>\n",
       "    </tr>\n",
       "    <tr>\n",
       "      <td>8</td>\n",
       "      <td>p_64</td>\n",
       "      <td>1356</td>\n",
       "      <td>174</td>\n",
       "      <td>1</td>\n",
       "    </tr>\n",
       "    <tr>\n",
       "      <td>9</td>\n",
       "      <td>p_65</td>\n",
       "      <td>1259</td>\n",
       "      <td>76</td>\n",
       "      <td>1</td>\n",
       "    </tr>\n",
       "    <tr>\n",
       "      <td>10</td>\n",
       "      <td>p_66</td>\n",
       "      <td>1259</td>\n",
       "      <td>161</td>\n",
       "      <td>1</td>\n",
       "    </tr>\n",
       "    <tr>\n",
       "      <td>11</td>\n",
       "      <td>p_67</td>\n",
       "      <td>1259</td>\n",
       "      <td>151</td>\n",
       "      <td>1</td>\n",
       "    </tr>\n",
       "    <tr>\n",
       "      <td>12</td>\n",
       "      <td>p_68</td>\n",
       "      <td>1259</td>\n",
       "      <td>177</td>\n",
       "      <td>1</td>\n",
       "    </tr>\n",
       "    <tr>\n",
       "      <td>13</td>\n",
       "      <td>p_69</td>\n",
       "      <td>1356</td>\n",
       "      <td>174</td>\n",
       "      <td>1</td>\n",
       "    </tr>\n",
       "    <tr>\n",
       "      <td>14</td>\n",
       "      <td>p_70</td>\n",
       "      <td>1259</td>\n",
       "      <td>354</td>\n",
       "      <td>1</td>\n",
       "    </tr>\n",
       "    <tr>\n",
       "      <td>15</td>\n",
       "      <td>p_71</td>\n",
       "      <td>1259</td>\n",
       "      <td>236</td>\n",
       "      <td>1</td>\n",
       "    </tr>\n",
       "  </tbody>\n",
       "</table>\n",
       "</div>"
      ],
      "text/plain": [
       "   population  required_gdus  scenario_1_harvest_quantity  \\\n",
       "0        p_56           1259                          270   \n",
       "1        p_57           1259                          389   \n",
       "2        p_58           1259                          249   \n",
       "3        p_59           1356                          100   \n",
       "4        p_60           1356                          296   \n",
       "5        p_61           1259                          104   \n",
       "6        p_62           1356                          267   \n",
       "7        p_63           1356                          268   \n",
       "8        p_64           1356                          174   \n",
       "9        p_65           1259                           76   \n",
       "10       p_66           1259                          161   \n",
       "11       p_67           1259                          151   \n",
       "12       p_68           1259                          177   \n",
       "13       p_69           1356                          174   \n",
       "14       p_70           1259                          354   \n",
       "15       p_71           1259                          236   \n",
       "\n",
       "    week_original_plant_date  \n",
       "0                          1  \n",
       "1                          1  \n",
       "2                          1  \n",
       "3                          1  \n",
       "4                          1  \n",
       "5                          1  \n",
       "6                          1  \n",
       "7                          1  \n",
       "8                          1  \n",
       "9                          1  \n",
       "10                         1  \n",
       "11                         1  \n",
       "12                         1  \n",
       "13                         1  \n",
       "14                         1  \n",
       "15                         1  "
      ]
     },
     "execution_count": 54,
     "metadata": {},
     "output_type": "execute_result"
    }
   ],
   "source": [
    "scenario"
   ]
  },
  {
   "cell_type": "code",
   "execution_count": 62,
   "metadata": {},
   "outputs": [],
   "source": [
    "data = {}\n",
    "data['weights'] = values#weights\n",
    "data['values'] = weights\n",
    "data['items'] = list(range(len(weights)))\n",
    "data['num_items'] = len(weights)"
   ]
  },
  {
   "cell_type": "code",
   "execution_count": 63,
   "metadata": {},
   "outputs": [],
   "source": [
    "num_bins = 1#len(week)\n",
    "data['bins'] = list(range(num_bins))\n",
    "capacities = [7000 for i in range(0,num_bins)]\n",
    "data['bin_capacities'] = capacities"
   ]
  },
  {
   "cell_type": "code",
   "execution_count": 64,
   "metadata": {},
   "outputs": [],
   "source": [
    "# Variables\n",
    "# x[i, j] = 1 if item i is packed in bin j.\n",
    "x = {}\n",
    "for i in data['items']:\n",
    "    for j in data['bins']:\n",
    "        x[(i, j)] = solver.IntVar(0, 1, 'x_%i_%i' % (i, j))"
   ]
  },
  {
   "cell_type": "code",
   "execution_count": 65,
   "metadata": {},
   "outputs": [],
   "source": [
    "# Constraints\n",
    "# Each item can be in at most one bin.\n",
    "for i in data['items']:\n",
    "    solver.Add(sum(x[i, j] for j in data['bins']) <= 1)\n"
   ]
  },
  {
   "cell_type": "code",
   "execution_count": null,
   "metadata": {},
   "outputs": [],
   "source": []
  },
  {
   "cell_type": "code",
   "execution_count": null,
   "metadata": {},
   "outputs": [],
   "source": []
  },
  {
   "cell_type": "code",
   "execution_count": 66,
   "metadata": {},
   "outputs": [],
   "source": [
    "# The amount packed in each bin cannot exceed its capacity.\n",
    "for j in data['bins']:\n",
    "    solver.Add(\n",
    "        sum(x[(i, j)] * data['weights'][i]\n",
    "            for i in data['items']) <= data['bin_capacities'][j])"
   ]
  },
  {
   "cell_type": "code",
   "execution_count": 67,
   "metadata": {},
   "outputs": [],
   "source": [
    "# Objective\n",
    "objective = solver.Objective()\n",
    "\n",
    "for i in data['items']:\n",
    "    for j in data['bins']:\n",
    "        objective.SetCoefficient(x[(i, j)], data['values'][i])\n",
    "objective.SetMaximization()"
   ]
  },
  {
   "cell_type": "code",
   "execution_count": 68,
   "metadata": {},
   "outputs": [
    {
     "name": "stdout",
     "output_type": "stream",
     "text": [
      "Total packed value: 25749.0\n",
      "Bin  0 \n",
      "\n",
      "Item 0 - weight: 270  value: 1259\n",
      "Item 1 - weight: 389  value: 1259\n",
      "Item 2 - weight: 249  value: 1259\n",
      "Item 3 - weight: 100  value: 1356\n",
      "Item 4 - weight: 296  value: 1356\n",
      "Item 5 - weight: 104  value: 1259\n",
      "Item 6 - weight: 267  value: 1356\n",
      "Item 7 - weight: 268  value: 1356\n",
      "Item 8 - weight: 174  value: 1356\n",
      "Item 9 - weight: 76  value: 1259\n",
      "Item 10 - weight: 161  value: 1259\n",
      "Item 11 - weight: 151  value: 1259\n",
      "Item 12 - weight: 177  value: 1259\n",
      "Item 13 - weight: 174  value: 1356\n",
      "Item 14 - weight: 354  value: 1259\n",
      "Item 15 - weight: 236  value: 1259\n",
      "Packed bin weight: 3446\n",
      "Packed bin value: 20726\n",
      "\n",
      "Total packed weight: 3446\n"
     ]
    }
   ],
   "source": [
    "status = solver.Solve()\n",
    "if status == pywraplp.Solver.OPTIMAL:\n",
    "    print('Total packed value:', objective.Value())\n",
    "    total_weight = 0\n",
    "    for j in data['bins']:\n",
    "        bin_weight = 0\n",
    "        bin_value = 0\n",
    "        print('Bin ', j, '\\n')\n",
    "        for i in data['items']:\n",
    "            if x[i, j].solution_value() > 0:\n",
    "                print('Item', i, '- weight:', data['weights'][i], ' value:',\n",
    "                      data['values'][i])\n",
    "                bin_weight += data['weights'][i]\n",
    "                bin_value += data['values'][i]\n",
    "        print('Packed bin weight:', bin_weight)\n",
    "        print('Packed bin value:', bin_value)\n",
    "        print()\n",
    "        total_weight += bin_weight\n",
    "    print('Total packed weight:', total_weight)\n",
    "else:\n",
    "    print('The problem does not have an optimal solution.')"
   ]
  },
  {
   "cell_type": "code",
   "execution_count": null,
   "metadata": {},
   "outputs": [],
   "source": []
  }
 ],
 "metadata": {
  "kernelspec": {
   "display_name": "Python 3",
   "language": "python",
   "name": "python3"
  },
  "language_info": {
   "codemirror_mode": {
    "name": "ipython",
    "version": 3
   },
   "file_extension": ".py",
   "mimetype": "text/x-python",
   "name": "python",
   "nbconvert_exporter": "python",
   "pygments_lexer": "ipython3",
   "version": "3.7.4"
  }
 },
 "nbformat": 4,
 "nbformat_minor": 2
}
