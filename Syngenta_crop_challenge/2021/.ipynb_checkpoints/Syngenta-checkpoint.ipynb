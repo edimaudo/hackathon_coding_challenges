{
 "cells": [
  {
   "cell_type": "code",
   "execution_count": 2,
   "metadata": {},
   "outputs": [
    {
     "name": "stdout",
     "output_type": "stream",
     "text": [
      "Collecting ortools\n",
      "\u001b[?25l  Downloading https://files.pythonhosted.org/packages/6f/35/5ccb002ef45362188d08b3f6542d6fd83dc8b0c98e96359064287ae99a0e/ortools-8.0.8283-cp37-cp37m-macosx_10_9_x86_64.whl (11.8MB)\n",
      "\u001b[K     |████████████████████████████████| 11.8MB 1.3MB/s eta 0:00:01\n",
      "\u001b[?25hRequirement already satisfied: six>=1.10 in /opt/anaconda3/lib/python3.7/site-packages (from ortools) (1.12.0)\n",
      "Collecting protobuf>=3.13.0 (from ortools)\n",
      "\u001b[?25l  Downloading https://files.pythonhosted.org/packages/9c/d2/10c325d657155ad7bd942f9d2652ae8e3e7a4be66723e9789099283733df/protobuf-3.13.0-cp37-cp37m-macosx_10_9_x86_64.whl (1.3MB)\n",
      "\u001b[K     |████████████████████████████████| 1.3MB 5.1MB/s eta 0:00:01\n",
      "\u001b[?25hRequirement already satisfied: setuptools in /opt/anaconda3/lib/python3.7/site-packages (from protobuf>=3.13.0->ortools) (41.4.0)\n",
      "Installing collected packages: protobuf, ortools\n",
      "  Found existing installation: protobuf 3.12.2\n",
      "    Uninstalling protobuf-3.12.2:\n",
      "      Successfully uninstalled protobuf-3.12.2\n",
      "Successfully installed ortools-8.0.8283 protobuf-3.13.0\n"
     ]
    }
   ],
   "source": [
    "#!pip install ortools"
   ]
  },
  {
   "cell_type": "code",
   "execution_count": 15,
   "metadata": {},
   "outputs": [],
   "source": [
    "from __future__ import print_function\n",
    "import pandas as pd\n",
    "import numpy as np\n",
    "from ortools.linear_solver import pywraplp\n",
    "# Create the mip solver with the SCIP backend.\n",
    "solver = pywraplp.Solver.CreateSolver('SCIP')"
   ]
  },
  {
   "cell_type": "code",
   "execution_count": 4,
   "metadata": {},
   "outputs": [],
   "source": [
    "#site 0 data\n",
    "scenario1 = pd.read_csv(\"scenario1_0.csv\")"
   ]
  },
  {
   "cell_type": "code",
   "execution_count": 6,
   "metadata": {},
   "outputs": [
    {
     "data": {
      "text/html": [
       "<div>\n",
       "<style scoped>\n",
       "    .dataframe tbody tr th:only-of-type {\n",
       "        vertical-align: middle;\n",
       "    }\n",
       "\n",
       "    .dataframe tbody tr th {\n",
       "        vertical-align: top;\n",
       "    }\n",
       "\n",
       "    .dataframe thead th {\n",
       "        text-align: right;\n",
       "    }\n",
       "</style>\n",
       "<table border=\"1\" class=\"dataframe\">\n",
       "  <thead>\n",
       "    <tr style=\"text-align: right;\">\n",
       "      <th></th>\n",
       "      <th>population</th>\n",
       "      <th>required_gdus</th>\n",
       "      <th>scenario_1_harvest_quantity</th>\n",
       "      <th>week_original_plant_date</th>\n",
       "    </tr>\n",
       "  </thead>\n",
       "  <tbody>\n",
       "    <tr>\n",
       "      <td>0</td>\n",
       "      <td>p_56</td>\n",
       "      <td>1259</td>\n",
       "      <td>270</td>\n",
       "      <td>1</td>\n",
       "    </tr>\n",
       "    <tr>\n",
       "      <td>1</td>\n",
       "      <td>p_57</td>\n",
       "      <td>1259</td>\n",
       "      <td>389</td>\n",
       "      <td>1</td>\n",
       "    </tr>\n",
       "    <tr>\n",
       "      <td>2</td>\n",
       "      <td>p_58</td>\n",
       "      <td>1259</td>\n",
       "      <td>249</td>\n",
       "      <td>1</td>\n",
       "    </tr>\n",
       "    <tr>\n",
       "      <td>3</td>\n",
       "      <td>p_59</td>\n",
       "      <td>1356</td>\n",
       "      <td>100</td>\n",
       "      <td>1</td>\n",
       "    </tr>\n",
       "    <tr>\n",
       "      <td>4</td>\n",
       "      <td>p_60</td>\n",
       "      <td>1356</td>\n",
       "      <td>296</td>\n",
       "      <td>1</td>\n",
       "    </tr>\n",
       "  </tbody>\n",
       "</table>\n",
       "</div>"
      ],
      "text/plain": [
       "  population  required_gdus  scenario_1_harvest_quantity  \\\n",
       "0       p_56           1259                          270   \n",
       "1       p_57           1259                          389   \n",
       "2       p_58           1259                          249   \n",
       "3       p_59           1356                          100   \n",
       "4       p_60           1356                          296   \n",
       "\n",
       "   week_original_plant_date  \n",
       "0                         1  \n",
       "1                         1  \n",
       "2                         1  \n",
       "3                         1  \n",
       "4                         1  "
      ]
     },
     "execution_count": 6,
     "metadata": {},
     "output_type": "execute_result"
    }
   ],
   "source": [
    "scenario1.head()"
   ]
  },
  {
   "cell_type": "code",
   "execution_count": 7,
   "metadata": {},
   "outputs": [],
   "source": [
    "#sort scenario\n",
    "scenario1.sort_values(by=['population'], inplace=True)"
   ]
  },
  {
   "cell_type": "code",
   "execution_count": 8,
   "metadata": {},
   "outputs": [],
   "source": [
    "values = [] #\n",
    "weights = [] #scenario 1 weight using GDU\n",
    "week = []"
   ]
  },
  {
   "cell_type": "code",
   "execution_count": null,
   "metadata": {},
   "outputs": [],
   "source": [
    "for index, row in scenario1.iterrows():\n",
    "    week.append(row[\"week_original_plant_date\"])"
   ]
  },
  {
   "cell_type": "code",
   "execution_count": null,
   "metadata": {},
   "outputs": [],
   "source": [
    "week = list(set(week))"
   ]
  },
  {
   "cell_type": "code",
   "execution_count": 34,
   "metadata": {},
   "outputs": [],
   "source": [
    "#filter scenario for 1 week\n",
    "scenario = scenario1[scenario1['week_original_plant_date'] == 1]"
   ]
  },
  {
   "cell_type": "code",
   "execution_count": 10,
   "metadata": {},
   "outputs": [],
   "source": [
    "for index, row in scenario.iterrows():\n",
    "    weights.append(row[\"required_gdus\"])\n",
    "    values.append(row[\"scenario_1_harvest_quantity\"])"
   ]
  },
  {
   "cell_type": "code",
   "execution_count": 11,
   "metadata": {},
   "outputs": [],
   "source": []
  },
  {
   "cell_type": "code",
   "execution_count": 16,
   "metadata": {},
   "outputs": [],
   "source": [
    "data = {}\n",
    "data['weights'] = weights\n",
    "data['values'] = values\n",
    "data['items'] = list(range(len(weights)))\n",
    "data['num_items'] = len(weights)"
   ]
  },
  {
   "cell_type": "code",
   "execution_count": 27,
   "metadata": {},
   "outputs": [],
   "source": [
    "num_bins = 1#len(week)\n",
    "data['bins'] = list(range(num_bins))\n",
    "capacities = [7000 for i in range(0,num_bins)]\n",
    "data['bin_capacities'] = capacities"
   ]
  },
  {
   "cell_type": "code",
   "execution_count": 28,
   "metadata": {},
   "outputs": [],
   "source": [
    "# Variables\n",
    "# x[i, j] = 1 if item i is packed in bin j.\n",
    "x = {}\n",
    "for i in data['items']:\n",
    "    for j in data['bins']:\n",
    "        x[(i, j)] = solver.IntVar(0, 1, 'x_%i_%i' % (i, j))"
   ]
  },
  {
   "cell_type": "code",
   "execution_count": 29,
   "metadata": {},
   "outputs": [],
   "source": [
    "# Constraints\n",
    "# Each item can be in at most one bin.\n",
    "for i in data['items']:\n",
    "    solver.Add(sum(x[i, j] for j in data['bins']) <= 1)\n"
   ]
  },
  {
   "cell_type": "code",
   "execution_count": null,
   "metadata": {},
   "outputs": [],
   "source": []
  },
  {
   "cell_type": "code",
   "execution_count": null,
   "metadata": {},
   "outputs": [],
   "source": []
  },
  {
   "cell_type": "code",
   "execution_count": 30,
   "metadata": {},
   "outputs": [],
   "source": [
    "# The amount packed in each bin cannot exceed its capacity.\n",
    "for j in data['bins']:\n",
    "    solver.Add(\n",
    "        sum(x[(i, j)] * data['weights'][i]\n",
    "            for i in data['items']) <= data['bin_capacities'][j])"
   ]
  },
  {
   "cell_type": "code",
   "execution_count": 31,
   "metadata": {},
   "outputs": [],
   "source": [
    "# Objective\n",
    "objective = solver.Objective()\n",
    "\n",
    "for i in data['items']:\n",
    "    for j in data['bins']:\n",
    "        objective.SetCoefficient(x[(i, j)], data['values'][i])\n",
    "objective.SetMaximization()"
   ]
  },
  {
   "cell_type": "code",
   "execution_count": 32,
   "metadata": {},
   "outputs": [
    {
     "name": "stdout",
     "output_type": "stream",
     "text": [
      "The problem does not have an optimal solution.\n"
     ]
    }
   ],
   "source": [
    "status = solver.Solve()\n",
    "if status == pywraplp.Solver.OPTIMAL:\n",
    "    print('Total packed value:', objective.Value())\n",
    "    total_weight = 0\n",
    "    for j in data['bins']:\n",
    "        bin_weight = 0\n",
    "        bin_value = 0\n",
    "        print('Bin ', j, '\\n')\n",
    "        for i in data['items']:\n",
    "            if x[i, j].solution_value() > 0:\n",
    "                print('Item', i, '- weight:', data['weights'][i], ' value:',\n",
    "                      data['values'][i])\n",
    "                bin_weight += data['weights'][i]\n",
    "                bin_value += data['values'][i]\n",
    "        print('Packed bin weight:', bin_weight)\n",
    "        print('Packed bin value:', bin_value)\n",
    "        print()\n",
    "        total_weight += bin_weight\n",
    "    print('Total packed weight:', total_weight)\n",
    "else:\n",
    "    print('The problem does not have an optimal solution.')"
   ]
  },
  {
   "cell_type": "code",
   "execution_count": null,
   "metadata": {},
   "outputs": [],
   "source": []
  }
 ],
 "metadata": {
  "kernelspec": {
   "display_name": "Python 3",
   "language": "python",
   "name": "python3"
  },
  "language_info": {
   "codemirror_mode": {
    "name": "ipython",
    "version": 3
   },
   "file_extension": ".py",
   "mimetype": "text/x-python",
   "name": "python",
   "nbconvert_exporter": "python",
   "pygments_lexer": "ipython3",
   "version": "3.7.4"
  }
 },
 "nbformat": 4,
 "nbformat_minor": 2
}
