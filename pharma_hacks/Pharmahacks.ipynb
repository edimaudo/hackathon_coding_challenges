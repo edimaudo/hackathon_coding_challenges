{
  "cells": [
    {
      "cell_type": "markdown",
      "metadata": {
        "id": "fVTnMfrAj1S7"
      },
      "source": [
        "# Multi-class classification - Phyla Challenge 2: Classification of Diseases based on the Gut Microbiome"
      ]
    },
    {
      "cell_type": "code",
      "execution_count": 38,
      "metadata": {
        "id": "Zs26x4EDj1S_"
      },
      "outputs": [],
      "source": [
        "#load libraries\n",
        "import pandas as pd\n",
        "import numpy as np\n",
        "import seaborn as sns\n",
        "import sklearn\n",
        "import matplotlib.pyplot as plt\n",
        "%matplotlib inline\n",
        "from sklearn import preprocessing\n",
        "from sklearn.metrics import accuracy_score\n",
        "from sklearn import model_selection\n",
        "from sklearn.metrics import mean_squared_error\n",
        "from sklearn.model_selection import cross_val_score\n",
        "from sklearn.preprocessing import LabelEncoder, MinMaxScaler, StandardScaler, OneHotEncoder\n",
        "from sklearn.metrics import roc_curve, auc, recall_score, precision_score, f1_score, confusion_matrix, cohen_kappa_score\n",
        "from sklearn.model_selection import train_test_split\n",
        "from sklearn.model_selection import TimeSeriesSplit, cross_val_score, GridSearchCV, RandomizedSearchCV\n",
        "from sklearn.tree import DecisionTreeClassifier\n",
        "from sklearn.neighbors import KNeighborsClassifier\n",
        "from sklearn.ensemble import RandomForestClassifier\n",
        "from sklearn.svm import SVC\n",
        "from sklearn.naive_bayes import GaussianNB\n",
        "from sklearn.ensemble import GradientBoostingClassifier\n",
        "from sklearn.linear_model import SGDClassifier\n",
        "from sklearn.discriminant_analysis import LinearDiscriminantAnalysis\n",
        "from sklearn.ensemble import VotingClassifier\n",
        "from sklearn.ensemble import BaggingClassifier\n",
        "from sklearn.linear_model import LogisticRegression"
      ]
    },
    {
      "cell_type": "code",
      "execution_count": 59,
      "metadata": {
        "id": "SaW-yXKNj1TB"
      },
      "outputs": [],
      "source": [
        "# Load data\n",
        "df = pd.read_csv('challenge_1_gut_microbiome_data.csv')"
      ]
    },
    {
      "cell_type": "markdown",
      "metadata": {
        "id": "QMPp2Hrhj1TC"
      },
      "source": [
        "## Data Overview"
      ]
    },
    {
      "cell_type": "code",
      "execution_count": 60,
      "metadata": {
        "id": "JJ6QFQY1j1TC",
        "outputId": "09a39754-3209-4a27-d371-58b3bb999736",
        "colab": {
          "base_uri": "https://localhost:8080/",
          "height": 403
        }
      },
      "outputs": [
        {
          "output_type": "execute_result",
          "data": {
            "text/plain": [
              "    Samples  Bacteria-1  Bacteria-2  Bacteria-3  Bacteria-4  Bacteria-5  \\\n",
              "0  Sample-1           0           0           0           0           0   \n",
              "1  Sample-2           0           0           0           0           0   \n",
              "2  Sample-3           0          10           0           0           0   \n",
              "3  Sample-4           0          17           0           0           0   \n",
              "4  Sample-5           0           8           0           0           0   \n",
              "\n",
              "   Bacteria-6  Bacteria-7  Bacteria-8  Bacteria-9  ...  Bacteria-1086  \\\n",
              "0           0           0           0           0  ...              0   \n",
              "1           0           0           0           0  ...              0   \n",
              "2           0           0           0           0  ...              0   \n",
              "3           0           0           0           0  ...              0   \n",
              "4           0           0           0           0  ...              0   \n",
              "\n",
              "   Bacteria-1087  Bacteria-1088  Bacteria-1089  Bacteria-1090  Bacteria-1091  \\\n",
              "0              0              0              0              0              0   \n",
              "1          17111              0              0              0              0   \n",
              "2            214              0              0              0              0   \n",
              "3              0              0              0              0              0   \n",
              "4           1932              0              0              0              0   \n",
              "\n",
              "   Bacteria-1092  Bacteria-1093  Bacteria-1094    disease  \n",
              "0              0              0              0  Disease-2  \n",
              "1              0              0              0  Disease-2  \n",
              "2              0              0              0  Disease-2  \n",
              "3              0              0              0  Disease-2  \n",
              "4              0              3              0  Disease-2  \n",
              "\n",
              "[5 rows x 1096 columns]"
            ],
            "text/html": [
              "\n",
              "  <div id=\"df-99fa0ccc-9a4a-42a9-ab7b-c7ddd2675e5c\">\n",
              "    <div class=\"colab-df-container\">\n",
              "      <div>\n",
              "<style scoped>\n",
              "    .dataframe tbody tr th:only-of-type {\n",
              "        vertical-align: middle;\n",
              "    }\n",
              "\n",
              "    .dataframe tbody tr th {\n",
              "        vertical-align: top;\n",
              "    }\n",
              "\n",
              "    .dataframe thead th {\n",
              "        text-align: right;\n",
              "    }\n",
              "</style>\n",
              "<table border=\"1\" class=\"dataframe\">\n",
              "  <thead>\n",
              "    <tr style=\"text-align: right;\">\n",
              "      <th></th>\n",
              "      <th>Samples</th>\n",
              "      <th>Bacteria-1</th>\n",
              "      <th>Bacteria-2</th>\n",
              "      <th>Bacteria-3</th>\n",
              "      <th>Bacteria-4</th>\n",
              "      <th>Bacteria-5</th>\n",
              "      <th>Bacteria-6</th>\n",
              "      <th>Bacteria-7</th>\n",
              "      <th>Bacteria-8</th>\n",
              "      <th>Bacteria-9</th>\n",
              "      <th>...</th>\n",
              "      <th>Bacteria-1086</th>\n",
              "      <th>Bacteria-1087</th>\n",
              "      <th>Bacteria-1088</th>\n",
              "      <th>Bacteria-1089</th>\n",
              "      <th>Bacteria-1090</th>\n",
              "      <th>Bacteria-1091</th>\n",
              "      <th>Bacteria-1092</th>\n",
              "      <th>Bacteria-1093</th>\n",
              "      <th>Bacteria-1094</th>\n",
              "      <th>disease</th>\n",
              "    </tr>\n",
              "  </thead>\n",
              "  <tbody>\n",
              "    <tr>\n",
              "      <th>0</th>\n",
              "      <td>Sample-1</td>\n",
              "      <td>0</td>\n",
              "      <td>0</td>\n",
              "      <td>0</td>\n",
              "      <td>0</td>\n",
              "      <td>0</td>\n",
              "      <td>0</td>\n",
              "      <td>0</td>\n",
              "      <td>0</td>\n",
              "      <td>0</td>\n",
              "      <td>...</td>\n",
              "      <td>0</td>\n",
              "      <td>0</td>\n",
              "      <td>0</td>\n",
              "      <td>0</td>\n",
              "      <td>0</td>\n",
              "      <td>0</td>\n",
              "      <td>0</td>\n",
              "      <td>0</td>\n",
              "      <td>0</td>\n",
              "      <td>Disease-2</td>\n",
              "    </tr>\n",
              "    <tr>\n",
              "      <th>1</th>\n",
              "      <td>Sample-2</td>\n",
              "      <td>0</td>\n",
              "      <td>0</td>\n",
              "      <td>0</td>\n",
              "      <td>0</td>\n",
              "      <td>0</td>\n",
              "      <td>0</td>\n",
              "      <td>0</td>\n",
              "      <td>0</td>\n",
              "      <td>0</td>\n",
              "      <td>...</td>\n",
              "      <td>0</td>\n",
              "      <td>17111</td>\n",
              "      <td>0</td>\n",
              "      <td>0</td>\n",
              "      <td>0</td>\n",
              "      <td>0</td>\n",
              "      <td>0</td>\n",
              "      <td>0</td>\n",
              "      <td>0</td>\n",
              "      <td>Disease-2</td>\n",
              "    </tr>\n",
              "    <tr>\n",
              "      <th>2</th>\n",
              "      <td>Sample-3</td>\n",
              "      <td>0</td>\n",
              "      <td>10</td>\n",
              "      <td>0</td>\n",
              "      <td>0</td>\n",
              "      <td>0</td>\n",
              "      <td>0</td>\n",
              "      <td>0</td>\n",
              "      <td>0</td>\n",
              "      <td>0</td>\n",
              "      <td>...</td>\n",
              "      <td>0</td>\n",
              "      <td>214</td>\n",
              "      <td>0</td>\n",
              "      <td>0</td>\n",
              "      <td>0</td>\n",
              "      <td>0</td>\n",
              "      <td>0</td>\n",
              "      <td>0</td>\n",
              "      <td>0</td>\n",
              "      <td>Disease-2</td>\n",
              "    </tr>\n",
              "    <tr>\n",
              "      <th>3</th>\n",
              "      <td>Sample-4</td>\n",
              "      <td>0</td>\n",
              "      <td>17</td>\n",
              "      <td>0</td>\n",
              "      <td>0</td>\n",
              "      <td>0</td>\n",
              "      <td>0</td>\n",
              "      <td>0</td>\n",
              "      <td>0</td>\n",
              "      <td>0</td>\n",
              "      <td>...</td>\n",
              "      <td>0</td>\n",
              "      <td>0</td>\n",
              "      <td>0</td>\n",
              "      <td>0</td>\n",
              "      <td>0</td>\n",
              "      <td>0</td>\n",
              "      <td>0</td>\n",
              "      <td>0</td>\n",
              "      <td>0</td>\n",
              "      <td>Disease-2</td>\n",
              "    </tr>\n",
              "    <tr>\n",
              "      <th>4</th>\n",
              "      <td>Sample-5</td>\n",
              "      <td>0</td>\n",
              "      <td>8</td>\n",
              "      <td>0</td>\n",
              "      <td>0</td>\n",
              "      <td>0</td>\n",
              "      <td>0</td>\n",
              "      <td>0</td>\n",
              "      <td>0</td>\n",
              "      <td>0</td>\n",
              "      <td>...</td>\n",
              "      <td>0</td>\n",
              "      <td>1932</td>\n",
              "      <td>0</td>\n",
              "      <td>0</td>\n",
              "      <td>0</td>\n",
              "      <td>0</td>\n",
              "      <td>0</td>\n",
              "      <td>3</td>\n",
              "      <td>0</td>\n",
              "      <td>Disease-2</td>\n",
              "    </tr>\n",
              "  </tbody>\n",
              "</table>\n",
              "<p>5 rows × 1096 columns</p>\n",
              "</div>\n",
              "      <button class=\"colab-df-convert\" onclick=\"convertToInteractive('df-99fa0ccc-9a4a-42a9-ab7b-c7ddd2675e5c')\"\n",
              "              title=\"Convert this dataframe to an interactive table.\"\n",
              "              style=\"display:none;\">\n",
              "        \n",
              "  <svg xmlns=\"http://www.w3.org/2000/svg\" height=\"24px\"viewBox=\"0 0 24 24\"\n",
              "       width=\"24px\">\n",
              "    <path d=\"M0 0h24v24H0V0z\" fill=\"none\"/>\n",
              "    <path d=\"M18.56 5.44l.94 2.06.94-2.06 2.06-.94-2.06-.94-.94-2.06-.94 2.06-2.06.94zm-11 1L8.5 8.5l.94-2.06 2.06-.94-2.06-.94L8.5 2.5l-.94 2.06-2.06.94zm10 10l.94 2.06.94-2.06 2.06-.94-2.06-.94-.94-2.06-.94 2.06-2.06.94z\"/><path d=\"M17.41 7.96l-1.37-1.37c-.4-.4-.92-.59-1.43-.59-.52 0-1.04.2-1.43.59L10.3 9.45l-7.72 7.72c-.78.78-.78 2.05 0 2.83L4 21.41c.39.39.9.59 1.41.59.51 0 1.02-.2 1.41-.59l7.78-7.78 2.81-2.81c.8-.78.8-2.07 0-2.86zM5.41 20L4 18.59l7.72-7.72 1.47 1.35L5.41 20z\"/>\n",
              "  </svg>\n",
              "      </button>\n",
              "      \n",
              "  <style>\n",
              "    .colab-df-container {\n",
              "      display:flex;\n",
              "      flex-wrap:wrap;\n",
              "      gap: 12px;\n",
              "    }\n",
              "\n",
              "    .colab-df-convert {\n",
              "      background-color: #E8F0FE;\n",
              "      border: none;\n",
              "      border-radius: 50%;\n",
              "      cursor: pointer;\n",
              "      display: none;\n",
              "      fill: #1967D2;\n",
              "      height: 32px;\n",
              "      padding: 0 0 0 0;\n",
              "      width: 32px;\n",
              "    }\n",
              "\n",
              "    .colab-df-convert:hover {\n",
              "      background-color: #E2EBFA;\n",
              "      box-shadow: 0px 1px 2px rgba(60, 64, 67, 0.3), 0px 1px 3px 1px rgba(60, 64, 67, 0.15);\n",
              "      fill: #174EA6;\n",
              "    }\n",
              "\n",
              "    [theme=dark] .colab-df-convert {\n",
              "      background-color: #3B4455;\n",
              "      fill: #D2E3FC;\n",
              "    }\n",
              "\n",
              "    [theme=dark] .colab-df-convert:hover {\n",
              "      background-color: #434B5C;\n",
              "      box-shadow: 0px 1px 3px 1px rgba(0, 0, 0, 0.15);\n",
              "      filter: drop-shadow(0px 1px 2px rgba(0, 0, 0, 0.3));\n",
              "      fill: #FFFFFF;\n",
              "    }\n",
              "  </style>\n",
              "\n",
              "      <script>\n",
              "        const buttonEl =\n",
              "          document.querySelector('#df-99fa0ccc-9a4a-42a9-ab7b-c7ddd2675e5c button.colab-df-convert');\n",
              "        buttonEl.style.display =\n",
              "          google.colab.kernel.accessAllowed ? 'block' : 'none';\n",
              "\n",
              "        async function convertToInteractive(key) {\n",
              "          const element = document.querySelector('#df-99fa0ccc-9a4a-42a9-ab7b-c7ddd2675e5c');\n",
              "          const dataTable =\n",
              "            await google.colab.kernel.invokeFunction('convertToInteractive',\n",
              "                                                     [key], {});\n",
              "          if (!dataTable) return;\n",
              "\n",
              "          const docLinkHtml = 'Like what you see? Visit the ' +\n",
              "            '<a target=\"_blank\" href=https://colab.research.google.com/notebooks/data_table.ipynb>data table notebook</a>'\n",
              "            + ' to learn more about interactive tables.';\n",
              "          element.innerHTML = '';\n",
              "          dataTable['output_type'] = 'display_data';\n",
              "          await google.colab.output.renderOutput(dataTable, element);\n",
              "          const docLink = document.createElement('div');\n",
              "          docLink.innerHTML = docLinkHtml;\n",
              "          element.appendChild(docLink);\n",
              "        }\n",
              "      </script>\n",
              "    </div>\n",
              "  </div>\n",
              "  "
            ]
          },
          "metadata": {},
          "execution_count": 60
        }
      ],
      "source": [
        "df.head()"
      ]
    },
    {
      "cell_type": "code",
      "execution_count": 61,
      "metadata": {
        "id": "5fQiK8GLj1TD"
      },
      "outputs": [],
      "source": [
        "# Drop first column\n",
        "df.drop('Samples', axis=1, inplace=True)"
      ]
    },
    {
      "cell_type": "code",
      "execution_count": 62,
      "metadata": {
        "id": "ubEk5Oymj1TE",
        "outputId": "099a8517-ec99-4b59-af0b-51ac397633af",
        "colab": {
          "base_uri": "https://localhost:8080/",
          "height": 411
        }
      },
      "outputs": [
        {
          "output_type": "execute_result",
          "data": {
            "text/plain": [
              "        Bacteria-1    Bacteria-2   Bacteria-3   Bacteria-4   Bacteria-5  \\\n",
              "count  7481.000000   7481.000000  7481.000000  7481.000000  7481.000000   \n",
              "mean      0.032750     37.562893     2.537495     0.000401     0.000936   \n",
              "std       2.719433    404.702666    55.417197     0.034685     0.080932   \n",
              "min       0.000000      0.000000     0.000000     0.000000     0.000000   \n",
              "25%       0.000000      0.000000     0.000000     0.000000     0.000000   \n",
              "50%       0.000000      0.000000     0.000000     0.000000     0.000000   \n",
              "75%       0.000000      0.000000     0.000000     0.000000     0.000000   \n",
              "max     235.000000  13253.000000  3881.000000     3.000000     7.000000   \n",
              "\n",
              "        Bacteria-6   Bacteria-7  Bacteria-8   Bacteria-9  Bacteria-10  ...  \\\n",
              "count  7481.000000  7481.000000  7481.00000  7481.000000  7481.000000  ...   \n",
              "mean      0.000668     0.454618     0.04478     0.007218     0.050394  ...   \n",
              "std       0.057808    13.035579     1.67340     0.406105     1.022867  ...   \n",
              "min       0.000000     0.000000     0.00000     0.000000     0.000000  ...   \n",
              "25%       0.000000     0.000000     0.00000     0.000000     0.000000  ...   \n",
              "50%       0.000000     0.000000     0.00000     0.000000     0.000000  ...   \n",
              "75%       0.000000     0.000000     0.00000     0.000000     0.000000  ...   \n",
              "max       5.000000   842.000000   103.00000    32.000000    45.000000  ...   \n",
              "\n",
              "       Bacteria-1085  Bacteria-1086  Bacteria-1087  Bacteria-1088  \\\n",
              "count    7481.000000    7481.000000    7481.000000    7481.000000   \n",
              "mean        0.000535       0.007085     626.869937       0.012699   \n",
              "std         0.046247       0.612768    2881.775152       1.098358   \n",
              "min         0.000000       0.000000       0.000000       0.000000   \n",
              "25%         0.000000       0.000000       0.000000       0.000000   \n",
              "50%         0.000000       0.000000       5.000000       0.000000   \n",
              "75%         0.000000       0.000000     154.000000       0.000000   \n",
              "max         4.000000      53.000000   79898.000000      95.000000   \n",
              "\n",
              "       Bacteria-1089  Bacteria-1090  Bacteria-1091  Bacteria-1092  \\\n",
              "count    7481.000000    7481.000000    7481.000000    7481.000000   \n",
              "mean        0.001871       0.005213       0.053068       0.000267   \n",
              "std         0.161863       0.450905       3.835730       0.023123   \n",
              "min         0.000000       0.000000       0.000000       0.000000   \n",
              "25%         0.000000       0.000000       0.000000       0.000000   \n",
              "50%         0.000000       0.000000       0.000000       0.000000   \n",
              "75%         0.000000       0.000000       0.000000       0.000000   \n",
              "max        14.000000      39.000000     328.000000       2.000000   \n",
              "\n",
              "       Bacteria-1093  Bacteria-1094  \n",
              "count    7481.000000    7481.000000  \n",
              "mean       37.886379       0.562224  \n",
              "std       861.540239      18.802489  \n",
              "min         0.000000       0.000000  \n",
              "25%         0.000000       0.000000  \n",
              "50%         0.000000       0.000000  \n",
              "75%         0.000000       0.000000  \n",
              "max     53963.000000    1256.000000  \n",
              "\n",
              "[8 rows x 1094 columns]"
            ],
            "text/html": [
              "\n",
              "  <div id=\"df-b38b74a6-6e56-4e62-a5a0-63d13f472572\">\n",
              "    <div class=\"colab-df-container\">\n",
              "      <div>\n",
              "<style scoped>\n",
              "    .dataframe tbody tr th:only-of-type {\n",
              "        vertical-align: middle;\n",
              "    }\n",
              "\n",
              "    .dataframe tbody tr th {\n",
              "        vertical-align: top;\n",
              "    }\n",
              "\n",
              "    .dataframe thead th {\n",
              "        text-align: right;\n",
              "    }\n",
              "</style>\n",
              "<table border=\"1\" class=\"dataframe\">\n",
              "  <thead>\n",
              "    <tr style=\"text-align: right;\">\n",
              "      <th></th>\n",
              "      <th>Bacteria-1</th>\n",
              "      <th>Bacteria-2</th>\n",
              "      <th>Bacteria-3</th>\n",
              "      <th>Bacteria-4</th>\n",
              "      <th>Bacteria-5</th>\n",
              "      <th>Bacteria-6</th>\n",
              "      <th>Bacteria-7</th>\n",
              "      <th>Bacteria-8</th>\n",
              "      <th>Bacteria-9</th>\n",
              "      <th>Bacteria-10</th>\n",
              "      <th>...</th>\n",
              "      <th>Bacteria-1085</th>\n",
              "      <th>Bacteria-1086</th>\n",
              "      <th>Bacteria-1087</th>\n",
              "      <th>Bacteria-1088</th>\n",
              "      <th>Bacteria-1089</th>\n",
              "      <th>Bacteria-1090</th>\n",
              "      <th>Bacteria-1091</th>\n",
              "      <th>Bacteria-1092</th>\n",
              "      <th>Bacteria-1093</th>\n",
              "      <th>Bacteria-1094</th>\n",
              "    </tr>\n",
              "  </thead>\n",
              "  <tbody>\n",
              "    <tr>\n",
              "      <th>count</th>\n",
              "      <td>7481.000000</td>\n",
              "      <td>7481.000000</td>\n",
              "      <td>7481.000000</td>\n",
              "      <td>7481.000000</td>\n",
              "      <td>7481.000000</td>\n",
              "      <td>7481.000000</td>\n",
              "      <td>7481.000000</td>\n",
              "      <td>7481.00000</td>\n",
              "      <td>7481.000000</td>\n",
              "      <td>7481.000000</td>\n",
              "      <td>...</td>\n",
              "      <td>7481.000000</td>\n",
              "      <td>7481.000000</td>\n",
              "      <td>7481.000000</td>\n",
              "      <td>7481.000000</td>\n",
              "      <td>7481.000000</td>\n",
              "      <td>7481.000000</td>\n",
              "      <td>7481.000000</td>\n",
              "      <td>7481.000000</td>\n",
              "      <td>7481.000000</td>\n",
              "      <td>7481.000000</td>\n",
              "    </tr>\n",
              "    <tr>\n",
              "      <th>mean</th>\n",
              "      <td>0.032750</td>\n",
              "      <td>37.562893</td>\n",
              "      <td>2.537495</td>\n",
              "      <td>0.000401</td>\n",
              "      <td>0.000936</td>\n",
              "      <td>0.000668</td>\n",
              "      <td>0.454618</td>\n",
              "      <td>0.04478</td>\n",
              "      <td>0.007218</td>\n",
              "      <td>0.050394</td>\n",
              "      <td>...</td>\n",
              "      <td>0.000535</td>\n",
              "      <td>0.007085</td>\n",
              "      <td>626.869937</td>\n",
              "      <td>0.012699</td>\n",
              "      <td>0.001871</td>\n",
              "      <td>0.005213</td>\n",
              "      <td>0.053068</td>\n",
              "      <td>0.000267</td>\n",
              "      <td>37.886379</td>\n",
              "      <td>0.562224</td>\n",
              "    </tr>\n",
              "    <tr>\n",
              "      <th>std</th>\n",
              "      <td>2.719433</td>\n",
              "      <td>404.702666</td>\n",
              "      <td>55.417197</td>\n",
              "      <td>0.034685</td>\n",
              "      <td>0.080932</td>\n",
              "      <td>0.057808</td>\n",
              "      <td>13.035579</td>\n",
              "      <td>1.67340</td>\n",
              "      <td>0.406105</td>\n",
              "      <td>1.022867</td>\n",
              "      <td>...</td>\n",
              "      <td>0.046247</td>\n",
              "      <td>0.612768</td>\n",
              "      <td>2881.775152</td>\n",
              "      <td>1.098358</td>\n",
              "      <td>0.161863</td>\n",
              "      <td>0.450905</td>\n",
              "      <td>3.835730</td>\n",
              "      <td>0.023123</td>\n",
              "      <td>861.540239</td>\n",
              "      <td>18.802489</td>\n",
              "    </tr>\n",
              "    <tr>\n",
              "      <th>min</th>\n",
              "      <td>0.000000</td>\n",
              "      <td>0.000000</td>\n",
              "      <td>0.000000</td>\n",
              "      <td>0.000000</td>\n",
              "      <td>0.000000</td>\n",
              "      <td>0.000000</td>\n",
              "      <td>0.000000</td>\n",
              "      <td>0.00000</td>\n",
              "      <td>0.000000</td>\n",
              "      <td>0.000000</td>\n",
              "      <td>...</td>\n",
              "      <td>0.000000</td>\n",
              "      <td>0.000000</td>\n",
              "      <td>0.000000</td>\n",
              "      <td>0.000000</td>\n",
              "      <td>0.000000</td>\n",
              "      <td>0.000000</td>\n",
              "      <td>0.000000</td>\n",
              "      <td>0.000000</td>\n",
              "      <td>0.000000</td>\n",
              "      <td>0.000000</td>\n",
              "    </tr>\n",
              "    <tr>\n",
              "      <th>25%</th>\n",
              "      <td>0.000000</td>\n",
              "      <td>0.000000</td>\n",
              "      <td>0.000000</td>\n",
              "      <td>0.000000</td>\n",
              "      <td>0.000000</td>\n",
              "      <td>0.000000</td>\n",
              "      <td>0.000000</td>\n",
              "      <td>0.00000</td>\n",
              "      <td>0.000000</td>\n",
              "      <td>0.000000</td>\n",
              "      <td>...</td>\n",
              "      <td>0.000000</td>\n",
              "      <td>0.000000</td>\n",
              "      <td>0.000000</td>\n",
              "      <td>0.000000</td>\n",
              "      <td>0.000000</td>\n",
              "      <td>0.000000</td>\n",
              "      <td>0.000000</td>\n",
              "      <td>0.000000</td>\n",
              "      <td>0.000000</td>\n",
              "      <td>0.000000</td>\n",
              "    </tr>\n",
              "    <tr>\n",
              "      <th>50%</th>\n",
              "      <td>0.000000</td>\n",
              "      <td>0.000000</td>\n",
              "      <td>0.000000</td>\n",
              "      <td>0.000000</td>\n",
              "      <td>0.000000</td>\n",
              "      <td>0.000000</td>\n",
              "      <td>0.000000</td>\n",
              "      <td>0.00000</td>\n",
              "      <td>0.000000</td>\n",
              "      <td>0.000000</td>\n",
              "      <td>...</td>\n",
              "      <td>0.000000</td>\n",
              "      <td>0.000000</td>\n",
              "      <td>5.000000</td>\n",
              "      <td>0.000000</td>\n",
              "      <td>0.000000</td>\n",
              "      <td>0.000000</td>\n",
              "      <td>0.000000</td>\n",
              "      <td>0.000000</td>\n",
              "      <td>0.000000</td>\n",
              "      <td>0.000000</td>\n",
              "    </tr>\n",
              "    <tr>\n",
              "      <th>75%</th>\n",
              "      <td>0.000000</td>\n",
              "      <td>0.000000</td>\n",
              "      <td>0.000000</td>\n",
              "      <td>0.000000</td>\n",
              "      <td>0.000000</td>\n",
              "      <td>0.000000</td>\n",
              "      <td>0.000000</td>\n",
              "      <td>0.00000</td>\n",
              "      <td>0.000000</td>\n",
              "      <td>0.000000</td>\n",
              "      <td>...</td>\n",
              "      <td>0.000000</td>\n",
              "      <td>0.000000</td>\n",
              "      <td>154.000000</td>\n",
              "      <td>0.000000</td>\n",
              "      <td>0.000000</td>\n",
              "      <td>0.000000</td>\n",
              "      <td>0.000000</td>\n",
              "      <td>0.000000</td>\n",
              "      <td>0.000000</td>\n",
              "      <td>0.000000</td>\n",
              "    </tr>\n",
              "    <tr>\n",
              "      <th>max</th>\n",
              "      <td>235.000000</td>\n",
              "      <td>13253.000000</td>\n",
              "      <td>3881.000000</td>\n",
              "      <td>3.000000</td>\n",
              "      <td>7.000000</td>\n",
              "      <td>5.000000</td>\n",
              "      <td>842.000000</td>\n",
              "      <td>103.00000</td>\n",
              "      <td>32.000000</td>\n",
              "      <td>45.000000</td>\n",
              "      <td>...</td>\n",
              "      <td>4.000000</td>\n",
              "      <td>53.000000</td>\n",
              "      <td>79898.000000</td>\n",
              "      <td>95.000000</td>\n",
              "      <td>14.000000</td>\n",
              "      <td>39.000000</td>\n",
              "      <td>328.000000</td>\n",
              "      <td>2.000000</td>\n",
              "      <td>53963.000000</td>\n",
              "      <td>1256.000000</td>\n",
              "    </tr>\n",
              "  </tbody>\n",
              "</table>\n",
              "<p>8 rows × 1094 columns</p>\n",
              "</div>\n",
              "      <button class=\"colab-df-convert\" onclick=\"convertToInteractive('df-b38b74a6-6e56-4e62-a5a0-63d13f472572')\"\n",
              "              title=\"Convert this dataframe to an interactive table.\"\n",
              "              style=\"display:none;\">\n",
              "        \n",
              "  <svg xmlns=\"http://www.w3.org/2000/svg\" height=\"24px\"viewBox=\"0 0 24 24\"\n",
              "       width=\"24px\">\n",
              "    <path d=\"M0 0h24v24H0V0z\" fill=\"none\"/>\n",
              "    <path d=\"M18.56 5.44l.94 2.06.94-2.06 2.06-.94-2.06-.94-.94-2.06-.94 2.06-2.06.94zm-11 1L8.5 8.5l.94-2.06 2.06-.94-2.06-.94L8.5 2.5l-.94 2.06-2.06.94zm10 10l.94 2.06.94-2.06 2.06-.94-2.06-.94-.94-2.06-.94 2.06-2.06.94z\"/><path d=\"M17.41 7.96l-1.37-1.37c-.4-.4-.92-.59-1.43-.59-.52 0-1.04.2-1.43.59L10.3 9.45l-7.72 7.72c-.78.78-.78 2.05 0 2.83L4 21.41c.39.39.9.59 1.41.59.51 0 1.02-.2 1.41-.59l7.78-7.78 2.81-2.81c.8-.78.8-2.07 0-2.86zM5.41 20L4 18.59l7.72-7.72 1.47 1.35L5.41 20z\"/>\n",
              "  </svg>\n",
              "      </button>\n",
              "      \n",
              "  <style>\n",
              "    .colab-df-container {\n",
              "      display:flex;\n",
              "      flex-wrap:wrap;\n",
              "      gap: 12px;\n",
              "    }\n",
              "\n",
              "    .colab-df-convert {\n",
              "      background-color: #E8F0FE;\n",
              "      border: none;\n",
              "      border-radius: 50%;\n",
              "      cursor: pointer;\n",
              "      display: none;\n",
              "      fill: #1967D2;\n",
              "      height: 32px;\n",
              "      padding: 0 0 0 0;\n",
              "      width: 32px;\n",
              "    }\n",
              "\n",
              "    .colab-df-convert:hover {\n",
              "      background-color: #E2EBFA;\n",
              "      box-shadow: 0px 1px 2px rgba(60, 64, 67, 0.3), 0px 1px 3px 1px rgba(60, 64, 67, 0.15);\n",
              "      fill: #174EA6;\n",
              "    }\n",
              "\n",
              "    [theme=dark] .colab-df-convert {\n",
              "      background-color: #3B4455;\n",
              "      fill: #D2E3FC;\n",
              "    }\n",
              "\n",
              "    [theme=dark] .colab-df-convert:hover {\n",
              "      background-color: #434B5C;\n",
              "      box-shadow: 0px 1px 3px 1px rgba(0, 0, 0, 0.15);\n",
              "      filter: drop-shadow(0px 1px 2px rgba(0, 0, 0, 0.3));\n",
              "      fill: #FFFFFF;\n",
              "    }\n",
              "  </style>\n",
              "\n",
              "      <script>\n",
              "        const buttonEl =\n",
              "          document.querySelector('#df-b38b74a6-6e56-4e62-a5a0-63d13f472572 button.colab-df-convert');\n",
              "        buttonEl.style.display =\n",
              "          google.colab.kernel.accessAllowed ? 'block' : 'none';\n",
              "\n",
              "        async function convertToInteractive(key) {\n",
              "          const element = document.querySelector('#df-b38b74a6-6e56-4e62-a5a0-63d13f472572');\n",
              "          const dataTable =\n",
              "            await google.colab.kernel.invokeFunction('convertToInteractive',\n",
              "                                                     [key], {});\n",
              "          if (!dataTable) return;\n",
              "\n",
              "          const docLinkHtml = 'Like what you see? Visit the ' +\n",
              "            '<a target=\"_blank\" href=https://colab.research.google.com/notebooks/data_table.ipynb>data table notebook</a>'\n",
              "            + ' to learn more about interactive tables.';\n",
              "          element.innerHTML = '';\n",
              "          dataTable['output_type'] = 'display_data';\n",
              "          await google.colab.output.renderOutput(dataTable, element);\n",
              "          const docLink = document.createElement('div');\n",
              "          docLink.innerHTML = docLinkHtml;\n",
              "          element.appendChild(docLink);\n",
              "        }\n",
              "      </script>\n",
              "    </div>\n",
              "  </div>\n",
              "  "
            ]
          },
          "metadata": {},
          "execution_count": 62
        }
      ],
      "source": [
        "# Check data\n",
        "df.describe()"
      ]
    },
    {
      "cell_type": "code",
      "execution_count": 8,
      "metadata": {
        "id": "6EftSE09j1TF",
        "outputId": "fdf10391-e1f0-47e5-db2c-4e77580a59d4",
        "colab": {
          "base_uri": "https://localhost:8080/",
          "height": 323
        }
      },
      "outputs": [
        {
          "output_type": "execute_result",
          "data": {
            "text/plain": [
              "<matplotlib.axes._subplots.AxesSubplot at 0x7f74ee560c50>"
            ]
          },
          "metadata": {},
          "execution_count": 8
        },
        {
          "output_type": "display_data",
          "data": {
            "text/plain": [
              "<Figure size 432x288 with 1 Axes>"
            ],
            "image/png": "[encoded data removed]"
          },
          "metadata": {
            "needs_background": "light"
          }
        }
      ],
      "source": [
        "# Check Disease breakdown\n",
        "pd.value_counts(df['disease']).plot.bar()\n",
        "# Looks like there is a lot of Healthy in the data compared to the other target values"
      ]
    },
    {
      "cell_type": "markdown",
      "metadata": {
        "id": "Vl6AIF2Lj1TH"
      },
      "source": [
        "## Modelling"
      ]
    },
    {
      "cell_type": "code",
      "source": [
        "# Use two different approaches\n",
        "# Approach 1 will use all variables\n",
        "# Approach 2 will use some variables using featuring engineering like Extra Classifier"
      ],
      "metadata": {
        "id": "yv6HlXDsq4J7"
      },
      "execution_count": 9,
      "outputs": []
    },
    {
      "cell_type": "markdown",
      "source": [
        "**Approach 1**"
      ],
      "metadata": {
        "id": "YlI2iRlGUb5A"
      }
    },
    {
      "cell_type": "markdown",
      "source": [
        ""
      ],
      "metadata": {
        "id": "-RXq0uazq7Hh"
      }
    },
    {
      "cell_type": "code",
      "execution_count": 63,
      "metadata": {
        "id": "EUhTlcQyj1TI"
      },
      "outputs": [],
      "source": [
        "# rescale all variables except the target variable\n",
        "df_scale = df.loc[:, df.columns!='disease']\n",
        "scaler = preprocessing.MinMaxScaler()\n",
        "df_scale = scaler.fit_transform(df_scale)\n",
        "df_scale = pd.DataFrame(df_scale)\n",
        "df_scale.reset_index(drop=True, inplace=True)"
      ]
    },
    {
      "cell_type": "code",
      "execution_count": 64,
      "metadata": {
        "id": "H_yx01Ccj1TI",
        "outputId": "ce8ec94d-bcab-466f-a50b-38e9ab0e7129",
        "colab": {
          "base_uri": "https://localhost:8080/"
        }
      },
      "outputs": [
        {
          "output_type": "execute_result",
          "data": {
            "text/plain": [
              "(7481, 1095)"
            ]
          },
          "metadata": {},
          "execution_count": 64
        }
      ],
      "source": [
        "# combine rescaled value\n",
        "df['disease'].reset_index(drop=True, inplace=True)\n",
        "df_1 = pd.concat([df_scale,df['disease']], axis=1)\n",
        "df_1 = df.columns.values.tolist()\n",
        "df.shape"
      ]
    },
    {
      "cell_type": "code",
      "source": [
        ""
      ],
      "metadata": {
        "id": "ohxFjT6moPuw"
      },
      "execution_count": 116,
      "outputs": []
    },
    {
      "cell_type": "code",
      "execution_count": 66,
      "metadata": {
        "id": "TDngyf0uj1TJ",
        "outputId": "a3fcae14-88d5-4d61-bda4-6be2b104ad33",
        "colab": {
          "base_uri": "https://localhost:8080/"
        }
      },
      "outputs": [
        {
          "output_type": "stream",
          "name": "stdout",
          "text": [
            "(5984, 1095) (1497, 1095)\n"
          ]
        }
      ],
      "source": [
        "#Let's now create our training and test data.\n",
        "train,test = train_test_split(df,test_size=0.2,random_state=42)\n",
        "print(train.shape, test.shape)"
      ]
    },
    {
      "cell_type": "code",
      "execution_count": null,
      "metadata": {
        "id": "tdx8H0lQj1TJ"
      },
      "outputs": [],
      "source": [
        "#!pip install imblearn\n",
        "#!pip install -U imbalanced-learn"
      ]
    },
    {
      "cell_type": "code",
      "execution_count": 67,
      "metadata": {
        "id": "Q8Ana18xj1TJ"
      },
      "outputs": [],
      "source": [
        "# Fix Target variable imbalance\n",
        "X_train = train.drop('disease', axis=1)\n",
        "y_train = train[['disease']]\n",
        "from imblearn.under_sampling import NearMiss\n",
        "nr = NearMiss(version=1)\n",
        "X_train, y_train = nr.fit_resample(X_train, y_train)"
      ]
    },
    {
      "cell_type": "code",
      "execution_count": 68,
      "metadata": {
        "id": "F4-FZgV0j1TK"
      },
      "outputs": [],
      "source": [
        "X_train = pd.DataFrame(X_train)\n",
        "y_train = pd.DataFrame(y_train)"
      ]
    },
    {
      "cell_type": "code",
      "execution_count": 69,
      "metadata": {
        "id": "Z6alhsLfj1TK"
      },
      "outputs": [],
      "source": [
        "# combine train data\n",
        "train = pd.concat([X_train,y_train], axis=1)\n",
        "train.reset_index(drop=True, inplace=True)"
      ]
    },
    {
      "cell_type": "code",
      "execution_count": 70,
      "metadata": {
        "id": "7s076F4Wj1TK"
      },
      "outputs": [],
      "source": [
        "train.columns = df.columns.values.tolist()"
      ]
    },
    {
      "cell_type": "code",
      "execution_count": 17,
      "metadata": {
        "id": "WcP03ehej1TK"
      },
      "outputs": [],
      "source": [
        "# Models\n",
        "import warnings\n",
        "warnings.simplefilter(action='ignore', category=FutureWarning)\n",
        "model1=LogisticRegression(random_state=22,C=0.000000001,solver='liblinear',max_iter=200)\n",
        "model2=GaussianNB()\n",
        "model3=RandomForestClassifier(n_estimators=200,random_state=22)\n",
        "model4=GradientBoostingClassifier(n_estimators=200)\n",
        "model5=KNeighborsClassifier()\n",
        "model6=DecisionTreeClassifier()\n",
        "model7=LinearDiscriminantAnalysis()\n",
        "model8=BaggingClassifier()\n",
        "Ensembled_model=VotingClassifier(estimators=[('lr', model1), ('gn', model2), ('rf', model3),\n",
        "                                             ('gb',model4),('kn',model5),('dt',model6),('lda',model7), ('bc',model8)], voting='hard')\n"
      ]
    },
    {
      "cell_type": "code",
      "source": [
        "features=train.iloc[:,0:1094]\n",
        "target = train['disease']\n",
        "Name=[]\n",
        "Accuracy=[]\n",
        "f1=[]"
      ],
      "metadata": {
        "id": "kzPi2I7q9Ts6"
      },
      "execution_count": 20,
      "outputs": []
    },
    {
      "cell_type": "code",
      "source": [
        "# Accuracy\n",
        "for model, label in zip([model1, model2, model3, model4,model5,model6,model7,model8,Ensembled_model], \n",
        "                        ['Logistic Regression','Naive Bayes','Random Forest', 'Gradient Boosting','KNN','Decision Tree','LDA', 'Bagging Classifier', 'Ensemble']):\n",
        "    scores = cross_val_score(model, features, target, cv=5, scoring='accuracy')\n",
        "    Accuracy.append(scores.mean())\n",
        "    Name.append(model.__class__.__name__)\n",
        "    print(\"Accuracy: %f for model %s\" % (scores.mean(),label))"
      ],
      "metadata": {
        "colab": {
          "base_uri": "https://localhost:8080/"
        },
        "id": "1yFBh0JB8Eqx",
        "outputId": "52b62d7c-9ef1-43ae-e9c9-068832783867"
      },
      "execution_count": 18,
      "outputs": [
        {
          "output_type": "stream",
          "name": "stdout",
          "text": [
            "Accuracy: 0.298933 of model Logistic Regression\n",
            "Accuracy: 0.620028 of model Naive Bayes\n",
            "Accuracy: 0.688134 of model Random Forest\n",
            "Accuracy: 0.712364 of model Gradient Boosting\n",
            "Accuracy: 0.500206 of model KNN\n",
            "Accuracy: 0.534377 of model Decision Tree\n",
            "Accuracy: 0.569926 of model LDA\n",
            "Accuracy: 0.617189 of model Bagging Classifier\n",
            "Accuracy: 0.717439 of model Ensemble\n"
          ]
        }
      ]
    },
    {
      "cell_type": "code",
      "execution_count": 22,
      "metadata": {
        "id": "fK-QCOjej1TL",
        "colab": {
          "base_uri": "https://localhost:8080/"
        },
        "outputId": "8cbb82d1-4bf4-495d-904b-110cc3284b34"
      },
      "outputs": [
        {
          "output_type": "stream",
          "name": "stdout",
          "text": [
            "F1: 0.173434 of model Logistic Regression\n",
            "F1: 0.607170 of model Naive Bayes\n",
            "F1: 0.684840 of model Random Forest\n",
            "F1: 0.704129 of model Gradient Boosting\n",
            "F1: 0.481226 of model KNN\n",
            "F1: 0.535794 of model Decision Tree\n",
            "F1: 0.551130 of model LDA\n",
            "F1: 0.630484 of model Bagging Classifier\n",
            "F1: 0.712557 of model Ensemble\n"
          ]
        }
      ],
      "source": [
        "# F1 score - Metrics of Scoring\n",
        "for model, label in zip([model1, model2, model3, model4,model5,model6,model7,model8,Ensembled_model], \n",
        "                        ['Logistic Regression','Naive Bayes','Random Forest', 'Gradient Boosting','KNN','Decision Tree','LDA', 'Bagging Classifier', 'Ensemble']):\n",
        "    scores = cross_val_score(model, features, target, cv=5, scoring='f1_weighted')\n",
        "    f1.append(scores.mean())\n",
        "    Name.append(model.__class__.__name__)\n",
        "    print(\"F1: %f for model %s\" % (scores.mean(),label))"
      ]
    },
    {
      "cell_type": "code",
      "source": [
        "# Prediction\n",
        "X_test = test.drop('disease', axis=1)\n",
        "Y_test = test[['disease']]"
      ],
      "metadata": {
        "id": "DtJifceygGod"
      },
      "execution_count": 29,
      "outputs": []
    },
    {
      "cell_type": "code",
      "execution_count": 31,
      "metadata": {
        "id": "Hex8bUDTj1TM",
        "colab": {
          "base_uri": "https://localhost:8080/"
        },
        "outputId": "8d81fc7f-87cb-49ad-e634-70563afecd11"
      },
      "outputs": [
        {
          "output_type": "stream",
          "name": "stdout",
          "text": [
            "Cohen Kappa Score: 0.125919 for model Logistic Regression\n",
            "Cohen Kappa Score: 0.219301 for model Naive Bayes\n",
            "Cohen Kappa Score: 0.371820 for model Random Forest\n",
            "Cohen Kappa Score: 0.395429 for model Gradient Boosting\n",
            "Cohen Kappa Score: 0.299775 for model KNN\n",
            "Cohen Kappa Score: 0.256351 for model Decision Tree\n",
            "Cohen Kappa Score: 0.272939 for model LDA\n",
            "Cohen Kappa Score: 0.329991 for model Bagging Classifier\n",
            "Cohen Kappa Score: 0.355695 for model Ensemble\n"
          ]
        }
      ],
      "source": [
        "# Cohen’s kappa - Metrics of Scoring\n",
        "warnings.simplefilter(action='ignore')\n",
        "cohen = []\n",
        "for model, label in zip([model1, model2, model3, model4,model5,model6,model7,model8,Ensembled_model], \n",
        "                        ['Logistic Regression','Naive Bayes','Random Forest', 'Gradient Boosting','KNN','Decision Tree','LDA', 'Bagging Classifier', 'Ensemble']):\n",
        "  model.fit(X_train, y_train)\n",
        "  y_pred = model.predict(X_test)\n",
        "  cohen = cohen_kappa_score(Y_test, y_pred)\n",
        "  Name.append(model.__class__.__name__)\n",
        "  print(\"Cohen Kappa Score: %f for model %s\" % (cohen,label))\n"
      ]
    },
    {
      "cell_type": "markdown",
      "source": [
        "**Approach 2**\n"
      ],
      "metadata": {
        "id": "qmtqbLq6UPM6"
      }
    },
    {
      "cell_type": "code",
      "source": [
        "#choose features\n",
        "from sklearn.ensemble import ExtraTreesClassifier\n",
        "from matplotlib import pyplot\n",
        "array = train.values\n",
        "X = array[:,0:1094]\n",
        "Y = array[:,1094]\n",
        "# feature extraction\n",
        "model = ExtraTreesClassifier()\n",
        "model.fit(X, Y)\n",
        "importance = model.feature_importances_\n",
        "# summarize feature importance\n",
        "for i,v in enumerate(importance):\n",
        "\tprint('Feature: %0d, Score: %.5f' % (i,v))\n",
        "# plot feature importance\n",
        "#pyplot.bar([x for x in range(len(importance))], importance)\n",
        "#pyplot.show()"
      ],
      "metadata": {
        "id": "DsBrFh4GpNoz"
      },
      "execution_count": null,
      "outputs": []
    },
    {
      "cell_type": "code",
      "source": [
        "column_data = ['Bacteria-52','Bacteria-988','Bacteria-532','Bacteria-614','Bacteria-597','Bacteria-674','Bacteria-521','Bacteria-530','Bacteria-139','Bacteria-1007','Bacteria-578','Bacteria-672','Bacteria-701','Bacteria-984','Bacteria-647','Bacteria-242','Bacteria-520','Bacteria-613','Bacteria-643','Bacteria-232','Bacteria-642','Bacteria-688','Bacteria-940','Bacteria-604','Bacteria-583','Bacteria-451','Bacteria-582','Bacteria-616','Bacteria-588','Bacteria-543','Bacteria-546','Bacteria-711','Bacteria-553','Bacteria-652','Bacteria-609','Bacteria-584','Bacteria-649','Bacteria-650','Bacteria-535','Bacteria-630','Bacteria-622','Bacteria-576','Bacteria-695','Bacteria-181','Bacteria-634','Bacteria-1086','Bacteria-459','Bacteria-683','Bacteria-632','Bacteria-551','Bacteria-455','Bacteria-567','Bacteria-528','Bacteria-1016','Bacteria-549','Bacteria-717','Bacteria-645','Bacteria-511','Bacteria-680','Bacteria-196','Bacteria-694','Bacteria-149','Bacteria-623','Bacteria-648','Bacteria-637','Bacteria-452','Bacteria-884','Bacteria-633','Bacteria-441','Bacteria-644','Bacteria-703','Bacteria-445','Bacteria-635','Bacteria-687','Bacteria-580','Bacteria-636','Bacteria-187','Bacteria-533','Bacteria-195','Bacteria-430','Bacteria-222','Bacteria-456','Bacteria-40','Bacteria-468','Bacteria-631','Bacteria-945','Bacteria-608','Bacteria-655','Bacteria-536','Bacteria-143','Bacteria-216','Bacteria-581','Bacteria-217','Bacteria-568','Bacteria-585','Bacteria-885','Bacteria-488','Bacteria-507','Bacteria-1073','Bacteria-60','Bacteria-407','Bacteria-571','Bacteria-221','Bacteria-559','Bacteria-529','Bacteria-517','Bacteria-591','Bacteria-602','Bacteria-626','Bacteria-188','Bacteria-2','Bacteria-592','Bacteria-524','Bacteria-948','Bacteria-579','Bacteria-641','Bacteria-1','Bacteria-610','Bacteria-475','Bacteria-157','Bacteria-495','Bacteria-661','Bacteria-715','Bacteria-214','Bacteria-486','Bacteria-504','Bacteria-503','Bacteria-489','Bacteria-607','Bacteria-421','Bacteria-540','Bacteria-639','Bacteria-846','Bacteria-547','Bacteria-151','Bacteria-450','Bacteria-572','Bacteria-573','Bacteria-562','Bacteria-669','Bacteria-682','Bacteria-290','Bacteria-640','Bacteria-395','Bacteria-478','Bacteria-611','Bacteria-210','Bacteria-479','Bacteria-229','Bacteria-600','Bacteria-665','Bacteria-606','Bacteria-154','Bacteria-477','disease']\n"
      ],
      "metadata": {
        "id": "p15GWYihnbvu"
      },
      "execution_count": 103,
      "outputs": []
    },
    {
      "cell_type": "code",
      "source": [
        "df1 = df[column_data]"
      ],
      "metadata": {
        "id": "12agdh83ncQ1"
      },
      "execution_count": 107,
      "outputs": []
    },
    {
      "cell_type": "code",
      "source": [
        ""
      ],
      "metadata": {
        "id": "ZzrVu1tUtXYW"
      },
      "execution_count": 114,
      "outputs": []
    },
    {
      "cell_type": "code",
      "source": [
        "# rescale all variables except the target variable\n",
        "df_scale = df1.loc[:, df1.columns!='disease']\n",
        "scaler = preprocessing.MinMaxScaler()\n",
        "df_scale = scaler.fit_transform(df_scale)\n",
        "df_scale = pd.DataFrame(df_scale)\n",
        "df_scale.reset_index(drop=True, inplace=True)\n",
        "# combine rescaled value\n",
        "df1['disease'].reset_index(drop=True, inplace=True)\n",
        "df_1 = pd.concat([df_scale,df1['disease']], axis=1)\n",
        "df_1.columns = df1.columns.values.tolist()"
      ],
      "metadata": {
        "id": "QdrKyghes9V-"
      },
      "execution_count": 109,
      "outputs": []
    },
    {
      "cell_type": "code",
      "source": [
        "# Fix Imbalance\n",
        "train,test = train_test_split(df_1,test_size=0.2,random_state=42)\n",
        "print(train.shape, test.shape)\n",
        "X_train = train.drop('disease', axis=1)\n",
        "y_train = train[['disease']]\n",
        "from imblearn.under_sampling import NearMiss\n",
        "nr = NearMiss(version=1)\n",
        "X_train, y_train = nr.fit_resample(X_train, y_train)"
      ],
      "metadata": {
        "colab": {
          "base_uri": "https://localhost:8080/"
        },
        "id": "3v5FBxJcncuf",
        "outputId": "0a95ec16-62c4-43f5-be30-fe7198b7ecc3"
      },
      "execution_count": 111,
      "outputs": [
        {
          "output_type": "stream",
          "name": "stdout",
          "text": [
            "(5984, 155) (1497, 155)\n"
          ]
        }
      ]
    },
    {
      "cell_type": "code",
      "source": [
        "X_train = pd.DataFrame(X_train)\n",
        "y_train = pd.DataFrame(y_train)\n",
        "# combine train data\n",
        "train = pd.concat([X_train,y_train], axis=1)\n",
        "train.reset_index(drop=True, inplace=True)\n",
        "train.columns = df1.columns.values.tolist()"
      ],
      "metadata": {
        "id": "IA8DraRSrMPq"
      },
      "execution_count": 112,
      "outputs": []
    },
    {
      "cell_type": "code",
      "source": [
        "features=train.iloc[:,0:154]"
      ],
      "metadata": {
        "id": "X-LdnuX1rMlM"
      },
      "execution_count": 113,
      "outputs": []
    },
    {
      "cell_type": "code",
      "source": [
        "# Accuracy\n",
        "for model, label in zip([model1, model2, model3, model4,model5,model6,model7,model8,Ensembled_model], \n",
        "                        ['Logistic Regression','Naive Bayes','Random Forest', 'Gradient Boosting','KNN','Decision Tree','LDA', 'Bagging Classifier', 'Ensemble']):\n",
        "    scores = cross_val_score(model, features, target, cv=5, scoring='accuracy')\n",
        "    Accuracy.append(scores.mean())\n",
        "    Name.append(model.__class__.__name__)\n",
        "    print(\"Accuracy: %f for model %s\" % (scores.mean(),label))"
      ],
      "metadata": {
        "colab": {
          "base_uri": "https://localhost:8080/"
        },
        "id": "oarbrtISrNCU",
        "outputId": "de88a948-7029-4090-8109-b412e2ea889b"
      },
      "execution_count": 114,
      "outputs": [
        {
          "output_type": "stream",
          "name": "stdout",
          "text": [
            "Accuracy: 0.293266 for model Logistic Regression\n",
            "Accuracy: 0.497288 for model Naive Bayes\n",
            "Accuracy: 0.636305 for model Random Forest\n",
            "Accuracy: 0.627859 for model Gradient Boosting\n",
            "Accuracy: 0.451765 for model KNN\n",
            "Accuracy: 0.482018 for model Decision Tree\n",
            "Accuracy: 0.533907 for model LDA\n",
            "Accuracy: 0.582811 for model Bagging Classifier\n",
            "Accuracy: 0.632369 for model Ensemble\n"
          ]
        }
      ]
    },
    {
      "cell_type": "code",
      "source": [
        "# F1 score - Metrics of Scoring\n",
        "for model, label in zip([model1, model2, model3, model4,model5,model6,model7,model8,Ensembled_model], \n",
        "                        ['Logistic Regression','Naive Bayes','Random Forest', 'Gradient Boosting','KNN','Decision Tree','LDA', 'Bagging Classifier', 'Ensemble']):\n",
        "    scores = cross_val_score(model, features, target, cv=5, scoring='f1_weighted')\n",
        "    f1.append(scores.mean())\n",
        "    Name.append(model.__class__.__name__)\n",
        "    print(\"F1: %f for model %s\" % (scores.mean(),label))"
      ],
      "metadata": {
        "colab": {
          "base_uri": "https://localhost:8080/"
        },
        "id": "cH2-pfYerNW0",
        "outputId": "b38c61cc-0469-4195-c3aa-8a53f05172fb"
      },
      "execution_count": 115,
      "outputs": [
        {
          "output_type": "stream",
          "name": "stdout",
          "text": [
            "F1: 0.160802 for model Logistic Regression\n",
            "F1: 0.456620 for model Naive Bayes\n",
            "F1: 0.626431 for model Random Forest\n",
            "F1: 0.616158 for model Gradient Boosting\n",
            "F1: 0.438866 for model KNN\n",
            "F1: 0.474634 for model Decision Tree\n",
            "F1: 0.506355 for model LDA\n",
            "F1: 0.575123 for model Bagging Classifier\n",
            "F1: 0.618451 for model Ensemble\n"
          ]
        }
      ]
    },
    {
      "cell_type": "code",
      "source": [
        "# Cohen\n",
        "X_test = test.drop('disease', axis=1)\n",
        "Y_test = test[['disease']]\n",
        "warnings.simplefilter(action='ignore')\n",
        "for model, label in zip([model1, model2, model3, model4,model5,model6,model7,model8,Ensembled_model], \n",
        "                        ['Logistic Regression','Naive Bayes','Random Forest', 'Gradient Boosting','KNN','Decision Tree','LDA', 'Bagging Classifier', 'Ensemble']):\n",
        "  model.fit(X_train, y_train)\n",
        "  y_pred = model.predict(X_test)\n",
        "  cohen = cohen_kappa_score(Y_test, y_pred)\n",
        "  Name.append(model.__class__.__name__)\n",
        "  print(\"Cohen Kappa Score: %f for model %s\" % (cohen,label))"
      ],
      "metadata": {
        "colab": {
          "base_uri": "https://localhost:8080/"
        },
        "id": "tPF2IGe6rNsy",
        "outputId": "13a4b7f9-b6a2-41af-940c-aea7234532ef"
      },
      "execution_count": 116,
      "outputs": [
        {
          "output_type": "stream",
          "name": "stdout",
          "text": [
            "Cohen Kappa Score: 0.073639 for model Logistic Regression\n",
            "Cohen Kappa Score: 0.116997 for model Naive Bayes\n",
            "Cohen Kappa Score: 0.241563 for model Random Forest\n",
            "Cohen Kappa Score: 0.252727 for model Gradient Boosting\n",
            "Cohen Kappa Score: 0.191861 for model KNN\n",
            "Cohen Kappa Score: 0.201691 for model Decision Tree\n",
            "Cohen Kappa Score: 0.188096 for model LDA\n",
            "Cohen Kappa Score: 0.203915 for model Bagging Classifier\n",
            "Cohen Kappa Score: 0.227569 for model Ensemble\n"
          ]
        }
      ]
    },
    {
      "cell_type": "code",
      "source": [
        ""
      ],
      "metadata": {
        "id": "StIph0-LrOHh"
      },
      "execution_count": null,
      "outputs": []
    },
    {
      "cell_type": "code",
      "source": [
        ""
      ],
      "metadata": {
        "id": "vpZ3rEIHrOdg"
      },
      "execution_count": null,
      "outputs": []
    },
    {
      "cell_type": "markdown",
      "source": [
        "### Based on both approaches I would use the **random forest algorithm** as it had the beest F1 and Cohen scores"
      ],
      "metadata": {
        "id": "B2CGPnyWumBA"
      }
    },
    {
      "cell_type": "code",
      "source": [
        ""
      ],
      "metadata": {
        "id": "0z9nnhxcrO6x"
      },
      "execution_count": null,
      "outputs": []
    }
  ],
  "metadata": {
    "kernelspec": {
      "display_name": "Python 3",
      "language": "python",
      "name": "python3"
    },
    "language_info": {
      "codemirror_mode": {
        "name": "ipython",
        "version": 3
      },
      "file_extension": ".py",
      "mimetype": "text/x-python",
      "name": "python",
      "nbconvert_exporter": "python",
      "pygments_lexer": "ipython3",
      "version": "3.7.4"
    },
    "colab": {
      "name": "Pharmahacks.ipynb",
      "provenance": [],
      "collapsed_sections": []
    }
  },
  "nbformat": 4,
  "nbformat_minor": 0
}