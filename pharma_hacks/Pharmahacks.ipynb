{
 "cells": [
  {
   "cell_type": "markdown",
   "metadata": {
    "id": "fVTnMfrAj1S7"
   },
   "source": [
    "# Multi-class classification - Phyla Challenge 2: Classification of Diseases based on the Gut Microbiome"
   ]
  },
  {
   "cell_type": "code",
   "execution_count": 38,
   "metadata": {
    "id": "Zs26x4EDj1S_"
   },
   "outputs": [],
   "source": [
    "#load libraries\n",
    "import pandas as pd\n",
    "import numpy as np\n",
    "import seaborn as sns\n",
    "import sklearn\n",
    "import matplotlib.pyplot as plt\n",
    "%matplotlib inline\n",
    "from sklearn import preprocessing\n",
    "from sklearn.metrics import accuracy_score\n",
    "from sklearn import model_selection\n",
    "from sklearn.metrics import mean_squared_error\n",
    "from sklearn.model_selection import cross_val_score\n",
    "from sklearn.preprocessing import LabelEncoder, MinMaxScaler, StandardScaler, OneHotEncoder\n",
    "from sklearn.metrics import roc_curve, auc, recall_score, precision_score, f1_score, confusion_matrix, cohen_kappa_score\n",
    "from sklearn.model_selection import train_test_split\n",
    "from sklearn.model_selection import TimeSeriesSplit, cross_val_score, GridSearchCV, RandomizedSearchCV\n",
    "from sklearn.tree import DecisionTreeClassifier\n",
    "from sklearn.neighbors import KNeighborsClassifier\n",
    "from sklearn.ensemble import RandomForestClassifier\n",
    "from sklearn.svm import SVC\n",
    "from sklearn.naive_bayes import GaussianNB\n",
    "from sklearn.ensemble import GradientBoostingClassifier\n",
    "from sklearn.linear_model import SGDClassifier\n",
    "from sklearn.discriminant_analysis import LinearDiscriminantAnalysis\n",
    "from sklearn.ensemble import VotingClassifier\n",
    "from sklearn.ensemble import BaggingClassifier\n",
    "from sklearn.linear_model import LogisticRegression"
   ]
  },
  {
   "cell_type": "code",
   "execution_count": 59,
   "metadata": {
    "id": "SaW-yXKNj1TB"
   },
   "outputs": [],
   "source": [
    "# Load data\n",
    "df = pd.read_csv('challenge_1_gut_microbiome_data.csv')"
   ]
  },
  {
   "cell_type": "markdown",
   "metadata": {
    "id": "QMPp2Hrhj1TC"
   },
   "source": [
    "## Data Overview"
   ]
  },
  {
   "cell_type": "code",
   "execution_count": 60,
   "metadata": {
    "colab": {
     "base_uri": "https://localhost:8080/",
     "height": 403
    },
    "id": "JJ6QFQY1j1TC",
    "outputId": "09a39754-3209-4a27-d371-58b3bb999736"
   },
   "outputs": [
    {
     "data": {
      "text/html": [
       "\n",
       "  <div id=\"df-99fa0ccc-9a4a-42a9-ab7b-c7ddd2675e5c\">\n",
       "    <div class=\"colab-df-container\">\n",
       "      <div>\n",
       "<style scoped>\n",
       "    .dataframe tbody tr th:only-of-type {\n",
       "        vertical-align: middle;\n",
       "    }\n",
       "\n",
       "    .dataframe tbody tr th {\n",
       "        vertical-align: top;\n",
       "    }\n",
       "\n",
       "    .dataframe thead th {\n",
       "        text-align: right;\n",
       "    }\n",
       "</style>\n",
       "<table border=\"1\" class=\"dataframe\">\n",
       "  <thead>\n",
       "    <tr style=\"text-align: right;\">\n",
       "      <th></th>\n",
       "      <th>Samples</th>\n",
       "      <th>Bacteria-1</th>\n",
       "      <th>Bacteria-2</th>\n",
       "      <th>Bacteria-3</th>\n",
       "      <th>Bacteria-4</th>\n",
       "      <th>Bacteria-5</th>\n",
       "      <th>Bacteria-6</th>\n",
       "      <th>Bacteria-7</th>\n",
       "      <th>Bacteria-8</th>\n",
       "      <th>Bacteria-9</th>\n",
       "      <th>...</th>\n",
       "      <th>Bacteria-1086</th>\n",
       "      <th>Bacteria-1087</th>\n",
       "      <th>Bacteria-1088</th>\n",
       "      <th>Bacteria-1089</th>\n",
       "      <th>Bacteria-1090</th>\n",
       "      <th>Bacteria-1091</th>\n",
       "      <th>Bacteria-1092</th>\n",
       "      <th>Bacteria-1093</th>\n",
       "      <th>Bacteria-1094</th>\n",
       "      <th>disease</th>\n",
       "    </tr>\n",
       "  </thead>\n",
       "  <tbody>\n",
       "    <tr>\n",
       "      <th>0</th>\n",
       "      <td>Sample-1</td>\n",
       "      <td>0</td>\n",
       "      <td>0</td>\n",
       "      <td>0</td>\n",
       "      <td>0</td>\n",
       "      <td>0</td>\n",
       "      <td>0</td>\n",
       "      <td>0</td>\n",
       "      <td>0</td>\n",
       "      <td>0</td>\n",
       "      <td>...</td>\n",
       "      <td>0</td>\n",
       "      <td>0</td>\n",
       "      <td>0</td>\n",
       "      <td>0</td>\n",
       "      <td>0</td>\n",
       "      <td>0</td>\n",
       "      <td>0</td>\n",
       "      <td>0</td>\n",
       "      <td>0</td>\n",
       "      <td>Disease-2</td>\n",
       "    </tr>\n",
       "    <tr>\n",
       "      <th>1</th>\n",
       "      <td>Sample-2</td>\n",
       "      <td>0</td>\n",
       "      <td>0</td>\n",
       "      <td>0</td>\n",
       "      <td>0</td>\n",
       "      <td>0</td>\n",
       "      <td>0</td>\n",
       "      <td>0</td>\n",
       "      <td>0</td>\n",
       "      <td>0</td>\n",
       "      <td>...</td>\n",
       "      <td>0</td>\n",
       "      <td>17111</td>\n",
       "      <td>0</td>\n",
       "      <td>0</td>\n",
       "      <td>0</td>\n",
       "      <td>0</td>\n",
       "      <td>0</td>\n",
       "      <td>0</td>\n",
       "      <td>0</td>\n",
       "      <td>Disease-2</td>\n",
       "    </tr>\n",
       "    <tr>\n",
       "      <th>2</th>\n",
       "      <td>Sample-3</td>\n",
       "      <td>0</td>\n",
       "      <td>10</td>\n",
       "      <td>0</td>\n",
       "      <td>0</td>\n",
       "      <td>0</td>\n",
       "      <td>0</td>\n",
       "      <td>0</td>\n",
       "      <td>0</td>\n",
       "      <td>0</td>\n",
       "      <td>...</td>\n",
       "      <td>0</td>\n",
       "      <td>214</td>\n",
       "      <td>0</td>\n",
       "      <td>0</td>\n",
       "      <td>0</td>\n",
       "      <td>0</td>\n",
       "      <td>0</td>\n",
       "      <td>0</td>\n",
       "      <td>0</td>\n",
       "      <td>Disease-2</td>\n",
       "    </tr>\n",
       "    <tr>\n",
       "      <th>3</th>\n",
       "      <td>Sample-4</td>\n",
       "      <td>0</td>\n",
       "      <td>17</td>\n",
       "      <td>0</td>\n",
       "      <td>0</td>\n",
       "      <td>0</td>\n",
       "      <td>0</td>\n",
       "      <td>0</td>\n",
       "      <td>0</td>\n",
       "      <td>0</td>\n",
       "      <td>...</td>\n",
       "      <td>0</td>\n",
       "      <td>0</td>\n",
       "      <td>0</td>\n",
       "      <td>0</td>\n",
       "      <td>0</td>\n",
       "      <td>0</td>\n",
       "      <td>0</td>\n",
       "      <td>0</td>\n",
       "      <td>0</td>\n",
       "      <td>Disease-2</td>\n",
       "    </tr>\n",
       "    <tr>\n",
       "      <th>4</th>\n",
       "      <td>Sample-5</td>\n",
       "      <td>0</td>\n",
       "      <td>8</td>\n",
       "      <td>0</td>\n",
       "      <td>0</td>\n",
       "      <td>0</td>\n",
       "      <td>0</td>\n",
       "      <td>0</td>\n",
       "      <td>0</td>\n",
       "      <td>0</td>\n",
       "      <td>...</td>\n",
       "      <td>0</td>\n",
       "      <td>1932</td>\n",
       "      <td>0</td>\n",
       "      <td>0</td>\n",
       "      <td>0</td>\n",
       "      <td>0</td>\n",
       "      <td>0</td>\n",
       "      <td>3</td>\n",
       "      <td>0</td>\n",
       "      <td>Disease-2</td>\n",
       "    </tr>\n",
       "  </tbody>\n",
       "</table>\n",
       "<p>5 rows × 1096 columns</p>\n",
       "</div>\n",
       "      <button class=\"colab-df-convert\" onclick=\"convertToInteractive('df-99fa0ccc-9a4a-42a9-ab7b-c7ddd2675e5c')\"\n",
       "              title=\"Convert this dataframe to an interactive table.\"\n",
       "              style=\"display:none;\">\n",
       "        \n",
       "  <svg xmlns=\"http://www.w3.org/2000/svg\" height=\"24px\"viewBox=\"0 0 24 24\"\n",
       "       width=\"24px\">\n",
       "    <path d=\"M0 0h24v24H0V0z\" fill=\"none\"/>\n",
       "    <path d=\"M18.56 5.44l.94 2.06.94-2.06 2.06-.94-2.06-.94-.94-2.06-.94 2.06-2.06.94zm-11 1L8.5 8.5l.94-2.06 2.06-.94-2.06-.94L8.5 2.5l-.94 2.06-2.06.94zm10 10l.94 2.06.94-2.06 2.06-.94-2.06-.94-.94-2.06-.94 2.06-2.06.94z\"/><path d=\"M17.41 7.96l-1.37-1.37c-.4-.4-.92-.59-1.43-.59-.52 0-1.04.2-1.43.59L10.3 9.45l-7.72 7.72c-.78.78-.78 2.05 0 2.83L4 21.41c.39.39.9.59 1.41.59.51 0 1.02-.2 1.41-.59l7.78-7.78 2.81-2.81c.8-.78.8-2.07 0-2.86zM5.41 20L4 18.59l7.72-7.72 1.47 1.35L5.41 20z\"/>\n",
       "  </svg>\n",
       "      </button>\n",
       "      \n",
       "  <style>\n",
       "    .colab-df-container {\n",
       "      display:flex;\n",
       "      flex-wrap:wrap;\n",
       "      gap: 12px;\n",
       "    }\n",
       "\n",
       "    .colab-df-convert {\n",
       "      background-color: #E8F0FE;\n",
       "      border: none;\n",
       "      border-radius: 50%;\n",
       "      cursor: pointer;\n",
       "      display: none;\n",
       "      fill: #1967D2;\n",
       "      height: 32px;\n",
       "      padding: 0 0 0 0;\n",
       "      width: 32px;\n",
       "    }\n",
       "\n",
       "    .colab-df-convert:hover {\n",
       "      background-color: #E2EBFA;\n",
       "      box-shadow: 0px 1px 2px rgba(60, 64, 67, 0.3), 0px 1px 3px 1px rgba(60, 64, 67, 0.15);\n",
       "      fill: #174EA6;\n",
       "    }\n",
       "\n",
       "    [theme=dark] .colab-df-convert {\n",
       "      background-color: #3B4455;\n",
       "      fill: #D2E3FC;\n",
       "    }\n",
       "\n",
       "    [theme=dark] .colab-df-convert:hover {\n",
       "      background-color: #434B5C;\n",
       "      box-shadow: 0px 1px 3px 1px rgba(0, 0, 0, 0.15);\n",
       "      filter: drop-shadow(0px 1px 2px rgba(0, 0, 0, 0.3));\n",
       "      fill: #FFFFFF;\n",
       "    }\n",
       "  </style>\n",
       "\n",
       "      <script>\n",
       "        const buttonEl =\n",
       "          document.querySelector('#df-99fa0ccc-9a4a-42a9-ab7b-c7ddd2675e5c button.colab-df-convert');\n",
       "        buttonEl.style.display =\n",
       "          google.colab.kernel.accessAllowed ? 'block' : 'none';\n",
       "\n",
       "        async function convertToInteractive(key) {\n",
       "          const element = document.querySelector('#df-99fa0ccc-9a4a-42a9-ab7b-c7ddd2675e5c');\n",
       "          const dataTable =\n",
       "            await google.colab.kernel.invokeFunction('convertToInteractive',\n",
       "                                                     [key], {});\n",
       "          if (!dataTable) return;\n",
       "\n",
       "          const docLinkHtml = 'Like what you see? Visit the ' +\n",
       "            '<a target=\"_blank\" href=https://colab.research.google.com/notebooks/data_table.ipynb>data table notebook</a>'\n",
       "            + ' to learn more about interactive tables.';\n",
       "          element.innerHTML = '';\n",
       "          dataTable['output_type'] = 'display_data';\n",
       "          await google.colab.output.renderOutput(dataTable, element);\n",
       "          const docLink = document.createElement('div');\n",
       "          docLink.innerHTML = docLinkHtml;\n",
       "          element.appendChild(docLink);\n",
       "        }\n",
       "      </script>\n",
       "    </div>\n",
       "  </div>\n",
       "  "
      ],
      "text/plain": [
       "    Samples  Bacteria-1  Bacteria-2  Bacteria-3  Bacteria-4  Bacteria-5  \\\n",
       "0  Sample-1           0           0           0           0           0   \n",
       "1  Sample-2           0           0           0           0           0   \n",
       "2  Sample-3           0          10           0           0           0   \n",
       "3  Sample-4           0          17           0           0           0   \n",
       "4  Sample-5           0           8           0           0           0   \n",
       "\n",
       "   Bacteria-6  Bacteria-7  Bacteria-8  Bacteria-9  ...  Bacteria-1086  \\\n",
       "0           0           0           0           0  ...              0   \n",
       "1           0           0           0           0  ...              0   \n",
       "2           0           0           0           0  ...              0   \n",
       "3           0           0           0           0  ...              0   \n",
       "4           0           0           0           0  ...              0   \n",
       "\n",
       "   Bacteria-1087  Bacteria-1088  Bacteria-1089  Bacteria-1090  Bacteria-1091  \\\n",
       "0              0              0              0              0              0   \n",
       "1          17111              0              0              0              0   \n",
       "2            214              0              0              0              0   \n",
       "3              0              0              0              0              0   \n",
       "4           1932              0              0              0              0   \n",
       "\n",
       "   Bacteria-1092  Bacteria-1093  Bacteria-1094    disease  \n",
       "0              0              0              0  Disease-2  \n",
       "1              0              0              0  Disease-2  \n",
       "2              0              0              0  Disease-2  \n",
       "3              0              0              0  Disease-2  \n",
       "4              0              3              0  Disease-2  \n",
       "\n",
       "[5 rows x 1096 columns]"
      ]
     },
     "execution_count": 60,
     "metadata": {},
     "output_type": "execute_result"
    }
   ],
   "source": [
    "df.head()"
   ]
  },
  {
   "cell_type": "code",
   "execution_count": 61,
   "metadata": {
    "id": "5fQiK8GLj1TD"
   },
   "outputs": [],
   "source": [
    "# Drop first column\n",
    "df.drop('Samples', axis=1, inplace=True)"
   ]
  },
  {
   "cell_type": "code",
   "execution_count": 62,
   "metadata": {
    "colab": {
     "base_uri": "https://localhost:8080/",
     "height": 411
    },
    "id": "ubEk5Oymj1TE",
    "outputId": "099a8517-ec99-4b59-af0b-51ac397633af"
   },
   "outputs": [
    {
     "data": {
      "text/html": [
       "\n",
       "  <div id=\"df-b38b74a6-6e56-4e62-a5a0-63d13f472572\">\n",
       "    <div class=\"colab-df-container\">\n",
       "      <div>\n",
       "<style scoped>\n",
       "    .dataframe tbody tr th:only-of-type {\n",
       "        vertical-align: middle;\n",
       "    }\n",
       "\n",
       "    .dataframe tbody tr th {\n",
       "        vertical-align: top;\n",
       "    }\n",
       "\n",
       "    .dataframe thead th {\n",
       "        text-align: right;\n",
       "    }\n",
       "</style>\n",
       "<table border=\"1\" class=\"dataframe\">\n",
       "  <thead>\n",
       "    <tr style=\"text-align: right;\">\n",
       "      <th></th>\n",
       "      <th>Bacteria-1</th>\n",
       "      <th>Bacteria-2</th>\n",
       "      <th>Bacteria-3</th>\n",
       "      <th>Bacteria-4</th>\n",
       "      <th>Bacteria-5</th>\n",
       "      <th>Bacteria-6</th>\n",
       "      <th>Bacteria-7</th>\n",
       "      <th>Bacteria-8</th>\n",
       "      <th>Bacteria-9</th>\n",
       "      <th>Bacteria-10</th>\n",
       "      <th>...</th>\n",
       "      <th>Bacteria-1085</th>\n",
       "      <th>Bacteria-1086</th>\n",
       "      <th>Bacteria-1087</th>\n",
       "      <th>Bacteria-1088</th>\n",
       "      <th>Bacteria-1089</th>\n",
       "      <th>Bacteria-1090</th>\n",
       "      <th>Bacteria-1091</th>\n",
       "      <th>Bacteria-1092</th>\n",
       "      <th>Bacteria-1093</th>\n",
       "      <th>Bacteria-1094</th>\n",
       "    </tr>\n",
       "  </thead>\n",
       "  <tbody>\n",
       "    <tr>\n",
       "      <th>count</th>\n",
       "      <td>7481.000000</td>\n",
       "      <td>7481.000000</td>\n",
       "      <td>7481.000000</td>\n",
       "      <td>7481.000000</td>\n",
       "      <td>7481.000000</td>\n",
       "      <td>7481.000000</td>\n",
       "      <td>7481.000000</td>\n",
       "      <td>7481.00000</td>\n",
       "      <td>7481.000000</td>\n",
       "      <td>7481.000000</td>\n",
       "      <td>...</td>\n",
       "      <td>7481.000000</td>\n",
       "      <td>7481.000000</td>\n",
       "      <td>7481.000000</td>\n",
       "      <td>7481.000000</td>\n",
       "      <td>7481.000000</td>\n",
       "      <td>7481.000000</td>\n",
       "      <td>7481.000000</td>\n",
       "      <td>7481.000000</td>\n",
       "      <td>7481.000000</td>\n",
       "      <td>7481.000000</td>\n",
       "    </tr>\n",
       "    <tr>\n",
       "      <th>mean</th>\n",
       "      <td>0.032750</td>\n",
       "      <td>37.562893</td>\n",
       "      <td>2.537495</td>\n",
       "      <td>0.000401</td>\n",
       "      <td>0.000936</td>\n",
       "      <td>0.000668</td>\n",
       "      <td>0.454618</td>\n",
       "      <td>0.04478</td>\n",
       "      <td>0.007218</td>\n",
       "      <td>0.050394</td>\n",
       "      <td>...</td>\n",
       "      <td>0.000535</td>\n",
       "      <td>0.007085</td>\n",
       "      <td>626.869937</td>\n",
       "      <td>0.012699</td>\n",
       "      <td>0.001871</td>\n",
       "      <td>0.005213</td>\n",
       "      <td>0.053068</td>\n",
       "      <td>0.000267</td>\n",
       "      <td>37.886379</td>\n",
       "      <td>0.562224</td>\n",
       "    </tr>\n",
       "    <tr>\n",
       "      <th>std</th>\n",
       "      <td>2.719433</td>\n",
       "      <td>404.702666</td>\n",
       "      <td>55.417197</td>\n",
       "      <td>0.034685</td>\n",
       "      <td>0.080932</td>\n",
       "      <td>0.057808</td>\n",
       "      <td>13.035579</td>\n",
       "      <td>1.67340</td>\n",
       "      <td>0.406105</td>\n",
       "      <td>1.022867</td>\n",
       "      <td>...</td>\n",
       "      <td>0.046247</td>\n",
       "      <td>0.612768</td>\n",
       "      <td>2881.775152</td>\n",
       "      <td>1.098358</td>\n",
       "      <td>0.161863</td>\n",
       "      <td>0.450905</td>\n",
       "      <td>3.835730</td>\n",
       "      <td>0.023123</td>\n",
       "      <td>861.540239</td>\n",
       "      <td>18.802489</td>\n",
       "    </tr>\n",
       "    <tr>\n",
       "      <th>min</th>\n",
       "      <td>0.000000</td>\n",
       "      <td>0.000000</td>\n",
       "      <td>0.000000</td>\n",
       "      <td>0.000000</td>\n",
       "      <td>0.000000</td>\n",
       "      <td>0.000000</td>\n",
       "      <td>0.000000</td>\n",
       "      <td>0.00000</td>\n",
       "      <td>0.000000</td>\n",
       "      <td>0.000000</td>\n",
       "      <td>...</td>\n",
       "      <td>0.000000</td>\n",
       "      <td>0.000000</td>\n",
       "      <td>0.000000</td>\n",
       "      <td>0.000000</td>\n",
       "      <td>0.000000</td>\n",
       "      <td>0.000000</td>\n",
       "      <td>0.000000</td>\n",
       "      <td>0.000000</td>\n",
       "      <td>0.000000</td>\n",
       "      <td>0.000000</td>\n",
       "    </tr>\n",
       "    <tr>\n",
       "      <th>25%</th>\n",
       "      <td>0.000000</td>\n",
       "      <td>0.000000</td>\n",
       "      <td>0.000000</td>\n",
       "      <td>0.000000</td>\n",
       "      <td>0.000000</td>\n",
       "      <td>0.000000</td>\n",
       "      <td>0.000000</td>\n",
       "      <td>0.00000</td>\n",
       "      <td>0.000000</td>\n",
       "      <td>0.000000</td>\n",
       "      <td>...</td>\n",
       "      <td>0.000000</td>\n",
       "      <td>0.000000</td>\n",
       "      <td>0.000000</td>\n",
       "      <td>0.000000</td>\n",
       "      <td>0.000000</td>\n",
       "      <td>0.000000</td>\n",
       "      <td>0.000000</td>\n",
       "      <td>0.000000</td>\n",
       "      <td>0.000000</td>\n",
       "      <td>0.000000</td>\n",
       "    </tr>\n",
       "    <tr>\n",
       "      <th>50%</th>\n",
       "      <td>0.000000</td>\n",
       "      <td>0.000000</td>\n",
       "      <td>0.000000</td>\n",
       "      <td>0.000000</td>\n",
       "      <td>0.000000</td>\n",
       "      <td>0.000000</td>\n",
       "      <td>0.000000</td>\n",
       "      <td>0.00000</td>\n",
       "      <td>0.000000</td>\n",
       "      <td>0.000000</td>\n",
       "      <td>...</td>\n",
       "      <td>0.000000</td>\n",
       "      <td>0.000000</td>\n",
       "      <td>5.000000</td>\n",
       "      <td>0.000000</td>\n",
       "      <td>0.000000</td>\n",
       "      <td>0.000000</td>\n",
       "      <td>0.000000</td>\n",
       "      <td>0.000000</td>\n",
       "      <td>0.000000</td>\n",
       "      <td>0.000000</td>\n",
       "    </tr>\n",
       "    <tr>\n",
       "      <th>75%</th>\n",
       "      <td>0.000000</td>\n",
       "      <td>0.000000</td>\n",
       "      <td>0.000000</td>\n",
       "      <td>0.000000</td>\n",
       "      <td>0.000000</td>\n",
       "      <td>0.000000</td>\n",
       "      <td>0.000000</td>\n",
       "      <td>0.00000</td>\n",
       "      <td>0.000000</td>\n",
       "      <td>0.000000</td>\n",
       "      <td>...</td>\n",
       "      <td>0.000000</td>\n",
       "      <td>0.000000</td>\n",
       "      <td>154.000000</td>\n",
       "      <td>0.000000</td>\n",
       "      <td>0.000000</td>\n",
       "      <td>0.000000</td>\n",
       "      <td>0.000000</td>\n",
       "      <td>0.000000</td>\n",
       "      <td>0.000000</td>\n",
       "      <td>0.000000</td>\n",
       "    </tr>\n",
       "    <tr>\n",
       "      <th>max</th>\n",
       "      <td>235.000000</td>\n",
       "      <td>13253.000000</td>\n",
       "      <td>3881.000000</td>\n",
       "      <td>3.000000</td>\n",
       "      <td>7.000000</td>\n",
       "      <td>5.000000</td>\n",
       "      <td>842.000000</td>\n",
       "      <td>103.00000</td>\n",
       "      <td>32.000000</td>\n",
       "      <td>45.000000</td>\n",
       "      <td>...</td>\n",
       "      <td>4.000000</td>\n",
       "      <td>53.000000</td>\n",
       "      <td>79898.000000</td>\n",
       "      <td>95.000000</td>\n",
       "      <td>14.000000</td>\n",
       "      <td>39.000000</td>\n",
       "      <td>328.000000</td>\n",
       "      <td>2.000000</td>\n",
       "      <td>53963.000000</td>\n",
       "      <td>1256.000000</td>\n",
       "    </tr>\n",
       "  </tbody>\n",
       "</table>\n",
       "<p>8 rows × 1094 columns</p>\n",
       "</div>\n",
       "      <button class=\"colab-df-convert\" onclick=\"convertToInteractive('df-b38b74a6-6e56-4e62-a5a0-63d13f472572')\"\n",
       "              title=\"Convert this dataframe to an interactive table.\"\n",
       "              style=\"display:none;\">\n",
       "        \n",
       "  <svg xmlns=\"http://www.w3.org/2000/svg\" height=\"24px\"viewBox=\"0 0 24 24\"\n",
       "       width=\"24px\">\n",
       "    <path d=\"M0 0h24v24H0V0z\" fill=\"none\"/>\n",
       "    <path d=\"M18.56 5.44l.94 2.06.94-2.06 2.06-.94-2.06-.94-.94-2.06-.94 2.06-2.06.94zm-11 1L8.5 8.5l.94-2.06 2.06-.94-2.06-.94L8.5 2.5l-.94 2.06-2.06.94zm10 10l.94 2.06.94-2.06 2.06-.94-2.06-.94-.94-2.06-.94 2.06-2.06.94z\"/><path d=\"M17.41 7.96l-1.37-1.37c-.4-.4-.92-.59-1.43-.59-.52 0-1.04.2-1.43.59L10.3 9.45l-7.72 7.72c-.78.78-.78 2.05 0 2.83L4 21.41c.39.39.9.59 1.41.59.51 0 1.02-.2 1.41-.59l7.78-7.78 2.81-2.81c.8-.78.8-2.07 0-2.86zM5.41 20L4 18.59l7.72-7.72 1.47 1.35L5.41 20z\"/>\n",
       "  </svg>\n",
       "      </button>\n",
       "      \n",
       "  <style>\n",
       "    .colab-df-container {\n",
       "      display:flex;\n",
       "      flex-wrap:wrap;\n",
       "      gap: 12px;\n",
       "    }\n",
       "\n",
       "    .colab-df-convert {\n",
       "      background-color: #E8F0FE;\n",
       "      border: none;\n",
       "      border-radius: 50%;\n",
       "      cursor: pointer;\n",
       "      display: none;\n",
       "      fill: #1967D2;\n",
       "      height: 32px;\n",
       "      padding: 0 0 0 0;\n",
       "      width: 32px;\n",
       "    }\n",
       "\n",
       "    .colab-df-convert:hover {\n",
       "      background-color: #E2EBFA;\n",
       "      box-shadow: 0px 1px 2px rgba(60, 64, 67, 0.3), 0px 1px 3px 1px rgba(60, 64, 67, 0.15);\n",
       "      fill: #174EA6;\n",
       "    }\n",
       "\n",
       "    [theme=dark] .colab-df-convert {\n",
       "      background-color: #3B4455;\n",
       "      fill: #D2E3FC;\n",
       "    }\n",
       "\n",
       "    [theme=dark] .colab-df-convert:hover {\n",
       "      background-color: #434B5C;\n",
       "      box-shadow: 0px 1px 3px 1px rgba(0, 0, 0, 0.15);\n",
       "      filter: drop-shadow(0px 1px 2px rgba(0, 0, 0, 0.3));\n",
       "      fill: #FFFFFF;\n",
       "    }\n",
       "  </style>\n",
       "\n",
       "      <script>\n",
       "        const buttonEl =\n",
       "          document.querySelector('#df-b38b74a6-6e56-4e62-a5a0-63d13f472572 button.colab-df-convert');\n",
       "        buttonEl.style.display =\n",
       "          google.colab.kernel.accessAllowed ? 'block' : 'none';\n",
       "\n",
       "        async function convertToInteractive(key) {\n",
       "          const element = document.querySelector('#df-b38b74a6-6e56-4e62-a5a0-63d13f472572');\n",
       "          const dataTable =\n",
       "            await google.colab.kernel.invokeFunction('convertToInteractive',\n",
       "                                                     [key], {});\n",
       "          if (!dataTable) return;\n",
       "\n",
       "          const docLinkHtml = 'Like what you see? Visit the ' +\n",
       "            '<a target=\"_blank\" href=https://colab.research.google.com/notebooks/data_table.ipynb>data table notebook</a>'\n",
       "            + ' to learn more about interactive tables.';\n",
       "          element.innerHTML = '';\n",
       "          dataTable['output_type'] = 'display_data';\n",
       "          await google.colab.output.renderOutput(dataTable, element);\n",
       "          const docLink = document.createElement('div');\n",
       "          docLink.innerHTML = docLinkHtml;\n",
       "          element.appendChild(docLink);\n",
       "        }\n",
       "      </script>\n",
       "    </div>\n",
       "  </div>\n",
       "  "
      ],
      "text/plain": [
       "        Bacteria-1    Bacteria-2   Bacteria-3   Bacteria-4   Bacteria-5  \\\n",
       "count  7481.000000   7481.000000  7481.000000  7481.000000  7481.000000   \n",
       "mean      0.032750     37.562893     2.537495     0.000401     0.000936   \n",
       "std       2.719433    404.702666    55.417197     0.034685     0.080932   \n",
       "min       0.000000      0.000000     0.000000     0.000000     0.000000   \n",
       "25%       0.000000      0.000000     0.000000     0.000000     0.000000   \n",
       "50%       0.000000      0.000000     0.000000     0.000000     0.000000   \n",
       "75%       0.000000      0.000000     0.000000     0.000000     0.000000   \n",
       "max     235.000000  13253.000000  3881.000000     3.000000     7.000000   \n",
       "\n",
       "        Bacteria-6   Bacteria-7  Bacteria-8   Bacteria-9  Bacteria-10  ...  \\\n",
       "count  7481.000000  7481.000000  7481.00000  7481.000000  7481.000000  ...   \n",
       "mean      0.000668     0.454618     0.04478     0.007218     0.050394  ...   \n",
       "std       0.057808    13.035579     1.67340     0.406105     1.022867  ...   \n",
       "min       0.000000     0.000000     0.00000     0.000000     0.000000  ...   \n",
       "25%       0.000000     0.000000     0.00000     0.000000     0.000000  ...   \n",
       "50%       0.000000     0.000000     0.00000     0.000000     0.000000  ...   \n",
       "75%       0.000000     0.000000     0.00000     0.000000     0.000000  ...   \n",
       "max       5.000000   842.000000   103.00000    32.000000    45.000000  ...   \n",
       "\n",
       "       Bacteria-1085  Bacteria-1086  Bacteria-1087  Bacteria-1088  \\\n",
       "count    7481.000000    7481.000000    7481.000000    7481.000000   \n",
       "mean        0.000535       0.007085     626.869937       0.012699   \n",
       "std         0.046247       0.612768    2881.775152       1.098358   \n",
       "min         0.000000       0.000000       0.000000       0.000000   \n",
       "25%         0.000000       0.000000       0.000000       0.000000   \n",
       "50%         0.000000       0.000000       5.000000       0.000000   \n",
       "75%         0.000000       0.000000     154.000000       0.000000   \n",
       "max         4.000000      53.000000   79898.000000      95.000000   \n",
       "\n",
       "       Bacteria-1089  Bacteria-1090  Bacteria-1091  Bacteria-1092  \\\n",
       "count    7481.000000    7481.000000    7481.000000    7481.000000   \n",
       "mean        0.001871       0.005213       0.053068       0.000267   \n",
       "std         0.161863       0.450905       3.835730       0.023123   \n",
       "min         0.000000       0.000000       0.000000       0.000000   \n",
       "25%         0.000000       0.000000       0.000000       0.000000   \n",
       "50%         0.000000       0.000000       0.000000       0.000000   \n",
       "75%         0.000000       0.000000       0.000000       0.000000   \n",
       "max        14.000000      39.000000     328.000000       2.000000   \n",
       "\n",
       "       Bacteria-1093  Bacteria-1094  \n",
       "count    7481.000000    7481.000000  \n",
       "mean       37.886379       0.562224  \n",
       "std       861.540239      18.802489  \n",
       "min         0.000000       0.000000  \n",
       "25%         0.000000       0.000000  \n",
       "50%         0.000000       0.000000  \n",
       "75%         0.000000       0.000000  \n",
       "max     53963.000000    1256.000000  \n",
       "\n",
       "[8 rows x 1094 columns]"
      ]
     },
     "execution_count": 62,
     "metadata": {},
     "output_type": "execute_result"
    }
   ],
   "source": [
    "# Check data\n",
    "df.describe()"
   ]
  },
  {
   "cell_type": "code",
   "execution_count": 8,
   "metadata": {
    "colab": {
     "base_uri": "https://localhost:8080/",
     "height": 323
    },
    "id": "6EftSE09j1TF",
    "outputId": "fdf10391-e1f0-47e5-db2c-4e77580a59d4"
   },
   "outputs": [
    {
     "data": {
      "text/plain": [
       "<matplotlib.axes._subplots.AxesSubplot at 0x7f74ee560c50>"
      ]
     },
     "execution_count": 8,
     "metadata": {},
     "output_type": "execute_result"
    },
    {
     "data": {
      "image/png": "[encoded data removed]",
      "text/plain": [
       "<Figure size 432x288 with 1 Axes>"
      ]
     },
     "metadata": {
      "needs_background": "light"
     },
     "output_type": "display_data"
    }
   ],
   "source": [
    "# Check Disease breakdown\n",
    "pd.value_counts(df['disease']).plot.bar()\n",
    "# Looks like there is a lot of Healthy in the data compared to the other target values"
   ]
  },
  {
   "cell_type": "markdown",
   "metadata": {
    "id": "Vl6AIF2Lj1TH"
   },
   "source": [
    "## Modelling"
   ]
  },
  {
   "cell_type": "code",
   "execution_count": 1,
   "metadata": {
    "id": "yv6HlXDsq4J7"
   },
   "outputs": [],
   "source": [
    "# Use two different approaches\n",
    "# Approach 1 will use all variables\n",
    "# Approach 2 will use some variables using featuring engineering like Extra Classifier\n",
    "# Approach 3 using pycaret"
   ]
  },
  {
   "cell_type": "markdown",
   "metadata": {
    "id": "YlI2iRlGUb5A"
   },
   "source": [
    "**Approach 1**"
   ]
  },
  {
   "cell_type": "markdown",
   "metadata": {
    "id": "-RXq0uazq7Hh"
   },
   "source": []
  },
  {
   "cell_type": "code",
   "execution_count": 63,
   "metadata": {
    "id": "EUhTlcQyj1TI"
   },
   "outputs": [],
   "source": [
    "# rescale all variables except the target variable\n",
    "df_scale = df.loc[:, df.columns!='disease']\n",
    "scaler = preprocessing.MinMaxScaler()\n",
    "df_scale = scaler.fit_transform(df_scale)\n",
    "df_scale = pd.DataFrame(df_scale)\n",
    "df_scale.reset_index(drop=True, inplace=True)"
   ]
  },
  {
   "cell_type": "code",
   "execution_count": 64,
   "metadata": {
    "colab": {
     "base_uri": "https://localhost:8080/"
    },
    "id": "H_yx01Ccj1TI",
    "outputId": "ce8ec94d-bcab-466f-a50b-38e9ab0e7129"
   },
   "outputs": [
    {
     "data": {
      "text/plain": [
       "(7481, 1095)"
      ]
     },
     "execution_count": 64,
     "metadata": {},
     "output_type": "execute_result"
    }
   ],
   "source": [
    "# combine rescaled value\n",
    "df['disease'].reset_index(drop=True, inplace=True)\n",
    "df_1 = pd.concat([df_scale,df['disease']], axis=1)\n",
    "df_1 = df.columns.values.tolist()\n",
    "df.shape"
   ]
  },
  {
   "cell_type": "code",
   "execution_count": 116,
   "metadata": {
    "id": "ohxFjT6moPuw"
   },
   "outputs": [],
   "source": []
  },
  {
   "cell_type": "code",
   "execution_count": 66,
   "metadata": {
    "colab": {
     "base_uri": "https://localhost:8080/"
    },
    "id": "TDngyf0uj1TJ",
    "outputId": "a3fcae14-88d5-4d61-bda4-6be2b104ad33"
   },
   "outputs": [
    {
     "name": "stdout",
     "output_type": "stream",
     "text": [
      "(5984, 1095) (1497, 1095)\n"
     ]
    }
   ],
   "source": [
    "#Let's now create our training and test data.\n",
    "train,test = train_test_split(df,test_size=0.2,random_state=42)\n",
    "print(train.shape, test.shape)"
   ]
  },
  {
   "cell_type": "code",
   "execution_count": null,
   "metadata": {
    "id": "tdx8H0lQj1TJ"
   },
   "outputs": [],
   "source": [
    "#!pip install imblearn\n",
    "#!pip install -U imbalanced-learn"
   ]
  },
  {
   "cell_type": "code",
   "execution_count": 67,
   "metadata": {
    "id": "Q8Ana18xj1TJ"
   },
   "outputs": [],
   "source": [
    "# Fix Target variable imbalance\n",
    "X_train = train.drop('disease', axis=1)\n",
    "y_train = train[['disease']]\n",
    "from imblearn.under_sampling import NearMiss\n",
    "nr = NearMiss(version=1)\n",
    "X_train, y_train = nr.fit_resample(X_train, y_train)"
   ]
  },
  {
   "cell_type": "code",
   "execution_count": 68,
   "metadata": {
    "id": "F4-FZgV0j1TK"
   },
   "outputs": [],
   "source": [
    "X_train = pd.DataFrame(X_train)\n",
    "y_train = pd.DataFrame(y_train)"
   ]
  },
  {
   "cell_type": "code",
   "execution_count": 69,
   "metadata": {
    "id": "Z6alhsLfj1TK"
   },
   "outputs": [],
   "source": [
    "# combine train data\n",
    "train = pd.concat([X_train,y_train], axis=1)\n",
    "train.reset_index(drop=True, inplace=True)"
   ]
  },
  {
   "cell_type": "code",
   "execution_count": 70,
   "metadata": {
    "id": "7s076F4Wj1TK"
   },
   "outputs": [],
   "source": [
    "train.columns = df.columns.values.tolist()"
   ]
  },
  {
   "cell_type": "code",
   "execution_count": 17,
   "metadata": {
    "id": "WcP03ehej1TK"
   },
   "outputs": [],
   "source": [
    "# Models\n",
    "import warnings\n",
    "warnings.simplefilter(action='ignore', category=FutureWarning)\n",
    "model1=LogisticRegression(random_state=22,C=0.000000001,solver='liblinear',max_iter=200)\n",
    "model2=GaussianNB()\n",
    "model3=RandomForestClassifier(n_estimators=200,random_state=22)\n",
    "model4=GradientBoostingClassifier(n_estimators=200)\n",
    "model5=KNeighborsClassifier()\n",
    "model6=DecisionTreeClassifier()\n",
    "model7=LinearDiscriminantAnalysis()\n",
    "model8=BaggingClassifier()\n",
    "Ensembled_model=VotingClassifier(estimators=[('lr', model1), ('gn', model2), ('rf', model3),\n",
    "                                             ('gb',model4),('kn',model5),('dt',model6),('lda',model7), ('bc',model8)], voting='hard')\n"
   ]
  },
  {
   "cell_type": "code",
   "execution_count": 20,
   "metadata": {
    "id": "kzPi2I7q9Ts6"
   },
   "outputs": [],
   "source": [
    "features=train.iloc[:,0:1094]\n",
    "target = train['disease']\n",
    "Name=[]\n",
    "Accuracy=[]\n",
    "f1=[]"
   ]
  },
  {
   "cell_type": "code",
   "execution_count": 18,
   "metadata": {
    "colab": {
     "base_uri": "https://localhost:8080/"
    },
    "id": "1yFBh0JB8Eqx",
    "outputId": "52b62d7c-9ef1-43ae-e9c9-068832783867"
   },
   "outputs": [
    {
     "name": "stdout",
     "output_type": "stream",
     "text": [
      "Accuracy: 0.298933 of model Logistic Regression\n",
      "Accuracy: 0.620028 of model Naive Bayes\n",
      "Accuracy: 0.688134 of model Random Forest\n",
      "Accuracy: 0.712364 of model Gradient Boosting\n",
      "Accuracy: 0.500206 of model KNN\n",
      "Accuracy: 0.534377 of model Decision Tree\n",
      "Accuracy: 0.569926 of model LDA\n",
      "Accuracy: 0.617189 of model Bagging Classifier\n",
      "Accuracy: 0.717439 of model Ensemble\n"
     ]
    }
   ],
   "source": [
    "# Accuracy\n",
    "for model, label in zip([model1, model2, model3, model4,model5,model6,model7,model8,Ensembled_model], \n",
    "                        ['Logistic Regression','Naive Bayes','Random Forest', 'Gradient Boosting','KNN','Decision Tree','LDA', 'Bagging Classifier', 'Ensemble']):\n",
    "    scores = cross_val_score(model, features, target, cv=5, scoring='accuracy')\n",
    "    Accuracy.append(scores.mean())\n",
    "    Name.append(model.__class__.__name__)\n",
    "    print(\"Accuracy: %f for model %s\" % (scores.mean(),label))"
   ]
  },
  {
   "cell_type": "code",
   "execution_count": 22,
   "metadata": {
    "colab": {
     "base_uri": "https://localhost:8080/"
    },
    "id": "fK-QCOjej1TL",
    "outputId": "8cbb82d1-4bf4-495d-904b-110cc3284b34"
   },
   "outputs": [
    {
     "name": "stdout",
     "output_type": "stream",
     "text": [
      "F1: 0.173434 of model Logistic Regression\n",
      "F1: 0.607170 of model Naive Bayes\n",
      "F1: 0.684840 of model Random Forest\n",
      "F1: 0.704129 of model Gradient Boosting\n",
      "F1: 0.481226 of model KNN\n",
      "F1: 0.535794 of model Decision Tree\n",
      "F1: 0.551130 of model LDA\n",
      "F1: 0.630484 of model Bagging Classifier\n",
      "F1: 0.712557 of model Ensemble\n"
     ]
    }
   ],
   "source": [
    "# F1 score - Metrics of Scoring\n",
    "for model, label in zip([model1, model2, model3, model4,model5,model6,model7,model8,Ensembled_model], \n",
    "                        ['Logistic Regression','Naive Bayes','Random Forest', 'Gradient Boosting','KNN','Decision Tree','LDA', 'Bagging Classifier', 'Ensemble']):\n",
    "    scores = cross_val_score(model, features, target, cv=5, scoring='f1_weighted')\n",
    "    f1.append(scores.mean())\n",
    "    Name.append(model.__class__.__name__)\n",
    "    print(\"F1: %f for model %s\" % (scores.mean(),label))"
   ]
  },
  {
   "cell_type": "code",
   "execution_count": 29,
   "metadata": {
    "id": "DtJifceygGod"
   },
   "outputs": [],
   "source": [
    "# Prediction\n",
    "X_test = test.drop('disease', axis=1)\n",
    "Y_test = test[['disease']]"
   ]
  },
  {
   "cell_type": "code",
   "execution_count": 31,
   "metadata": {
    "colab": {
     "base_uri": "https://localhost:8080/"
    },
    "id": "Hex8bUDTj1TM",
    "outputId": "8d81fc7f-87cb-49ad-e634-70563afecd11"
   },
   "outputs": [
    {
     "name": "stdout",
     "output_type": "stream",
     "text": [
      "Cohen Kappa Score: 0.125919 for model Logistic Regression\n",
      "Cohen Kappa Score: 0.219301 for model Naive Bayes\n",
      "Cohen Kappa Score: 0.371820 for model Random Forest\n",
      "Cohen Kappa Score: 0.395429 for model Gradient Boosting\n",
      "Cohen Kappa Score: 0.299775 for model KNN\n",
      "Cohen Kappa Score: 0.256351 for model Decision Tree\n",
      "Cohen Kappa Score: 0.272939 for model LDA\n",
      "Cohen Kappa Score: 0.329991 for model Bagging Classifier\n",
      "Cohen Kappa Score: 0.355695 for model Ensemble\n"
     ]
    }
   ],
   "source": [
    "# Cohen’s kappa - Metrics of Scoring\n",
    "warnings.simplefilter(action='ignore')\n",
    "cohen = []\n",
    "for model, label in zip([model1, model2, model3, model4,model5,model6,model7,model8,Ensembled_model], \n",
    "                        ['Logistic Regression','Naive Bayes','Random Forest', 'Gradient Boosting','KNN','Decision Tree','LDA', 'Bagging Classifier', 'Ensemble']):\n",
    "  model.fit(X_train, y_train)\n",
    "  y_pred = model.predict(X_test)\n",
    "  cohen = cohen_kappa_score(Y_test, y_pred)\n",
    "  Name.append(model.__class__.__name__)\n",
    "  print(\"Cohen Kappa Score: %f for model %s\" % (cohen,label))\n"
   ]
  },
  {
   "cell_type": "markdown",
   "metadata": {
    "id": "qmtqbLq6UPM6"
   },
   "source": [
    "**Approach 2**\n"
   ]
  },
  {
   "cell_type": "code",
   "execution_count": null,
   "metadata": {
    "id": "DsBrFh4GpNoz"
   },
   "outputs": [],
   "source": [
    "#choose features\n",
    "from sklearn.ensemble import ExtraTreesClassifier\n",
    "from matplotlib import pyplot\n",
    "array = train.values\n",
    "X = array[:,0:1094]\n",
    "Y = array[:,1094]\n",
    "# feature extraction\n",
    "model = ExtraTreesClassifier()\n",
    "model.fit(X, Y)\n",
    "importance = model.feature_importances_\n",
    "# summarize feature importance\n",
    "for i,v in enumerate(importance):\n",
    "\tprint('Feature: %0d, Score: %.5f' % (i,v))\n",
    "# plot feature importance\n",
    "#pyplot.bar([x for x in range(len(importance))], importance)\n",
    "#pyplot.show()"
   ]
  },
  {
   "cell_type": "code",
   "execution_count": 103,
   "metadata": {
    "id": "p15GWYihnbvu"
   },
   "outputs": [],
   "source": [
    "column_data = ['Bacteria-52','Bacteria-988','Bacteria-532','Bacteria-614','Bacteria-597','Bacteria-674','Bacteria-521','Bacteria-530','Bacteria-139','Bacteria-1007','Bacteria-578','Bacteria-672','Bacteria-701','Bacteria-984','Bacteria-647','Bacteria-242','Bacteria-520','Bacteria-613','Bacteria-643','Bacteria-232','Bacteria-642','Bacteria-688','Bacteria-940','Bacteria-604','Bacteria-583','Bacteria-451','Bacteria-582','Bacteria-616','Bacteria-588','Bacteria-543','Bacteria-546','Bacteria-711','Bacteria-553','Bacteria-652','Bacteria-609','Bacteria-584','Bacteria-649','Bacteria-650','Bacteria-535','Bacteria-630','Bacteria-622','Bacteria-576','Bacteria-695','Bacteria-181','Bacteria-634','Bacteria-1086','Bacteria-459','Bacteria-683','Bacteria-632','Bacteria-551','Bacteria-455','Bacteria-567','Bacteria-528','Bacteria-1016','Bacteria-549','Bacteria-717','Bacteria-645','Bacteria-511','Bacteria-680','Bacteria-196','Bacteria-694','Bacteria-149','Bacteria-623','Bacteria-648','Bacteria-637','Bacteria-452','Bacteria-884','Bacteria-633','Bacteria-441','Bacteria-644','Bacteria-703','Bacteria-445','Bacteria-635','Bacteria-687','Bacteria-580','Bacteria-636','Bacteria-187','Bacteria-533','Bacteria-195','Bacteria-430','Bacteria-222','Bacteria-456','Bacteria-40','Bacteria-468','Bacteria-631','Bacteria-945','Bacteria-608','Bacteria-655','Bacteria-536','Bacteria-143','Bacteria-216','Bacteria-581','Bacteria-217','Bacteria-568','Bacteria-585','Bacteria-885','Bacteria-488','Bacteria-507','Bacteria-1073','Bacteria-60','Bacteria-407','Bacteria-571','Bacteria-221','Bacteria-559','Bacteria-529','Bacteria-517','Bacteria-591','Bacteria-602','Bacteria-626','Bacteria-188','Bacteria-2','Bacteria-592','Bacteria-524','Bacteria-948','Bacteria-579','Bacteria-641','Bacteria-1','Bacteria-610','Bacteria-475','Bacteria-157','Bacteria-495','Bacteria-661','Bacteria-715','Bacteria-214','Bacteria-486','Bacteria-504','Bacteria-503','Bacteria-489','Bacteria-607','Bacteria-421','Bacteria-540','Bacteria-639','Bacteria-846','Bacteria-547','Bacteria-151','Bacteria-450','Bacteria-572','Bacteria-573','Bacteria-562','Bacteria-669','Bacteria-682','Bacteria-290','Bacteria-640','Bacteria-395','Bacteria-478','Bacteria-611','Bacteria-210','Bacteria-479','Bacteria-229','Bacteria-600','Bacteria-665','Bacteria-606','Bacteria-154','Bacteria-477','disease']\n"
   ]
  },
  {
   "cell_type": "code",
   "execution_count": 107,
   "metadata": {
    "id": "12agdh83ncQ1"
   },
   "outputs": [],
   "source": [
    "df1 = df[column_data]"
   ]
  },
  {
   "cell_type": "code",
   "execution_count": 114,
   "metadata": {
    "id": "ZzrVu1tUtXYW"
   },
   "outputs": [],
   "source": []
  },
  {
   "cell_type": "code",
   "execution_count": 109,
   "metadata": {
    "id": "QdrKyghes9V-"
   },
   "outputs": [],
   "source": [
    "# rescale all variables except the target variable\n",
    "df_scale = df1.loc[:, df1.columns!='disease']\n",
    "scaler = preprocessing.MinMaxScaler()\n",
    "df_scale = scaler.fit_transform(df_scale)\n",
    "df_scale = pd.DataFrame(df_scale)\n",
    "df_scale.reset_index(drop=True, inplace=True)\n",
    "# combine rescaled value\n",
    "df1['disease'].reset_index(drop=True, inplace=True)\n",
    "df_1 = pd.concat([df_scale,df1['disease']], axis=1)\n",
    "df_1.columns = df1.columns.values.tolist()"
   ]
  },
  {
   "cell_type": "code",
   "execution_count": 111,
   "metadata": {
    "colab": {
     "base_uri": "https://localhost:8080/"
    },
    "id": "3v5FBxJcncuf",
    "outputId": "0a95ec16-62c4-43f5-be30-fe7198b7ecc3"
   },
   "outputs": [
    {
     "name": "stdout",
     "output_type": "stream",
     "text": [
      "(5984, 155) (1497, 155)\n"
     ]
    }
   ],
   "source": [
    "# Fix Imbalance\n",
    "train,test = train_test_split(df_1,test_size=0.2,random_state=42)\n",
    "print(train.shape, test.shape)\n",
    "X_train = train.drop('disease', axis=1)\n",
    "y_train = train[['disease']]\n",
    "from imblearn.under_sampling import NearMiss\n",
    "nr = NearMiss(version=1)\n",
    "X_train, y_train = nr.fit_resample(X_train, y_train)"
   ]
  },
  {
   "cell_type": "code",
   "execution_count": 112,
   "metadata": {
    "id": "IA8DraRSrMPq"
   },
   "outputs": [],
   "source": [
    "X_train = pd.DataFrame(X_train)\n",
    "y_train = pd.DataFrame(y_train)\n",
    "# combine train data\n",
    "train = pd.concat([X_train,y_train], axis=1)\n",
    "train.reset_index(drop=True, inplace=True)\n",
    "train.columns = df1.columns.values.tolist()"
   ]
  },
  {
   "cell_type": "code",
   "execution_count": 113,
   "metadata": {
    "id": "X-LdnuX1rMlM"
   },
   "outputs": [],
   "source": [
    "features=train.iloc[:,0:154]"
   ]
  },
  {
   "cell_type": "code",
   "execution_count": 114,
   "metadata": {
    "colab": {
     "base_uri": "https://localhost:8080/"
    },
    "id": "oarbrtISrNCU",
    "outputId": "de88a948-7029-4090-8109-b412e2ea889b"
   },
   "outputs": [
    {
     "name": "stdout",
     "output_type": "stream",
     "text": [
      "Accuracy: 0.293266 for model Logistic Regression\n",
      "Accuracy: 0.497288 for model Naive Bayes\n",
      "Accuracy: 0.636305 for model Random Forest\n",
      "Accuracy: 0.627859 for model Gradient Boosting\n",
      "Accuracy: 0.451765 for model KNN\n",
      "Accuracy: 0.482018 for model Decision Tree\n",
      "Accuracy: 0.533907 for model LDA\n",
      "Accuracy: 0.582811 for model Bagging Classifier\n",
      "Accuracy: 0.632369 for model Ensemble\n"
     ]
    }
   ],
   "source": [
    "# Accuracy\n",
    "for model, label in zip([model1, model2, model3, model4,model5,model6,model7,model8,Ensembled_model], \n",
    "                        ['Logistic Regression','Naive Bayes','Random Forest', 'Gradient Boosting','KNN','Decision Tree','LDA', 'Bagging Classifier', 'Ensemble']):\n",
    "    scores = cross_val_score(model, features, target, cv=5, scoring='accuracy')\n",
    "    Accuracy.append(scores.mean())\n",
    "    Name.append(model.__class__.__name__)\n",
    "    print(\"Accuracy: %f for model %s\" % (scores.mean(),label))"
   ]
  },
  {
   "cell_type": "code",
   "execution_count": 115,
   "metadata": {
    "colab": {
     "base_uri": "https://localhost:8080/"
    },
    "id": "cH2-pfYerNW0",
    "outputId": "b38c61cc-0469-4195-c3aa-8a53f05172fb"
   },
   "outputs": [
    {
     "name": "stdout",
     "output_type": "stream",
     "text": [
      "F1: 0.160802 for model Logistic Regression\n",
      "F1: 0.456620 for model Naive Bayes\n",
      "F1: 0.626431 for model Random Forest\n",
      "F1: 0.616158 for model Gradient Boosting\n",
      "F1: 0.438866 for model KNN\n",
      "F1: 0.474634 for model Decision Tree\n",
      "F1: 0.506355 for model LDA\n",
      "F1: 0.575123 for model Bagging Classifier\n",
      "F1: 0.618451 for model Ensemble\n"
     ]
    }
   ],
   "source": [
    "# F1 score - Metrics of Scoring\n",
    "for model, label in zip([model1, model2, model3, model4,model5,model6,model7,model8,Ensembled_model], \n",
    "                        ['Logistic Regression','Naive Bayes','Random Forest', 'Gradient Boosting','KNN','Decision Tree','LDA', 'Bagging Classifier', 'Ensemble']):\n",
    "    scores = cross_val_score(model, features, target, cv=5, scoring='f1_weighted')\n",
    "    f1.append(scores.mean())\n",
    "    Name.append(model.__class__.__name__)\n",
    "    print(\"F1: %f for model %s\" % (scores.mean(),label))"
   ]
  },
  {
   "cell_type": "code",
   "execution_count": 116,
   "metadata": {
    "colab": {
     "base_uri": "https://localhost:8080/"
    },
    "id": "tPF2IGe6rNsy",
    "outputId": "13a4b7f9-b6a2-41af-940c-aea7234532ef"
   },
   "outputs": [
    {
     "name": "stdout",
     "output_type": "stream",
     "text": [
      "Cohen Kappa Score: 0.073639 for model Logistic Regression\n",
      "Cohen Kappa Score: 0.116997 for model Naive Bayes\n",
      "Cohen Kappa Score: 0.241563 for model Random Forest\n",
      "Cohen Kappa Score: 0.252727 for model Gradient Boosting\n",
      "Cohen Kappa Score: 0.191861 for model KNN\n",
      "Cohen Kappa Score: 0.201691 for model Decision Tree\n",
      "Cohen Kappa Score: 0.188096 for model LDA\n",
      "Cohen Kappa Score: 0.203915 for model Bagging Classifier\n",
      "Cohen Kappa Score: 0.227569 for model Ensemble\n"
     ]
    }
   ],
   "source": [
    "# Cohen\n",
    "X_test = test.drop('disease', axis=1)\n",
    "Y_test = test[['disease']]\n",
    "warnings.simplefilter(action='ignore')\n",
    "for model, label in zip([model1, model2, model3, model4,model5,model6,model7,model8,Ensembled_model], \n",
    "                        ['Logistic Regression','Naive Bayes','Random Forest', 'Gradient Boosting','KNN','Decision Tree','LDA', 'Bagging Classifier', 'Ensemble']):\n",
    "  model.fit(X_train, y_train)\n",
    "  y_pred = model.predict(X_test)\n",
    "  cohen = cohen_kappa_score(Y_test, y_pred)\n",
    "  Name.append(model.__class__.__name__)\n",
    "  print(\"Cohen Kappa Score: %f for model %s\" % (cohen,label))"
   ]
  },
  {
   "cell_type": "markdown",
   "metadata": {
    "id": "StIph0-LrOHh"
   },
   "source": [
    "### Approach 3"
   ]
  },
  {
   "cell_type": "code",
   "execution_count": 1,
   "metadata": {
    "id": "vpZ3rEIHrOdg"
   },
   "outputs": [],
   "source": [
    "# Libraries\n",
    "from pycaret.classification import *\n",
    "import pandas as pd\n",
    "import numpy as np\n",
    "import sklearn\n",
    "import matplotlib.pyplot as plt\n",
    "%matplotlib inline\n",
    "from sklearn import preprocessing\n",
    "from sklearn.metrics import accuracy_score\n",
    "from sklearn import model_selection\n",
    "from sklearn.metrics import mean_squared_error\n",
    "from sklearn.model_selection import cross_val_score\n",
    "from sklearn.preprocessing import LabelEncoder, MinMaxScaler, StandardScaler, OneHotEncoder\n",
    "from sklearn.metrics import roc_curve, auc, recall_score, precision_score, f1_score, confusion_matrix, cohen_kappa_score\n",
    "from sklearn.model_selection import train_test_split\n",
    "from sklearn.model_selection import TimeSeriesSplit, cross_val_score, GridSearchCV, RandomizedSearchCV"
   ]
  },
  {
   "cell_type": "code",
   "execution_count": null,
   "metadata": {
    "id": "B2CGPnyWumBA"
   },
   "outputs": [
    {
     "name": "stdout",
     "output_type": "stream",
     "text": [
      "Collecting imblearn\n",
      "  Using cached imblearn-0.0-py2.py3-none-any.whl (1.9 kB)\n",
      "Requirement already satisfied: imbalanced-learn in /Users/edima/venv/lib/python3.7/site-packages (from imblearn) (0.10.1)\n",
      "Requirement already satisfied: threadpoolctl>=2.0.0 in /Users/edima/venv/lib/python3.7/site-packages (from imbalanced-learn->imblearn) (3.1.0)\n",
      "Requirement already satisfied: scikit-learn>=1.0.2 in /Users/edima/venv/lib/python3.7/site-packages (from imbalanced-learn->imblearn) (1.0.2)\n",
      "Requirement already satisfied: scipy>=1.3.2 in /Users/edima/venv/lib/python3.7/site-packages (from imbalanced-learn->imblearn) (1.7.3)\n",
      "Requirement already satisfied: joblib>=1.1.1 in /Users/edima/venv/lib/python3.7/site-packages (from imbalanced-learn->imblearn) (1.2.0)\n",
      "Requirement already satisfied: numpy>=1.17.3 in /Users/edima/venv/lib/python3.7/site-packages (from imbalanced-learn->imblearn) (1.21.6)\n",
      "Installing collected packages: imblearn\n",
      "Successfully installed imblearn-0.0\n",
      "\u001b[33mWARNING: You are using pip version 20.1; however, version 23.1.2 is available.\n",
      "You should consider upgrading via the '/Users/edima/venv/bin/python -m pip install --upgrade pip' command.\u001b[0m\n"
     ]
    }
   ],
   "source": [
    "#!pip install imblearn\n",
    "#!pip install -U imbalanced-learn"
   ]
  },
  {
   "cell_type": "code",
   "execution_count": 2,
   "metadata": {
    "id": "0z9nnhxcrO6x"
   },
   "outputs": [],
   "source": [
    "# Load data\n",
    "df = pd.read_csv('challenge_1_gut_microbiome_data.csv')"
   ]
  },
  {
   "cell_type": "code",
   "execution_count": null,
   "metadata": {},
   "outputs": [],
   "source": []
  },
  {
   "cell_type": "code",
   "execution_count": 3,
   "metadata": {},
   "outputs": [],
   "source": [
    "# Drop first column\n",
    "df.drop('Samples', axis=1, inplace=True)"
   ]
  },
  {
   "cell_type": "code",
   "execution_count": 4,
   "metadata": {},
   "outputs": [
    {
     "data": {
      "text/plain": [
       "<AxesSubplot:>"
      ]
     },
     "execution_count": 4,
     "metadata": {},
     "output_type": "execute_result"
    },
    {
     "data": {
      "image/png": "[encoded data removed]",
      "text/plain": [
       "<Figure size 432x288 with 1 Axes>"
      ]
     },
     "metadata": {
      "needs_background": "light"
     },
     "output_type": "display_data"
    }
   ],
   "source": [
    "# Check Disease breakdown\n",
    "pd.value_counts(df['disease']).plot.bar()\n",
    "# Looks like there is a lot of Healthy in the data compared to the other target values"
   ]
  },
  {
   "cell_type": "code",
   "execution_count": 5,
   "metadata": {},
   "outputs": [],
   "source": [
    "# Categorize disease\n",
    "df[\"disease\"] = df[\"disease\"].astype('category')\n",
    "df[\"disease\"] = df[\"disease\"].cat.codes"
   ]
  },
  {
   "cell_type": "code",
   "execution_count": 6,
   "metadata": {},
   "outputs": [],
   "source": [
    "# rescale all variables except the target variable\n",
    "df_scale = df.loc[:, df.columns!='disease']\n",
    "scaler = preprocessing.MinMaxScaler()\n",
    "df_scale = scaler.fit_transform(df_scale)\n",
    "df_scale = pd.DataFrame(df_scale)\n",
    "df_scale.reset_index(drop=True, inplace=True)"
   ]
  },
  {
   "cell_type": "code",
   "execution_count": 7,
   "metadata": {},
   "outputs": [
    {
     "data": {
      "text/plain": [
       "(7481, 1095)"
      ]
     },
     "execution_count": 7,
     "metadata": {},
     "output_type": "execute_result"
    }
   ],
   "source": [
    "# combine rescaled value\n",
    "df['disease'].reset_index(drop=True, inplace=True)\n",
    "df_1 = pd.concat([df_scale,df['disease']], axis=1)\n",
    "df_1 = df.columns.values.tolist()\n",
    "df.shape"
   ]
  },
  {
   "cell_type": "code",
   "execution_count": 8,
   "metadata": {},
   "outputs": [
    {
     "name": "stdout",
     "output_type": "stream",
     "text": [
      "(5984, 1095) (1497, 1095)\n"
     ]
    }
   ],
   "source": [
    "#Let's now create our training and test data.\n",
    "train,test = train_test_split(df,test_size=0.2,random_state=42)\n",
    "print(train.shape, test.shape)"
   ]
  },
  {
   "cell_type": "code",
   "execution_count": 9,
   "metadata": {},
   "outputs": [],
   "source": [
    "# Fix Target variable imbalance\n",
    "X_train = train.drop('disease', axis=1)\n",
    "y_train = train[['disease']]\n",
    "from imblearn.under_sampling import NearMiss\n",
    "nr = NearMiss(version=1)\n",
    "X_train, y_train = nr.fit_resample(X_train, y_train)\n",
    "\n",
    "X_train = pd.DataFrame(X_train)\n",
    "y_train = pd.DataFrame(y_train)\n",
    "\n",
    "# combine train data\n",
    "train = pd.concat([X_train,y_train], axis=1)\n",
    "train.reset_index(drop=True, inplace=True)"
   ]
  },
  {
   "cell_type": "code",
   "execution_count": null,
   "metadata": {},
   "outputs": [],
   "source": []
  },
  {
   "cell_type": "code",
   "execution_count": 10,
   "metadata": {},
   "outputs": [
    {
     "data": {
      "text/html": [
       "<style type=\"text/css\">\n",
       "#T_11808_row8_col1 {\n",
       "  background-color: lightgreen;\n",
       "}\n",
       "</style>\n",
       "<table id=\"T_11808_\">\n",
       "  <thead>\n",
       "    <tr>\n",
       "      <th class=\"blank level0\" >&nbsp;</th>\n",
       "      <th class=\"col_heading level0 col0\" >Description</th>\n",
       "      <th class=\"col_heading level0 col1\" >Value</th>\n",
       "    </tr>\n",
       "  </thead>\n",
       "  <tbody>\n",
       "    <tr>\n",
       "      <th id=\"T_11808_level0_row0\" class=\"row_heading level0 row0\" >0</th>\n",
       "      <td id=\"T_11808_row0_col0\" class=\"data row0 col0\" >Session id</td>\n",
       "      <td id=\"T_11808_row0_col1\" class=\"data row0 col1\" >123</td>\n",
       "    </tr>\n",
       "    <tr>\n",
       "      <th id=\"T_11808_level0_row1\" class=\"row_heading level0 row1\" >1</th>\n",
       "      <td id=\"T_11808_row1_col0\" class=\"data row1 col0\" >Target</td>\n",
       "      <td id=\"T_11808_row1_col1\" class=\"data row1 col1\" >disease</td>\n",
       "    </tr>\n",
       "    <tr>\n",
       "      <th id=\"T_11808_level0_row2\" class=\"row_heading level0 row2\" >2</th>\n",
       "      <td id=\"T_11808_row2_col0\" class=\"data row2 col0\" >Target type</td>\n",
       "      <td id=\"T_11808_row2_col1\" class=\"data row2 col1\" >Multiclass</td>\n",
       "    </tr>\n",
       "    <tr>\n",
       "      <th id=\"T_11808_level0_row3\" class=\"row_heading level0 row3\" >3</th>\n",
       "      <td id=\"T_11808_row3_col0\" class=\"data row3 col0\" >Original data shape</td>\n",
       "      <td id=\"T_11808_row3_col1\" class=\"data row3 col1\" >(1776, 1095)</td>\n",
       "    </tr>\n",
       "    <tr>\n",
       "      <th id=\"T_11808_level0_row4\" class=\"row_heading level0 row4\" >4</th>\n",
       "      <td id=\"T_11808_row4_col0\" class=\"data row4 col0\" >Transformed data shape</td>\n",
       "      <td id=\"T_11808_row4_col1\" class=\"data row4 col1\" >(1776, 1095)</td>\n",
       "    </tr>\n",
       "    <tr>\n",
       "      <th id=\"T_11808_level0_row5\" class=\"row_heading level0 row5\" >5</th>\n",
       "      <td id=\"T_11808_row5_col0\" class=\"data row5 col0\" >Transformed train set shape</td>\n",
       "      <td id=\"T_11808_row5_col1\" class=\"data row5 col1\" >(1243, 1095)</td>\n",
       "    </tr>\n",
       "    <tr>\n",
       "      <th id=\"T_11808_level0_row6\" class=\"row_heading level0 row6\" >6</th>\n",
       "      <td id=\"T_11808_row6_col0\" class=\"data row6 col0\" >Transformed test set shape</td>\n",
       "      <td id=\"T_11808_row6_col1\" class=\"data row6 col1\" >(533, 1095)</td>\n",
       "    </tr>\n",
       "    <tr>\n",
       "      <th id=\"T_11808_level0_row7\" class=\"row_heading level0 row7\" >7</th>\n",
       "      <td id=\"T_11808_row7_col0\" class=\"data row7 col0\" >Numeric features</td>\n",
       "      <td id=\"T_11808_row7_col1\" class=\"data row7 col1\" >1094</td>\n",
       "    </tr>\n",
       "    <tr>\n",
       "      <th id=\"T_11808_level0_row8\" class=\"row_heading level0 row8\" >8</th>\n",
       "      <td id=\"T_11808_row8_col0\" class=\"data row8 col0\" >Preprocess</td>\n",
       "      <td id=\"T_11808_row8_col1\" class=\"data row8 col1\" >True</td>\n",
       "    </tr>\n",
       "    <tr>\n",
       "      <th id=\"T_11808_level0_row9\" class=\"row_heading level0 row9\" >9</th>\n",
       "      <td id=\"T_11808_row9_col0\" class=\"data row9 col0\" >Imputation type</td>\n",
       "      <td id=\"T_11808_row9_col1\" class=\"data row9 col1\" >simple</td>\n",
       "    </tr>\n",
       "    <tr>\n",
       "      <th id=\"T_11808_level0_row10\" class=\"row_heading level0 row10\" >10</th>\n",
       "      <td id=\"T_11808_row10_col0\" class=\"data row10 col0\" >Numeric imputation</td>\n",
       "      <td id=\"T_11808_row10_col1\" class=\"data row10 col1\" >mean</td>\n",
       "    </tr>\n",
       "    <tr>\n",
       "      <th id=\"T_11808_level0_row11\" class=\"row_heading level0 row11\" >11</th>\n",
       "      <td id=\"T_11808_row11_col0\" class=\"data row11 col0\" >Categorical imputation</td>\n",
       "      <td id=\"T_11808_row11_col1\" class=\"data row11 col1\" >mode</td>\n",
       "    </tr>\n",
       "    <tr>\n",
       "      <th id=\"T_11808_level0_row12\" class=\"row_heading level0 row12\" >12</th>\n",
       "      <td id=\"T_11808_row12_col0\" class=\"data row12 col0\" >Fold Generator</td>\n",
       "      <td id=\"T_11808_row12_col1\" class=\"data row12 col1\" >StratifiedKFold</td>\n",
       "    </tr>\n",
       "    <tr>\n",
       "      <th id=\"T_11808_level0_row13\" class=\"row_heading level0 row13\" >13</th>\n",
       "      <td id=\"T_11808_row13_col0\" class=\"data row13 col0\" >Fold Number</td>\n",
       "      <td id=\"T_11808_row13_col1\" class=\"data row13 col1\" >10</td>\n",
       "    </tr>\n",
       "    <tr>\n",
       "      <th id=\"T_11808_level0_row14\" class=\"row_heading level0 row14\" >14</th>\n",
       "      <td id=\"T_11808_row14_col0\" class=\"data row14 col0\" >CPU Jobs</td>\n",
       "      <td id=\"T_11808_row14_col1\" class=\"data row14 col1\" >-1</td>\n",
       "    </tr>\n",
       "    <tr>\n",
       "      <th id=\"T_11808_level0_row15\" class=\"row_heading level0 row15\" >15</th>\n",
       "      <td id=\"T_11808_row15_col0\" class=\"data row15 col0\" >Use GPU</td>\n",
       "      <td id=\"T_11808_row15_col1\" class=\"data row15 col1\" >False</td>\n",
       "    </tr>\n",
       "    <tr>\n",
       "      <th id=\"T_11808_level0_row16\" class=\"row_heading level0 row16\" >16</th>\n",
       "      <td id=\"T_11808_row16_col0\" class=\"data row16 col0\" >Log Experiment</td>\n",
       "      <td id=\"T_11808_row16_col1\" class=\"data row16 col1\" >False</td>\n",
       "    </tr>\n",
       "    <tr>\n",
       "      <th id=\"T_11808_level0_row17\" class=\"row_heading level0 row17\" >17</th>\n",
       "      <td id=\"T_11808_row17_col0\" class=\"data row17 col0\" >Experiment Name</td>\n",
       "      <td id=\"T_11808_row17_col1\" class=\"data row17 col1\" >clf-default-name</td>\n",
       "    </tr>\n",
       "    <tr>\n",
       "      <th id=\"T_11808_level0_row18\" class=\"row_heading level0 row18\" >18</th>\n",
       "      <td id=\"T_11808_row18_col0\" class=\"data row18 col0\" >USI</td>\n",
       "      <td id=\"T_11808_row18_col1\" class=\"data row18 col1\" >4eb1</td>\n",
       "    </tr>\n",
       "  </tbody>\n",
       "</table>\n"
      ],
      "text/plain": [
       "<pandas.io.formats.style.Styler at 0x7fd48b6192d0>"
      ]
     },
     "metadata": {},
     "output_type": "display_data"
    }
   ],
   "source": [
    "exp_class101 = setup(data = train, target = 'disease', session_id=123) "
   ]
  },
  {
   "cell_type": "code",
   "execution_count": 11,
   "metadata": {},
   "outputs": [
    {
     "data": {
      "text/html": [],
      "text/plain": [
       "<IPython.core.display.HTML object>"
      ]
     },
     "metadata": {},
     "output_type": "display_data"
    },
    {
     "data": {
      "text/html": [
       "<style type=\"text/css\">\n",
       "#T_64f4d_ th {\n",
       "  text-align: left;\n",
       "}\n",
       "#T_64f4d_row0_col0, #T_64f4d_row1_col0, #T_64f4d_row1_col1, #T_64f4d_row1_col2, #T_64f4d_row1_col3, #T_64f4d_row1_col4, #T_64f4d_row1_col5, #T_64f4d_row1_col6, #T_64f4d_row1_col7, #T_64f4d_row2_col0, #T_64f4d_row2_col1, #T_64f4d_row2_col2, #T_64f4d_row2_col3, #T_64f4d_row2_col4, #T_64f4d_row2_col5, #T_64f4d_row2_col6, #T_64f4d_row2_col7, #T_64f4d_row3_col0, #T_64f4d_row3_col1, #T_64f4d_row3_col2, #T_64f4d_row3_col3, #T_64f4d_row3_col4, #T_64f4d_row3_col5, #T_64f4d_row3_col6, #T_64f4d_row3_col7, #T_64f4d_row4_col0, #T_64f4d_row4_col1, #T_64f4d_row4_col2, #T_64f4d_row4_col3, #T_64f4d_row4_col4, #T_64f4d_row4_col5, #T_64f4d_row4_col6, #T_64f4d_row4_col7, #T_64f4d_row5_col0, #T_64f4d_row5_col1, #T_64f4d_row5_col2, #T_64f4d_row5_col3, #T_64f4d_row5_col4, #T_64f4d_row5_col5, #T_64f4d_row5_col6, #T_64f4d_row5_col7, #T_64f4d_row6_col0, #T_64f4d_row6_col1, #T_64f4d_row6_col2, #T_64f4d_row6_col3, #T_64f4d_row6_col4, #T_64f4d_row6_col5, #T_64f4d_row6_col6, #T_64f4d_row6_col7, #T_64f4d_row7_col0, #T_64f4d_row7_col1, #T_64f4d_row7_col2, #T_64f4d_row7_col3, #T_64f4d_row7_col4, #T_64f4d_row7_col5, #T_64f4d_row7_col6, #T_64f4d_row7_col7, #T_64f4d_row8_col0, #T_64f4d_row8_col1, #T_64f4d_row8_col2, #T_64f4d_row8_col3, #T_64f4d_row8_col4, #T_64f4d_row8_col5, #T_64f4d_row8_col6, #T_64f4d_row8_col7, #T_64f4d_row9_col0, #T_64f4d_row9_col1, #T_64f4d_row9_col2, #T_64f4d_row9_col3, #T_64f4d_row9_col4, #T_64f4d_row9_col5, #T_64f4d_row9_col6, #T_64f4d_row9_col7, #T_64f4d_row10_col0, #T_64f4d_row10_col1, #T_64f4d_row10_col2, #T_64f4d_row10_col3, #T_64f4d_row10_col4, #T_64f4d_row10_col5, #T_64f4d_row10_col6, #T_64f4d_row10_col7, #T_64f4d_row11_col0, #T_64f4d_row11_col1, #T_64f4d_row11_col2, #T_64f4d_row11_col3, #T_64f4d_row11_col4, #T_64f4d_row11_col5, #T_64f4d_row11_col6, #T_64f4d_row11_col7, #T_64f4d_row12_col0, #T_64f4d_row12_col1, #T_64f4d_row12_col2, #T_64f4d_row12_col3, #T_64f4d_row12_col4, #T_64f4d_row12_col5, #T_64f4d_row12_col6, #T_64f4d_row12_col7, #T_64f4d_row13_col0, #T_64f4d_row13_col1, #T_64f4d_row13_col2, #T_64f4d_row13_col3, #T_64f4d_row13_col4, #T_64f4d_row13_col5, #T_64f4d_row13_col6, #T_64f4d_row13_col7 {\n",
       "  text-align: left;\n",
       "}\n",
       "#T_64f4d_row0_col1, #T_64f4d_row0_col2, #T_64f4d_row0_col3, #T_64f4d_row0_col4, #T_64f4d_row0_col5, #T_64f4d_row0_col6, #T_64f4d_row0_col7 {\n",
       "  text-align: left;\n",
       "  background-color: yellow;\n",
       "}\n",
       "#T_64f4d_row0_col8, #T_64f4d_row1_col8, #T_64f4d_row2_col8, #T_64f4d_row3_col8, #T_64f4d_row4_col8, #T_64f4d_row5_col8, #T_64f4d_row6_col8, #T_64f4d_row7_col8, #T_64f4d_row8_col8, #T_64f4d_row9_col8, #T_64f4d_row10_col8, #T_64f4d_row11_col8, #T_64f4d_row12_col8 {\n",
       "  text-align: left;\n",
       "  background-color: lightgrey;\n",
       "}\n",
       "#T_64f4d_row13_col8 {\n",
       "  text-align: left;\n",
       "  background-color: yellow;\n",
       "  background-color: lightgrey;\n",
       "}\n",
       "</style>\n",
       "<table id=\"T_64f4d_\">\n",
       "  <thead>\n",
       "    <tr>\n",
       "      <th class=\"blank level0\" >&nbsp;</th>\n",
       "      <th class=\"col_heading level0 col0\" >Model</th>\n",
       "      <th class=\"col_heading level0 col1\" >Accuracy</th>\n",
       "      <th class=\"col_heading level0 col2\" >AUC</th>\n",
       "      <th class=\"col_heading level0 col3\" >Recall</th>\n",
       "      <th class=\"col_heading level0 col4\" >Prec.</th>\n",
       "      <th class=\"col_heading level0 col5\" >F1</th>\n",
       "      <th class=\"col_heading level0 col6\" >Kappa</th>\n",
       "      <th class=\"col_heading level0 col7\" >MCC</th>\n",
       "      <th class=\"col_heading level0 col8\" >TT (Sec)</th>\n",
       "    </tr>\n",
       "  </thead>\n",
       "  <tbody>\n",
       "    <tr>\n",
       "      <th id=\"T_64f4d_level0_row0\" class=\"row_heading level0 row0\" >lightgbm</th>\n",
       "      <td id=\"T_64f4d_row0_col0\" class=\"data row0 col0\" >Light Gradient Boosting Machine</td>\n",
       "      <td id=\"T_64f4d_row0_col1\" class=\"data row0 col1\" >0.7587</td>\n",
       "      <td id=\"T_64f4d_row0_col2\" class=\"data row0 col2\" >0.9284</td>\n",
       "      <td id=\"T_64f4d_row0_col3\" class=\"data row0 col3\" >0.7587</td>\n",
       "      <td id=\"T_64f4d_row0_col4\" class=\"data row0 col4\" >0.7665</td>\n",
       "      <td id=\"T_64f4d_row0_col5\" class=\"data row0 col5\" >0.7594</td>\n",
       "      <td id=\"T_64f4d_row0_col6\" class=\"data row0 col6\" >0.6783</td>\n",
       "      <td id=\"T_64f4d_row0_col7\" class=\"data row0 col7\" >0.6804</td>\n",
       "      <td id=\"T_64f4d_row0_col8\" class=\"data row0 col8\" >2.3740</td>\n",
       "    </tr>\n",
       "    <tr>\n",
       "      <th id=\"T_64f4d_level0_row1\" class=\"row_heading level0 row1\" >gbc</th>\n",
       "      <td id=\"T_64f4d_row1_col0\" class=\"data row1 col0\" >Gradient Boosting Classifier</td>\n",
       "      <td id=\"T_64f4d_row1_col1\" class=\"data row1 col1\" >0.7298</td>\n",
       "      <td id=\"T_64f4d_row1_col2\" class=\"data row1 col2\" >0.9146</td>\n",
       "      <td id=\"T_64f4d_row1_col3\" class=\"data row1 col3\" >0.7298</td>\n",
       "      <td id=\"T_64f4d_row1_col4\" class=\"data row1 col4\" >0.7381</td>\n",
       "      <td id=\"T_64f4d_row1_col5\" class=\"data row1 col5\" >0.7305</td>\n",
       "      <td id=\"T_64f4d_row1_col6\" class=\"data row1 col6\" >0.6397</td>\n",
       "      <td id=\"T_64f4d_row1_col7\" class=\"data row1 col7\" >0.6417</td>\n",
       "      <td id=\"T_64f4d_row1_col8\" class=\"data row1 col8\" >4.9530</td>\n",
       "    </tr>\n",
       "    <tr>\n",
       "      <th id=\"T_64f4d_level0_row2\" class=\"row_heading level0 row2\" >rf</th>\n",
       "      <td id=\"T_64f4d_row2_col0\" class=\"data row2 col0\" >Random Forest Classifier</td>\n",
       "      <td id=\"T_64f4d_row2_col1\" class=\"data row2 col1\" >0.7273</td>\n",
       "      <td id=\"T_64f4d_row2_col2\" class=\"data row2 col2\" >0.9080</td>\n",
       "      <td id=\"T_64f4d_row2_col3\" class=\"data row2 col3\" >0.7273</td>\n",
       "      <td id=\"T_64f4d_row2_col4\" class=\"data row2 col4\" >0.7420</td>\n",
       "      <td id=\"T_64f4d_row2_col5\" class=\"data row2 col5\" >0.7270</td>\n",
       "      <td id=\"T_64f4d_row2_col6\" class=\"data row2 col6\" >0.6365</td>\n",
       "      <td id=\"T_64f4d_row2_col7\" class=\"data row2 col7\" >0.6411</td>\n",
       "      <td id=\"T_64f4d_row2_col8\" class=\"data row2 col8\" >0.9820</td>\n",
       "    </tr>\n",
       "    <tr>\n",
       "      <th id=\"T_64f4d_level0_row3\" class=\"row_heading level0 row3\" >et</th>\n",
       "      <td id=\"T_64f4d_row3_col0\" class=\"data row3 col0\" >Extra Trees Classifier</td>\n",
       "      <td id=\"T_64f4d_row3_col1\" class=\"data row3 col1\" >0.7249</td>\n",
       "      <td id=\"T_64f4d_row3_col2\" class=\"data row3 col2\" >0.9130</td>\n",
       "      <td id=\"T_64f4d_row3_col3\" class=\"data row3 col3\" >0.7249</td>\n",
       "      <td id=\"T_64f4d_row3_col4\" class=\"data row3 col4\" >0.7416</td>\n",
       "      <td id=\"T_64f4d_row3_col5\" class=\"data row3 col5\" >0.7237</td>\n",
       "      <td id=\"T_64f4d_row3_col6\" class=\"data row3 col6\" >0.6332</td>\n",
       "      <td id=\"T_64f4d_row3_col7\" class=\"data row3 col7\" >0.6390</td>\n",
       "      <td id=\"T_64f4d_row3_col8\" class=\"data row3 col8\" >0.9570</td>\n",
       "    </tr>\n",
       "    <tr>\n",
       "      <th id=\"T_64f4d_level0_row4\" class=\"row_heading level0 row4\" >nb</th>\n",
       "      <td id=\"T_64f4d_row4_col0\" class=\"data row4 col0\" >Naive Bayes</td>\n",
       "      <td id=\"T_64f4d_row4_col1\" class=\"data row4 col1\" >0.6276</td>\n",
       "      <td id=\"T_64f4d_row4_col2\" class=\"data row4 col2\" >0.8124</td>\n",
       "      <td id=\"T_64f4d_row4_col3\" class=\"data row4 col3\" >0.6276</td>\n",
       "      <td id=\"T_64f4d_row4_col4\" class=\"data row4 col4\" >0.6482</td>\n",
       "      <td id=\"T_64f4d_row4_col5\" class=\"data row4 col5\" >0.6222</td>\n",
       "      <td id=\"T_64f4d_row4_col6\" class=\"data row4 col6\" >0.5035</td>\n",
       "      <td id=\"T_64f4d_row4_col7\" class=\"data row4 col7\" >0.5110</td>\n",
       "      <td id=\"T_64f4d_row4_col8\" class=\"data row4 col8\" >0.3460</td>\n",
       "    </tr>\n",
       "    <tr>\n",
       "      <th id=\"T_64f4d_level0_row5\" class=\"row_heading level0 row5\" >ada</th>\n",
       "      <td id=\"T_64f4d_row5_col0\" class=\"data row5 col0\" >Ada Boost Classifier</td>\n",
       "      <td id=\"T_64f4d_row5_col1\" class=\"data row5 col1\" >0.6010</td>\n",
       "      <td id=\"T_64f4d_row5_col2\" class=\"data row5 col2\" >0.7903</td>\n",
       "      <td id=\"T_64f4d_row5_col3\" class=\"data row5 col3\" >0.6010</td>\n",
       "      <td id=\"T_64f4d_row5_col4\" class=\"data row5 col4\" >0.6115</td>\n",
       "      <td id=\"T_64f4d_row5_col5\" class=\"data row5 col5\" >0.6003</td>\n",
       "      <td id=\"T_64f4d_row5_col6\" class=\"data row5 col6\" >0.4680</td>\n",
       "      <td id=\"T_64f4d_row5_col7\" class=\"data row5 col7\" >0.4709</td>\n",
       "      <td id=\"T_64f4d_row5_col8\" class=\"data row5 col8\" >0.9970</td>\n",
       "    </tr>\n",
       "    <tr>\n",
       "      <th id=\"T_64f4d_level0_row6\" class=\"row_heading level0 row6\" >lr</th>\n",
       "      <td id=\"T_64f4d_row6_col0\" class=\"data row6 col0\" >Logistic Regression</td>\n",
       "      <td id=\"T_64f4d_row6_col1\" class=\"data row6 col1\" >0.5583</td>\n",
       "      <td id=\"T_64f4d_row6_col2\" class=\"data row6 col2\" >0.7940</td>\n",
       "      <td id=\"T_64f4d_row6_col3\" class=\"data row6 col3\" >0.5583</td>\n",
       "      <td id=\"T_64f4d_row6_col4\" class=\"data row6 col4\" >0.5614</td>\n",
       "      <td id=\"T_64f4d_row6_col5\" class=\"data row6 col5\" >0.5574</td>\n",
       "      <td id=\"T_64f4d_row6_col6\" class=\"data row6 col6\" >0.4110</td>\n",
       "      <td id=\"T_64f4d_row6_col7\" class=\"data row6 col7\" >0.4122</td>\n",
       "      <td id=\"T_64f4d_row6_col8\" class=\"data row6 col8\" >6.5260</td>\n",
       "    </tr>\n",
       "    <tr>\n",
       "      <th id=\"T_64f4d_level0_row7\" class=\"row_heading level0 row7\" >dt</th>\n",
       "      <td id=\"T_64f4d_row7_col0\" class=\"data row7 col0\" >Decision Tree Classifier</td>\n",
       "      <td id=\"T_64f4d_row7_col1\" class=\"data row7 col1\" >0.5536</td>\n",
       "      <td id=\"T_64f4d_row7_col2\" class=\"data row7 col2\" >0.7024</td>\n",
       "      <td id=\"T_64f4d_row7_col3\" class=\"data row7 col3\" >0.5536</td>\n",
       "      <td id=\"T_64f4d_row7_col4\" class=\"data row7 col4\" >0.5603</td>\n",
       "      <td id=\"T_64f4d_row7_col5\" class=\"data row7 col5\" >0.5540</td>\n",
       "      <td id=\"T_64f4d_row7_col6\" class=\"data row7 col6\" >0.4049</td>\n",
       "      <td id=\"T_64f4d_row7_col7\" class=\"data row7 col7\" >0.4065</td>\n",
       "      <td id=\"T_64f4d_row7_col8\" class=\"data row7 col8\" >0.4660</td>\n",
       "    </tr>\n",
       "    <tr>\n",
       "      <th id=\"T_64f4d_level0_row8\" class=\"row_heading level0 row8\" >lda</th>\n",
       "      <td id=\"T_64f4d_row8_col0\" class=\"data row8 col0\" >Linear Discriminant Analysis</td>\n",
       "      <td id=\"T_64f4d_row8_col1\" class=\"data row8 col1\" >0.5519</td>\n",
       "      <td id=\"T_64f4d_row8_col2\" class=\"data row8 col2\" >0.7401</td>\n",
       "      <td id=\"T_64f4d_row8_col3\" class=\"data row8 col3\" >0.5519</td>\n",
       "      <td id=\"T_64f4d_row8_col4\" class=\"data row8 col4\" >0.5674</td>\n",
       "      <td id=\"T_64f4d_row8_col5\" class=\"data row8 col5\" >0.5465</td>\n",
       "      <td id=\"T_64f4d_row8_col6\" class=\"data row8 col6\" >0.4026</td>\n",
       "      <td id=\"T_64f4d_row8_col7\" class=\"data row8 col7\" >0.4098</td>\n",
       "      <td id=\"T_64f4d_row8_col8\" class=\"data row8 col8\" >1.5510</td>\n",
       "    </tr>\n",
       "    <tr>\n",
       "      <th id=\"T_64f4d_level0_row9\" class=\"row_heading level0 row9\" >ridge</th>\n",
       "      <td id=\"T_64f4d_row9_col0\" class=\"data row9 col0\" >Ridge Classifier</td>\n",
       "      <td id=\"T_64f4d_row9_col1\" class=\"data row9 col1\" >0.5512</td>\n",
       "      <td id=\"T_64f4d_row9_col2\" class=\"data row9 col2\" >0.0000</td>\n",
       "      <td id=\"T_64f4d_row9_col3\" class=\"data row9 col3\" >0.5512</td>\n",
       "      <td id=\"T_64f4d_row9_col4\" class=\"data row9 col4\" >0.5666</td>\n",
       "      <td id=\"T_64f4d_row9_col5\" class=\"data row9 col5\" >0.5469</td>\n",
       "      <td id=\"T_64f4d_row9_col6\" class=\"data row9 col6\" >0.4015</td>\n",
       "      <td id=\"T_64f4d_row9_col7\" class=\"data row9 col7\" >0.4081</td>\n",
       "      <td id=\"T_64f4d_row9_col8\" class=\"data row9 col8\" >0.5770</td>\n",
       "    </tr>\n",
       "    <tr>\n",
       "      <th id=\"T_64f4d_level0_row10\" class=\"row_heading level0 row10\" >knn</th>\n",
       "      <td id=\"T_64f4d_row10_col0\" class=\"data row10 col0\" >K Neighbors Classifier</td>\n",
       "      <td id=\"T_64f4d_row10_col1\" class=\"data row10 col1\" >0.5407</td>\n",
       "      <td id=\"T_64f4d_row10_col2\" class=\"data row10 col2\" >0.7799</td>\n",
       "      <td id=\"T_64f4d_row10_col3\" class=\"data row10 col3\" >0.5407</td>\n",
       "      <td id=\"T_64f4d_row10_col4\" class=\"data row10 col4\" >0.5725</td>\n",
       "      <td id=\"T_64f4d_row10_col5\" class=\"data row10 col5\" >0.5337</td>\n",
       "      <td id=\"T_64f4d_row10_col6\" class=\"data row10 col6\" >0.3874</td>\n",
       "      <td id=\"T_64f4d_row10_col7\" class=\"data row10 col7\" >0.3965</td>\n",
       "      <td id=\"T_64f4d_row10_col8\" class=\"data row10 col8\" >0.5560</td>\n",
       "    </tr>\n",
       "    <tr>\n",
       "      <th id=\"T_64f4d_level0_row11\" class=\"row_heading level0 row11\" >svm</th>\n",
       "      <td id=\"T_64f4d_row11_col0\" class=\"data row11 col0\" >SVM - Linear Kernel</td>\n",
       "      <td id=\"T_64f4d_row11_col1\" class=\"data row11 col1\" >0.4675</td>\n",
       "      <td id=\"T_64f4d_row11_col2\" class=\"data row11 col2\" >0.0000</td>\n",
       "      <td id=\"T_64f4d_row11_col3\" class=\"data row11 col3\" >0.4675</td>\n",
       "      <td id=\"T_64f4d_row11_col4\" class=\"data row11 col4\" >0.4874</td>\n",
       "      <td id=\"T_64f4d_row11_col5\" class=\"data row11 col5\" >0.4312</td>\n",
       "      <td id=\"T_64f4d_row11_col6\" class=\"data row11 col6\" >0.2905</td>\n",
       "      <td id=\"T_64f4d_row11_col7\" class=\"data row11 col7\" >0.3109</td>\n",
       "      <td id=\"T_64f4d_row11_col8\" class=\"data row11 col8\" >0.5330</td>\n",
       "    </tr>\n",
       "    <tr>\n",
       "      <th id=\"T_64f4d_level0_row12\" class=\"row_heading level0 row12\" >qda</th>\n",
       "      <td id=\"T_64f4d_row12_col0\" class=\"data row12 col0\" >Quadratic Discriminant Analysis</td>\n",
       "      <td id=\"T_64f4d_row12_col1\" class=\"data row12 col1\" >0.3717</td>\n",
       "      <td id=\"T_64f4d_row12_col2\" class=\"data row12 col2\" >0.5811</td>\n",
       "      <td id=\"T_64f4d_row12_col3\" class=\"data row12 col3\" >0.3717</td>\n",
       "      <td id=\"T_64f4d_row12_col4\" class=\"data row12 col4\" >0.3979</td>\n",
       "      <td id=\"T_64f4d_row12_col5\" class=\"data row12 col5\" >0.3287</td>\n",
       "      <td id=\"T_64f4d_row12_col6\" class=\"data row12 col6\" >0.1623</td>\n",
       "      <td id=\"T_64f4d_row12_col7\" class=\"data row12 col7\" >0.1769</td>\n",
       "      <td id=\"T_64f4d_row12_col8\" class=\"data row12 col8\" >0.5950</td>\n",
       "    </tr>\n",
       "    <tr>\n",
       "      <th id=\"T_64f4d_level0_row13\" class=\"row_heading level0 row13\" >dummy</th>\n",
       "      <td id=\"T_64f4d_row13_col0\" class=\"data row13 col0\" >Dummy Classifier</td>\n",
       "      <td id=\"T_64f4d_row13_col1\" class=\"data row13 col1\" >0.2494</td>\n",
       "      <td id=\"T_64f4d_row13_col2\" class=\"data row13 col2\" >0.5000</td>\n",
       "      <td id=\"T_64f4d_row13_col3\" class=\"data row13 col3\" >0.2494</td>\n",
       "      <td id=\"T_64f4d_row13_col4\" class=\"data row13 col4\" >0.0622</td>\n",
       "      <td id=\"T_64f4d_row13_col5\" class=\"data row13 col5\" >0.0996</td>\n",
       "      <td id=\"T_64f4d_row13_col6\" class=\"data row13 col6\" >0.0000</td>\n",
       "      <td id=\"T_64f4d_row13_col7\" class=\"data row13 col7\" >0.0000</td>\n",
       "      <td id=\"T_64f4d_row13_col8\" class=\"data row13 col8\" >0.3330</td>\n",
       "    </tr>\n",
       "  </tbody>\n",
       "</table>\n"
      ],
      "text/plain": [
       "<pandas.io.formats.style.Styler at 0x7fd4710eced0>"
      ]
     },
     "metadata": {},
     "output_type": "display_data"
    },
    {
     "data": {
      "application/vnd.jupyter.widget-view+json": {
       "model_id": "",
       "version_major": 2,
       "version_minor": 0
      },
      "text/plain": [
       "Processing:   0%|          | 0/61 [00:00<?, ?it/s]"
      ]
     },
     "metadata": {},
     "output_type": "display_data"
    }
   ],
   "source": [
    "best = compare_models()"
   ]
  },
  {
   "cell_type": "code",
   "execution_count": 12,
   "metadata": {},
   "outputs": [
    {
     "data": {
      "text/html": [],
      "text/plain": [
       "<IPython.core.display.HTML object>"
      ]
     },
     "metadata": {},
     "output_type": "display_data"
    },
    {
     "data": {
      "text/html": [
       "<style type=\"text/css\">\n",
       "#T_0e0d9_row10_col0, #T_0e0d9_row10_col1, #T_0e0d9_row10_col2, #T_0e0d9_row10_col3, #T_0e0d9_row10_col4, #T_0e0d9_row10_col5, #T_0e0d9_row10_col6 {\n",
       "  background: yellow;\n",
       "}\n",
       "</style>\n",
       "<table id=\"T_0e0d9_\">\n",
       "  <thead>\n",
       "    <tr>\n",
       "      <th class=\"blank level0\" >&nbsp;</th>\n",
       "      <th class=\"col_heading level0 col0\" >Accuracy</th>\n",
       "      <th class=\"col_heading level0 col1\" >AUC</th>\n",
       "      <th class=\"col_heading level0 col2\" >Recall</th>\n",
       "      <th class=\"col_heading level0 col3\" >Prec.</th>\n",
       "      <th class=\"col_heading level0 col4\" >F1</th>\n",
       "      <th class=\"col_heading level0 col5\" >Kappa</th>\n",
       "      <th class=\"col_heading level0 col6\" >MCC</th>\n",
       "    </tr>\n",
       "    <tr>\n",
       "      <th class=\"index_name level0\" >Fold</th>\n",
       "      <th class=\"blank col0\" >&nbsp;</th>\n",
       "      <th class=\"blank col1\" >&nbsp;</th>\n",
       "      <th class=\"blank col2\" >&nbsp;</th>\n",
       "      <th class=\"blank col3\" >&nbsp;</th>\n",
       "      <th class=\"blank col4\" >&nbsp;</th>\n",
       "      <th class=\"blank col5\" >&nbsp;</th>\n",
       "      <th class=\"blank col6\" >&nbsp;</th>\n",
       "    </tr>\n",
       "  </thead>\n",
       "  <tbody>\n",
       "    <tr>\n",
       "      <th id=\"T_0e0d9_level0_row0\" class=\"row_heading level0 row0\" >0</th>\n",
       "      <td id=\"T_0e0d9_row0_col0\" class=\"data row0 col0\" >0.7120</td>\n",
       "      <td id=\"T_0e0d9_row0_col1\" class=\"data row0 col1\" >0.8959</td>\n",
       "      <td id=\"T_0e0d9_row0_col2\" class=\"data row0 col2\" >0.7120</td>\n",
       "      <td id=\"T_0e0d9_row0_col3\" class=\"data row0 col3\" >0.7179</td>\n",
       "      <td id=\"T_0e0d9_row0_col4\" class=\"data row0 col4\" >0.7120</td>\n",
       "      <td id=\"T_0e0d9_row0_col5\" class=\"data row0 col5\" >0.6159</td>\n",
       "      <td id=\"T_0e0d9_row0_col6\" class=\"data row0 col6\" >0.6177</td>\n",
       "    </tr>\n",
       "    <tr>\n",
       "      <th id=\"T_0e0d9_level0_row1\" class=\"row_heading level0 row1\" >1</th>\n",
       "      <td id=\"T_0e0d9_row1_col0\" class=\"data row1 col0\" >0.7440</td>\n",
       "      <td id=\"T_0e0d9_row1_col1\" class=\"data row1 col1\" >0.9195</td>\n",
       "      <td id=\"T_0e0d9_row1_col2\" class=\"data row1 col2\" >0.7440</td>\n",
       "      <td id=\"T_0e0d9_row1_col3\" class=\"data row1 col3\" >0.7541</td>\n",
       "      <td id=\"T_0e0d9_row1_col4\" class=\"data row1 col4\" >0.7467</td>\n",
       "      <td id=\"T_0e0d9_row1_col5\" class=\"data row1 col5\" >0.6585</td>\n",
       "      <td id=\"T_0e0d9_row1_col6\" class=\"data row1 col6\" >0.6600</td>\n",
       "    </tr>\n",
       "    <tr>\n",
       "      <th id=\"T_0e0d9_level0_row2\" class=\"row_heading level0 row2\" >2</th>\n",
       "      <td id=\"T_0e0d9_row2_col0\" class=\"data row2 col0\" >0.7520</td>\n",
       "      <td id=\"T_0e0d9_row2_col1\" class=\"data row2 col1\" >0.9225</td>\n",
       "      <td id=\"T_0e0d9_row2_col2\" class=\"data row2 col2\" >0.7520</td>\n",
       "      <td id=\"T_0e0d9_row2_col3\" class=\"data row2 col3\" >0.7597</td>\n",
       "      <td id=\"T_0e0d9_row2_col4\" class=\"data row2 col4\" >0.7530</td>\n",
       "      <td id=\"T_0e0d9_row2_col5\" class=\"data row2 col5\" >0.6694</td>\n",
       "      <td id=\"T_0e0d9_row2_col6\" class=\"data row2 col6\" >0.6714</td>\n",
       "    </tr>\n",
       "    <tr>\n",
       "      <th id=\"T_0e0d9_level0_row3\" class=\"row_heading level0 row3\" >3</th>\n",
       "      <td id=\"T_0e0d9_row3_col0\" class=\"data row3 col0\" >0.7339</td>\n",
       "      <td id=\"T_0e0d9_row3_col1\" class=\"data row3 col1\" >0.9156</td>\n",
       "      <td id=\"T_0e0d9_row3_col2\" class=\"data row3 col2\" >0.7339</td>\n",
       "      <td id=\"T_0e0d9_row3_col3\" class=\"data row3 col3\" >0.7459</td>\n",
       "      <td id=\"T_0e0d9_row3_col4\" class=\"data row3 col4\" >0.7342</td>\n",
       "      <td id=\"T_0e0d9_row3_col5\" class=\"data row3 col5\" >0.6452</td>\n",
       "      <td id=\"T_0e0d9_row3_col6\" class=\"data row3 col6\" >0.6485</td>\n",
       "    </tr>\n",
       "    <tr>\n",
       "      <th id=\"T_0e0d9_level0_row4\" class=\"row_heading level0 row4\" >4</th>\n",
       "      <td id=\"T_0e0d9_row4_col0\" class=\"data row4 col0\" >0.7823</td>\n",
       "      <td id=\"T_0e0d9_row4_col1\" class=\"data row4 col1\" >0.9485</td>\n",
       "      <td id=\"T_0e0d9_row4_col2\" class=\"data row4 col2\" >0.7823</td>\n",
       "      <td id=\"T_0e0d9_row4_col3\" class=\"data row4 col3\" >0.7991</td>\n",
       "      <td id=\"T_0e0d9_row4_col4\" class=\"data row4 col4\" >0.7862</td>\n",
       "      <td id=\"T_0e0d9_row4_col5\" class=\"data row4 col5\" >0.7097</td>\n",
       "      <td id=\"T_0e0d9_row4_col6\" class=\"data row4 col6\" >0.7130</td>\n",
       "    </tr>\n",
       "    <tr>\n",
       "      <th id=\"T_0e0d9_level0_row5\" class=\"row_heading level0 row5\" >5</th>\n",
       "      <td id=\"T_0e0d9_row5_col0\" class=\"data row5 col0\" >0.7500</td>\n",
       "      <td id=\"T_0e0d9_row5_col1\" class=\"data row5 col1\" >0.9405</td>\n",
       "      <td id=\"T_0e0d9_row5_col2\" class=\"data row5 col2\" >0.7500</td>\n",
       "      <td id=\"T_0e0d9_row5_col3\" class=\"data row5 col3\" >0.7545</td>\n",
       "      <td id=\"T_0e0d9_row5_col4\" class=\"data row5 col4\" >0.7487</td>\n",
       "      <td id=\"T_0e0d9_row5_col5\" class=\"data row5 col5\" >0.6667</td>\n",
       "      <td id=\"T_0e0d9_row5_col6\" class=\"data row5 col6\" >0.6688</td>\n",
       "    </tr>\n",
       "    <tr>\n",
       "      <th id=\"T_0e0d9_level0_row6\" class=\"row_heading level0 row6\" >6</th>\n",
       "      <td id=\"T_0e0d9_row6_col0\" class=\"data row6 col0\" >0.7581</td>\n",
       "      <td id=\"T_0e0d9_row6_col1\" class=\"data row6 col1\" >0.9260</td>\n",
       "      <td id=\"T_0e0d9_row6_col2\" class=\"data row6 col2\" >0.7581</td>\n",
       "      <td id=\"T_0e0d9_row6_col3\" class=\"data row6 col3\" >0.7589</td>\n",
       "      <td id=\"T_0e0d9_row6_col4\" class=\"data row6 col4\" >0.7580</td>\n",
       "      <td id=\"T_0e0d9_row6_col5\" class=\"data row6 col5\" >0.6774</td>\n",
       "      <td id=\"T_0e0d9_row6_col6\" class=\"data row6 col6\" >0.6777</td>\n",
       "    </tr>\n",
       "    <tr>\n",
       "      <th id=\"T_0e0d9_level0_row7\" class=\"row_heading level0 row7\" >7</th>\n",
       "      <td id=\"T_0e0d9_row7_col0\" class=\"data row7 col0\" >0.7984</td>\n",
       "      <td id=\"T_0e0d9_row7_col1\" class=\"data row7 col1\" >0.9409</td>\n",
       "      <td id=\"T_0e0d9_row7_col2\" class=\"data row7 col2\" >0.7984</td>\n",
       "      <td id=\"T_0e0d9_row7_col3\" class=\"data row7 col3\" >0.8141</td>\n",
       "      <td id=\"T_0e0d9_row7_col4\" class=\"data row7 col4\" >0.7991</td>\n",
       "      <td id=\"T_0e0d9_row7_col5\" class=\"data row7 col5\" >0.7312</td>\n",
       "      <td id=\"T_0e0d9_row7_col6\" class=\"data row7 col6\" >0.7360</td>\n",
       "    </tr>\n",
       "    <tr>\n",
       "      <th id=\"T_0e0d9_level0_row8\" class=\"row_heading level0 row8\" >8</th>\n",
       "      <td id=\"T_0e0d9_row8_col0\" class=\"data row8 col0\" >0.7823</td>\n",
       "      <td id=\"T_0e0d9_row8_col1\" class=\"data row8 col1\" >0.9395</td>\n",
       "      <td id=\"T_0e0d9_row8_col2\" class=\"data row8 col2\" >0.7823</td>\n",
       "      <td id=\"T_0e0d9_row8_col3\" class=\"data row8 col3\" >0.7832</td>\n",
       "      <td id=\"T_0e0d9_row8_col4\" class=\"data row8 col4\" >0.7818</td>\n",
       "      <td id=\"T_0e0d9_row8_col5\" class=\"data row8 col5\" >0.7097</td>\n",
       "      <td id=\"T_0e0d9_row8_col6\" class=\"data row8 col6\" >0.7103</td>\n",
       "    </tr>\n",
       "    <tr>\n",
       "      <th id=\"T_0e0d9_level0_row9\" class=\"row_heading level0 row9\" >9</th>\n",
       "      <td id=\"T_0e0d9_row9_col0\" class=\"data row9 col0\" >0.7742</td>\n",
       "      <td id=\"T_0e0d9_row9_col1\" class=\"data row9 col1\" >0.9353</td>\n",
       "      <td id=\"T_0e0d9_row9_col2\" class=\"data row9 col2\" >0.7742</td>\n",
       "      <td id=\"T_0e0d9_row9_col3\" class=\"data row9 col3\" >0.7778</td>\n",
       "      <td id=\"T_0e0d9_row9_col4\" class=\"data row9 col4\" >0.7741</td>\n",
       "      <td id=\"T_0e0d9_row9_col5\" class=\"data row9 col5\" >0.6989</td>\n",
       "      <td id=\"T_0e0d9_row9_col6\" class=\"data row9 col6\" >0.7001</td>\n",
       "    </tr>\n",
       "    <tr>\n",
       "      <th id=\"T_0e0d9_level0_row10\" class=\"row_heading level0 row10\" >Mean</th>\n",
       "      <td id=\"T_0e0d9_row10_col0\" class=\"data row10 col0\" >0.7587</td>\n",
       "      <td id=\"T_0e0d9_row10_col1\" class=\"data row10 col1\" >0.9284</td>\n",
       "      <td id=\"T_0e0d9_row10_col2\" class=\"data row10 col2\" >0.7587</td>\n",
       "      <td id=\"T_0e0d9_row10_col3\" class=\"data row10 col3\" >0.7665</td>\n",
       "      <td id=\"T_0e0d9_row10_col4\" class=\"data row10 col4\" >0.7594</td>\n",
       "      <td id=\"T_0e0d9_row10_col5\" class=\"data row10 col5\" >0.6783</td>\n",
       "      <td id=\"T_0e0d9_row10_col6\" class=\"data row10 col6\" >0.6804</td>\n",
       "    </tr>\n",
       "    <tr>\n",
       "      <th id=\"T_0e0d9_level0_row11\" class=\"row_heading level0 row11\" >Std</th>\n",
       "      <td id=\"T_0e0d9_row11_col0\" class=\"data row11 col0\" >0.0246</td>\n",
       "      <td id=\"T_0e0d9_row11_col1\" class=\"data row11 col1\" >0.0149</td>\n",
       "      <td id=\"T_0e0d9_row11_col2\" class=\"data row11 col2\" >0.0246</td>\n",
       "      <td id=\"T_0e0d9_row11_col3\" class=\"data row11 col3\" >0.0263</td>\n",
       "      <td id=\"T_0e0d9_row11_col4\" class=\"data row11 col4\" >0.0249</td>\n",
       "      <td id=\"T_0e0d9_row11_col5\" class=\"data row11 col5\" >0.0328</td>\n",
       "      <td id=\"T_0e0d9_row11_col6\" class=\"data row11 col6\" >0.0332</td>\n",
       "    </tr>\n",
       "  </tbody>\n",
       "</table>\n"
      ],
      "text/plain": [
       "<pandas.io.formats.style.Styler at 0x7fd476caaf50>"
      ]
     },
     "metadata": {},
     "output_type": "display_data"
    },
    {
     "data": {
      "application/vnd.jupyter.widget-view+json": {
       "model_id": "",
       "version_major": 2,
       "version_minor": 0
      },
      "text/plain": [
       "Processing:   0%|          | 0/4 [00:00<?, ?it/s]"
      ]
     },
     "metadata": {},
     "output_type": "display_data"
    }
   ],
   "source": [
    "lightgbm = create_model('lightgbm')\n",
    "#gbc = create_model('Gradient Boosting Classifier')\n",
    "#rf = create_model('Random Forest Classifier')\n",
    "#et = create_model('Extra Trees Classifier')\n",
    "#nb = create_model('Naive Bayes')"
   ]
  },
  {
   "cell_type": "code",
   "execution_count": 13,
   "metadata": {},
   "outputs": [
    {
     "data": {
      "text/html": [],
      "text/plain": [
       "<IPython.core.display.HTML object>"
      ]
     },
     "metadata": {},
     "output_type": "display_data"
    },
    {
     "data": {
      "text/html": [
       "<style type=\"text/css\">\n",
       "#T_8afd0_row10_col0, #T_8afd0_row10_col1, #T_8afd0_row10_col2, #T_8afd0_row10_col3, #T_8afd0_row10_col4, #T_8afd0_row10_col5, #T_8afd0_row10_col6 {\n",
       "  background: yellow;\n",
       "}\n",
       "</style>\n",
       "<table id=\"T_8afd0_\">\n",
       "  <thead>\n",
       "    <tr>\n",
       "      <th class=\"blank level0\" >&nbsp;</th>\n",
       "      <th class=\"col_heading level0 col0\" >Accuracy</th>\n",
       "      <th class=\"col_heading level0 col1\" >AUC</th>\n",
       "      <th class=\"col_heading level0 col2\" >Recall</th>\n",
       "      <th class=\"col_heading level0 col3\" >Prec.</th>\n",
       "      <th class=\"col_heading level0 col4\" >F1</th>\n",
       "      <th class=\"col_heading level0 col5\" >Kappa</th>\n",
       "      <th class=\"col_heading level0 col6\" >MCC</th>\n",
       "    </tr>\n",
       "    <tr>\n",
       "      <th class=\"index_name level0\" >Fold</th>\n",
       "      <th class=\"blank col0\" >&nbsp;</th>\n",
       "      <th class=\"blank col1\" >&nbsp;</th>\n",
       "      <th class=\"blank col2\" >&nbsp;</th>\n",
       "      <th class=\"blank col3\" >&nbsp;</th>\n",
       "      <th class=\"blank col4\" >&nbsp;</th>\n",
       "      <th class=\"blank col5\" >&nbsp;</th>\n",
       "      <th class=\"blank col6\" >&nbsp;</th>\n",
       "    </tr>\n",
       "  </thead>\n",
       "  <tbody>\n",
       "    <tr>\n",
       "      <th id=\"T_8afd0_level0_row0\" class=\"row_heading level0 row0\" >0</th>\n",
       "      <td id=\"T_8afd0_row0_col0\" class=\"data row0 col0\" >0.6640</td>\n",
       "      <td id=\"T_8afd0_row0_col1\" class=\"data row0 col1\" >0.8773</td>\n",
       "      <td id=\"T_8afd0_row0_col2\" class=\"data row0 col2\" >0.6640</td>\n",
       "      <td id=\"T_8afd0_row0_col3\" class=\"data row0 col3\" >0.6685</td>\n",
       "      <td id=\"T_8afd0_row0_col4\" class=\"data row0 col4\" >0.6649</td>\n",
       "      <td id=\"T_8afd0_row0_col5\" class=\"data row0 col5\" >0.5520</td>\n",
       "      <td id=\"T_8afd0_row0_col6\" class=\"data row0 col6\" >0.5527</td>\n",
       "    </tr>\n",
       "    <tr>\n",
       "      <th id=\"T_8afd0_level0_row1\" class=\"row_heading level0 row1\" >1</th>\n",
       "      <td id=\"T_8afd0_row1_col0\" class=\"data row1 col0\" >0.6880</td>\n",
       "      <td id=\"T_8afd0_row1_col1\" class=\"data row1 col1\" >0.9082</td>\n",
       "      <td id=\"T_8afd0_row1_col2\" class=\"data row1 col2\" >0.6880</td>\n",
       "      <td id=\"T_8afd0_row1_col3\" class=\"data row1 col3\" >0.6950</td>\n",
       "      <td id=\"T_8afd0_row1_col4\" class=\"data row1 col4\" >0.6899</td>\n",
       "      <td id=\"T_8afd0_row1_col5\" class=\"data row1 col5\" >0.5838</td>\n",
       "      <td id=\"T_8afd0_row1_col6\" class=\"data row1 col6\" >0.5847</td>\n",
       "    </tr>\n",
       "    <tr>\n",
       "      <th id=\"T_8afd0_level0_row2\" class=\"row_heading level0 row2\" >2</th>\n",
       "      <td id=\"T_8afd0_row2_col0\" class=\"data row2 col0\" >0.6800</td>\n",
       "      <td id=\"T_8afd0_row2_col1\" class=\"data row2 col1\" >0.9082</td>\n",
       "      <td id=\"T_8afd0_row2_col2\" class=\"data row2 col2\" >0.6800</td>\n",
       "      <td id=\"T_8afd0_row2_col3\" class=\"data row2 col3\" >0.6765</td>\n",
       "      <td id=\"T_8afd0_row2_col4\" class=\"data row2 col4\" >0.6777</td>\n",
       "      <td id=\"T_8afd0_row2_col5\" class=\"data row2 col5\" >0.5734</td>\n",
       "      <td id=\"T_8afd0_row2_col6\" class=\"data row2 col6\" >0.5738</td>\n",
       "    </tr>\n",
       "    <tr>\n",
       "      <th id=\"T_8afd0_level0_row3\" class=\"row_heading level0 row3\" >3</th>\n",
       "      <td id=\"T_8afd0_row3_col0\" class=\"data row3 col0\" >0.6935</td>\n",
       "      <td id=\"T_8afd0_row3_col1\" class=\"data row3 col1\" >0.8863</td>\n",
       "      <td id=\"T_8afd0_row3_col2\" class=\"data row3 col2\" >0.6935</td>\n",
       "      <td id=\"T_8afd0_row3_col3\" class=\"data row3 col3\" >0.6952</td>\n",
       "      <td id=\"T_8afd0_row3_col4\" class=\"data row3 col4\" >0.6920</td>\n",
       "      <td id=\"T_8afd0_row3_col5\" class=\"data row3 col5\" >0.5914</td>\n",
       "      <td id=\"T_8afd0_row3_col6\" class=\"data row3 col6\" >0.5927</td>\n",
       "    </tr>\n",
       "    <tr>\n",
       "      <th id=\"T_8afd0_level0_row4\" class=\"row_heading level0 row4\" >4</th>\n",
       "      <td id=\"T_8afd0_row4_col0\" class=\"data row4 col0\" >0.7984</td>\n",
       "      <td id=\"T_8afd0_row4_col1\" class=\"data row4 col1\" >0.9433</td>\n",
       "      <td id=\"T_8afd0_row4_col2\" class=\"data row4 col2\" >0.7984</td>\n",
       "      <td id=\"T_8afd0_row4_col3\" class=\"data row4 col3\" >0.8010</td>\n",
       "      <td id=\"T_8afd0_row4_col4\" class=\"data row4 col4\" >0.7979</td>\n",
       "      <td id=\"T_8afd0_row4_col5\" class=\"data row4 col5\" >0.7312</td>\n",
       "      <td id=\"T_8afd0_row4_col6\" class=\"data row4 col6\" >0.7324</td>\n",
       "    </tr>\n",
       "    <tr>\n",
       "      <th id=\"T_8afd0_level0_row5\" class=\"row_heading level0 row5\" >5</th>\n",
       "      <td id=\"T_8afd0_row5_col0\" class=\"data row5 col0\" >0.7419</td>\n",
       "      <td id=\"T_8afd0_row5_col1\" class=\"data row5 col1\" >0.9226</td>\n",
       "      <td id=\"T_8afd0_row5_col2\" class=\"data row5 col2\" >0.7419</td>\n",
       "      <td id=\"T_8afd0_row5_col3\" class=\"data row5 col3\" >0.7434</td>\n",
       "      <td id=\"T_8afd0_row5_col4\" class=\"data row5 col4\" >0.7420</td>\n",
       "      <td id=\"T_8afd0_row5_col5\" class=\"data row5 col5\" >0.6559</td>\n",
       "      <td id=\"T_8afd0_row5_col6\" class=\"data row5 col6\" >0.6563</td>\n",
       "    </tr>\n",
       "    <tr>\n",
       "      <th id=\"T_8afd0_level0_row6\" class=\"row_heading level0 row6\" >6</th>\n",
       "      <td id=\"T_8afd0_row6_col0\" class=\"data row6 col0\" >0.7419</td>\n",
       "      <td id=\"T_8afd0_row6_col1\" class=\"data row6 col1\" >0.9135</td>\n",
       "      <td id=\"T_8afd0_row6_col2\" class=\"data row6 col2\" >0.7419</td>\n",
       "      <td id=\"T_8afd0_row6_col3\" class=\"data row6 col3\" >0.7441</td>\n",
       "      <td id=\"T_8afd0_row6_col4\" class=\"data row6 col4\" >0.7422</td>\n",
       "      <td id=\"T_8afd0_row6_col5\" class=\"data row6 col5\" >0.6559</td>\n",
       "      <td id=\"T_8afd0_row6_col6\" class=\"data row6 col6\" >0.6564</td>\n",
       "    </tr>\n",
       "    <tr>\n",
       "      <th id=\"T_8afd0_level0_row7\" class=\"row_heading level0 row7\" >7</th>\n",
       "      <td id=\"T_8afd0_row7_col0\" class=\"data row7 col0\" >0.7742</td>\n",
       "      <td id=\"T_8afd0_row7_col1\" class=\"data row7 col1\" >0.9290</td>\n",
       "      <td id=\"T_8afd0_row7_col2\" class=\"data row7 col2\" >0.7742</td>\n",
       "      <td id=\"T_8afd0_row7_col3\" class=\"data row7 col3\" >0.7771</td>\n",
       "      <td id=\"T_8afd0_row7_col4\" class=\"data row7 col4\" >0.7734</td>\n",
       "      <td id=\"T_8afd0_row7_col5\" class=\"data row7 col5\" >0.6989</td>\n",
       "      <td id=\"T_8afd0_row7_col6\" class=\"data row7 col6\" >0.7004</td>\n",
       "    </tr>\n",
       "    <tr>\n",
       "      <th id=\"T_8afd0_level0_row8\" class=\"row_heading level0 row8\" >8</th>\n",
       "      <td id=\"T_8afd0_row8_col0\" class=\"data row8 col0\" >0.7661</td>\n",
       "      <td id=\"T_8afd0_row8_col1\" class=\"data row8 col1\" >0.9324</td>\n",
       "      <td id=\"T_8afd0_row8_col2\" class=\"data row8 col2\" >0.7661</td>\n",
       "      <td id=\"T_8afd0_row8_col3\" class=\"data row8 col3\" >0.7692</td>\n",
       "      <td id=\"T_8afd0_row8_col4\" class=\"data row8 col4\" >0.7650</td>\n",
       "      <td id=\"T_8afd0_row8_col5\" class=\"data row8 col5\" >0.6882</td>\n",
       "      <td id=\"T_8afd0_row8_col6\" class=\"data row8 col6\" >0.6898</td>\n",
       "    </tr>\n",
       "    <tr>\n",
       "      <th id=\"T_8afd0_level0_row9\" class=\"row_heading level0 row9\" >9</th>\n",
       "      <td id=\"T_8afd0_row9_col0\" class=\"data row9 col0\" >0.7419</td>\n",
       "      <td id=\"T_8afd0_row9_col1\" class=\"data row9 col1\" >0.9115</td>\n",
       "      <td id=\"T_8afd0_row9_col2\" class=\"data row9 col2\" >0.7419</td>\n",
       "      <td id=\"T_8afd0_row9_col3\" class=\"data row9 col3\" >0.7470</td>\n",
       "      <td id=\"T_8afd0_row9_col4\" class=\"data row9 col4\" >0.7388</td>\n",
       "      <td id=\"T_8afd0_row9_col5\" class=\"data row9 col5\" >0.6559</td>\n",
       "      <td id=\"T_8afd0_row9_col6\" class=\"data row9 col6\" >0.6593</td>\n",
       "    </tr>\n",
       "    <tr>\n",
       "      <th id=\"T_8afd0_level0_row10\" class=\"row_heading level0 row10\" >Mean</th>\n",
       "      <td id=\"T_8afd0_row10_col0\" class=\"data row10 col0\" >0.7290</td>\n",
       "      <td id=\"T_8afd0_row10_col1\" class=\"data row10 col1\" >0.9132</td>\n",
       "      <td id=\"T_8afd0_row10_col2\" class=\"data row10 col2\" >0.7290</td>\n",
       "      <td id=\"T_8afd0_row10_col3\" class=\"data row10 col3\" >0.7317</td>\n",
       "      <td id=\"T_8afd0_row10_col4\" class=\"data row10 col4\" >0.7284</td>\n",
       "      <td id=\"T_8afd0_row10_col5\" class=\"data row10 col5\" >0.6387</td>\n",
       "      <td id=\"T_8afd0_row10_col6\" class=\"data row10 col6\" >0.6399</td>\n",
       "    </tr>\n",
       "    <tr>\n",
       "      <th id=\"T_8afd0_level0_row11\" class=\"row_heading level0 row11\" >Std</th>\n",
       "      <td id=\"T_8afd0_row11_col0\" class=\"data row11 col0\" >0.0428</td>\n",
       "      <td id=\"T_8afd0_row11_col1\" class=\"data row11 col1\" >0.0192</td>\n",
       "      <td id=\"T_8afd0_row11_col2\" class=\"data row11 col2\" >0.0428</td>\n",
       "      <td id=\"T_8afd0_row11_col3\" class=\"data row11 col3\" >0.0430</td>\n",
       "      <td id=\"T_8afd0_row11_col4\" class=\"data row11 col4\" >0.0425</td>\n",
       "      <td id=\"T_8afd0_row11_col5\" class=\"data row11 col5\" >0.0571</td>\n",
       "      <td id=\"T_8afd0_row11_col6\" class=\"data row11 col6\" >0.0573</td>\n",
       "    </tr>\n",
       "  </tbody>\n",
       "</table>\n"
      ],
      "text/plain": [
       "<pandas.io.formats.style.Styler at 0x7fd4711266d0>"
      ]
     },
     "metadata": {},
     "output_type": "display_data"
    },
    {
     "data": {
      "application/vnd.jupyter.widget-view+json": {
       "model_id": "",
       "version_major": 2,
       "version_minor": 0
      },
      "text/plain": [
       "Processing:   0%|          | 0/7 [00:00<?, ?it/s]"
      ]
     },
     "metadata": {},
     "output_type": "display_data"
    },
    {
     "name": "stdout",
     "output_type": "stream",
     "text": [
      "Fitting 10 folds for each of 10 candidates, totalling 100 fits\n",
      "Original model was better than the tuned model, hence it will be returned. NOTE: The display metrics are for the tuned model (not the original one).\n"
     ]
    }
   ],
   "source": [
    "tuned_lightgbm = tune_model(lightgbm)"
   ]
  },
  {
   "cell_type": "code",
   "execution_count": 14,
   "metadata": {},
   "outputs": [
    {
     "data": {
      "text/html": [
       "<style type=\"text/css\">\n",
       "</style>\n",
       "<table id=\"T_59f09_\">\n",
       "  <thead>\n",
       "    <tr>\n",
       "      <th class=\"blank level0\" >&nbsp;</th>\n",
       "      <th class=\"col_heading level0 col0\" >Model</th>\n",
       "      <th class=\"col_heading level0 col1\" >Accuracy</th>\n",
       "      <th class=\"col_heading level0 col2\" >AUC</th>\n",
       "      <th class=\"col_heading level0 col3\" >Recall</th>\n",
       "      <th class=\"col_heading level0 col4\" >Prec.</th>\n",
       "      <th class=\"col_heading level0 col5\" >F1</th>\n",
       "      <th class=\"col_heading level0 col6\" >Kappa</th>\n",
       "      <th class=\"col_heading level0 col7\" >MCC</th>\n",
       "    </tr>\n",
       "  </thead>\n",
       "  <tbody>\n",
       "    <tr>\n",
       "      <th id=\"T_59f09_level0_row0\" class=\"row_heading level0 row0\" >0</th>\n",
       "      <td id=\"T_59f09_row0_col0\" class=\"data row0 col0\" >Light Gradient Boosting Machine</td>\n",
       "      <td id=\"T_59f09_row0_col1\" class=\"data row0 col1\" >0.7355</td>\n",
       "      <td id=\"T_59f09_row0_col2\" class=\"data row0 col2\" >0.9167</td>\n",
       "      <td id=\"T_59f09_row0_col3\" class=\"data row0 col3\" >0.7355</td>\n",
       "      <td id=\"T_59f09_row0_col4\" class=\"data row0 col4\" >0.7422</td>\n",
       "      <td id=\"T_59f09_row0_col5\" class=\"data row0 col5\" >0.7361</td>\n",
       "      <td id=\"T_59f09_row0_col6\" class=\"data row0 col6\" >0.6473</td>\n",
       "      <td id=\"T_59f09_row0_col7\" class=\"data row0 col7\" >0.6492</td>\n",
       "    </tr>\n",
       "  </tbody>\n",
       "</table>\n"
      ],
      "text/plain": [
       "<pandas.io.formats.style.Styler at 0x7fd471146fd0>"
      ]
     },
     "metadata": {},
     "output_type": "display_data"
    }
   ],
   "source": [
    "predict_model(tuned_lightgbm);"
   ]
  },
  {
   "cell_type": "code",
   "execution_count": 15,
   "metadata": {},
   "outputs": [],
   "source": [
    "final_lightgbm = finalize_model(tuned_lightgbm)"
   ]
  },
  {
   "cell_type": "code",
   "execution_count": 16,
   "metadata": {},
   "outputs": [
    {
     "data": {
      "text/plain": [
       "Pipeline(memory=FastMemory(location=/var/folders/w9/cv0lh9lj3_79503qn1046m_00000gn/T/joblib),\n",
       "         steps=[('numerical_imputer',\n",
       "                 TransformerWrapper(exclude=None,\n",
       "                                    include=['Bacteria-1', 'Bacteria-2',\n",
       "                                             'Bacteria-3', 'Bacteria-4',\n",
       "                                             'Bacteria-5', 'Bacteria-6',\n",
       "                                             'Bacteria-7', 'Bacteria-8',\n",
       "                                             'Bacteria-9', 'Bacteria-10',\n",
       "                                             'Bacteria-11', 'Bacteria-12',\n",
       "                                             'Bacteria-13', 'Bacteria-14',\n",
       "                                             '...\n",
       "                 LGBMClassifier(boosting_type='gbdt', class_weight=None,\n",
       "                                colsample_bytree=1.0, importance_type='split',\n",
       "                                learning_rate=0.1, max_depth=-1,\n",
       "                                min_child_samples=20, min_child_weight=0.001,\n",
       "                                min_split_gain=0.0, n_estimators=100, n_jobs=-1,\n",
       "                                num_leaves=31, objective=None, random_state=123,\n",
       "                                reg_alpha=0.0, reg_lambda=0.0, silent='warn',\n",
       "                                subsample=1.0, subsample_for_bin=200000,\n",
       "                                subsample_freq=0))],\n",
       "         verbose=False)"
      ]
     },
     "execution_count": 16,
     "metadata": {},
     "output_type": "execute_result"
    }
   ],
   "source": [
    "final_lightgbm"
   ]
  },
  {
   "cell_type": "code",
   "execution_count": null,
   "metadata": {},
   "outputs": [],
   "source": [
    "save_model(final_lightgbm,'Final lightgbm')"
   ]
  },
  {
   "cell_type": "code",
   "execution_count": null,
   "metadata": {},
   "outputs": [],
   "source": [
    "saved_final_lightgbm = load_model('Final lightgbm')"
   ]
  },
  {
   "cell_type": "code",
   "execution_count": null,
   "metadata": {},
   "outputs": [],
   "source": [
    "final_lightgbm"
   ]
  },
  {
   "cell_type": "code",
   "execution_count": 17,
   "metadata": {},
   "outputs": [
    {
     "data": {
      "text/html": [
       "<style type=\"text/css\">\n",
       "</style>\n",
       "<table id=\"T_01079_\">\n",
       "  <thead>\n",
       "    <tr>\n",
       "      <th class=\"blank level0\" >&nbsp;</th>\n",
       "      <th class=\"col_heading level0 col0\" >Model</th>\n",
       "      <th class=\"col_heading level0 col1\" >Accuracy</th>\n",
       "      <th class=\"col_heading level0 col2\" >AUC</th>\n",
       "      <th class=\"col_heading level0 col3\" >Recall</th>\n",
       "      <th class=\"col_heading level0 col4\" >Prec.</th>\n",
       "      <th class=\"col_heading level0 col5\" >F1</th>\n",
       "      <th class=\"col_heading level0 col6\" >Kappa</th>\n",
       "      <th class=\"col_heading level0 col7\" >MCC</th>\n",
       "    </tr>\n",
       "  </thead>\n",
       "  <tbody>\n",
       "    <tr>\n",
       "      <th id=\"T_01079_level0_row0\" class=\"row_heading level0 row0\" >0</th>\n",
       "      <td id=\"T_01079_row0_col0\" class=\"data row0 col0\" >Light Gradient Boosting Machine</td>\n",
       "      <td id=\"T_01079_row0_col1\" class=\"data row0 col1\" >0.4729</td>\n",
       "      <td id=\"T_01079_row0_col2\" class=\"data row0 col2\" >0.7907</td>\n",
       "      <td id=\"T_01079_row0_col3\" class=\"data row0 col3\" >0.4729</td>\n",
       "      <td id=\"T_01079_row0_col4\" class=\"data row0 col4\" >0.6898</td>\n",
       "      <td id=\"T_01079_row0_col5\" class=\"data row0 col5\" >0.4719</td>\n",
       "      <td id=\"T_01079_row0_col6\" class=\"data row0 col6\" >0.3395</td>\n",
       "      <td id=\"T_01079_row0_col7\" class=\"data row0 col7\" >0.3928</td>\n",
       "    </tr>\n",
       "  </tbody>\n",
       "</table>\n"
      ],
      "text/plain": [
       "<pandas.io.formats.style.Styler at 0x7fd471126ad0>"
      ]
     },
     "metadata": {},
     "output_type": "display_data"
    },
    {
     "data": {
      "text/html": [
       "<div>\n",
       "<style scoped>\n",
       "    .dataframe tbody tr th:only-of-type {\n",
       "        vertical-align: middle;\n",
       "    }\n",
       "\n",
       "    .dataframe tbody tr th {\n",
       "        vertical-align: top;\n",
       "    }\n",
       "\n",
       "    .dataframe thead th {\n",
       "        text-align: right;\n",
       "    }\n",
       "</style>\n",
       "<table border=\"1\" class=\"dataframe\">\n",
       "  <thead>\n",
       "    <tr style=\"text-align: right;\">\n",
       "      <th></th>\n",
       "      <th>Bacteria-1</th>\n",
       "      <th>Bacteria-2</th>\n",
       "      <th>Bacteria-3</th>\n",
       "      <th>Bacteria-4</th>\n",
       "      <th>Bacteria-5</th>\n",
       "      <th>Bacteria-6</th>\n",
       "      <th>Bacteria-7</th>\n",
       "      <th>Bacteria-8</th>\n",
       "      <th>Bacteria-9</th>\n",
       "      <th>Bacteria-10</th>\n",
       "      <th>...</th>\n",
       "      <th>Bacteria-1088</th>\n",
       "      <th>Bacteria-1089</th>\n",
       "      <th>Bacteria-1090</th>\n",
       "      <th>Bacteria-1091</th>\n",
       "      <th>Bacteria-1092</th>\n",
       "      <th>Bacteria-1093</th>\n",
       "      <th>Bacteria-1094</th>\n",
       "      <th>disease</th>\n",
       "      <th>prediction_label</th>\n",
       "      <th>prediction_score</th>\n",
       "    </tr>\n",
       "  </thead>\n",
       "  <tbody>\n",
       "    <tr>\n",
       "      <th>2825</th>\n",
       "      <td>0</td>\n",
       "      <td>0</td>\n",
       "      <td>0</td>\n",
       "      <td>0</td>\n",
       "      <td>0</td>\n",
       "      <td>0</td>\n",
       "      <td>0</td>\n",
       "      <td>0</td>\n",
       "      <td>0</td>\n",
       "      <td>0</td>\n",
       "      <td>...</td>\n",
       "      <td>0</td>\n",
       "      <td>0</td>\n",
       "      <td>0</td>\n",
       "      <td>0</td>\n",
       "      <td>0</td>\n",
       "      <td>0</td>\n",
       "      <td>0</td>\n",
       "      <td>2</td>\n",
       "      <td>2</td>\n",
       "      <td>0.9991</td>\n",
       "    </tr>\n",
       "    <tr>\n",
       "      <th>6358</th>\n",
       "      <td>0</td>\n",
       "      <td>0</td>\n",
       "      <td>0</td>\n",
       "      <td>0</td>\n",
       "      <td>0</td>\n",
       "      <td>0</td>\n",
       "      <td>0</td>\n",
       "      <td>0</td>\n",
       "      <td>0</td>\n",
       "      <td>0</td>\n",
       "      <td>...</td>\n",
       "      <td>0</td>\n",
       "      <td>0</td>\n",
       "      <td>0</td>\n",
       "      <td>0</td>\n",
       "      <td>0</td>\n",
       "      <td>0</td>\n",
       "      <td>0</td>\n",
       "      <td>3</td>\n",
       "      <td>1</td>\n",
       "      <td>0.9747</td>\n",
       "    </tr>\n",
       "    <tr>\n",
       "      <th>7115</th>\n",
       "      <td>0</td>\n",
       "      <td>0</td>\n",
       "      <td>0</td>\n",
       "      <td>0</td>\n",
       "      <td>0</td>\n",
       "      <td>0</td>\n",
       "      <td>0</td>\n",
       "      <td>0</td>\n",
       "      <td>0</td>\n",
       "      <td>0</td>\n",
       "      <td>...</td>\n",
       "      <td>0</td>\n",
       "      <td>0</td>\n",
       "      <td>0</td>\n",
       "      <td>0</td>\n",
       "      <td>0</td>\n",
       "      <td>118</td>\n",
       "      <td>0</td>\n",
       "      <td>3</td>\n",
       "      <td>1</td>\n",
       "      <td>0.9960</td>\n",
       "    </tr>\n",
       "    <tr>\n",
       "      <th>6566</th>\n",
       "      <td>0</td>\n",
       "      <td>0</td>\n",
       "      <td>0</td>\n",
       "      <td>0</td>\n",
       "      <td>0</td>\n",
       "      <td>0</td>\n",
       "      <td>0</td>\n",
       "      <td>0</td>\n",
       "      <td>0</td>\n",
       "      <td>0</td>\n",
       "      <td>...</td>\n",
       "      <td>0</td>\n",
       "      <td>0</td>\n",
       "      <td>0</td>\n",
       "      <td>0</td>\n",
       "      <td>0</td>\n",
       "      <td>0</td>\n",
       "      <td>0</td>\n",
       "      <td>3</td>\n",
       "      <td>1</td>\n",
       "      <td>0.5237</td>\n",
       "    </tr>\n",
       "    <tr>\n",
       "      <th>4604</th>\n",
       "      <td>0</td>\n",
       "      <td>0</td>\n",
       "      <td>0</td>\n",
       "      <td>0</td>\n",
       "      <td>0</td>\n",
       "      <td>0</td>\n",
       "      <td>0</td>\n",
       "      <td>0</td>\n",
       "      <td>0</td>\n",
       "      <td>0</td>\n",
       "      <td>...</td>\n",
       "      <td>0</td>\n",
       "      <td>0</td>\n",
       "      <td>0</td>\n",
       "      <td>0</td>\n",
       "      <td>0</td>\n",
       "      <td>0</td>\n",
       "      <td>0</td>\n",
       "      <td>3</td>\n",
       "      <td>2</td>\n",
       "      <td>0.8767</td>\n",
       "    </tr>\n",
       "  </tbody>\n",
       "</table>\n",
       "<p>5 rows × 1097 columns</p>\n",
       "</div>"
      ],
      "text/plain": [
       "      Bacteria-1  Bacteria-2  Bacteria-3  Bacteria-4  Bacteria-5  Bacteria-6  \\\n",
       "2825           0           0           0           0           0           0   \n",
       "6358           0           0           0           0           0           0   \n",
       "7115           0           0           0           0           0           0   \n",
       "6566           0           0           0           0           0           0   \n",
       "4604           0           0           0           0           0           0   \n",
       "\n",
       "      Bacteria-7  Bacteria-8  Bacteria-9  Bacteria-10  ...  Bacteria-1088  \\\n",
       "2825           0           0           0            0  ...              0   \n",
       "6358           0           0           0            0  ...              0   \n",
       "7115           0           0           0            0  ...              0   \n",
       "6566           0           0           0            0  ...              0   \n",
       "4604           0           0           0            0  ...              0   \n",
       "\n",
       "      Bacteria-1089  Bacteria-1090  Bacteria-1091  Bacteria-1092  \\\n",
       "2825              0              0              0              0   \n",
       "6358              0              0              0              0   \n",
       "7115              0              0              0              0   \n",
       "6566              0              0              0              0   \n",
       "4604              0              0              0              0   \n",
       "\n",
       "      Bacteria-1093  Bacteria-1094  disease  prediction_label  \\\n",
       "2825              0              0        2                 2   \n",
       "6358              0              0        3                 1   \n",
       "7115            118              0        3                 1   \n",
       "6566              0              0        3                 1   \n",
       "4604              0              0        3                 2   \n",
       "\n",
       "      prediction_score  \n",
       "2825            0.9991  \n",
       "6358            0.9747  \n",
       "7115            0.9960  \n",
       "6566            0.5237  \n",
       "4604            0.8767  \n",
       "\n",
       "[5 rows x 1097 columns]"
      ]
     },
     "execution_count": 17,
     "metadata": {},
     "output_type": "execute_result"
    }
   ],
   "source": [
    "unseen_predictions = predict_model(final_lightgbm, data=test)\n",
    "unseen_predictions.head()"
   ]
  },
  {
   "cell_type": "code",
   "execution_count": 19,
   "metadata": {},
   "outputs": [
    {
     "data": {
      "text/plain": [
       "2825    2\n",
       "6358    1\n",
       "7115    1\n",
       "6566    1\n",
       "4604    2\n",
       "       ..\n",
       "2937    2\n",
       "2859    2\n",
       "5286    2\n",
       "6419    3\n",
       "1298    2\n",
       "Name: prediction_label, Length: 1497, dtype: int64"
      ]
     },
     "execution_count": 19,
     "metadata": {},
     "output_type": "execute_result"
    }
   ],
   "source": [
    "unseen_predictions['prediction_label']"
   ]
  },
  {
   "cell_type": "code",
   "execution_count": 21,
   "metadata": {},
   "outputs": [
    {
     "data": {
      "text/plain": [
       "2825    2\n",
       "6358    3\n",
       "7115    3\n",
       "6566    3\n",
       "4604    3\n",
       "       ..\n",
       "2937    2\n",
       "2859    2\n",
       "5286    3\n",
       "6419    3\n",
       "1298    0\n",
       "Name: disease, Length: 1497, dtype: int8"
      ]
     },
     "execution_count": 21,
     "metadata": {},
     "output_type": "execute_result"
    }
   ],
   "source": [
    "test['disease']"
   ]
  },
  {
   "cell_type": "code",
   "execution_count": 22,
   "metadata": {},
   "outputs": [
    {
     "name": "stdout",
     "output_type": "stream",
     "text": [
      "Cohen Kappa Score: 0.33945392804493657\n"
     ]
    }
   ],
   "source": [
    "# Cohen’s kappa - Metrics of Scoring\n",
    "cohen = cohen_kappa_score(test['disease'],unseen_predictions['prediction_label'])\n",
    "print(\"Cohen Kappa Score: \" + str(cohen))"
   ]
  },
  {
   "cell_type": "code",
   "execution_count": null,
   "metadata": {},
   "outputs": [],
   "source": []
  }
 ],
 "metadata": {
  "colab": {
   "collapsed_sections": [],
   "name": "Pharmahacks.ipynb",
   "provenance": []
  },
  "kernelspec": {
   "display_name": "Python 3 (ipykernel)",
   "language": "python",
   "name": "python3"
  },
  "language_info": {
   "codemirror_mode": {
    "name": "ipython",
    "version": 3
   },
   "file_extension": ".py",
   "mimetype": "text/x-python",
   "name": "python",
   "nbconvert_exporter": "python",
   "pygments_lexer": "ipython3",
   "version": "3.7.4"
  }
 },
 "nbformat": 4,
 "nbformat_minor": 1
}
