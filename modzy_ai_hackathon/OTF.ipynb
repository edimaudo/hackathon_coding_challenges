{
 "cells": [
  {
   "cell_type": "code",
   "execution_count": 3,
   "metadata": {},
   "outputs": [],
   "source": [
    "# Load libraries\n",
    "import pandas as pd\n",
    "import numpy as np\n",
    "import plotly.express as px"
   ]
  },
  {
   "cell_type": "code",
   "execution_count": 4,
   "metadata": {},
   "outputs": [],
   "source": [
    "# load data\n",
    "df =  pd.read_excel(\"otf.xlsx\")"
   ]
  },
  {
   "cell_type": "code",
   "execution_count": 3,
   "metadata": {},
   "outputs": [
    {
     "data": {
      "text/html": [
       "<div>\n",
       "<style scoped>\n",
       "    .dataframe tbody tr th:only-of-type {\n",
       "        vertical-align: middle;\n",
       "    }\n",
       "\n",
       "    .dataframe tbody tr th {\n",
       "        vertical-align: top;\n",
       "    }\n",
       "\n",
       "    .dataframe thead th {\n",
       "        text-align: right;\n",
       "    }\n",
       "</style>\n",
       "<table border=\"1\" class=\"dataframe\">\n",
       "  <thead>\n",
       "    <tr style=\"text-align: right;\">\n",
       "      <th></th>\n",
       "      <th>Amount_applied_for</th>\n",
       "      <th>Amount_awarded</th>\n",
       "      <th>Planned_dates_month</th>\n",
       "      <th>Amount_Rescinded</th>\n",
       "      <th>Fiscal_year_update</th>\n",
       "    </tr>\n",
       "  </thead>\n",
       "  <tbody>\n",
       "    <tr>\n",
       "      <th>count</th>\n",
       "      <td>2.795300e+04</td>\n",
       "      <td>2.795300e+04</td>\n",
       "      <td>27953.000000</td>\n",
       "      <td>645.000000</td>\n",
       "      <td>27953.000000</td>\n",
       "    </tr>\n",
       "    <tr>\n",
       "      <th>mean</th>\n",
       "      <td>1.065924e+05</td>\n",
       "      <td>8.538877e+04</td>\n",
       "      <td>17.372375</td>\n",
       "      <td>20936.986264</td>\n",
       "      <td>2008.366651</td>\n",
       "    </tr>\n",
       "    <tr>\n",
       "      <th>std</th>\n",
       "      <td>1.269834e+05</td>\n",
       "      <td>1.062532e+05</td>\n",
       "      <td>11.320977</td>\n",
       "      <td>56484.690791</td>\n",
       "      <td>6.241042</td>\n",
       "    </tr>\n",
       "    <tr>\n",
       "      <th>min</th>\n",
       "      <td>5.000000e+02</td>\n",
       "      <td>5.000000e+02</td>\n",
       "      <td>1.000000</td>\n",
       "      <td>100.000000</td>\n",
       "      <td>1999.000000</td>\n",
       "    </tr>\n",
       "    <tr>\n",
       "      <th>25%</th>\n",
       "      <td>2.500000e+04</td>\n",
       "      <td>2.400000e+04</td>\n",
       "      <td>12.000000</td>\n",
       "      <td>1100.000000</td>\n",
       "      <td>2003.000000</td>\n",
       "    </tr>\n",
       "    <tr>\n",
       "      <th>50%</th>\n",
       "      <td>7.000000e+04</td>\n",
       "      <td>5.150000e+04</td>\n",
       "      <td>12.000000</td>\n",
       "      <td>3864.000000</td>\n",
       "      <td>2008.000000</td>\n",
       "    </tr>\n",
       "    <tr>\n",
       "      <th>75%</th>\n",
       "      <td>1.453900e+05</td>\n",
       "      <td>1.020000e+05</td>\n",
       "      <td>24.000000</td>\n",
       "      <td>12600.000000</td>\n",
       "      <td>2013.000000</td>\n",
       "    </tr>\n",
       "    <tr>\n",
       "      <th>max</th>\n",
       "      <td>2.400000e+06</td>\n",
       "      <td>2.400000e+06</td>\n",
       "      <td>72.000000</td>\n",
       "      <td>566300.000000</td>\n",
       "      <td>2021.000000</td>\n",
       "    </tr>\n",
       "  </tbody>\n",
       "</table>\n",
       "</div>"
      ],
      "text/plain": [
       "       Amount_applied_for  Amount_awarded  Planned_dates_month  \\\n",
       "count        2.795300e+04    2.795300e+04         27953.000000   \n",
       "mean         1.065924e+05    8.538877e+04            17.372375   \n",
       "std          1.269834e+05    1.062532e+05            11.320977   \n",
       "min          5.000000e+02    5.000000e+02             1.000000   \n",
       "25%          2.500000e+04    2.400000e+04            12.000000   \n",
       "50%          7.000000e+04    5.150000e+04            12.000000   \n",
       "75%          1.453900e+05    1.020000e+05            24.000000   \n",
       "max          2.400000e+06    2.400000e+06            72.000000   \n",
       "\n",
       "       Amount_Rescinded  Fiscal_year_update  \n",
       "count        645.000000        27953.000000  \n",
       "mean       20936.986264         2008.366651  \n",
       "std        56484.690791            6.241042  \n",
       "min          100.000000         1999.000000  \n",
       "25%         1100.000000         2003.000000  \n",
       "50%         3864.000000         2008.000000  \n",
       "75%        12600.000000         2013.000000  \n",
       "max       566300.000000         2021.000000  "
      ]
     },
     "execution_count": 3,
     "metadata": {},
     "output_type": "execute_result"
    }
   ],
   "source": [
    "# data summary\n",
    "df.describe()"
   ]
  },
  {
   "cell_type": "code",
   "execution_count": 7,
   "metadata": {},
   "outputs": [
    {
     "data": {
      "text/html": [
       "<div>\n",
       "<style scoped>\n",
       "    .dataframe tbody tr th:only-of-type {\n",
       "        vertical-align: middle;\n",
       "    }\n",
       "\n",
       "    .dataframe tbody tr th {\n",
       "        vertical-align: top;\n",
       "    }\n",
       "\n",
       "    .dataframe thead th {\n",
       "        text-align: right;\n",
       "    }\n",
       "</style>\n",
       "<table border=\"1\" class=\"dataframe\">\n",
       "  <thead>\n",
       "    <tr style=\"text-align: right;\">\n",
       "      <th></th>\n",
       "      <th>Funding_org</th>\n",
       "      <th>Country_served</th>\n",
       "      <th>Province_served</th>\n",
       "      <th>Geographical_area_served</th>\n",
       "      <th>Cross_catchment_indicator</th>\n",
       "      <th>Identifier</th>\n",
       "      <th>Organization_name</th>\n",
       "      <th>Submission_date</th>\n",
       "      <th>Approval_date</th>\n",
       "      <th>Amount_applied_for</th>\n",
       "      <th>...</th>\n",
       "      <th>Grant_program</th>\n",
       "      <th>Age_group</th>\n",
       "      <th>Recipient_org_city</th>\n",
       "      <th>Budget_fund</th>\n",
       "      <th>Program_area</th>\n",
       "      <th>Fiscal_year_update</th>\n",
       "      <th>Age_group_update</th>\n",
       "      <th>Recipient_org_city_update</th>\n",
       "      <th>Budget_fund_update</th>\n",
       "      <th>Program_area_update</th>\n",
       "    </tr>\n",
       "  </thead>\n",
       "  <tbody>\n",
       "    <tr>\n",
       "      <th>0</th>\n",
       "      <td>Ontario Trillium Foundation</td>\n",
       "      <td>Canada</td>\n",
       "      <td>Ontario</td>\n",
       "      <td>Thames Valley</td>\n",
       "      <td>No</td>\n",
       "      <td>514980CO116781</td>\n",
       "      <td>Woodstock FC</td>\n",
       "      <td>6/1/2021</td>\n",
       "      <td>8/19/2021</td>\n",
       "      <td>50000</td>\n",
       "      <td>...</td>\n",
       "      <td>Community Building Fund</td>\n",
       "      <td>Youth</td>\n",
       "      <td>Woodstock</td>\n",
       "      <td>Community Building Fund - Operating</td>\n",
       "      <td>Sport</td>\n",
       "      <td>2021</td>\n",
       "      <td>Youth</td>\n",
       "      <td>WOODSTOCK</td>\n",
       "      <td>Community Building Fund</td>\n",
       "      <td>Sport</td>\n",
       "    </tr>\n",
       "    <tr>\n",
       "      <th>1</th>\n",
       "      <td>Ontario Trillium Foundation</td>\n",
       "      <td>Canada</td>\n",
       "      <td>Ontario</td>\n",
       "      <td>Hamilton</td>\n",
       "      <td>No</td>\n",
       "      <td>514653CO116107</td>\n",
       "      <td>Winona Peach Festival</td>\n",
       "      <td>6/1/2021</td>\n",
       "      <td>8/19/2021</td>\n",
       "      <td>50000</td>\n",
       "      <td>...</td>\n",
       "      <td>Community Building Fund</td>\n",
       "      <td>General population (all age groups)</td>\n",
       "      <td>Winona</td>\n",
       "      <td>Community Building Fund - Operating</td>\n",
       "      <td>Tourism</td>\n",
       "      <td>2021</td>\n",
       "      <td>General</td>\n",
       "      <td>WINONA</td>\n",
       "      <td>Community Building Fund</td>\n",
       "      <td>Tourism</td>\n",
       "    </tr>\n",
       "    <tr>\n",
       "      <th>2</th>\n",
       "      <td>Ontario Trillium Foundation</td>\n",
       "      <td>Canada</td>\n",
       "      <td>Ontario</td>\n",
       "      <td>Northwestern</td>\n",
       "      <td>No</td>\n",
       "      <td>498610CO115141</td>\n",
       "      <td>BB Camp</td>\n",
       "      <td>6/1/2021</td>\n",
       "      <td>8/19/2021</td>\n",
       "      <td>249600</td>\n",
       "      <td>...</td>\n",
       "      <td>Community Building Fund</td>\n",
       "      <td>Youth</td>\n",
       "      <td>Winnipeg</td>\n",
       "      <td>Community Building Fund - Operating</td>\n",
       "      <td>Recreation</td>\n",
       "      <td>2021</td>\n",
       "      <td>Youth</td>\n",
       "      <td>WINNIPEG</td>\n",
       "      <td>Community Building Fund</td>\n",
       "      <td>Recreation</td>\n",
       "    </tr>\n",
       "    <tr>\n",
       "      <th>3</th>\n",
       "      <td>Ontario Trillium Foundation</td>\n",
       "      <td>Canada</td>\n",
       "      <td>Ontario</td>\n",
       "      <td>Essex, Kent, Lambton</td>\n",
       "      <td>No</td>\n",
       "      <td>478986CO115205</td>\n",
       "      <td>Sandwich Teen Action Group</td>\n",
       "      <td>6/1/2021</td>\n",
       "      <td>8/19/2021</td>\n",
       "      <td>50000</td>\n",
       "      <td>...</td>\n",
       "      <td>Community Building Fund</td>\n",
       "      <td>Youth</td>\n",
       "      <td>Windsor</td>\n",
       "      <td>Community Building Fund - Operating</td>\n",
       "      <td>Recreation</td>\n",
       "      <td>2021</td>\n",
       "      <td>Youth</td>\n",
       "      <td>WINDSOR</td>\n",
       "      <td>Community Building Fund</td>\n",
       "      <td>Recreation</td>\n",
       "    </tr>\n",
       "    <tr>\n",
       "      <th>4</th>\n",
       "      <td>Ontario Trillium Foundation</td>\n",
       "      <td>Canada</td>\n",
       "      <td>Ontario</td>\n",
       "      <td>Essex, Kent, Lambton</td>\n",
       "      <td>No</td>\n",
       "      <td>486674CO116689</td>\n",
       "      <td>Windsor Symphony Society</td>\n",
       "      <td>6/1/2021</td>\n",
       "      <td>8/19/2021</td>\n",
       "      <td>77800</td>\n",
       "      <td>...</td>\n",
       "      <td>Community Building Fund</td>\n",
       "      <td>General population (all age groups)</td>\n",
       "      <td>Windsor</td>\n",
       "      <td>Community Building Fund - Operating</td>\n",
       "      <td>Arts</td>\n",
       "      <td>2021</td>\n",
       "      <td>General</td>\n",
       "      <td>WINDSOR</td>\n",
       "      <td>Community Building Fund</td>\n",
       "      <td>Arts_update</td>\n",
       "    </tr>\n",
       "  </tbody>\n",
       "</table>\n",
       "<p>5 rows × 35 columns</p>\n",
       "</div>"
      ],
      "text/plain": [
       "                   Funding_org Country_served Province_served  \\\n",
       "0  Ontario Trillium Foundation         Canada         Ontario   \n",
       "1  Ontario Trillium Foundation         Canada         Ontario   \n",
       "2  Ontario Trillium Foundation         Canada         Ontario   \n",
       "3  Ontario Trillium Foundation         Canada         Ontario   \n",
       "4  Ontario Trillium Foundation         Canada         Ontario   \n",
       "\n",
       "  Geographical_area_served Cross_catchment_indicator      Identifier  \\\n",
       "0            Thames Valley                        No  514980CO116781   \n",
       "1                 Hamilton                        No  514653CO116107   \n",
       "2             Northwestern                        No  498610CO115141   \n",
       "3     Essex, Kent, Lambton                        No  478986CO115205   \n",
       "4     Essex, Kent, Lambton                        No  486674CO116689   \n",
       "\n",
       "            Organization_name Submission_date Approval_date  \\\n",
       "0                Woodstock FC        6/1/2021     8/19/2021   \n",
       "1       Winona Peach Festival        6/1/2021     8/19/2021   \n",
       "2                     BB Camp        6/1/2021     8/19/2021   \n",
       "3  Sandwich Teen Action Group        6/1/2021     8/19/2021   \n",
       "4    Windsor Symphony Society        6/1/2021     8/19/2021   \n",
       "\n",
       "   Amount_applied_for  ...            Grant_program  \\\n",
       "0               50000  ...  Community Building Fund   \n",
       "1               50000  ...  Community Building Fund   \n",
       "2              249600  ...  Community Building Fund   \n",
       "3               50000  ...  Community Building Fund   \n",
       "4               77800  ...  Community Building Fund   \n",
       "\n",
       "                             Age_group Recipient_org_city  \\\n",
       "0                                Youth          Woodstock   \n",
       "1  General population (all age groups)             Winona   \n",
       "2                                Youth           Winnipeg   \n",
       "3                                Youth           Windsor    \n",
       "4  General population (all age groups)           Windsor    \n",
       "\n",
       "                           Budget_fund Program_area Fiscal_year_update  \\\n",
       "0  Community Building Fund - Operating        Sport               2021   \n",
       "1  Community Building Fund - Operating      Tourism               2021   \n",
       "2  Community Building Fund - Operating   Recreation               2021   \n",
       "3  Community Building Fund - Operating   Recreation               2021   \n",
       "4  Community Building Fund - Operating         Arts               2021   \n",
       "\n",
       "  Age_group_update Recipient_org_city_update       Budget_fund_update  \\\n",
       "0            Youth                 WOODSTOCK  Community Building Fund   \n",
       "1          General                    WINONA  Community Building Fund   \n",
       "2            Youth                  WINNIPEG  Community Building Fund   \n",
       "3            Youth                   WINDSOR  Community Building Fund   \n",
       "4          General                   WINDSOR  Community Building Fund   \n",
       "\n",
       "  Program_area_update  \n",
       "0               Sport  \n",
       "1             Tourism  \n",
       "2          Recreation  \n",
       "3          Recreation  \n",
       "4         Arts_update  \n",
       "\n",
       "[5 rows x 35 columns]"
      ]
     },
     "execution_count": 7,
     "metadata": {},
     "output_type": "execute_result"
    }
   ],
   "source": [
    "# Get top 5 rows\n",
    "df.head(5)"
   ]
  },
  {
   "cell_type": "code",
   "execution_count": 8,
   "metadata": {},
   "outputs": [
    {
     "data": {
      "text/plain": [
       "Funding_org                            object\n",
       "Country_served                         object\n",
       "Province_served                        object\n",
       "Geographical_area_served               object\n",
       "Cross_catchment_indicator              object\n",
       "Identifier                             object\n",
       "Organization_name                      object\n",
       "Submission_date                        object\n",
       "Approval_date                          object\n",
       "Amount_applied_for                      int64\n",
       "Amount_awarded                          int64\n",
       "Planned_dates_month                     int64\n",
       "English_description                    object\n",
       "French_description                     object\n",
       "Recipient_org_incorporation_number     object\n",
       "Recipient_org_registration_number      object\n",
       "Recipient_org_postal_code              object\n",
       "Co_application                         object\n",
       "Population_served                      object\n",
       "Grant_result                           object\n",
       "Recovered                              object\n",
       "Recovered_initiated_by                 object\n",
       "Amount_Rescinded                      float64\n",
       "Last_modified                          object\n",
       "Fiscal_year                            object\n",
       "Grant_program                          object\n",
       "Age_group                              object\n",
       "Recipient_org_city                     object\n",
       "Budget_fund                            object\n",
       "Program_area                           object\n",
       "Fiscal_year_update                      int64\n",
       "Age_group_update                       object\n",
       "Recipient_org_city_update              object\n",
       "Budget_fund_update                     object\n",
       "Program_area_update                    object\n",
       "dtype: object"
      ]
     },
     "execution_count": 8,
     "metadata": {},
     "output_type": "execute_result"
    }
   ],
   "source": [
    "df.dtypes"
   ]
  },
  {
   "cell_type": "code",
   "execution_count": null,
   "metadata": {},
   "outputs": [],
   "source": [
    "# Select columns to use\n"
   ]
  },
  {
   "cell_type": "markdown",
   "metadata": {},
   "source": [
    "# Plotly visualization"
   ]
  },
  {
   "cell_type": "code",
   "execution_count": 37,
   "metadata": {},
   "outputs": [
    {
     "data": {
      "application/vnd.plotly.v1+json": {
       "config": {
        "plotlyServerURL": "https://plot.ly"
       },
       "data": [
        {
         "alignmentgroup": "True",
         "hoverlabel": {
          "namelength": 0
         },
         "hovertemplate": "Fiscal_year_update=%{x}<br>Total_Amount_Awarded=%{y}",
         "legendgroup": "",
         "marker": {
          "color": "#636efa"
         },
         "name": "",
         "offsetgroup": "",
         "orientation": "v",
         "showlegend": false,
         "textposition": "auto",
         "type": "bar",
         "x": [
          1999,
          2000,
          2001,
          2002,
          2003,
          2004,
          2005,
          2006,
          2007,
          2008,
          2009,
          2010,
          2011,
          2012,
          2013,
          2014,
          2015,
          2016,
          2017,
          2018,
          2019,
          2020,
          2021
         ],
         "xaxis": "x",
         "y": [
          80502000,
          98973921,
          104664000,
          97526900,
          96681200,
          94346800,
          94968100,
          95762400,
          100306100,
          104596300,
          108528300,
          111735900,
          151068400,
          116641900,
          110974300,
          108317000,
          109569000,
          112779900,
          111738300,
          108148100,
          115024900,
          107999400,
          46019300
         ],
         "yaxis": "y"
        }
       ],
       "layout": {
        "barmode": "relative",
        "legend": {
         "tracegroupgap": 0
        },
        "margin": {
         "t": 60
        },
        "template": {
         "data": {
          "bar": [
           {
            "error_x": {
             "color": "#2a3f5f"
            },
            "error_y": {
             "color": "#2a3f5f"
            },
            "marker": {
             "line": {
              "color": "#E5ECF6",
              "width": 0.5
             }
            },
            "type": "bar"
           }
          ],
          "barpolar": [
           {
            "marker": {
             "line": {
              "color": "#E5ECF6",
              "width": 0.5
             }
            },
            "type": "barpolar"
           }
          ],
          "carpet": [
           {
            "aaxis": {
             "endlinecolor": "#2a3f5f",
             "gridcolor": "white",
             "linecolor": "white",
             "minorgridcolor": "white",
             "startlinecolor": "#2a3f5f"
            },
            "baxis": {
             "endlinecolor": "#2a3f5f",
             "gridcolor": "white",
             "linecolor": "white",
             "minorgridcolor": "white",
             "startlinecolor": "#2a3f5f"
            },
            "type": "carpet"
           }
          ],
          "choropleth": [
           {
            "colorbar": {
             "outlinewidth": 0,
             "ticks": ""
            },
            "type": "choropleth"
           }
          ],
          "contour": [
           {
            "colorbar": {
             "outlinewidth": 0,
             "ticks": ""
            },
            "colorscale": [
             [
              0,
              "#0d0887"
             ],
             [
              0.1111111111111111,
              "#46039f"
             ],
             [
              0.2222222222222222,
              "#7201a8"
             ],
             [
              0.3333333333333333,
              "#9c179e"
             ],
             [
              0.4444444444444444,
              "#bd3786"
             ],
             [
              0.5555555555555556,
              "#d8576b"
             ],
             [
              0.6666666666666666,
              "#ed7953"
             ],
             [
              0.7777777777777778,
              "#fb9f3a"
             ],
             [
              0.8888888888888888,
              "#fdca26"
             ],
             [
              1,
              "#f0f921"
             ]
            ],
            "type": "contour"
           }
          ],
          "contourcarpet": [
           {
            "colorbar": {
             "outlinewidth": 0,
             "ticks": ""
            },
            "type": "contourcarpet"
           }
          ],
          "heatmap": [
           {
            "colorbar": {
             "outlinewidth": 0,
             "ticks": ""
            },
            "colorscale": [
             [
              0,
              "#0d0887"
             ],
             [
              0.1111111111111111,
              "#46039f"
             ],
             [
              0.2222222222222222,
              "#7201a8"
             ],
             [
              0.3333333333333333,
              "#9c179e"
             ],
             [
              0.4444444444444444,
              "#bd3786"
             ],
             [
              0.5555555555555556,
              "#d8576b"
             ],
             [
              0.6666666666666666,
              "#ed7953"
             ],
             [
              0.7777777777777778,
              "#fb9f3a"
             ],
             [
              0.8888888888888888,
              "#fdca26"
             ],
             [
              1,
              "#f0f921"
             ]
            ],
            "type": "heatmap"
           }
          ],
          "heatmapgl": [
           {
            "colorbar": {
             "outlinewidth": 0,
             "ticks": ""
            },
            "colorscale": [
             [
              0,
              "#0d0887"
             ],
             [
              0.1111111111111111,
              "#46039f"
             ],
             [
              0.2222222222222222,
              "#7201a8"
             ],
             [
              0.3333333333333333,
              "#9c179e"
             ],
             [
              0.4444444444444444,
              "#bd3786"
             ],
             [
              0.5555555555555556,
              "#d8576b"
             ],
             [
              0.6666666666666666,
              "#ed7953"
             ],
             [
              0.7777777777777778,
              "#fb9f3a"
             ],
             [
              0.8888888888888888,
              "#fdca26"
             ],
             [
              1,
              "#f0f921"
             ]
            ],
            "type": "heatmapgl"
           }
          ],
          "histogram": [
           {
            "marker": {
             "colorbar": {
              "outlinewidth": 0,
              "ticks": ""
             }
            },
            "type": "histogram"
           }
          ],
          "histogram2d": [
           {
            "colorbar": {
             "outlinewidth": 0,
             "ticks": ""
            },
            "colorscale": [
             [
              0,
              "#0d0887"
             ],
             [
              0.1111111111111111,
              "#46039f"
             ],
             [
              0.2222222222222222,
              "#7201a8"
             ],
             [
              0.3333333333333333,
              "#9c179e"
             ],
             [
              0.4444444444444444,
              "#bd3786"
             ],
             [
              0.5555555555555556,
              "#d8576b"
             ],
             [
              0.6666666666666666,
              "#ed7953"
             ],
             [
              0.7777777777777778,
              "#fb9f3a"
             ],
             [
              0.8888888888888888,
              "#fdca26"
             ],
             [
              1,
              "#f0f921"
             ]
            ],
            "type": "histogram2d"
           }
          ],
          "histogram2dcontour": [
           {
            "colorbar": {
             "outlinewidth": 0,
             "ticks": ""
            },
            "colorscale": [
             [
              0,
              "#0d0887"
             ],
             [
              0.1111111111111111,
              "#46039f"
             ],
             [
              0.2222222222222222,
              "#7201a8"
             ],
             [
              0.3333333333333333,
              "#9c179e"
             ],
             [
              0.4444444444444444,
              "#bd3786"
             ],
             [
              0.5555555555555556,
              "#d8576b"
             ],
             [
              0.6666666666666666,
              "#ed7953"
             ],
             [
              0.7777777777777778,
              "#fb9f3a"
             ],
             [
              0.8888888888888888,
              "#fdca26"
             ],
             [
              1,
              "#f0f921"
             ]
            ],
            "type": "histogram2dcontour"
           }
          ],
          "mesh3d": [
           {
            "colorbar": {
             "outlinewidth": 0,
             "ticks": ""
            },
            "type": "mesh3d"
           }
          ],
          "parcoords": [
           {
            "line": {
             "colorbar": {
              "outlinewidth": 0,
              "ticks": ""
             }
            },
            "type": "parcoords"
           }
          ],
          "pie": [
           {
            "automargin": true,
            "type": "pie"
           }
          ],
          "scatter": [
           {
            "marker": {
             "colorbar": {
              "outlinewidth": 0,
              "ticks": ""
             }
            },
            "type": "scatter"
           }
          ],
          "scatter3d": [
           {
            "line": {
             "colorbar": {
              "outlinewidth": 0,
              "ticks": ""
             }
            },
            "marker": {
             "colorbar": {
              "outlinewidth": 0,
              "ticks": ""
             }
            },
            "type": "scatter3d"
           }
          ],
          "scattercarpet": [
           {
            "marker": {
             "colorbar": {
              "outlinewidth": 0,
              "ticks": ""
             }
            },
            "type": "scattercarpet"
           }
          ],
          "scattergeo": [
           {
            "marker": {
             "colorbar": {
              "outlinewidth": 0,
              "ticks": ""
             }
            },
            "type": "scattergeo"
           }
          ],
          "scattergl": [
           {
            "marker": {
             "colorbar": {
              "outlinewidth": 0,
              "ticks": ""
             }
            },
            "type": "scattergl"
           }
          ],
          "scattermapbox": [
           {
            "marker": {
             "colorbar": {
              "outlinewidth": 0,
              "ticks": ""
             }
            },
            "type": "scattermapbox"
           }
          ],
          "scatterpolar": [
           {
            "marker": {
             "colorbar": {
              "outlinewidth": 0,
              "ticks": ""
             }
            },
            "type": "scatterpolar"
           }
          ],
          "scatterpolargl": [
           {
            "marker": {
             "colorbar": {
              "outlinewidth": 0,
              "ticks": ""
             }
            },
            "type": "scatterpolargl"
           }
          ],
          "scatterternary": [
           {
            "marker": {
             "colorbar": {
              "outlinewidth": 0,
              "ticks": ""
             }
            },
            "type": "scatterternary"
           }
          ],
          "surface": [
           {
            "colorbar": {
             "outlinewidth": 0,
             "ticks": ""
            },
            "colorscale": [
             [
              0,
              "#0d0887"
             ],
             [
              0.1111111111111111,
              "#46039f"
             ],
             [
              0.2222222222222222,
              "#7201a8"
             ],
             [
              0.3333333333333333,
              "#9c179e"
             ],
             [
              0.4444444444444444,
              "#bd3786"
             ],
             [
              0.5555555555555556,
              "#d8576b"
             ],
             [
              0.6666666666666666,
              "#ed7953"
             ],
             [
              0.7777777777777778,
              "#fb9f3a"
             ],
             [
              0.8888888888888888,
              "#fdca26"
             ],
             [
              1,
              "#f0f921"
             ]
            ],
            "type": "surface"
           }
          ],
          "table": [
           {
            "cells": {
             "fill": {
              "color": "#EBF0F8"
             },
             "line": {
              "color": "white"
             }
            },
            "header": {
             "fill": {
              "color": "#C8D4E3"
             },
             "line": {
              "color": "white"
             }
            },
            "type": "table"
           }
          ]
         },
         "layout": {
          "annotationdefaults": {
           "arrowcolor": "#2a3f5f",
           "arrowhead": 0,
           "arrowwidth": 1
          },
          "coloraxis": {
           "colorbar": {
            "outlinewidth": 0,
            "ticks": ""
           }
          },
          "colorscale": {
           "diverging": [
            [
             0,
             "#8e0152"
            ],
            [
             0.1,
             "#c51b7d"
            ],
            [
             0.2,
             "#de77ae"
            ],
            [
             0.3,
             "#f1b6da"
            ],
            [
             0.4,
             "#fde0ef"
            ],
            [
             0.5,
             "#f7f7f7"
            ],
            [
             0.6,
             "#e6f5d0"
            ],
            [
             0.7,
             "#b8e186"
            ],
            [
             0.8,
             "#7fbc41"
            ],
            [
             0.9,
             "#4d9221"
            ],
            [
             1,
             "#276419"
            ]
           ],
           "sequential": [
            [
             0,
             "#0d0887"
            ],
            [
             0.1111111111111111,
             "#46039f"
            ],
            [
             0.2222222222222222,
             "#7201a8"
            ],
            [
             0.3333333333333333,
             "#9c179e"
            ],
            [
             0.4444444444444444,
             "#bd3786"
            ],
            [
             0.5555555555555556,
             "#d8576b"
            ],
            [
             0.6666666666666666,
             "#ed7953"
            ],
            [
             0.7777777777777778,
             "#fb9f3a"
            ],
            [
             0.8888888888888888,
             "#fdca26"
            ],
            [
             1,
             "#f0f921"
            ]
           ],
           "sequentialminus": [
            [
             0,
             "#0d0887"
            ],
            [
             0.1111111111111111,
             "#46039f"
            ],
            [
             0.2222222222222222,
             "#7201a8"
            ],
            [
             0.3333333333333333,
             "#9c179e"
            ],
            [
             0.4444444444444444,
             "#bd3786"
            ],
            [
             0.5555555555555556,
             "#d8576b"
            ],
            [
             0.6666666666666666,
             "#ed7953"
            ],
            [
             0.7777777777777778,
             "#fb9f3a"
            ],
            [
             0.8888888888888888,
             "#fdca26"
            ],
            [
             1,
             "#f0f921"
            ]
           ]
          },
          "colorway": [
           "#636efa",
           "#EF553B",
           "#00cc96",
           "#ab63fa",
           "#FFA15A",
           "#19d3f3",
           "#FF6692",
           "#B6E880",
           "#FF97FF",
           "#FECB52"
          ],
          "font": {
           "color": "#2a3f5f"
          },
          "geo": {
           "bgcolor": "white",
           "lakecolor": "white",
           "landcolor": "#E5ECF6",
           "showlakes": true,
           "showland": true,
           "subunitcolor": "white"
          },
          "hoverlabel": {
           "align": "left"
          },
          "hovermode": "closest",
          "mapbox": {
           "style": "light"
          },
          "paper_bgcolor": "white",
          "plot_bgcolor": "#E5ECF6",
          "polar": {
           "angularaxis": {
            "gridcolor": "white",
            "linecolor": "white",
            "ticks": ""
           },
           "bgcolor": "#E5ECF6",
           "radialaxis": {
            "gridcolor": "white",
            "linecolor": "white",
            "ticks": ""
           }
          },
          "scene": {
           "xaxis": {
            "backgroundcolor": "#E5ECF6",
            "gridcolor": "white",
            "gridwidth": 2,
            "linecolor": "white",
            "showbackground": true,
            "ticks": "",
            "zerolinecolor": "white"
           },
           "yaxis": {
            "backgroundcolor": "#E5ECF6",
            "gridcolor": "white",
            "gridwidth": 2,
            "linecolor": "white",
            "showbackground": true,
            "ticks": "",
            "zerolinecolor": "white"
           },
           "zaxis": {
            "backgroundcolor": "#E5ECF6",
            "gridcolor": "white",
            "gridwidth": 2,
            "linecolor": "white",
            "showbackground": true,
            "ticks": "",
            "zerolinecolor": "white"
           }
          },
          "shapedefaults": {
           "line": {
            "color": "#2a3f5f"
           }
          },
          "ternary": {
           "aaxis": {
            "gridcolor": "white",
            "linecolor": "white",
            "ticks": ""
           },
           "baxis": {
            "gridcolor": "white",
            "linecolor": "white",
            "ticks": ""
           },
           "bgcolor": "#E5ECF6",
           "caxis": {
            "gridcolor": "white",
            "linecolor": "white",
            "ticks": ""
           }
          },
          "title": {
           "x": 0.05
          },
          "xaxis": {
           "automargin": true,
           "gridcolor": "white",
           "linecolor": "white",
           "ticks": "",
           "title": {
            "standoff": 15
           },
           "zerolinecolor": "white",
           "zerolinewidth": 2
          },
          "yaxis": {
           "automargin": true,
           "gridcolor": "white",
           "linecolor": "white",
           "ticks": "",
           "title": {
            "standoff": 15
           },
           "zerolinecolor": "white",
           "zerolinewidth": 2
          }
         }
        },
        "xaxis": {
         "anchor": "y",
         "domain": [
          0,
          1
         ],
         "title": {
          "text": "Fiscal_year_update"
         }
        },
        "yaxis": {
         "anchor": "x",
         "domain": [
          0,
          1
         ],
         "title": {
          "text": "Total_Amount_Awarded"
         }
        }
       }
      },
      "text/html": [
       "<div>\n",
       "        \n",
       "        \n",
       "            <div id=\"1610ff87-b82e-4cd6-b164-0b2a1d50d450\" class=\"plotly-graph-div\" style=\"height:525px; width:100%;\"></div>\n",
       "            <script type=\"text/javascript\">\n",
       "                require([\"plotly\"], function(Plotly) {\n",
       "                    window.PLOTLYENV=window.PLOTLYENV || {};\n",
       "                    \n",
       "                if (document.getElementById(\"1610ff87-b82e-4cd6-b164-0b2a1d50d450\")) {\n",
       "                    Plotly.newPlot(\n",
       "                        '1610ff87-b82e-4cd6-b164-0b2a1d50d450',\n",
       "                        [{\"alignmentgroup\": \"True\", \"hoverlabel\": {\"namelength\": 0}, \"hovertemplate\": \"Fiscal_year_update=%{x}<br>Total_Amount_Awarded=%{y}\", \"legendgroup\": \"\", \"marker\": {\"color\": \"#636efa\"}, \"name\": \"\", \"offsetgroup\": \"\", \"orientation\": \"v\", \"showlegend\": false, \"textposition\": \"auto\", \"type\": \"bar\", \"x\": [1999, 2000, 2001, 2002, 2003, 2004, 2005, 2006, 2007, 2008, 2009, 2010, 2011, 2012, 2013, 2014, 2015, 2016, 2017, 2018, 2019, 2020, 2021], \"xaxis\": \"x\", \"y\": [80502000, 98973921, 104664000, 97526900, 96681200, 94346800, 94968100, 95762400, 100306100, 104596300, 108528300, 111735900, 151068400, 116641900, 110974300, 108317000, 109569000, 112779900, 111738300, 108148100, 115024900, 107999400, 46019300], \"yaxis\": \"y\"}],\n",
       "                        {\"barmode\": \"relative\", \"legend\": {\"tracegroupgap\": 0}, \"margin\": {\"t\": 60}, \"template\": {\"data\": {\"bar\": [{\"error_x\": {\"color\": \"#2a3f5f\"}, \"error_y\": {\"color\": \"#2a3f5f\"}, \"marker\": {\"line\": {\"color\": \"#E5ECF6\", \"width\": 0.5}}, \"type\": \"bar\"}], \"barpolar\": [{\"marker\": {\"line\": {\"color\": \"#E5ECF6\", \"width\": 0.5}}, \"type\": \"barpolar\"}], \"carpet\": [{\"aaxis\": {\"endlinecolor\": \"#2a3f5f\", \"gridcolor\": \"white\", \"linecolor\": \"white\", \"minorgridcolor\": \"white\", \"startlinecolor\": \"#2a3f5f\"}, \"baxis\": {\"endlinecolor\": \"#2a3f5f\", \"gridcolor\": \"white\", \"linecolor\": \"white\", \"minorgridcolor\": \"white\", \"startlinecolor\": \"#2a3f5f\"}, \"type\": \"carpet\"}], \"choropleth\": [{\"colorbar\": {\"outlinewidth\": 0, \"ticks\": \"\"}, \"type\": \"choropleth\"}], \"contour\": [{\"colorbar\": {\"outlinewidth\": 0, \"ticks\": \"\"}, \"colorscale\": [[0.0, \"#0d0887\"], [0.1111111111111111, \"#46039f\"], [0.2222222222222222, \"#7201a8\"], [0.3333333333333333, \"#9c179e\"], [0.4444444444444444, \"#bd3786\"], [0.5555555555555556, \"#d8576b\"], [0.6666666666666666, \"#ed7953\"], [0.7777777777777778, \"#fb9f3a\"], [0.8888888888888888, \"#fdca26\"], [1.0, \"#f0f921\"]], \"type\": \"contour\"}], \"contourcarpet\": [{\"colorbar\": {\"outlinewidth\": 0, \"ticks\": \"\"}, \"type\": \"contourcarpet\"}], \"heatmap\": [{\"colorbar\": {\"outlinewidth\": 0, \"ticks\": \"\"}, \"colorscale\": [[0.0, \"#0d0887\"], [0.1111111111111111, \"#46039f\"], [0.2222222222222222, \"#7201a8\"], [0.3333333333333333, \"#9c179e\"], [0.4444444444444444, \"#bd3786\"], [0.5555555555555556, \"#d8576b\"], [0.6666666666666666, \"#ed7953\"], [0.7777777777777778, \"#fb9f3a\"], [0.8888888888888888, \"#fdca26\"], [1.0, \"#f0f921\"]], \"type\": \"heatmap\"}], \"heatmapgl\": [{\"colorbar\": {\"outlinewidth\": 0, \"ticks\": \"\"}, \"colorscale\": [[0.0, \"#0d0887\"], [0.1111111111111111, \"#46039f\"], [0.2222222222222222, \"#7201a8\"], [0.3333333333333333, \"#9c179e\"], [0.4444444444444444, \"#bd3786\"], [0.5555555555555556, \"#d8576b\"], [0.6666666666666666, \"#ed7953\"], [0.7777777777777778, \"#fb9f3a\"], [0.8888888888888888, \"#fdca26\"], [1.0, \"#f0f921\"]], \"type\": \"heatmapgl\"}], \"histogram\": [{\"marker\": {\"colorbar\": {\"outlinewidth\": 0, \"ticks\": \"\"}}, \"type\": \"histogram\"}], \"histogram2d\": [{\"colorbar\": {\"outlinewidth\": 0, \"ticks\": \"\"}, \"colorscale\": [[0.0, \"#0d0887\"], [0.1111111111111111, \"#46039f\"], [0.2222222222222222, \"#7201a8\"], [0.3333333333333333, \"#9c179e\"], [0.4444444444444444, \"#bd3786\"], [0.5555555555555556, \"#d8576b\"], [0.6666666666666666, \"#ed7953\"], [0.7777777777777778, \"#fb9f3a\"], [0.8888888888888888, \"#fdca26\"], [1.0, \"#f0f921\"]], \"type\": \"histogram2d\"}], \"histogram2dcontour\": [{\"colorbar\": {\"outlinewidth\": 0, \"ticks\": \"\"}, \"colorscale\": [[0.0, \"#0d0887\"], [0.1111111111111111, \"#46039f\"], [0.2222222222222222, \"#7201a8\"], [0.3333333333333333, \"#9c179e\"], [0.4444444444444444, \"#bd3786\"], [0.5555555555555556, \"#d8576b\"], [0.6666666666666666, \"#ed7953\"], [0.7777777777777778, \"#fb9f3a\"], [0.8888888888888888, \"#fdca26\"], [1.0, \"#f0f921\"]], \"type\": \"histogram2dcontour\"}], \"mesh3d\": [{\"colorbar\": {\"outlinewidth\": 0, \"ticks\": \"\"}, \"type\": \"mesh3d\"}], \"parcoords\": [{\"line\": {\"colorbar\": {\"outlinewidth\": 0, \"ticks\": \"\"}}, \"type\": \"parcoords\"}], \"pie\": [{\"automargin\": true, \"type\": \"pie\"}], \"scatter\": [{\"marker\": {\"colorbar\": {\"outlinewidth\": 0, \"ticks\": \"\"}}, \"type\": \"scatter\"}], \"scatter3d\": [{\"line\": {\"colorbar\": {\"outlinewidth\": 0, \"ticks\": \"\"}}, \"marker\": {\"colorbar\": {\"outlinewidth\": 0, \"ticks\": \"\"}}, \"type\": \"scatter3d\"}], \"scattercarpet\": [{\"marker\": {\"colorbar\": {\"outlinewidth\": 0, \"ticks\": \"\"}}, \"type\": \"scattercarpet\"}], \"scattergeo\": [{\"marker\": {\"colorbar\": {\"outlinewidth\": 0, \"ticks\": \"\"}}, \"type\": \"scattergeo\"}], \"scattergl\": [{\"marker\": {\"colorbar\": {\"outlinewidth\": 0, \"ticks\": \"\"}}, \"type\": \"scattergl\"}], \"scattermapbox\": [{\"marker\": {\"colorbar\": {\"outlinewidth\": 0, \"ticks\": \"\"}}, \"type\": \"scattermapbox\"}], \"scatterpolar\": [{\"marker\": {\"colorbar\": {\"outlinewidth\": 0, \"ticks\": \"\"}}, \"type\": \"scatterpolar\"}], \"scatterpolargl\": [{\"marker\": {\"colorbar\": {\"outlinewidth\": 0, \"ticks\": \"\"}}, \"type\": \"scatterpolargl\"}], \"scatterternary\": [{\"marker\": {\"colorbar\": {\"outlinewidth\": 0, \"ticks\": \"\"}}, \"type\": \"scatterternary\"}], \"surface\": [{\"colorbar\": {\"outlinewidth\": 0, \"ticks\": \"\"}, \"colorscale\": [[0.0, \"#0d0887\"], [0.1111111111111111, \"#46039f\"], [0.2222222222222222, \"#7201a8\"], [0.3333333333333333, \"#9c179e\"], [0.4444444444444444, \"#bd3786\"], [0.5555555555555556, \"#d8576b\"], [0.6666666666666666, \"#ed7953\"], [0.7777777777777778, \"#fb9f3a\"], [0.8888888888888888, \"#fdca26\"], [1.0, \"#f0f921\"]], \"type\": \"surface\"}], \"table\": [{\"cells\": {\"fill\": {\"color\": \"#EBF0F8\"}, \"line\": {\"color\": \"white\"}}, \"header\": {\"fill\": {\"color\": \"#C8D4E3\"}, \"line\": {\"color\": \"white\"}}, \"type\": \"table\"}]}, \"layout\": {\"annotationdefaults\": {\"arrowcolor\": \"#2a3f5f\", \"arrowhead\": 0, \"arrowwidth\": 1}, \"coloraxis\": {\"colorbar\": {\"outlinewidth\": 0, \"ticks\": \"\"}}, \"colorscale\": {\"diverging\": [[0, \"#8e0152\"], [0.1, \"#c51b7d\"], [0.2, \"#de77ae\"], [0.3, \"#f1b6da\"], [0.4, \"#fde0ef\"], [0.5, \"#f7f7f7\"], [0.6, \"#e6f5d0\"], [0.7, \"#b8e186\"], [0.8, \"#7fbc41\"], [0.9, \"#4d9221\"], [1, \"#276419\"]], \"sequential\": [[0.0, \"#0d0887\"], [0.1111111111111111, \"#46039f\"], [0.2222222222222222, \"#7201a8\"], [0.3333333333333333, \"#9c179e\"], [0.4444444444444444, \"#bd3786\"], [0.5555555555555556, \"#d8576b\"], [0.6666666666666666, \"#ed7953\"], [0.7777777777777778, \"#fb9f3a\"], [0.8888888888888888, \"#fdca26\"], [1.0, \"#f0f921\"]], \"sequentialminus\": [[0.0, \"#0d0887\"], [0.1111111111111111, \"#46039f\"], [0.2222222222222222, \"#7201a8\"], [0.3333333333333333, \"#9c179e\"], [0.4444444444444444, \"#bd3786\"], [0.5555555555555556, \"#d8576b\"], [0.6666666666666666, \"#ed7953\"], [0.7777777777777778, \"#fb9f3a\"], [0.8888888888888888, \"#fdca26\"], [1.0, \"#f0f921\"]]}, \"colorway\": [\"#636efa\", \"#EF553B\", \"#00cc96\", \"#ab63fa\", \"#FFA15A\", \"#19d3f3\", \"#FF6692\", \"#B6E880\", \"#FF97FF\", \"#FECB52\"], \"font\": {\"color\": \"#2a3f5f\"}, \"geo\": {\"bgcolor\": \"white\", \"lakecolor\": \"white\", \"landcolor\": \"#E5ECF6\", \"showlakes\": true, \"showland\": true, \"subunitcolor\": \"white\"}, \"hoverlabel\": {\"align\": \"left\"}, \"hovermode\": \"closest\", \"mapbox\": {\"style\": \"light\"}, \"paper_bgcolor\": \"white\", \"plot_bgcolor\": \"#E5ECF6\", \"polar\": {\"angularaxis\": {\"gridcolor\": \"white\", \"linecolor\": \"white\", \"ticks\": \"\"}, \"bgcolor\": \"#E5ECF6\", \"radialaxis\": {\"gridcolor\": \"white\", \"linecolor\": \"white\", \"ticks\": \"\"}}, \"scene\": {\"xaxis\": {\"backgroundcolor\": \"#E5ECF6\", \"gridcolor\": \"white\", \"gridwidth\": 2, \"linecolor\": \"white\", \"showbackground\": true, \"ticks\": \"\", \"zerolinecolor\": \"white\"}, \"yaxis\": {\"backgroundcolor\": \"#E5ECF6\", \"gridcolor\": \"white\", \"gridwidth\": 2, \"linecolor\": \"white\", \"showbackground\": true, \"ticks\": \"\", \"zerolinecolor\": \"white\"}, \"zaxis\": {\"backgroundcolor\": \"#E5ECF6\", \"gridcolor\": \"white\", \"gridwidth\": 2, \"linecolor\": \"white\", \"showbackground\": true, \"ticks\": \"\", \"zerolinecolor\": \"white\"}}, \"shapedefaults\": {\"line\": {\"color\": \"#2a3f5f\"}}, \"ternary\": {\"aaxis\": {\"gridcolor\": \"white\", \"linecolor\": \"white\", \"ticks\": \"\"}, \"baxis\": {\"gridcolor\": \"white\", \"linecolor\": \"white\", \"ticks\": \"\"}, \"bgcolor\": \"#E5ECF6\", \"caxis\": {\"gridcolor\": \"white\", \"linecolor\": \"white\", \"ticks\": \"\"}}, \"title\": {\"x\": 0.05}, \"xaxis\": {\"automargin\": true, \"gridcolor\": \"white\", \"linecolor\": \"white\", \"ticks\": \"\", \"title\": {\"standoff\": 15}, \"zerolinecolor\": \"white\", \"zerolinewidth\": 2}, \"yaxis\": {\"automargin\": true, \"gridcolor\": \"white\", \"linecolor\": \"white\", \"ticks\": \"\", \"title\": {\"standoff\": 15}, \"zerolinecolor\": \"white\", \"zerolinewidth\": 2}}}, \"xaxis\": {\"anchor\": \"y\", \"domain\": [0.0, 1.0], \"title\": {\"text\": \"Fiscal_year_update\"}}, \"yaxis\": {\"anchor\": \"x\", \"domain\": [0.0, 1.0], \"title\": {\"text\": \"Total_Amount_Awarded\"}}},\n",
       "                        {\"responsive\": true}\n",
       "                    ).then(function(){\n",
       "                            \n",
       "var gd = document.getElementById('1610ff87-b82e-4cd6-b164-0b2a1d50d450');\n",
       "var x = new MutationObserver(function (mutations, observer) {{\n",
       "        var display = window.getComputedStyle(gd).display;\n",
       "        if (!display || display === 'none') {{\n",
       "            console.log([gd, 'removed!']);\n",
       "            Plotly.purge(gd);\n",
       "            observer.disconnect();\n",
       "        }}\n",
       "}});\n",
       "\n",
       "// Listen for the removal of the full notebook cells\n",
       "var notebookContainer = gd.closest('#notebook-container');\n",
       "if (notebookContainer) {{\n",
       "    x.observe(notebookContainer, {childList: true});\n",
       "}}\n",
       "\n",
       "// Listen for the clearing of the current output cell\n",
       "var outputEl = gd.closest('.output');\n",
       "if (outputEl) {{\n",
       "    x.observe(outputEl, {childList: true});\n",
       "}}\n",
       "\n",
       "                        })\n",
       "                };\n",
       "                });\n",
       "            </script>\n",
       "        </div>"
      ]
     },
     "metadata": {},
     "output_type": "display_data"
    }
   ],
   "source": [
    "## Total grants by year\n",
    "df_total_grants = df[['Amount_awarded','Fiscal_year_update']]\n",
    "df_total_grants_agg = df_total_grants.groupby('Fiscal_year_update').agg(Total_Amount_Awarded = \n",
    "                                                                      ('Amount_awarded', 'sum')).reset_index()\n",
    "df_total_grants_agg.columns = ['Fiscal_year_update', 'Total_Amount_Awarded']\n",
    "df_total_grants_agg.sort_values(\"Total_Amount_Awarded\", ascending=True)\n",
    "fig = px.bar(df_total_grants_agg, x=\"Fiscal_year_update\", y=\"Total_Amount_Awarded\")\n",
    "fig.show()"
   ]
  },
  {
   "cell_type": "code",
   "execution_count": 71,
   "metadata": {},
   "outputs": [
    {
     "data": {
      "application/vnd.plotly.v1+json": {
       "config": {
        "plotlyServerURL": "https://plot.ly"
       },
       "data": [
        {
         "alignmentgroup": "True",
         "hoverlabel": {
          "namelength": 0
         },
         "hovertemplate": "Total_Amount_Awarded=%{x}<br>Program_area=%{y}",
         "legendgroup": "",
         "marker": {
          "color": "#636efa"
         },
         "name": "",
         "offsetgroup": "",
         "orientation": "h",
         "showlegend": false,
         "textposition": "auto",
         "type": "bar",
         "x": [
          1940000,
          3225300,
          5537600,
          8149000,
          9532700,
          13644400,
          17634700,
          57924900,
          93238600,
          95828400,
          98910300,
          113551400,
          132655600,
          171337900,
          345842870,
          373541130,
          775404621
         ],
         "xaxis": "x",
         "y": [
          "Tourism",
          "Heritage",
          "Culture",
          "Recreation",
          "Sport",
          "Other",
          "Arts_update",
          "Green People",
          "Inspired People",
          "Active People",
          "Prosperous People",
          "Promising Young People",
          "Connected People",
          "Environment",
          "Sports and Recreation",
          "Arts and Culture",
          "Human and Social Services"
         ],
         "yaxis": "y"
        }
       ],
       "layout": {
        "barmode": "relative",
        "legend": {
         "tracegroupgap": 0
        },
        "margin": {
         "t": 60
        },
        "template": {
         "data": {
          "bar": [
           {
            "error_x": {
             "color": "#2a3f5f"
            },
            "error_y": {
             "color": "#2a3f5f"
            },
            "marker": {
             "line": {
              "color": "#E5ECF6",
              "width": 0.5
             }
            },
            "type": "bar"
           }
          ],
          "barpolar": [
           {
            "marker": {
             "line": {
              "color": "#E5ECF6",
              "width": 0.5
             }
            },
            "type": "barpolar"
           }
          ],
          "carpet": [
           {
            "aaxis": {
             "endlinecolor": "#2a3f5f",
             "gridcolor": "white",
             "linecolor": "white",
             "minorgridcolor": "white",
             "startlinecolor": "#2a3f5f"
            },
            "baxis": {
             "endlinecolor": "#2a3f5f",
             "gridcolor": "white",
             "linecolor": "white",
             "minorgridcolor": "white",
             "startlinecolor": "#2a3f5f"
            },
            "type": "carpet"
           }
          ],
          "choropleth": [
           {
            "colorbar": {
             "outlinewidth": 0,
             "ticks": ""
            },
            "type": "choropleth"
           }
          ],
          "contour": [
           {
            "colorbar": {
             "outlinewidth": 0,
             "ticks": ""
            },
            "colorscale": [
             [
              0,
              "#0d0887"
             ],
             [
              0.1111111111111111,
              "#46039f"
             ],
             [
              0.2222222222222222,
              "#7201a8"
             ],
             [
              0.3333333333333333,
              "#9c179e"
             ],
             [
              0.4444444444444444,
              "#bd3786"
             ],
             [
              0.5555555555555556,
              "#d8576b"
             ],
             [
              0.6666666666666666,
              "#ed7953"
             ],
             [
              0.7777777777777778,
              "#fb9f3a"
             ],
             [
              0.8888888888888888,
              "#fdca26"
             ],
             [
              1,
              "#f0f921"
             ]
            ],
            "type": "contour"
           }
          ],
          "contourcarpet": [
           {
            "colorbar": {
             "outlinewidth": 0,
             "ticks": ""
            },
            "type": "contourcarpet"
           }
          ],
          "heatmap": [
           {
            "colorbar": {
             "outlinewidth": 0,
             "ticks": ""
            },
            "colorscale": [
             [
              0,
              "#0d0887"
             ],
             [
              0.1111111111111111,
              "#46039f"
             ],
             [
              0.2222222222222222,
              "#7201a8"
             ],
             [
              0.3333333333333333,
              "#9c179e"
             ],
             [
              0.4444444444444444,
              "#bd3786"
             ],
             [
              0.5555555555555556,
              "#d8576b"
             ],
             [
              0.6666666666666666,
              "#ed7953"
             ],
             [
              0.7777777777777778,
              "#fb9f3a"
             ],
             [
              0.8888888888888888,
              "#fdca26"
             ],
             [
              1,
              "#f0f921"
             ]
            ],
            "type": "heatmap"
           }
          ],
          "heatmapgl": [
           {
            "colorbar": {
             "outlinewidth": 0,
             "ticks": ""
            },
            "colorscale": [
             [
              0,
              "#0d0887"
             ],
             [
              0.1111111111111111,
              "#46039f"
             ],
             [
              0.2222222222222222,
              "#7201a8"
             ],
             [
              0.3333333333333333,
              "#9c179e"
             ],
             [
              0.4444444444444444,
              "#bd3786"
             ],
             [
              0.5555555555555556,
              "#d8576b"
             ],
             [
              0.6666666666666666,
              "#ed7953"
             ],
             [
              0.7777777777777778,
              "#fb9f3a"
             ],
             [
              0.8888888888888888,
              "#fdca26"
             ],
             [
              1,
              "#f0f921"
             ]
            ],
            "type": "heatmapgl"
           }
          ],
          "histogram": [
           {
            "marker": {
             "colorbar": {
              "outlinewidth": 0,
              "ticks": ""
             }
            },
            "type": "histogram"
           }
          ],
          "histogram2d": [
           {
            "colorbar": {
             "outlinewidth": 0,
             "ticks": ""
            },
            "colorscale": [
             [
              0,
              "#0d0887"
             ],
             [
              0.1111111111111111,
              "#46039f"
             ],
             [
              0.2222222222222222,
              "#7201a8"
             ],
             [
              0.3333333333333333,
              "#9c179e"
             ],
             [
              0.4444444444444444,
              "#bd3786"
             ],
             [
              0.5555555555555556,
              "#d8576b"
             ],
             [
              0.6666666666666666,
              "#ed7953"
             ],
             [
              0.7777777777777778,
              "#fb9f3a"
             ],
             [
              0.8888888888888888,
              "#fdca26"
             ],
             [
              1,
              "#f0f921"
             ]
            ],
            "type": "histogram2d"
           }
          ],
          "histogram2dcontour": [
           {
            "colorbar": {
             "outlinewidth": 0,
             "ticks": ""
            },
            "colorscale": [
             [
              0,
              "#0d0887"
             ],
             [
              0.1111111111111111,
              "#46039f"
             ],
             [
              0.2222222222222222,
              "#7201a8"
             ],
             [
              0.3333333333333333,
              "#9c179e"
             ],
             [
              0.4444444444444444,
              "#bd3786"
             ],
             [
              0.5555555555555556,
              "#d8576b"
             ],
             [
              0.6666666666666666,
              "#ed7953"
             ],
             [
              0.7777777777777778,
              "#fb9f3a"
             ],
             [
              0.8888888888888888,
              "#fdca26"
             ],
             [
              1,
              "#f0f921"
             ]
            ],
            "type": "histogram2dcontour"
           }
          ],
          "mesh3d": [
           {
            "colorbar": {
             "outlinewidth": 0,
             "ticks": ""
            },
            "type": "mesh3d"
           }
          ],
          "parcoords": [
           {
            "line": {
             "colorbar": {
              "outlinewidth": 0,
              "ticks": ""
             }
            },
            "type": "parcoords"
           }
          ],
          "pie": [
           {
            "automargin": true,
            "type": "pie"
           }
          ],
          "scatter": [
           {
            "marker": {
             "colorbar": {
              "outlinewidth": 0,
              "ticks": ""
             }
            },
            "type": "scatter"
           }
          ],
          "scatter3d": [
           {
            "line": {
             "colorbar": {
              "outlinewidth": 0,
              "ticks": ""
             }
            },
            "marker": {
             "colorbar": {
              "outlinewidth": 0,
              "ticks": ""
             }
            },
            "type": "scatter3d"
           }
          ],
          "scattercarpet": [
           {
            "marker": {
             "colorbar": {
              "outlinewidth": 0,
              "ticks": ""
             }
            },
            "type": "scattercarpet"
           }
          ],
          "scattergeo": [
           {
            "marker": {
             "colorbar": {
              "outlinewidth": 0,
              "ticks": ""
             }
            },
            "type": "scattergeo"
           }
          ],
          "scattergl": [
           {
            "marker": {
             "colorbar": {
              "outlinewidth": 0,
              "ticks": ""
             }
            },
            "type": "scattergl"
           }
          ],
          "scattermapbox": [
           {
            "marker": {
             "colorbar": {
              "outlinewidth": 0,
              "ticks": ""
             }
            },
            "type": "scattermapbox"
           }
          ],
          "scatterpolar": [
           {
            "marker": {
             "colorbar": {
              "outlinewidth": 0,
              "ticks": ""
             }
            },
            "type": "scatterpolar"
           }
          ],
          "scatterpolargl": [
           {
            "marker": {
             "colorbar": {
              "outlinewidth": 0,
              "ticks": ""
             }
            },
            "type": "scatterpolargl"
           }
          ],
          "scatterternary": [
           {
            "marker": {
             "colorbar": {
              "outlinewidth": 0,
              "ticks": ""
             }
            },
            "type": "scatterternary"
           }
          ],
          "surface": [
           {
            "colorbar": {
             "outlinewidth": 0,
             "ticks": ""
            },
            "colorscale": [
             [
              0,
              "#0d0887"
             ],
             [
              0.1111111111111111,
              "#46039f"
             ],
             [
              0.2222222222222222,
              "#7201a8"
             ],
             [
              0.3333333333333333,
              "#9c179e"
             ],
             [
              0.4444444444444444,
              "#bd3786"
             ],
             [
              0.5555555555555556,
              "#d8576b"
             ],
             [
              0.6666666666666666,
              "#ed7953"
             ],
             [
              0.7777777777777778,
              "#fb9f3a"
             ],
             [
              0.8888888888888888,
              "#fdca26"
             ],
             [
              1,
              "#f0f921"
             ]
            ],
            "type": "surface"
           }
          ],
          "table": [
           {
            "cells": {
             "fill": {
              "color": "#EBF0F8"
             },
             "line": {
              "color": "white"
             }
            },
            "header": {
             "fill": {
              "color": "#C8D4E3"
             },
             "line": {
              "color": "white"
             }
            },
            "type": "table"
           }
          ]
         },
         "layout": {
          "annotationdefaults": {
           "arrowcolor": "#2a3f5f",
           "arrowhead": 0,
           "arrowwidth": 1
          },
          "coloraxis": {
           "colorbar": {
            "outlinewidth": 0,
            "ticks": ""
           }
          },
          "colorscale": {
           "diverging": [
            [
             0,
             "#8e0152"
            ],
            [
             0.1,
             "#c51b7d"
            ],
            [
             0.2,
             "#de77ae"
            ],
            [
             0.3,
             "#f1b6da"
            ],
            [
             0.4,
             "#fde0ef"
            ],
            [
             0.5,
             "#f7f7f7"
            ],
            [
             0.6,
             "#e6f5d0"
            ],
            [
             0.7,
             "#b8e186"
            ],
            [
             0.8,
             "#7fbc41"
            ],
            [
             0.9,
             "#4d9221"
            ],
            [
             1,
             "#276419"
            ]
           ],
           "sequential": [
            [
             0,
             "#0d0887"
            ],
            [
             0.1111111111111111,
             "#46039f"
            ],
            [
             0.2222222222222222,
             "#7201a8"
            ],
            [
             0.3333333333333333,
             "#9c179e"
            ],
            [
             0.4444444444444444,
             "#bd3786"
            ],
            [
             0.5555555555555556,
             "#d8576b"
            ],
            [
             0.6666666666666666,
             "#ed7953"
            ],
            [
             0.7777777777777778,
             "#fb9f3a"
            ],
            [
             0.8888888888888888,
             "#fdca26"
            ],
            [
             1,
             "#f0f921"
            ]
           ],
           "sequentialminus": [
            [
             0,
             "#0d0887"
            ],
            [
             0.1111111111111111,
             "#46039f"
            ],
            [
             0.2222222222222222,
             "#7201a8"
            ],
            [
             0.3333333333333333,
             "#9c179e"
            ],
            [
             0.4444444444444444,
             "#bd3786"
            ],
            [
             0.5555555555555556,
             "#d8576b"
            ],
            [
             0.6666666666666666,
             "#ed7953"
            ],
            [
             0.7777777777777778,
             "#fb9f3a"
            ],
            [
             0.8888888888888888,
             "#fdca26"
            ],
            [
             1,
             "#f0f921"
            ]
           ]
          },
          "colorway": [
           "#636efa",
           "#EF553B",
           "#00cc96",
           "#ab63fa",
           "#FFA15A",
           "#19d3f3",
           "#FF6692",
           "#B6E880",
           "#FF97FF",
           "#FECB52"
          ],
          "font": {
           "color": "#2a3f5f"
          },
          "geo": {
           "bgcolor": "white",
           "lakecolor": "white",
           "landcolor": "#E5ECF6",
           "showlakes": true,
           "showland": true,
           "subunitcolor": "white"
          },
          "hoverlabel": {
           "align": "left"
          },
          "hovermode": "closest",
          "mapbox": {
           "style": "light"
          },
          "paper_bgcolor": "white",
          "plot_bgcolor": "#E5ECF6",
          "polar": {
           "angularaxis": {
            "gridcolor": "white",
            "linecolor": "white",
            "ticks": ""
           },
           "bgcolor": "#E5ECF6",
           "radialaxis": {
            "gridcolor": "white",
            "linecolor": "white",
            "ticks": ""
           }
          },
          "scene": {
           "xaxis": {
            "backgroundcolor": "#E5ECF6",
            "gridcolor": "white",
            "gridwidth": 2,
            "linecolor": "white",
            "showbackground": true,
            "ticks": "",
            "zerolinecolor": "white"
           },
           "yaxis": {
            "backgroundcolor": "#E5ECF6",
            "gridcolor": "white",
            "gridwidth": 2,
            "linecolor": "white",
            "showbackground": true,
            "ticks": "",
            "zerolinecolor": "white"
           },
           "zaxis": {
            "backgroundcolor": "#E5ECF6",
            "gridcolor": "white",
            "gridwidth": 2,
            "linecolor": "white",
            "showbackground": true,
            "ticks": "",
            "zerolinecolor": "white"
           }
          },
          "shapedefaults": {
           "line": {
            "color": "#2a3f5f"
           }
          },
          "ternary": {
           "aaxis": {
            "gridcolor": "white",
            "linecolor": "white",
            "ticks": ""
           },
           "baxis": {
            "gridcolor": "white",
            "linecolor": "white",
            "ticks": ""
           },
           "bgcolor": "#E5ECF6",
           "caxis": {
            "gridcolor": "white",
            "linecolor": "white",
            "ticks": ""
           }
          },
          "title": {
           "x": 0.05
          },
          "xaxis": {
           "automargin": true,
           "gridcolor": "white",
           "linecolor": "white",
           "ticks": "",
           "title": {
            "standoff": 15
           },
           "zerolinecolor": "white",
           "zerolinewidth": 2
          },
          "yaxis": {
           "automargin": true,
           "gridcolor": "white",
           "linecolor": "white",
           "ticks": "",
           "title": {
            "standoff": 15
           },
           "zerolinecolor": "white",
           "zerolinewidth": 2
          }
         }
        },
        "xaxis": {
         "anchor": "y",
         "domain": [
          0,
          1
         ],
         "title": {
          "text": "Total_Amount_Awarded"
         }
        },
        "yaxis": {
         "anchor": "x",
         "domain": [
          0,
          1
         ],
         "title": {
          "text": "Program_area"
         }
        }
       }
      },
      "text/html": [
       "<div>\n",
       "        \n",
       "        \n",
       "            <div id=\"37e6623b-990c-4e4e-a6fc-3c7c448f7da0\" class=\"plotly-graph-div\" style=\"height:525px; width:100%;\"></div>\n",
       "            <script type=\"text/javascript\">\n",
       "                require([\"plotly\"], function(Plotly) {\n",
       "                    window.PLOTLYENV=window.PLOTLYENV || {};\n",
       "                    \n",
       "                if (document.getElementById(\"37e6623b-990c-4e4e-a6fc-3c7c448f7da0\")) {\n",
       "                    Plotly.newPlot(\n",
       "                        '37e6623b-990c-4e4e-a6fc-3c7c448f7da0',\n",
       "                        [{\"alignmentgroup\": \"True\", \"hoverlabel\": {\"namelength\": 0}, \"hovertemplate\": \"Total_Amount_Awarded=%{x}<br>Program_area=%{y}\", \"legendgroup\": \"\", \"marker\": {\"color\": \"#636efa\"}, \"name\": \"\", \"offsetgroup\": \"\", \"orientation\": \"h\", \"showlegend\": false, \"textposition\": \"auto\", \"type\": \"bar\", \"x\": [1940000, 3225300, 5537600, 8149000, 9532700, 13644400, 17634700, 57924900, 93238600, 95828400, 98910300, 113551400, 132655600, 171337900, 345842870, 373541130, 775404621], \"xaxis\": \"x\", \"y\": [\"Tourism\", \"Heritage\", \"Culture\", \"Recreation\", \"Sport\", \"Other\", \"Arts_update\", \"Green People\", \"Inspired People\", \"Active People\", \"Prosperous People\", \"Promising Young People\", \"Connected People\", \"Environment\", \"Sports and Recreation\", \"Arts and Culture\", \"Human and Social Services\"], \"yaxis\": \"y\"}],\n",
       "                        {\"barmode\": \"relative\", \"legend\": {\"tracegroupgap\": 0}, \"margin\": {\"t\": 60}, \"template\": {\"data\": {\"bar\": [{\"error_x\": {\"color\": \"#2a3f5f\"}, \"error_y\": {\"color\": \"#2a3f5f\"}, \"marker\": {\"line\": {\"color\": \"#E5ECF6\", \"width\": 0.5}}, \"type\": \"bar\"}], \"barpolar\": [{\"marker\": {\"line\": {\"color\": \"#E5ECF6\", \"width\": 0.5}}, \"type\": \"barpolar\"}], \"carpet\": [{\"aaxis\": {\"endlinecolor\": \"#2a3f5f\", \"gridcolor\": \"white\", \"linecolor\": \"white\", \"minorgridcolor\": \"white\", \"startlinecolor\": \"#2a3f5f\"}, \"baxis\": {\"endlinecolor\": \"#2a3f5f\", \"gridcolor\": \"white\", \"linecolor\": \"white\", \"minorgridcolor\": \"white\", \"startlinecolor\": \"#2a3f5f\"}, \"type\": \"carpet\"}], \"choropleth\": [{\"colorbar\": {\"outlinewidth\": 0, \"ticks\": \"\"}, \"type\": \"choropleth\"}], \"contour\": [{\"colorbar\": {\"outlinewidth\": 0, \"ticks\": \"\"}, \"colorscale\": [[0.0, \"#0d0887\"], [0.1111111111111111, \"#46039f\"], [0.2222222222222222, \"#7201a8\"], [0.3333333333333333, \"#9c179e\"], [0.4444444444444444, \"#bd3786\"], [0.5555555555555556, \"#d8576b\"], [0.6666666666666666, \"#ed7953\"], [0.7777777777777778, \"#fb9f3a\"], [0.8888888888888888, \"#fdca26\"], [1.0, \"#f0f921\"]], \"type\": \"contour\"}], \"contourcarpet\": [{\"colorbar\": {\"outlinewidth\": 0, \"ticks\": \"\"}, \"type\": \"contourcarpet\"}], \"heatmap\": [{\"colorbar\": {\"outlinewidth\": 0, \"ticks\": \"\"}, \"colorscale\": [[0.0, \"#0d0887\"], [0.1111111111111111, \"#46039f\"], [0.2222222222222222, \"#7201a8\"], [0.3333333333333333, \"#9c179e\"], [0.4444444444444444, \"#bd3786\"], [0.5555555555555556, \"#d8576b\"], [0.6666666666666666, \"#ed7953\"], [0.7777777777777778, \"#fb9f3a\"], [0.8888888888888888, \"#fdca26\"], [1.0, \"#f0f921\"]], \"type\": \"heatmap\"}], \"heatmapgl\": [{\"colorbar\": {\"outlinewidth\": 0, \"ticks\": \"\"}, \"colorscale\": [[0.0, \"#0d0887\"], [0.1111111111111111, \"#46039f\"], [0.2222222222222222, \"#7201a8\"], [0.3333333333333333, \"#9c179e\"], [0.4444444444444444, \"#bd3786\"], [0.5555555555555556, \"#d8576b\"], [0.6666666666666666, \"#ed7953\"], [0.7777777777777778, \"#fb9f3a\"], [0.8888888888888888, \"#fdca26\"], [1.0, \"#f0f921\"]], \"type\": \"heatmapgl\"}], \"histogram\": [{\"marker\": {\"colorbar\": {\"outlinewidth\": 0, \"ticks\": \"\"}}, \"type\": \"histogram\"}], \"histogram2d\": [{\"colorbar\": {\"outlinewidth\": 0, \"ticks\": \"\"}, \"colorscale\": [[0.0, \"#0d0887\"], [0.1111111111111111, \"#46039f\"], [0.2222222222222222, \"#7201a8\"], [0.3333333333333333, \"#9c179e\"], [0.4444444444444444, \"#bd3786\"], [0.5555555555555556, \"#d8576b\"], [0.6666666666666666, \"#ed7953\"], [0.7777777777777778, \"#fb9f3a\"], [0.8888888888888888, \"#fdca26\"], [1.0, \"#f0f921\"]], \"type\": \"histogram2d\"}], \"histogram2dcontour\": [{\"colorbar\": {\"outlinewidth\": 0, \"ticks\": \"\"}, \"colorscale\": [[0.0, \"#0d0887\"], [0.1111111111111111, \"#46039f\"], [0.2222222222222222, \"#7201a8\"], [0.3333333333333333, \"#9c179e\"], [0.4444444444444444, \"#bd3786\"], [0.5555555555555556, \"#d8576b\"], [0.6666666666666666, \"#ed7953\"], [0.7777777777777778, \"#fb9f3a\"], [0.8888888888888888, \"#fdca26\"], [1.0, \"#f0f921\"]], \"type\": \"histogram2dcontour\"}], \"mesh3d\": [{\"colorbar\": {\"outlinewidth\": 0, \"ticks\": \"\"}, \"type\": \"mesh3d\"}], \"parcoords\": [{\"line\": {\"colorbar\": {\"outlinewidth\": 0, \"ticks\": \"\"}}, \"type\": \"parcoords\"}], \"pie\": [{\"automargin\": true, \"type\": \"pie\"}], \"scatter\": [{\"marker\": {\"colorbar\": {\"outlinewidth\": 0, \"ticks\": \"\"}}, \"type\": \"scatter\"}], \"scatter3d\": [{\"line\": {\"colorbar\": {\"outlinewidth\": 0, \"ticks\": \"\"}}, \"marker\": {\"colorbar\": {\"outlinewidth\": 0, \"ticks\": \"\"}}, \"type\": \"scatter3d\"}], \"scattercarpet\": [{\"marker\": {\"colorbar\": {\"outlinewidth\": 0, \"ticks\": \"\"}}, \"type\": \"scattercarpet\"}], \"scattergeo\": [{\"marker\": {\"colorbar\": {\"outlinewidth\": 0, \"ticks\": \"\"}}, \"type\": \"scattergeo\"}], \"scattergl\": [{\"marker\": {\"colorbar\": {\"outlinewidth\": 0, \"ticks\": \"\"}}, \"type\": \"scattergl\"}], \"scattermapbox\": [{\"marker\": {\"colorbar\": {\"outlinewidth\": 0, \"ticks\": \"\"}}, \"type\": \"scattermapbox\"}], \"scatterpolar\": [{\"marker\": {\"colorbar\": {\"outlinewidth\": 0, \"ticks\": \"\"}}, \"type\": \"scatterpolar\"}], \"scatterpolargl\": [{\"marker\": {\"colorbar\": {\"outlinewidth\": 0, \"ticks\": \"\"}}, \"type\": \"scatterpolargl\"}], \"scatterternary\": [{\"marker\": {\"colorbar\": {\"outlinewidth\": 0, \"ticks\": \"\"}}, \"type\": \"scatterternary\"}], \"surface\": [{\"colorbar\": {\"outlinewidth\": 0, \"ticks\": \"\"}, \"colorscale\": [[0.0, \"#0d0887\"], [0.1111111111111111, \"#46039f\"], [0.2222222222222222, \"#7201a8\"], [0.3333333333333333, \"#9c179e\"], [0.4444444444444444, \"#bd3786\"], [0.5555555555555556, \"#d8576b\"], [0.6666666666666666, \"#ed7953\"], [0.7777777777777778, \"#fb9f3a\"], [0.8888888888888888, \"#fdca26\"], [1.0, \"#f0f921\"]], \"type\": \"surface\"}], \"table\": [{\"cells\": {\"fill\": {\"color\": \"#EBF0F8\"}, \"line\": {\"color\": \"white\"}}, \"header\": {\"fill\": {\"color\": \"#C8D4E3\"}, \"line\": {\"color\": \"white\"}}, \"type\": \"table\"}]}, \"layout\": {\"annotationdefaults\": {\"arrowcolor\": \"#2a3f5f\", \"arrowhead\": 0, \"arrowwidth\": 1}, \"coloraxis\": {\"colorbar\": {\"outlinewidth\": 0, \"ticks\": \"\"}}, \"colorscale\": {\"diverging\": [[0, \"#8e0152\"], [0.1, \"#c51b7d\"], [0.2, \"#de77ae\"], [0.3, \"#f1b6da\"], [0.4, \"#fde0ef\"], [0.5, \"#f7f7f7\"], [0.6, \"#e6f5d0\"], [0.7, \"#b8e186\"], [0.8, \"#7fbc41\"], [0.9, \"#4d9221\"], [1, \"#276419\"]], \"sequential\": [[0.0, \"#0d0887\"], [0.1111111111111111, \"#46039f\"], [0.2222222222222222, \"#7201a8\"], [0.3333333333333333, \"#9c179e\"], [0.4444444444444444, \"#bd3786\"], [0.5555555555555556, \"#d8576b\"], [0.6666666666666666, \"#ed7953\"], [0.7777777777777778, \"#fb9f3a\"], [0.8888888888888888, \"#fdca26\"], [1.0, \"#f0f921\"]], \"sequentialminus\": [[0.0, \"#0d0887\"], [0.1111111111111111, \"#46039f\"], [0.2222222222222222, \"#7201a8\"], [0.3333333333333333, \"#9c179e\"], [0.4444444444444444, \"#bd3786\"], [0.5555555555555556, \"#d8576b\"], [0.6666666666666666, \"#ed7953\"], [0.7777777777777778, \"#fb9f3a\"], [0.8888888888888888, \"#fdca26\"], [1.0, \"#f0f921\"]]}, \"colorway\": [\"#636efa\", \"#EF553B\", \"#00cc96\", \"#ab63fa\", \"#FFA15A\", \"#19d3f3\", \"#FF6692\", \"#B6E880\", \"#FF97FF\", \"#FECB52\"], \"font\": {\"color\": \"#2a3f5f\"}, \"geo\": {\"bgcolor\": \"white\", \"lakecolor\": \"white\", \"landcolor\": \"#E5ECF6\", \"showlakes\": true, \"showland\": true, \"subunitcolor\": \"white\"}, \"hoverlabel\": {\"align\": \"left\"}, \"hovermode\": \"closest\", \"mapbox\": {\"style\": \"light\"}, \"paper_bgcolor\": \"white\", \"plot_bgcolor\": \"#E5ECF6\", \"polar\": {\"angularaxis\": {\"gridcolor\": \"white\", \"linecolor\": \"white\", \"ticks\": \"\"}, \"bgcolor\": \"#E5ECF6\", \"radialaxis\": {\"gridcolor\": \"white\", \"linecolor\": \"white\", \"ticks\": \"\"}}, \"scene\": {\"xaxis\": {\"backgroundcolor\": \"#E5ECF6\", \"gridcolor\": \"white\", \"gridwidth\": 2, \"linecolor\": \"white\", \"showbackground\": true, \"ticks\": \"\", \"zerolinecolor\": \"white\"}, \"yaxis\": {\"backgroundcolor\": \"#E5ECF6\", \"gridcolor\": \"white\", \"gridwidth\": 2, \"linecolor\": \"white\", \"showbackground\": true, \"ticks\": \"\", \"zerolinecolor\": \"white\"}, \"zaxis\": {\"backgroundcolor\": \"#E5ECF6\", \"gridcolor\": \"white\", \"gridwidth\": 2, \"linecolor\": \"white\", \"showbackground\": true, \"ticks\": \"\", \"zerolinecolor\": \"white\"}}, \"shapedefaults\": {\"line\": {\"color\": \"#2a3f5f\"}}, \"ternary\": {\"aaxis\": {\"gridcolor\": \"white\", \"linecolor\": \"white\", \"ticks\": \"\"}, \"baxis\": {\"gridcolor\": \"white\", \"linecolor\": \"white\", \"ticks\": \"\"}, \"bgcolor\": \"#E5ECF6\", \"caxis\": {\"gridcolor\": \"white\", \"linecolor\": \"white\", \"ticks\": \"\"}}, \"title\": {\"x\": 0.05}, \"xaxis\": {\"automargin\": true, \"gridcolor\": \"white\", \"linecolor\": \"white\", \"ticks\": \"\", \"title\": {\"standoff\": 15}, \"zerolinecolor\": \"white\", \"zerolinewidth\": 2}, \"yaxis\": {\"automargin\": true, \"gridcolor\": \"white\", \"linecolor\": \"white\", \"ticks\": \"\", \"title\": {\"standoff\": 15}, \"zerolinecolor\": \"white\", \"zerolinewidth\": 2}}}, \"xaxis\": {\"anchor\": \"y\", \"domain\": [0.0, 1.0], \"title\": {\"text\": \"Total_Amount_Awarded\"}}, \"yaxis\": {\"anchor\": \"x\", \"domain\": [0.0, 1.0], \"title\": {\"text\": \"Program_area\"}}},\n",
       "                        {\"responsive\": true}\n",
       "                    ).then(function(){\n",
       "                            \n",
       "var gd = document.getElementById('37e6623b-990c-4e4e-a6fc-3c7c448f7da0');\n",
       "var x = new MutationObserver(function (mutations, observer) {{\n",
       "        var display = window.getComputedStyle(gd).display;\n",
       "        if (!display || display === 'none') {{\n",
       "            console.log([gd, 'removed!']);\n",
       "            Plotly.purge(gd);\n",
       "            observer.disconnect();\n",
       "        }}\n",
       "}});\n",
       "\n",
       "// Listen for the removal of the full notebook cells\n",
       "var notebookContainer = gd.closest('#notebook-container');\n",
       "if (notebookContainer) {{\n",
       "    x.observe(notebookContainer, {childList: true});\n",
       "}}\n",
       "\n",
       "// Listen for the clearing of the current output cell\n",
       "var outputEl = gd.closest('.output');\n",
       "if (outputEl) {{\n",
       "    x.observe(outputEl, {childList: true});\n",
       "}}\n",
       "\n",
       "                        })\n",
       "                };\n",
       "                });\n",
       "            </script>\n",
       "        </div>"
      ]
     },
     "metadata": {},
     "output_type": "display_data"
    }
   ],
   "source": [
    "## Total grants by program area\n",
    "df_total_grants = df[['Amount_awarded','Program_area_update']]\n",
    "df_total_grants_agg = df_total_grants.groupby('Program_area_update').agg(Total_Amount_Awarded = \n",
    "                                                                      ('Amount_awarded', 'sum')).reset_index()\n",
    "df_total_grants_agg.columns = ['Program_area', 'Total_Amount_Awarded']\n",
    "df_total_grants_agg = df_total_grants_agg.sort_values(\"Total_Amount_Awarded\", ascending=True).reset_index()\n",
    "fig = px.bar(df_total_grants_agg, x=\"Total_Amount_Awarded\", y=\"Program_area\", orientation='h')\n",
    "fig.show()"
   ]
  },
  {
   "cell_type": "code",
   "execution_count": 69,
   "metadata": {},
   "outputs": [
    {
     "data": {
      "application/vnd.plotly.v1+json": {
       "config": {
        "plotlyServerURL": "https://plot.ly"
       },
       "data": [
        {
         "alignmentgroup": "True",
         "hoverlabel": {
          "namelength": 0
         },
         "hovertemplate": "Total_Amount_Awarded=%{x}<br>Age_group_update=%{y}",
         "legendgroup": "",
         "marker": {
          "color": "#636efa"
         },
         "name": "",
         "offsetgroup": "",
         "orientation": "h",
         "showlegend": false,
         "textposition": "auto",
         "type": "bar",
         "x": [
          1031700,
          1232300,
          4517300,
          5101000,
          10205200,
          20486500,
          37147800,
          54171150,
          86460291,
          137545000,
          139535900,
          180175400,
          186124500,
          267168500,
          596765530,
          659204350
         ],
         "xaxis": "x",
         "y": [
          "Children & Seniors",
          "Children, Adults & Seniors",
          "Youth & Seniors",
          "Children, Youth & Seniors",
          "Children & Adults",
          "Youth, Adults & Seniors",
          "Adults & Seniors",
          "Children, Youth & Adults",
          "Seniors",
          "Youth & Adults",
          "Children",
          "Children & Youth",
          "Adults",
          "Youth",
          "General",
          "Not Specified"
         ],
         "yaxis": "y"
        }
       ],
       "layout": {
        "barmode": "relative",
        "legend": {
         "tracegroupgap": 0
        },
        "margin": {
         "t": 60
        },
        "template": {
         "data": {
          "bar": [
           {
            "error_x": {
             "color": "#2a3f5f"
            },
            "error_y": {
             "color": "#2a3f5f"
            },
            "marker": {
             "line": {
              "color": "#E5ECF6",
              "width": 0.5
             }
            },
            "type": "bar"
           }
          ],
          "barpolar": [
           {
            "marker": {
             "line": {
              "color": "#E5ECF6",
              "width": 0.5
             }
            },
            "type": "barpolar"
           }
          ],
          "carpet": [
           {
            "aaxis": {
             "endlinecolor": "#2a3f5f",
             "gridcolor": "white",
             "linecolor": "white",
             "minorgridcolor": "white",
             "startlinecolor": "#2a3f5f"
            },
            "baxis": {
             "endlinecolor": "#2a3f5f",
             "gridcolor": "white",
             "linecolor": "white",
             "minorgridcolor": "white",
             "startlinecolor": "#2a3f5f"
            },
            "type": "carpet"
           }
          ],
          "choropleth": [
           {
            "colorbar": {
             "outlinewidth": 0,
             "ticks": ""
            },
            "type": "choropleth"
           }
          ],
          "contour": [
           {
            "colorbar": {
             "outlinewidth": 0,
             "ticks": ""
            },
            "colorscale": [
             [
              0,
              "#0d0887"
             ],
             [
              0.1111111111111111,
              "#46039f"
             ],
             [
              0.2222222222222222,
              "#7201a8"
             ],
             [
              0.3333333333333333,
              "#9c179e"
             ],
             [
              0.4444444444444444,
              "#bd3786"
             ],
             [
              0.5555555555555556,
              "#d8576b"
             ],
             [
              0.6666666666666666,
              "#ed7953"
             ],
             [
              0.7777777777777778,
              "#fb9f3a"
             ],
             [
              0.8888888888888888,
              "#fdca26"
             ],
             [
              1,
              "#f0f921"
             ]
            ],
            "type": "contour"
           }
          ],
          "contourcarpet": [
           {
            "colorbar": {
             "outlinewidth": 0,
             "ticks": ""
            },
            "type": "contourcarpet"
           }
          ],
          "heatmap": [
           {
            "colorbar": {
             "outlinewidth": 0,
             "ticks": ""
            },
            "colorscale": [
             [
              0,
              "#0d0887"
             ],
             [
              0.1111111111111111,
              "#46039f"
             ],
             [
              0.2222222222222222,
              "#7201a8"
             ],
             [
              0.3333333333333333,
              "#9c179e"
             ],
             [
              0.4444444444444444,
              "#bd3786"
             ],
             [
              0.5555555555555556,
              "#d8576b"
             ],
             [
              0.6666666666666666,
              "#ed7953"
             ],
             [
              0.7777777777777778,
              "#fb9f3a"
             ],
             [
              0.8888888888888888,
              "#fdca26"
             ],
             [
              1,
              "#f0f921"
             ]
            ],
            "type": "heatmap"
           }
          ],
          "heatmapgl": [
           {
            "colorbar": {
             "outlinewidth": 0,
             "ticks": ""
            },
            "colorscale": [
             [
              0,
              "#0d0887"
             ],
             [
              0.1111111111111111,
              "#46039f"
             ],
             [
              0.2222222222222222,
              "#7201a8"
             ],
             [
              0.3333333333333333,
              "#9c179e"
             ],
             [
              0.4444444444444444,
              "#bd3786"
             ],
             [
              0.5555555555555556,
              "#d8576b"
             ],
             [
              0.6666666666666666,
              "#ed7953"
             ],
             [
              0.7777777777777778,
              "#fb9f3a"
             ],
             [
              0.8888888888888888,
              "#fdca26"
             ],
             [
              1,
              "#f0f921"
             ]
            ],
            "type": "heatmapgl"
           }
          ],
          "histogram": [
           {
            "marker": {
             "colorbar": {
              "outlinewidth": 0,
              "ticks": ""
             }
            },
            "type": "histogram"
           }
          ],
          "histogram2d": [
           {
            "colorbar": {
             "outlinewidth": 0,
             "ticks": ""
            },
            "colorscale": [
             [
              0,
              "#0d0887"
             ],
             [
              0.1111111111111111,
              "#46039f"
             ],
             [
              0.2222222222222222,
              "#7201a8"
             ],
             [
              0.3333333333333333,
              "#9c179e"
             ],
             [
              0.4444444444444444,
              "#bd3786"
             ],
             [
              0.5555555555555556,
              "#d8576b"
             ],
             [
              0.6666666666666666,
              "#ed7953"
             ],
             [
              0.7777777777777778,
              "#fb9f3a"
             ],
             [
              0.8888888888888888,
              "#fdca26"
             ],
             [
              1,
              "#f0f921"
             ]
            ],
            "type": "histogram2d"
           }
          ],
          "histogram2dcontour": [
           {
            "colorbar": {
             "outlinewidth": 0,
             "ticks": ""
            },
            "colorscale": [
             [
              0,
              "#0d0887"
             ],
             [
              0.1111111111111111,
              "#46039f"
             ],
             [
              0.2222222222222222,
              "#7201a8"
             ],
             [
              0.3333333333333333,
              "#9c179e"
             ],
             [
              0.4444444444444444,
              "#bd3786"
             ],
             [
              0.5555555555555556,
              "#d8576b"
             ],
             [
              0.6666666666666666,
              "#ed7953"
             ],
             [
              0.7777777777777778,
              "#fb9f3a"
             ],
             [
              0.8888888888888888,
              "#fdca26"
             ],
             [
              1,
              "#f0f921"
             ]
            ],
            "type": "histogram2dcontour"
           }
          ],
          "mesh3d": [
           {
            "colorbar": {
             "outlinewidth": 0,
             "ticks": ""
            },
            "type": "mesh3d"
           }
          ],
          "parcoords": [
           {
            "line": {
             "colorbar": {
              "outlinewidth": 0,
              "ticks": ""
             }
            },
            "type": "parcoords"
           }
          ],
          "pie": [
           {
            "automargin": true,
            "type": "pie"
           }
          ],
          "scatter": [
           {
            "marker": {
             "colorbar": {
              "outlinewidth": 0,
              "ticks": ""
             }
            },
            "type": "scatter"
           }
          ],
          "scatter3d": [
           {
            "line": {
             "colorbar": {
              "outlinewidth": 0,
              "ticks": ""
             }
            },
            "marker": {
             "colorbar": {
              "outlinewidth": 0,
              "ticks": ""
             }
            },
            "type": "scatter3d"
           }
          ],
          "scattercarpet": [
           {
            "marker": {
             "colorbar": {
              "outlinewidth": 0,
              "ticks": ""
             }
            },
            "type": "scattercarpet"
           }
          ],
          "scattergeo": [
           {
            "marker": {
             "colorbar": {
              "outlinewidth": 0,
              "ticks": ""
             }
            },
            "type": "scattergeo"
           }
          ],
          "scattergl": [
           {
            "marker": {
             "colorbar": {
              "outlinewidth": 0,
              "ticks": ""
             }
            },
            "type": "scattergl"
           }
          ],
          "scattermapbox": [
           {
            "marker": {
             "colorbar": {
              "outlinewidth": 0,
              "ticks": ""
             }
            },
            "type": "scattermapbox"
           }
          ],
          "scatterpolar": [
           {
            "marker": {
             "colorbar": {
              "outlinewidth": 0,
              "ticks": ""
             }
            },
            "type": "scatterpolar"
           }
          ],
          "scatterpolargl": [
           {
            "marker": {
             "colorbar": {
              "outlinewidth": 0,
              "ticks": ""
             }
            },
            "type": "scatterpolargl"
           }
          ],
          "scatterternary": [
           {
            "marker": {
             "colorbar": {
              "outlinewidth": 0,
              "ticks": ""
             }
            },
            "type": "scatterternary"
           }
          ],
          "surface": [
           {
            "colorbar": {
             "outlinewidth": 0,
             "ticks": ""
            },
            "colorscale": [
             [
              0,
              "#0d0887"
             ],
             [
              0.1111111111111111,
              "#46039f"
             ],
             [
              0.2222222222222222,
              "#7201a8"
             ],
             [
              0.3333333333333333,
              "#9c179e"
             ],
             [
              0.4444444444444444,
              "#bd3786"
             ],
             [
              0.5555555555555556,
              "#d8576b"
             ],
             [
              0.6666666666666666,
              "#ed7953"
             ],
             [
              0.7777777777777778,
              "#fb9f3a"
             ],
             [
              0.8888888888888888,
              "#fdca26"
             ],
             [
              1,
              "#f0f921"
             ]
            ],
            "type": "surface"
           }
          ],
          "table": [
           {
            "cells": {
             "fill": {
              "color": "#EBF0F8"
             },
             "line": {
              "color": "white"
             }
            },
            "header": {
             "fill": {
              "color": "#C8D4E3"
             },
             "line": {
              "color": "white"
             }
            },
            "type": "table"
           }
          ]
         },
         "layout": {
          "annotationdefaults": {
           "arrowcolor": "#2a3f5f",
           "arrowhead": 0,
           "arrowwidth": 1
          },
          "coloraxis": {
           "colorbar": {
            "outlinewidth": 0,
            "ticks": ""
           }
          },
          "colorscale": {
           "diverging": [
            [
             0,
             "#8e0152"
            ],
            [
             0.1,
             "#c51b7d"
            ],
            [
             0.2,
             "#de77ae"
            ],
            [
             0.3,
             "#f1b6da"
            ],
            [
             0.4,
             "#fde0ef"
            ],
            [
             0.5,
             "#f7f7f7"
            ],
            [
             0.6,
             "#e6f5d0"
            ],
            [
             0.7,
             "#b8e186"
            ],
            [
             0.8,
             "#7fbc41"
            ],
            [
             0.9,
             "#4d9221"
            ],
            [
             1,
             "#276419"
            ]
           ],
           "sequential": [
            [
             0,
             "#0d0887"
            ],
            [
             0.1111111111111111,
             "#46039f"
            ],
            [
             0.2222222222222222,
             "#7201a8"
            ],
            [
             0.3333333333333333,
             "#9c179e"
            ],
            [
             0.4444444444444444,
             "#bd3786"
            ],
            [
             0.5555555555555556,
             "#d8576b"
            ],
            [
             0.6666666666666666,
             "#ed7953"
            ],
            [
             0.7777777777777778,
             "#fb9f3a"
            ],
            [
             0.8888888888888888,
             "#fdca26"
            ],
            [
             1,
             "#f0f921"
            ]
           ],
           "sequentialminus": [
            [
             0,
             "#0d0887"
            ],
            [
             0.1111111111111111,
             "#46039f"
            ],
            [
             0.2222222222222222,
             "#7201a8"
            ],
            [
             0.3333333333333333,
             "#9c179e"
            ],
            [
             0.4444444444444444,
             "#bd3786"
            ],
            [
             0.5555555555555556,
             "#d8576b"
            ],
            [
             0.6666666666666666,
             "#ed7953"
            ],
            [
             0.7777777777777778,
             "#fb9f3a"
            ],
            [
             0.8888888888888888,
             "#fdca26"
            ],
            [
             1,
             "#f0f921"
            ]
           ]
          },
          "colorway": [
           "#636efa",
           "#EF553B",
           "#00cc96",
           "#ab63fa",
           "#FFA15A",
           "#19d3f3",
           "#FF6692",
           "#B6E880",
           "#FF97FF",
           "#FECB52"
          ],
          "font": {
           "color": "#2a3f5f"
          },
          "geo": {
           "bgcolor": "white",
           "lakecolor": "white",
           "landcolor": "#E5ECF6",
           "showlakes": true,
           "showland": true,
           "subunitcolor": "white"
          },
          "hoverlabel": {
           "align": "left"
          },
          "hovermode": "closest",
          "mapbox": {
           "style": "light"
          },
          "paper_bgcolor": "white",
          "plot_bgcolor": "#E5ECF6",
          "polar": {
           "angularaxis": {
            "gridcolor": "white",
            "linecolor": "white",
            "ticks": ""
           },
           "bgcolor": "#E5ECF6",
           "radialaxis": {
            "gridcolor": "white",
            "linecolor": "white",
            "ticks": ""
           }
          },
          "scene": {
           "xaxis": {
            "backgroundcolor": "#E5ECF6",
            "gridcolor": "white",
            "gridwidth": 2,
            "linecolor": "white",
            "showbackground": true,
            "ticks": "",
            "zerolinecolor": "white"
           },
           "yaxis": {
            "backgroundcolor": "#E5ECF6",
            "gridcolor": "white",
            "gridwidth": 2,
            "linecolor": "white",
            "showbackground": true,
            "ticks": "",
            "zerolinecolor": "white"
           },
           "zaxis": {
            "backgroundcolor": "#E5ECF6",
            "gridcolor": "white",
            "gridwidth": 2,
            "linecolor": "white",
            "showbackground": true,
            "ticks": "",
            "zerolinecolor": "white"
           }
          },
          "shapedefaults": {
           "line": {
            "color": "#2a3f5f"
           }
          },
          "ternary": {
           "aaxis": {
            "gridcolor": "white",
            "linecolor": "white",
            "ticks": ""
           },
           "baxis": {
            "gridcolor": "white",
            "linecolor": "white",
            "ticks": ""
           },
           "bgcolor": "#E5ECF6",
           "caxis": {
            "gridcolor": "white",
            "linecolor": "white",
            "ticks": ""
           }
          },
          "title": {
           "x": 0.05
          },
          "xaxis": {
           "automargin": true,
           "gridcolor": "white",
           "linecolor": "white",
           "ticks": "",
           "title": {
            "standoff": 15
           },
           "zerolinecolor": "white",
           "zerolinewidth": 2
          },
          "yaxis": {
           "automargin": true,
           "gridcolor": "white",
           "linecolor": "white",
           "ticks": "",
           "title": {
            "standoff": 15
           },
           "zerolinecolor": "white",
           "zerolinewidth": 2
          }
         }
        },
        "xaxis": {
         "anchor": "y",
         "domain": [
          0,
          1
         ],
         "title": {
          "text": "Total_Amount_Awarded"
         }
        },
        "yaxis": {
         "anchor": "x",
         "domain": [
          0,
          1
         ],
         "title": {
          "text": "Age_group_update"
         }
        }
       }
      },
      "text/html": [
       "<div>\n",
       "        \n",
       "        \n",
       "            <div id=\"fe8ca81b-6f77-4922-b676-cca7e5a3f471\" class=\"plotly-graph-div\" style=\"height:525px; width:100%;\"></div>\n",
       "            <script type=\"text/javascript\">\n",
       "                require([\"plotly\"], function(Plotly) {\n",
       "                    window.PLOTLYENV=window.PLOTLYENV || {};\n",
       "                    \n",
       "                if (document.getElementById(\"fe8ca81b-6f77-4922-b676-cca7e5a3f471\")) {\n",
       "                    Plotly.newPlot(\n",
       "                        'fe8ca81b-6f77-4922-b676-cca7e5a3f471',\n",
       "                        [{\"alignmentgroup\": \"True\", \"hoverlabel\": {\"namelength\": 0}, \"hovertemplate\": \"Total_Amount_Awarded=%{x}<br>Age_group_update=%{y}\", \"legendgroup\": \"\", \"marker\": {\"color\": \"#636efa\"}, \"name\": \"\", \"offsetgroup\": \"\", \"orientation\": \"h\", \"showlegend\": false, \"textposition\": \"auto\", \"type\": \"bar\", \"x\": [1031700, 1232300, 4517300, 5101000, 10205200, 20486500, 37147800, 54171150, 86460291, 137545000, 139535900, 180175400, 186124500, 267168500, 596765530, 659204350], \"xaxis\": \"x\", \"y\": [\"Children & Seniors\", \"Children, Adults & Seniors\", \"Youth & Seniors\", \"Children, Youth & Seniors\", \"Children & Adults\", \"Youth, Adults & Seniors\", \"Adults & Seniors\", \"Children, Youth & Adults\", \"Seniors\", \"Youth & Adults\", \"Children\", \"Children & Youth\", \"Adults\", \"Youth\", \"General\", \"Not Specified\"], \"yaxis\": \"y\"}],\n",
       "                        {\"barmode\": \"relative\", \"legend\": {\"tracegroupgap\": 0}, \"margin\": {\"t\": 60}, \"template\": {\"data\": {\"bar\": [{\"error_x\": {\"color\": \"#2a3f5f\"}, \"error_y\": {\"color\": \"#2a3f5f\"}, \"marker\": {\"line\": {\"color\": \"#E5ECF6\", \"width\": 0.5}}, \"type\": \"bar\"}], \"barpolar\": [{\"marker\": {\"line\": {\"color\": \"#E5ECF6\", \"width\": 0.5}}, \"type\": \"barpolar\"}], \"carpet\": [{\"aaxis\": {\"endlinecolor\": \"#2a3f5f\", \"gridcolor\": \"white\", \"linecolor\": \"white\", \"minorgridcolor\": \"white\", \"startlinecolor\": \"#2a3f5f\"}, \"baxis\": {\"endlinecolor\": \"#2a3f5f\", \"gridcolor\": \"white\", \"linecolor\": \"white\", \"minorgridcolor\": \"white\", \"startlinecolor\": \"#2a3f5f\"}, \"type\": \"carpet\"}], \"choropleth\": [{\"colorbar\": {\"outlinewidth\": 0, \"ticks\": \"\"}, \"type\": \"choropleth\"}], \"contour\": [{\"colorbar\": {\"outlinewidth\": 0, \"ticks\": \"\"}, \"colorscale\": [[0.0, \"#0d0887\"], [0.1111111111111111, \"#46039f\"], [0.2222222222222222, \"#7201a8\"], [0.3333333333333333, \"#9c179e\"], [0.4444444444444444, \"#bd3786\"], [0.5555555555555556, \"#d8576b\"], [0.6666666666666666, \"#ed7953\"], [0.7777777777777778, \"#fb9f3a\"], [0.8888888888888888, \"#fdca26\"], [1.0, \"#f0f921\"]], \"type\": \"contour\"}], \"contourcarpet\": [{\"colorbar\": {\"outlinewidth\": 0, \"ticks\": \"\"}, \"type\": \"contourcarpet\"}], \"heatmap\": [{\"colorbar\": {\"outlinewidth\": 0, \"ticks\": \"\"}, \"colorscale\": [[0.0, \"#0d0887\"], [0.1111111111111111, \"#46039f\"], [0.2222222222222222, \"#7201a8\"], [0.3333333333333333, \"#9c179e\"], [0.4444444444444444, \"#bd3786\"], [0.5555555555555556, \"#d8576b\"], [0.6666666666666666, \"#ed7953\"], [0.7777777777777778, \"#fb9f3a\"], [0.8888888888888888, \"#fdca26\"], [1.0, \"#f0f921\"]], \"type\": \"heatmap\"}], \"heatmapgl\": [{\"colorbar\": {\"outlinewidth\": 0, \"ticks\": \"\"}, \"colorscale\": [[0.0, \"#0d0887\"], [0.1111111111111111, \"#46039f\"], [0.2222222222222222, \"#7201a8\"], [0.3333333333333333, \"#9c179e\"], [0.4444444444444444, \"#bd3786\"], [0.5555555555555556, \"#d8576b\"], [0.6666666666666666, \"#ed7953\"], [0.7777777777777778, \"#fb9f3a\"], [0.8888888888888888, \"#fdca26\"], [1.0, \"#f0f921\"]], \"type\": \"heatmapgl\"}], \"histogram\": [{\"marker\": {\"colorbar\": {\"outlinewidth\": 0, \"ticks\": \"\"}}, \"type\": \"histogram\"}], \"histogram2d\": [{\"colorbar\": {\"outlinewidth\": 0, \"ticks\": \"\"}, \"colorscale\": [[0.0, \"#0d0887\"], [0.1111111111111111, \"#46039f\"], [0.2222222222222222, \"#7201a8\"], [0.3333333333333333, \"#9c179e\"], [0.4444444444444444, \"#bd3786\"], [0.5555555555555556, \"#d8576b\"], [0.6666666666666666, \"#ed7953\"], [0.7777777777777778, \"#fb9f3a\"], [0.8888888888888888, \"#fdca26\"], [1.0, \"#f0f921\"]], \"type\": \"histogram2d\"}], \"histogram2dcontour\": [{\"colorbar\": {\"outlinewidth\": 0, \"ticks\": \"\"}, \"colorscale\": [[0.0, \"#0d0887\"], [0.1111111111111111, \"#46039f\"], [0.2222222222222222, \"#7201a8\"], [0.3333333333333333, \"#9c179e\"], [0.4444444444444444, \"#bd3786\"], [0.5555555555555556, \"#d8576b\"], [0.6666666666666666, \"#ed7953\"], [0.7777777777777778, \"#fb9f3a\"], [0.8888888888888888, \"#fdca26\"], [1.0, \"#f0f921\"]], \"type\": \"histogram2dcontour\"}], \"mesh3d\": [{\"colorbar\": {\"outlinewidth\": 0, \"ticks\": \"\"}, \"type\": \"mesh3d\"}], \"parcoords\": [{\"line\": {\"colorbar\": {\"outlinewidth\": 0, \"ticks\": \"\"}}, \"type\": \"parcoords\"}], \"pie\": [{\"automargin\": true, \"type\": \"pie\"}], \"scatter\": [{\"marker\": {\"colorbar\": {\"outlinewidth\": 0, \"ticks\": \"\"}}, \"type\": \"scatter\"}], \"scatter3d\": [{\"line\": {\"colorbar\": {\"outlinewidth\": 0, \"ticks\": \"\"}}, \"marker\": {\"colorbar\": {\"outlinewidth\": 0, \"ticks\": \"\"}}, \"type\": \"scatter3d\"}], \"scattercarpet\": [{\"marker\": {\"colorbar\": {\"outlinewidth\": 0, \"ticks\": \"\"}}, \"type\": \"scattercarpet\"}], \"scattergeo\": [{\"marker\": {\"colorbar\": {\"outlinewidth\": 0, \"ticks\": \"\"}}, \"type\": \"scattergeo\"}], \"scattergl\": [{\"marker\": {\"colorbar\": {\"outlinewidth\": 0, \"ticks\": \"\"}}, \"type\": \"scattergl\"}], \"scattermapbox\": [{\"marker\": {\"colorbar\": {\"outlinewidth\": 0, \"ticks\": \"\"}}, \"type\": \"scattermapbox\"}], \"scatterpolar\": [{\"marker\": {\"colorbar\": {\"outlinewidth\": 0, \"ticks\": \"\"}}, \"type\": \"scatterpolar\"}], \"scatterpolargl\": [{\"marker\": {\"colorbar\": {\"outlinewidth\": 0, \"ticks\": \"\"}}, \"type\": \"scatterpolargl\"}], \"scatterternary\": [{\"marker\": {\"colorbar\": {\"outlinewidth\": 0, \"ticks\": \"\"}}, \"type\": \"scatterternary\"}], \"surface\": [{\"colorbar\": {\"outlinewidth\": 0, \"ticks\": \"\"}, \"colorscale\": [[0.0, \"#0d0887\"], [0.1111111111111111, \"#46039f\"], [0.2222222222222222, \"#7201a8\"], [0.3333333333333333, \"#9c179e\"], [0.4444444444444444, \"#bd3786\"], [0.5555555555555556, \"#d8576b\"], [0.6666666666666666, \"#ed7953\"], [0.7777777777777778, \"#fb9f3a\"], [0.8888888888888888, \"#fdca26\"], [1.0, \"#f0f921\"]], \"type\": \"surface\"}], \"table\": [{\"cells\": {\"fill\": {\"color\": \"#EBF0F8\"}, \"line\": {\"color\": \"white\"}}, \"header\": {\"fill\": {\"color\": \"#C8D4E3\"}, \"line\": {\"color\": \"white\"}}, \"type\": \"table\"}]}, \"layout\": {\"annotationdefaults\": {\"arrowcolor\": \"#2a3f5f\", \"arrowhead\": 0, \"arrowwidth\": 1}, \"coloraxis\": {\"colorbar\": {\"outlinewidth\": 0, \"ticks\": \"\"}}, \"colorscale\": {\"diverging\": [[0, \"#8e0152\"], [0.1, \"#c51b7d\"], [0.2, \"#de77ae\"], [0.3, \"#f1b6da\"], [0.4, \"#fde0ef\"], [0.5, \"#f7f7f7\"], [0.6, \"#e6f5d0\"], [0.7, \"#b8e186\"], [0.8, \"#7fbc41\"], [0.9, \"#4d9221\"], [1, \"#276419\"]], \"sequential\": [[0.0, \"#0d0887\"], [0.1111111111111111, \"#46039f\"], [0.2222222222222222, \"#7201a8\"], [0.3333333333333333, \"#9c179e\"], [0.4444444444444444, \"#bd3786\"], [0.5555555555555556, \"#d8576b\"], [0.6666666666666666, \"#ed7953\"], [0.7777777777777778, \"#fb9f3a\"], [0.8888888888888888, \"#fdca26\"], [1.0, \"#f0f921\"]], \"sequentialminus\": [[0.0, \"#0d0887\"], [0.1111111111111111, \"#46039f\"], [0.2222222222222222, \"#7201a8\"], [0.3333333333333333, \"#9c179e\"], [0.4444444444444444, \"#bd3786\"], [0.5555555555555556, \"#d8576b\"], [0.6666666666666666, \"#ed7953\"], [0.7777777777777778, \"#fb9f3a\"], [0.8888888888888888, \"#fdca26\"], [1.0, \"#f0f921\"]]}, \"colorway\": [\"#636efa\", \"#EF553B\", \"#00cc96\", \"#ab63fa\", \"#FFA15A\", \"#19d3f3\", \"#FF6692\", \"#B6E880\", \"#FF97FF\", \"#FECB52\"], \"font\": {\"color\": \"#2a3f5f\"}, \"geo\": {\"bgcolor\": \"white\", \"lakecolor\": \"white\", \"landcolor\": \"#E5ECF6\", \"showlakes\": true, \"showland\": true, \"subunitcolor\": \"white\"}, \"hoverlabel\": {\"align\": \"left\"}, \"hovermode\": \"closest\", \"mapbox\": {\"style\": \"light\"}, \"paper_bgcolor\": \"white\", \"plot_bgcolor\": \"#E5ECF6\", \"polar\": {\"angularaxis\": {\"gridcolor\": \"white\", \"linecolor\": \"white\", \"ticks\": \"\"}, \"bgcolor\": \"#E5ECF6\", \"radialaxis\": {\"gridcolor\": \"white\", \"linecolor\": \"white\", \"ticks\": \"\"}}, \"scene\": {\"xaxis\": {\"backgroundcolor\": \"#E5ECF6\", \"gridcolor\": \"white\", \"gridwidth\": 2, \"linecolor\": \"white\", \"showbackground\": true, \"ticks\": \"\", \"zerolinecolor\": \"white\"}, \"yaxis\": {\"backgroundcolor\": \"#E5ECF6\", \"gridcolor\": \"white\", \"gridwidth\": 2, \"linecolor\": \"white\", \"showbackground\": true, \"ticks\": \"\", \"zerolinecolor\": \"white\"}, \"zaxis\": {\"backgroundcolor\": \"#E5ECF6\", \"gridcolor\": \"white\", \"gridwidth\": 2, \"linecolor\": \"white\", \"showbackground\": true, \"ticks\": \"\", \"zerolinecolor\": \"white\"}}, \"shapedefaults\": {\"line\": {\"color\": \"#2a3f5f\"}}, \"ternary\": {\"aaxis\": {\"gridcolor\": \"white\", \"linecolor\": \"white\", \"ticks\": \"\"}, \"baxis\": {\"gridcolor\": \"white\", \"linecolor\": \"white\", \"ticks\": \"\"}, \"bgcolor\": \"#E5ECF6\", \"caxis\": {\"gridcolor\": \"white\", \"linecolor\": \"white\", \"ticks\": \"\"}}, \"title\": {\"x\": 0.05}, \"xaxis\": {\"automargin\": true, \"gridcolor\": \"white\", \"linecolor\": \"white\", \"ticks\": \"\", \"title\": {\"standoff\": 15}, \"zerolinecolor\": \"white\", \"zerolinewidth\": 2}, \"yaxis\": {\"automargin\": true, \"gridcolor\": \"white\", \"linecolor\": \"white\", \"ticks\": \"\", \"title\": {\"standoff\": 15}, \"zerolinecolor\": \"white\", \"zerolinewidth\": 2}}}, \"xaxis\": {\"anchor\": \"y\", \"domain\": [0.0, 1.0], \"title\": {\"text\": \"Total_Amount_Awarded\"}}, \"yaxis\": {\"anchor\": \"x\", \"domain\": [0.0, 1.0], \"title\": {\"text\": \"Age_group_update\"}}},\n",
       "                        {\"responsive\": true}\n",
       "                    ).then(function(){\n",
       "                            \n",
       "var gd = document.getElementById('fe8ca81b-6f77-4922-b676-cca7e5a3f471');\n",
       "var x = new MutationObserver(function (mutations, observer) {{\n",
       "        var display = window.getComputedStyle(gd).display;\n",
       "        if (!display || display === 'none') {{\n",
       "            console.log([gd, 'removed!']);\n",
       "            Plotly.purge(gd);\n",
       "            observer.disconnect();\n",
       "        }}\n",
       "}});\n",
       "\n",
       "// Listen for the removal of the full notebook cells\n",
       "var notebookContainer = gd.closest('#notebook-container');\n",
       "if (notebookContainer) {{\n",
       "    x.observe(notebookContainer, {childList: true});\n",
       "}}\n",
       "\n",
       "// Listen for the clearing of the current output cell\n",
       "var outputEl = gd.closest('.output');\n",
       "if (outputEl) {{\n",
       "    x.observe(outputEl, {childList: true});\n",
       "}}\n",
       "\n",
       "                        })\n",
       "                };\n",
       "                });\n",
       "            </script>\n",
       "        </div>"
      ]
     },
     "metadata": {},
     "output_type": "display_data"
    }
   ],
   "source": [
    "## Total grants by age group\n",
    "df_total_grants = df[['Amount_awarded','Age_group_update']]\n",
    "df_total_grants_agg = df_total_grants.groupby('Age_group_update').agg(Total_Amount_Awarded = \n",
    "                                                                      ('Amount_awarded', 'sum')).reset_index()\n",
    "df_total_grants_agg.columns = ['Age_group_update', 'Total_Amount_Awarded']\n",
    "df_total_grants_agg = df_total_grants_agg.sort_values(\"Total_Amount_Awarded\", ascending=True).reset_index()\n",
    "fig = px.bar(df_total_grants_agg, x=\"Total_Amount_Awarded\", y=\"Age_group_update\", orientation='h')\n",
    "fig.show()"
   ]
  },
  {
   "cell_type": "code",
   "execution_count": 68,
   "metadata": {},
   "outputs": [
    {
     "data": {
      "application/vnd.plotly.v1+json": {
       "config": {
        "plotlyServerURL": "https://plot.ly"
       },
       "data": [
        {
         "alignmentgroup": "True",
         "hoverlabel": {
          "namelength": 0
         },
         "hovertemplate": "Total_Amount_Awarded=%{x}<br>Budget_fund=%{y}",
         "legendgroup": "",
         "marker": {
          "color": "#636efa"
         },
         "name": "",
         "offsetgroup": "",
         "orientation": "h",
         "showlegend": false,
         "textposition": "auto",
         "type": "bar",
         "x": [
          6783800,
          17038300,
          22870400,
          46019300,
          71966200,
          79804200,
          82321500,
          83132000,
          310810200,
          346749480,
          399464300,
          919912741
         ],
         "xaxis": "x",
         "y": [
          "Collective Impact",
          "Provincial Impact",
          "Ontario150",
          "Community Building Fund",
          "Seed",
          "Capital",
          "YOF",
          "Resilient Communities Fund",
          "Grow",
          "Capital Only",
          "Project and Capital",
          "Project Only"
         ],
         "yaxis": "y"
        }
       ],
       "layout": {
        "barmode": "relative",
        "legend": {
         "tracegroupgap": 0
        },
        "margin": {
         "t": 60
        },
        "template": {
         "data": {
          "bar": [
           {
            "error_x": {
             "color": "#2a3f5f"
            },
            "error_y": {
             "color": "#2a3f5f"
            },
            "marker": {
             "line": {
              "color": "#E5ECF6",
              "width": 0.5
             }
            },
            "type": "bar"
           }
          ],
          "barpolar": [
           {
            "marker": {
             "line": {
              "color": "#E5ECF6",
              "width": 0.5
             }
            },
            "type": "barpolar"
           }
          ],
          "carpet": [
           {
            "aaxis": {
             "endlinecolor": "#2a3f5f",
             "gridcolor": "white",
             "linecolor": "white",
             "minorgridcolor": "white",
             "startlinecolor": "#2a3f5f"
            },
            "baxis": {
             "endlinecolor": "#2a3f5f",
             "gridcolor": "white",
             "linecolor": "white",
             "minorgridcolor": "white",
             "startlinecolor": "#2a3f5f"
            },
            "type": "carpet"
           }
          ],
          "choropleth": [
           {
            "colorbar": {
             "outlinewidth": 0,
             "ticks": ""
            },
            "type": "choropleth"
           }
          ],
          "contour": [
           {
            "colorbar": {
             "outlinewidth": 0,
             "ticks": ""
            },
            "colorscale": [
             [
              0,
              "#0d0887"
             ],
             [
              0.1111111111111111,
              "#46039f"
             ],
             [
              0.2222222222222222,
              "#7201a8"
             ],
             [
              0.3333333333333333,
              "#9c179e"
             ],
             [
              0.4444444444444444,
              "#bd3786"
             ],
             [
              0.5555555555555556,
              "#d8576b"
             ],
             [
              0.6666666666666666,
              "#ed7953"
             ],
             [
              0.7777777777777778,
              "#fb9f3a"
             ],
             [
              0.8888888888888888,
              "#fdca26"
             ],
             [
              1,
              "#f0f921"
             ]
            ],
            "type": "contour"
           }
          ],
          "contourcarpet": [
           {
            "colorbar": {
             "outlinewidth": 0,
             "ticks": ""
            },
            "type": "contourcarpet"
           }
          ],
          "heatmap": [
           {
            "colorbar": {
             "outlinewidth": 0,
             "ticks": ""
            },
            "colorscale": [
             [
              0,
              "#0d0887"
             ],
             [
              0.1111111111111111,
              "#46039f"
             ],
             [
              0.2222222222222222,
              "#7201a8"
             ],
             [
              0.3333333333333333,
              "#9c179e"
             ],
             [
              0.4444444444444444,
              "#bd3786"
             ],
             [
              0.5555555555555556,
              "#d8576b"
             ],
             [
              0.6666666666666666,
              "#ed7953"
             ],
             [
              0.7777777777777778,
              "#fb9f3a"
             ],
             [
              0.8888888888888888,
              "#fdca26"
             ],
             [
              1,
              "#f0f921"
             ]
            ],
            "type": "heatmap"
           }
          ],
          "heatmapgl": [
           {
            "colorbar": {
             "outlinewidth": 0,
             "ticks": ""
            },
            "colorscale": [
             [
              0,
              "#0d0887"
             ],
             [
              0.1111111111111111,
              "#46039f"
             ],
             [
              0.2222222222222222,
              "#7201a8"
             ],
             [
              0.3333333333333333,
              "#9c179e"
             ],
             [
              0.4444444444444444,
              "#bd3786"
             ],
             [
              0.5555555555555556,
              "#d8576b"
             ],
             [
              0.6666666666666666,
              "#ed7953"
             ],
             [
              0.7777777777777778,
              "#fb9f3a"
             ],
             [
              0.8888888888888888,
              "#fdca26"
             ],
             [
              1,
              "#f0f921"
             ]
            ],
            "type": "heatmapgl"
           }
          ],
          "histogram": [
           {
            "marker": {
             "colorbar": {
              "outlinewidth": 0,
              "ticks": ""
             }
            },
            "type": "histogram"
           }
          ],
          "histogram2d": [
           {
            "colorbar": {
             "outlinewidth": 0,
             "ticks": ""
            },
            "colorscale": [
             [
              0,
              "#0d0887"
             ],
             [
              0.1111111111111111,
              "#46039f"
             ],
             [
              0.2222222222222222,
              "#7201a8"
             ],
             [
              0.3333333333333333,
              "#9c179e"
             ],
             [
              0.4444444444444444,
              "#bd3786"
             ],
             [
              0.5555555555555556,
              "#d8576b"
             ],
             [
              0.6666666666666666,
              "#ed7953"
             ],
             [
              0.7777777777777778,
              "#fb9f3a"
             ],
             [
              0.8888888888888888,
              "#fdca26"
             ],
             [
              1,
              "#f0f921"
             ]
            ],
            "type": "histogram2d"
           }
          ],
          "histogram2dcontour": [
           {
            "colorbar": {
             "outlinewidth": 0,
             "ticks": ""
            },
            "colorscale": [
             [
              0,
              "#0d0887"
             ],
             [
              0.1111111111111111,
              "#46039f"
             ],
             [
              0.2222222222222222,
              "#7201a8"
             ],
             [
              0.3333333333333333,
              "#9c179e"
             ],
             [
              0.4444444444444444,
              "#bd3786"
             ],
             [
              0.5555555555555556,
              "#d8576b"
             ],
             [
              0.6666666666666666,
              "#ed7953"
             ],
             [
              0.7777777777777778,
              "#fb9f3a"
             ],
             [
              0.8888888888888888,
              "#fdca26"
             ],
             [
              1,
              "#f0f921"
             ]
            ],
            "type": "histogram2dcontour"
           }
          ],
          "mesh3d": [
           {
            "colorbar": {
             "outlinewidth": 0,
             "ticks": ""
            },
            "type": "mesh3d"
           }
          ],
          "parcoords": [
           {
            "line": {
             "colorbar": {
              "outlinewidth": 0,
              "ticks": ""
             }
            },
            "type": "parcoords"
           }
          ],
          "pie": [
           {
            "automargin": true,
            "type": "pie"
           }
          ],
          "scatter": [
           {
            "marker": {
             "colorbar": {
              "outlinewidth": 0,
              "ticks": ""
             }
            },
            "type": "scatter"
           }
          ],
          "scatter3d": [
           {
            "line": {
             "colorbar": {
              "outlinewidth": 0,
              "ticks": ""
             }
            },
            "marker": {
             "colorbar": {
              "outlinewidth": 0,
              "ticks": ""
             }
            },
            "type": "scatter3d"
           }
          ],
          "scattercarpet": [
           {
            "marker": {
             "colorbar": {
              "outlinewidth": 0,
              "ticks": ""
             }
            },
            "type": "scattercarpet"
           }
          ],
          "scattergeo": [
           {
            "marker": {
             "colorbar": {
              "outlinewidth": 0,
              "ticks": ""
             }
            },
            "type": "scattergeo"
           }
          ],
          "scattergl": [
           {
            "marker": {
             "colorbar": {
              "outlinewidth": 0,
              "ticks": ""
             }
            },
            "type": "scattergl"
           }
          ],
          "scattermapbox": [
           {
            "marker": {
             "colorbar": {
              "outlinewidth": 0,
              "ticks": ""
             }
            },
            "type": "scattermapbox"
           }
          ],
          "scatterpolar": [
           {
            "marker": {
             "colorbar": {
              "outlinewidth": 0,
              "ticks": ""
             }
            },
            "type": "scatterpolar"
           }
          ],
          "scatterpolargl": [
           {
            "marker": {
             "colorbar": {
              "outlinewidth": 0,
              "ticks": ""
             }
            },
            "type": "scatterpolargl"
           }
          ],
          "scatterternary": [
           {
            "marker": {
             "colorbar": {
              "outlinewidth": 0,
              "ticks": ""
             }
            },
            "type": "scatterternary"
           }
          ],
          "surface": [
           {
            "colorbar": {
             "outlinewidth": 0,
             "ticks": ""
            },
            "colorscale": [
             [
              0,
              "#0d0887"
             ],
             [
              0.1111111111111111,
              "#46039f"
             ],
             [
              0.2222222222222222,
              "#7201a8"
             ],
             [
              0.3333333333333333,
              "#9c179e"
             ],
             [
              0.4444444444444444,
              "#bd3786"
             ],
             [
              0.5555555555555556,
              "#d8576b"
             ],
             [
              0.6666666666666666,
              "#ed7953"
             ],
             [
              0.7777777777777778,
              "#fb9f3a"
             ],
             [
              0.8888888888888888,
              "#fdca26"
             ],
             [
              1,
              "#f0f921"
             ]
            ],
            "type": "surface"
           }
          ],
          "table": [
           {
            "cells": {
             "fill": {
              "color": "#EBF0F8"
             },
             "line": {
              "color": "white"
             }
            },
            "header": {
             "fill": {
              "color": "#C8D4E3"
             },
             "line": {
              "color": "white"
             }
            },
            "type": "table"
           }
          ]
         },
         "layout": {
          "annotationdefaults": {
           "arrowcolor": "#2a3f5f",
           "arrowhead": 0,
           "arrowwidth": 1
          },
          "coloraxis": {
           "colorbar": {
            "outlinewidth": 0,
            "ticks": ""
           }
          },
          "colorscale": {
           "diverging": [
            [
             0,
             "#8e0152"
            ],
            [
             0.1,
             "#c51b7d"
            ],
            [
             0.2,
             "#de77ae"
            ],
            [
             0.3,
             "#f1b6da"
            ],
            [
             0.4,
             "#fde0ef"
            ],
            [
             0.5,
             "#f7f7f7"
            ],
            [
             0.6,
             "#e6f5d0"
            ],
            [
             0.7,
             "#b8e186"
            ],
            [
             0.8,
             "#7fbc41"
            ],
            [
             0.9,
             "#4d9221"
            ],
            [
             1,
             "#276419"
            ]
           ],
           "sequential": [
            [
             0,
             "#0d0887"
            ],
            [
             0.1111111111111111,
             "#46039f"
            ],
            [
             0.2222222222222222,
             "#7201a8"
            ],
            [
             0.3333333333333333,
             "#9c179e"
            ],
            [
             0.4444444444444444,
             "#bd3786"
            ],
            [
             0.5555555555555556,
             "#d8576b"
            ],
            [
             0.6666666666666666,
             "#ed7953"
            ],
            [
             0.7777777777777778,
             "#fb9f3a"
            ],
            [
             0.8888888888888888,
             "#fdca26"
            ],
            [
             1,
             "#f0f921"
            ]
           ],
           "sequentialminus": [
            [
             0,
             "#0d0887"
            ],
            [
             0.1111111111111111,
             "#46039f"
            ],
            [
             0.2222222222222222,
             "#7201a8"
            ],
            [
             0.3333333333333333,
             "#9c179e"
            ],
            [
             0.4444444444444444,
             "#bd3786"
            ],
            [
             0.5555555555555556,
             "#d8576b"
            ],
            [
             0.6666666666666666,
             "#ed7953"
            ],
            [
             0.7777777777777778,
             "#fb9f3a"
            ],
            [
             0.8888888888888888,
             "#fdca26"
            ],
            [
             1,
             "#f0f921"
            ]
           ]
          },
          "colorway": [
           "#636efa",
           "#EF553B",
           "#00cc96",
           "#ab63fa",
           "#FFA15A",
           "#19d3f3",
           "#FF6692",
           "#B6E880",
           "#FF97FF",
           "#FECB52"
          ],
          "font": {
           "color": "#2a3f5f"
          },
          "geo": {
           "bgcolor": "white",
           "lakecolor": "white",
           "landcolor": "#E5ECF6",
           "showlakes": true,
           "showland": true,
           "subunitcolor": "white"
          },
          "hoverlabel": {
           "align": "left"
          },
          "hovermode": "closest",
          "mapbox": {
           "style": "light"
          },
          "paper_bgcolor": "white",
          "plot_bgcolor": "#E5ECF6",
          "polar": {
           "angularaxis": {
            "gridcolor": "white",
            "linecolor": "white",
            "ticks": ""
           },
           "bgcolor": "#E5ECF6",
           "radialaxis": {
            "gridcolor": "white",
            "linecolor": "white",
            "ticks": ""
           }
          },
          "scene": {
           "xaxis": {
            "backgroundcolor": "#E5ECF6",
            "gridcolor": "white",
            "gridwidth": 2,
            "linecolor": "white",
            "showbackground": true,
            "ticks": "",
            "zerolinecolor": "white"
           },
           "yaxis": {
            "backgroundcolor": "#E5ECF6",
            "gridcolor": "white",
            "gridwidth": 2,
            "linecolor": "white",
            "showbackground": true,
            "ticks": "",
            "zerolinecolor": "white"
           },
           "zaxis": {
            "backgroundcolor": "#E5ECF6",
            "gridcolor": "white",
            "gridwidth": 2,
            "linecolor": "white",
            "showbackground": true,
            "ticks": "",
            "zerolinecolor": "white"
           }
          },
          "shapedefaults": {
           "line": {
            "color": "#2a3f5f"
           }
          },
          "ternary": {
           "aaxis": {
            "gridcolor": "white",
            "linecolor": "white",
            "ticks": ""
           },
           "baxis": {
            "gridcolor": "white",
            "linecolor": "white",
            "ticks": ""
           },
           "bgcolor": "#E5ECF6",
           "caxis": {
            "gridcolor": "white",
            "linecolor": "white",
            "ticks": ""
           }
          },
          "title": {
           "x": 0.05
          },
          "xaxis": {
           "automargin": true,
           "gridcolor": "white",
           "linecolor": "white",
           "ticks": "",
           "title": {
            "standoff": 15
           },
           "zerolinecolor": "white",
           "zerolinewidth": 2
          },
          "yaxis": {
           "automargin": true,
           "gridcolor": "white",
           "linecolor": "white",
           "ticks": "",
           "title": {
            "standoff": 15
           },
           "zerolinecolor": "white",
           "zerolinewidth": 2
          }
         }
        },
        "xaxis": {
         "anchor": "y",
         "domain": [
          0,
          1
         ],
         "title": {
          "text": "Total_Amount_Awarded"
         }
        },
        "yaxis": {
         "anchor": "x",
         "domain": [
          0,
          1
         ],
         "title": {
          "text": "Budget_fund"
         }
        }
       }
      },
      "text/html": [
       "<div>\n",
       "        \n",
       "        \n",
       "            <div id=\"7d6bc2fa-bc22-49ed-b577-364a6bc41cee\" class=\"plotly-graph-div\" style=\"height:525px; width:100%;\"></div>\n",
       "            <script type=\"text/javascript\">\n",
       "                require([\"plotly\"], function(Plotly) {\n",
       "                    window.PLOTLYENV=window.PLOTLYENV || {};\n",
       "                    \n",
       "                if (document.getElementById(\"7d6bc2fa-bc22-49ed-b577-364a6bc41cee\")) {\n",
       "                    Plotly.newPlot(\n",
       "                        '7d6bc2fa-bc22-49ed-b577-364a6bc41cee',\n",
       "                        [{\"alignmentgroup\": \"True\", \"hoverlabel\": {\"namelength\": 0}, \"hovertemplate\": \"Total_Amount_Awarded=%{x}<br>Budget_fund=%{y}\", \"legendgroup\": \"\", \"marker\": {\"color\": \"#636efa\"}, \"name\": \"\", \"offsetgroup\": \"\", \"orientation\": \"h\", \"showlegend\": false, \"textposition\": \"auto\", \"type\": \"bar\", \"x\": [6783800, 17038300, 22870400, 46019300, 71966200, 79804200, 82321500, 83132000, 310810200, 346749480, 399464300, 919912741], \"xaxis\": \"x\", \"y\": [\"Collective Impact\", \"Provincial Impact\", \"Ontario150\", \"Community Building Fund\", \"Seed\", \"Capital\", \"YOF\", \"Resilient Communities Fund\", \"Grow\", \"Capital Only\", \"Project and Capital\", \"Project Only\"], \"yaxis\": \"y\"}],\n",
       "                        {\"barmode\": \"relative\", \"legend\": {\"tracegroupgap\": 0}, \"margin\": {\"t\": 60}, \"template\": {\"data\": {\"bar\": [{\"error_x\": {\"color\": \"#2a3f5f\"}, \"error_y\": {\"color\": \"#2a3f5f\"}, \"marker\": {\"line\": {\"color\": \"#E5ECF6\", \"width\": 0.5}}, \"type\": \"bar\"}], \"barpolar\": [{\"marker\": {\"line\": {\"color\": \"#E5ECF6\", \"width\": 0.5}}, \"type\": \"barpolar\"}], \"carpet\": [{\"aaxis\": {\"endlinecolor\": \"#2a3f5f\", \"gridcolor\": \"white\", \"linecolor\": \"white\", \"minorgridcolor\": \"white\", \"startlinecolor\": \"#2a3f5f\"}, \"baxis\": {\"endlinecolor\": \"#2a3f5f\", \"gridcolor\": \"white\", \"linecolor\": \"white\", \"minorgridcolor\": \"white\", \"startlinecolor\": \"#2a3f5f\"}, \"type\": \"carpet\"}], \"choropleth\": [{\"colorbar\": {\"outlinewidth\": 0, \"ticks\": \"\"}, \"type\": \"choropleth\"}], \"contour\": [{\"colorbar\": {\"outlinewidth\": 0, \"ticks\": \"\"}, \"colorscale\": [[0.0, \"#0d0887\"], [0.1111111111111111, \"#46039f\"], [0.2222222222222222, \"#7201a8\"], [0.3333333333333333, \"#9c179e\"], [0.4444444444444444, \"#bd3786\"], [0.5555555555555556, \"#d8576b\"], [0.6666666666666666, \"#ed7953\"], [0.7777777777777778, \"#fb9f3a\"], [0.8888888888888888, \"#fdca26\"], [1.0, \"#f0f921\"]], \"type\": \"contour\"}], \"contourcarpet\": [{\"colorbar\": {\"outlinewidth\": 0, \"ticks\": \"\"}, \"type\": \"contourcarpet\"}], \"heatmap\": [{\"colorbar\": {\"outlinewidth\": 0, \"ticks\": \"\"}, \"colorscale\": [[0.0, \"#0d0887\"], [0.1111111111111111, \"#46039f\"], [0.2222222222222222, \"#7201a8\"], [0.3333333333333333, \"#9c179e\"], [0.4444444444444444, \"#bd3786\"], [0.5555555555555556, \"#d8576b\"], [0.6666666666666666, \"#ed7953\"], [0.7777777777777778, \"#fb9f3a\"], [0.8888888888888888, \"#fdca26\"], [1.0, \"#f0f921\"]], \"type\": \"heatmap\"}], \"heatmapgl\": [{\"colorbar\": {\"outlinewidth\": 0, \"ticks\": \"\"}, \"colorscale\": [[0.0, \"#0d0887\"], [0.1111111111111111, \"#46039f\"], [0.2222222222222222, \"#7201a8\"], [0.3333333333333333, \"#9c179e\"], [0.4444444444444444, \"#bd3786\"], [0.5555555555555556, \"#d8576b\"], [0.6666666666666666, \"#ed7953\"], [0.7777777777777778, \"#fb9f3a\"], [0.8888888888888888, \"#fdca26\"], [1.0, \"#f0f921\"]], \"type\": \"heatmapgl\"}], \"histogram\": [{\"marker\": {\"colorbar\": {\"outlinewidth\": 0, \"ticks\": \"\"}}, \"type\": \"histogram\"}], \"histogram2d\": [{\"colorbar\": {\"outlinewidth\": 0, \"ticks\": \"\"}, \"colorscale\": [[0.0, \"#0d0887\"], [0.1111111111111111, \"#46039f\"], [0.2222222222222222, \"#7201a8\"], [0.3333333333333333, \"#9c179e\"], [0.4444444444444444, \"#bd3786\"], [0.5555555555555556, \"#d8576b\"], [0.6666666666666666, \"#ed7953\"], [0.7777777777777778, \"#fb9f3a\"], [0.8888888888888888, \"#fdca26\"], [1.0, \"#f0f921\"]], \"type\": \"histogram2d\"}], \"histogram2dcontour\": [{\"colorbar\": {\"outlinewidth\": 0, \"ticks\": \"\"}, \"colorscale\": [[0.0, \"#0d0887\"], [0.1111111111111111, \"#46039f\"], [0.2222222222222222, \"#7201a8\"], [0.3333333333333333, \"#9c179e\"], [0.4444444444444444, \"#bd3786\"], [0.5555555555555556, \"#d8576b\"], [0.6666666666666666, \"#ed7953\"], [0.7777777777777778, \"#fb9f3a\"], [0.8888888888888888, \"#fdca26\"], [1.0, \"#f0f921\"]], \"type\": \"histogram2dcontour\"}], \"mesh3d\": [{\"colorbar\": {\"outlinewidth\": 0, \"ticks\": \"\"}, \"type\": \"mesh3d\"}], \"parcoords\": [{\"line\": {\"colorbar\": {\"outlinewidth\": 0, \"ticks\": \"\"}}, \"type\": \"parcoords\"}], \"pie\": [{\"automargin\": true, \"type\": \"pie\"}], \"scatter\": [{\"marker\": {\"colorbar\": {\"outlinewidth\": 0, \"ticks\": \"\"}}, \"type\": \"scatter\"}], \"scatter3d\": [{\"line\": {\"colorbar\": {\"outlinewidth\": 0, \"ticks\": \"\"}}, \"marker\": {\"colorbar\": {\"outlinewidth\": 0, \"ticks\": \"\"}}, \"type\": \"scatter3d\"}], \"scattercarpet\": [{\"marker\": {\"colorbar\": {\"outlinewidth\": 0, \"ticks\": \"\"}}, \"type\": \"scattercarpet\"}], \"scattergeo\": [{\"marker\": {\"colorbar\": {\"outlinewidth\": 0, \"ticks\": \"\"}}, \"type\": \"scattergeo\"}], \"scattergl\": [{\"marker\": {\"colorbar\": {\"outlinewidth\": 0, \"ticks\": \"\"}}, \"type\": \"scattergl\"}], \"scattermapbox\": [{\"marker\": {\"colorbar\": {\"outlinewidth\": 0, \"ticks\": \"\"}}, \"type\": \"scattermapbox\"}], \"scatterpolar\": [{\"marker\": {\"colorbar\": {\"outlinewidth\": 0, \"ticks\": \"\"}}, \"type\": \"scatterpolar\"}], \"scatterpolargl\": [{\"marker\": {\"colorbar\": {\"outlinewidth\": 0, \"ticks\": \"\"}}, \"type\": \"scatterpolargl\"}], \"scatterternary\": [{\"marker\": {\"colorbar\": {\"outlinewidth\": 0, \"ticks\": \"\"}}, \"type\": \"scatterternary\"}], \"surface\": [{\"colorbar\": {\"outlinewidth\": 0, \"ticks\": \"\"}, \"colorscale\": [[0.0, \"#0d0887\"], [0.1111111111111111, \"#46039f\"], [0.2222222222222222, \"#7201a8\"], [0.3333333333333333, \"#9c179e\"], [0.4444444444444444, \"#bd3786\"], [0.5555555555555556, \"#d8576b\"], [0.6666666666666666, \"#ed7953\"], [0.7777777777777778, \"#fb9f3a\"], [0.8888888888888888, \"#fdca26\"], [1.0, \"#f0f921\"]], \"type\": \"surface\"}], \"table\": [{\"cells\": {\"fill\": {\"color\": \"#EBF0F8\"}, \"line\": {\"color\": \"white\"}}, \"header\": {\"fill\": {\"color\": \"#C8D4E3\"}, \"line\": {\"color\": \"white\"}}, \"type\": \"table\"}]}, \"layout\": {\"annotationdefaults\": {\"arrowcolor\": \"#2a3f5f\", \"arrowhead\": 0, \"arrowwidth\": 1}, \"coloraxis\": {\"colorbar\": {\"outlinewidth\": 0, \"ticks\": \"\"}}, \"colorscale\": {\"diverging\": [[0, \"#8e0152\"], [0.1, \"#c51b7d\"], [0.2, \"#de77ae\"], [0.3, \"#f1b6da\"], [0.4, \"#fde0ef\"], [0.5, \"#f7f7f7\"], [0.6, \"#e6f5d0\"], [0.7, \"#b8e186\"], [0.8, \"#7fbc41\"], [0.9, \"#4d9221\"], [1, \"#276419\"]], \"sequential\": [[0.0, \"#0d0887\"], [0.1111111111111111, \"#46039f\"], [0.2222222222222222, \"#7201a8\"], [0.3333333333333333, \"#9c179e\"], [0.4444444444444444, \"#bd3786\"], [0.5555555555555556, \"#d8576b\"], [0.6666666666666666, \"#ed7953\"], [0.7777777777777778, \"#fb9f3a\"], [0.8888888888888888, \"#fdca26\"], [1.0, \"#f0f921\"]], \"sequentialminus\": [[0.0, \"#0d0887\"], [0.1111111111111111, \"#46039f\"], [0.2222222222222222, \"#7201a8\"], [0.3333333333333333, \"#9c179e\"], [0.4444444444444444, \"#bd3786\"], [0.5555555555555556, \"#d8576b\"], [0.6666666666666666, \"#ed7953\"], [0.7777777777777778, \"#fb9f3a\"], [0.8888888888888888, \"#fdca26\"], [1.0, \"#f0f921\"]]}, \"colorway\": [\"#636efa\", \"#EF553B\", \"#00cc96\", \"#ab63fa\", \"#FFA15A\", \"#19d3f3\", \"#FF6692\", \"#B6E880\", \"#FF97FF\", \"#FECB52\"], \"font\": {\"color\": \"#2a3f5f\"}, \"geo\": {\"bgcolor\": \"white\", \"lakecolor\": \"white\", \"landcolor\": \"#E5ECF6\", \"showlakes\": true, \"showland\": true, \"subunitcolor\": \"white\"}, \"hoverlabel\": {\"align\": \"left\"}, \"hovermode\": \"closest\", \"mapbox\": {\"style\": \"light\"}, \"paper_bgcolor\": \"white\", \"plot_bgcolor\": \"#E5ECF6\", \"polar\": {\"angularaxis\": {\"gridcolor\": \"white\", \"linecolor\": \"white\", \"ticks\": \"\"}, \"bgcolor\": \"#E5ECF6\", \"radialaxis\": {\"gridcolor\": \"white\", \"linecolor\": \"white\", \"ticks\": \"\"}}, \"scene\": {\"xaxis\": {\"backgroundcolor\": \"#E5ECF6\", \"gridcolor\": \"white\", \"gridwidth\": 2, \"linecolor\": \"white\", \"showbackground\": true, \"ticks\": \"\", \"zerolinecolor\": \"white\"}, \"yaxis\": {\"backgroundcolor\": \"#E5ECF6\", \"gridcolor\": \"white\", \"gridwidth\": 2, \"linecolor\": \"white\", \"showbackground\": true, \"ticks\": \"\", \"zerolinecolor\": \"white\"}, \"zaxis\": {\"backgroundcolor\": \"#E5ECF6\", \"gridcolor\": \"white\", \"gridwidth\": 2, \"linecolor\": \"white\", \"showbackground\": true, \"ticks\": \"\", \"zerolinecolor\": \"white\"}}, \"shapedefaults\": {\"line\": {\"color\": \"#2a3f5f\"}}, \"ternary\": {\"aaxis\": {\"gridcolor\": \"white\", \"linecolor\": \"white\", \"ticks\": \"\"}, \"baxis\": {\"gridcolor\": \"white\", \"linecolor\": \"white\", \"ticks\": \"\"}, \"bgcolor\": \"#E5ECF6\", \"caxis\": {\"gridcolor\": \"white\", \"linecolor\": \"white\", \"ticks\": \"\"}}, \"title\": {\"x\": 0.05}, \"xaxis\": {\"automargin\": true, \"gridcolor\": \"white\", \"linecolor\": \"white\", \"ticks\": \"\", \"title\": {\"standoff\": 15}, \"zerolinecolor\": \"white\", \"zerolinewidth\": 2}, \"yaxis\": {\"automargin\": true, \"gridcolor\": \"white\", \"linecolor\": \"white\", \"ticks\": \"\", \"title\": {\"standoff\": 15}, \"zerolinecolor\": \"white\", \"zerolinewidth\": 2}}}, \"xaxis\": {\"anchor\": \"y\", \"domain\": [0.0, 1.0], \"title\": {\"text\": \"Total_Amount_Awarded\"}}, \"yaxis\": {\"anchor\": \"x\", \"domain\": [0.0, 1.0], \"title\": {\"text\": \"Budget_fund\"}}},\n",
       "                        {\"responsive\": true}\n",
       "                    ).then(function(){\n",
       "                            \n",
       "var gd = document.getElementById('7d6bc2fa-bc22-49ed-b577-364a6bc41cee');\n",
       "var x = new MutationObserver(function (mutations, observer) {{\n",
       "        var display = window.getComputedStyle(gd).display;\n",
       "        if (!display || display === 'none') {{\n",
       "            console.log([gd, 'removed!']);\n",
       "            Plotly.purge(gd);\n",
       "            observer.disconnect();\n",
       "        }}\n",
       "}});\n",
       "\n",
       "// Listen for the removal of the full notebook cells\n",
       "var notebookContainer = gd.closest('#notebook-container');\n",
       "if (notebookContainer) {{\n",
       "    x.observe(notebookContainer, {childList: true});\n",
       "}}\n",
       "\n",
       "// Listen for the clearing of the current output cell\n",
       "var outputEl = gd.closest('.output');\n",
       "if (outputEl) {{\n",
       "    x.observe(outputEl, {childList: true});\n",
       "}}\n",
       "\n",
       "                        })\n",
       "                };\n",
       "                });\n",
       "            </script>\n",
       "        </div>"
      ]
     },
     "metadata": {},
     "output_type": "display_data"
    }
   ],
   "source": [
    "## Total grands by budget fund\n",
    "df_total_grants = df[['Amount_awarded','Budget_fund_update']]\n",
    "df_total_grants_agg = df_total_grants.groupby('Budget_fund_update').agg(Total_Amount_Awarded = \n",
    "                                                                      ('Amount_awarded', 'sum')).reset_index()\n",
    "df_total_grants_agg.columns = ['Budget_fund', 'Total_Amount_Awarded']\n",
    "df_total_grants_agg = df_total_grants_agg.sort_values(\"Total_Amount_Awarded\", ascending=True).reset_index()\n",
    "fig = px.bar(df_total_grants_agg, x=\"Total_Amount_Awarded\", y=\"Budget_fund\", orientation='h')\n",
    "fig.show()"
   ]
  },
  {
   "cell_type": "code",
   "execution_count": 73,
   "metadata": {},
   "outputs": [
    {
     "data": {
      "application/vnd.plotly.v1+json": {
       "config": {
        "plotlyServerURL": "https://plot.ly"
       },
       "data": [
        {
         "alignmentgroup": "True",
         "hoverlabel": {
          "namelength": 0
         },
         "hovertemplate": "Total_Amount_Awarded=%{x}<br>Recipient_city=%{y}",
         "legendgroup": "",
         "marker": {
          "color": "#636efa"
         },
         "name": "",
         "offsetgroup": "",
         "orientation": "h",
         "showlegend": false,
         "textposition": "auto",
         "type": "bar",
         "x": [
          618695200,
          178367200,
          94470100,
          72881121,
          70902100,
          48012900,
          46531800,
          41433800,
          38951700,
          32313400
         ],
         "xaxis": "x",
         "y": [
          "TORONTO",
          "OTTAWA",
          "MISSISSAUGA",
          "HAMILTON",
          "LONDON",
          "KITCHENER",
          "WINDSOR",
          "PETERBOROUGH",
          "BRAMPTON",
          "SCARBOROUGH"
         ],
         "yaxis": "y"
        }
       ],
       "layout": {
        "barmode": "relative",
        "legend": {
         "tracegroupgap": 0
        },
        "margin": {
         "t": 60
        },
        "template": {
         "data": {
          "bar": [
           {
            "error_x": {
             "color": "#2a3f5f"
            },
            "error_y": {
             "color": "#2a3f5f"
            },
            "marker": {
             "line": {
              "color": "#E5ECF6",
              "width": 0.5
             }
            },
            "type": "bar"
           }
          ],
          "barpolar": [
           {
            "marker": {
             "line": {
              "color": "#E5ECF6",
              "width": 0.5
             }
            },
            "type": "barpolar"
           }
          ],
          "carpet": [
           {
            "aaxis": {
             "endlinecolor": "#2a3f5f",
             "gridcolor": "white",
             "linecolor": "white",
             "minorgridcolor": "white",
             "startlinecolor": "#2a3f5f"
            },
            "baxis": {
             "endlinecolor": "#2a3f5f",
             "gridcolor": "white",
             "linecolor": "white",
             "minorgridcolor": "white",
             "startlinecolor": "#2a3f5f"
            },
            "type": "carpet"
           }
          ],
          "choropleth": [
           {
            "colorbar": {
             "outlinewidth": 0,
             "ticks": ""
            },
            "type": "choropleth"
           }
          ],
          "contour": [
           {
            "colorbar": {
             "outlinewidth": 0,
             "ticks": ""
            },
            "colorscale": [
             [
              0,
              "#0d0887"
             ],
             [
              0.1111111111111111,
              "#46039f"
             ],
             [
              0.2222222222222222,
              "#7201a8"
             ],
             [
              0.3333333333333333,
              "#9c179e"
             ],
             [
              0.4444444444444444,
              "#bd3786"
             ],
             [
              0.5555555555555556,
              "#d8576b"
             ],
             [
              0.6666666666666666,
              "#ed7953"
             ],
             [
              0.7777777777777778,
              "#fb9f3a"
             ],
             [
              0.8888888888888888,
              "#fdca26"
             ],
             [
              1,
              "#f0f921"
             ]
            ],
            "type": "contour"
           }
          ],
          "contourcarpet": [
           {
            "colorbar": {
             "outlinewidth": 0,
             "ticks": ""
            },
            "type": "contourcarpet"
           }
          ],
          "heatmap": [
           {
            "colorbar": {
             "outlinewidth": 0,
             "ticks": ""
            },
            "colorscale": [
             [
              0,
              "#0d0887"
             ],
             [
              0.1111111111111111,
              "#46039f"
             ],
             [
              0.2222222222222222,
              "#7201a8"
             ],
             [
              0.3333333333333333,
              "#9c179e"
             ],
             [
              0.4444444444444444,
              "#bd3786"
             ],
             [
              0.5555555555555556,
              "#d8576b"
             ],
             [
              0.6666666666666666,
              "#ed7953"
             ],
             [
              0.7777777777777778,
              "#fb9f3a"
             ],
             [
              0.8888888888888888,
              "#fdca26"
             ],
             [
              1,
              "#f0f921"
             ]
            ],
            "type": "heatmap"
           }
          ],
          "heatmapgl": [
           {
            "colorbar": {
             "outlinewidth": 0,
             "ticks": ""
            },
            "colorscale": [
             [
              0,
              "#0d0887"
             ],
             [
              0.1111111111111111,
              "#46039f"
             ],
             [
              0.2222222222222222,
              "#7201a8"
             ],
             [
              0.3333333333333333,
              "#9c179e"
             ],
             [
              0.4444444444444444,
              "#bd3786"
             ],
             [
              0.5555555555555556,
              "#d8576b"
             ],
             [
              0.6666666666666666,
              "#ed7953"
             ],
             [
              0.7777777777777778,
              "#fb9f3a"
             ],
             [
              0.8888888888888888,
              "#fdca26"
             ],
             [
              1,
              "#f0f921"
             ]
            ],
            "type": "heatmapgl"
           }
          ],
          "histogram": [
           {
            "marker": {
             "colorbar": {
              "outlinewidth": 0,
              "ticks": ""
             }
            },
            "type": "histogram"
           }
          ],
          "histogram2d": [
           {
            "colorbar": {
             "outlinewidth": 0,
             "ticks": ""
            },
            "colorscale": [
             [
              0,
              "#0d0887"
             ],
             [
              0.1111111111111111,
              "#46039f"
             ],
             [
              0.2222222222222222,
              "#7201a8"
             ],
             [
              0.3333333333333333,
              "#9c179e"
             ],
             [
              0.4444444444444444,
              "#bd3786"
             ],
             [
              0.5555555555555556,
              "#d8576b"
             ],
             [
              0.6666666666666666,
              "#ed7953"
             ],
             [
              0.7777777777777778,
              "#fb9f3a"
             ],
             [
              0.8888888888888888,
              "#fdca26"
             ],
             [
              1,
              "#f0f921"
             ]
            ],
            "type": "histogram2d"
           }
          ],
          "histogram2dcontour": [
           {
            "colorbar": {
             "outlinewidth": 0,
             "ticks": ""
            },
            "colorscale": [
             [
              0,
              "#0d0887"
             ],
             [
              0.1111111111111111,
              "#46039f"
             ],
             [
              0.2222222222222222,
              "#7201a8"
             ],
             [
              0.3333333333333333,
              "#9c179e"
             ],
             [
              0.4444444444444444,
              "#bd3786"
             ],
             [
              0.5555555555555556,
              "#d8576b"
             ],
             [
              0.6666666666666666,
              "#ed7953"
             ],
             [
              0.7777777777777778,
              "#fb9f3a"
             ],
             [
              0.8888888888888888,
              "#fdca26"
             ],
             [
              1,
              "#f0f921"
             ]
            ],
            "type": "histogram2dcontour"
           }
          ],
          "mesh3d": [
           {
            "colorbar": {
             "outlinewidth": 0,
             "ticks": ""
            },
            "type": "mesh3d"
           }
          ],
          "parcoords": [
           {
            "line": {
             "colorbar": {
              "outlinewidth": 0,
              "ticks": ""
             }
            },
            "type": "parcoords"
           }
          ],
          "pie": [
           {
            "automargin": true,
            "type": "pie"
           }
          ],
          "scatter": [
           {
            "marker": {
             "colorbar": {
              "outlinewidth": 0,
              "ticks": ""
             }
            },
            "type": "scatter"
           }
          ],
          "scatter3d": [
           {
            "line": {
             "colorbar": {
              "outlinewidth": 0,
              "ticks": ""
             }
            },
            "marker": {
             "colorbar": {
              "outlinewidth": 0,
              "ticks": ""
             }
            },
            "type": "scatter3d"
           }
          ],
          "scattercarpet": [
           {
            "marker": {
             "colorbar": {
              "outlinewidth": 0,
              "ticks": ""
             }
            },
            "type": "scattercarpet"
           }
          ],
          "scattergeo": [
           {
            "marker": {
             "colorbar": {
              "outlinewidth": 0,
              "ticks": ""
             }
            },
            "type": "scattergeo"
           }
          ],
          "scattergl": [
           {
            "marker": {
             "colorbar": {
              "outlinewidth": 0,
              "ticks": ""
             }
            },
            "type": "scattergl"
           }
          ],
          "scattermapbox": [
           {
            "marker": {
             "colorbar": {
              "outlinewidth": 0,
              "ticks": ""
             }
            },
            "type": "scattermapbox"
           }
          ],
          "scatterpolar": [
           {
            "marker": {
             "colorbar": {
              "outlinewidth": 0,
              "ticks": ""
             }
            },
            "type": "scatterpolar"
           }
          ],
          "scatterpolargl": [
           {
            "marker": {
             "colorbar": {
              "outlinewidth": 0,
              "ticks": ""
             }
            },
            "type": "scatterpolargl"
           }
          ],
          "scatterternary": [
           {
            "marker": {
             "colorbar": {
              "outlinewidth": 0,
              "ticks": ""
             }
            },
            "type": "scatterternary"
           }
          ],
          "surface": [
           {
            "colorbar": {
             "outlinewidth": 0,
             "ticks": ""
            },
            "colorscale": [
             [
              0,
              "#0d0887"
             ],
             [
              0.1111111111111111,
              "#46039f"
             ],
             [
              0.2222222222222222,
              "#7201a8"
             ],
             [
              0.3333333333333333,
              "#9c179e"
             ],
             [
              0.4444444444444444,
              "#bd3786"
             ],
             [
              0.5555555555555556,
              "#d8576b"
             ],
             [
              0.6666666666666666,
              "#ed7953"
             ],
             [
              0.7777777777777778,
              "#fb9f3a"
             ],
             [
              0.8888888888888888,
              "#fdca26"
             ],
             [
              1,
              "#f0f921"
             ]
            ],
            "type": "surface"
           }
          ],
          "table": [
           {
            "cells": {
             "fill": {
              "color": "#EBF0F8"
             },
             "line": {
              "color": "white"
             }
            },
            "header": {
             "fill": {
              "color": "#C8D4E3"
             },
             "line": {
              "color": "white"
             }
            },
            "type": "table"
           }
          ]
         },
         "layout": {
          "annotationdefaults": {
           "arrowcolor": "#2a3f5f",
           "arrowhead": 0,
           "arrowwidth": 1
          },
          "coloraxis": {
           "colorbar": {
            "outlinewidth": 0,
            "ticks": ""
           }
          },
          "colorscale": {
           "diverging": [
            [
             0,
             "#8e0152"
            ],
            [
             0.1,
             "#c51b7d"
            ],
            [
             0.2,
             "#de77ae"
            ],
            [
             0.3,
             "#f1b6da"
            ],
            [
             0.4,
             "#fde0ef"
            ],
            [
             0.5,
             "#f7f7f7"
            ],
            [
             0.6,
             "#e6f5d0"
            ],
            [
             0.7,
             "#b8e186"
            ],
            [
             0.8,
             "#7fbc41"
            ],
            [
             0.9,
             "#4d9221"
            ],
            [
             1,
             "#276419"
            ]
           ],
           "sequential": [
            [
             0,
             "#0d0887"
            ],
            [
             0.1111111111111111,
             "#46039f"
            ],
            [
             0.2222222222222222,
             "#7201a8"
            ],
            [
             0.3333333333333333,
             "#9c179e"
            ],
            [
             0.4444444444444444,
             "#bd3786"
            ],
            [
             0.5555555555555556,
             "#d8576b"
            ],
            [
             0.6666666666666666,
             "#ed7953"
            ],
            [
             0.7777777777777778,
             "#fb9f3a"
            ],
            [
             0.8888888888888888,
             "#fdca26"
            ],
            [
             1,
             "#f0f921"
            ]
           ],
           "sequentialminus": [
            [
             0,
             "#0d0887"
            ],
            [
             0.1111111111111111,
             "#46039f"
            ],
            [
             0.2222222222222222,
             "#7201a8"
            ],
            [
             0.3333333333333333,
             "#9c179e"
            ],
            [
             0.4444444444444444,
             "#bd3786"
            ],
            [
             0.5555555555555556,
             "#d8576b"
            ],
            [
             0.6666666666666666,
             "#ed7953"
            ],
            [
             0.7777777777777778,
             "#fb9f3a"
            ],
            [
             0.8888888888888888,
             "#fdca26"
            ],
            [
             1,
             "#f0f921"
            ]
           ]
          },
          "colorway": [
           "#636efa",
           "#EF553B",
           "#00cc96",
           "#ab63fa",
           "#FFA15A",
           "#19d3f3",
           "#FF6692",
           "#B6E880",
           "#FF97FF",
           "#FECB52"
          ],
          "font": {
           "color": "#2a3f5f"
          },
          "geo": {
           "bgcolor": "white",
           "lakecolor": "white",
           "landcolor": "#E5ECF6",
           "showlakes": true,
           "showland": true,
           "subunitcolor": "white"
          },
          "hoverlabel": {
           "align": "left"
          },
          "hovermode": "closest",
          "mapbox": {
           "style": "light"
          },
          "paper_bgcolor": "white",
          "plot_bgcolor": "#E5ECF6",
          "polar": {
           "angularaxis": {
            "gridcolor": "white",
            "linecolor": "white",
            "ticks": ""
           },
           "bgcolor": "#E5ECF6",
           "radialaxis": {
            "gridcolor": "white",
            "linecolor": "white",
            "ticks": ""
           }
          },
          "scene": {
           "xaxis": {
            "backgroundcolor": "#E5ECF6",
            "gridcolor": "white",
            "gridwidth": 2,
            "linecolor": "white",
            "showbackground": true,
            "ticks": "",
            "zerolinecolor": "white"
           },
           "yaxis": {
            "backgroundcolor": "#E5ECF6",
            "gridcolor": "white",
            "gridwidth": 2,
            "linecolor": "white",
            "showbackground": true,
            "ticks": "",
            "zerolinecolor": "white"
           },
           "zaxis": {
            "backgroundcolor": "#E5ECF6",
            "gridcolor": "white",
            "gridwidth": 2,
            "linecolor": "white",
            "showbackground": true,
            "ticks": "",
            "zerolinecolor": "white"
           }
          },
          "shapedefaults": {
           "line": {
            "color": "#2a3f5f"
           }
          },
          "ternary": {
           "aaxis": {
            "gridcolor": "white",
            "linecolor": "white",
            "ticks": ""
           },
           "baxis": {
            "gridcolor": "white",
            "linecolor": "white",
            "ticks": ""
           },
           "bgcolor": "#E5ECF6",
           "caxis": {
            "gridcolor": "white",
            "linecolor": "white",
            "ticks": ""
           }
          },
          "title": {
           "x": 0.05
          },
          "xaxis": {
           "automargin": true,
           "gridcolor": "white",
           "linecolor": "white",
           "ticks": "",
           "title": {
            "standoff": 15
           },
           "zerolinecolor": "white",
           "zerolinewidth": 2
          },
          "yaxis": {
           "automargin": true,
           "gridcolor": "white",
           "linecolor": "white",
           "ticks": "",
           "title": {
            "standoff": 15
           },
           "zerolinecolor": "white",
           "zerolinewidth": 2
          }
         }
        },
        "xaxis": {
         "anchor": "y",
         "domain": [
          0,
          1
         ],
         "title": {
          "text": "Total_Amount_Awarded"
         }
        },
        "yaxis": {
         "anchor": "x",
         "domain": [
          0,
          1
         ],
         "title": {
          "text": "Recipient_city"
         }
        }
       }
      },
      "text/html": [
       "<div>\n",
       "        \n",
       "        \n",
       "            <div id=\"bc21d75d-a1d8-401a-9307-47fbe9b6dca3\" class=\"plotly-graph-div\" style=\"height:525px; width:100%;\"></div>\n",
       "            <script type=\"text/javascript\">\n",
       "                require([\"plotly\"], function(Plotly) {\n",
       "                    window.PLOTLYENV=window.PLOTLYENV || {};\n",
       "                    \n",
       "                if (document.getElementById(\"bc21d75d-a1d8-401a-9307-47fbe9b6dca3\")) {\n",
       "                    Plotly.newPlot(\n",
       "                        'bc21d75d-a1d8-401a-9307-47fbe9b6dca3',\n",
       "                        [{\"alignmentgroup\": \"True\", \"hoverlabel\": {\"namelength\": 0}, \"hovertemplate\": \"Total_Amount_Awarded=%{x}<br>Recipient_city=%{y}\", \"legendgroup\": \"\", \"marker\": {\"color\": \"#636efa\"}, \"name\": \"\", \"offsetgroup\": \"\", \"orientation\": \"h\", \"showlegend\": false, \"textposition\": \"auto\", \"type\": \"bar\", \"x\": [618695200, 178367200, 94470100, 72881121, 70902100, 48012900, 46531800, 41433800, 38951700, 32313400], \"xaxis\": \"x\", \"y\": [\"TORONTO\", \"OTTAWA\", \"MISSISSAUGA\", \"HAMILTON\", \"LONDON\", \"KITCHENER\", \"WINDSOR\", \"PETERBOROUGH\", \"BRAMPTON\", \"SCARBOROUGH\"], \"yaxis\": \"y\"}],\n",
       "                        {\"barmode\": \"relative\", \"legend\": {\"tracegroupgap\": 0}, \"margin\": {\"t\": 60}, \"template\": {\"data\": {\"bar\": [{\"error_x\": {\"color\": \"#2a3f5f\"}, \"error_y\": {\"color\": \"#2a3f5f\"}, \"marker\": {\"line\": {\"color\": \"#E5ECF6\", \"width\": 0.5}}, \"type\": \"bar\"}], \"barpolar\": [{\"marker\": {\"line\": {\"color\": \"#E5ECF6\", \"width\": 0.5}}, \"type\": \"barpolar\"}], \"carpet\": [{\"aaxis\": {\"endlinecolor\": \"#2a3f5f\", \"gridcolor\": \"white\", \"linecolor\": \"white\", \"minorgridcolor\": \"white\", \"startlinecolor\": \"#2a3f5f\"}, \"baxis\": {\"endlinecolor\": \"#2a3f5f\", \"gridcolor\": \"white\", \"linecolor\": \"white\", \"minorgridcolor\": \"white\", \"startlinecolor\": \"#2a3f5f\"}, \"type\": \"carpet\"}], \"choropleth\": [{\"colorbar\": {\"outlinewidth\": 0, \"ticks\": \"\"}, \"type\": \"choropleth\"}], \"contour\": [{\"colorbar\": {\"outlinewidth\": 0, \"ticks\": \"\"}, \"colorscale\": [[0.0, \"#0d0887\"], [0.1111111111111111, \"#46039f\"], [0.2222222222222222, \"#7201a8\"], [0.3333333333333333, \"#9c179e\"], [0.4444444444444444, \"#bd3786\"], [0.5555555555555556, \"#d8576b\"], [0.6666666666666666, \"#ed7953\"], [0.7777777777777778, \"#fb9f3a\"], [0.8888888888888888, \"#fdca26\"], [1.0, \"#f0f921\"]], \"type\": \"contour\"}], \"contourcarpet\": [{\"colorbar\": {\"outlinewidth\": 0, \"ticks\": \"\"}, \"type\": \"contourcarpet\"}], \"heatmap\": [{\"colorbar\": {\"outlinewidth\": 0, \"ticks\": \"\"}, \"colorscale\": [[0.0, \"#0d0887\"], [0.1111111111111111, \"#46039f\"], [0.2222222222222222, \"#7201a8\"], [0.3333333333333333, \"#9c179e\"], [0.4444444444444444, \"#bd3786\"], [0.5555555555555556, \"#d8576b\"], [0.6666666666666666, \"#ed7953\"], [0.7777777777777778, \"#fb9f3a\"], [0.8888888888888888, \"#fdca26\"], [1.0, \"#f0f921\"]], \"type\": \"heatmap\"}], \"heatmapgl\": [{\"colorbar\": {\"outlinewidth\": 0, \"ticks\": \"\"}, \"colorscale\": [[0.0, \"#0d0887\"], [0.1111111111111111, \"#46039f\"], [0.2222222222222222, \"#7201a8\"], [0.3333333333333333, \"#9c179e\"], [0.4444444444444444, \"#bd3786\"], [0.5555555555555556, \"#d8576b\"], [0.6666666666666666, \"#ed7953\"], [0.7777777777777778, \"#fb9f3a\"], [0.8888888888888888, \"#fdca26\"], [1.0, \"#f0f921\"]], \"type\": \"heatmapgl\"}], \"histogram\": [{\"marker\": {\"colorbar\": {\"outlinewidth\": 0, \"ticks\": \"\"}}, \"type\": \"histogram\"}], \"histogram2d\": [{\"colorbar\": {\"outlinewidth\": 0, \"ticks\": \"\"}, \"colorscale\": [[0.0, \"#0d0887\"], [0.1111111111111111, \"#46039f\"], [0.2222222222222222, \"#7201a8\"], [0.3333333333333333, \"#9c179e\"], [0.4444444444444444, \"#bd3786\"], [0.5555555555555556, \"#d8576b\"], [0.6666666666666666, \"#ed7953\"], [0.7777777777777778, \"#fb9f3a\"], [0.8888888888888888, \"#fdca26\"], [1.0, \"#f0f921\"]], \"type\": \"histogram2d\"}], \"histogram2dcontour\": [{\"colorbar\": {\"outlinewidth\": 0, \"ticks\": \"\"}, \"colorscale\": [[0.0, \"#0d0887\"], [0.1111111111111111, \"#46039f\"], [0.2222222222222222, \"#7201a8\"], [0.3333333333333333, \"#9c179e\"], [0.4444444444444444, \"#bd3786\"], [0.5555555555555556, \"#d8576b\"], [0.6666666666666666, \"#ed7953\"], [0.7777777777777778, \"#fb9f3a\"], [0.8888888888888888, \"#fdca26\"], [1.0, \"#f0f921\"]], \"type\": \"histogram2dcontour\"}], \"mesh3d\": [{\"colorbar\": {\"outlinewidth\": 0, \"ticks\": \"\"}, \"type\": \"mesh3d\"}], \"parcoords\": [{\"line\": {\"colorbar\": {\"outlinewidth\": 0, \"ticks\": \"\"}}, \"type\": \"parcoords\"}], \"pie\": [{\"automargin\": true, \"type\": \"pie\"}], \"scatter\": [{\"marker\": {\"colorbar\": {\"outlinewidth\": 0, \"ticks\": \"\"}}, \"type\": \"scatter\"}], \"scatter3d\": [{\"line\": {\"colorbar\": {\"outlinewidth\": 0, \"ticks\": \"\"}}, \"marker\": {\"colorbar\": {\"outlinewidth\": 0, \"ticks\": \"\"}}, \"type\": \"scatter3d\"}], \"scattercarpet\": [{\"marker\": {\"colorbar\": {\"outlinewidth\": 0, \"ticks\": \"\"}}, \"type\": \"scattercarpet\"}], \"scattergeo\": [{\"marker\": {\"colorbar\": {\"outlinewidth\": 0, \"ticks\": \"\"}}, \"type\": \"scattergeo\"}], \"scattergl\": [{\"marker\": {\"colorbar\": {\"outlinewidth\": 0, \"ticks\": \"\"}}, \"type\": \"scattergl\"}], \"scattermapbox\": [{\"marker\": {\"colorbar\": {\"outlinewidth\": 0, \"ticks\": \"\"}}, \"type\": \"scattermapbox\"}], \"scatterpolar\": [{\"marker\": {\"colorbar\": {\"outlinewidth\": 0, \"ticks\": \"\"}}, \"type\": \"scatterpolar\"}], \"scatterpolargl\": [{\"marker\": {\"colorbar\": {\"outlinewidth\": 0, \"ticks\": \"\"}}, \"type\": \"scatterpolargl\"}], \"scatterternary\": [{\"marker\": {\"colorbar\": {\"outlinewidth\": 0, \"ticks\": \"\"}}, \"type\": \"scatterternary\"}], \"surface\": [{\"colorbar\": {\"outlinewidth\": 0, \"ticks\": \"\"}, \"colorscale\": [[0.0, \"#0d0887\"], [0.1111111111111111, \"#46039f\"], [0.2222222222222222, \"#7201a8\"], [0.3333333333333333, \"#9c179e\"], [0.4444444444444444, \"#bd3786\"], [0.5555555555555556, \"#d8576b\"], [0.6666666666666666, \"#ed7953\"], [0.7777777777777778, \"#fb9f3a\"], [0.8888888888888888, \"#fdca26\"], [1.0, \"#f0f921\"]], \"type\": \"surface\"}], \"table\": [{\"cells\": {\"fill\": {\"color\": \"#EBF0F8\"}, \"line\": {\"color\": \"white\"}}, \"header\": {\"fill\": {\"color\": \"#C8D4E3\"}, \"line\": {\"color\": \"white\"}}, \"type\": \"table\"}]}, \"layout\": {\"annotationdefaults\": {\"arrowcolor\": \"#2a3f5f\", \"arrowhead\": 0, \"arrowwidth\": 1}, \"coloraxis\": {\"colorbar\": {\"outlinewidth\": 0, \"ticks\": \"\"}}, \"colorscale\": {\"diverging\": [[0, \"#8e0152\"], [0.1, \"#c51b7d\"], [0.2, \"#de77ae\"], [0.3, \"#f1b6da\"], [0.4, \"#fde0ef\"], [0.5, \"#f7f7f7\"], [0.6, \"#e6f5d0\"], [0.7, \"#b8e186\"], [0.8, \"#7fbc41\"], [0.9, \"#4d9221\"], [1, \"#276419\"]], \"sequential\": [[0.0, \"#0d0887\"], [0.1111111111111111, \"#46039f\"], [0.2222222222222222, \"#7201a8\"], [0.3333333333333333, \"#9c179e\"], [0.4444444444444444, \"#bd3786\"], [0.5555555555555556, \"#d8576b\"], [0.6666666666666666, \"#ed7953\"], [0.7777777777777778, \"#fb9f3a\"], [0.8888888888888888, \"#fdca26\"], [1.0, \"#f0f921\"]], \"sequentialminus\": [[0.0, \"#0d0887\"], [0.1111111111111111, \"#46039f\"], [0.2222222222222222, \"#7201a8\"], [0.3333333333333333, \"#9c179e\"], [0.4444444444444444, \"#bd3786\"], [0.5555555555555556, \"#d8576b\"], [0.6666666666666666, \"#ed7953\"], [0.7777777777777778, \"#fb9f3a\"], [0.8888888888888888, \"#fdca26\"], [1.0, \"#f0f921\"]]}, \"colorway\": [\"#636efa\", \"#EF553B\", \"#00cc96\", \"#ab63fa\", \"#FFA15A\", \"#19d3f3\", \"#FF6692\", \"#B6E880\", \"#FF97FF\", \"#FECB52\"], \"font\": {\"color\": \"#2a3f5f\"}, \"geo\": {\"bgcolor\": \"white\", \"lakecolor\": \"white\", \"landcolor\": \"#E5ECF6\", \"showlakes\": true, \"showland\": true, \"subunitcolor\": \"white\"}, \"hoverlabel\": {\"align\": \"left\"}, \"hovermode\": \"closest\", \"mapbox\": {\"style\": \"light\"}, \"paper_bgcolor\": \"white\", \"plot_bgcolor\": \"#E5ECF6\", \"polar\": {\"angularaxis\": {\"gridcolor\": \"white\", \"linecolor\": \"white\", \"ticks\": \"\"}, \"bgcolor\": \"#E5ECF6\", \"radialaxis\": {\"gridcolor\": \"white\", \"linecolor\": \"white\", \"ticks\": \"\"}}, \"scene\": {\"xaxis\": {\"backgroundcolor\": \"#E5ECF6\", \"gridcolor\": \"white\", \"gridwidth\": 2, \"linecolor\": \"white\", \"showbackground\": true, \"ticks\": \"\", \"zerolinecolor\": \"white\"}, \"yaxis\": {\"backgroundcolor\": \"#E5ECF6\", \"gridcolor\": \"white\", \"gridwidth\": 2, \"linecolor\": \"white\", \"showbackground\": true, \"ticks\": \"\", \"zerolinecolor\": \"white\"}, \"zaxis\": {\"backgroundcolor\": \"#E5ECF6\", \"gridcolor\": \"white\", \"gridwidth\": 2, \"linecolor\": \"white\", \"showbackground\": true, \"ticks\": \"\", \"zerolinecolor\": \"white\"}}, \"shapedefaults\": {\"line\": {\"color\": \"#2a3f5f\"}}, \"ternary\": {\"aaxis\": {\"gridcolor\": \"white\", \"linecolor\": \"white\", \"ticks\": \"\"}, \"baxis\": {\"gridcolor\": \"white\", \"linecolor\": \"white\", \"ticks\": \"\"}, \"bgcolor\": \"#E5ECF6\", \"caxis\": {\"gridcolor\": \"white\", \"linecolor\": \"white\", \"ticks\": \"\"}}, \"title\": {\"x\": 0.05}, \"xaxis\": {\"automargin\": true, \"gridcolor\": \"white\", \"linecolor\": \"white\", \"ticks\": \"\", \"title\": {\"standoff\": 15}, \"zerolinecolor\": \"white\", \"zerolinewidth\": 2}, \"yaxis\": {\"automargin\": true, \"gridcolor\": \"white\", \"linecolor\": \"white\", \"ticks\": \"\", \"title\": {\"standoff\": 15}, \"zerolinecolor\": \"white\", \"zerolinewidth\": 2}}}, \"xaxis\": {\"anchor\": \"y\", \"domain\": [0.0, 1.0], \"title\": {\"text\": \"Total_Amount_Awarded\"}}, \"yaxis\": {\"anchor\": \"x\", \"domain\": [0.0, 1.0], \"title\": {\"text\": \"Recipient_city\"}}},\n",
       "                        {\"responsive\": true}\n",
       "                    ).then(function(){\n",
       "                            \n",
       "var gd = document.getElementById('bc21d75d-a1d8-401a-9307-47fbe9b6dca3');\n",
       "var x = new MutationObserver(function (mutations, observer) {{\n",
       "        var display = window.getComputedStyle(gd).display;\n",
       "        if (!display || display === 'none') {{\n",
       "            console.log([gd, 'removed!']);\n",
       "            Plotly.purge(gd);\n",
       "            observer.disconnect();\n",
       "        }}\n",
       "}});\n",
       "\n",
       "// Listen for the removal of the full notebook cells\n",
       "var notebookContainer = gd.closest('#notebook-container');\n",
       "if (notebookContainer) {{\n",
       "    x.observe(notebookContainer, {childList: true});\n",
       "}}\n",
       "\n",
       "// Listen for the clearing of the current output cell\n",
       "var outputEl = gd.closest('.output');\n",
       "if (outputEl) {{\n",
       "    x.observe(outputEl, {childList: true});\n",
       "}}\n",
       "\n",
       "                        })\n",
       "                };\n",
       "                });\n",
       "            </script>\n",
       "        </div>"
      ]
     },
     "metadata": {},
     "output_type": "display_data"
    }
   ],
   "source": [
    "## Total grants by recipient city top 15\n",
    "df_total_grants = df[['Amount_awarded','Recipient_org_city_update']]\n",
    "df_total_grants_agg = df_total_grants.groupby('Recipient_org_city_update').agg(Total_Amount_Awarded = \n",
    "                                                                      ('Amount_awarded', 'sum')).reset_index()\n",
    "df_total_grants_agg.columns = ['Recipient_city', 'Total_Amount_Awarded']\n",
    "df_total_grants_agg = df_total_grants_agg.sort_values(\"Total_Amount_Awarded\", ascending=False).reset_index()\n",
    "df_total_grants_agg = df_total_grants_agg.head(10)\n",
    "fig = px.bar(df_total_grants_agg, x=\"Total_Amount_Awarded\", y=\"Recipient_city\", orientation='h')\n",
    "fig.show()"
   ]
  },
  {
   "cell_type": "code",
   "execution_count": 83,
   "metadata": {},
   "outputs": [
    {
     "data": {
      "application/vnd.plotly.v1+json": {
       "config": {
        "plotlyServerURL": "https://plot.ly"
       },
       "data": [
        {
         "alignmentgroup": "True",
         "hoverlabel": {
          "namelength": 0
         },
         "hovertemplate": "Program_area=Active People<br>Fiscal_year=%{x}<br>Total_Amount_Awarded=%{y}",
         "legendgroup": "Active People",
         "marker": {
          "color": "#636efa"
         },
         "name": "Active People",
         "offsetgroup": "Active People",
         "orientation": "v",
         "showlegend": true,
         "textposition": "auto",
         "type": "bar",
         "x": [
          2015,
          2016,
          2017,
          2018,
          2019,
          2020
         ],
         "xaxis": "x",
         "y": [
          16102600,
          19315100,
          16702200,
          15919700,
          17887300,
          9901500
         ],
         "yaxis": "y"
        },
        {
         "alignmentgroup": "True",
         "hoverlabel": {
          "namelength": 0
         },
         "hovertemplate": "Program_area=Arts and Culture<br>Fiscal_year=%{x}<br>Total_Amount_Awarded=%{y}",
         "legendgroup": "Arts and Culture",
         "marker": {
          "color": "#EF553B"
         },
         "name": "Arts and Culture",
         "offsetgroup": "Arts and Culture",
         "orientation": "v",
         "showlegend": true,
         "textposition": "auto",
         "type": "bar",
         "x": [
          1999,
          2000,
          2001,
          2002,
          2003,
          2004,
          2005,
          2006,
          2007,
          2008,
          2009,
          2010,
          2011,
          2012,
          2013,
          2014
         ],
         "xaxis": "x",
         "y": [
          13884700,
          20942130,
          23756400,
          24346800,
          24444000,
          22067000,
          23758800,
          22578300,
          22223600,
          24499200,
          22470300,
          24782400,
          35300300,
          26911000,
          21509000,
          20067200
         ],
         "yaxis": "y"
        },
        {
         "alignmentgroup": "True",
         "hoverlabel": {
          "namelength": 0
         },
         "hovertemplate": "Program_area=Arts_update<br>Fiscal_year=%{x}<br>Total_Amount_Awarded=%{y}",
         "legendgroup": "Arts_update",
         "marker": {
          "color": "#00cc96"
         },
         "name": "Arts_update",
         "offsetgroup": "Arts_update",
         "orientation": "v",
         "showlegend": true,
         "textposition": "auto",
         "type": "bar",
         "x": [
          2021
         ],
         "xaxis": "x",
         "y": [
          17634700
         ],
         "yaxis": "y"
        },
        {
         "alignmentgroup": "True",
         "hoverlabel": {
          "namelength": 0
         },
         "hovertemplate": "Program_area=Connected People<br>Fiscal_year=%{x}<br>Total_Amount_Awarded=%{y}",
         "legendgroup": "Connected People",
         "marker": {
          "color": "#ab63fa"
         },
         "name": "Connected People",
         "offsetgroup": "Connected People",
         "orientation": "v",
         "showlegend": true,
         "textposition": "auto",
         "type": "bar",
         "x": [
          2015,
          2016,
          2017,
          2018,
          2019,
          2020
         ],
         "xaxis": "x",
         "y": [
          18365800,
          23512300,
          21141000,
          18598200,
          14866600,
          36171700
         ],
         "yaxis": "y"
        },
        {
         "alignmentgroup": "True",
         "hoverlabel": {
          "namelength": 0
         },
         "hovertemplate": "Program_area=Culture<br>Fiscal_year=%{x}<br>Total_Amount_Awarded=%{y}",
         "legendgroup": "Culture",
         "marker": {
          "color": "#FFA15A"
         },
         "name": "Culture",
         "offsetgroup": "Culture",
         "orientation": "v",
         "showlegend": true,
         "textposition": "auto",
         "type": "bar",
         "x": [
          2021
         ],
         "xaxis": "x",
         "y": [
          5537600
         ],
         "yaxis": "y"
        },
        {
         "alignmentgroup": "True",
         "hoverlabel": {
          "namelength": 0
         },
         "hovertemplate": "Program_area=Environment<br>Fiscal_year=%{x}<br>Total_Amount_Awarded=%{y}",
         "legendgroup": "Environment",
         "marker": {
          "color": "#19d3f3"
         },
         "name": "Environment",
         "offsetgroup": "Environment",
         "orientation": "v",
         "showlegend": true,
         "textposition": "auto",
         "type": "bar",
         "x": [
          1999,
          2000,
          2001,
          2002,
          2003,
          2004,
          2005,
          2006,
          2007,
          2008,
          2009,
          2010,
          2011,
          2012,
          2013,
          2014
         ],
         "xaxis": "x",
         "y": [
          6732400,
          9822600,
          9874500,
          8634200,
          7816100,
          9031600,
          7608900,
          7973000,
          12272600,
          12732700,
          13946100,
          13101800,
          12908200,
          13228600,
          12636500,
          13018100
         ],
         "yaxis": "y"
        },
        {
         "alignmentgroup": "True",
         "hoverlabel": {
          "namelength": 0
         },
         "hovertemplate": "Program_area=Green People<br>Fiscal_year=%{x}<br>Total_Amount_Awarded=%{y}",
         "legendgroup": "Green People",
         "marker": {
          "color": "#FF6692"
         },
         "name": "Green People",
         "offsetgroup": "Green People",
         "orientation": "v",
         "showlegend": true,
         "textposition": "auto",
         "type": "bar",
         "x": [
          2015,
          2016,
          2017,
          2018,
          2019,
          2020
         ],
         "xaxis": "x",
         "y": [
          11172200,
          11135900,
          9894200,
          10689000,
          10735300,
          4298300
         ],
         "yaxis": "y"
        },
        {
         "alignmentgroup": "True",
         "hoverlabel": {
          "namelength": 0
         },
         "hovertemplate": "Program_area=Heritage<br>Fiscal_year=%{x}<br>Total_Amount_Awarded=%{y}",
         "legendgroup": "Heritage",
         "marker": {
          "color": "#B6E880"
         },
         "name": "Heritage",
         "offsetgroup": "Heritage",
         "orientation": "v",
         "showlegend": true,
         "textposition": "auto",
         "type": "bar",
         "x": [
          2021
         ],
         "xaxis": "x",
         "y": [
          3225300
         ],
         "yaxis": "y"
        },
        {
         "alignmentgroup": "True",
         "hoverlabel": {
          "namelength": 0
         },
         "hovertemplate": "Program_area=Human and Social Services<br>Fiscal_year=%{x}<br>Total_Amount_Awarded=%{y}",
         "legendgroup": "Human and Social Services",
         "marker": {
          "color": "#FF97FF"
         },
         "name": "Human and Social Services",
         "offsetgroup": "Human and Social Services",
         "orientation": "v",
         "showlegend": true,
         "textposition": "auto",
         "type": "bar",
         "x": [
          1999,
          2000,
          2001,
          2002,
          2003,
          2004,
          2005,
          2006,
          2007,
          2008,
          2009,
          2010,
          2011,
          2012,
          2013,
          2014
         ],
         "xaxis": "x",
         "y": [
          47132200,
          52636021,
          53900300,
          40839700,
          40546400,
          41407200,
          42849400,
          42840300,
          43941800,
          44065900,
          48420200,
          49226500,
          74487800,
          52712600,
          51582100,
          48816200
         ],
         "yaxis": "y"
        },
        {
         "alignmentgroup": "True",
         "hoverlabel": {
          "namelength": 0
         },
         "hovertemplate": "Program_area=Inspired People<br>Fiscal_year=%{x}<br>Total_Amount_Awarded=%{y}",
         "legendgroup": "Inspired People",
         "marker": {
          "color": "#FECB52"
         },
         "name": "Inspired People",
         "offsetgroup": "Inspired People",
         "orientation": "v",
         "showlegend": true,
         "textposition": "auto",
         "type": "bar",
         "x": [
          2015,
          2016,
          2017,
          2018,
          2019,
          2020
         ],
         "xaxis": "x",
         "y": [
          15928400,
          11699000,
          15810900,
          16492300,
          15609400,
          17698600
         ],
         "yaxis": "y"
        },
        {
         "alignmentgroup": "True",
         "hoverlabel": {
          "namelength": 0
         },
         "hovertemplate": "Program_area=Other<br>Fiscal_year=%{x}<br>Total_Amount_Awarded=%{y}",
         "legendgroup": "Other",
         "marker": {
          "color": "#636efa"
         },
         "name": "Other",
         "offsetgroup": "Other",
         "orientation": "v",
         "showlegend": true,
         "textposition": "auto",
         "type": "bar",
         "x": [
          2020
         ],
         "xaxis": "x",
         "y": [
          13644400
         ],
         "yaxis": "y"
        },
        {
         "alignmentgroup": "True",
         "hoverlabel": {
          "namelength": 0
         },
         "hovertemplate": "Program_area=Promising Young People<br>Fiscal_year=%{x}<br>Total_Amount_Awarded=%{y}",
         "legendgroup": "Promising Young People",
         "marker": {
          "color": "#EF553B"
         },
         "name": "Promising Young People",
         "offsetgroup": "Promising Young People",
         "orientation": "v",
         "showlegend": true,
         "textposition": "auto",
         "type": "bar",
         "x": [
          2015,
          2016,
          2017,
          2018,
          2019,
          2020
         ],
         "xaxis": "x",
         "y": [
          22497800,
          17442100,
          18723600,
          15581200,
          24504400,
          14802300
         ],
         "yaxis": "y"
        },
        {
         "alignmentgroup": "True",
         "hoverlabel": {
          "namelength": 0
         },
         "hovertemplate": "Program_area=Prosperous People<br>Fiscal_year=%{x}<br>Total_Amount_Awarded=%{y}",
         "legendgroup": "Prosperous People",
         "marker": {
          "color": "#00cc96"
         },
         "name": "Prosperous People",
         "offsetgroup": "Prosperous People",
         "orientation": "v",
         "showlegend": true,
         "textposition": "auto",
         "type": "bar",
         "x": [
          2015,
          2016,
          2017,
          2018,
          2019,
          2020
         ],
         "xaxis": "x",
         "y": [
          17750700,
          17378700,
          17319300,
          16780200,
          18198800,
          11482600
         ],
         "yaxis": "y"
        },
        {
         "alignmentgroup": "True",
         "hoverlabel": {
          "namelength": 0
         },
         "hovertemplate": "Program_area=Recreation<br>Fiscal_year=%{x}<br>Total_Amount_Awarded=%{y}",
         "legendgroup": "Recreation",
         "marker": {
          "color": "#ab63fa"
         },
         "name": "Recreation",
         "offsetgroup": "Recreation",
         "orientation": "v",
         "showlegend": true,
         "textposition": "auto",
         "type": "bar",
         "x": [
          2021
         ],
         "xaxis": "x",
         "y": [
          8149000
         ],
         "yaxis": "y"
        },
        {
         "alignmentgroup": "True",
         "hoverlabel": {
          "namelength": 0
         },
         "hovertemplate": "Program_area=Sport<br>Fiscal_year=%{x}<br>Total_Amount_Awarded=%{y}",
         "legendgroup": "Sport",
         "marker": {
          "color": "#FFA15A"
         },
         "name": "Sport",
         "offsetgroup": "Sport",
         "orientation": "v",
         "showlegend": true,
         "textposition": "auto",
         "type": "bar",
         "x": [
          2021
         ],
         "xaxis": "x",
         "y": [
          9532700
         ],
         "yaxis": "y"
        },
        {
         "alignmentgroup": "True",
         "hoverlabel": {
          "namelength": 0
         },
         "hovertemplate": "Program_area=Sports and Recreation<br>Fiscal_year=%{x}<br>Total_Amount_Awarded=%{y}",
         "legendgroup": "Sports and Recreation",
         "marker": {
          "color": "#19d3f3"
         },
         "name": "Sports and Recreation",
         "offsetgroup": "Sports and Recreation",
         "orientation": "v",
         "showlegend": true,
         "textposition": "auto",
         "type": "bar",
         "x": [
          1999,
          2000,
          2001,
          2002,
          2003,
          2004,
          2005,
          2006,
          2007,
          2008,
          2009,
          2010,
          2011,
          2012,
          2013,
          2014
         ],
         "xaxis": "x",
         "y": [
          12752700,
          15573170,
          17132800,
          23706200,
          23874700,
          21841000,
          20751000,
          22370800,
          21868100,
          23298500,
          23691700,
          24625200,
          28372100,
          23789700,
          20296700,
          21898500
         ],
         "yaxis": "y"
        },
        {
         "alignmentgroup": "True",
         "hoverlabel": {
          "namelength": 0
         },
         "hovertemplate": "Program_area=Tourism<br>Fiscal_year=%{x}<br>Total_Amount_Awarded=%{y}",
         "legendgroup": "Tourism",
         "marker": {
          "color": "#FF6692"
         },
         "name": "Tourism",
         "offsetgroup": "Tourism",
         "orientation": "v",
         "showlegend": true,
         "textposition": "auto",
         "type": "bar",
         "x": [
          2021
         ],
         "xaxis": "x",
         "y": [
          1940000
         ],
         "yaxis": "y"
        }
       ],
       "layout": {
        "barmode": "relative",
        "height": 400,
        "legend": {
         "title": {
          "text": "Program_area"
         },
         "tracegroupgap": 0
        },
        "margin": {
         "t": 60
        },
        "template": {
         "data": {
          "bar": [
           {
            "error_x": {
             "color": "#2a3f5f"
            },
            "error_y": {
             "color": "#2a3f5f"
            },
            "marker": {
             "line": {
              "color": "#E5ECF6",
              "width": 0.5
             }
            },
            "type": "bar"
           }
          ],
          "barpolar": [
           {
            "marker": {
             "line": {
              "color": "#E5ECF6",
              "width": 0.5
             }
            },
            "type": "barpolar"
           }
          ],
          "carpet": [
           {
            "aaxis": {
             "endlinecolor": "#2a3f5f",
             "gridcolor": "white",
             "linecolor": "white",
             "minorgridcolor": "white",
             "startlinecolor": "#2a3f5f"
            },
            "baxis": {
             "endlinecolor": "#2a3f5f",
             "gridcolor": "white",
             "linecolor": "white",
             "minorgridcolor": "white",
             "startlinecolor": "#2a3f5f"
            },
            "type": "carpet"
           }
          ],
          "choropleth": [
           {
            "colorbar": {
             "outlinewidth": 0,
             "ticks": ""
            },
            "type": "choropleth"
           }
          ],
          "contour": [
           {
            "colorbar": {
             "outlinewidth": 0,
             "ticks": ""
            },
            "colorscale": [
             [
              0,
              "#0d0887"
             ],
             [
              0.1111111111111111,
              "#46039f"
             ],
             [
              0.2222222222222222,
              "#7201a8"
             ],
             [
              0.3333333333333333,
              "#9c179e"
             ],
             [
              0.4444444444444444,
              "#bd3786"
             ],
             [
              0.5555555555555556,
              "#d8576b"
             ],
             [
              0.6666666666666666,
              "#ed7953"
             ],
             [
              0.7777777777777778,
              "#fb9f3a"
             ],
             [
              0.8888888888888888,
              "#fdca26"
             ],
             [
              1,
              "#f0f921"
             ]
            ],
            "type": "contour"
           }
          ],
          "contourcarpet": [
           {
            "colorbar": {
             "outlinewidth": 0,
             "ticks": ""
            },
            "type": "contourcarpet"
           }
          ],
          "heatmap": [
           {
            "colorbar": {
             "outlinewidth": 0,
             "ticks": ""
            },
            "colorscale": [
             [
              0,
              "#0d0887"
             ],
             [
              0.1111111111111111,
              "#46039f"
             ],
             [
              0.2222222222222222,
              "#7201a8"
             ],
             [
              0.3333333333333333,
              "#9c179e"
             ],
             [
              0.4444444444444444,
              "#bd3786"
             ],
             [
              0.5555555555555556,
              "#d8576b"
             ],
             [
              0.6666666666666666,
              "#ed7953"
             ],
             [
              0.7777777777777778,
              "#fb9f3a"
             ],
             [
              0.8888888888888888,
              "#fdca26"
             ],
             [
              1,
              "#f0f921"
             ]
            ],
            "type": "heatmap"
           }
          ],
          "heatmapgl": [
           {
            "colorbar": {
             "outlinewidth": 0,
             "ticks": ""
            },
            "colorscale": [
             [
              0,
              "#0d0887"
             ],
             [
              0.1111111111111111,
              "#46039f"
             ],
             [
              0.2222222222222222,
              "#7201a8"
             ],
             [
              0.3333333333333333,
              "#9c179e"
             ],
             [
              0.4444444444444444,
              "#bd3786"
             ],
             [
              0.5555555555555556,
              "#d8576b"
             ],
             [
              0.6666666666666666,
              "#ed7953"
             ],
             [
              0.7777777777777778,
              "#fb9f3a"
             ],
             [
              0.8888888888888888,
              "#fdca26"
             ],
             [
              1,
              "#f0f921"
             ]
            ],
            "type": "heatmapgl"
           }
          ],
          "histogram": [
           {
            "marker": {
             "colorbar": {
              "outlinewidth": 0,
              "ticks": ""
             }
            },
            "type": "histogram"
           }
          ],
          "histogram2d": [
           {
            "colorbar": {
             "outlinewidth": 0,
             "ticks": ""
            },
            "colorscale": [
             [
              0,
              "#0d0887"
             ],
             [
              0.1111111111111111,
              "#46039f"
             ],
             [
              0.2222222222222222,
              "#7201a8"
             ],
             [
              0.3333333333333333,
              "#9c179e"
             ],
             [
              0.4444444444444444,
              "#bd3786"
             ],
             [
              0.5555555555555556,
              "#d8576b"
             ],
             [
              0.6666666666666666,
              "#ed7953"
             ],
             [
              0.7777777777777778,
              "#fb9f3a"
             ],
             [
              0.8888888888888888,
              "#fdca26"
             ],
             [
              1,
              "#f0f921"
             ]
            ],
            "type": "histogram2d"
           }
          ],
          "histogram2dcontour": [
           {
            "colorbar": {
             "outlinewidth": 0,
             "ticks": ""
            },
            "colorscale": [
             [
              0,
              "#0d0887"
             ],
             [
              0.1111111111111111,
              "#46039f"
             ],
             [
              0.2222222222222222,
              "#7201a8"
             ],
             [
              0.3333333333333333,
              "#9c179e"
             ],
             [
              0.4444444444444444,
              "#bd3786"
             ],
             [
              0.5555555555555556,
              "#d8576b"
             ],
             [
              0.6666666666666666,
              "#ed7953"
             ],
             [
              0.7777777777777778,
              "#fb9f3a"
             ],
             [
              0.8888888888888888,
              "#fdca26"
             ],
             [
              1,
              "#f0f921"
             ]
            ],
            "type": "histogram2dcontour"
           }
          ],
          "mesh3d": [
           {
            "colorbar": {
             "outlinewidth": 0,
             "ticks": ""
            },
            "type": "mesh3d"
           }
          ],
          "parcoords": [
           {
            "line": {
             "colorbar": {
              "outlinewidth": 0,
              "ticks": ""
             }
            },
            "type": "parcoords"
           }
          ],
          "pie": [
           {
            "automargin": true,
            "type": "pie"
           }
          ],
          "scatter": [
           {
            "marker": {
             "colorbar": {
              "outlinewidth": 0,
              "ticks": ""
             }
            },
            "type": "scatter"
           }
          ],
          "scatter3d": [
           {
            "line": {
             "colorbar": {
              "outlinewidth": 0,
              "ticks": ""
             }
            },
            "marker": {
             "colorbar": {
              "outlinewidth": 0,
              "ticks": ""
             }
            },
            "type": "scatter3d"
           }
          ],
          "scattercarpet": [
           {
            "marker": {
             "colorbar": {
              "outlinewidth": 0,
              "ticks": ""
             }
            },
            "type": "scattercarpet"
           }
          ],
          "scattergeo": [
           {
            "marker": {
             "colorbar": {
              "outlinewidth": 0,
              "ticks": ""
             }
            },
            "type": "scattergeo"
           }
          ],
          "scattergl": [
           {
            "marker": {
             "colorbar": {
              "outlinewidth": 0,
              "ticks": ""
             }
            },
            "type": "scattergl"
           }
          ],
          "scattermapbox": [
           {
            "marker": {
             "colorbar": {
              "outlinewidth": 0,
              "ticks": ""
             }
            },
            "type": "scattermapbox"
           }
          ],
          "scatterpolar": [
           {
            "marker": {
             "colorbar": {
              "outlinewidth": 0,
              "ticks": ""
             }
            },
            "type": "scatterpolar"
           }
          ],
          "scatterpolargl": [
           {
            "marker": {
             "colorbar": {
              "outlinewidth": 0,
              "ticks": ""
             }
            },
            "type": "scatterpolargl"
           }
          ],
          "scatterternary": [
           {
            "marker": {
             "colorbar": {
              "outlinewidth": 0,
              "ticks": ""
             }
            },
            "type": "scatterternary"
           }
          ],
          "surface": [
           {
            "colorbar": {
             "outlinewidth": 0,
             "ticks": ""
            },
            "colorscale": [
             [
              0,
              "#0d0887"
             ],
             [
              0.1111111111111111,
              "#46039f"
             ],
             [
              0.2222222222222222,
              "#7201a8"
             ],
             [
              0.3333333333333333,
              "#9c179e"
             ],
             [
              0.4444444444444444,
              "#bd3786"
             ],
             [
              0.5555555555555556,
              "#d8576b"
             ],
             [
              0.6666666666666666,
              "#ed7953"
             ],
             [
              0.7777777777777778,
              "#fb9f3a"
             ],
             [
              0.8888888888888888,
              "#fdca26"
             ],
             [
              1,
              "#f0f921"
             ]
            ],
            "type": "surface"
           }
          ],
          "table": [
           {
            "cells": {
             "fill": {
              "color": "#EBF0F8"
             },
             "line": {
              "color": "white"
             }
            },
            "header": {
             "fill": {
              "color": "#C8D4E3"
             },
             "line": {
              "color": "white"
             }
            },
            "type": "table"
           }
          ]
         },
         "layout": {
          "annotationdefaults": {
           "arrowcolor": "#2a3f5f",
           "arrowhead": 0,
           "arrowwidth": 1
          },
          "coloraxis": {
           "colorbar": {
            "outlinewidth": 0,
            "ticks": ""
           }
          },
          "colorscale": {
           "diverging": [
            [
             0,
             "#8e0152"
            ],
            [
             0.1,
             "#c51b7d"
            ],
            [
             0.2,
             "#de77ae"
            ],
            [
             0.3,
             "#f1b6da"
            ],
            [
             0.4,
             "#fde0ef"
            ],
            [
             0.5,
             "#f7f7f7"
            ],
            [
             0.6,
             "#e6f5d0"
            ],
            [
             0.7,
             "#b8e186"
            ],
            [
             0.8,
             "#7fbc41"
            ],
            [
             0.9,
             "#4d9221"
            ],
            [
             1,
             "#276419"
            ]
           ],
           "sequential": [
            [
             0,
             "#0d0887"
            ],
            [
             0.1111111111111111,
             "#46039f"
            ],
            [
             0.2222222222222222,
             "#7201a8"
            ],
            [
             0.3333333333333333,
             "#9c179e"
            ],
            [
             0.4444444444444444,
             "#bd3786"
            ],
            [
             0.5555555555555556,
             "#d8576b"
            ],
            [
             0.6666666666666666,
             "#ed7953"
            ],
            [
             0.7777777777777778,
             "#fb9f3a"
            ],
            [
             0.8888888888888888,
             "#fdca26"
            ],
            [
             1,
             "#f0f921"
            ]
           ],
           "sequentialminus": [
            [
             0,
             "#0d0887"
            ],
            [
             0.1111111111111111,
             "#46039f"
            ],
            [
             0.2222222222222222,
             "#7201a8"
            ],
            [
             0.3333333333333333,
             "#9c179e"
            ],
            [
             0.4444444444444444,
             "#bd3786"
            ],
            [
             0.5555555555555556,
             "#d8576b"
            ],
            [
             0.6666666666666666,
             "#ed7953"
            ],
            [
             0.7777777777777778,
             "#fb9f3a"
            ],
            [
             0.8888888888888888,
             "#fdca26"
            ],
            [
             1,
             "#f0f921"
            ]
           ]
          },
          "colorway": [
           "#636efa",
           "#EF553B",
           "#00cc96",
           "#ab63fa",
           "#FFA15A",
           "#19d3f3",
           "#FF6692",
           "#B6E880",
           "#FF97FF",
           "#FECB52"
          ],
          "font": {
           "color": "#2a3f5f"
          },
          "geo": {
           "bgcolor": "white",
           "lakecolor": "white",
           "landcolor": "#E5ECF6",
           "showlakes": true,
           "showland": true,
           "subunitcolor": "white"
          },
          "hoverlabel": {
           "align": "left"
          },
          "hovermode": "closest",
          "mapbox": {
           "style": "light"
          },
          "paper_bgcolor": "white",
          "plot_bgcolor": "#E5ECF6",
          "polar": {
           "angularaxis": {
            "gridcolor": "white",
            "linecolor": "white",
            "ticks": ""
           },
           "bgcolor": "#E5ECF6",
           "radialaxis": {
            "gridcolor": "white",
            "linecolor": "white",
            "ticks": ""
           }
          },
          "scene": {
           "xaxis": {
            "backgroundcolor": "#E5ECF6",
            "gridcolor": "white",
            "gridwidth": 2,
            "linecolor": "white",
            "showbackground": true,
            "ticks": "",
            "zerolinecolor": "white"
           },
           "yaxis": {
            "backgroundcolor": "#E5ECF6",
            "gridcolor": "white",
            "gridwidth": 2,
            "linecolor": "white",
            "showbackground": true,
            "ticks": "",
            "zerolinecolor": "white"
           },
           "zaxis": {
            "backgroundcolor": "#E5ECF6",
            "gridcolor": "white",
            "gridwidth": 2,
            "linecolor": "white",
            "showbackground": true,
            "ticks": "",
            "zerolinecolor": "white"
           }
          },
          "shapedefaults": {
           "line": {
            "color": "#2a3f5f"
           }
          },
          "ternary": {
           "aaxis": {
            "gridcolor": "white",
            "linecolor": "white",
            "ticks": ""
           },
           "baxis": {
            "gridcolor": "white",
            "linecolor": "white",
            "ticks": ""
           },
           "bgcolor": "#E5ECF6",
           "caxis": {
            "gridcolor": "white",
            "linecolor": "white",
            "ticks": ""
           }
          },
          "title": {
           "x": 0.05
          },
          "xaxis": {
           "automargin": true,
           "gridcolor": "white",
           "linecolor": "white",
           "ticks": "",
           "title": {
            "standoff": 15
           },
           "zerolinecolor": "white",
           "zerolinewidth": 2
          },
          "yaxis": {
           "automargin": true,
           "gridcolor": "white",
           "linecolor": "white",
           "ticks": "",
           "title": {
            "standoff": 15
           },
           "zerolinecolor": "white",
           "zerolinewidth": 2
          }
         }
        },
        "xaxis": {
         "anchor": "y",
         "domain": [
          0,
          1
         ],
         "title": {
          "text": "Fiscal_year"
         }
        },
        "yaxis": {
         "anchor": "x",
         "domain": [
          0,
          1
         ],
         "title": {
          "text": "Total_Amount_Awarded"
         }
        }
       }
      },
      "text/html": [
       "<div>\n",
       "        \n",
       "        \n",
       "            <div id=\"3a4418b7-2d2f-4c34-bb71-dd7737abacec\" class=\"plotly-graph-div\" style=\"height:400px; width:100%;\"></div>\n",
       "            <script type=\"text/javascript\">\n",
       "                require([\"plotly\"], function(Plotly) {\n",
       "                    window.PLOTLYENV=window.PLOTLYENV || {};\n",
       "                    \n",
       "                if (document.getElementById(\"3a4418b7-2d2f-4c34-bb71-dd7737abacec\")) {\n",
       "                    Plotly.newPlot(\n",
       "                        '3a4418b7-2d2f-4c34-bb71-dd7737abacec',\n",
       "                        [{\"alignmentgroup\": \"True\", \"hoverlabel\": {\"namelength\": 0}, \"hovertemplate\": \"Program_area=Active People<br>Fiscal_year=%{x}<br>Total_Amount_Awarded=%{y}\", \"legendgroup\": \"Active People\", \"marker\": {\"color\": \"#636efa\"}, \"name\": \"Active People\", \"offsetgroup\": \"Active People\", \"orientation\": \"v\", \"showlegend\": true, \"textposition\": \"auto\", \"type\": \"bar\", \"x\": [2015, 2016, 2017, 2018, 2019, 2020], \"xaxis\": \"x\", \"y\": [16102600, 19315100, 16702200, 15919700, 17887300, 9901500], \"yaxis\": \"y\"}, {\"alignmentgroup\": \"True\", \"hoverlabel\": {\"namelength\": 0}, \"hovertemplate\": \"Program_area=Arts and Culture<br>Fiscal_year=%{x}<br>Total_Amount_Awarded=%{y}\", \"legendgroup\": \"Arts and Culture\", \"marker\": {\"color\": \"#EF553B\"}, \"name\": \"Arts and Culture\", \"offsetgroup\": \"Arts and Culture\", \"orientation\": \"v\", \"showlegend\": true, \"textposition\": \"auto\", \"type\": \"bar\", \"x\": [1999, 2000, 2001, 2002, 2003, 2004, 2005, 2006, 2007, 2008, 2009, 2010, 2011, 2012, 2013, 2014], \"xaxis\": \"x\", \"y\": [13884700, 20942130, 23756400, 24346800, 24444000, 22067000, 23758800, 22578300, 22223600, 24499200, 22470300, 24782400, 35300300, 26911000, 21509000, 20067200], \"yaxis\": \"y\"}, {\"alignmentgroup\": \"True\", \"hoverlabel\": {\"namelength\": 0}, \"hovertemplate\": \"Program_area=Arts_update<br>Fiscal_year=%{x}<br>Total_Amount_Awarded=%{y}\", \"legendgroup\": \"Arts_update\", \"marker\": {\"color\": \"#00cc96\"}, \"name\": \"Arts_update\", \"offsetgroup\": \"Arts_update\", \"orientation\": \"v\", \"showlegend\": true, \"textposition\": \"auto\", \"type\": \"bar\", \"x\": [2021], \"xaxis\": \"x\", \"y\": [17634700], \"yaxis\": \"y\"}, {\"alignmentgroup\": \"True\", \"hoverlabel\": {\"namelength\": 0}, \"hovertemplate\": \"Program_area=Connected People<br>Fiscal_year=%{x}<br>Total_Amount_Awarded=%{y}\", \"legendgroup\": \"Connected People\", \"marker\": {\"color\": \"#ab63fa\"}, \"name\": \"Connected People\", \"offsetgroup\": \"Connected People\", \"orientation\": \"v\", \"showlegend\": true, \"textposition\": \"auto\", \"type\": \"bar\", \"x\": [2015, 2016, 2017, 2018, 2019, 2020], \"xaxis\": \"x\", \"y\": [18365800, 23512300, 21141000, 18598200, 14866600, 36171700], \"yaxis\": \"y\"}, {\"alignmentgroup\": \"True\", \"hoverlabel\": {\"namelength\": 0}, \"hovertemplate\": \"Program_area=Culture<br>Fiscal_year=%{x}<br>Total_Amount_Awarded=%{y}\", \"legendgroup\": \"Culture\", \"marker\": {\"color\": \"#FFA15A\"}, \"name\": \"Culture\", \"offsetgroup\": \"Culture\", \"orientation\": \"v\", \"showlegend\": true, \"textposition\": \"auto\", \"type\": \"bar\", \"x\": [2021], \"xaxis\": \"x\", \"y\": [5537600], \"yaxis\": \"y\"}, {\"alignmentgroup\": \"True\", \"hoverlabel\": {\"namelength\": 0}, \"hovertemplate\": \"Program_area=Environment<br>Fiscal_year=%{x}<br>Total_Amount_Awarded=%{y}\", \"legendgroup\": \"Environment\", \"marker\": {\"color\": \"#19d3f3\"}, \"name\": \"Environment\", \"offsetgroup\": \"Environment\", \"orientation\": \"v\", \"showlegend\": true, \"textposition\": \"auto\", \"type\": \"bar\", \"x\": [1999, 2000, 2001, 2002, 2003, 2004, 2005, 2006, 2007, 2008, 2009, 2010, 2011, 2012, 2013, 2014], \"xaxis\": \"x\", \"y\": [6732400, 9822600, 9874500, 8634200, 7816100, 9031600, 7608900, 7973000, 12272600, 12732700, 13946100, 13101800, 12908200, 13228600, 12636500, 13018100], \"yaxis\": \"y\"}, {\"alignmentgroup\": \"True\", \"hoverlabel\": {\"namelength\": 0}, \"hovertemplate\": \"Program_area=Green People<br>Fiscal_year=%{x}<br>Total_Amount_Awarded=%{y}\", \"legendgroup\": \"Green People\", \"marker\": {\"color\": \"#FF6692\"}, \"name\": \"Green People\", \"offsetgroup\": \"Green People\", \"orientation\": \"v\", \"showlegend\": true, \"textposition\": \"auto\", \"type\": \"bar\", \"x\": [2015, 2016, 2017, 2018, 2019, 2020], \"xaxis\": \"x\", \"y\": [11172200, 11135900, 9894200, 10689000, 10735300, 4298300], \"yaxis\": \"y\"}, {\"alignmentgroup\": \"True\", \"hoverlabel\": {\"namelength\": 0}, \"hovertemplate\": \"Program_area=Heritage<br>Fiscal_year=%{x}<br>Total_Amount_Awarded=%{y}\", \"legendgroup\": \"Heritage\", \"marker\": {\"color\": \"#B6E880\"}, \"name\": \"Heritage\", \"offsetgroup\": \"Heritage\", \"orientation\": \"v\", \"showlegend\": true, \"textposition\": \"auto\", \"type\": \"bar\", \"x\": [2021], \"xaxis\": \"x\", \"y\": [3225300], \"yaxis\": \"y\"}, {\"alignmentgroup\": \"True\", \"hoverlabel\": {\"namelength\": 0}, \"hovertemplate\": \"Program_area=Human and Social Services<br>Fiscal_year=%{x}<br>Total_Amount_Awarded=%{y}\", \"legendgroup\": \"Human and Social Services\", \"marker\": {\"color\": \"#FF97FF\"}, \"name\": \"Human and Social Services\", \"offsetgroup\": \"Human and Social Services\", \"orientation\": \"v\", \"showlegend\": true, \"textposition\": \"auto\", \"type\": \"bar\", \"x\": [1999, 2000, 2001, 2002, 2003, 2004, 2005, 2006, 2007, 2008, 2009, 2010, 2011, 2012, 2013, 2014], \"xaxis\": \"x\", \"y\": [47132200, 52636021, 53900300, 40839700, 40546400, 41407200, 42849400, 42840300, 43941800, 44065900, 48420200, 49226500, 74487800, 52712600, 51582100, 48816200], \"yaxis\": \"y\"}, {\"alignmentgroup\": \"True\", \"hoverlabel\": {\"namelength\": 0}, \"hovertemplate\": \"Program_area=Inspired People<br>Fiscal_year=%{x}<br>Total_Amount_Awarded=%{y}\", \"legendgroup\": \"Inspired People\", \"marker\": {\"color\": \"#FECB52\"}, \"name\": \"Inspired People\", \"offsetgroup\": \"Inspired People\", \"orientation\": \"v\", \"showlegend\": true, \"textposition\": \"auto\", \"type\": \"bar\", \"x\": [2015, 2016, 2017, 2018, 2019, 2020], \"xaxis\": \"x\", \"y\": [15928400, 11699000, 15810900, 16492300, 15609400, 17698600], \"yaxis\": \"y\"}, {\"alignmentgroup\": \"True\", \"hoverlabel\": {\"namelength\": 0}, \"hovertemplate\": \"Program_area=Other<br>Fiscal_year=%{x}<br>Total_Amount_Awarded=%{y}\", \"legendgroup\": \"Other\", \"marker\": {\"color\": \"#636efa\"}, \"name\": \"Other\", \"offsetgroup\": \"Other\", \"orientation\": \"v\", \"showlegend\": true, \"textposition\": \"auto\", \"type\": \"bar\", \"x\": [2020], \"xaxis\": \"x\", \"y\": [13644400], \"yaxis\": \"y\"}, {\"alignmentgroup\": \"True\", \"hoverlabel\": {\"namelength\": 0}, \"hovertemplate\": \"Program_area=Promising Young People<br>Fiscal_year=%{x}<br>Total_Amount_Awarded=%{y}\", \"legendgroup\": \"Promising Young People\", \"marker\": {\"color\": \"#EF553B\"}, \"name\": \"Promising Young People\", \"offsetgroup\": \"Promising Young People\", \"orientation\": \"v\", \"showlegend\": true, \"textposition\": \"auto\", \"type\": \"bar\", \"x\": [2015, 2016, 2017, 2018, 2019, 2020], \"xaxis\": \"x\", \"y\": [22497800, 17442100, 18723600, 15581200, 24504400, 14802300], \"yaxis\": \"y\"}, {\"alignmentgroup\": \"True\", \"hoverlabel\": {\"namelength\": 0}, \"hovertemplate\": \"Program_area=Prosperous People<br>Fiscal_year=%{x}<br>Total_Amount_Awarded=%{y}\", \"legendgroup\": \"Prosperous People\", \"marker\": {\"color\": \"#00cc96\"}, \"name\": \"Prosperous People\", \"offsetgroup\": \"Prosperous People\", \"orientation\": \"v\", \"showlegend\": true, \"textposition\": \"auto\", \"type\": \"bar\", \"x\": [2015, 2016, 2017, 2018, 2019, 2020], \"xaxis\": \"x\", \"y\": [17750700, 17378700, 17319300, 16780200, 18198800, 11482600], \"yaxis\": \"y\"}, {\"alignmentgroup\": \"True\", \"hoverlabel\": {\"namelength\": 0}, \"hovertemplate\": \"Program_area=Recreation<br>Fiscal_year=%{x}<br>Total_Amount_Awarded=%{y}\", \"legendgroup\": \"Recreation\", \"marker\": {\"color\": \"#ab63fa\"}, \"name\": \"Recreation\", \"offsetgroup\": \"Recreation\", \"orientation\": \"v\", \"showlegend\": true, \"textposition\": \"auto\", \"type\": \"bar\", \"x\": [2021], \"xaxis\": \"x\", \"y\": [8149000], \"yaxis\": \"y\"}, {\"alignmentgroup\": \"True\", \"hoverlabel\": {\"namelength\": 0}, \"hovertemplate\": \"Program_area=Sport<br>Fiscal_year=%{x}<br>Total_Amount_Awarded=%{y}\", \"legendgroup\": \"Sport\", \"marker\": {\"color\": \"#FFA15A\"}, \"name\": \"Sport\", \"offsetgroup\": \"Sport\", \"orientation\": \"v\", \"showlegend\": true, \"textposition\": \"auto\", \"type\": \"bar\", \"x\": [2021], \"xaxis\": \"x\", \"y\": [9532700], \"yaxis\": \"y\"}, {\"alignmentgroup\": \"True\", \"hoverlabel\": {\"namelength\": 0}, \"hovertemplate\": \"Program_area=Sports and Recreation<br>Fiscal_year=%{x}<br>Total_Amount_Awarded=%{y}\", \"legendgroup\": \"Sports and Recreation\", \"marker\": {\"color\": \"#19d3f3\"}, \"name\": \"Sports and Recreation\", \"offsetgroup\": \"Sports and Recreation\", \"orientation\": \"v\", \"showlegend\": true, \"textposition\": \"auto\", \"type\": \"bar\", \"x\": [1999, 2000, 2001, 2002, 2003, 2004, 2005, 2006, 2007, 2008, 2009, 2010, 2011, 2012, 2013, 2014], \"xaxis\": \"x\", \"y\": [12752700, 15573170, 17132800, 23706200, 23874700, 21841000, 20751000, 22370800, 21868100, 23298500, 23691700, 24625200, 28372100, 23789700, 20296700, 21898500], \"yaxis\": \"y\"}, {\"alignmentgroup\": \"True\", \"hoverlabel\": {\"namelength\": 0}, \"hovertemplate\": \"Program_area=Tourism<br>Fiscal_year=%{x}<br>Total_Amount_Awarded=%{y}\", \"legendgroup\": \"Tourism\", \"marker\": {\"color\": \"#FF6692\"}, \"name\": \"Tourism\", \"offsetgroup\": \"Tourism\", \"orientation\": \"v\", \"showlegend\": true, \"textposition\": \"auto\", \"type\": \"bar\", \"x\": [2021], \"xaxis\": \"x\", \"y\": [1940000], \"yaxis\": \"y\"}],\n",
       "                        {\"barmode\": \"relative\", \"height\": 400, \"legend\": {\"title\": {\"text\": \"Program_area\"}, \"tracegroupgap\": 0}, \"margin\": {\"t\": 60}, \"template\": {\"data\": {\"bar\": [{\"error_x\": {\"color\": \"#2a3f5f\"}, \"error_y\": {\"color\": \"#2a3f5f\"}, \"marker\": {\"line\": {\"color\": \"#E5ECF6\", \"width\": 0.5}}, \"type\": \"bar\"}], \"barpolar\": [{\"marker\": {\"line\": {\"color\": \"#E5ECF6\", \"width\": 0.5}}, \"type\": \"barpolar\"}], \"carpet\": [{\"aaxis\": {\"endlinecolor\": \"#2a3f5f\", \"gridcolor\": \"white\", \"linecolor\": \"white\", \"minorgridcolor\": \"white\", \"startlinecolor\": \"#2a3f5f\"}, \"baxis\": {\"endlinecolor\": \"#2a3f5f\", \"gridcolor\": \"white\", \"linecolor\": \"white\", \"minorgridcolor\": \"white\", \"startlinecolor\": \"#2a3f5f\"}, \"type\": \"carpet\"}], \"choropleth\": [{\"colorbar\": {\"outlinewidth\": 0, \"ticks\": \"\"}, \"type\": \"choropleth\"}], \"contour\": [{\"colorbar\": {\"outlinewidth\": 0, \"ticks\": \"\"}, \"colorscale\": [[0.0, \"#0d0887\"], [0.1111111111111111, \"#46039f\"], [0.2222222222222222, \"#7201a8\"], [0.3333333333333333, \"#9c179e\"], [0.4444444444444444, \"#bd3786\"], [0.5555555555555556, \"#d8576b\"], [0.6666666666666666, \"#ed7953\"], [0.7777777777777778, \"#fb9f3a\"], [0.8888888888888888, \"#fdca26\"], [1.0, \"#f0f921\"]], \"type\": \"contour\"}], \"contourcarpet\": [{\"colorbar\": {\"outlinewidth\": 0, \"ticks\": \"\"}, \"type\": \"contourcarpet\"}], \"heatmap\": [{\"colorbar\": {\"outlinewidth\": 0, \"ticks\": \"\"}, \"colorscale\": [[0.0, \"#0d0887\"], [0.1111111111111111, \"#46039f\"], [0.2222222222222222, \"#7201a8\"], [0.3333333333333333, \"#9c179e\"], [0.4444444444444444, \"#bd3786\"], [0.5555555555555556, \"#d8576b\"], [0.6666666666666666, \"#ed7953\"], [0.7777777777777778, \"#fb9f3a\"], [0.8888888888888888, \"#fdca26\"], [1.0, \"#f0f921\"]], \"type\": \"heatmap\"}], \"heatmapgl\": [{\"colorbar\": {\"outlinewidth\": 0, \"ticks\": \"\"}, \"colorscale\": [[0.0, \"#0d0887\"], [0.1111111111111111, \"#46039f\"], [0.2222222222222222, \"#7201a8\"], [0.3333333333333333, \"#9c179e\"], [0.4444444444444444, \"#bd3786\"], [0.5555555555555556, \"#d8576b\"], [0.6666666666666666, \"#ed7953\"], [0.7777777777777778, \"#fb9f3a\"], [0.8888888888888888, \"#fdca26\"], [1.0, \"#f0f921\"]], \"type\": \"heatmapgl\"}], \"histogram\": [{\"marker\": {\"colorbar\": {\"outlinewidth\": 0, \"ticks\": \"\"}}, \"type\": \"histogram\"}], \"histogram2d\": [{\"colorbar\": {\"outlinewidth\": 0, \"ticks\": \"\"}, \"colorscale\": [[0.0, \"#0d0887\"], [0.1111111111111111, \"#46039f\"], [0.2222222222222222, \"#7201a8\"], [0.3333333333333333, \"#9c179e\"], [0.4444444444444444, \"#bd3786\"], [0.5555555555555556, \"#d8576b\"], [0.6666666666666666, \"#ed7953\"], [0.7777777777777778, \"#fb9f3a\"], [0.8888888888888888, \"#fdca26\"], [1.0, \"#f0f921\"]], \"type\": \"histogram2d\"}], \"histogram2dcontour\": [{\"colorbar\": {\"outlinewidth\": 0, \"ticks\": \"\"}, \"colorscale\": [[0.0, \"#0d0887\"], [0.1111111111111111, \"#46039f\"], [0.2222222222222222, \"#7201a8\"], [0.3333333333333333, \"#9c179e\"], [0.4444444444444444, \"#bd3786\"], [0.5555555555555556, \"#d8576b\"], [0.6666666666666666, \"#ed7953\"], [0.7777777777777778, \"#fb9f3a\"], [0.8888888888888888, \"#fdca26\"], [1.0, \"#f0f921\"]], \"type\": \"histogram2dcontour\"}], \"mesh3d\": [{\"colorbar\": {\"outlinewidth\": 0, \"ticks\": \"\"}, \"type\": \"mesh3d\"}], \"parcoords\": [{\"line\": {\"colorbar\": {\"outlinewidth\": 0, \"ticks\": \"\"}}, \"type\": \"parcoords\"}], \"pie\": [{\"automargin\": true, \"type\": \"pie\"}], \"scatter\": [{\"marker\": {\"colorbar\": {\"outlinewidth\": 0, \"ticks\": \"\"}}, \"type\": \"scatter\"}], \"scatter3d\": [{\"line\": {\"colorbar\": {\"outlinewidth\": 0, \"ticks\": \"\"}}, \"marker\": {\"colorbar\": {\"outlinewidth\": 0, \"ticks\": \"\"}}, \"type\": \"scatter3d\"}], \"scattercarpet\": [{\"marker\": {\"colorbar\": {\"outlinewidth\": 0, \"ticks\": \"\"}}, \"type\": \"scattercarpet\"}], \"scattergeo\": [{\"marker\": {\"colorbar\": {\"outlinewidth\": 0, \"ticks\": \"\"}}, \"type\": \"scattergeo\"}], \"scattergl\": [{\"marker\": {\"colorbar\": {\"outlinewidth\": 0, \"ticks\": \"\"}}, \"type\": \"scattergl\"}], \"scattermapbox\": [{\"marker\": {\"colorbar\": {\"outlinewidth\": 0, \"ticks\": \"\"}}, \"type\": \"scattermapbox\"}], \"scatterpolar\": [{\"marker\": {\"colorbar\": {\"outlinewidth\": 0, \"ticks\": \"\"}}, \"type\": \"scatterpolar\"}], \"scatterpolargl\": [{\"marker\": {\"colorbar\": {\"outlinewidth\": 0, \"ticks\": \"\"}}, \"type\": \"scatterpolargl\"}], \"scatterternary\": [{\"marker\": {\"colorbar\": {\"outlinewidth\": 0, \"ticks\": \"\"}}, \"type\": \"scatterternary\"}], \"surface\": [{\"colorbar\": {\"outlinewidth\": 0, \"ticks\": \"\"}, \"colorscale\": [[0.0, \"#0d0887\"], [0.1111111111111111, \"#46039f\"], [0.2222222222222222, \"#7201a8\"], [0.3333333333333333, \"#9c179e\"], [0.4444444444444444, \"#bd3786\"], [0.5555555555555556, \"#d8576b\"], [0.6666666666666666, \"#ed7953\"], [0.7777777777777778, \"#fb9f3a\"], [0.8888888888888888, \"#fdca26\"], [1.0, \"#f0f921\"]], \"type\": \"surface\"}], \"table\": [{\"cells\": {\"fill\": {\"color\": \"#EBF0F8\"}, \"line\": {\"color\": \"white\"}}, \"header\": {\"fill\": {\"color\": \"#C8D4E3\"}, \"line\": {\"color\": \"white\"}}, \"type\": \"table\"}]}, \"layout\": {\"annotationdefaults\": {\"arrowcolor\": \"#2a3f5f\", \"arrowhead\": 0, \"arrowwidth\": 1}, \"coloraxis\": {\"colorbar\": {\"outlinewidth\": 0, \"ticks\": \"\"}}, \"colorscale\": {\"diverging\": [[0, \"#8e0152\"], [0.1, \"#c51b7d\"], [0.2, \"#de77ae\"], [0.3, \"#f1b6da\"], [0.4, \"#fde0ef\"], [0.5, \"#f7f7f7\"], [0.6, \"#e6f5d0\"], [0.7, \"#b8e186\"], [0.8, \"#7fbc41\"], [0.9, \"#4d9221\"], [1, \"#276419\"]], \"sequential\": [[0.0, \"#0d0887\"], [0.1111111111111111, \"#46039f\"], [0.2222222222222222, \"#7201a8\"], [0.3333333333333333, \"#9c179e\"], [0.4444444444444444, \"#bd3786\"], [0.5555555555555556, \"#d8576b\"], [0.6666666666666666, \"#ed7953\"], [0.7777777777777778, \"#fb9f3a\"], [0.8888888888888888, \"#fdca26\"], [1.0, \"#f0f921\"]], \"sequentialminus\": [[0.0, \"#0d0887\"], [0.1111111111111111, \"#46039f\"], [0.2222222222222222, \"#7201a8\"], [0.3333333333333333, \"#9c179e\"], [0.4444444444444444, \"#bd3786\"], [0.5555555555555556, \"#d8576b\"], [0.6666666666666666, \"#ed7953\"], [0.7777777777777778, \"#fb9f3a\"], [0.8888888888888888, \"#fdca26\"], [1.0, \"#f0f921\"]]}, \"colorway\": [\"#636efa\", \"#EF553B\", \"#00cc96\", \"#ab63fa\", \"#FFA15A\", \"#19d3f3\", \"#FF6692\", \"#B6E880\", \"#FF97FF\", \"#FECB52\"], \"font\": {\"color\": \"#2a3f5f\"}, \"geo\": {\"bgcolor\": \"white\", \"lakecolor\": \"white\", \"landcolor\": \"#E5ECF6\", \"showlakes\": true, \"showland\": true, \"subunitcolor\": \"white\"}, \"hoverlabel\": {\"align\": \"left\"}, \"hovermode\": \"closest\", \"mapbox\": {\"style\": \"light\"}, \"paper_bgcolor\": \"white\", \"plot_bgcolor\": \"#E5ECF6\", \"polar\": {\"angularaxis\": {\"gridcolor\": \"white\", \"linecolor\": \"white\", \"ticks\": \"\"}, \"bgcolor\": \"#E5ECF6\", \"radialaxis\": {\"gridcolor\": \"white\", \"linecolor\": \"white\", \"ticks\": \"\"}}, \"scene\": {\"xaxis\": {\"backgroundcolor\": \"#E5ECF6\", \"gridcolor\": \"white\", \"gridwidth\": 2, \"linecolor\": \"white\", \"showbackground\": true, \"ticks\": \"\", \"zerolinecolor\": \"white\"}, \"yaxis\": {\"backgroundcolor\": \"#E5ECF6\", \"gridcolor\": \"white\", \"gridwidth\": 2, \"linecolor\": \"white\", \"showbackground\": true, \"ticks\": \"\", \"zerolinecolor\": \"white\"}, \"zaxis\": {\"backgroundcolor\": \"#E5ECF6\", \"gridcolor\": \"white\", \"gridwidth\": 2, \"linecolor\": \"white\", \"showbackground\": true, \"ticks\": \"\", \"zerolinecolor\": \"white\"}}, \"shapedefaults\": {\"line\": {\"color\": \"#2a3f5f\"}}, \"ternary\": {\"aaxis\": {\"gridcolor\": \"white\", \"linecolor\": \"white\", \"ticks\": \"\"}, \"baxis\": {\"gridcolor\": \"white\", \"linecolor\": \"white\", \"ticks\": \"\"}, \"bgcolor\": \"#E5ECF6\", \"caxis\": {\"gridcolor\": \"white\", \"linecolor\": \"white\", \"ticks\": \"\"}}, \"title\": {\"x\": 0.05}, \"xaxis\": {\"automargin\": true, \"gridcolor\": \"white\", \"linecolor\": \"white\", \"ticks\": \"\", \"title\": {\"standoff\": 15}, \"zerolinecolor\": \"white\", \"zerolinewidth\": 2}, \"yaxis\": {\"automargin\": true, \"gridcolor\": \"white\", \"linecolor\": \"white\", \"ticks\": \"\", \"title\": {\"standoff\": 15}, \"zerolinecolor\": \"white\", \"zerolinewidth\": 2}}}, \"xaxis\": {\"anchor\": \"y\", \"domain\": [0.0, 1.0], \"title\": {\"text\": \"Fiscal_year\"}}, \"yaxis\": {\"anchor\": \"x\", \"domain\": [0.0, 1.0], \"title\": {\"text\": \"Total_Amount_Awarded\"}}},\n",
       "                        {\"responsive\": true}\n",
       "                    ).then(function(){\n",
       "                            \n",
       "var gd = document.getElementById('3a4418b7-2d2f-4c34-bb71-dd7737abacec');\n",
       "var x = new MutationObserver(function (mutations, observer) {{\n",
       "        var display = window.getComputedStyle(gd).display;\n",
       "        if (!display || display === 'none') {{\n",
       "            console.log([gd, 'removed!']);\n",
       "            Plotly.purge(gd);\n",
       "            observer.disconnect();\n",
       "        }}\n",
       "}});\n",
       "\n",
       "// Listen for the removal of the full notebook cells\n",
       "var notebookContainer = gd.closest('#notebook-container');\n",
       "if (notebookContainer) {{\n",
       "    x.observe(notebookContainer, {childList: true});\n",
       "}}\n",
       "\n",
       "// Listen for the clearing of the current output cell\n",
       "var outputEl = gd.closest('.output');\n",
       "if (outputEl) {{\n",
       "    x.observe(outputEl, {childList: true});\n",
       "}}\n",
       "\n",
       "                        })\n",
       "                };\n",
       "                });\n",
       "            </script>\n",
       "        </div>"
      ]
     },
     "metadata": {},
     "output_type": "display_data"
    }
   ],
   "source": [
    "## Total grants by year by program area\n",
    "df_total_grants = df[['Amount_awarded','Program_area_update','Fiscal_year_update']]\n",
    "df_total_grants_agg = df_total_grants.groupby(['Program_area_update','Fiscal_year_update']).agg(Total_Amount_Awarded = \n",
    "                                                                      ('Amount_awarded', 'sum')).reset_index()\n",
    "\n",
    "df_total_grants_agg.columns = ['Program_area','Fiscal_year', 'Total_Amount_Awarded']\n",
    "\n",
    "fig = px.bar(df_total_grants_agg, x=\"Fiscal_year\", y=\"Total_Amount_Awarded\", color='Program_area',\n",
    "             height=400)\n",
    "fig.show()"
   ]
  },
  {
   "cell_type": "code",
   "execution_count": 86,
   "metadata": {},
   "outputs": [
    {
     "data": {
      "application/vnd.plotly.v1+json": {
       "config": {
        "plotlyServerURL": "https://plot.ly"
       },
       "data": [
        {
         "alignmentgroup": "True",
         "hoverlabel": {
          "namelength": 0
         },
         "hovertemplate": "Age_group=Adults<br>Fiscal_year=%{x}<br>Total_Amount_Awarded=%{y}",
         "legendgroup": "Adults",
         "marker": {
          "color": "#636efa"
         },
         "name": "Adults",
         "offsetgroup": "Adults",
         "orientation": "v",
         "showlegend": true,
         "textposition": "auto",
         "type": "bar",
         "x": [
          2000,
          2001,
          2002,
          2003,
          2004,
          2005,
          2006,
          2007,
          2008,
          2009,
          2010,
          2011,
          2012,
          2013,
          2014,
          2015,
          2016,
          2017,
          2018,
          2019,
          2020,
          2021
         ],
         "xaxis": "x",
         "y": [
          2235200,
          1973800,
          2748000,
          4021500,
          8157900,
          7853600,
          4735400,
          8043300,
          12443300,
          7752800,
          8701900,
          6786100,
          5387200,
          6143400,
          5981900,
          16294300,
          14293600,
          19231800,
          13190100,
          14199900,
          13598900,
          2350600
         ],
         "yaxis": "y"
        },
        {
         "alignmentgroup": "True",
         "hoverlabel": {
          "namelength": 0
         },
         "hovertemplate": "Age_group=Adults & Seniors<br>Fiscal_year=%{x}<br>Total_Amount_Awarded=%{y}",
         "legendgroup": "Adults & Seniors",
         "marker": {
          "color": "#EF553B"
         },
         "name": "Adults & Seniors",
         "offsetgroup": "Adults & Seniors",
         "orientation": "v",
         "showlegend": true,
         "textposition": "auto",
         "type": "bar",
         "x": [
          2000,
          2001,
          2002,
          2003,
          2004,
          2005,
          2006,
          2007,
          2008,
          2009,
          2010,
          2011,
          2012,
          2013,
          2014,
          2016
         ],
         "xaxis": "x",
         "y": [
          572900,
          434700,
          74800,
          2721800,
          5649200,
          3821700,
          3904800,
          3787900,
          1289700,
          3387600,
          3265200,
          2547400,
          2990400,
          1688800,
          980900,
          30000
         ],
         "yaxis": "y"
        },
        {
         "alignmentgroup": "True",
         "hoverlabel": {
          "namelength": 0
         },
         "hovertemplate": "Age_group=Children<br>Fiscal_year=%{x}<br>Total_Amount_Awarded=%{y}",
         "legendgroup": "Children",
         "marker": {
          "color": "#00cc96"
         },
         "name": "Children",
         "offsetgroup": "Children",
         "orientation": "v",
         "showlegend": true,
         "textposition": "auto",
         "type": "bar",
         "x": [
          1999,
          2000,
          2001,
          2002,
          2003,
          2004,
          2005,
          2006,
          2007,
          2008,
          2009,
          2010,
          2011,
          2012,
          2013,
          2014,
          2015,
          2016,
          2017,
          2018,
          2019,
          2020,
          2021
         ],
         "xaxis": "x",
         "y": [
          1503800,
          4957100,
          5597500,
          3824900,
          5281800,
          4903200,
          4628900,
          4487300,
          4270500,
          3075300,
          2732700,
          1848800,
          3811500,
          2451300,
          2287300,
          3048200,
          14603300,
          14054300,
          13103200,
          9004500,
          18333800,
          7080000,
          4646700
         ],
         "yaxis": "y"
        },
        {
         "alignmentgroup": "True",
         "hoverlabel": {
          "namelength": 0
         },
         "hovertemplate": "Age_group=Children & Adults<br>Fiscal_year=%{x}<br>Total_Amount_Awarded=%{y}",
         "legendgroup": "Children & Adults",
         "marker": {
          "color": "#ab63fa"
         },
         "name": "Children & Adults",
         "offsetgroup": "Children & Adults",
         "orientation": "v",
         "showlegend": true,
         "textposition": "auto",
         "type": "bar",
         "x": [
          2000,
          2003,
          2004,
          2005,
          2006,
          2007,
          2008,
          2009,
          2010,
          2011,
          2012,
          2013,
          2014
         ],
         "xaxis": "x",
         "y": [
          64300,
          2460300,
          600600,
          1732700,
          927400,
          822700,
          622200,
          579900,
          1573500,
          6500,
          142200,
          370900,
          302000
         ],
         "yaxis": "y"
        },
        {
         "alignmentgroup": "True",
         "hoverlabel": {
          "namelength": 0
         },
         "hovertemplate": "Age_group=Children & Seniors<br>Fiscal_year=%{x}<br>Total_Amount_Awarded=%{y}",
         "legendgroup": "Children & Seniors",
         "marker": {
          "color": "#FFA15A"
         },
         "name": "Children & Seniors",
         "offsetgroup": "Children & Seniors",
         "orientation": "v",
         "showlegend": true,
         "textposition": "auto",
         "type": "bar",
         "x": [
          2001,
          2003,
          2004,
          2005,
          2006,
          2007,
          2008,
          2009,
          2011,
          2012,
          2013,
          2014
         ],
         "xaxis": "x",
         "y": [
          136000,
          100100,
          41200,
          97600,
          151700,
          15000,
          15000,
          137700,
          39000,
          149000,
          15000,
          134400
         ],
         "yaxis": "y"
        },
        {
         "alignmentgroup": "True",
         "hoverlabel": {
          "namelength": 0
         },
         "hovertemplate": "Age_group=Children & Youth<br>Fiscal_year=%{x}<br>Total_Amount_Awarded=%{y}",
         "legendgroup": "Children & Youth",
         "marker": {
          "color": "#19d3f3"
         },
         "name": "Children & Youth",
         "offsetgroup": "Children & Youth",
         "orientation": "v",
         "showlegend": true,
         "textposition": "auto",
         "type": "bar",
         "x": [
          1999,
          2000,
          2001,
          2002,
          2003,
          2004,
          2005,
          2006,
          2007,
          2008,
          2009,
          2010,
          2011,
          2012,
          2013,
          2014,
          2016
         ],
         "xaxis": "x",
         "y": [
          1343000,
          10329000,
          13023600,
          7970600,
          14330200,
          10815200,
          10577500,
          13555300,
          11388100,
          13781000,
          11702600,
          14092500,
          12285500,
          11540700,
          10482900,
          12838700,
          119000
         ],
         "yaxis": "y"
        },
        {
         "alignmentgroup": "True",
         "hoverlabel": {
          "namelength": 0
         },
         "hovertemplate": "Age_group=Children, Adults & Seniors<br>Fiscal_year=%{x}<br>Total_Amount_Awarded=%{y}",
         "legendgroup": "Children, Adults & Seniors",
         "marker": {
          "color": "#FF6692"
         },
         "name": "Children, Adults & Seniors",
         "offsetgroup": "Children, Adults & Seniors",
         "orientation": "v",
         "showlegend": true,
         "textposition": "auto",
         "type": "bar",
         "x": [
          2001,
          2003,
          2004,
          2005,
          2007,
          2013,
          2014
         ],
         "xaxis": "x",
         "y": [
          75000,
          536500,
          41800,
          43000,
          268100,
          225000,
          42900
         ],
         "yaxis": "y"
        },
        {
         "alignmentgroup": "True",
         "hoverlabel": {
          "namelength": 0
         },
         "hovertemplate": "Age_group=Children, Youth & Adults<br>Fiscal_year=%{x}<br>Total_Amount_Awarded=%{y}",
         "legendgroup": "Children, Youth & Adults",
         "marker": {
          "color": "#B6E880"
         },
         "name": "Children, Youth & Adults",
         "offsetgroup": "Children, Youth & Adults",
         "orientation": "v",
         "showlegend": true,
         "textposition": "auto",
         "type": "bar",
         "x": [
          2000,
          2001,
          2002,
          2003,
          2004,
          2005,
          2006,
          2007,
          2008,
          2009,
          2010,
          2011,
          2012,
          2013,
          2014
         ],
         "xaxis": "x",
         "y": [
          96700,
          561100,
          510200,
          7292950,
          6064700,
          4835100,
          2232400,
          3557500,
          2751600,
          5083100,
          4443800,
          5159600,
          4597500,
          2896800,
          4088100
         ],
         "yaxis": "y"
        },
        {
         "alignmentgroup": "True",
         "hoverlabel": {
          "namelength": 0
         },
         "hovertemplate": "Age_group=Children, Youth & Seniors<br>Fiscal_year=%{x}<br>Total_Amount_Awarded=%{y}",
         "legendgroup": "Children, Youth & Seniors",
         "marker": {
          "color": "#FF97FF"
         },
         "name": "Children, Youth & Seniors",
         "offsetgroup": "Children, Youth & Seniors",
         "orientation": "v",
         "showlegend": true,
         "textposition": "auto",
         "type": "bar",
         "x": [
          1999,
          2000,
          2001,
          2002,
          2003,
          2004,
          2005,
          2006,
          2007,
          2008,
          2009,
          2010,
          2011,
          2012,
          2013,
          2014
         ],
         "xaxis": "x",
         "y": [
          300000,
          378000,
          157700,
          66200,
          333700,
          378400,
          311000,
          279000,
          233300,
          461300,
          846100,
          317000,
          201100,
          427400,
          90300,
          320500
         ],
         "yaxis": "y"
        },
        {
         "alignmentgroup": "True",
         "hoverlabel": {
          "namelength": 0
         },
         "hovertemplate": "Age_group=General<br>Fiscal_year=%{x}<br>Total_Amount_Awarded=%{y}",
         "legendgroup": "General",
         "marker": {
          "color": "#FECB52"
         },
         "name": "General",
         "offsetgroup": "General",
         "orientation": "v",
         "showlegend": true,
         "textposition": "auto",
         "type": "bar",
         "x": [
          1999,
          2000,
          2001,
          2002,
          2003,
          2009,
          2010,
          2011,
          2012,
          2013,
          2015,
          2016,
          2017,
          2018,
          2019,
          2020,
          2021
         ],
         "xaxis": "x",
         "y": [
          72058300,
          69172130,
          72059400,
          73550800,
          128300,
          675800,
          536500,
          11103800,
          2540500,
          108800,
          42308800,
          42359200,
          41252300,
          44354100,
          37275800,
          55292600,
          31988400
         ],
         "yaxis": "y"
        },
        {
         "alignmentgroup": "True",
         "hoverlabel": {
          "namelength": 0
         },
         "hovertemplate": "Age_group=Not Specified<br>Fiscal_year=%{x}<br>Total_Amount_Awarded=%{y}",
         "legendgroup": "Not Specified",
         "marker": {
          "color": "#636efa"
         },
         "name": "Not Specified",
         "offsetgroup": "Not Specified",
         "orientation": "v",
         "showlegend": true,
         "textposition": "auto",
         "type": "bar",
         "x": [
          2000,
          2001,
          2002,
          2003,
          2004,
          2005,
          2006,
          2007,
          2008,
          2009,
          2010,
          2011,
          2012,
          2013,
          2014,
          2017,
          2018,
          2019,
          2020
         ],
         "xaxis": "x",
         "y": [
          649500,
          301500,
          266900,
          42047950,
          44203300,
          46770700,
          49246400,
          50360700,
          52958100,
          56655000,
          52863800,
          77024100,
          57403100,
          60535200,
          57630600,
          30000,
          3204800,
          3351000,
          3701700
         ],
         "yaxis": "y"
        },
        {
         "alignmentgroup": "True",
         "hoverlabel": {
          "namelength": 0
         },
         "hovertemplate": "Age_group=Seniors<br>Fiscal_year=%{x}<br>Total_Amount_Awarded=%{y}",
         "legendgroup": "Seniors",
         "marker": {
          "color": "#EF553B"
         },
         "name": "Seniors",
         "offsetgroup": "Seniors",
         "orientation": "v",
         "showlegend": true,
         "textposition": "auto",
         "type": "bar",
         "x": [
          1999,
          2000,
          2001,
          2002,
          2003,
          2004,
          2005,
          2006,
          2007,
          2008,
          2009,
          2010,
          2011,
          2012,
          2013,
          2014,
          2015,
          2016,
          2017,
          2018,
          2019,
          2020,
          2021
         ],
         "xaxis": "x",
         "y": [
          3399900,
          4017091,
          3273900,
          2949000,
          1516700,
          2250000,
          1902500,
          2156100,
          1604000,
          2500700,
          2643800,
          3306200,
          5211400,
          3694600,
          4246800,
          2626300,
          6122700,
          7808300,
          4631500,
          6018200,
          6695900,
          6328400,
          1556300
         ],
         "yaxis": "y"
        },
        {
         "alignmentgroup": "True",
         "hoverlabel": {
          "namelength": 0
         },
         "hovertemplate": "Age_group=Youth<br>Fiscal_year=%{x}<br>Total_Amount_Awarded=%{y}",
         "legendgroup": "Youth",
         "marker": {
          "color": "#00cc96"
         },
         "name": "Youth",
         "offsetgroup": "Youth",
         "orientation": "v",
         "showlegend": true,
         "textposition": "auto",
         "type": "bar",
         "x": [
          1999,
          2000,
          2001,
          2002,
          2003,
          2004,
          2005,
          2006,
          2007,
          2008,
          2009,
          2010,
          2011,
          2012,
          2013,
          2014,
          2015,
          2016,
          2017,
          2018,
          2019,
          2020,
          2021
         ],
         "xaxis": "x",
         "y": [
          1877000,
          6242600,
          6741800,
          4990400,
          6137400,
          7496600,
          8501000,
          8559000,
          10296200,
          9404100,
          8123800,
          11127300,
          11796600,
          10684500,
          8324300,
          10110700,
          22720400,
          23798600,
          23070400,
          22908500,
          26306000,
          12474000,
          5477300
         ],
         "yaxis": "y"
        },
        {
         "alignmentgroup": "True",
         "hoverlabel": {
          "namelength": 0
         },
         "hovertemplate": "Age_group=Youth & Adults<br>Fiscal_year=%{x}<br>Total_Amount_Awarded=%{y}",
         "legendgroup": "Youth & Adults",
         "marker": {
          "color": "#ab63fa"
         },
         "name": "Youth & Adults",
         "offsetgroup": "Youth & Adults",
         "orientation": "v",
         "showlegend": true,
         "textposition": "auto",
         "type": "bar",
         "x": [
          1999,
          2000,
          2001,
          2002,
          2003,
          2004,
          2005,
          2006,
          2007,
          2008,
          2009,
          2010,
          2011,
          2012,
          2013,
          2014,
          2015,
          2016,
          2017,
          2018,
          2019,
          2020
         ],
         "xaxis": "x",
         "y": [
          20000,
          209400,
          217500,
          556100,
          5448400,
          2429400,
          2795200,
          4110100,
          5014400,
          4832500,
          6717100,
          8021800,
          9437900,
          11673500,
          11881700,
          8100300,
          7519500,
          10286900,
          10419100,
          9467900,
          8862500,
          9523800
         ],
         "yaxis": "y"
        },
        {
         "alignmentgroup": "True",
         "hoverlabel": {
          "namelength": 0
         },
         "hovertemplate": "Age_group=Youth & Seniors<br>Fiscal_year=%{x}<br>Total_Amount_Awarded=%{y}",
         "legendgroup": "Youth & Seniors",
         "marker": {
          "color": "#FFA15A"
         },
         "name": "Youth & Seniors",
         "offsetgroup": "Youth & Seniors",
         "orientation": "v",
         "showlegend": true,
         "textposition": "auto",
         "type": "bar",
         "x": [
          2000,
          2001,
          2002,
          2003,
          2004,
          2005,
          2006,
          2007,
          2008,
          2009,
          2010,
          2011,
          2012,
          2013,
          2014,
          2016
         ],
         "xaxis": "x",
         "y": [
          50000,
          90000,
          19000,
          49900,
          70000,
          48000,
          31000,
          250000,
          336500,
          309400,
          121500,
          673100,
          504700,
          685800,
          1248400,
          30000
         ],
         "yaxis": "y"
        },
        {
         "alignmentgroup": "True",
         "hoverlabel": {
          "namelength": 0
         },
         "hovertemplate": "Age_group=Youth, Adults & Seniors<br>Fiscal_year=%{x}<br>Total_Amount_Awarded=%{y}",
         "legendgroup": "Youth, Adults & Seniors",
         "marker": {
          "color": "#19d3f3"
         },
         "name": "Youth, Adults & Seniors",
         "offsetgroup": "Youth, Adults & Seniors",
         "orientation": "v",
         "showlegend": true,
         "textposition": "auto",
         "type": "bar",
         "x": [
          2001,
          2003,
          2004,
          2005,
          2006,
          2007,
          2008,
          2009,
          2010,
          2011,
          2012,
          2013,
          2014
         ],
         "xaxis": "x",
         "y": [
          20500,
          4273700,
          1245300,
          1049600,
          1386500,
          394400,
          125000,
          1180900,
          1516100,
          4984800,
          2455300,
          991300,
          863100
         ],
         "yaxis": "y"
        }
       ],
       "layout": {
        "barmode": "relative",
        "height": 400,
        "legend": {
         "title": {
          "text": "Age_group"
         },
         "tracegroupgap": 0
        },
        "margin": {
         "t": 60
        },
        "template": {
         "data": {
          "bar": [
           {
            "error_x": {
             "color": "#2a3f5f"
            },
            "error_y": {
             "color": "#2a3f5f"
            },
            "marker": {
             "line": {
              "color": "#E5ECF6",
              "width": 0.5
             }
            },
            "type": "bar"
           }
          ],
          "barpolar": [
           {
            "marker": {
             "line": {
              "color": "#E5ECF6",
              "width": 0.5
             }
            },
            "type": "barpolar"
           }
          ],
          "carpet": [
           {
            "aaxis": {
             "endlinecolor": "#2a3f5f",
             "gridcolor": "white",
             "linecolor": "white",
             "minorgridcolor": "white",
             "startlinecolor": "#2a3f5f"
            },
            "baxis": {
             "endlinecolor": "#2a3f5f",
             "gridcolor": "white",
             "linecolor": "white",
             "minorgridcolor": "white",
             "startlinecolor": "#2a3f5f"
            },
            "type": "carpet"
           }
          ],
          "choropleth": [
           {
            "colorbar": {
             "outlinewidth": 0,
             "ticks": ""
            },
            "type": "choropleth"
           }
          ],
          "contour": [
           {
            "colorbar": {
             "outlinewidth": 0,
             "ticks": ""
            },
            "colorscale": [
             [
              0,
              "#0d0887"
             ],
             [
              0.1111111111111111,
              "#46039f"
             ],
             [
              0.2222222222222222,
              "#7201a8"
             ],
             [
              0.3333333333333333,
              "#9c179e"
             ],
             [
              0.4444444444444444,
              "#bd3786"
             ],
             [
              0.5555555555555556,
              "#d8576b"
             ],
             [
              0.6666666666666666,
              "#ed7953"
             ],
             [
              0.7777777777777778,
              "#fb9f3a"
             ],
             [
              0.8888888888888888,
              "#fdca26"
             ],
             [
              1,
              "#f0f921"
             ]
            ],
            "type": "contour"
           }
          ],
          "contourcarpet": [
           {
            "colorbar": {
             "outlinewidth": 0,
             "ticks": ""
            },
            "type": "contourcarpet"
           }
          ],
          "heatmap": [
           {
            "colorbar": {
             "outlinewidth": 0,
             "ticks": ""
            },
            "colorscale": [
             [
              0,
              "#0d0887"
             ],
             [
              0.1111111111111111,
              "#46039f"
             ],
             [
              0.2222222222222222,
              "#7201a8"
             ],
             [
              0.3333333333333333,
              "#9c179e"
             ],
             [
              0.4444444444444444,
              "#bd3786"
             ],
             [
              0.5555555555555556,
              "#d8576b"
             ],
             [
              0.6666666666666666,
              "#ed7953"
             ],
             [
              0.7777777777777778,
              "#fb9f3a"
             ],
             [
              0.8888888888888888,
              "#fdca26"
             ],
             [
              1,
              "#f0f921"
             ]
            ],
            "type": "heatmap"
           }
          ],
          "heatmapgl": [
           {
            "colorbar": {
             "outlinewidth": 0,
             "ticks": ""
            },
            "colorscale": [
             [
              0,
              "#0d0887"
             ],
             [
              0.1111111111111111,
              "#46039f"
             ],
             [
              0.2222222222222222,
              "#7201a8"
             ],
             [
              0.3333333333333333,
              "#9c179e"
             ],
             [
              0.4444444444444444,
              "#bd3786"
             ],
             [
              0.5555555555555556,
              "#d8576b"
             ],
             [
              0.6666666666666666,
              "#ed7953"
             ],
             [
              0.7777777777777778,
              "#fb9f3a"
             ],
             [
              0.8888888888888888,
              "#fdca26"
             ],
             [
              1,
              "#f0f921"
             ]
            ],
            "type": "heatmapgl"
           }
          ],
          "histogram": [
           {
            "marker": {
             "colorbar": {
              "outlinewidth": 0,
              "ticks": ""
             }
            },
            "type": "histogram"
           }
          ],
          "histogram2d": [
           {
            "colorbar": {
             "outlinewidth": 0,
             "ticks": ""
            },
            "colorscale": [
             [
              0,
              "#0d0887"
             ],
             [
              0.1111111111111111,
              "#46039f"
             ],
             [
              0.2222222222222222,
              "#7201a8"
             ],
             [
              0.3333333333333333,
              "#9c179e"
             ],
             [
              0.4444444444444444,
              "#bd3786"
             ],
             [
              0.5555555555555556,
              "#d8576b"
             ],
             [
              0.6666666666666666,
              "#ed7953"
             ],
             [
              0.7777777777777778,
              "#fb9f3a"
             ],
             [
              0.8888888888888888,
              "#fdca26"
             ],
             [
              1,
              "#f0f921"
             ]
            ],
            "type": "histogram2d"
           }
          ],
          "histogram2dcontour": [
           {
            "colorbar": {
             "outlinewidth": 0,
             "ticks": ""
            },
            "colorscale": [
             [
              0,
              "#0d0887"
             ],
             [
              0.1111111111111111,
              "#46039f"
             ],
             [
              0.2222222222222222,
              "#7201a8"
             ],
             [
              0.3333333333333333,
              "#9c179e"
             ],
             [
              0.4444444444444444,
              "#bd3786"
             ],
             [
              0.5555555555555556,
              "#d8576b"
             ],
             [
              0.6666666666666666,
              "#ed7953"
             ],
             [
              0.7777777777777778,
              "#fb9f3a"
             ],
             [
              0.8888888888888888,
              "#fdca26"
             ],
             [
              1,
              "#f0f921"
             ]
            ],
            "type": "histogram2dcontour"
           }
          ],
          "mesh3d": [
           {
            "colorbar": {
             "outlinewidth": 0,
             "ticks": ""
            },
            "type": "mesh3d"
           }
          ],
          "parcoords": [
           {
            "line": {
             "colorbar": {
              "outlinewidth": 0,
              "ticks": ""
             }
            },
            "type": "parcoords"
           }
          ],
          "pie": [
           {
            "automargin": true,
            "type": "pie"
           }
          ],
          "scatter": [
           {
            "marker": {
             "colorbar": {
              "outlinewidth": 0,
              "ticks": ""
             }
            },
            "type": "scatter"
           }
          ],
          "scatter3d": [
           {
            "line": {
             "colorbar": {
              "outlinewidth": 0,
              "ticks": ""
             }
            },
            "marker": {
             "colorbar": {
              "outlinewidth": 0,
              "ticks": ""
             }
            },
            "type": "scatter3d"
           }
          ],
          "scattercarpet": [
           {
            "marker": {
             "colorbar": {
              "outlinewidth": 0,
              "ticks": ""
             }
            },
            "type": "scattercarpet"
           }
          ],
          "scattergeo": [
           {
            "marker": {
             "colorbar": {
              "outlinewidth": 0,
              "ticks": ""
             }
            },
            "type": "scattergeo"
           }
          ],
          "scattergl": [
           {
            "marker": {
             "colorbar": {
              "outlinewidth": 0,
              "ticks": ""
             }
            },
            "type": "scattergl"
           }
          ],
          "scattermapbox": [
           {
            "marker": {
             "colorbar": {
              "outlinewidth": 0,
              "ticks": ""
             }
            },
            "type": "scattermapbox"
           }
          ],
          "scatterpolar": [
           {
            "marker": {
             "colorbar": {
              "outlinewidth": 0,
              "ticks": ""
             }
            },
            "type": "scatterpolar"
           }
          ],
          "scatterpolargl": [
           {
            "marker": {
             "colorbar": {
              "outlinewidth": 0,
              "ticks": ""
             }
            },
            "type": "scatterpolargl"
           }
          ],
          "scatterternary": [
           {
            "marker": {
             "colorbar": {
              "outlinewidth": 0,
              "ticks": ""
             }
            },
            "type": "scatterternary"
           }
          ],
          "surface": [
           {
            "colorbar": {
             "outlinewidth": 0,
             "ticks": ""
            },
            "colorscale": [
             [
              0,
              "#0d0887"
             ],
             [
              0.1111111111111111,
              "#46039f"
             ],
             [
              0.2222222222222222,
              "#7201a8"
             ],
             [
              0.3333333333333333,
              "#9c179e"
             ],
             [
              0.4444444444444444,
              "#bd3786"
             ],
             [
              0.5555555555555556,
              "#d8576b"
             ],
             [
              0.6666666666666666,
              "#ed7953"
             ],
             [
              0.7777777777777778,
              "#fb9f3a"
             ],
             [
              0.8888888888888888,
              "#fdca26"
             ],
             [
              1,
              "#f0f921"
             ]
            ],
            "type": "surface"
           }
          ],
          "table": [
           {
            "cells": {
             "fill": {
              "color": "#EBF0F8"
             },
             "line": {
              "color": "white"
             }
            },
            "header": {
             "fill": {
              "color": "#C8D4E3"
             },
             "line": {
              "color": "white"
             }
            },
            "type": "table"
           }
          ]
         },
         "layout": {
          "annotationdefaults": {
           "arrowcolor": "#2a3f5f",
           "arrowhead": 0,
           "arrowwidth": 1
          },
          "coloraxis": {
           "colorbar": {
            "outlinewidth": 0,
            "ticks": ""
           }
          },
          "colorscale": {
           "diverging": [
            [
             0,
             "#8e0152"
            ],
            [
             0.1,
             "#c51b7d"
            ],
            [
             0.2,
             "#de77ae"
            ],
            [
             0.3,
             "#f1b6da"
            ],
            [
             0.4,
             "#fde0ef"
            ],
            [
             0.5,
             "#f7f7f7"
            ],
            [
             0.6,
             "#e6f5d0"
            ],
            [
             0.7,
             "#b8e186"
            ],
            [
             0.8,
             "#7fbc41"
            ],
            [
             0.9,
             "#4d9221"
            ],
            [
             1,
             "#276419"
            ]
           ],
           "sequential": [
            [
             0,
             "#0d0887"
            ],
            [
             0.1111111111111111,
             "#46039f"
            ],
            [
             0.2222222222222222,
             "#7201a8"
            ],
            [
             0.3333333333333333,
             "#9c179e"
            ],
            [
             0.4444444444444444,
             "#bd3786"
            ],
            [
             0.5555555555555556,
             "#d8576b"
            ],
            [
             0.6666666666666666,
             "#ed7953"
            ],
            [
             0.7777777777777778,
             "#fb9f3a"
            ],
            [
             0.8888888888888888,
             "#fdca26"
            ],
            [
             1,
             "#f0f921"
            ]
           ],
           "sequentialminus": [
            [
             0,
             "#0d0887"
            ],
            [
             0.1111111111111111,
             "#46039f"
            ],
            [
             0.2222222222222222,
             "#7201a8"
            ],
            [
             0.3333333333333333,
             "#9c179e"
            ],
            [
             0.4444444444444444,
             "#bd3786"
            ],
            [
             0.5555555555555556,
             "#d8576b"
            ],
            [
             0.6666666666666666,
             "#ed7953"
            ],
            [
             0.7777777777777778,
             "#fb9f3a"
            ],
            [
             0.8888888888888888,
             "#fdca26"
            ],
            [
             1,
             "#f0f921"
            ]
           ]
          },
          "colorway": [
           "#636efa",
           "#EF553B",
           "#00cc96",
           "#ab63fa",
           "#FFA15A",
           "#19d3f3",
           "#FF6692",
           "#B6E880",
           "#FF97FF",
           "#FECB52"
          ],
          "font": {
           "color": "#2a3f5f"
          },
          "geo": {
           "bgcolor": "white",
           "lakecolor": "white",
           "landcolor": "#E5ECF6",
           "showlakes": true,
           "showland": true,
           "subunitcolor": "white"
          },
          "hoverlabel": {
           "align": "left"
          },
          "hovermode": "closest",
          "mapbox": {
           "style": "light"
          },
          "paper_bgcolor": "white",
          "plot_bgcolor": "#E5ECF6",
          "polar": {
           "angularaxis": {
            "gridcolor": "white",
            "linecolor": "white",
            "ticks": ""
           },
           "bgcolor": "#E5ECF6",
           "radialaxis": {
            "gridcolor": "white",
            "linecolor": "white",
            "ticks": ""
           }
          },
          "scene": {
           "xaxis": {
            "backgroundcolor": "#E5ECF6",
            "gridcolor": "white",
            "gridwidth": 2,
            "linecolor": "white",
            "showbackground": true,
            "ticks": "",
            "zerolinecolor": "white"
           },
           "yaxis": {
            "backgroundcolor": "#E5ECF6",
            "gridcolor": "white",
            "gridwidth": 2,
            "linecolor": "white",
            "showbackground": true,
            "ticks": "",
            "zerolinecolor": "white"
           },
           "zaxis": {
            "backgroundcolor": "#E5ECF6",
            "gridcolor": "white",
            "gridwidth": 2,
            "linecolor": "white",
            "showbackground": true,
            "ticks": "",
            "zerolinecolor": "white"
           }
          },
          "shapedefaults": {
           "line": {
            "color": "#2a3f5f"
           }
          },
          "ternary": {
           "aaxis": {
            "gridcolor": "white",
            "linecolor": "white",
            "ticks": ""
           },
           "baxis": {
            "gridcolor": "white",
            "linecolor": "white",
            "ticks": ""
           },
           "bgcolor": "#E5ECF6",
           "caxis": {
            "gridcolor": "white",
            "linecolor": "white",
            "ticks": ""
           }
          },
          "title": {
           "x": 0.05
          },
          "xaxis": {
           "automargin": true,
           "gridcolor": "white",
           "linecolor": "white",
           "ticks": "",
           "title": {
            "standoff": 15
           },
           "zerolinecolor": "white",
           "zerolinewidth": 2
          },
          "yaxis": {
           "automargin": true,
           "gridcolor": "white",
           "linecolor": "white",
           "ticks": "",
           "title": {
            "standoff": 15
           },
           "zerolinecolor": "white",
           "zerolinewidth": 2
          }
         }
        },
        "xaxis": {
         "anchor": "y",
         "domain": [
          0,
          1
         ],
         "title": {
          "text": "Fiscal_year"
         }
        },
        "yaxis": {
         "anchor": "x",
         "domain": [
          0,
          1
         ],
         "title": {
          "text": "Total_Amount_Awarded"
         }
        }
       }
      },
      "text/html": [
       "<div>\n",
       "        \n",
       "        \n",
       "            <div id=\"b003a902-bb0d-4b66-898b-a16d4cf90194\" class=\"plotly-graph-div\" style=\"height:400px; width:100%;\"></div>\n",
       "            <script type=\"text/javascript\">\n",
       "                require([\"plotly\"], function(Plotly) {\n",
       "                    window.PLOTLYENV=window.PLOTLYENV || {};\n",
       "                    \n",
       "                if (document.getElementById(\"b003a902-bb0d-4b66-898b-a16d4cf90194\")) {\n",
       "                    Plotly.newPlot(\n",
       "                        'b003a902-bb0d-4b66-898b-a16d4cf90194',\n",
       "                        [{\"alignmentgroup\": \"True\", \"hoverlabel\": {\"namelength\": 0}, \"hovertemplate\": \"Age_group=Adults<br>Fiscal_year=%{x}<br>Total_Amount_Awarded=%{y}\", \"legendgroup\": \"Adults\", \"marker\": {\"color\": \"#636efa\"}, \"name\": \"Adults\", \"offsetgroup\": \"Adults\", \"orientation\": \"v\", \"showlegend\": true, \"textposition\": \"auto\", \"type\": \"bar\", \"x\": [2000, 2001, 2002, 2003, 2004, 2005, 2006, 2007, 2008, 2009, 2010, 2011, 2012, 2013, 2014, 2015, 2016, 2017, 2018, 2019, 2020, 2021], \"xaxis\": \"x\", \"y\": [2235200, 1973800, 2748000, 4021500, 8157900, 7853600, 4735400, 8043300, 12443300, 7752800, 8701900, 6786100, 5387200, 6143400, 5981900, 16294300, 14293600, 19231800, 13190100, 14199900, 13598900, 2350600], \"yaxis\": \"y\"}, {\"alignmentgroup\": \"True\", \"hoverlabel\": {\"namelength\": 0}, \"hovertemplate\": \"Age_group=Adults & Seniors<br>Fiscal_year=%{x}<br>Total_Amount_Awarded=%{y}\", \"legendgroup\": \"Adults & Seniors\", \"marker\": {\"color\": \"#EF553B\"}, \"name\": \"Adults & Seniors\", \"offsetgroup\": \"Adults & Seniors\", \"orientation\": \"v\", \"showlegend\": true, \"textposition\": \"auto\", \"type\": \"bar\", \"x\": [2000, 2001, 2002, 2003, 2004, 2005, 2006, 2007, 2008, 2009, 2010, 2011, 2012, 2013, 2014, 2016], \"xaxis\": \"x\", \"y\": [572900, 434700, 74800, 2721800, 5649200, 3821700, 3904800, 3787900, 1289700, 3387600, 3265200, 2547400, 2990400, 1688800, 980900, 30000], \"yaxis\": \"y\"}, {\"alignmentgroup\": \"True\", \"hoverlabel\": {\"namelength\": 0}, \"hovertemplate\": \"Age_group=Children<br>Fiscal_year=%{x}<br>Total_Amount_Awarded=%{y}\", \"legendgroup\": \"Children\", \"marker\": {\"color\": \"#00cc96\"}, \"name\": \"Children\", \"offsetgroup\": \"Children\", \"orientation\": \"v\", \"showlegend\": true, \"textposition\": \"auto\", \"type\": \"bar\", \"x\": [1999, 2000, 2001, 2002, 2003, 2004, 2005, 2006, 2007, 2008, 2009, 2010, 2011, 2012, 2013, 2014, 2015, 2016, 2017, 2018, 2019, 2020, 2021], \"xaxis\": \"x\", \"y\": [1503800, 4957100, 5597500, 3824900, 5281800, 4903200, 4628900, 4487300, 4270500, 3075300, 2732700, 1848800, 3811500, 2451300, 2287300, 3048200, 14603300, 14054300, 13103200, 9004500, 18333800, 7080000, 4646700], \"yaxis\": \"y\"}, {\"alignmentgroup\": \"True\", \"hoverlabel\": {\"namelength\": 0}, \"hovertemplate\": \"Age_group=Children & Adults<br>Fiscal_year=%{x}<br>Total_Amount_Awarded=%{y}\", \"legendgroup\": \"Children & Adults\", \"marker\": {\"color\": \"#ab63fa\"}, \"name\": \"Children & Adults\", \"offsetgroup\": \"Children & Adults\", \"orientation\": \"v\", \"showlegend\": true, \"textposition\": \"auto\", \"type\": \"bar\", \"x\": [2000, 2003, 2004, 2005, 2006, 2007, 2008, 2009, 2010, 2011, 2012, 2013, 2014], \"xaxis\": \"x\", \"y\": [64300, 2460300, 600600, 1732700, 927400, 822700, 622200, 579900, 1573500, 6500, 142200, 370900, 302000], \"yaxis\": \"y\"}, {\"alignmentgroup\": \"True\", \"hoverlabel\": {\"namelength\": 0}, \"hovertemplate\": \"Age_group=Children & Seniors<br>Fiscal_year=%{x}<br>Total_Amount_Awarded=%{y}\", \"legendgroup\": \"Children & Seniors\", \"marker\": {\"color\": \"#FFA15A\"}, \"name\": \"Children & Seniors\", \"offsetgroup\": \"Children & Seniors\", \"orientation\": \"v\", \"showlegend\": true, \"textposition\": \"auto\", \"type\": \"bar\", \"x\": [2001, 2003, 2004, 2005, 2006, 2007, 2008, 2009, 2011, 2012, 2013, 2014], \"xaxis\": \"x\", \"y\": [136000, 100100, 41200, 97600, 151700, 15000, 15000, 137700, 39000, 149000, 15000, 134400], \"yaxis\": \"y\"}, {\"alignmentgroup\": \"True\", \"hoverlabel\": {\"namelength\": 0}, \"hovertemplate\": \"Age_group=Children & Youth<br>Fiscal_year=%{x}<br>Total_Amount_Awarded=%{y}\", \"legendgroup\": \"Children & Youth\", \"marker\": {\"color\": \"#19d3f3\"}, \"name\": \"Children & Youth\", \"offsetgroup\": \"Children & Youth\", \"orientation\": \"v\", \"showlegend\": true, \"textposition\": \"auto\", \"type\": \"bar\", \"x\": [1999, 2000, 2001, 2002, 2003, 2004, 2005, 2006, 2007, 2008, 2009, 2010, 2011, 2012, 2013, 2014, 2016], \"xaxis\": \"x\", \"y\": [1343000, 10329000, 13023600, 7970600, 14330200, 10815200, 10577500, 13555300, 11388100, 13781000, 11702600, 14092500, 12285500, 11540700, 10482900, 12838700, 119000], \"yaxis\": \"y\"}, {\"alignmentgroup\": \"True\", \"hoverlabel\": {\"namelength\": 0}, \"hovertemplate\": \"Age_group=Children, Adults & Seniors<br>Fiscal_year=%{x}<br>Total_Amount_Awarded=%{y}\", \"legendgroup\": \"Children, Adults & Seniors\", \"marker\": {\"color\": \"#FF6692\"}, \"name\": \"Children, Adults & Seniors\", \"offsetgroup\": \"Children, Adults & Seniors\", \"orientation\": \"v\", \"showlegend\": true, \"textposition\": \"auto\", \"type\": \"bar\", \"x\": [2001, 2003, 2004, 2005, 2007, 2013, 2014], \"xaxis\": \"x\", \"y\": [75000, 536500, 41800, 43000, 268100, 225000, 42900], \"yaxis\": \"y\"}, {\"alignmentgroup\": \"True\", \"hoverlabel\": {\"namelength\": 0}, \"hovertemplate\": \"Age_group=Children, Youth & Adults<br>Fiscal_year=%{x}<br>Total_Amount_Awarded=%{y}\", \"legendgroup\": \"Children, Youth & Adults\", \"marker\": {\"color\": \"#B6E880\"}, \"name\": \"Children, Youth & Adults\", \"offsetgroup\": \"Children, Youth & Adults\", \"orientation\": \"v\", \"showlegend\": true, \"textposition\": \"auto\", \"type\": \"bar\", \"x\": [2000, 2001, 2002, 2003, 2004, 2005, 2006, 2007, 2008, 2009, 2010, 2011, 2012, 2013, 2014], \"xaxis\": \"x\", \"y\": [96700, 561100, 510200, 7292950, 6064700, 4835100, 2232400, 3557500, 2751600, 5083100, 4443800, 5159600, 4597500, 2896800, 4088100], \"yaxis\": \"y\"}, {\"alignmentgroup\": \"True\", \"hoverlabel\": {\"namelength\": 0}, \"hovertemplate\": \"Age_group=Children, Youth & Seniors<br>Fiscal_year=%{x}<br>Total_Amount_Awarded=%{y}\", \"legendgroup\": \"Children, Youth & Seniors\", \"marker\": {\"color\": \"#FF97FF\"}, \"name\": \"Children, Youth & Seniors\", \"offsetgroup\": \"Children, Youth & Seniors\", \"orientation\": \"v\", \"showlegend\": true, \"textposition\": \"auto\", \"type\": \"bar\", \"x\": [1999, 2000, 2001, 2002, 2003, 2004, 2005, 2006, 2007, 2008, 2009, 2010, 2011, 2012, 2013, 2014], \"xaxis\": \"x\", \"y\": [300000, 378000, 157700, 66200, 333700, 378400, 311000, 279000, 233300, 461300, 846100, 317000, 201100, 427400, 90300, 320500], \"yaxis\": \"y\"}, {\"alignmentgroup\": \"True\", \"hoverlabel\": {\"namelength\": 0}, \"hovertemplate\": \"Age_group=General<br>Fiscal_year=%{x}<br>Total_Amount_Awarded=%{y}\", \"legendgroup\": \"General\", \"marker\": {\"color\": \"#FECB52\"}, \"name\": \"General\", \"offsetgroup\": \"General\", \"orientation\": \"v\", \"showlegend\": true, \"textposition\": \"auto\", \"type\": \"bar\", \"x\": [1999, 2000, 2001, 2002, 2003, 2009, 2010, 2011, 2012, 2013, 2015, 2016, 2017, 2018, 2019, 2020, 2021], \"xaxis\": \"x\", \"y\": [72058300, 69172130, 72059400, 73550800, 128300, 675800, 536500, 11103800, 2540500, 108800, 42308800, 42359200, 41252300, 44354100, 37275800, 55292600, 31988400], \"yaxis\": \"y\"}, {\"alignmentgroup\": \"True\", \"hoverlabel\": {\"namelength\": 0}, \"hovertemplate\": \"Age_group=Not Specified<br>Fiscal_year=%{x}<br>Total_Amount_Awarded=%{y}\", \"legendgroup\": \"Not Specified\", \"marker\": {\"color\": \"#636efa\"}, \"name\": \"Not Specified\", \"offsetgroup\": \"Not Specified\", \"orientation\": \"v\", \"showlegend\": true, \"textposition\": \"auto\", \"type\": \"bar\", \"x\": [2000, 2001, 2002, 2003, 2004, 2005, 2006, 2007, 2008, 2009, 2010, 2011, 2012, 2013, 2014, 2017, 2018, 2019, 2020], \"xaxis\": \"x\", \"y\": [649500, 301500, 266900, 42047950, 44203300, 46770700, 49246400, 50360700, 52958100, 56655000, 52863800, 77024100, 57403100, 60535200, 57630600, 30000, 3204800, 3351000, 3701700], \"yaxis\": \"y\"}, {\"alignmentgroup\": \"True\", \"hoverlabel\": {\"namelength\": 0}, \"hovertemplate\": \"Age_group=Seniors<br>Fiscal_year=%{x}<br>Total_Amount_Awarded=%{y}\", \"legendgroup\": \"Seniors\", \"marker\": {\"color\": \"#EF553B\"}, \"name\": \"Seniors\", \"offsetgroup\": \"Seniors\", \"orientation\": \"v\", \"showlegend\": true, \"textposition\": \"auto\", \"type\": \"bar\", \"x\": [1999, 2000, 2001, 2002, 2003, 2004, 2005, 2006, 2007, 2008, 2009, 2010, 2011, 2012, 2013, 2014, 2015, 2016, 2017, 2018, 2019, 2020, 2021], \"xaxis\": \"x\", \"y\": [3399900, 4017091, 3273900, 2949000, 1516700, 2250000, 1902500, 2156100, 1604000, 2500700, 2643800, 3306200, 5211400, 3694600, 4246800, 2626300, 6122700, 7808300, 4631500, 6018200, 6695900, 6328400, 1556300], \"yaxis\": \"y\"}, {\"alignmentgroup\": \"True\", \"hoverlabel\": {\"namelength\": 0}, \"hovertemplate\": \"Age_group=Youth<br>Fiscal_year=%{x}<br>Total_Amount_Awarded=%{y}\", \"legendgroup\": \"Youth\", \"marker\": {\"color\": \"#00cc96\"}, \"name\": \"Youth\", \"offsetgroup\": \"Youth\", \"orientation\": \"v\", \"showlegend\": true, \"textposition\": \"auto\", \"type\": \"bar\", \"x\": [1999, 2000, 2001, 2002, 2003, 2004, 2005, 2006, 2007, 2008, 2009, 2010, 2011, 2012, 2013, 2014, 2015, 2016, 2017, 2018, 2019, 2020, 2021], \"xaxis\": \"x\", \"y\": [1877000, 6242600, 6741800, 4990400, 6137400, 7496600, 8501000, 8559000, 10296200, 9404100, 8123800, 11127300, 11796600, 10684500, 8324300, 10110700, 22720400, 23798600, 23070400, 22908500, 26306000, 12474000, 5477300], \"yaxis\": \"y\"}, {\"alignmentgroup\": \"True\", \"hoverlabel\": {\"namelength\": 0}, \"hovertemplate\": \"Age_group=Youth & Adults<br>Fiscal_year=%{x}<br>Total_Amount_Awarded=%{y}\", \"legendgroup\": \"Youth & Adults\", \"marker\": {\"color\": \"#ab63fa\"}, \"name\": \"Youth & Adults\", \"offsetgroup\": \"Youth & Adults\", \"orientation\": \"v\", \"showlegend\": true, \"textposition\": \"auto\", \"type\": \"bar\", \"x\": [1999, 2000, 2001, 2002, 2003, 2004, 2005, 2006, 2007, 2008, 2009, 2010, 2011, 2012, 2013, 2014, 2015, 2016, 2017, 2018, 2019, 2020], \"xaxis\": \"x\", \"y\": [20000, 209400, 217500, 556100, 5448400, 2429400, 2795200, 4110100, 5014400, 4832500, 6717100, 8021800, 9437900, 11673500, 11881700, 8100300, 7519500, 10286900, 10419100, 9467900, 8862500, 9523800], \"yaxis\": \"y\"}, {\"alignmentgroup\": \"True\", \"hoverlabel\": {\"namelength\": 0}, \"hovertemplate\": \"Age_group=Youth & Seniors<br>Fiscal_year=%{x}<br>Total_Amount_Awarded=%{y}\", \"legendgroup\": \"Youth & Seniors\", \"marker\": {\"color\": \"#FFA15A\"}, \"name\": \"Youth & Seniors\", \"offsetgroup\": \"Youth & Seniors\", \"orientation\": \"v\", \"showlegend\": true, \"textposition\": \"auto\", \"type\": \"bar\", \"x\": [2000, 2001, 2002, 2003, 2004, 2005, 2006, 2007, 2008, 2009, 2010, 2011, 2012, 2013, 2014, 2016], \"xaxis\": \"x\", \"y\": [50000, 90000, 19000, 49900, 70000, 48000, 31000, 250000, 336500, 309400, 121500, 673100, 504700, 685800, 1248400, 30000], \"yaxis\": \"y\"}, {\"alignmentgroup\": \"True\", \"hoverlabel\": {\"namelength\": 0}, \"hovertemplate\": \"Age_group=Youth, Adults & Seniors<br>Fiscal_year=%{x}<br>Total_Amount_Awarded=%{y}\", \"legendgroup\": \"Youth, Adults & Seniors\", \"marker\": {\"color\": \"#19d3f3\"}, \"name\": \"Youth, Adults & Seniors\", \"offsetgroup\": \"Youth, Adults & Seniors\", \"orientation\": \"v\", \"showlegend\": true, \"textposition\": \"auto\", \"type\": \"bar\", \"x\": [2001, 2003, 2004, 2005, 2006, 2007, 2008, 2009, 2010, 2011, 2012, 2013, 2014], \"xaxis\": \"x\", \"y\": [20500, 4273700, 1245300, 1049600, 1386500, 394400, 125000, 1180900, 1516100, 4984800, 2455300, 991300, 863100], \"yaxis\": \"y\"}],\n",
       "                        {\"barmode\": \"relative\", \"height\": 400, \"legend\": {\"title\": {\"text\": \"Age_group\"}, \"tracegroupgap\": 0}, \"margin\": {\"t\": 60}, \"template\": {\"data\": {\"bar\": [{\"error_x\": {\"color\": \"#2a3f5f\"}, \"error_y\": {\"color\": \"#2a3f5f\"}, \"marker\": {\"line\": {\"color\": \"#E5ECF6\", \"width\": 0.5}}, \"type\": \"bar\"}], \"barpolar\": [{\"marker\": {\"line\": {\"color\": \"#E5ECF6\", \"width\": 0.5}}, \"type\": \"barpolar\"}], \"carpet\": [{\"aaxis\": {\"endlinecolor\": \"#2a3f5f\", \"gridcolor\": \"white\", \"linecolor\": \"white\", \"minorgridcolor\": \"white\", \"startlinecolor\": \"#2a3f5f\"}, \"baxis\": {\"endlinecolor\": \"#2a3f5f\", \"gridcolor\": \"white\", \"linecolor\": \"white\", \"minorgridcolor\": \"white\", \"startlinecolor\": \"#2a3f5f\"}, \"type\": \"carpet\"}], \"choropleth\": [{\"colorbar\": {\"outlinewidth\": 0, \"ticks\": \"\"}, \"type\": \"choropleth\"}], \"contour\": [{\"colorbar\": {\"outlinewidth\": 0, \"ticks\": \"\"}, \"colorscale\": [[0.0, \"#0d0887\"], [0.1111111111111111, \"#46039f\"], [0.2222222222222222, \"#7201a8\"], [0.3333333333333333, \"#9c179e\"], [0.4444444444444444, \"#bd3786\"], [0.5555555555555556, \"#d8576b\"], [0.6666666666666666, \"#ed7953\"], [0.7777777777777778, \"#fb9f3a\"], [0.8888888888888888, \"#fdca26\"], [1.0, \"#f0f921\"]], \"type\": \"contour\"}], \"contourcarpet\": [{\"colorbar\": {\"outlinewidth\": 0, \"ticks\": \"\"}, \"type\": \"contourcarpet\"}], \"heatmap\": [{\"colorbar\": {\"outlinewidth\": 0, \"ticks\": \"\"}, \"colorscale\": [[0.0, \"#0d0887\"], [0.1111111111111111, \"#46039f\"], [0.2222222222222222, \"#7201a8\"], [0.3333333333333333, \"#9c179e\"], [0.4444444444444444, \"#bd3786\"], [0.5555555555555556, \"#d8576b\"], [0.6666666666666666, \"#ed7953\"], [0.7777777777777778, \"#fb9f3a\"], [0.8888888888888888, \"#fdca26\"], [1.0, \"#f0f921\"]], \"type\": \"heatmap\"}], \"heatmapgl\": [{\"colorbar\": {\"outlinewidth\": 0, \"ticks\": \"\"}, \"colorscale\": [[0.0, \"#0d0887\"], [0.1111111111111111, \"#46039f\"], [0.2222222222222222, \"#7201a8\"], [0.3333333333333333, \"#9c179e\"], [0.4444444444444444, \"#bd3786\"], [0.5555555555555556, \"#d8576b\"], [0.6666666666666666, \"#ed7953\"], [0.7777777777777778, \"#fb9f3a\"], [0.8888888888888888, \"#fdca26\"], [1.0, \"#f0f921\"]], \"type\": \"heatmapgl\"}], \"histogram\": [{\"marker\": {\"colorbar\": {\"outlinewidth\": 0, \"ticks\": \"\"}}, \"type\": \"histogram\"}], \"histogram2d\": [{\"colorbar\": {\"outlinewidth\": 0, \"ticks\": \"\"}, \"colorscale\": [[0.0, \"#0d0887\"], [0.1111111111111111, \"#46039f\"], [0.2222222222222222, \"#7201a8\"], [0.3333333333333333, \"#9c179e\"], [0.4444444444444444, \"#bd3786\"], [0.5555555555555556, \"#d8576b\"], [0.6666666666666666, \"#ed7953\"], [0.7777777777777778, \"#fb9f3a\"], [0.8888888888888888, \"#fdca26\"], [1.0, \"#f0f921\"]], \"type\": \"histogram2d\"}], \"histogram2dcontour\": [{\"colorbar\": {\"outlinewidth\": 0, \"ticks\": \"\"}, \"colorscale\": [[0.0, \"#0d0887\"], [0.1111111111111111, \"#46039f\"], [0.2222222222222222, \"#7201a8\"], [0.3333333333333333, \"#9c179e\"], [0.4444444444444444, \"#bd3786\"], [0.5555555555555556, \"#d8576b\"], [0.6666666666666666, \"#ed7953\"], [0.7777777777777778, \"#fb9f3a\"], [0.8888888888888888, \"#fdca26\"], [1.0, \"#f0f921\"]], \"type\": \"histogram2dcontour\"}], \"mesh3d\": [{\"colorbar\": {\"outlinewidth\": 0, \"ticks\": \"\"}, \"type\": \"mesh3d\"}], \"parcoords\": [{\"line\": {\"colorbar\": {\"outlinewidth\": 0, \"ticks\": \"\"}}, \"type\": \"parcoords\"}], \"pie\": [{\"automargin\": true, \"type\": \"pie\"}], \"scatter\": [{\"marker\": {\"colorbar\": {\"outlinewidth\": 0, \"ticks\": \"\"}}, \"type\": \"scatter\"}], \"scatter3d\": [{\"line\": {\"colorbar\": {\"outlinewidth\": 0, \"ticks\": \"\"}}, \"marker\": {\"colorbar\": {\"outlinewidth\": 0, \"ticks\": \"\"}}, \"type\": \"scatter3d\"}], \"scattercarpet\": [{\"marker\": {\"colorbar\": {\"outlinewidth\": 0, \"ticks\": \"\"}}, \"type\": \"scattercarpet\"}], \"scattergeo\": [{\"marker\": {\"colorbar\": {\"outlinewidth\": 0, \"ticks\": \"\"}}, \"type\": \"scattergeo\"}], \"scattergl\": [{\"marker\": {\"colorbar\": {\"outlinewidth\": 0, \"ticks\": \"\"}}, \"type\": \"scattergl\"}], \"scattermapbox\": [{\"marker\": {\"colorbar\": {\"outlinewidth\": 0, \"ticks\": \"\"}}, \"type\": \"scattermapbox\"}], \"scatterpolar\": [{\"marker\": {\"colorbar\": {\"outlinewidth\": 0, \"ticks\": \"\"}}, \"type\": \"scatterpolar\"}], \"scatterpolargl\": [{\"marker\": {\"colorbar\": {\"outlinewidth\": 0, \"ticks\": \"\"}}, \"type\": \"scatterpolargl\"}], \"scatterternary\": [{\"marker\": {\"colorbar\": {\"outlinewidth\": 0, \"ticks\": \"\"}}, \"type\": \"scatterternary\"}], \"surface\": [{\"colorbar\": {\"outlinewidth\": 0, \"ticks\": \"\"}, \"colorscale\": [[0.0, \"#0d0887\"], [0.1111111111111111, \"#46039f\"], [0.2222222222222222, \"#7201a8\"], [0.3333333333333333, \"#9c179e\"], [0.4444444444444444, \"#bd3786\"], [0.5555555555555556, \"#d8576b\"], [0.6666666666666666, \"#ed7953\"], [0.7777777777777778, \"#fb9f3a\"], [0.8888888888888888, \"#fdca26\"], [1.0, \"#f0f921\"]], \"type\": \"surface\"}], \"table\": [{\"cells\": {\"fill\": {\"color\": \"#EBF0F8\"}, \"line\": {\"color\": \"white\"}}, \"header\": {\"fill\": {\"color\": \"#C8D4E3\"}, \"line\": {\"color\": \"white\"}}, \"type\": \"table\"}]}, \"layout\": {\"annotationdefaults\": {\"arrowcolor\": \"#2a3f5f\", \"arrowhead\": 0, \"arrowwidth\": 1}, \"coloraxis\": {\"colorbar\": {\"outlinewidth\": 0, \"ticks\": \"\"}}, \"colorscale\": {\"diverging\": [[0, \"#8e0152\"], [0.1, \"#c51b7d\"], [0.2, \"#de77ae\"], [0.3, \"#f1b6da\"], [0.4, \"#fde0ef\"], [0.5, \"#f7f7f7\"], [0.6, \"#e6f5d0\"], [0.7, \"#b8e186\"], [0.8, \"#7fbc41\"], [0.9, \"#4d9221\"], [1, \"#276419\"]], \"sequential\": [[0.0, \"#0d0887\"], [0.1111111111111111, \"#46039f\"], [0.2222222222222222, \"#7201a8\"], [0.3333333333333333, \"#9c179e\"], [0.4444444444444444, \"#bd3786\"], [0.5555555555555556, \"#d8576b\"], [0.6666666666666666, \"#ed7953\"], [0.7777777777777778, \"#fb9f3a\"], [0.8888888888888888, \"#fdca26\"], [1.0, \"#f0f921\"]], \"sequentialminus\": [[0.0, \"#0d0887\"], [0.1111111111111111, \"#46039f\"], [0.2222222222222222, \"#7201a8\"], [0.3333333333333333, \"#9c179e\"], [0.4444444444444444, \"#bd3786\"], [0.5555555555555556, \"#d8576b\"], [0.6666666666666666, \"#ed7953\"], [0.7777777777777778, \"#fb9f3a\"], [0.8888888888888888, \"#fdca26\"], [1.0, \"#f0f921\"]]}, \"colorway\": [\"#636efa\", \"#EF553B\", \"#00cc96\", \"#ab63fa\", \"#FFA15A\", \"#19d3f3\", \"#FF6692\", \"#B6E880\", \"#FF97FF\", \"#FECB52\"], \"font\": {\"color\": \"#2a3f5f\"}, \"geo\": {\"bgcolor\": \"white\", \"lakecolor\": \"white\", \"landcolor\": \"#E5ECF6\", \"showlakes\": true, \"showland\": true, \"subunitcolor\": \"white\"}, \"hoverlabel\": {\"align\": \"left\"}, \"hovermode\": \"closest\", \"mapbox\": {\"style\": \"light\"}, \"paper_bgcolor\": \"white\", \"plot_bgcolor\": \"#E5ECF6\", \"polar\": {\"angularaxis\": {\"gridcolor\": \"white\", \"linecolor\": \"white\", \"ticks\": \"\"}, \"bgcolor\": \"#E5ECF6\", \"radialaxis\": {\"gridcolor\": \"white\", \"linecolor\": \"white\", \"ticks\": \"\"}}, \"scene\": {\"xaxis\": {\"backgroundcolor\": \"#E5ECF6\", \"gridcolor\": \"white\", \"gridwidth\": 2, \"linecolor\": \"white\", \"showbackground\": true, \"ticks\": \"\", \"zerolinecolor\": \"white\"}, \"yaxis\": {\"backgroundcolor\": \"#E5ECF6\", \"gridcolor\": \"white\", \"gridwidth\": 2, \"linecolor\": \"white\", \"showbackground\": true, \"ticks\": \"\", \"zerolinecolor\": \"white\"}, \"zaxis\": {\"backgroundcolor\": \"#E5ECF6\", \"gridcolor\": \"white\", \"gridwidth\": 2, \"linecolor\": \"white\", \"showbackground\": true, \"ticks\": \"\", \"zerolinecolor\": \"white\"}}, \"shapedefaults\": {\"line\": {\"color\": \"#2a3f5f\"}}, \"ternary\": {\"aaxis\": {\"gridcolor\": \"white\", \"linecolor\": \"white\", \"ticks\": \"\"}, \"baxis\": {\"gridcolor\": \"white\", \"linecolor\": \"white\", \"ticks\": \"\"}, \"bgcolor\": \"#E5ECF6\", \"caxis\": {\"gridcolor\": \"white\", \"linecolor\": \"white\", \"ticks\": \"\"}}, \"title\": {\"x\": 0.05}, \"xaxis\": {\"automargin\": true, \"gridcolor\": \"white\", \"linecolor\": \"white\", \"ticks\": \"\", \"title\": {\"standoff\": 15}, \"zerolinecolor\": \"white\", \"zerolinewidth\": 2}, \"yaxis\": {\"automargin\": true, \"gridcolor\": \"white\", \"linecolor\": \"white\", \"ticks\": \"\", \"title\": {\"standoff\": 15}, \"zerolinecolor\": \"white\", \"zerolinewidth\": 2}}}, \"xaxis\": {\"anchor\": \"y\", \"domain\": [0.0, 1.0], \"title\": {\"text\": \"Fiscal_year\"}}, \"yaxis\": {\"anchor\": \"x\", \"domain\": [0.0, 1.0], \"title\": {\"text\": \"Total_Amount_Awarded\"}}},\n",
       "                        {\"responsive\": true}\n",
       "                    ).then(function(){\n",
       "                            \n",
       "var gd = document.getElementById('b003a902-bb0d-4b66-898b-a16d4cf90194');\n",
       "var x = new MutationObserver(function (mutations, observer) {{\n",
       "        var display = window.getComputedStyle(gd).display;\n",
       "        if (!display || display === 'none') {{\n",
       "            console.log([gd, 'removed!']);\n",
       "            Plotly.purge(gd);\n",
       "            observer.disconnect();\n",
       "        }}\n",
       "}});\n",
       "\n",
       "// Listen for the removal of the full notebook cells\n",
       "var notebookContainer = gd.closest('#notebook-container');\n",
       "if (notebookContainer) {{\n",
       "    x.observe(notebookContainer, {childList: true});\n",
       "}}\n",
       "\n",
       "// Listen for the clearing of the current output cell\n",
       "var outputEl = gd.closest('.output');\n",
       "if (outputEl) {{\n",
       "    x.observe(outputEl, {childList: true});\n",
       "}}\n",
       "\n",
       "                        })\n",
       "                };\n",
       "                });\n",
       "            </script>\n",
       "        </div>"
      ]
     },
     "metadata": {},
     "output_type": "display_data"
    }
   ],
   "source": [
    "## Total grants by year by age group\n",
    "df_total_grants = df[['Amount_awarded','Age_group_update','Fiscal_year_update']]\n",
    "df_total_grants_agg = df_total_grants.groupby(['Age_group_update','Fiscal_year_update']).agg(Total_Amount_Awarded = \n",
    "                                                                      ('Amount_awarded', 'sum')).reset_index()\n",
    "\n",
    "df_total_grants_agg.columns = ['Age_group','Fiscal_year', 'Total_Amount_Awarded']\n",
    "\n",
    "fig = px.bar(df_total_grants_agg, x=\"Fiscal_year\", y=\"Total_Amount_Awarded\", color='Age_group',\n",
    "             height=400)\n",
    "fig.show()"
   ]
  },
  {
   "cell_type": "code",
   "execution_count": 90,
   "metadata": {},
   "outputs": [
    {
     "data": {
      "application/vnd.plotly.v1+json": {
       "config": {
        "plotlyServerURL": "https://plot.ly"
       },
       "data": [
        {
         "alignmentgroup": "True",
         "hoverlabel": {
          "namelength": 0
         },
         "hovertemplate": "Budget_fund=Capital<br>Fiscal_year=%{x}<br>Total_Amount_Awarded=%{y}",
         "legendgroup": "Capital",
         "marker": {
          "color": "#636efa"
         },
         "name": "Capital",
         "offsetgroup": "Capital",
         "orientation": "v",
         "showlegend": true,
         "textposition": "auto",
         "type": "bar",
         "x": [
          2015,
          2017,
          2018,
          2019
         ],
         "xaxis": "x",
         "y": [
          14952600,
          16855000,
          25387400,
          22609200
         ],
         "yaxis": "y"
        },
        {
         "alignmentgroup": "True",
         "hoverlabel": {
          "namelength": 0
         },
         "hovertemplate": "Budget_fund=Capital Only<br>Fiscal_year=%{x}<br>Total_Amount_Awarded=%{y}",
         "legendgroup": "Capital Only",
         "marker": {
          "color": "#EF553B"
         },
         "name": "Capital Only",
         "offsetgroup": "Capital Only",
         "orientation": "v",
         "showlegend": true,
         "textposition": "auto",
         "type": "bar",
         "x": [
          1999,
          2000,
          2001,
          2002,
          2003,
          2004,
          2005,
          2006,
          2007,
          2008,
          2009,
          2010,
          2011,
          2012,
          2013,
          2014
         ],
         "xaxis": "x",
         "y": [
          8007700,
          12076380,
          15335000,
          17904200,
          21776700,
          18284300,
          19989700,
          18479300,
          22623700,
          24738400,
          22183100,
          23742300,
          61356800,
          24427500,
          17638900,
          18185500
         ],
         "yaxis": "y"
        },
        {
         "alignmentgroup": "True",
         "hoverlabel": {
          "namelength": 0
         },
         "hovertemplate": "Budget_fund=Collective Impact<br>Fiscal_year=%{x}<br>Total_Amount_Awarded=%{y}",
         "legendgroup": "Collective Impact",
         "marker": {
          "color": "#00cc96"
         },
         "name": "Collective Impact",
         "offsetgroup": "Collective Impact",
         "orientation": "v",
         "showlegend": true,
         "textposition": "auto",
         "type": "bar",
         "x": [
          2015,
          2016,
          2017
         ],
         "xaxis": "x",
         "y": [
          396500,
          1657500,
          4729800
         ],
         "yaxis": "y"
        },
        {
         "alignmentgroup": "True",
         "hoverlabel": {
          "namelength": 0
         },
         "hovertemplate": "Budget_fund=Community Building Fund<br>Fiscal_year=%{x}<br>Total_Amount_Awarded=%{y}",
         "legendgroup": "Community Building Fund",
         "marker": {
          "color": "#ab63fa"
         },
         "name": "Community Building Fund",
         "offsetgroup": "Community Building Fund",
         "orientation": "v",
         "showlegend": true,
         "textposition": "auto",
         "type": "bar",
         "x": [
          2021
         ],
         "xaxis": "x",
         "y": [
          46019300
         ],
         "yaxis": "y"
        },
        {
         "alignmentgroup": "True",
         "hoverlabel": {
          "namelength": 0
         },
         "hovertemplate": "Budget_fund=Grow<br>Fiscal_year=%{x}<br>Total_Amount_Awarded=%{y}",
         "legendgroup": "Grow",
         "marker": {
          "color": "#FFA15A"
         },
         "name": "Grow",
         "offsetgroup": "Grow",
         "orientation": "v",
         "showlegend": true,
         "textposition": "auto",
         "type": "bar",
         "x": [
          2015,
          2016,
          2017,
          2018,
          2019
         ],
         "xaxis": "x",
         "y": [
          73217800,
          62336200,
          49561800,
          57959900,
          67734500
         ],
         "yaxis": "y"
        },
        {
         "alignmentgroup": "True",
         "hoverlabel": {
          "namelength": 0
         },
         "hovertemplate": "Budget_fund=Ontario150<br>Fiscal_year=%{x}<br>Total_Amount_Awarded=%{y}",
         "legendgroup": "Ontario150",
         "marker": {
          "color": "#19d3f3"
         },
         "name": "Ontario150",
         "offsetgroup": "Ontario150",
         "orientation": "v",
         "showlegend": true,
         "textposition": "auto",
         "type": "bar",
         "x": [
          2016
         ],
         "xaxis": "x",
         "y": [
          22870400
         ],
         "yaxis": "y"
        },
        {
         "alignmentgroup": "True",
         "hoverlabel": {
          "namelength": 0
         },
         "hovertemplate": "Budget_fund=Project Only<br>Fiscal_year=%{x}<br>Total_Amount_Awarded=%{y}",
         "legendgroup": "Project Only",
         "marker": {
          "color": "#FF6692"
         },
         "name": "Project Only",
         "offsetgroup": "Project Only",
         "orientation": "v",
         "showlegend": true,
         "textposition": "auto",
         "type": "bar",
         "x": [
          1999,
          2000,
          2001,
          2002,
          2003,
          2004,
          2005,
          2006,
          2007,
          2008,
          2009,
          2010,
          2011,
          2012,
          2013,
          2014
         ],
         "xaxis": "x",
         "y": [
          60337500,
          73454041,
          75325400,
          61333700,
          54510300,
          56497400,
          56075400,
          65134800,
          62159800,
          61145600,
          62674500,
          45023300,
          48402900,
          48655900,
          45782300,
          43399900
         ],
         "yaxis": "y"
        },
        {
         "alignmentgroup": "True",
         "hoverlabel": {
          "namelength": 0
         },
         "hovertemplate": "Budget_fund=Project and Capital<br>Fiscal_year=%{x}<br>Total_Amount_Awarded=%{y}",
         "legendgroup": "Project and Capital",
         "marker": {
          "color": "#B6E880"
         },
         "name": "Project and Capital",
         "offsetgroup": "Project and Capital",
         "orientation": "v",
         "showlegend": true,
         "textposition": "auto",
         "type": "bar",
         "x": [
          1999,
          2000,
          2001,
          2002,
          2003,
          2004,
          2005,
          2006,
          2007,
          2008,
          2009,
          2010,
          2011,
          2012,
          2013,
          2014
         ],
         "xaxis": "x",
         "y": [
          12156800,
          13443500,
          14003600,
          18289000,
          20394200,
          19565100,
          18903000,
          12148300,
          15522600,
          18712300,
          23670700,
          42970300,
          41308700,
          43558500,
          42603100,
          42214600
         ],
         "yaxis": "y"
        },
        {
         "alignmentgroup": "True",
         "hoverlabel": {
          "namelength": 0
         },
         "hovertemplate": "Budget_fund=Provincial Impact<br>Fiscal_year=%{x}<br>Total_Amount_Awarded=%{y}",
         "legendgroup": "Provincial Impact",
         "marker": {
          "color": "#FF97FF"
         },
         "name": "Provincial Impact",
         "offsetgroup": "Provincial Impact",
         "orientation": "v",
         "showlegend": true,
         "textposition": "auto",
         "type": "bar",
         "x": [
          2017
         ],
         "xaxis": "x",
         "y": [
          17038300
         ],
         "yaxis": "y"
        },
        {
         "alignmentgroup": "True",
         "hoverlabel": {
          "namelength": 0
         },
         "hovertemplate": "Budget_fund=Resilient Communities Fund<br>Fiscal_year=%{x}<br>Total_Amount_Awarded=%{y}",
         "legendgroup": "Resilient Communities Fund",
         "marker": {
          "color": "#FECB52"
         },
         "name": "Resilient Communities Fund",
         "offsetgroup": "Resilient Communities Fund",
         "orientation": "v",
         "showlegend": true,
         "textposition": "auto",
         "type": "bar",
         "x": [
          2020
         ],
         "xaxis": "x",
         "y": [
          83132000
         ],
         "yaxis": "y"
        },
        {
         "alignmentgroup": "True",
         "hoverlabel": {
          "namelength": 0
         },
         "hovertemplate": "Budget_fund=Seed<br>Fiscal_year=%{x}<br>Total_Amount_Awarded=%{y}",
         "legendgroup": "Seed",
         "marker": {
          "color": "#636efa"
         },
         "name": "Seed",
         "offsetgroup": "Seed",
         "orientation": "v",
         "showlegend": true,
         "textposition": "auto",
         "type": "bar",
         "x": [
          2015,
          2016,
          2017,
          2018,
          2019,
          2020
         ],
         "xaxis": "x",
         "y": [
          13250600,
          13914900,
          11406300,
          10713300,
          11458100,
          11223000
         ],
         "yaxis": "y"
        },
        {
         "alignmentgroup": "True",
         "hoverlabel": {
          "namelength": 0
         },
         "hovertemplate": "Budget_fund=YOF<br>Fiscal_year=%{x}<br>Total_Amount_Awarded=%{y}",
         "legendgroup": "YOF",
         "marker": {
          "color": "#EF553B"
         },
         "name": "YOF",
         "offsetgroup": "YOF",
         "orientation": "v",
         "showlegend": true,
         "textposition": "auto",
         "type": "bar",
         "x": [
          2013,
          2014,
          2015,
          2016,
          2017,
          2018,
          2019,
          2020
         ],
         "xaxis": "x",
         "y": [
          4950000,
          4517000,
          7751500,
          12000900,
          12147100,
          14087500,
          13223100,
          13644400
         ],
         "yaxis": "y"
        }
       ],
       "layout": {
        "barmode": "relative",
        "height": 400,
        "legend": {
         "title": {
          "text": "Budget_fund"
         },
         "tracegroupgap": 0
        },
        "margin": {
         "t": 60
        },
        "template": {
         "data": {
          "bar": [
           {
            "error_x": {
             "color": "#2a3f5f"
            },
            "error_y": {
             "color": "#2a3f5f"
            },
            "marker": {
             "line": {
              "color": "#E5ECF6",
              "width": 0.5
             }
            },
            "type": "bar"
           }
          ],
          "barpolar": [
           {
            "marker": {
             "line": {
              "color": "#E5ECF6",
              "width": 0.5
             }
            },
            "type": "barpolar"
           }
          ],
          "carpet": [
           {
            "aaxis": {
             "endlinecolor": "#2a3f5f",
             "gridcolor": "white",
             "linecolor": "white",
             "minorgridcolor": "white",
             "startlinecolor": "#2a3f5f"
            },
            "baxis": {
             "endlinecolor": "#2a3f5f",
             "gridcolor": "white",
             "linecolor": "white",
             "minorgridcolor": "white",
             "startlinecolor": "#2a3f5f"
            },
            "type": "carpet"
           }
          ],
          "choropleth": [
           {
            "colorbar": {
             "outlinewidth": 0,
             "ticks": ""
            },
            "type": "choropleth"
           }
          ],
          "contour": [
           {
            "colorbar": {
             "outlinewidth": 0,
             "ticks": ""
            },
            "colorscale": [
             [
              0,
              "#0d0887"
             ],
             [
              0.1111111111111111,
              "#46039f"
             ],
             [
              0.2222222222222222,
              "#7201a8"
             ],
             [
              0.3333333333333333,
              "#9c179e"
             ],
             [
              0.4444444444444444,
              "#bd3786"
             ],
             [
              0.5555555555555556,
              "#d8576b"
             ],
             [
              0.6666666666666666,
              "#ed7953"
             ],
             [
              0.7777777777777778,
              "#fb9f3a"
             ],
             [
              0.8888888888888888,
              "#fdca26"
             ],
             [
              1,
              "#f0f921"
             ]
            ],
            "type": "contour"
           }
          ],
          "contourcarpet": [
           {
            "colorbar": {
             "outlinewidth": 0,
             "ticks": ""
            },
            "type": "contourcarpet"
           }
          ],
          "heatmap": [
           {
            "colorbar": {
             "outlinewidth": 0,
             "ticks": ""
            },
            "colorscale": [
             [
              0,
              "#0d0887"
             ],
             [
              0.1111111111111111,
              "#46039f"
             ],
             [
              0.2222222222222222,
              "#7201a8"
             ],
             [
              0.3333333333333333,
              "#9c179e"
             ],
             [
              0.4444444444444444,
              "#bd3786"
             ],
             [
              0.5555555555555556,
              "#d8576b"
             ],
             [
              0.6666666666666666,
              "#ed7953"
             ],
             [
              0.7777777777777778,
              "#fb9f3a"
             ],
             [
              0.8888888888888888,
              "#fdca26"
             ],
             [
              1,
              "#f0f921"
             ]
            ],
            "type": "heatmap"
           }
          ],
          "heatmapgl": [
           {
            "colorbar": {
             "outlinewidth": 0,
             "ticks": ""
            },
            "colorscale": [
             [
              0,
              "#0d0887"
             ],
             [
              0.1111111111111111,
              "#46039f"
             ],
             [
              0.2222222222222222,
              "#7201a8"
             ],
             [
              0.3333333333333333,
              "#9c179e"
             ],
             [
              0.4444444444444444,
              "#bd3786"
             ],
             [
              0.5555555555555556,
              "#d8576b"
             ],
             [
              0.6666666666666666,
              "#ed7953"
             ],
             [
              0.7777777777777778,
              "#fb9f3a"
             ],
             [
              0.8888888888888888,
              "#fdca26"
             ],
             [
              1,
              "#f0f921"
             ]
            ],
            "type": "heatmapgl"
           }
          ],
          "histogram": [
           {
            "marker": {
             "colorbar": {
              "outlinewidth": 0,
              "ticks": ""
             }
            },
            "type": "histogram"
           }
          ],
          "histogram2d": [
           {
            "colorbar": {
             "outlinewidth": 0,
             "ticks": ""
            },
            "colorscale": [
             [
              0,
              "#0d0887"
             ],
             [
              0.1111111111111111,
              "#46039f"
             ],
             [
              0.2222222222222222,
              "#7201a8"
             ],
             [
              0.3333333333333333,
              "#9c179e"
             ],
             [
              0.4444444444444444,
              "#bd3786"
             ],
             [
              0.5555555555555556,
              "#d8576b"
             ],
             [
              0.6666666666666666,
              "#ed7953"
             ],
             [
              0.7777777777777778,
              "#fb9f3a"
             ],
             [
              0.8888888888888888,
              "#fdca26"
             ],
             [
              1,
              "#f0f921"
             ]
            ],
            "type": "histogram2d"
           }
          ],
          "histogram2dcontour": [
           {
            "colorbar": {
             "outlinewidth": 0,
             "ticks": ""
            },
            "colorscale": [
             [
              0,
              "#0d0887"
             ],
             [
              0.1111111111111111,
              "#46039f"
             ],
             [
              0.2222222222222222,
              "#7201a8"
             ],
             [
              0.3333333333333333,
              "#9c179e"
             ],
             [
              0.4444444444444444,
              "#bd3786"
             ],
             [
              0.5555555555555556,
              "#d8576b"
             ],
             [
              0.6666666666666666,
              "#ed7953"
             ],
             [
              0.7777777777777778,
              "#fb9f3a"
             ],
             [
              0.8888888888888888,
              "#fdca26"
             ],
             [
              1,
              "#f0f921"
             ]
            ],
            "type": "histogram2dcontour"
           }
          ],
          "mesh3d": [
           {
            "colorbar": {
             "outlinewidth": 0,
             "ticks": ""
            },
            "type": "mesh3d"
           }
          ],
          "parcoords": [
           {
            "line": {
             "colorbar": {
              "outlinewidth": 0,
              "ticks": ""
             }
            },
            "type": "parcoords"
           }
          ],
          "pie": [
           {
            "automargin": true,
            "type": "pie"
           }
          ],
          "scatter": [
           {
            "marker": {
             "colorbar": {
              "outlinewidth": 0,
              "ticks": ""
             }
            },
            "type": "scatter"
           }
          ],
          "scatter3d": [
           {
            "line": {
             "colorbar": {
              "outlinewidth": 0,
              "ticks": ""
             }
            },
            "marker": {
             "colorbar": {
              "outlinewidth": 0,
              "ticks": ""
             }
            },
            "type": "scatter3d"
           }
          ],
          "scattercarpet": [
           {
            "marker": {
             "colorbar": {
              "outlinewidth": 0,
              "ticks": ""
             }
            },
            "type": "scattercarpet"
           }
          ],
          "scattergeo": [
           {
            "marker": {
             "colorbar": {
              "outlinewidth": 0,
              "ticks": ""
             }
            },
            "type": "scattergeo"
           }
          ],
          "scattergl": [
           {
            "marker": {
             "colorbar": {
              "outlinewidth": 0,
              "ticks": ""
             }
            },
            "type": "scattergl"
           }
          ],
          "scattermapbox": [
           {
            "marker": {
             "colorbar": {
              "outlinewidth": 0,
              "ticks": ""
             }
            },
            "type": "scattermapbox"
           }
          ],
          "scatterpolar": [
           {
            "marker": {
             "colorbar": {
              "outlinewidth": 0,
              "ticks": ""
             }
            },
            "type": "scatterpolar"
           }
          ],
          "scatterpolargl": [
           {
            "marker": {
             "colorbar": {
              "outlinewidth": 0,
              "ticks": ""
             }
            },
            "type": "scatterpolargl"
           }
          ],
          "scatterternary": [
           {
            "marker": {
             "colorbar": {
              "outlinewidth": 0,
              "ticks": ""
             }
            },
            "type": "scatterternary"
           }
          ],
          "surface": [
           {
            "colorbar": {
             "outlinewidth": 0,
             "ticks": ""
            },
            "colorscale": [
             [
              0,
              "#0d0887"
             ],
             [
              0.1111111111111111,
              "#46039f"
             ],
             [
              0.2222222222222222,
              "#7201a8"
             ],
             [
              0.3333333333333333,
              "#9c179e"
             ],
             [
              0.4444444444444444,
              "#bd3786"
             ],
             [
              0.5555555555555556,
              "#d8576b"
             ],
             [
              0.6666666666666666,
              "#ed7953"
             ],
             [
              0.7777777777777778,
              "#fb9f3a"
             ],
             [
              0.8888888888888888,
              "#fdca26"
             ],
             [
              1,
              "#f0f921"
             ]
            ],
            "type": "surface"
           }
          ],
          "table": [
           {
            "cells": {
             "fill": {
              "color": "#EBF0F8"
             },
             "line": {
              "color": "white"
             }
            },
            "header": {
             "fill": {
              "color": "#C8D4E3"
             },
             "line": {
              "color": "white"
             }
            },
            "type": "table"
           }
          ]
         },
         "layout": {
          "annotationdefaults": {
           "arrowcolor": "#2a3f5f",
           "arrowhead": 0,
           "arrowwidth": 1
          },
          "coloraxis": {
           "colorbar": {
            "outlinewidth": 0,
            "ticks": ""
           }
          },
          "colorscale": {
           "diverging": [
            [
             0,
             "#8e0152"
            ],
            [
             0.1,
             "#c51b7d"
            ],
            [
             0.2,
             "#de77ae"
            ],
            [
             0.3,
             "#f1b6da"
            ],
            [
             0.4,
             "#fde0ef"
            ],
            [
             0.5,
             "#f7f7f7"
            ],
            [
             0.6,
             "#e6f5d0"
            ],
            [
             0.7,
             "#b8e186"
            ],
            [
             0.8,
             "#7fbc41"
            ],
            [
             0.9,
             "#4d9221"
            ],
            [
             1,
             "#276419"
            ]
           ],
           "sequential": [
            [
             0,
             "#0d0887"
            ],
            [
             0.1111111111111111,
             "#46039f"
            ],
            [
             0.2222222222222222,
             "#7201a8"
            ],
            [
             0.3333333333333333,
             "#9c179e"
            ],
            [
             0.4444444444444444,
             "#bd3786"
            ],
            [
             0.5555555555555556,
             "#d8576b"
            ],
            [
             0.6666666666666666,
             "#ed7953"
            ],
            [
             0.7777777777777778,
             "#fb9f3a"
            ],
            [
             0.8888888888888888,
             "#fdca26"
            ],
            [
             1,
             "#f0f921"
            ]
           ],
           "sequentialminus": [
            [
             0,
             "#0d0887"
            ],
            [
             0.1111111111111111,
             "#46039f"
            ],
            [
             0.2222222222222222,
             "#7201a8"
            ],
            [
             0.3333333333333333,
             "#9c179e"
            ],
            [
             0.4444444444444444,
             "#bd3786"
            ],
            [
             0.5555555555555556,
             "#d8576b"
            ],
            [
             0.6666666666666666,
             "#ed7953"
            ],
            [
             0.7777777777777778,
             "#fb9f3a"
            ],
            [
             0.8888888888888888,
             "#fdca26"
            ],
            [
             1,
             "#f0f921"
            ]
           ]
          },
          "colorway": [
           "#636efa",
           "#EF553B",
           "#00cc96",
           "#ab63fa",
           "#FFA15A",
           "#19d3f3",
           "#FF6692",
           "#B6E880",
           "#FF97FF",
           "#FECB52"
          ],
          "font": {
           "color": "#2a3f5f"
          },
          "geo": {
           "bgcolor": "white",
           "lakecolor": "white",
           "landcolor": "#E5ECF6",
           "showlakes": true,
           "showland": true,
           "subunitcolor": "white"
          },
          "hoverlabel": {
           "align": "left"
          },
          "hovermode": "closest",
          "mapbox": {
           "style": "light"
          },
          "paper_bgcolor": "white",
          "plot_bgcolor": "#E5ECF6",
          "polar": {
           "angularaxis": {
            "gridcolor": "white",
            "linecolor": "white",
            "ticks": ""
           },
           "bgcolor": "#E5ECF6",
           "radialaxis": {
            "gridcolor": "white",
            "linecolor": "white",
            "ticks": ""
           }
          },
          "scene": {
           "xaxis": {
            "backgroundcolor": "#E5ECF6",
            "gridcolor": "white",
            "gridwidth": 2,
            "linecolor": "white",
            "showbackground": true,
            "ticks": "",
            "zerolinecolor": "white"
           },
           "yaxis": {
            "backgroundcolor": "#E5ECF6",
            "gridcolor": "white",
            "gridwidth": 2,
            "linecolor": "white",
            "showbackground": true,
            "ticks": "",
            "zerolinecolor": "white"
           },
           "zaxis": {
            "backgroundcolor": "#E5ECF6",
            "gridcolor": "white",
            "gridwidth": 2,
            "linecolor": "white",
            "showbackground": true,
            "ticks": "",
            "zerolinecolor": "white"
           }
          },
          "shapedefaults": {
           "line": {
            "color": "#2a3f5f"
           }
          },
          "ternary": {
           "aaxis": {
            "gridcolor": "white",
            "linecolor": "white",
            "ticks": ""
           },
           "baxis": {
            "gridcolor": "white",
            "linecolor": "white",
            "ticks": ""
           },
           "bgcolor": "#E5ECF6",
           "caxis": {
            "gridcolor": "white",
            "linecolor": "white",
            "ticks": ""
           }
          },
          "title": {
           "x": 0.05
          },
          "xaxis": {
           "automargin": true,
           "gridcolor": "white",
           "linecolor": "white",
           "ticks": "",
           "title": {
            "standoff": 15
           },
           "zerolinecolor": "white",
           "zerolinewidth": 2
          },
          "yaxis": {
           "automargin": true,
           "gridcolor": "white",
           "linecolor": "white",
           "ticks": "",
           "title": {
            "standoff": 15
           },
           "zerolinecolor": "white",
           "zerolinewidth": 2
          }
         }
        },
        "xaxis": {
         "anchor": "y",
         "domain": [
          0,
          1
         ],
         "title": {
          "text": "Fiscal_year"
         }
        },
        "yaxis": {
         "anchor": "x",
         "domain": [
          0,
          1
         ],
         "title": {
          "text": "Total_Amount_Awarded"
         }
        }
       }
      },
      "text/html": [
       "<div>\n",
       "        \n",
       "        \n",
       "            <div id=\"0ae28759-d8ad-4f98-8d85-7d67c013a54a\" class=\"plotly-graph-div\" style=\"height:400px; width:100%;\"></div>\n",
       "            <script type=\"text/javascript\">\n",
       "                require([\"plotly\"], function(Plotly) {\n",
       "                    window.PLOTLYENV=window.PLOTLYENV || {};\n",
       "                    \n",
       "                if (document.getElementById(\"0ae28759-d8ad-4f98-8d85-7d67c013a54a\")) {\n",
       "                    Plotly.newPlot(\n",
       "                        '0ae28759-d8ad-4f98-8d85-7d67c013a54a',\n",
       "                        [{\"alignmentgroup\": \"True\", \"hoverlabel\": {\"namelength\": 0}, \"hovertemplate\": \"Budget_fund=Capital<br>Fiscal_year=%{x}<br>Total_Amount_Awarded=%{y}\", \"legendgroup\": \"Capital\", \"marker\": {\"color\": \"#636efa\"}, \"name\": \"Capital\", \"offsetgroup\": \"Capital\", \"orientation\": \"v\", \"showlegend\": true, \"textposition\": \"auto\", \"type\": \"bar\", \"x\": [2015, 2017, 2018, 2019], \"xaxis\": \"x\", \"y\": [14952600, 16855000, 25387400, 22609200], \"yaxis\": \"y\"}, {\"alignmentgroup\": \"True\", \"hoverlabel\": {\"namelength\": 0}, \"hovertemplate\": \"Budget_fund=Capital Only<br>Fiscal_year=%{x}<br>Total_Amount_Awarded=%{y}\", \"legendgroup\": \"Capital Only\", \"marker\": {\"color\": \"#EF553B\"}, \"name\": \"Capital Only\", \"offsetgroup\": \"Capital Only\", \"orientation\": \"v\", \"showlegend\": true, \"textposition\": \"auto\", \"type\": \"bar\", \"x\": [1999, 2000, 2001, 2002, 2003, 2004, 2005, 2006, 2007, 2008, 2009, 2010, 2011, 2012, 2013, 2014], \"xaxis\": \"x\", \"y\": [8007700, 12076380, 15335000, 17904200, 21776700, 18284300, 19989700, 18479300, 22623700, 24738400, 22183100, 23742300, 61356800, 24427500, 17638900, 18185500], \"yaxis\": \"y\"}, {\"alignmentgroup\": \"True\", \"hoverlabel\": {\"namelength\": 0}, \"hovertemplate\": \"Budget_fund=Collective Impact<br>Fiscal_year=%{x}<br>Total_Amount_Awarded=%{y}\", \"legendgroup\": \"Collective Impact\", \"marker\": {\"color\": \"#00cc96\"}, \"name\": \"Collective Impact\", \"offsetgroup\": \"Collective Impact\", \"orientation\": \"v\", \"showlegend\": true, \"textposition\": \"auto\", \"type\": \"bar\", \"x\": [2015, 2016, 2017], \"xaxis\": \"x\", \"y\": [396500, 1657500, 4729800], \"yaxis\": \"y\"}, {\"alignmentgroup\": \"True\", \"hoverlabel\": {\"namelength\": 0}, \"hovertemplate\": \"Budget_fund=Community Building Fund<br>Fiscal_year=%{x}<br>Total_Amount_Awarded=%{y}\", \"legendgroup\": \"Community Building Fund\", \"marker\": {\"color\": \"#ab63fa\"}, \"name\": \"Community Building Fund\", \"offsetgroup\": \"Community Building Fund\", \"orientation\": \"v\", \"showlegend\": true, \"textposition\": \"auto\", \"type\": \"bar\", \"x\": [2021], \"xaxis\": \"x\", \"y\": [46019300], \"yaxis\": \"y\"}, {\"alignmentgroup\": \"True\", \"hoverlabel\": {\"namelength\": 0}, \"hovertemplate\": \"Budget_fund=Grow<br>Fiscal_year=%{x}<br>Total_Amount_Awarded=%{y}\", \"legendgroup\": \"Grow\", \"marker\": {\"color\": \"#FFA15A\"}, \"name\": \"Grow\", \"offsetgroup\": \"Grow\", \"orientation\": \"v\", \"showlegend\": true, \"textposition\": \"auto\", \"type\": \"bar\", \"x\": [2015, 2016, 2017, 2018, 2019], \"xaxis\": \"x\", \"y\": [73217800, 62336200, 49561800, 57959900, 67734500], \"yaxis\": \"y\"}, {\"alignmentgroup\": \"True\", \"hoverlabel\": {\"namelength\": 0}, \"hovertemplate\": \"Budget_fund=Ontario150<br>Fiscal_year=%{x}<br>Total_Amount_Awarded=%{y}\", \"legendgroup\": \"Ontario150\", \"marker\": {\"color\": \"#19d3f3\"}, \"name\": \"Ontario150\", \"offsetgroup\": \"Ontario150\", \"orientation\": \"v\", \"showlegend\": true, \"textposition\": \"auto\", \"type\": \"bar\", \"x\": [2016], \"xaxis\": \"x\", \"y\": [22870400], \"yaxis\": \"y\"}, {\"alignmentgroup\": \"True\", \"hoverlabel\": {\"namelength\": 0}, \"hovertemplate\": \"Budget_fund=Project Only<br>Fiscal_year=%{x}<br>Total_Amount_Awarded=%{y}\", \"legendgroup\": \"Project Only\", \"marker\": {\"color\": \"#FF6692\"}, \"name\": \"Project Only\", \"offsetgroup\": \"Project Only\", \"orientation\": \"v\", \"showlegend\": true, \"textposition\": \"auto\", \"type\": \"bar\", \"x\": [1999, 2000, 2001, 2002, 2003, 2004, 2005, 2006, 2007, 2008, 2009, 2010, 2011, 2012, 2013, 2014], \"xaxis\": \"x\", \"y\": [60337500, 73454041, 75325400, 61333700, 54510300, 56497400, 56075400, 65134800, 62159800, 61145600, 62674500, 45023300, 48402900, 48655900, 45782300, 43399900], \"yaxis\": \"y\"}, {\"alignmentgroup\": \"True\", \"hoverlabel\": {\"namelength\": 0}, \"hovertemplate\": \"Budget_fund=Project and Capital<br>Fiscal_year=%{x}<br>Total_Amount_Awarded=%{y}\", \"legendgroup\": \"Project and Capital\", \"marker\": {\"color\": \"#B6E880\"}, \"name\": \"Project and Capital\", \"offsetgroup\": \"Project and Capital\", \"orientation\": \"v\", \"showlegend\": true, \"textposition\": \"auto\", \"type\": \"bar\", \"x\": [1999, 2000, 2001, 2002, 2003, 2004, 2005, 2006, 2007, 2008, 2009, 2010, 2011, 2012, 2013, 2014], \"xaxis\": \"x\", \"y\": [12156800, 13443500, 14003600, 18289000, 20394200, 19565100, 18903000, 12148300, 15522600, 18712300, 23670700, 42970300, 41308700, 43558500, 42603100, 42214600], \"yaxis\": \"y\"}, {\"alignmentgroup\": \"True\", \"hoverlabel\": {\"namelength\": 0}, \"hovertemplate\": \"Budget_fund=Provincial Impact<br>Fiscal_year=%{x}<br>Total_Amount_Awarded=%{y}\", \"legendgroup\": \"Provincial Impact\", \"marker\": {\"color\": \"#FF97FF\"}, \"name\": \"Provincial Impact\", \"offsetgroup\": \"Provincial Impact\", \"orientation\": \"v\", \"showlegend\": true, \"textposition\": \"auto\", \"type\": \"bar\", \"x\": [2017], \"xaxis\": \"x\", \"y\": [17038300], \"yaxis\": \"y\"}, {\"alignmentgroup\": \"True\", \"hoverlabel\": {\"namelength\": 0}, \"hovertemplate\": \"Budget_fund=Resilient Communities Fund<br>Fiscal_year=%{x}<br>Total_Amount_Awarded=%{y}\", \"legendgroup\": \"Resilient Communities Fund\", \"marker\": {\"color\": \"#FECB52\"}, \"name\": \"Resilient Communities Fund\", \"offsetgroup\": \"Resilient Communities Fund\", \"orientation\": \"v\", \"showlegend\": true, \"textposition\": \"auto\", \"type\": \"bar\", \"x\": [2020], \"xaxis\": \"x\", \"y\": [83132000], \"yaxis\": \"y\"}, {\"alignmentgroup\": \"True\", \"hoverlabel\": {\"namelength\": 0}, \"hovertemplate\": \"Budget_fund=Seed<br>Fiscal_year=%{x}<br>Total_Amount_Awarded=%{y}\", \"legendgroup\": \"Seed\", \"marker\": {\"color\": \"#636efa\"}, \"name\": \"Seed\", \"offsetgroup\": \"Seed\", \"orientation\": \"v\", \"showlegend\": true, \"textposition\": \"auto\", \"type\": \"bar\", \"x\": [2015, 2016, 2017, 2018, 2019, 2020], \"xaxis\": \"x\", \"y\": [13250600, 13914900, 11406300, 10713300, 11458100, 11223000], \"yaxis\": \"y\"}, {\"alignmentgroup\": \"True\", \"hoverlabel\": {\"namelength\": 0}, \"hovertemplate\": \"Budget_fund=YOF<br>Fiscal_year=%{x}<br>Total_Amount_Awarded=%{y}\", \"legendgroup\": \"YOF\", \"marker\": {\"color\": \"#EF553B\"}, \"name\": \"YOF\", \"offsetgroup\": \"YOF\", \"orientation\": \"v\", \"showlegend\": true, \"textposition\": \"auto\", \"type\": \"bar\", \"x\": [2013, 2014, 2015, 2016, 2017, 2018, 2019, 2020], \"xaxis\": \"x\", \"y\": [4950000, 4517000, 7751500, 12000900, 12147100, 14087500, 13223100, 13644400], \"yaxis\": \"y\"}],\n",
       "                        {\"barmode\": \"relative\", \"height\": 400, \"legend\": {\"title\": {\"text\": \"Budget_fund\"}, \"tracegroupgap\": 0}, \"margin\": {\"t\": 60}, \"template\": {\"data\": {\"bar\": [{\"error_x\": {\"color\": \"#2a3f5f\"}, \"error_y\": {\"color\": \"#2a3f5f\"}, \"marker\": {\"line\": {\"color\": \"#E5ECF6\", \"width\": 0.5}}, \"type\": \"bar\"}], \"barpolar\": [{\"marker\": {\"line\": {\"color\": \"#E5ECF6\", \"width\": 0.5}}, \"type\": \"barpolar\"}], \"carpet\": [{\"aaxis\": {\"endlinecolor\": \"#2a3f5f\", \"gridcolor\": \"white\", \"linecolor\": \"white\", \"minorgridcolor\": \"white\", \"startlinecolor\": \"#2a3f5f\"}, \"baxis\": {\"endlinecolor\": \"#2a3f5f\", \"gridcolor\": \"white\", \"linecolor\": \"white\", \"minorgridcolor\": \"white\", \"startlinecolor\": \"#2a3f5f\"}, \"type\": \"carpet\"}], \"choropleth\": [{\"colorbar\": {\"outlinewidth\": 0, \"ticks\": \"\"}, \"type\": \"choropleth\"}], \"contour\": [{\"colorbar\": {\"outlinewidth\": 0, \"ticks\": \"\"}, \"colorscale\": [[0.0, \"#0d0887\"], [0.1111111111111111, \"#46039f\"], [0.2222222222222222, \"#7201a8\"], [0.3333333333333333, \"#9c179e\"], [0.4444444444444444, \"#bd3786\"], [0.5555555555555556, \"#d8576b\"], [0.6666666666666666, \"#ed7953\"], [0.7777777777777778, \"#fb9f3a\"], [0.8888888888888888, \"#fdca26\"], [1.0, \"#f0f921\"]], \"type\": \"contour\"}], \"contourcarpet\": [{\"colorbar\": {\"outlinewidth\": 0, \"ticks\": \"\"}, \"type\": \"contourcarpet\"}], \"heatmap\": [{\"colorbar\": {\"outlinewidth\": 0, \"ticks\": \"\"}, \"colorscale\": [[0.0, \"#0d0887\"], [0.1111111111111111, \"#46039f\"], [0.2222222222222222, \"#7201a8\"], [0.3333333333333333, \"#9c179e\"], [0.4444444444444444, \"#bd3786\"], [0.5555555555555556, \"#d8576b\"], [0.6666666666666666, \"#ed7953\"], [0.7777777777777778, \"#fb9f3a\"], [0.8888888888888888, \"#fdca26\"], [1.0, \"#f0f921\"]], \"type\": \"heatmap\"}], \"heatmapgl\": [{\"colorbar\": {\"outlinewidth\": 0, \"ticks\": \"\"}, \"colorscale\": [[0.0, \"#0d0887\"], [0.1111111111111111, \"#46039f\"], [0.2222222222222222, \"#7201a8\"], [0.3333333333333333, \"#9c179e\"], [0.4444444444444444, \"#bd3786\"], [0.5555555555555556, \"#d8576b\"], [0.6666666666666666, \"#ed7953\"], [0.7777777777777778, \"#fb9f3a\"], [0.8888888888888888, \"#fdca26\"], [1.0, \"#f0f921\"]], \"type\": \"heatmapgl\"}], \"histogram\": [{\"marker\": {\"colorbar\": {\"outlinewidth\": 0, \"ticks\": \"\"}}, \"type\": \"histogram\"}], \"histogram2d\": [{\"colorbar\": {\"outlinewidth\": 0, \"ticks\": \"\"}, \"colorscale\": [[0.0, \"#0d0887\"], [0.1111111111111111, \"#46039f\"], [0.2222222222222222, \"#7201a8\"], [0.3333333333333333, \"#9c179e\"], [0.4444444444444444, \"#bd3786\"], [0.5555555555555556, \"#d8576b\"], [0.6666666666666666, \"#ed7953\"], [0.7777777777777778, \"#fb9f3a\"], [0.8888888888888888, \"#fdca26\"], [1.0, \"#f0f921\"]], \"type\": \"histogram2d\"}], \"histogram2dcontour\": [{\"colorbar\": {\"outlinewidth\": 0, \"ticks\": \"\"}, \"colorscale\": [[0.0, \"#0d0887\"], [0.1111111111111111, \"#46039f\"], [0.2222222222222222, \"#7201a8\"], [0.3333333333333333, \"#9c179e\"], [0.4444444444444444, \"#bd3786\"], [0.5555555555555556, \"#d8576b\"], [0.6666666666666666, \"#ed7953\"], [0.7777777777777778, \"#fb9f3a\"], [0.8888888888888888, \"#fdca26\"], [1.0, \"#f0f921\"]], \"type\": \"histogram2dcontour\"}], \"mesh3d\": [{\"colorbar\": {\"outlinewidth\": 0, \"ticks\": \"\"}, \"type\": \"mesh3d\"}], \"parcoords\": [{\"line\": {\"colorbar\": {\"outlinewidth\": 0, \"ticks\": \"\"}}, \"type\": \"parcoords\"}], \"pie\": [{\"automargin\": true, \"type\": \"pie\"}], \"scatter\": [{\"marker\": {\"colorbar\": {\"outlinewidth\": 0, \"ticks\": \"\"}}, \"type\": \"scatter\"}], \"scatter3d\": [{\"line\": {\"colorbar\": {\"outlinewidth\": 0, \"ticks\": \"\"}}, \"marker\": {\"colorbar\": {\"outlinewidth\": 0, \"ticks\": \"\"}}, \"type\": \"scatter3d\"}], \"scattercarpet\": [{\"marker\": {\"colorbar\": {\"outlinewidth\": 0, \"ticks\": \"\"}}, \"type\": \"scattercarpet\"}], \"scattergeo\": [{\"marker\": {\"colorbar\": {\"outlinewidth\": 0, \"ticks\": \"\"}}, \"type\": \"scattergeo\"}], \"scattergl\": [{\"marker\": {\"colorbar\": {\"outlinewidth\": 0, \"ticks\": \"\"}}, \"type\": \"scattergl\"}], \"scattermapbox\": [{\"marker\": {\"colorbar\": {\"outlinewidth\": 0, \"ticks\": \"\"}}, \"type\": \"scattermapbox\"}], \"scatterpolar\": [{\"marker\": {\"colorbar\": {\"outlinewidth\": 0, \"ticks\": \"\"}}, \"type\": \"scatterpolar\"}], \"scatterpolargl\": [{\"marker\": {\"colorbar\": {\"outlinewidth\": 0, \"ticks\": \"\"}}, \"type\": \"scatterpolargl\"}], \"scatterternary\": [{\"marker\": {\"colorbar\": {\"outlinewidth\": 0, \"ticks\": \"\"}}, \"type\": \"scatterternary\"}], \"surface\": [{\"colorbar\": {\"outlinewidth\": 0, \"ticks\": \"\"}, \"colorscale\": [[0.0, \"#0d0887\"], [0.1111111111111111, \"#46039f\"], [0.2222222222222222, \"#7201a8\"], [0.3333333333333333, \"#9c179e\"], [0.4444444444444444, \"#bd3786\"], [0.5555555555555556, \"#d8576b\"], [0.6666666666666666, \"#ed7953\"], [0.7777777777777778, \"#fb9f3a\"], [0.8888888888888888, \"#fdca26\"], [1.0, \"#f0f921\"]], \"type\": \"surface\"}], \"table\": [{\"cells\": {\"fill\": {\"color\": \"#EBF0F8\"}, \"line\": {\"color\": \"white\"}}, \"header\": {\"fill\": {\"color\": \"#C8D4E3\"}, \"line\": {\"color\": \"white\"}}, \"type\": \"table\"}]}, \"layout\": {\"annotationdefaults\": {\"arrowcolor\": \"#2a3f5f\", \"arrowhead\": 0, \"arrowwidth\": 1}, \"coloraxis\": {\"colorbar\": {\"outlinewidth\": 0, \"ticks\": \"\"}}, \"colorscale\": {\"diverging\": [[0, \"#8e0152\"], [0.1, \"#c51b7d\"], [0.2, \"#de77ae\"], [0.3, \"#f1b6da\"], [0.4, \"#fde0ef\"], [0.5, \"#f7f7f7\"], [0.6, \"#e6f5d0\"], [0.7, \"#b8e186\"], [0.8, \"#7fbc41\"], [0.9, \"#4d9221\"], [1, \"#276419\"]], \"sequential\": [[0.0, \"#0d0887\"], [0.1111111111111111, \"#46039f\"], [0.2222222222222222, \"#7201a8\"], [0.3333333333333333, \"#9c179e\"], [0.4444444444444444, \"#bd3786\"], [0.5555555555555556, \"#d8576b\"], [0.6666666666666666, \"#ed7953\"], [0.7777777777777778, \"#fb9f3a\"], [0.8888888888888888, \"#fdca26\"], [1.0, \"#f0f921\"]], \"sequentialminus\": [[0.0, \"#0d0887\"], [0.1111111111111111, \"#46039f\"], [0.2222222222222222, \"#7201a8\"], [0.3333333333333333, \"#9c179e\"], [0.4444444444444444, \"#bd3786\"], [0.5555555555555556, \"#d8576b\"], [0.6666666666666666, \"#ed7953\"], [0.7777777777777778, \"#fb9f3a\"], [0.8888888888888888, \"#fdca26\"], [1.0, \"#f0f921\"]]}, \"colorway\": [\"#636efa\", \"#EF553B\", \"#00cc96\", \"#ab63fa\", \"#FFA15A\", \"#19d3f3\", \"#FF6692\", \"#B6E880\", \"#FF97FF\", \"#FECB52\"], \"font\": {\"color\": \"#2a3f5f\"}, \"geo\": {\"bgcolor\": \"white\", \"lakecolor\": \"white\", \"landcolor\": \"#E5ECF6\", \"showlakes\": true, \"showland\": true, \"subunitcolor\": \"white\"}, \"hoverlabel\": {\"align\": \"left\"}, \"hovermode\": \"closest\", \"mapbox\": {\"style\": \"light\"}, \"paper_bgcolor\": \"white\", \"plot_bgcolor\": \"#E5ECF6\", \"polar\": {\"angularaxis\": {\"gridcolor\": \"white\", \"linecolor\": \"white\", \"ticks\": \"\"}, \"bgcolor\": \"#E5ECF6\", \"radialaxis\": {\"gridcolor\": \"white\", \"linecolor\": \"white\", \"ticks\": \"\"}}, \"scene\": {\"xaxis\": {\"backgroundcolor\": \"#E5ECF6\", \"gridcolor\": \"white\", \"gridwidth\": 2, \"linecolor\": \"white\", \"showbackground\": true, \"ticks\": \"\", \"zerolinecolor\": \"white\"}, \"yaxis\": {\"backgroundcolor\": \"#E5ECF6\", \"gridcolor\": \"white\", \"gridwidth\": 2, \"linecolor\": \"white\", \"showbackground\": true, \"ticks\": \"\", \"zerolinecolor\": \"white\"}, \"zaxis\": {\"backgroundcolor\": \"#E5ECF6\", \"gridcolor\": \"white\", \"gridwidth\": 2, \"linecolor\": \"white\", \"showbackground\": true, \"ticks\": \"\", \"zerolinecolor\": \"white\"}}, \"shapedefaults\": {\"line\": {\"color\": \"#2a3f5f\"}}, \"ternary\": {\"aaxis\": {\"gridcolor\": \"white\", \"linecolor\": \"white\", \"ticks\": \"\"}, \"baxis\": {\"gridcolor\": \"white\", \"linecolor\": \"white\", \"ticks\": \"\"}, \"bgcolor\": \"#E5ECF6\", \"caxis\": {\"gridcolor\": \"white\", \"linecolor\": \"white\", \"ticks\": \"\"}}, \"title\": {\"x\": 0.05}, \"xaxis\": {\"automargin\": true, \"gridcolor\": \"white\", \"linecolor\": \"white\", \"ticks\": \"\", \"title\": {\"standoff\": 15}, \"zerolinecolor\": \"white\", \"zerolinewidth\": 2}, \"yaxis\": {\"automargin\": true, \"gridcolor\": \"white\", \"linecolor\": \"white\", \"ticks\": \"\", \"title\": {\"standoff\": 15}, \"zerolinecolor\": \"white\", \"zerolinewidth\": 2}}}, \"xaxis\": {\"anchor\": \"y\", \"domain\": [0.0, 1.0], \"title\": {\"text\": \"Fiscal_year\"}}, \"yaxis\": {\"anchor\": \"x\", \"domain\": [0.0, 1.0], \"title\": {\"text\": \"Total_Amount_Awarded\"}}},\n",
       "                        {\"responsive\": true}\n",
       "                    ).then(function(){\n",
       "                            \n",
       "var gd = document.getElementById('0ae28759-d8ad-4f98-8d85-7d67c013a54a');\n",
       "var x = new MutationObserver(function (mutations, observer) {{\n",
       "        var display = window.getComputedStyle(gd).display;\n",
       "        if (!display || display === 'none') {{\n",
       "            console.log([gd, 'removed!']);\n",
       "            Plotly.purge(gd);\n",
       "            observer.disconnect();\n",
       "        }}\n",
       "}});\n",
       "\n",
       "// Listen for the removal of the full notebook cells\n",
       "var notebookContainer = gd.closest('#notebook-container');\n",
       "if (notebookContainer) {{\n",
       "    x.observe(notebookContainer, {childList: true});\n",
       "}}\n",
       "\n",
       "// Listen for the clearing of the current output cell\n",
       "var outputEl = gd.closest('.output');\n",
       "if (outputEl) {{\n",
       "    x.observe(outputEl, {childList: true});\n",
       "}}\n",
       "\n",
       "                        })\n",
       "                };\n",
       "                });\n",
       "            </script>\n",
       "        </div>"
      ]
     },
     "metadata": {},
     "output_type": "display_data"
    }
   ],
   "source": [
    "## Total grants by Budget fund by year\n",
    "df_total_grants = df[['Amount_awarded','Budget_fund_update','Fiscal_year_update']]\n",
    "df_total_grants_agg = df_total_grants.groupby(['Budget_fund_update','Fiscal_year_update']).agg(Total_Amount_Awarded = \n",
    "                                                                      ('Amount_awarded', 'sum')).reset_index()\n",
    "\n",
    "df_total_grants_agg.columns = ['Budget_fund','Fiscal_year', 'Total_Amount_Awarded']\n",
    "\n",
    "fig = px.bar(df_total_grants_agg, x=\"Fiscal_year\", y=\"Total_Amount_Awarded\", color='Budget_fund',\n",
    "             height=400)\n",
    "fig.show()"
   ]
  },
  {
   "cell_type": "code",
   "execution_count": null,
   "metadata": {},
   "outputs": [],
   "source": [
    "fig = px.scatter(df_total_grants_agg, x=\"Fiscal_year\", y=\"tip\", color=\"smoker\", facet_col=\"sex\", facet_row=\"time\")\n",
    "fig.show()"
   ]
  },
  {
   "cell_type": "code",
   "execution_count": 93,
   "metadata": {},
   "outputs": [
    {
     "data": {
      "application/vnd.plotly.v1+json": {
       "config": {
        "plotlyServerURL": "https://plot.ly"
       },
       "data": [
        {
         "hoverlabel": {
          "namelength": 0
         },
         "hovertemplate": "Budget_fund=Capital<br>Fiscal_year=%{x}<br>Total_Amount_Awarded=%{y}",
         "legendgroup": "Capital",
         "line": {
          "color": "#636efa",
          "dash": "solid"
         },
         "mode": "lines",
         "name": "Capital",
         "showlegend": true,
         "type": "scatter",
         "x": [
          2015,
          2017,
          2018,
          2019
         ],
         "xaxis": "x",
         "y": [
          14952600,
          16855000,
          25387400,
          22609200
         ],
         "yaxis": "y"
        },
        {
         "hoverlabel": {
          "namelength": 0
         },
         "hovertemplate": "Budget_fund=Capital Only<br>Fiscal_year=%{x}<br>Total_Amount_Awarded=%{y}",
         "legendgroup": "Capital Only",
         "line": {
          "color": "#EF553B",
          "dash": "solid"
         },
         "mode": "lines",
         "name": "Capital Only",
         "showlegend": true,
         "type": "scatter",
         "x": [
          1999,
          2000,
          2001,
          2002,
          2003,
          2004,
          2005,
          2006,
          2007,
          2008,
          2009,
          2010,
          2011,
          2012,
          2013,
          2014
         ],
         "xaxis": "x",
         "y": [
          8007700,
          12076380,
          15335000,
          17904200,
          21776700,
          18284300,
          19989700,
          18479300,
          22623700,
          24738400,
          22183100,
          23742300,
          61356800,
          24427500,
          17638900,
          18185500
         ],
         "yaxis": "y"
        },
        {
         "hoverlabel": {
          "namelength": 0
         },
         "hovertemplate": "Budget_fund=Collective Impact<br>Fiscal_year=%{x}<br>Total_Amount_Awarded=%{y}",
         "legendgroup": "Collective Impact",
         "line": {
          "color": "#00cc96",
          "dash": "solid"
         },
         "mode": "lines",
         "name": "Collective Impact",
         "showlegend": true,
         "type": "scatter",
         "x": [
          2015,
          2016,
          2017
         ],
         "xaxis": "x",
         "y": [
          396500,
          1657500,
          4729800
         ],
         "yaxis": "y"
        },
        {
         "hoverlabel": {
          "namelength": 0
         },
         "hovertemplate": "Budget_fund=Community Building Fund<br>Fiscal_year=%{x}<br>Total_Amount_Awarded=%{y}",
         "legendgroup": "Community Building Fund",
         "line": {
          "color": "#ab63fa",
          "dash": "solid"
         },
         "mode": "lines",
         "name": "Community Building Fund",
         "showlegend": true,
         "type": "scatter",
         "x": [
          2021
         ],
         "xaxis": "x",
         "y": [
          46019300
         ],
         "yaxis": "y"
        },
        {
         "hoverlabel": {
          "namelength": 0
         },
         "hovertemplate": "Budget_fund=Grow<br>Fiscal_year=%{x}<br>Total_Amount_Awarded=%{y}",
         "legendgroup": "Grow",
         "line": {
          "color": "#FFA15A",
          "dash": "solid"
         },
         "mode": "lines",
         "name": "Grow",
         "showlegend": true,
         "type": "scatter",
         "x": [
          2015,
          2016,
          2017,
          2018,
          2019
         ],
         "xaxis": "x",
         "y": [
          73217800,
          62336200,
          49561800,
          57959900,
          67734500
         ],
         "yaxis": "y"
        },
        {
         "hoverlabel": {
          "namelength": 0
         },
         "hovertemplate": "Budget_fund=Ontario150<br>Fiscal_year=%{x}<br>Total_Amount_Awarded=%{y}",
         "legendgroup": "Ontario150",
         "line": {
          "color": "#19d3f3",
          "dash": "solid"
         },
         "mode": "lines",
         "name": "Ontario150",
         "showlegend": true,
         "type": "scatter",
         "x": [
          2016
         ],
         "xaxis": "x",
         "y": [
          22870400
         ],
         "yaxis": "y"
        },
        {
         "hoverlabel": {
          "namelength": 0
         },
         "hovertemplate": "Budget_fund=Project Only<br>Fiscal_year=%{x}<br>Total_Amount_Awarded=%{y}",
         "legendgroup": "Project Only",
         "line": {
          "color": "#FF6692",
          "dash": "solid"
         },
         "mode": "lines",
         "name": "Project Only",
         "showlegend": true,
         "type": "scatter",
         "x": [
          1999,
          2000,
          2001,
          2002,
          2003,
          2004,
          2005,
          2006,
          2007,
          2008,
          2009,
          2010,
          2011,
          2012,
          2013,
          2014
         ],
         "xaxis": "x",
         "y": [
          60337500,
          73454041,
          75325400,
          61333700,
          54510300,
          56497400,
          56075400,
          65134800,
          62159800,
          61145600,
          62674500,
          45023300,
          48402900,
          48655900,
          45782300,
          43399900
         ],
         "yaxis": "y"
        },
        {
         "hoverlabel": {
          "namelength": 0
         },
         "hovertemplate": "Budget_fund=Project and Capital<br>Fiscal_year=%{x}<br>Total_Amount_Awarded=%{y}",
         "legendgroup": "Project and Capital",
         "line": {
          "color": "#B6E880",
          "dash": "solid"
         },
         "mode": "lines",
         "name": "Project and Capital",
         "showlegend": true,
         "type": "scatter",
         "x": [
          1999,
          2000,
          2001,
          2002,
          2003,
          2004,
          2005,
          2006,
          2007,
          2008,
          2009,
          2010,
          2011,
          2012,
          2013,
          2014
         ],
         "xaxis": "x",
         "y": [
          12156800,
          13443500,
          14003600,
          18289000,
          20394200,
          19565100,
          18903000,
          12148300,
          15522600,
          18712300,
          23670700,
          42970300,
          41308700,
          43558500,
          42603100,
          42214600
         ],
         "yaxis": "y"
        },
        {
         "hoverlabel": {
          "namelength": 0
         },
         "hovertemplate": "Budget_fund=Provincial Impact<br>Fiscal_year=%{x}<br>Total_Amount_Awarded=%{y}",
         "legendgroup": "Provincial Impact",
         "line": {
          "color": "#FF97FF",
          "dash": "solid"
         },
         "mode": "lines",
         "name": "Provincial Impact",
         "showlegend": true,
         "type": "scatter",
         "x": [
          2017
         ],
         "xaxis": "x",
         "y": [
          17038300
         ],
         "yaxis": "y"
        },
        {
         "hoverlabel": {
          "namelength": 0
         },
         "hovertemplate": "Budget_fund=Resilient Communities Fund<br>Fiscal_year=%{x}<br>Total_Amount_Awarded=%{y}",
         "legendgroup": "Resilient Communities Fund",
         "line": {
          "color": "#FECB52",
          "dash": "solid"
         },
         "mode": "lines",
         "name": "Resilient Communities Fund",
         "showlegend": true,
         "type": "scatter",
         "x": [
          2020
         ],
         "xaxis": "x",
         "y": [
          83132000
         ],
         "yaxis": "y"
        },
        {
         "hoverlabel": {
          "namelength": 0
         },
         "hovertemplate": "Budget_fund=Seed<br>Fiscal_year=%{x}<br>Total_Amount_Awarded=%{y}",
         "legendgroup": "Seed",
         "line": {
          "color": "#636efa",
          "dash": "solid"
         },
         "mode": "lines",
         "name": "Seed",
         "showlegend": true,
         "type": "scatter",
         "x": [
          2015,
          2016,
          2017,
          2018,
          2019,
          2020
         ],
         "xaxis": "x",
         "y": [
          13250600,
          13914900,
          11406300,
          10713300,
          11458100,
          11223000
         ],
         "yaxis": "y"
        },
        {
         "hoverlabel": {
          "namelength": 0
         },
         "hovertemplate": "Budget_fund=YOF<br>Fiscal_year=%{x}<br>Total_Amount_Awarded=%{y}",
         "legendgroup": "YOF",
         "line": {
          "color": "#EF553B",
          "dash": "solid"
         },
         "mode": "lines",
         "name": "YOF",
         "showlegend": true,
         "type": "scatter",
         "x": [
          2013,
          2014,
          2015,
          2016,
          2017,
          2018,
          2019,
          2020
         ],
         "xaxis": "x",
         "y": [
          4950000,
          4517000,
          7751500,
          12000900,
          12147100,
          14087500,
          13223100,
          13644400
         ],
         "yaxis": "y"
        }
       ],
       "layout": {
        "legend": {
         "title": {
          "text": "Budget_fund"
         },
         "tracegroupgap": 0
        },
        "margin": {
         "t": 60
        },
        "template": {
         "data": {
          "bar": [
           {
            "error_x": {
             "color": "#2a3f5f"
            },
            "error_y": {
             "color": "#2a3f5f"
            },
            "marker": {
             "line": {
              "color": "#E5ECF6",
              "width": 0.5
             }
            },
            "type": "bar"
           }
          ],
          "barpolar": [
           {
            "marker": {
             "line": {
              "color": "#E5ECF6",
              "width": 0.5
             }
            },
            "type": "barpolar"
           }
          ],
          "carpet": [
           {
            "aaxis": {
             "endlinecolor": "#2a3f5f",
             "gridcolor": "white",
             "linecolor": "white",
             "minorgridcolor": "white",
             "startlinecolor": "#2a3f5f"
            },
            "baxis": {
             "endlinecolor": "#2a3f5f",
             "gridcolor": "white",
             "linecolor": "white",
             "minorgridcolor": "white",
             "startlinecolor": "#2a3f5f"
            },
            "type": "carpet"
           }
          ],
          "choropleth": [
           {
            "colorbar": {
             "outlinewidth": 0,
             "ticks": ""
            },
            "type": "choropleth"
           }
          ],
          "contour": [
           {
            "colorbar": {
             "outlinewidth": 0,
             "ticks": ""
            },
            "colorscale": [
             [
              0,
              "#0d0887"
             ],
             [
              0.1111111111111111,
              "#46039f"
             ],
             [
              0.2222222222222222,
              "#7201a8"
             ],
             [
              0.3333333333333333,
              "#9c179e"
             ],
             [
              0.4444444444444444,
              "#bd3786"
             ],
             [
              0.5555555555555556,
              "#d8576b"
             ],
             [
              0.6666666666666666,
              "#ed7953"
             ],
             [
              0.7777777777777778,
              "#fb9f3a"
             ],
             [
              0.8888888888888888,
              "#fdca26"
             ],
             [
              1,
              "#f0f921"
             ]
            ],
            "type": "contour"
           }
          ],
          "contourcarpet": [
           {
            "colorbar": {
             "outlinewidth": 0,
             "ticks": ""
            },
            "type": "contourcarpet"
           }
          ],
          "heatmap": [
           {
            "colorbar": {
             "outlinewidth": 0,
             "ticks": ""
            },
            "colorscale": [
             [
              0,
              "#0d0887"
             ],
             [
              0.1111111111111111,
              "#46039f"
             ],
             [
              0.2222222222222222,
              "#7201a8"
             ],
             [
              0.3333333333333333,
              "#9c179e"
             ],
             [
              0.4444444444444444,
              "#bd3786"
             ],
             [
              0.5555555555555556,
              "#d8576b"
             ],
             [
              0.6666666666666666,
              "#ed7953"
             ],
             [
              0.7777777777777778,
              "#fb9f3a"
             ],
             [
              0.8888888888888888,
              "#fdca26"
             ],
             [
              1,
              "#f0f921"
             ]
            ],
            "type": "heatmap"
           }
          ],
          "heatmapgl": [
           {
            "colorbar": {
             "outlinewidth": 0,
             "ticks": ""
            },
            "colorscale": [
             [
              0,
              "#0d0887"
             ],
             [
              0.1111111111111111,
              "#46039f"
             ],
             [
              0.2222222222222222,
              "#7201a8"
             ],
             [
              0.3333333333333333,
              "#9c179e"
             ],
             [
              0.4444444444444444,
              "#bd3786"
             ],
             [
              0.5555555555555556,
              "#d8576b"
             ],
             [
              0.6666666666666666,
              "#ed7953"
             ],
             [
              0.7777777777777778,
              "#fb9f3a"
             ],
             [
              0.8888888888888888,
              "#fdca26"
             ],
             [
              1,
              "#f0f921"
             ]
            ],
            "type": "heatmapgl"
           }
          ],
          "histogram": [
           {
            "marker": {
             "colorbar": {
              "outlinewidth": 0,
              "ticks": ""
             }
            },
            "type": "histogram"
           }
          ],
          "histogram2d": [
           {
            "colorbar": {
             "outlinewidth": 0,
             "ticks": ""
            },
            "colorscale": [
             [
              0,
              "#0d0887"
             ],
             [
              0.1111111111111111,
              "#46039f"
             ],
             [
              0.2222222222222222,
              "#7201a8"
             ],
             [
              0.3333333333333333,
              "#9c179e"
             ],
             [
              0.4444444444444444,
              "#bd3786"
             ],
             [
              0.5555555555555556,
              "#d8576b"
             ],
             [
              0.6666666666666666,
              "#ed7953"
             ],
             [
              0.7777777777777778,
              "#fb9f3a"
             ],
             [
              0.8888888888888888,
              "#fdca26"
             ],
             [
              1,
              "#f0f921"
             ]
            ],
            "type": "histogram2d"
           }
          ],
          "histogram2dcontour": [
           {
            "colorbar": {
             "outlinewidth": 0,
             "ticks": ""
            },
            "colorscale": [
             [
              0,
              "#0d0887"
             ],
             [
              0.1111111111111111,
              "#46039f"
             ],
             [
              0.2222222222222222,
              "#7201a8"
             ],
             [
              0.3333333333333333,
              "#9c179e"
             ],
             [
              0.4444444444444444,
              "#bd3786"
             ],
             [
              0.5555555555555556,
              "#d8576b"
             ],
             [
              0.6666666666666666,
              "#ed7953"
             ],
             [
              0.7777777777777778,
              "#fb9f3a"
             ],
             [
              0.8888888888888888,
              "#fdca26"
             ],
             [
              1,
              "#f0f921"
             ]
            ],
            "type": "histogram2dcontour"
           }
          ],
          "mesh3d": [
           {
            "colorbar": {
             "outlinewidth": 0,
             "ticks": ""
            },
            "type": "mesh3d"
           }
          ],
          "parcoords": [
           {
            "line": {
             "colorbar": {
              "outlinewidth": 0,
              "ticks": ""
             }
            },
            "type": "parcoords"
           }
          ],
          "pie": [
           {
            "automargin": true,
            "type": "pie"
           }
          ],
          "scatter": [
           {
            "marker": {
             "colorbar": {
              "outlinewidth": 0,
              "ticks": ""
             }
            },
            "type": "scatter"
           }
          ],
          "scatter3d": [
           {
            "line": {
             "colorbar": {
              "outlinewidth": 0,
              "ticks": ""
             }
            },
            "marker": {
             "colorbar": {
              "outlinewidth": 0,
              "ticks": ""
             }
            },
            "type": "scatter3d"
           }
          ],
          "scattercarpet": [
           {
            "marker": {
             "colorbar": {
              "outlinewidth": 0,
              "ticks": ""
             }
            },
            "type": "scattercarpet"
           }
          ],
          "scattergeo": [
           {
            "marker": {
             "colorbar": {
              "outlinewidth": 0,
              "ticks": ""
             }
            },
            "type": "scattergeo"
           }
          ],
          "scattergl": [
           {
            "marker": {
             "colorbar": {
              "outlinewidth": 0,
              "ticks": ""
             }
            },
            "type": "scattergl"
           }
          ],
          "scattermapbox": [
           {
            "marker": {
             "colorbar": {
              "outlinewidth": 0,
              "ticks": ""
             }
            },
            "type": "scattermapbox"
           }
          ],
          "scatterpolar": [
           {
            "marker": {
             "colorbar": {
              "outlinewidth": 0,
              "ticks": ""
             }
            },
            "type": "scatterpolar"
           }
          ],
          "scatterpolargl": [
           {
            "marker": {
             "colorbar": {
              "outlinewidth": 0,
              "ticks": ""
             }
            },
            "type": "scatterpolargl"
           }
          ],
          "scatterternary": [
           {
            "marker": {
             "colorbar": {
              "outlinewidth": 0,
              "ticks": ""
             }
            },
            "type": "scatterternary"
           }
          ],
          "surface": [
           {
            "colorbar": {
             "outlinewidth": 0,
             "ticks": ""
            },
            "colorscale": [
             [
              0,
              "#0d0887"
             ],
             [
              0.1111111111111111,
              "#46039f"
             ],
             [
              0.2222222222222222,
              "#7201a8"
             ],
             [
              0.3333333333333333,
              "#9c179e"
             ],
             [
              0.4444444444444444,
              "#bd3786"
             ],
             [
              0.5555555555555556,
              "#d8576b"
             ],
             [
              0.6666666666666666,
              "#ed7953"
             ],
             [
              0.7777777777777778,
              "#fb9f3a"
             ],
             [
              0.8888888888888888,
              "#fdca26"
             ],
             [
              1,
              "#f0f921"
             ]
            ],
            "type": "surface"
           }
          ],
          "table": [
           {
            "cells": {
             "fill": {
              "color": "#EBF0F8"
             },
             "line": {
              "color": "white"
             }
            },
            "header": {
             "fill": {
              "color": "#C8D4E3"
             },
             "line": {
              "color": "white"
             }
            },
            "type": "table"
           }
          ]
         },
         "layout": {
          "annotationdefaults": {
           "arrowcolor": "#2a3f5f",
           "arrowhead": 0,
           "arrowwidth": 1
          },
          "coloraxis": {
           "colorbar": {
            "outlinewidth": 0,
            "ticks": ""
           }
          },
          "colorscale": {
           "diverging": [
            [
             0,
             "#8e0152"
            ],
            [
             0.1,
             "#c51b7d"
            ],
            [
             0.2,
             "#de77ae"
            ],
            [
             0.3,
             "#f1b6da"
            ],
            [
             0.4,
             "#fde0ef"
            ],
            [
             0.5,
             "#f7f7f7"
            ],
            [
             0.6,
             "#e6f5d0"
            ],
            [
             0.7,
             "#b8e186"
            ],
            [
             0.8,
             "#7fbc41"
            ],
            [
             0.9,
             "#4d9221"
            ],
            [
             1,
             "#276419"
            ]
           ],
           "sequential": [
            [
             0,
             "#0d0887"
            ],
            [
             0.1111111111111111,
             "#46039f"
            ],
            [
             0.2222222222222222,
             "#7201a8"
            ],
            [
             0.3333333333333333,
             "#9c179e"
            ],
            [
             0.4444444444444444,
             "#bd3786"
            ],
            [
             0.5555555555555556,
             "#d8576b"
            ],
            [
             0.6666666666666666,
             "#ed7953"
            ],
            [
             0.7777777777777778,
             "#fb9f3a"
            ],
            [
             0.8888888888888888,
             "#fdca26"
            ],
            [
             1,
             "#f0f921"
            ]
           ],
           "sequentialminus": [
            [
             0,
             "#0d0887"
            ],
            [
             0.1111111111111111,
             "#46039f"
            ],
            [
             0.2222222222222222,
             "#7201a8"
            ],
            [
             0.3333333333333333,
             "#9c179e"
            ],
            [
             0.4444444444444444,
             "#bd3786"
            ],
            [
             0.5555555555555556,
             "#d8576b"
            ],
            [
             0.6666666666666666,
             "#ed7953"
            ],
            [
             0.7777777777777778,
             "#fb9f3a"
            ],
            [
             0.8888888888888888,
             "#fdca26"
            ],
            [
             1,
             "#f0f921"
            ]
           ]
          },
          "colorway": [
           "#636efa",
           "#EF553B",
           "#00cc96",
           "#ab63fa",
           "#FFA15A",
           "#19d3f3",
           "#FF6692",
           "#B6E880",
           "#FF97FF",
           "#FECB52"
          ],
          "font": {
           "color": "#2a3f5f"
          },
          "geo": {
           "bgcolor": "white",
           "lakecolor": "white",
           "landcolor": "#E5ECF6",
           "showlakes": true,
           "showland": true,
           "subunitcolor": "white"
          },
          "hoverlabel": {
           "align": "left"
          },
          "hovermode": "closest",
          "mapbox": {
           "style": "light"
          },
          "paper_bgcolor": "white",
          "plot_bgcolor": "#E5ECF6",
          "polar": {
           "angularaxis": {
            "gridcolor": "white",
            "linecolor": "white",
            "ticks": ""
           },
           "bgcolor": "#E5ECF6",
           "radialaxis": {
            "gridcolor": "white",
            "linecolor": "white",
            "ticks": ""
           }
          },
          "scene": {
           "xaxis": {
            "backgroundcolor": "#E5ECF6",
            "gridcolor": "white",
            "gridwidth": 2,
            "linecolor": "white",
            "showbackground": true,
            "ticks": "",
            "zerolinecolor": "white"
           },
           "yaxis": {
            "backgroundcolor": "#E5ECF6",
            "gridcolor": "white",
            "gridwidth": 2,
            "linecolor": "white",
            "showbackground": true,
            "ticks": "",
            "zerolinecolor": "white"
           },
           "zaxis": {
            "backgroundcolor": "#E5ECF6",
            "gridcolor": "white",
            "gridwidth": 2,
            "linecolor": "white",
            "showbackground": true,
            "ticks": "",
            "zerolinecolor": "white"
           }
          },
          "shapedefaults": {
           "line": {
            "color": "#2a3f5f"
           }
          },
          "ternary": {
           "aaxis": {
            "gridcolor": "white",
            "linecolor": "white",
            "ticks": ""
           },
           "baxis": {
            "gridcolor": "white",
            "linecolor": "white",
            "ticks": ""
           },
           "bgcolor": "#E5ECF6",
           "caxis": {
            "gridcolor": "white",
            "linecolor": "white",
            "ticks": ""
           }
          },
          "title": {
           "x": 0.05
          },
          "xaxis": {
           "automargin": true,
           "gridcolor": "white",
           "linecolor": "white",
           "ticks": "",
           "title": {
            "standoff": 15
           },
           "zerolinecolor": "white",
           "zerolinewidth": 2
          },
          "yaxis": {
           "automargin": true,
           "gridcolor": "white",
           "linecolor": "white",
           "ticks": "",
           "title": {
            "standoff": 15
           },
           "zerolinecolor": "white",
           "zerolinewidth": 2
          }
         }
        },
        "xaxis": {
         "anchor": "y",
         "domain": [
          0,
          1
         ],
         "title": {
          "text": "Fiscal_year"
         }
        },
        "yaxis": {
         "anchor": "x",
         "domain": [
          0,
          1
         ],
         "title": {
          "text": "Total_Amount_Awarded"
         }
        }
       }
      },
      "text/html": [
       "<div>\n",
       "        \n",
       "        \n",
       "            <div id=\"e856c73b-9669-416a-a619-50a8405b1b47\" class=\"plotly-graph-div\" style=\"height:525px; width:100%;\"></div>\n",
       "            <script type=\"text/javascript\">\n",
       "                require([\"plotly\"], function(Plotly) {\n",
       "                    window.PLOTLYENV=window.PLOTLYENV || {};\n",
       "                    \n",
       "                if (document.getElementById(\"e856c73b-9669-416a-a619-50a8405b1b47\")) {\n",
       "                    Plotly.newPlot(\n",
       "                        'e856c73b-9669-416a-a619-50a8405b1b47',\n",
       "                        [{\"hoverlabel\": {\"namelength\": 0}, \"hovertemplate\": \"Budget_fund=Capital<br>Fiscal_year=%{x}<br>Total_Amount_Awarded=%{y}\", \"legendgroup\": \"Capital\", \"line\": {\"color\": \"#636efa\", \"dash\": \"solid\"}, \"mode\": \"lines\", \"name\": \"Capital\", \"showlegend\": true, \"type\": \"scatter\", \"x\": [2015, 2017, 2018, 2019], \"xaxis\": \"x\", \"y\": [14952600, 16855000, 25387400, 22609200], \"yaxis\": \"y\"}, {\"hoverlabel\": {\"namelength\": 0}, \"hovertemplate\": \"Budget_fund=Capital Only<br>Fiscal_year=%{x}<br>Total_Amount_Awarded=%{y}\", \"legendgroup\": \"Capital Only\", \"line\": {\"color\": \"#EF553B\", \"dash\": \"solid\"}, \"mode\": \"lines\", \"name\": \"Capital Only\", \"showlegend\": true, \"type\": \"scatter\", \"x\": [1999, 2000, 2001, 2002, 2003, 2004, 2005, 2006, 2007, 2008, 2009, 2010, 2011, 2012, 2013, 2014], \"xaxis\": \"x\", \"y\": [8007700, 12076380, 15335000, 17904200, 21776700, 18284300, 19989700, 18479300, 22623700, 24738400, 22183100, 23742300, 61356800, 24427500, 17638900, 18185500], \"yaxis\": \"y\"}, {\"hoverlabel\": {\"namelength\": 0}, \"hovertemplate\": \"Budget_fund=Collective Impact<br>Fiscal_year=%{x}<br>Total_Amount_Awarded=%{y}\", \"legendgroup\": \"Collective Impact\", \"line\": {\"color\": \"#00cc96\", \"dash\": \"solid\"}, \"mode\": \"lines\", \"name\": \"Collective Impact\", \"showlegend\": true, \"type\": \"scatter\", \"x\": [2015, 2016, 2017], \"xaxis\": \"x\", \"y\": [396500, 1657500, 4729800], \"yaxis\": \"y\"}, {\"hoverlabel\": {\"namelength\": 0}, \"hovertemplate\": \"Budget_fund=Community Building Fund<br>Fiscal_year=%{x}<br>Total_Amount_Awarded=%{y}\", \"legendgroup\": \"Community Building Fund\", \"line\": {\"color\": \"#ab63fa\", \"dash\": \"solid\"}, \"mode\": \"lines\", \"name\": \"Community Building Fund\", \"showlegend\": true, \"type\": \"scatter\", \"x\": [2021], \"xaxis\": \"x\", \"y\": [46019300], \"yaxis\": \"y\"}, {\"hoverlabel\": {\"namelength\": 0}, \"hovertemplate\": \"Budget_fund=Grow<br>Fiscal_year=%{x}<br>Total_Amount_Awarded=%{y}\", \"legendgroup\": \"Grow\", \"line\": {\"color\": \"#FFA15A\", \"dash\": \"solid\"}, \"mode\": \"lines\", \"name\": \"Grow\", \"showlegend\": true, \"type\": \"scatter\", \"x\": [2015, 2016, 2017, 2018, 2019], \"xaxis\": \"x\", \"y\": [73217800, 62336200, 49561800, 57959900, 67734500], \"yaxis\": \"y\"}, {\"hoverlabel\": {\"namelength\": 0}, \"hovertemplate\": \"Budget_fund=Ontario150<br>Fiscal_year=%{x}<br>Total_Amount_Awarded=%{y}\", \"legendgroup\": \"Ontario150\", \"line\": {\"color\": \"#19d3f3\", \"dash\": \"solid\"}, \"mode\": \"lines\", \"name\": \"Ontario150\", \"showlegend\": true, \"type\": \"scatter\", \"x\": [2016], \"xaxis\": \"x\", \"y\": [22870400], \"yaxis\": \"y\"}, {\"hoverlabel\": {\"namelength\": 0}, \"hovertemplate\": \"Budget_fund=Project Only<br>Fiscal_year=%{x}<br>Total_Amount_Awarded=%{y}\", \"legendgroup\": \"Project Only\", \"line\": {\"color\": \"#FF6692\", \"dash\": \"solid\"}, \"mode\": \"lines\", \"name\": \"Project Only\", \"showlegend\": true, \"type\": \"scatter\", \"x\": [1999, 2000, 2001, 2002, 2003, 2004, 2005, 2006, 2007, 2008, 2009, 2010, 2011, 2012, 2013, 2014], \"xaxis\": \"x\", \"y\": [60337500, 73454041, 75325400, 61333700, 54510300, 56497400, 56075400, 65134800, 62159800, 61145600, 62674500, 45023300, 48402900, 48655900, 45782300, 43399900], \"yaxis\": \"y\"}, {\"hoverlabel\": {\"namelength\": 0}, \"hovertemplate\": \"Budget_fund=Project and Capital<br>Fiscal_year=%{x}<br>Total_Amount_Awarded=%{y}\", \"legendgroup\": \"Project and Capital\", \"line\": {\"color\": \"#B6E880\", \"dash\": \"solid\"}, \"mode\": \"lines\", \"name\": \"Project and Capital\", \"showlegend\": true, \"type\": \"scatter\", \"x\": [1999, 2000, 2001, 2002, 2003, 2004, 2005, 2006, 2007, 2008, 2009, 2010, 2011, 2012, 2013, 2014], \"xaxis\": \"x\", \"y\": [12156800, 13443500, 14003600, 18289000, 20394200, 19565100, 18903000, 12148300, 15522600, 18712300, 23670700, 42970300, 41308700, 43558500, 42603100, 42214600], \"yaxis\": \"y\"}, {\"hoverlabel\": {\"namelength\": 0}, \"hovertemplate\": \"Budget_fund=Provincial Impact<br>Fiscal_year=%{x}<br>Total_Amount_Awarded=%{y}\", \"legendgroup\": \"Provincial Impact\", \"line\": {\"color\": \"#FF97FF\", \"dash\": \"solid\"}, \"mode\": \"lines\", \"name\": \"Provincial Impact\", \"showlegend\": true, \"type\": \"scatter\", \"x\": [2017], \"xaxis\": \"x\", \"y\": [17038300], \"yaxis\": \"y\"}, {\"hoverlabel\": {\"namelength\": 0}, \"hovertemplate\": \"Budget_fund=Resilient Communities Fund<br>Fiscal_year=%{x}<br>Total_Amount_Awarded=%{y}\", \"legendgroup\": \"Resilient Communities Fund\", \"line\": {\"color\": \"#FECB52\", \"dash\": \"solid\"}, \"mode\": \"lines\", \"name\": \"Resilient Communities Fund\", \"showlegend\": true, \"type\": \"scatter\", \"x\": [2020], \"xaxis\": \"x\", \"y\": [83132000], \"yaxis\": \"y\"}, {\"hoverlabel\": {\"namelength\": 0}, \"hovertemplate\": \"Budget_fund=Seed<br>Fiscal_year=%{x}<br>Total_Amount_Awarded=%{y}\", \"legendgroup\": \"Seed\", \"line\": {\"color\": \"#636efa\", \"dash\": \"solid\"}, \"mode\": \"lines\", \"name\": \"Seed\", \"showlegend\": true, \"type\": \"scatter\", \"x\": [2015, 2016, 2017, 2018, 2019, 2020], \"xaxis\": \"x\", \"y\": [13250600, 13914900, 11406300, 10713300, 11458100, 11223000], \"yaxis\": \"y\"}, {\"hoverlabel\": {\"namelength\": 0}, \"hovertemplate\": \"Budget_fund=YOF<br>Fiscal_year=%{x}<br>Total_Amount_Awarded=%{y}\", \"legendgroup\": \"YOF\", \"line\": {\"color\": \"#EF553B\", \"dash\": \"solid\"}, \"mode\": \"lines\", \"name\": \"YOF\", \"showlegend\": true, \"type\": \"scatter\", \"x\": [2013, 2014, 2015, 2016, 2017, 2018, 2019, 2020], \"xaxis\": \"x\", \"y\": [4950000, 4517000, 7751500, 12000900, 12147100, 14087500, 13223100, 13644400], \"yaxis\": \"y\"}],\n",
       "                        {\"legend\": {\"title\": {\"text\": \"Budget_fund\"}, \"tracegroupgap\": 0}, \"margin\": {\"t\": 60}, \"template\": {\"data\": {\"bar\": [{\"error_x\": {\"color\": \"#2a3f5f\"}, \"error_y\": {\"color\": \"#2a3f5f\"}, \"marker\": {\"line\": {\"color\": \"#E5ECF6\", \"width\": 0.5}}, \"type\": \"bar\"}], \"barpolar\": [{\"marker\": {\"line\": {\"color\": \"#E5ECF6\", \"width\": 0.5}}, \"type\": \"barpolar\"}], \"carpet\": [{\"aaxis\": {\"endlinecolor\": \"#2a3f5f\", \"gridcolor\": \"white\", \"linecolor\": \"white\", \"minorgridcolor\": \"white\", \"startlinecolor\": \"#2a3f5f\"}, \"baxis\": {\"endlinecolor\": \"#2a3f5f\", \"gridcolor\": \"white\", \"linecolor\": \"white\", \"minorgridcolor\": \"white\", \"startlinecolor\": \"#2a3f5f\"}, \"type\": \"carpet\"}], \"choropleth\": [{\"colorbar\": {\"outlinewidth\": 0, \"ticks\": \"\"}, \"type\": \"choropleth\"}], \"contour\": [{\"colorbar\": {\"outlinewidth\": 0, \"ticks\": \"\"}, \"colorscale\": [[0.0, \"#0d0887\"], [0.1111111111111111, \"#46039f\"], [0.2222222222222222, \"#7201a8\"], [0.3333333333333333, \"#9c179e\"], [0.4444444444444444, \"#bd3786\"], [0.5555555555555556, \"#d8576b\"], [0.6666666666666666, \"#ed7953\"], [0.7777777777777778, \"#fb9f3a\"], [0.8888888888888888, \"#fdca26\"], [1.0, \"#f0f921\"]], \"type\": \"contour\"}], \"contourcarpet\": [{\"colorbar\": {\"outlinewidth\": 0, \"ticks\": \"\"}, \"type\": \"contourcarpet\"}], \"heatmap\": [{\"colorbar\": {\"outlinewidth\": 0, \"ticks\": \"\"}, \"colorscale\": [[0.0, \"#0d0887\"], [0.1111111111111111, \"#46039f\"], [0.2222222222222222, \"#7201a8\"], [0.3333333333333333, \"#9c179e\"], [0.4444444444444444, \"#bd3786\"], [0.5555555555555556, \"#d8576b\"], [0.6666666666666666, \"#ed7953\"], [0.7777777777777778, \"#fb9f3a\"], [0.8888888888888888, \"#fdca26\"], [1.0, \"#f0f921\"]], \"type\": \"heatmap\"}], \"heatmapgl\": [{\"colorbar\": {\"outlinewidth\": 0, \"ticks\": \"\"}, \"colorscale\": [[0.0, \"#0d0887\"], [0.1111111111111111, \"#46039f\"], [0.2222222222222222, \"#7201a8\"], [0.3333333333333333, \"#9c179e\"], [0.4444444444444444, \"#bd3786\"], [0.5555555555555556, \"#d8576b\"], [0.6666666666666666, \"#ed7953\"], [0.7777777777777778, \"#fb9f3a\"], [0.8888888888888888, \"#fdca26\"], [1.0, \"#f0f921\"]], \"type\": \"heatmapgl\"}], \"histogram\": [{\"marker\": {\"colorbar\": {\"outlinewidth\": 0, \"ticks\": \"\"}}, \"type\": \"histogram\"}], \"histogram2d\": [{\"colorbar\": {\"outlinewidth\": 0, \"ticks\": \"\"}, \"colorscale\": [[0.0, \"#0d0887\"], [0.1111111111111111, \"#46039f\"], [0.2222222222222222, \"#7201a8\"], [0.3333333333333333, \"#9c179e\"], [0.4444444444444444, \"#bd3786\"], [0.5555555555555556, \"#d8576b\"], [0.6666666666666666, \"#ed7953\"], [0.7777777777777778, \"#fb9f3a\"], [0.8888888888888888, \"#fdca26\"], [1.0, \"#f0f921\"]], \"type\": \"histogram2d\"}], \"histogram2dcontour\": [{\"colorbar\": {\"outlinewidth\": 0, \"ticks\": \"\"}, \"colorscale\": [[0.0, \"#0d0887\"], [0.1111111111111111, \"#46039f\"], [0.2222222222222222, \"#7201a8\"], [0.3333333333333333, \"#9c179e\"], [0.4444444444444444, \"#bd3786\"], [0.5555555555555556, \"#d8576b\"], [0.6666666666666666, \"#ed7953\"], [0.7777777777777778, \"#fb9f3a\"], [0.8888888888888888, \"#fdca26\"], [1.0, \"#f0f921\"]], \"type\": \"histogram2dcontour\"}], \"mesh3d\": [{\"colorbar\": {\"outlinewidth\": 0, \"ticks\": \"\"}, \"type\": \"mesh3d\"}], \"parcoords\": [{\"line\": {\"colorbar\": {\"outlinewidth\": 0, \"ticks\": \"\"}}, \"type\": \"parcoords\"}], \"pie\": [{\"automargin\": true, \"type\": \"pie\"}], \"scatter\": [{\"marker\": {\"colorbar\": {\"outlinewidth\": 0, \"ticks\": \"\"}}, \"type\": \"scatter\"}], \"scatter3d\": [{\"line\": {\"colorbar\": {\"outlinewidth\": 0, \"ticks\": \"\"}}, \"marker\": {\"colorbar\": {\"outlinewidth\": 0, \"ticks\": \"\"}}, \"type\": \"scatter3d\"}], \"scattercarpet\": [{\"marker\": {\"colorbar\": {\"outlinewidth\": 0, \"ticks\": \"\"}}, \"type\": \"scattercarpet\"}], \"scattergeo\": [{\"marker\": {\"colorbar\": {\"outlinewidth\": 0, \"ticks\": \"\"}}, \"type\": \"scattergeo\"}], \"scattergl\": [{\"marker\": {\"colorbar\": {\"outlinewidth\": 0, \"ticks\": \"\"}}, \"type\": \"scattergl\"}], \"scattermapbox\": [{\"marker\": {\"colorbar\": {\"outlinewidth\": 0, \"ticks\": \"\"}}, \"type\": \"scattermapbox\"}], \"scatterpolar\": [{\"marker\": {\"colorbar\": {\"outlinewidth\": 0, \"ticks\": \"\"}}, \"type\": \"scatterpolar\"}], \"scatterpolargl\": [{\"marker\": {\"colorbar\": {\"outlinewidth\": 0, \"ticks\": \"\"}}, \"type\": \"scatterpolargl\"}], \"scatterternary\": [{\"marker\": {\"colorbar\": {\"outlinewidth\": 0, \"ticks\": \"\"}}, \"type\": \"scatterternary\"}], \"surface\": [{\"colorbar\": {\"outlinewidth\": 0, \"ticks\": \"\"}, \"colorscale\": [[0.0, \"#0d0887\"], [0.1111111111111111, \"#46039f\"], [0.2222222222222222, \"#7201a8\"], [0.3333333333333333, \"#9c179e\"], [0.4444444444444444, \"#bd3786\"], [0.5555555555555556, \"#d8576b\"], [0.6666666666666666, \"#ed7953\"], [0.7777777777777778, \"#fb9f3a\"], [0.8888888888888888, \"#fdca26\"], [1.0, \"#f0f921\"]], \"type\": \"surface\"}], \"table\": [{\"cells\": {\"fill\": {\"color\": \"#EBF0F8\"}, \"line\": {\"color\": \"white\"}}, \"header\": {\"fill\": {\"color\": \"#C8D4E3\"}, \"line\": {\"color\": \"white\"}}, \"type\": \"table\"}]}, \"layout\": {\"annotationdefaults\": {\"arrowcolor\": \"#2a3f5f\", \"arrowhead\": 0, \"arrowwidth\": 1}, \"coloraxis\": {\"colorbar\": {\"outlinewidth\": 0, \"ticks\": \"\"}}, \"colorscale\": {\"diverging\": [[0, \"#8e0152\"], [0.1, \"#c51b7d\"], [0.2, \"#de77ae\"], [0.3, \"#f1b6da\"], [0.4, \"#fde0ef\"], [0.5, \"#f7f7f7\"], [0.6, \"#e6f5d0\"], [0.7, \"#b8e186\"], [0.8, \"#7fbc41\"], [0.9, \"#4d9221\"], [1, \"#276419\"]], \"sequential\": [[0.0, \"#0d0887\"], [0.1111111111111111, \"#46039f\"], [0.2222222222222222, \"#7201a8\"], [0.3333333333333333, \"#9c179e\"], [0.4444444444444444, \"#bd3786\"], [0.5555555555555556, \"#d8576b\"], [0.6666666666666666, \"#ed7953\"], [0.7777777777777778, \"#fb9f3a\"], [0.8888888888888888, \"#fdca26\"], [1.0, \"#f0f921\"]], \"sequentialminus\": [[0.0, \"#0d0887\"], [0.1111111111111111, \"#46039f\"], [0.2222222222222222, \"#7201a8\"], [0.3333333333333333, \"#9c179e\"], [0.4444444444444444, \"#bd3786\"], [0.5555555555555556, \"#d8576b\"], [0.6666666666666666, \"#ed7953\"], [0.7777777777777778, \"#fb9f3a\"], [0.8888888888888888, \"#fdca26\"], [1.0, \"#f0f921\"]]}, \"colorway\": [\"#636efa\", \"#EF553B\", \"#00cc96\", \"#ab63fa\", \"#FFA15A\", \"#19d3f3\", \"#FF6692\", \"#B6E880\", \"#FF97FF\", \"#FECB52\"], \"font\": {\"color\": \"#2a3f5f\"}, \"geo\": {\"bgcolor\": \"white\", \"lakecolor\": \"white\", \"landcolor\": \"#E5ECF6\", \"showlakes\": true, \"showland\": true, \"subunitcolor\": \"white\"}, \"hoverlabel\": {\"align\": \"left\"}, \"hovermode\": \"closest\", \"mapbox\": {\"style\": \"light\"}, \"paper_bgcolor\": \"white\", \"plot_bgcolor\": \"#E5ECF6\", \"polar\": {\"angularaxis\": {\"gridcolor\": \"white\", \"linecolor\": \"white\", \"ticks\": \"\"}, \"bgcolor\": \"#E5ECF6\", \"radialaxis\": {\"gridcolor\": \"white\", \"linecolor\": \"white\", \"ticks\": \"\"}}, \"scene\": {\"xaxis\": {\"backgroundcolor\": \"#E5ECF6\", \"gridcolor\": \"white\", \"gridwidth\": 2, \"linecolor\": \"white\", \"showbackground\": true, \"ticks\": \"\", \"zerolinecolor\": \"white\"}, \"yaxis\": {\"backgroundcolor\": \"#E5ECF6\", \"gridcolor\": \"white\", \"gridwidth\": 2, \"linecolor\": \"white\", \"showbackground\": true, \"ticks\": \"\", \"zerolinecolor\": \"white\"}, \"zaxis\": {\"backgroundcolor\": \"#E5ECF6\", \"gridcolor\": \"white\", \"gridwidth\": 2, \"linecolor\": \"white\", \"showbackground\": true, \"ticks\": \"\", \"zerolinecolor\": \"white\"}}, \"shapedefaults\": {\"line\": {\"color\": \"#2a3f5f\"}}, \"ternary\": {\"aaxis\": {\"gridcolor\": \"white\", \"linecolor\": \"white\", \"ticks\": \"\"}, \"baxis\": {\"gridcolor\": \"white\", \"linecolor\": \"white\", \"ticks\": \"\"}, \"bgcolor\": \"#E5ECF6\", \"caxis\": {\"gridcolor\": \"white\", \"linecolor\": \"white\", \"ticks\": \"\"}}, \"title\": {\"x\": 0.05}, \"xaxis\": {\"automargin\": true, \"gridcolor\": \"white\", \"linecolor\": \"white\", \"ticks\": \"\", \"title\": {\"standoff\": 15}, \"zerolinecolor\": \"white\", \"zerolinewidth\": 2}, \"yaxis\": {\"automargin\": true, \"gridcolor\": \"white\", \"linecolor\": \"white\", \"ticks\": \"\", \"title\": {\"standoff\": 15}, \"zerolinecolor\": \"white\", \"zerolinewidth\": 2}}}, \"xaxis\": {\"anchor\": \"y\", \"domain\": [0.0, 1.0], \"title\": {\"text\": \"Fiscal_year\"}}, \"yaxis\": {\"anchor\": \"x\", \"domain\": [0.0, 1.0], \"title\": {\"text\": \"Total_Amount_Awarded\"}}},\n",
       "                        {\"responsive\": true}\n",
       "                    ).then(function(){\n",
       "                            \n",
       "var gd = document.getElementById('e856c73b-9669-416a-a619-50a8405b1b47');\n",
       "var x = new MutationObserver(function (mutations, observer) {{\n",
       "        var display = window.getComputedStyle(gd).display;\n",
       "        if (!display || display === 'none') {{\n",
       "            console.log([gd, 'removed!']);\n",
       "            Plotly.purge(gd);\n",
       "            observer.disconnect();\n",
       "        }}\n",
       "}});\n",
       "\n",
       "// Listen for the removal of the full notebook cells\n",
       "var notebookContainer = gd.closest('#notebook-container');\n",
       "if (notebookContainer) {{\n",
       "    x.observe(notebookContainer, {childList: true});\n",
       "}}\n",
       "\n",
       "// Listen for the clearing of the current output cell\n",
       "var outputEl = gd.closest('.output');\n",
       "if (outputEl) {{\n",
       "    x.observe(outputEl, {childList: true});\n",
       "}}\n",
       "\n",
       "                        })\n",
       "                };\n",
       "                });\n",
       "            </script>\n",
       "        </div>"
      ]
     },
     "metadata": {},
     "output_type": "display_data"
    }
   ],
   "source": [
    "fig = px.line(df_total_grants_agg, x='Fiscal_year', y='Total_Amount_Awarded', color='Budget_fund')\n",
    "fig.show()\n",
    "\n",
    "#fig = px.bar(df_total_grants_agg, x=\"Fiscal_year\", y=\"Total_Amount_Awarded\", color='Budget_fund',\n",
    "#             height=400)"
   ]
  },
  {
   "cell_type": "code",
   "execution_count": null,
   "metadata": {},
   "outputs": [],
   "source": [
    "df[\"cluster\"].unique()"
   ]
  },
  {
   "cell_type": "code",
   "execution_count": 118,
   "metadata": {},
   "outputs": [
    {
     "data": {
      "text/plain": [
       "['Active People',\n",
       " 'Arts and Culture',\n",
       " 'Arts_update',\n",
       " 'Connected People',\n",
       " 'Culture',\n",
       " 'Environment',\n",
       " 'Green People',\n",
       " 'Heritage',\n",
       " 'Human and Social Services',\n",
       " 'Inspired People',\n",
       " 'Other',\n",
       " 'Promising Young People',\n",
       " 'Prosperous People',\n",
       " 'Recreation',\n",
       " 'Sport',\n",
       " 'Sports and Recreation',\n",
       " 'Tourism',\n",
       " 'nan']"
      ]
     },
     "execution_count": 118,
     "metadata": {},
     "output_type": "execute_result"
    }
   ],
   "source": [
    "program_area_info = df['Program_area_update'].unique()\n",
    "program_area_info = program_area_info.astype('str')\n",
    "program_area_info = program_area_info.tolist()\n",
    "program_area_info.sort()\n",
    "program_area_info "
   ]
  },
  {
   "cell_type": "code",
   "execution_count": 125,
   "metadata": {},
   "outputs": [
    {
     "data": {
      "text/html": [
       "<div>\n",
       "<style scoped>\n",
       "    .dataframe tbody tr th:only-of-type {\n",
       "        vertical-align: middle;\n",
       "    }\n",
       "\n",
       "    .dataframe tbody tr th {\n",
       "        vertical-align: top;\n",
       "    }\n",
       "\n",
       "    .dataframe thead th {\n",
       "        text-align: right;\n",
       "    }\n",
       "</style>\n",
       "<table border=\"1\" class=\"dataframe\">\n",
       "  <thead>\n",
       "    <tr style=\"text-align: right;\">\n",
       "      <th></th>\n",
       "      <th>Funding_org</th>\n",
       "      <th>Country_served</th>\n",
       "      <th>Province_served</th>\n",
       "      <th>Geographical_area_served</th>\n",
       "      <th>Cross_catchment_indicator</th>\n",
       "      <th>Identifier</th>\n",
       "      <th>Organization_name</th>\n",
       "      <th>Submission_date</th>\n",
       "      <th>Approval_date</th>\n",
       "      <th>Amount_applied_for</th>\n",
       "      <th>...</th>\n",
       "      <th>Grant_program</th>\n",
       "      <th>Age_group</th>\n",
       "      <th>Recipient_org_city</th>\n",
       "      <th>Budget_fund</th>\n",
       "      <th>Program_area</th>\n",
       "      <th>Fiscal_year_update</th>\n",
       "      <th>Age_group_update</th>\n",
       "      <th>Recipient_org_city_update</th>\n",
       "      <th>Budget_fund_update</th>\n",
       "      <th>Program_area_update</th>\n",
       "    </tr>\n",
       "  </thead>\n",
       "  <tbody>\n",
       "    <tr>\n",
       "      <th>3302</th>\n",
       "      <td>Ontario Trillium Foundation</td>\n",
       "      <td>Canada</td>\n",
       "      <td>Ontario</td>\n",
       "      <td>Toronto</td>\n",
       "      <td>NaN</td>\n",
       "      <td>485828CP101764</td>\n",
       "      <td>Ontario Volleyball Association</td>\n",
       "      <td>10/25/2017</td>\n",
       "      <td>3/1/2018</td>\n",
       "      <td>150000</td>\n",
       "      <td>...</td>\n",
       "      <td>Community Investments</td>\n",
       "      <td>Adults (25-64)</td>\n",
       "      <td>Toronto</td>\n",
       "      <td>CI - Capital</td>\n",
       "      <td>Active People</td>\n",
       "      <td>2017</td>\n",
       "      <td>Adults</td>\n",
       "      <td>TORONTO</td>\n",
       "      <td>Capital</td>\n",
       "      <td>Active People</td>\n",
       "    </tr>\n",
       "  </tbody>\n",
       "</table>\n",
       "<p>1 rows × 35 columns</p>\n",
       "</div>"
      ],
      "text/plain": [
       "                      Funding_org Country_served Province_served  \\\n",
       "3302  Ontario Trillium Foundation         Canada         Ontario   \n",
       "\n",
       "     Geographical_area_served Cross_catchment_indicator      Identifier  \\\n",
       "3302                  Toronto                       NaN  485828CP101764   \n",
       "\n",
       "                   Organization_name Submission_date Approval_date  \\\n",
       "3302  Ontario Volleyball Association      10/25/2017      3/1/2018   \n",
       "\n",
       "      Amount_applied_for  ...          Grant_program       Age_group  \\\n",
       "3302              150000  ...  Community Investments  Adults (25-64)   \n",
       "\n",
       "     Recipient_org_city   Budget_fund   Program_area Fiscal_year_update  \\\n",
       "3302            Toronto  CI - Capital  Active People               2017   \n",
       "\n",
       "     Age_group_update Recipient_org_city_update Budget_fund_update  \\\n",
       "3302           Adults                   TORONTO            Capital   \n",
       "\n",
       "     Program_area_update  \n",
       "3302       Active People  \n",
       "\n",
       "[1 rows x 35 columns]"
      ]
     },
     "execution_count": 125,
     "metadata": {},
     "output_type": "execute_result"
    }
   ],
   "source": [
    "temp = df[(df['Program_area_update'] =='Active People') & \n",
    "              (df['Recipient_org_city_update'] =='TORONTO') & \n",
    "              (df['Age_group_update'] == 'Adults') & \n",
    "              (df['Budget_fund_update'] =='Capital')]\n",
    "temp "
   ]
  },
  {
   "cell_type": "code",
   "execution_count": 126,
   "metadata": {},
   "outputs": [
    {
     "data": {
      "text/plain": [
       "0    Our organization, with a $50,000 Community Bui...\n",
       "1    Our organization, with a $50,000 Community Bui...\n",
       "2    Our organization, with a $249,600 Community Bu...\n",
       "3    Our organization, with a $50,000 Community Bui...\n",
       "Name: English_description, dtype: object"
      ]
     },
     "execution_count": 126,
     "metadata": {},
     "output_type": "execute_result"
    }
   ],
   "source": [
    "df['English_description'].head(4)"
   ]
  },
  {
   "cell_type": "code",
   "execution_count": 127,
   "metadata": {},
   "outputs": [],
   "source": [
    "import requests\n",
    "import json"
   ]
  },
  {
   "cell_type": "code",
   "execution_count": 130,
   "metadata": {},
   "outputs": [],
   "source": [
    "description = df['English_description'].head(20).tolist()"
   ]
  },
  {
   "cell_type": "code",
   "execution_count": 129,
   "metadata": {},
   "outputs": [],
   "source": [
    "API_KEY = '81RXRBBjPDUaGDuCrC38.ZNGC6q7LmLhtoIiPwTiT'"
   ]
  },
  {
   "cell_type": "code",
   "execution_count": null,
   "metadata": {},
   "outputs": [],
   "source": []
  },
  {
   "cell_type": "code",
   "execution_count": null,
   "metadata": {},
   "outputs": [],
   "source": [
    "def writeTempFile(text = None):\n",
    "    filePath = \"/temp/file1.txt\"\n",
    "    if not text:                      # If not provided return file content\n",
    "        f = open(filePath, \"r\")\n",
    "        slug = f.read()\n",
    "        return slug\n",
    "    else:\n",
    "        f = open(filePath, \"a\") # Create a blank file\n",
    "        f.seek(0)  # sets  point at the beginning of the file\n",
    "        f.truncate()  # Clear previous content\n",
    "        f.write(text) # Write file\n",
    "        f.close() # Close file\n",
    "        return text"
   ]
  },
  {
   "cell_type": "code",
   "execution_count": null,
   "metadata": {},
   "outputs": [],
   "source": [
    "open(\"filename\", \"w\").close()\n",
    "\n",
    "file = open('filename.txt', 'w')\n",
    "file.close()"
   ]
  },
  {
   "cell_type": "code",
   "execution_count": 2,
   "metadata": {},
   "outputs": [
    {
     "name": "stdout",
     "output_type": "stream",
     "text": [
      "Requirement already satisfied: modzy-sdk==0.5.5 in /opt/anaconda3/lib/python3.7/site-packages (0.5.5)\n",
      "Requirement already satisfied: requests in /opt/anaconda3/lib/python3.7/site-packages (from modzy-sdk==0.5.5) (2.22.0)\n",
      "Requirement already satisfied: python-dotenv in /opt/anaconda3/lib/python3.7/site-packages (from modzy-sdk==0.5.5) (0.19.1)\n",
      "Requirement already satisfied: idna<2.9,>=2.5 in /opt/anaconda3/lib/python3.7/site-packages (from requests->modzy-sdk==0.5.5) (2.8)\n",
      "Requirement already satisfied: certifi>=2017.4.17 in /opt/anaconda3/lib/python3.7/site-packages (from requests->modzy-sdk==0.5.5) (2019.9.11)\n",
      "Requirement already satisfied: urllib3!=1.25.0,!=1.25.1,<1.26,>=1.21.1 in /opt/anaconda3/lib/python3.7/site-packages (from requests->modzy-sdk==0.5.5) (1.24.2)\n",
      "Requirement already satisfied: chardet<3.1.0,>=3.0.2 in /opt/anaconda3/lib/python3.7/site-packages (from requests->modzy-sdk==0.5.5) (3.0.4)\n"
     ]
    }
   ],
   "source": [
    "!pip install modzy-sdk==0.5.5"
   ]
  },
  {
   "cell_type": "code",
   "execution_count": 3,
   "metadata": {},
   "outputs": [
    {
     "ename": "SyntaxError",
     "evalue": "invalid syntax (_util.py, line 54)",
     "output_type": "error",
     "traceback": [
      "Traceback \u001b[0;36m(most recent call last)\u001b[0m:\n",
      "  File \u001b[1;32m\"/opt/anaconda3/lib/python3.7/site-packages/IPython/core/interactiveshell.py\"\u001b[0m, line \u001b[1;32m3326\u001b[0m, in \u001b[1;35mrun_code\u001b[0m\n    exec(code_obj, self.user_global_ns, self.user_ns)\n",
      "  File \u001b[1;32m\"<ipython-input-3-1fdfc057781b>\"\u001b[0m, line \u001b[1;32m1\u001b[0m, in \u001b[1;35m<module>\u001b[0m\n    from modzy import ApiClient, error\n",
      "  File \u001b[1;32m\"/opt/anaconda3/lib/python3.7/site-packages/modzy/__init__.py\"\u001b[0m, line \u001b[1;32m6\u001b[0m, in \u001b[1;35m<module>\u001b[0m\n    from .client import ApiClient  # noqa\n",
      "  File \u001b[1;32m\"/opt/anaconda3/lib/python3.7/site-packages/modzy/client.py\"\u001b[0m, line \u001b[1;32m5\u001b[0m, in \u001b[1;35m<module>\u001b[0m\n    from .jobs import Jobs\n",
      "\u001b[0;36m  File \u001b[0;32m\"/opt/anaconda3/lib/python3.7/site-packages/modzy/jobs.py\"\u001b[0;36m, line \u001b[0;32m11\u001b[0;36m, in \u001b[0;35m<module>\u001b[0;36m\u001b[0m\n\u001b[0;31m    from ._util import encode_data_uri, file_to_bytes, file_to_chunks, bytes_to_chunks\u001b[0m\n",
      "\u001b[0;36m  File \u001b[0;32m\"/opt/anaconda3/lib/python3.7/site-packages/modzy/_util.py\"\u001b[0;36m, line \u001b[0;32m54\u001b[0m\n\u001b[0;31m    while chunk := file.read(chunk_size):\u001b[0m\n\u001b[0m                 ^\u001b[0m\n\u001b[0;31mSyntaxError\u001b[0m\u001b[0;31m:\u001b[0m invalid syntax\n"
     ]
    }
   ],
   "source": [
    "\n",
    "from modzy import ApiClient, error\n",
    "from utils import display_rle_mask"
   ]
  },
  {
   "cell_type": "code",
   "execution_count": 9,
   "metadata": {},
   "outputs": [
    {
     "ename": "SyntaxError",
     "evalue": "invalid syntax (_util.py, line 54)",
     "output_type": "error",
     "traceback": [
      "Traceback \u001b[0;36m(most recent call last)\u001b[0m:\n",
      "  File \u001b[1;32m\"/opt/anaconda3/lib/python3.7/site-packages/IPython/core/interactiveshell.py\"\u001b[0m, line \u001b[1;32m3326\u001b[0m, in \u001b[1;35mrun_code\u001b[0m\n    exec(code_obj, self.user_global_ns, self.user_ns)\n",
      "  File \u001b[1;32m\"<ipython-input-9-303e12c7d525>\"\u001b[0m, line \u001b[1;32m1\u001b[0m, in \u001b[1;35m<module>\u001b[0m\n    from modzy import ApiClient\n",
      "  File \u001b[1;32m\"/opt/anaconda3/lib/python3.7/site-packages/modzy/__init__.py\"\u001b[0m, line \u001b[1;32m6\u001b[0m, in \u001b[1;35m<module>\u001b[0m\n    from .client import ApiClient  # noqa\n",
      "  File \u001b[1;32m\"/opt/anaconda3/lib/python3.7/site-packages/modzy/client.py\"\u001b[0m, line \u001b[1;32m5\u001b[0m, in \u001b[1;35m<module>\u001b[0m\n    from .jobs import Jobs\n",
      "\u001b[0;36m  File \u001b[0;32m\"/opt/anaconda3/lib/python3.7/site-packages/modzy/jobs.py\"\u001b[0;36m, line \u001b[0;32m11\u001b[0;36m, in \u001b[0;35m<module>\u001b[0;36m\u001b[0m\n\u001b[0;31m    from ._util import encode_data_uri, depth, file_to_chunks, bytes_to_chunks\u001b[0m\n",
      "\u001b[0;36m  File \u001b[0;32m\"/opt/anaconda3/lib/python3.7/site-packages/modzy/_util.py\"\u001b[0;36m, line \u001b[0;32m54\u001b[0m\n\u001b[0;31m    while chunk := file.read(chunk_size):\u001b[0m\n\u001b[0m                 ^\u001b[0m\n\u001b[0;31mSyntaxError\u001b[0m\u001b[0;31m:\u001b[0m invalid syntax\n"
     ]
    }
   ],
   "source": [
    "from modzy import ApiClient\n",
    "client = ApiClient(base_url=app.config['API_URL'], api_key=app.config['API_KEY'])"
   ]
  },
  {
   "cell_type": "code",
   "execution_count": null,
   "metadata": {},
   "outputs": [],
   "source": [
    "import json, datetime, requests\n",
    "\n",
    "# Query model by name\n",
    "# the url we will use for authentication\n",
    "'''\n",
    "Example: If you're using \"https://app.modzy.com\", the URL here would be \"https://app.modzy.com/api\"\n",
    "'''\n",
    "API_URL = \"https://app.modzy.com/api\"\n",
    "# the api key we will be using for authentication -- make sure to paste in your personal API access key below\n",
    "API_KEY = \"<your.api.key>\"\n",
    "\n",
    "if API_URL == \"https://<your.modzy.url>/api\":\n",
    "    raise Exception(\"Change the API_URL variable to your instance URL\")\n",
    "if API_KEY == \"<your.api.key>\":\n",
    "    raise Exception(\"Insert your API Key\")\n",
    "    \n",
    "# setup our API Client\n",
    "client = ApiClient(base_url=API_URL, api_key=API_KEY)\n",
    "\n",
    "\n",
    "\n",
    "\n",
    "\n",
    "def sentimentanalysis(input_text):\n",
    "    job = client.jobs.submit_text('ed542963de', '1.0.1', {'input.txt': input_text})\n",
    "    result = client.results.block_until_complete(job, timeout=None)\n",
    "    return (result['results']['job']['results.json']['data']['result'])"
   ]
  },
  {
   "cell_type": "code",
   "execution_count": 6,
   "metadata": {},
   "outputs": [],
   "source": [
    "fiscal_year_info = df['Fiscal_year_update'].unique()\n",
    "fiscal_year_info = fiscal_year_info.astype('int')\n",
    "fiscal_year_info = fiscal_year_info.tolist()\n",
    "fiscal_year_info.sort()"
   ]
  },
  {
   "cell_type": "code",
   "execution_count": 10,
   "metadata": {},
   "outputs": [],
   "source": [
    "output = [{\"class\":\"neutral\",\"score\":1},{\"class\":\"negative\",\"score\":0},{\"class\":\"positive\",\"score\":0}]"
   ]
  },
  {
   "cell_type": "code",
   "execution_count": 11,
   "metadata": {},
   "outputs": [
    {
     "data": {
      "text/plain": [
       "[{'class': 'neutral', 'score': 1},\n",
       " {'class': 'negative', 'score': 0},\n",
       " {'class': 'positive', 'score': 0}]"
      ]
     },
     "execution_count": 11,
     "metadata": {},
     "output_type": "execute_result"
    }
   ],
   "source": [
    "output"
   ]
  },
  {
   "cell_type": "code",
   "execution_count": 13,
   "metadata": {},
   "outputs": [],
   "source": [
    "english_info_df = df[['Organization_name','English_description']]"
   ]
  },
  {
   "cell_type": "code",
   "execution_count": 26,
   "metadata": {},
   "outputs": [],
   "source": [
    "english_info_df = english_info_df.groupby(['Organization_name', 'English_description']).first().reset_index()"
   ]
  },
  {
   "cell_type": "code",
   "execution_count": 27,
   "metadata": {},
   "outputs": [
    {
     "data": {
      "text/html": [
       "<div>\n",
       "<style scoped>\n",
       "    .dataframe tbody tr th:only-of-type {\n",
       "        vertical-align: middle;\n",
       "    }\n",
       "\n",
       "    .dataframe tbody tr th {\n",
       "        vertical-align: top;\n",
       "    }\n",
       "\n",
       "    .dataframe thead th {\n",
       "        text-align: right;\n",
       "    }\n",
       "</style>\n",
       "<table border=\"1\" class=\"dataframe\">\n",
       "  <thead>\n",
       "    <tr style=\"text-align: right;\">\n",
       "      <th></th>\n",
       "      <th>Organization_name</th>\n",
       "      <th>English_description</th>\n",
       "    </tr>\n",
       "  </thead>\n",
       "  <tbody>\n",
       "    <tr>\n",
       "      <th>0</th>\n",
       "      <td>Wildlife Conservation Society (WCS) Canada</td>\n",
       "      <td>Delivering a project at the idea or conceptual...</td>\n",
       "    </tr>\n",
       "    <tr>\n",
       "      <th>1</th>\n",
       "      <td>#11 Royal Canadian Army Cadet Corps</td>\n",
       "      <td>to improve the quality of camping equipment, t...</td>\n",
       "    </tr>\n",
       "    <tr>\n",
       "      <th>2</th>\n",
       "      <td>#41 Port Perry Royal Canadian Army Cadet Corps...</td>\n",
       "      <td>$75,000 over one year for uniforms and instrum...</td>\n",
       "    </tr>\n",
       "    <tr>\n",
       "      <th>3</th>\n",
       "      <td>#420 (City of Oshawa) WING RCAFA</td>\n",
       "      <td>Our organization, with a $29,200 Resilient Com...</td>\n",
       "    </tr>\n",
       "    <tr>\n",
       "      <th>4</th>\n",
       "      <td>#638 Algonquin Squadron</td>\n",
       "      <td>to purchase equipment enabling this youth orga...</td>\n",
       "    </tr>\n",
       "  </tbody>\n",
       "</table>\n",
       "</div>"
      ],
      "text/plain": [
       "                                   Organization_name  \\\n",
       "0         Wildlife Conservation Society (WCS) Canada   \n",
       "1                #11 Royal Canadian Army Cadet Corps   \n",
       "2  #41 Port Perry Royal Canadian Army Cadet Corps...   \n",
       "3                   #420 (City of Oshawa) WING RCAFA   \n",
       "4                            #638 Algonquin Squadron   \n",
       "\n",
       "                                 English_description  \n",
       "0  Delivering a project at the idea or conceptual...  \n",
       "1  to improve the quality of camping equipment, t...  \n",
       "2  $75,000 over one year for uniforms and instrum...  \n",
       "3  Our organization, with a $29,200 Resilient Com...  \n",
       "4  to purchase equipment enabling this youth orga...  "
      ]
     },
     "execution_count": 27,
     "metadata": {},
     "output_type": "execute_result"
    }
   ],
   "source": [
    "english_info_df.head()"
   ]
  },
  {
   "cell_type": "code",
   "execution_count": 32,
   "metadata": {},
   "outputs": [],
   "source": [
    "english_info_df.columns = ['Organization Name','English Description']"
   ]
  },
  {
   "cell_type": "code",
   "execution_count": 33,
   "metadata": {},
   "outputs": [
    {
     "data": {
      "text/plain": [
       "0        Delivering a project at the idea or conceptual...\n",
       "1        to improve the quality of camping equipment, t...\n",
       "2        $75,000 over one year for uniforms and instrum...\n",
       "3        Our organization, with a $29,200 Resilient Com...\n",
       "4        to purchase equipment enabling this youth orga...\n",
       "                               ...                        \n",
       "27931    $68,000 over two years for staff, expenses and...\n",
       "27932    to support the digitization of a collection of...\n",
       "27933    for the Families, Health, Balance Program. A c...\n",
       "27934    $52,700 over two years to implement in two loc...\n",
       "27935    $23,500 over one year to purchase kitchen equi...\n",
       "Name: English Description, Length: 27936, dtype: object"
      ]
     },
     "execution_count": 33,
     "metadata": {},
     "output_type": "execute_result"
    }
   ],
   "source": [
    "english_info_df['English Description']"
   ]
  },
  {
   "cell_type": "code",
   "execution_count": 34,
   "metadata": {},
   "outputs": [],
   "source": [
    "english_description_info = english_info_df['English Description']\n",
    "english_description_info = english_description_info.astype('str')\n",
    "english_description_info = english_description_info.tolist()"
   ]
  },
  {
   "cell_type": "code",
   "execution_count": 38,
   "metadata": {},
   "outputs": [
    {
     "ename": "AttributeError",
     "evalue": "'list' object has no attribute 'to_csv'",
     "output_type": "error",
     "traceback": [
      "\u001b[0;31m---------------------------------------------------------------------------\u001b[0m",
      "\u001b[0;31mAttributeError\u001b[0m                            Traceback (most recent call last)",
      "\u001b[0;32m<ipython-input-38-11e9359c7001>\u001b[0m in \u001b[0;36m<module>\u001b[0;34m\u001b[0m\n\u001b[0;32m----> 1\u001b[0;31m \u001b[0menglish_description_info\u001b[0m\u001b[0;34m.\u001b[0m\u001b[0mto_csv\u001b[0m\u001b[0;34m(\u001b[0m\u001b[0;34m\"test2.txt\"\u001b[0m\u001b[0;34m)\u001b[0m\u001b[0;34m\u001b[0m\u001b[0;34m\u001b[0m\u001b[0m\n\u001b[0m",
      "\u001b[0;31mAttributeError\u001b[0m: 'list' object has no attribute 'to_csv'"
     ]
    }
   ],
   "source": [
    "english_description_info.to_csv(\"test2.txt\")"
   ]
  },
  {
   "cell_type": "code",
   "execution_count": 39,
   "metadata": {},
   "outputs": [
    {
     "data": {
      "text/plain": [
       "['Delivering a project at the idea or conceptual stage with a $74,600 grant over 12 months to develop a pilot community-based monitoring program for the Kitchenuhmaykoosib Inninuwug (KI) Indigenous Protected and Conserved Area. Encouraging people to support a healthy and sustainable environment, this initiative is helping people participate in ecosystem conservation and restoration efforts, and has an impact on the lives of  1,711 people in the community.',\n",
       " 'to improve the quality of camping equipment, thereby enhancing the camping experiences and skills of the Cadet Corps in the Strathroy area. The funds will give youth a program that promotes confidence and leadership and improves their physical fitness.',\n",
       " '$75,000 over one year for uniforms and instruments for the #41 Port Perry Army Cadet Corps Pipes and Drums Band, which will increase opportunities for youth to benefit from a community-based music program.',\n",
       " 'Our organization, with a $29,200 Resilient Communities Fund grant over 12 months, will rebuild and recover from impacts of COVID-19 by purchasing portable equipment to improve safety and indoor traffic flow, installing a wheelchair ramp and creating a stronger online presence for members.\\nCensus Division of Impact: Regional Municipality of Durham',\n",
       " 'to purchase equipment enabling this youth organization located in Pembroke to provide year-round training in orienteering, expedition and survival skills to its cadet members.',\n",
       " '$22,500 over five months to support a feasibility study/ action plan for a community based day activity program for young adults (over 21) with developmental disabilities in Mississauga.',\n",
       " '$100,700 over three years to increase the capacity of at-risk neighbourhoods in Waterloo Region to offer local peer-based developmental programs for seniors and youth.',\n",
       " '$118,900 over two years to support the creation of a model eco-tourism project that will demonstrate many aspects of environmental protection, including stewardship, wildlife preservation, waste management, creek restoration, farming, and naturalization',\n",
       " '$25,000 over six months to develop a farm master plan that will be used to enhance environmental, economic and social sustainability. This will outline ways to create relevant programming and increase non-traditional partnerships.',\n",
       " \"$72,300 over 1  year to increase accessibility and improve the use of the facilities, enhance the Children's Garen, develop walkways to the outdoor education areas and establish an accessible playground that meets CSA standards and regulations.\",\n",
       " \"$18,000 over two years to organize North Bay's first contemporary photography festival, which will include workshops, lectures and school visits. The event will attract tourists and provide arts enrichment opportunities for the community.\",\n",
       " 'Delivering a project at the idea or conceptual stage with a $35,500 grant over 12 months to develop an educational toolkit and workshop series demonstrating Community Bond financing for non-profit organizations. Building inclusive and engaged communities together, this initiative is helping diverse groups work together to improve community life, and has an impact on the lives of  10,000 people in the community.',\n",
       " 'Delivering a project at the idea or conceptual stage with a $39,000 grant over 11 months to establish three urban rooftop farming pilot projects in downtown Guelph. Encouraging people to support a healthy and sustainable environment, this initiative is helping people and resource users take deliberate actions to benefit the environment, and has an impact on the lives of  5,000 people in the community.',\n",
       " 'Delivering improved infrastructure with a $119,600 grant over 7 months to create a shared certified commercial community kitchen. Building inclusive and engaged communities together, this initiative is helping diverse groups work together to improve community life, and has an impact on the lives of  10,000 people in the community.',\n",
       " '$130,000 over three years to hire staff, organize workshops and buy equipment. Member organizations will be engaged to move from space-sharing to a self-sustainable model for social change built on joint decision-making and collaboration.',\n",
       " 'to support the establishment of an innovation fund. A collaborative experiment between funders from multiple sectors in Guelph, the fund will support creative ideas and initiatives intended to generate positive social impact.',\n",
       " 'to undertake a feasibility study for a new shared space for medium and grassroots organizations in Guelph.',\n",
       " '$38,900 over two years for office equipment and administrative support to strengthen the infrastructure of this organization in its developmental stages. The initiative will enhance the beauty of the region through tree planting.',\n",
       " \"$40,000 over two years to enhance the organization's capacity to deliver recreational programs to children from disadvantaged economic backgrounds in the Hawkesbury area, providing them with worthwhile learning experiences.\",\n",
       " 'to extend the hours of the Lead Youth Program Facilitator and the Development Officer, and to increase the organization?s sustainability and capacity to provide its services to more than 200 children and youth from Hawkesbury, the Township of Champlain and East Hawkesbury.',\n",
       " '$25,000 over one year towards a staff position to aid local festivals and events in their development, coordination and promotion.',\n",
       " 'to purchase uniforms and musical instruments to start a drum and pipe band program for cadets.',\n",
       " 'to enhance the Oakville Cadet program by purchasing musical instruments for a brass and reed marching band, allowing more youth to benefit from a community-based music program.',\n",
       " 'to purchase floor hockey and volleyball equipment, bicycles, canoes, tents, snowshoes and GPS radios. This equipment will allow cadets to participate in more recreational activities and programs that promote healthy living and develop responsible leadership skills.',\n",
       " 'to purchase musical equipment which will provide Thorold youth aged 12 to 18 with a free opportunity to learn to play a musical instrument.',\n",
       " '$14,500 over one year to purchase woodwind instruments for the newly established band programs. Funding will allow this 22-member, Aurora-based band to participate in numerous community events throughout the year.',\n",
       " \"to host an international Children's Theatre Festival in June 2016 for 500 children aged 7 to 15 and coming from 20 countries. Up to 300 volunteers will be recruited and trained to provide culturally-appropriate events at over nine venues throughout Stratford to celebrate diverse cultures and heritages.\",\n",
       " 'to improve access to technical training and sporting equipment for 100 cadets aged 12 to 18 in downtown Hamilton.',\n",
       " 'to renovate the exterior of the 151 Squadron headquarters, which will allow the organization to continue to deliver programming for youth in the Durham region.',\n",
       " 'to enable the squadron to purchase additional pipes and drums so that all cadets who wish to learn to play an instrument can participate in the band and perform during community events in Sault Ste. Marie and area.',\n",
       " '$13,600 over one year to purchase new uniforms, which will improve the appearance of this cadet pipe and drum band and enable greater participation by youth in the Sault Ste. Marie community.',\n",
       " 'to purchase a re-purposed portable building thereby increasing the capacity of the organization to deliver effective programming in Dufferin County.',\n",
       " 'to purchase a canoe and camping gear to improve safety and enhance outdoor activities for youth in Blackburn Hamlet and the surrounding region.',\n",
       " 'to purchase three canoes, camping equipment and a utility trailer. This investment will increase the quality of outdoor programming for children and youth in Blackburn Hamlet.',\n",
       " '$69,100 over two years to purchase camping and computer equipment, develop marketing materials and implement a volunteer recruitment and training program.',\n",
       " 'to purchase a trailer and camping equipment to provide enhanced recreational activities for local youth.',\n",
       " '$14,000 over one year to purchase additional sporting equipment that will allow for new opportunities for children and youth ages 5 to 19 years to enjoy outdoor activities at the Legewade Cub and Scout Camp near Renfrew.',\n",
       " '$8,600 over six months to purchase a cargo trailer that will provide adequate storage and transportation of scouting equipment, including canoes and camping gear.',\n",
       " '$15,000 over one year to purchase new camping equipment and storage trailers. This purchase will help enhance existing programming for children and youth, extend the lifespan of all equipment and enable the successful tracking of inventory.',\n",
       " '$39,100 over three years to develop a sailing program for Scouts and other youth, in partnership with the local Yacht Club.',\n",
       " '$22,700 over one year to purchase marching band instruments for the new cadet band, which will provide musical training to cadets in weekly and summer programs. The band will perform at community events.',\n",
       " 'to maintain access to community space in Brantford for recreational activities. Funding will contribute to building improvements.',\n",
       " 'to maintain access to this well used community building in Brantford by contributing to the cost of replacing the roof over the games room.',\n",
       " \"$4,300 over six months to support the 2000 Minor 'A' Baseball Provincial Championships in Brockville August 1 to 9/00, providing over 100 young players and their families with a healthy and fun tournament experience.\",\n",
       " '$150,000 over two years to support recruitment, orientation and training of volunteers for the 2001 Canada Summer Games.  This trained volunteer base will remain as a strength in the community after the games.',\n",
       " '$141,000 over sixteen months for operating costs of the 2004 London Can-Am Police-Fire Games.',\n",
       " '$23,400 over nine months to assist in holding the 2004 Multiple Births Canada Conference in New Liskeard so that Timiskaming area social service organizations will be able to participate and learn how to better support multiple birth families.',\n",
       " '$52,900 over nine months to support the Actifest 2004 Senior Games which provide recreation and social activities for seniors and boost tourism in St. Catharines and the Niagara region.',\n",
       " '$50,000 over 10 months to support volunteer involvement and assist in marketing the 2004 Ontario Winter and Summer Games which will showcase amateur sport and attract tourists to London.',\n",
       " \"$48,400 over one year to host 2004 Provincial Envirothon, an environmental youth competition, bringing 150 youth and adult resource people to Tobermory and showcasing the community's natural beauty and environmental diversity.\",\n",
       " '$19,000 over one year to hold activities that will commemorate the 200th anniversary of  settlement in the Mississauga area.',\n",
       " '$30,000 over nine months to co-ordinate the 2008 World Under 17 Hockey Challenge in London and recruit and support over 400 volunteers. The event will help engage community members of all abilities and encourage youth involvement in minor hockey.',\n",
       " '$25,000 over six months to support Sault Ste. Marie in hosting the 2005 Canadian Community Economic Development Network conference, which will benefit the region.',\n",
       " '$42,200 over one year to purchase equipment and supplies that will be used in the production of the multi-cultural opening and closing ceremonies of the Pan American Junior Athletic Championships in July 2005.',\n",
       " '$50,300 over one year to help host the 2006 Winter Paralympics Championship Games in Huntsville, where 300 athletes with disabilities from across the province will participate in a variety of sport championships.',\n",
       " '$75,000 over one year for program costs to engage students and community members in supporting the teams who will be participating in the 2006 RBC Cup Junior A Hockey National Championships in Brampton.',\n",
       " '$132,500 over 18 months to support the administrative infrastructure and coach, referee and volunteer development for the 2006 World Lacrosse Championships to be held in London July 15 to 21, 2006. (An additional grant of $15,000 from Thames Valley will',\n",
       " '$15,000 over 18 months to support the marketing of the 2006 World Lacrosse Championships to be held in London July 15 to 21, 2006. (An additional grant of $132,500 from the Province-Wide Program will support this activity.)',\n",
       " '$16,800 for materials and advertising to ensure media coverage of this international competition. The event will attract 300 competitors from 50 countries to Renfrew County in early May 2007, promoting tourism and economic development.',\n",
       " \"$75,000 over one year to improve the track at St. Patrick's school that will enable Sarnia to host the 2007 Paralympic Championships. The games will increase tourism and help support the local economy.\",\n",
       " \"$75,000 over six months to recruit and train volunteers to host the 2007 Women's World Field Lacrosse Championships in Peterborough. This will increase volunteer capacity to host large events and attract interest in local women's lacrosse programs.\",\n",
       " '$30,300 for a co-ordinator and volunteer management materials. Two thousand volunteers will be engaged to support the 2008 International Plowing Match, which draws 80,000 people to the Teeswater area.',\n",
       " '$60,000 over 10 months to help fund the hosting of the second Ontario Paralympic Winter Championships. Volunteer recruitment and training will be done to ensure a world-class event that showcases the Town of Collingwood in a positive way.',\n",
       " '$10,000 over one year to support the 2008 Ontario Summer Games in Ottawa by purchasing track and field hurdles, field hockey nets and balls for various sports. These will be utilized by local sporting organizations after the event.',\n",
       " '$65,000 over one year to launch a youth-led gardening, greenhouse and composting program in this First Nation community in Shoal Lake. It will increase awareness and knowledge of culturally appropriate community and environmental stewardship.',\n",
       " \"$54,000 over one year to host the 2009 Canadian Men's Senior Fastball Championships in St. Thomas.\",\n",
       " \"$26,500 over one year to carry out a training and recognition program for over 1,000 volunteers who, in September 2009, will be involved in hosting Northern Ontario's first International Plowing Match.\",\n",
       " '$35,500 over one year to recognize and celebrate the contributions made by over 1,000 international Plowing Match 2009 volunteers by purchasing vests to be worn throughout the event and hosting a volunteer appreciation gathering at its conclusion.\\n\\n',\n",
       " '$178,000 over three years for the Artist Renewal Project, which engages senior folk artists to mentor Aboriginal and culturally diverse artists from Ontario. Bilingual training material will be available and practice sessions podcasted.',\n",
       " '$35,000 over one year to help cover equipment rental and production costs for the international dragon boat festival for breast cancer survivors in 2010.',\n",
       " '$79,300 over six months to recruit, recognize and celebrate the contributions made by over 1,000 local community volunteers who will serve at the 2010 Ontario Winter Games held throughout the district of Muskoka from March 4 to 7, 2010.',\n",
       " \"$20,000 over nine months toward the costs of recruiting, training, and recognizing local volunteers in Sault Ste. Marie who will provide support to this women's curling tournament in 2010.\",\n",
       " 'to help offset the costs of organizating and hosting the National Special Olympics Championships in 2010 in London.',\n",
       " 'to develop a world-class volunteer program that will support the recruitment, screening, training, deployment and recognition of 1000 volunteers for the 2011 Memorial Cup. This championship event for the highest level of amateur hockey played in Canada will be held in Mississauga from May 20 to 29.',\n",
       " 'to hire part-time staff who will recruit and train volunteers to host a 100th-year anniversary event in Perth County, showcasing agricultural businesses and educating youth and the general public about local long-term food production.',\n",
       " \"to support the Federation of International Lacrosse Women's World Cup event that will be held in Oshawa in July 2013. OTF funding will help increase awareness of the sport of wheelchair lacrosse, create a sports volunteer management program and highlight the First Nations origins of lacrosse.\",\n",
       " '$13,900 over one year to purchase outdoor adventure and sports equipment to enhance program activities and provide positive experiences to youth in the Cambridge community.',\n",
       " '$499,500 over two years to develop information service delivery capacity (211) in Niagara and Simcoe Counties, and to further build on the collaborative model for Ontario-wide implementation.',\n",
       " 'to purchase quality musical instruments for a 15-member squadron band for youth aged 12 to 19 years. The band program will then be expanded, training cadets for performances and exposing them to a rich musical culture of military, classical and popular music. _x000D_\\n',\n",
       " '$59,200 over one year to help construct a comprehensive, current and accurate computerized database of human and community services in preparation for future 211 services for Huron and Perth counties.',\n",
       " '$150,000 over two years to obtain services that will allow the organization to expand its 211 community information service in South Georgian Bay and launch it in North Simcoe.',\n",
       " '$20,500 over six months to purchase equipment for outdoor expeditions, hold citizenship functions and recruit new members, which will provide team-building, leadership, life and work skills to young people aged 12 to 18 years in Muskoka.',\n",
       " '$24,800 over one year to enhance the Cadet program by purchasing musical instruments for a drum and bugle band, and equipment for a biathlon program. The Cadet Corps provides youth with leadership training and opportunities for community service.',\n",
       " 'to purchase equipment in order to expand adventure programming for youth aged 12 to 18 years living in the Ottawa-east area.  This program will include hiking, camping, orienteering and abseiling.',\n",
       " '$2,700 over three months to provide Boy Scouts with instruments for a drum corps so that they learn to play and can participate in Toronto parades.',\n",
       " '$25,000 over eight months to purchase band instruments and camping equipment, which will enable more Pickering area youth to have musical, and camping experiences.',\n",
       " 'to hire a part-time executive director responsible for project development and a part-time office manager to oversee the daily operations at the newly established Under One Roof centre located in downtown Ottawa. Over the next few years, this new innovative workspace will bring together approximately 60 not-for-profit organizations to pool resources and foster an environment of collaboration, innovation, learning and knowledge sharing.',\n",
       " '$23,600 to replace outdated musical instruments so that more cadets will have the opportunity to participate in the drum and pipe band, learn new skills and take part in healthy physical and recreational activities.',\n",
       " '$7,000 to provide members with 30 Inverness rain capes, which will help protect their uniforms and instruments. Funding will also provide additional kilts for new members.',\n",
       " '$12,000 over 1 year to renew and repair equipment needed by 159 youth members for outdoor activities.',\n",
       " '$3,000 over three months to purchase new tents and other camping equipment to be used for year-round camps staged by Scouts, Guides and other community groups.\\n',\n",
       " 'to purchase musical instruments, sports and recreation equipment, and orienteering and expedition gear for this Ottawa-based organization that will allow for the continued delivery of programs to youth aged 14-19.',\n",
       " '$5,751 over two months to purchase 6 sets of Ski Equipment for young boys and girls of Kirkland Lake to participate in biathlon events through the Air Cadets.',\n",
       " 'to purchase canoes and camping gear to enhance outdoor recreational programs promoting active lifestyles for urban children and youth.',\n",
       " 'to purchase tents, orienteering equipment and camping gear which will enhance outdoor activities for children in the Orleans area.',\n",
       " \"to expand the organization's adventure and orienteering programs, which will provide youth aged 12 to 18 years with access to quality equipment for canoeing, hiking and camping activities that will run from May through October.\",\n",
       " '$14,100 to purchase equipment and supplies necessary to safely carry out camping activities at Camp Wilcox near Orangeville, which provides Boy Scouts from the west end of Toronto with positive outdoor experiences.',\n",
       " 'to increase the ability of youth aged 12 to 18 to develop musical skills and give back to their community by enhancing the music program of this Markham-area Air Cadet Squadron. A Junior Band will be created, with professional instructors and senior Cadets providing training and mentoring. Funding will cover the cost of instruments and music, and members will perform at local parades and community events as well as the annual Ceremonial Review.',\n",
       " 'to develop Home Base, a centre for homeless or at-risk youth that will provide basic needs, referrals and resources in Vaughan. Funding will be used to hire a full-time child and youth worker, pay for administrative costs, program supplies and purchase capital items for the centre._x000D_\\n_x000D_\\n_x000D_\\n',\n",
       " 'Delivering a project that builds on the success of a proven model or program with a $566,900 grant over 36 months to provide more stable housing options and guidance for vulnerable youth between 16-26 through the Transitions Housing program. Enhancing people’s economic wellbeing, this initiative is helping people who are economically vulnerable be able to meet their basic needs, and has an impact on the lives of  16 people in the community.',\n",
       " 'Delivering a project that builds on the success of a proven model or program with a $719,100 grant over 36 months to expand Nightstop, a program providing temporary emergency accommodation for youth, to more York Region communities. Enhancing people’s economic wellbeing, this initiative is helping people who are economically vulnerable be able to meet their basic needs, and has an impact on the lives of  145 people in the community.',\n",
       " 'Our organization, with a $68,400 Resilient Communities Fund grant over 12 months, will rebuild and recover from impacts of COVID-19 by developing online volunteer engagement strategies to increase organization awareness and examining new ways of generating fundraising revenues for the delivery of programs for youth.\\nCensus Division of Impact: Regional Municipality of York',\n",
       " '$3,500 over one year to purchase new camping equipment that will increase access to quality scouting activities for youth in St. George.',\n",
       " '$25,000 over one year to mentor and train up to thirty-five youth in Jane and Finch area in an afterschool program focusing on leadership skills such as goal management training, cognitive behaviour intervention and negotiation. ',\n",
       " '$225,000 over three years to maintain a healthy arts community in West Durham through programming, infrastructure and resource development and the garnering of community support for the development of a visual and performing arts centre.\\n\\n',\n",
       " 'Our organization, with a $120,100 Resilient Communities Fund grant over 12 months, will rebuild and recover from impacts of COVID-19 by hiring staff to help develop and implement a permanent virtual platform to engage new and current participants online.\\nCensus Division of Impact: County of Wellington',\n",
       " 'to upgrade current technology, purchase 10 new computers and a Smart Board system for the Boys and Girls Club of Sarnia- Lambton.',\n",
       " \"$177,500 over three years to build this organization's capacity to engage young people and implement its strategic plan. Arts education programs will be delivered in schools and partnerships developed with community organizations in Ontario.\",\n",
       " 'Delivering improved infrastructure with a $7,000 grant over 12 months to update the phone system at two of its locations. Building inclusive and engaged communities together, this initiative is helping people who are isolated have connections in their community, and has an impact on the lives of  400 people in the community.',\n",
       " \"to renovate the kitchen of this drop-in centre that serves more than 250 meals to low-income women in Toronto's Regent Park each day. The renovations will make kitchen larger, more functional and efficient, enabling the organization to draw on the help of more volunteers._x000D_\\n\",\n",
       " '$19,000 over one year to replace two roofs on this community hall, which is used by both the 427 Wing and the Navy Club. This will allow both organizations to continue hosting safe and comfortable activities and events directed primarily at seniors.',\n",
       " '$43,100 over one year to provide safe and accessible space for community activities by making renovations to its building, including replacing the roof, steel siding and electrical panel, and installing a gas furnace and a ramp at the emergency exit.',\n",
       " \"$60,000 over one year for kitchen and washroom renovations and computer equipment. These improvements will enhance the organization's efficiency and enable greater use of the facility by seniors, cadets and the community.\",\n",
       " 'to build a display case for historically-significant air force memorabilia and purchase an outdoor canopy to be used to support fundraising, outreach and community events in Pelham and Welland._x000D_\\n',\n",
       " '$27,300 over six months to make improvements that enhance the safety and accessibility of a community facility used by volunteers to provide programs for seniors, and food bank and shelter services.',\n",
       " 'Delivering a project at the idea or conceptual stage with a $49,700 grant over 12 months to share arts education expertise by creating education materials for teachers and arts educators. Enriching people’s lives through arts, culture and heritage, this initiative is helping access to arts-based learning opportunities and compelling artistic, cultural and heritage experiences, and has an impact on the lives of  60 people in the community.',\n",
       " 'Delivering a project at the idea or conceptual stage with a $75,000 grant over 12 months to develop an integrated art-science education program and build more environmental awareness. Encouraging people to support a healthy and sustainable environment, this initiative is helping people connect with the environment and understand their impact on it, and has an impact on the lives of  60 people in the community.',\n",
       " 'Delivering improved infrastructure with a $53,500 grant over 12 months to purchase a tiny mobile studio for artist residencies and programming. Enriching people’s lives through arts, culture and heritage, this initiative is helping arts, culture and heritage have appropriate spaces, and has an impact on the lives of  600 people in the community.',\n",
       " 'to hire an executive director and help fund administration costs for this Manitoulin-North Shore arts organization that has a strong environmental focus. This will provide leadership to staff and board members and help deliver programs, which will improve the sustainability of the organization.',\n",
       " 'Delivering a project at the idea or conceptual stage with a $31,300 grant over 3 months to develop and present a play based on regional stories and historical accounts of the paranormal. Enriching people’s lives through arts, culture and heritage, this initiative is helping people be engaged in community-based arts creation, and has an impact on the lives of  1,000 people in the community.',\n",
       " \"Delivering a project that builds on the success of a proven model or program with a $241,700 grant over 36 months to engage community members in developing three holiday-themed plays showcasing Millbrook's stories and history. Enriching people’s lives through arts, culture and heritage, this initiative is helping people be engaged in community-based arts creation, and has an impact on the lives of  5,000 people in the community.\",\n",
       " 'Delivering improved infrastructure with a $34,200 grant over 12 months to renovate the audience seating area and rebuild the on-site box office building. Enriching people’s lives through arts, culture and heritage, this initiative is helping arts, culture and heritage have appropriate spaces, and has an impact on the lives of  4,000 people in the community.',\n",
       " 'Our organization, with a $100,000 Community Building Fund – Operating stream grant over 12 months, will continue operating facilities and/or delivering experiences or programs for Ontarians by employing staff, and supporting the rental of the venue and box office, as well as general operating expenses.',\n",
       " 'Our organization, with a $101,000 Resilient Communities Fund grant over 9 months, will rebuild and recover from impacts of COVID-19 by creating new fundraising strategies, developing online programming and implementing a new on-site operations plan.',\n",
       " 'to hire a Community Engagement Coordinator to help support the creation of three plays on issues faced by homosexual teens, racism and immigration issues, and people living with disabilities. The plays will engage new communities and help theatre goers better understand challenges faced by marginalized communities.',\n",
       " '$14,600 over one year to purchase camping and storage equipment that will enhance existing outdoor activities for children and youth.',\n",
       " 'Our organization, with a $10,300 Community Building Fund – Operating stream grant over 12 months, will continue operating facilities and/or delivering experiences or programs for Ontarians by assisting with the costs of delivering an engaging season of virtual concert and musical experiences for online audiences.',\n",
       " '$15,000 over 10 months to purchase band instruments and ski equipment. The new equipment will allow rural youth to participate in the regional cadet biathlon program in Prescott and Russell.',\n",
       " '$10,000 over six months to replace the heating system of this community organization that serves Francophone seniors.',\n",
       " '$2,800 over one year to replace three windows in this Francophone seniors club, for increased comfort and energy savings.',\n",
       " '$5,600 over 4 months for renovations that include, building a ramp, canopy and landing for accessibility purposes and installing a steel door and frame.',\n",
       " 'to purchase canoes, safety equipment and a trailer to transport the canoes. This new equipment will help to support the programming needs of a young and growing membership.',\n",
       " \"$37,400 over two years to purchase equipment for the biathlon team and instruments for this Brampton unit's pipe-and-drum band. Two part-time music instructors will also be retained to help increase recreational opportunities for youth.\",\n",
       " 'Our organization, with a $143,200 Resilient Communities Fund grant over 12 months, will rebuild and recover from impacts of COVID-19 by hiring three staff, a grant writer, and purchasing laptops to improve the food security of low-income clients in Scarborough.\\nCensus Division of Impact: Toronto',\n",
       " '$16,800 over one year for camping and canoeing equipment to provide social and recreational activities for youth in the area.',\n",
       " \"$15,000 over one year toward the purchase of musical instruments and uniforms that will help equip the squadron's pipe-and-drum band and benefit young people in the Belleville area.\",\n",
       " '$25,000 over one year to increase opportunities for teens to have musical instruction by purchasing instruments for a new youth marching band in Dunnville.',\n",
       " 'to purchase camping equipment that will enable the safe participation of Niagara Army Cadets  in more recreational activities and programs. These programs promote healthy living, develop responsible leadership and create interest in the land, sea and air elements of the Canadian Armed Forces.',\n",
       " '$12,200 over one year to increase physical activity for youth across Niagara through the purchase of canoeing equipment',\n",
       " 'to create four multi-purpose rooms to be used for organization workspace, community meetings and youth leadership programs at the Mountain Ridge Community Centre in Grimsby._x000D_\\n',\n",
       " 'to replace the flat roofs of the Mountain Ridge Community Centre and the adjacent church building, both well used by numerous community groups for various activities, including a thriving cadet program.',\n",
       " '$34,900 over one year to purchase camping and hockey equipment for an inner city army league cadet corps.',\n",
       " '$14,700 over one year to purchase new equipment in order to increase recreational and physical activity programs for seniors in Cambridge.',\n",
       " 'to ensure the club has a safe and enjoyable space for members and the public. Funding will be used to complete landscaping and purchase ground maintenance equipment.',\n",
       " \"$20,000 over one year to repair and improve the Squadron's training facility near Bancroft, benefiting 80 youth participants aged 12 to 19 years.\",\n",
       " 'to increase the ability of Stouffville-area youth to develop musical skills and participate in a marching band in a new Air Cadet squadron. Funding will cover cost of band instruments and music. The band will participate in local parades and community events.',\n",
       " '$20,000 over one year to help purchase new musical instruments, which will enable the squad to continue its instruction and development for youth aged 13 to 25 years who participate in this Air Cadet Squadron.',\n",
       " '$22,000 over one year to purchase camping and rope climbing equipment that will promote safe physical activity and recreation for 86 air cadet youth from east Hamilton and Stoney Creek.',\n",
       " '$25,000 over six months to purchase musical equipment that will contribute to an enhanced profile of the squadron and attract more members to this youth band.',\n",
       " \"$18,000 over one year to purchase a central dust-collection system for this seniors' woodworking shop in Sudbury. This will improve the work environment, making it safer and healthier for participants.\",\n",
       " \"to replace the roof of the seniors' centre in Greater Sudbury. This will ensure that the multi-use facility is safe for participants and that programs, services and activities are maintained in the area.\",\n",
       " 'to purchase specialized outdoor equipment, which will increase recreational and physical fitness opportunities for local youth and help young cadets in the North Perth area to develop leadership skills.',\n",
       " '$36,500 over one year to assist with the purchase of woodwind instruments and marching drums for this rapidly growing band program.',\n",
       " '$40,000 over one year to build the capacity and sustainability of this Ottawa-area organization by expanding fundraising activities and outfitting six new recruits from the Fort Glengarry garrison.',\n",
       " '$75,000 over one year for uniforms and equipment to allow a squad of young re-enactors to present 18th-century military drills in period equipment and uniforms for residents and tourists in Ottawa-area venues.',\n",
       " '$30,000 over one year to repair water damage to the training facility in Port Colborne. Interest in the air cadets program will increase and youth will have space for fitness, leadership and citizenship activities.',\n",
       " 'to purchase additional musical instruments for the cadet band, giving more youth in the Port Colborne area the opportunity to participate in the music program and performances at community events.',\n",
       " 'Delivering a project at the idea or conceptual stage with a $74,700 grant over 12 months to develop a more child-friendly public realm strategy for the Toronto area. Fostering more active lifestyles, this initiative is helping programs be safe, inclusive, and fair, and has an impact on the lives of  100 people in the community.',\n",
       " 'Our organization, with a $25,800 Resilient Communities Fund grant over 6 months, will rebuild and recover from impacts of COVID-19 by covering staff cost, acquiring an organizational expert in digital user experience design, offering honorariums for participants to test new digital tools and purchasing digital engagement software.',\n",
       " 'to increase youth participation in Kitchener Waterloo Royal Canadian Air Cadets by providing new instruments for its marching band.',\n",
       " 'to purchase musical equipment that will improve the quality of the band music program and performances offered by the Squadron to the Halton Peel community.',\n",
       " 'to purchase a virtual flight simulator to increase general interest in air studies and attract new youth to this Toronto cadet program.',\n",
       " \"$58,200 over three years to purchase musical equipment that will improve the performance of the band and to rent a gym that will allow for expanded membership to the group's archery program.\",\n",
       " \"$19,000 over one year to renovate the organization's Picton offices including the installation of new windows and classroom partitions to improve the venue for youth in the air cadet program and other community groups using the facility.\",\n",
       " 'to support improvements to the Picton-based facility, which will enable more people to access programs and events in a comfortable and barrier-free environment._x000D_\\n    _x000D_\\n',\n",
       " '$40,000 over one year to increase the quality of musical performance for existing band members and to increase band membership by purchasing band instruments.',\n",
       " '$50,000 over one year to purchase band instruments and music for a brass and reed band which will be used to perform at community events.',\n",
       " '$22,600 to purchase musical instruments, enabling over 100 young people in the Malvern community of Scarborough to participate in a music program and to perform at community events.',\n",
       " \"to increase the ability of Markham youth aged 12 to 18 to develop musical skills and give back to their community by enhancing the Cadet band program. Funds will support the purchase of instruments and music for the Squadron's Junior and Senior Band, which will perform at local parades, community events and the annual Ceremonial Review.\",\n",
       " '$30,000 over one year to purchase musical instruments that will allow more Brampton-Caledon-area youth to be part of the band-training program.',\n",
       " '$19,000 to purchase high jump equipment and pole vault pits that will be used for the Indoor Track and Field Games in Hamilton and serve other community groups',\n",
       " 'Delivering improved infrastructure with a $100,200 grant over 10 months to purchase track and field equipment, giving athletes of all ages and abilities recreational and training opportunities. Fostering more active lifestyles, this initiative is helping infrastructure for unstructured and structured physical activities, and has an impact on the lives of  20,000 people in the community.',\n",
       " '$25,000 over two years to expand and enhance the current work in the area of literacy and by developing a systematic and comprehensive approach to fund-raising and volunteer development.',\n",
       " '$28,000 over two years to increase the number and quality of books that are distributed to children of low-income families. This will promote literacy for all children in Windsor.',\n",
       " '$6,500 over one year to purchase sound equipment for enhanced artistic quality.',\n",
       " \"$7,000 over one year to increase the public profile of this Milton-based women's singing organization by producing and marketing a compact disc.\",\n",
       " 'to purchase a portable sound system and recording unit so that this longstanding community chorus in Milton can improve its skills and performances.',\n",
       " '$23,500 over one year to pilot a project that will help low-income women and newcomers obtain employment through the provision of free image consultation and mentoring services by volunteer professionals.',\n",
       " '$38,500 over one year to conduct an analysis of  community-based training and employment services for women, and to develop a strategic plan.',\n",
       " \"$48,100 over one year to develop a three-year business and strategic plan. It will increase the organizational capacity and long-term sustainability of this Toronto network of women's employment and training services.\",\n",
       " \"$75,000 over one year for displays, brochures and research to deliver Where's The Shade? This initiative will increase awareness and knowledge of sun safety and skincancer prevention in Essex, Kent and Lambton counties.\",\n",
       " '$9,500 over six months to raise awareness of the harmful effect of UV rays. Funds will be used to print magazines aimed at educating youth and young adults about skin cancer in the Windsor and Essex County areas.',\n",
       " '$40,000 over two years to create a stronger theatre company by increasing the organizational effectiveness and fundraising ability of this professional Shakespeare troupe in Ottawa. \\n',\n",
       " '$25,000 over one year to design and build an interactive, portable multi-media exhibit for display in Hamilton that raises awareness about the experience of homelessness and the challenges faced by people seeking decent affordable housing.',\n",
       " 'Delivering a project at the idea or conceptual stage with a $5,500 grant over 7 months to launch an arts initiative to engage youth in a series of community art projects. Enriching people’s lives through arts, culture and heritage, this initiative is helping access to arts-based learning opportunities and compelling artistic, cultural and heritage experiences, and has an impact on the lives of  15,000 people in the community.',\n",
       " 'Our organization, with a $50,000 Community Building Fund – Operating stream grant over 12 months, will continue operating facilities and/or delivering experiences or programs for Ontarians by purchasing equipment to improve virtual programming, employing new staff, and updating the website to enhance e-commerce.',\n",
       " 'Delivering a project at the idea or conceptual stage with a $31,400 grant over 6 months to purchase new software that will improve data collection, interpretation of data and mapping. Encouraging people to support a healthy and sustainable environment, this initiative is helping the development of mechanisms to promote responsible resource stewardship, and has an impact on the lives of  400 people in the community.',\n",
       " 'Our organization, with a $59,200 Resilient Communities Fund grant over 12 months, will rebuild and recover from impacts of COVID-19 by developing a new volunteer management program and online fundraising strategies, hiring a coordinator and purchasing personal protective equipment.\\nCensus Division of Impact: Regional Municipality of Durham',\n",
       " 'Delivering a project at the idea or conceptual stage with a $17,100 grant over 6 months to create physical literacy programs so kids stay active for life. Fostering more active lifestyles, this initiative is helping programs be safe, inclusive, and fair, and has an impact on the lives of  350 people in the community.',\n",
       " \"to hire a fund-development and marketing coordinator who will help to enhance the community's awareness of homelessness and increase the organization's capacity for service delivery and long-term sustainability in the City of Kawartha Lakes and Haliburton County.\",\n",
       " '$3,600 over six months to increase infrastructure capacity by completing a facility plan and drawings for building upgrades. These will improve accessibility, HVAC efficiency and space requirements for staff, volunteers and tenant organizations.',\n",
       " '$43,400 over one year to purchase safety, kitchen and office equipment to increase the safety of residents, volunteers and staff and to increase energy efficiency and air quality in the facility.',\n",
       " '$75,000 over one year to make renovations to the organization’s building and administrative offices. The facility will be more accessible, helping to ensure that shelter and support services are provided to people of all abilities in the community.',\n",
       " '$83,800 over three years for an office manager, who will provide administrative support and manage the facilities. This will enhance the provision of hostel and support services for homeless individuals in the City of Kawartha Lakes and Haliburton.',\n",
       " '$59,000 over two years to launch a consumer-operated thrift shop. It will provide employment training and give Ottawa-area members with psychiatric disabilities access to employment opportunities by supplying clothing at minimal cost.',\n",
       " 'Delivering a project that builds on the success of a proven model or program with a $303,400 grant over 36 months to expand Operation Wild, enabling more persons with disabilities to connect with the local environment. Building inclusive and engaged communities together, this initiative is helping people who are isolated have connections in their community, and has an impact on the lives of  700 people in the community.',\n",
       " 'Our organization, with a $9,200 Resilient Communities Fund grant over 12 months, will rebuild and recover from impacts of COVID-19 by purchasing three temporary outdoor shelters and wood stoves to enable programs like the Nature Academy and Operation Wild to operate safely.',\n",
       " \"$40,500 over one year to develop a comprehensive marketing plan and upgrade A-WAY Express Courier Service's IT capacity in order to increase the effectiveness of the community based micro enterprise to provide job training and employment experience for\",\n",
       " '$40,500 over six months to upgrade the Boyd building by replacing the roof, insulating the building, repairing the chimneys, and upgrading the heating system.',\n",
       " 'to fund staff and program materials to engage youth and community members in planting projects designed to monitor and assess the environmental impact of climate change in Niagara.The information gathered through field work and workshops will help establish benchmark data related to the effect of climate change on local ecosystems.',\n",
       " '$70,000 over two years to provide stability and allow the Committee to provide services and education to the community related to HIV and AIDS.',\n",
       " '$20,000 to evaluate the effectiveness of the ALERT program, an early warning protection system for victims of domestic violence in Brant, and to identify opportunities for improvement.',\n",
       " 'Our organization, with a $94,000 Resilient Communities Fund grant over 3 months, will rebuild and recover from impacts of COVID-19 by purchasing a new truck to provide service delivery needs of three food banks and home deliveries for vulnerable persons.',\n",
       " 'Our organization, with a $98,700 Resilient Communities Fund grant over 12 months, will rebuild and recover from impacts of COVID-19 by hiring staff, creating a volunteer training video, purchasing a variety of online platforms and conducting a digital recruitment campaign as well as offering capacity building opportunities for staff and volunteer.',\n",
       " 'Delivering improved infrastructure with a $110,000 grant over 8 months to renovate the kitchen facilities and purchase new equipment to provide healthy meals for clients. Building inclusive and engaged communities together, this initiative is helping people who are isolated have connections in their community, and has an impact on the lives of  250 people in the community.',\n",
       " 'Delivering improved infrastructure with a $136,000 grant over 5 months to purchase and install an elevator to increase accessibility to programs and services. Building inclusive and engaged communities together, this initiative is helping people who are isolated have connections in their community, and has an impact on the lives of  6,000 people in the community.',\n",
       " 'Our organization, with a $59,300 Resilient Communities Fund grant over 12 months, will rebuild and recover from impacts of COVID-19 by covering staffing costs, offering professional development for staff to increase their skills and knowledge in digital fundraising and purchasing software and equipment rental for online course production.',\n",
       " 'Delivering a project at the idea or conceptual stage with a $75,000 grant over 11 months to build an accelerated, skills-based IT training program for priority youth employment. Enhancing people’s economic wellbeing, this initiative is helping people become and stay employed, and has an impact on the lives of  18 people in the community.',\n",
       " 'to build the capacity of this youth-led organization to expand its \"Speak Up for Change\" program and the \"Youth Making a Difference\" conference in order that youth will become more socially aware and engaged in the Brampton community.  Funding will also support staffing and operational expenses to further organizational growth and program delivery.',\n",
       " '$23,600 over one year to create an information and communication network through the Internet to promote francophone gatherings and social, recreational, cultural and sporting activities for young adults.',\n",
       " '$90,000 over two years to support positive youth engagement with a youth forum, as well as a community leadership initiative with training for board members from Francophone organizations in Niagara',\n",
       " 'Our organization, with a $49,900 Community Building Fund – Operating stream grant over 12 months, will continue operating facilities and/or delivering experiences or programs for Ontarians by maintaining staff and physical infrastructure, and adapting and promoting our online services to the Francophone community.',\n",
       " '$10,000 over one year for the purchase of equipment and office supplies that will enable this regional association to promote and expand services to the Francophone community in Windsor, Essex and Kent.',\n",
       " '$15,000 over one year for a feasibility study and  program design for a Personal Lifestyle Management Program.  This program enhances problem solving and anger management skills through interactive and participatory workshops.',\n",
       " 'Delivering a project at the idea or conceptual stage with a $29,600 grant over 12 months to hire staff to assist with a free clinic helping people with disabilities prepare their taxes. Enhancing people’s economic wellbeing, this initiative is helping people have the skills and knowledge to achieve greater financial independence, and has an impact on the lives of  800 people in the community.',\n",
       " \"Our organization, with a $147,800 Resilient Communities Fund grant over 12 months, will rebuild and recover from impacts of COVID-19 by hiring a full-time Community Counsellor and a Women's Support Coordination, acquiring services from experts in the fundraising and graphic design industry, purchasing Double the Donation software to improve the agency's fundraising capacity.\",\n",
       " '$48,500 over one year to develop education and outreach strategies to promote environmentally friendly and sustainable practices for the people in the new City of Hamilton.',\n",
       " '$150,000 over three years to provide portable physical and wellness activities to newcomer and low-income populations living in high needs communities in Toronto',\n",
       " 'to support the sharing of resources between this association and Parents partenaires en éducation that will strengthen both organizations, reduce duplication, and strengthen services offered across Ontario to Francophone parents who have children with learning disabilities._x000D_\\n_x000D_\\n_x000D_\\n_x000D_\\n_x000D_\\n',\n",
       " \"Delivering a project at the idea or conceptual stage with a $67,600 grant over 12 months to create the Ubuntu Kids Club, an immigrant children's after-school program, for two local schools. Supporting the positive development of children and youth, this initiative is helping parents, caregivers and adult allies have the skills to support children and youth who are facing barriers, and has an impact on the lives of  500 people in the community.\",\n",
       " 'to hire a consultant that will develop an outcomes-based evaluation model so the organization can measure the impacts, benefits and changes experienced by the newcomer clients they serve._x000D_\\n',\n",
       " '$50,500 over 18 months to enable this Stratford-based organization to support at-risk youth in Perth County and to provide education about how to address violence and abuse.',\n",
       " '$91,400 over two years to increase the number of active volunteers, increase fundraising, and strengthen education and outreach to youth in Perth County.',\n",
       " 'to equip people living with HIV in Waterloo region and beyond to contribute meaningfully to HIV prevention and peer support. Funds will be used to develop curriculum and a speakers bureau program, as well as salary for a coordinator.',\n",
       " '$25,000 over 6 months to complete a broad community evaluation of  the High Risk Youth HIV/AIDS Outreach Project with an aim to redesign the program to be delivered in a more effective way and increase the level of partnership and community ownership.',\n",
       " 'Delivering a project at the idea or conceptual stage with a $14,700 grant over 11 months to launch and produce materials for a youth-focused HIV/sexual health campaign called Play Your Cards Right. Supporting the positive development of children and youth, this initiative is helping youth be involved in creating solutions for challenges facing their communities, and has an impact on the lives of  60,000 people in the community.',\n",
       " 'Delivering a project at the idea or conceptual stage with a $74,700 grant over 12 months to establish a food hub involving food preparation, nutrition and community gardening programs for economically vulnerable people living with HIV/AIDS. Enhancing people’s economic wellbeing, this initiative is helping people who are economically vulnerable be able to meet their basic needs, and has an impact on the lives of  400 people in the community.',\n",
       " 'Our organization, with a $78,600 Resilient Communities Fund grant over 12 months, will rebuild and recover from impacts of COVID-19 by hiring a Fund Development Coordinator, building and installing office wall partitions and purchasing computers to adapt services and fundraising initiatives in alignment with COVID-19 health and safety guidelines, and incorporate new technology-based interventions to meet changing needs.\\nCensus Division of Impact: Regional Municipality of Durham',\n",
       " 'for a full-time volunteer coordinator to enable the organization to expand its volunteer program and enhance its capacity to provide HIV/AIDS related services in Durham Region.',\n",
       " 'to hire a Manager of Resource Development, to support increased programming for community members affected by HIV/AIDs in Durham Region. This investment will support the organization as it works to increase its fundraising initiatives.',\n",
       " '$155,400 over three years for a co-ordinator and expenses to train volunteers and offer expanded community support services to people living with HIV/AIDS.  Services will include workshops, counselling, referrals, and community development.',\n",
       " '$30,000 over one year for support and prevention services that are culturally and linguistically appropriate for people from African and Caribbean countries who are at risk of infection or are infected with HIV/AIDS.',\n",
       " '$68,600 over 18 months to establish the Health Promotion for Women and Children Living with and/or affected by HIV/AIDS program.',\n",
       " '$96,800 over two years to help implement a youth peer education program. This will allow teams of peer educators to deliver presentations on HIV/AIDS and related sexual health topics to an estimated 500 students in Grades 7 to 9 per semester.',\n",
       " '$55,000 over two years for the development, implementation and maintenance of a systematic approach to volunteer management that will include a database of volunteers.',\n",
       " '$165,000 over three years to launch a Wellness Program for people living with HIV/AIDS and to improve the fundraising capacity of this AIDS organization serving Simcoe County.',\n",
       " '$220,000 over five years to enable the neighbouring AIDS Committee of York Region to increase support, education and access to care for people affected by HIV/AIDS by expanding training and public education programs and building its infrastructure.',\n",
       " '$60,000 over two years to build a peer support network for people living with HIV/AIDS & to launch a peer-driven education program that fosters awareness of & action aroung HIV/AIDS issues.  Both are extensions of programming now provided by ACSC staff.',\n",
       " \"to improve services for Simcoe County's LGBTQ community by doing organizational assessments with local agencies around program delivery. Funds will be used to hire a Project Coordinator to develop the assessment and share results, enabling new policies and employment training opportunities to be developed.\",\n",
       " '$25,000 over one year to evaluate current programs, increase community awareness, consult with clients, and support programs and services relating to AIDS/HIV.',\n",
       " '$100,000 over two years to educate the public about HIV/AIDS and to provide support and referral services for affected individuals.',\n",
       " '$100,000 over two years to obtain the necessary skills and support the costs of the 399 Wellness Centre project, which increases access to wellness programming, reduces isolation and helps to reduce the stigma experienced by people living with HIV/AIDS.',\n",
       " '$186,100 over four years toward an HIV/AIDS community development and support program to provide increased assistance to Portuguese-Speaking individuals and families infected and affected by HIV/AIDS.',\n",
       " 'to fund renovations and equipment that will enhance the ability of this organization to provide programs and services that promote the dignity, health and well-being of individuals and communities living with, affected by and at risk for HIV/AIDS.',\n",
       " 'to purchase computers, servers and database software as well as hire an IT manager in order to improve programming and services for people living with HIV, those affected and communities at risk in Toronto.',\n",
       " '$143,100 over three years to expand the Youth Project and diversify its membership, focusing on educating and supporting high risk youth.',\n",
       " '$150,000 over 2 years to support the development of the Youth Project, working to build self-esteem among the sexual minority youth, empowering them to make informed choices and prevent the spread of HIV, AIDS.',\n",
       " '$155,100 over three years to develop a culturally sensitive HIV/AIDS prevention/harm-reduction program. First languages of immigrants will be used and communications will be designed to reach people with hearing disabilities.',\n",
       " 'to purchase equipment and expand existing food bank programs and services to include nutrition and good food preparation.',\n",
       " 'Delivering a project at the idea or conceptual stage with a $40,000 grant over 11 months to develop an integrated HIV and trauma-informed service delivery framework. Building inclusive and engaged communities together, this initiative is helping diverse groups work together to improve community life, and has an impact on the lives of  38,000 people in the community.',\n",
       " 'Delivering a project at the idea or conceptual stage with a $67,100 grant over 11 months to research the needs of York Region seniors with complex vulnerabilities to design service delivery strategies. Building inclusive and engaged communities together, this initiative is helping people have a say in shaping the services and programs that matter to them, and has an impact on the lives of  61,000 people in the community.',\n",
       " 'Delivering a project that builds on the success of a proven model or program with a $705,600 grant over 36 months to expand the My House program, providing more social and recreational spaces for local LGBTTQ+ youth. Building inclusive and engaged communities together, this initiative is helping people who are isolated have connections in their community, and has an impact on the lives of  2,500 people in the community.',\n",
       " 'to enhance organizational capacity and program delivery by developing a strategic plan that will establish the overall direction and goals of the organization.',\n",
       " '$154,100 over three years for an alumni program in 11 Ontario chapters of the organization. Participants will re-engage in mentorship, community promotion and awareness events to help high-potential students develop into global-minded leaders.',\n",
       " 'to replace a variety of aged musical instruments, which will help two youth bands improve the quality of their training and performances.',\n",
       " 'to purchase instruments and necessary equipment for its music program. This will allow the organization to more than double the number of Toronto youth participating in the band to 55 members.',\n",
       " '$6,500 to develop, record and upload 20 spoken word-audio clips to the ALDER website. These will help provide youth and adults with learning disabilities in Toronto with access to resource materials on finding employment.',\n",
       " '$90,000 over three years to support an employment program for persons aged 16 to 65 with learning disabilities, in 3 phases: assessment, pre-employment skills/transition to work, & accommodation to employment.',\n",
       " 'Delivering a project that builds on the success of a proven model or program with a $317,000 grant over 34 months to operate an after-school program for East Asian youths focusing on community-building, wellness and interpersonal skills. Supporting the positive development of children and youth, this initiative is helping children and youth who are facing barriers develop strong emotional and social skills, and has an impact on the lives of  165 people in the community.',\n",
       " 'Our organization, with a $73,400 Resilient Communities Fund grant over 12 months, will rebuild and recover from impacts of COVID-19 by engaging experts to re-imagine our service delivery for people with amyotrophic lateral sclerosis with both in-person and virtual services with both in-person and virtual services supported by training for staff.',\n",
       " 'Delivering a project that builds on the success of a proven model or program with a $625,100 grant over 36 months to hire staff to train and engage farmers to act as community stewardship advocates. Encouraging people to support a healthy and sustainable environment, this initiative is helping people participate in ecosystem conservation and restoration efforts, and has an impact on the lives of  180 people in the community.',\n",
       " 'Delivering a project that builds on the success of a proven model or program with a $263,200 grant over 36 months to create experiential leaning opportunities and provide ecosystem restoration activities on marginal farmland. Encouraging people to support a healthy and sustainable environment, this initiative is helping people participate in ecosystem conservation and restoration efforts, and has an impact on the lives of  64,044 people in the community.',\n",
       " 'Delivering a project that builds on the success of a proven model or program with a $300,000 grant over 36 months to expand the ALUS program by increasing the number of active conservation projects in order to restore and steward marginal farmland in Elgin County. Encouraging people to support a healthy and sustainable environment, this initiative is helping conservation and restoration efforts be better planned and more sustainable, and has an impact on the lives of  150 people in the community.',\n",
       " 'Delivering a project that builds on the success of a proven model or program with a $307,000 grant over 35 months to establish 91 hectares of conserved ecosystems on marginal farmland. Encouraging people to support a healthy and sustainable environment, this initiative is helping conservation and restoration efforts be better planned and more sustainable, and has an impact on the lives of  63,175 people in the community.',\n",
       " 'to support the second annual La Comédie de chez nous!, a stand-up comedy program for Francophone high school students from ethnocultural communities in Ottawa.',\n",
       " \"$159,500 over three years to implement Phase 2 of the organization's business plan. Funding will be used to support staffing at the interpretive centre located in Maple.\",\n",
       " '$75,000 over one year to purchase materials and equipment to set up a new Italian interpretative centre in Vaughan. This will celebrate Italian heritage and traditions and acknowledge the contributions of Italian immigrants to Canadian society.',\n",
       " 'Our organization, with a $100,000 Community Building Fund – Operating stream grant over 6 months, will continue operating facilities and/or delivering experiences or programs for Ontarians by retaining staff,  supporting general operating expenses and upgrading software and computers to allow teleworking and virtual programming.',\n",
       " 'Our organization, with a $107,500 Resilient Communities Fund grant over 12 months, will rebuild and recover from impacts of COVID-19 by continuing to offer programs to the community on a virtual platform, making capital upgrades and purchasing safety and cleaning materials for in-person activities.\\nCensus Division of Impact: Hamilton',\n",
       " 'to improve the experience of Aboriginal people within the healthcare system by having trained Aboriginal instructors deliver cultural safety and sensitivity training, developed as part of this initiative, to health science students throughout Ontario._x000D_\\n_x000D_\\n_x000D_\\n_x000D_\\n_x000D_\\n_x000D_\\n_x000D_\\n',\n",
       " 'Delivering a project at the idea or conceptual stage with a $245,800 grant over 36 months to create a child-centred, culturally-responsive learning space for men, fathers and families of African descent in the GTA.\\n\\n',\n",
       " 'Delivering a project at the idea or conceptual stage with a $75,000 grant over 9 months to develop a strategic plan for future growth in local arts infrastructure in West Ottawa. Building inclusive and engaged communities together, this initiative is helping diverse groups work together to improve community life, and has an impact on the lives of  300 people in the community.',\n",
       " 'Delivering a project that builds on the success of a proven model or program with a $348,600 grant over 36 months to increase future opportunities where Ottawans are active creators of art. Enriching people’s lives through arts, culture and heritage, this initiative is helping people be engaged in community-based arts creation, and has an impact on the lives of  6,104 people in the community.',\n",
       " '$13,500 over six months to purchase 15 sets of RunJumpThrow equipment. The kits will be used to train instructors and deliver this Athletics Canada program to engage children in healthy activity throughout Toronto.',\n",
       " 'Our organization, with a $49,800 Resilient Communities Fund grant over 9 months, will rebuild and recover from impacts of COVID-19 by developing an academic digital support platform, upgrading the website, recruiting volunteers and training them on the new tools to offer personalized academic support to Franco-Ontarian students.',\n",
       " 'Our organization, with a $41,000 Resilient Communities Fund grant over 12 months, will rebuild and recover from impacts of COVID-19 by purchasing technical equipment and licenses to connect with and broaden audience reach, while allowing for innovation in developing productions, and delivering diverse, socially relevant theatre.',\n",
       " '$64,000 over two years to increase physical-activity levels for people with disabilities in Oxford County. A free adapted-equipment loan program will be expanded to the county and opportunities to engage in adapted community sports will increase.',\n",
       " '$71,500 over three years to support this group home for people with addictions, which provides a healthy environment for participants, by renovating the facility and enabling the organization to expand its donor base',\n",
       " 'to enhance a community meeting space by repairing the roof of the ARK 404 Lodge in Springfield.',\n",
       " 'to promote the Romanian culture in the Kitchener Waterloo area by providing costumes, dance equipment and building organizational capacity. The dance group will present dances from various regions of Romania.',\n",
       " 'to purchase an institutional etching press that will allow artists to create original works of fine art. The equipment will also serve to help educate other artists and community members on printmaking methods through workshops, exhibitions and shows.',\n",
       " 'to purchase new equipment in order to promote safety and enhance the craft of clay sculpting and woodworking for community-based artisans. This will help attract new members to the Burlington Sculptors and Woodcarvers Guild, part of Arts Burlington.',\n",
       " 'to increase capacity by strengthening governance, operations, archival systems and outreach activities to engage youth through dance history workshops in Ontario schools. Development staff will also be hired and a feasibility study on facility requirements completed.',\n",
       " \"to promote Riverwalk Commons in the Town of Newmarket as a cultural destination by establishing a music festival there. The festival will also feature visual artists, children's art programs, film screenings, arts workshops and culturally diverse food. Funding will support staff salaries, artists' fees and advertising.\",\n",
       " \"to support a capacity-building project that will focus on strategic planning, organizational development needs and evaluation frameworks in order to strengthen operational systems and encourage community partnerships. The collaborative and consultative process will lead to a multi-year strategic plan that will support future projects with other community partners in Toronto's Davenport West community.\",\n",
       " 'Our organization, with a $55,400 Resilient Communities Fund grant over 9 months, will rebuild and recover from impacts of COVID-19 by upgrading technical and internet equipment, providing staff training, and hiring a part-time coordinator to reconnect with audiences through an innovative series of online workshops and summer performances.',\n",
       " 'to hire a coordinator and fund travel and program expenses. This will enable the project collaborative to provide leadership and entrepreneurial skill-development assistance that will enhance employment opportunities for Francophone youth in need of additional support in Greenstone and area.',\n",
       " 'Delivering a project at the idea or conceptual stage with a $39,900 grant over 9 months to deliver a weekly recreational program for Tamil youth with developmental needs. Supporting the positive development of children and youth, this initiative is helping children and youth who are facing barriers develop strong emotional and social skills, and has an impact on the lives of  150 people in the community.',\n",
       " 'Delivering a project at the idea or conceptual stage with a $74,700 grant over 12 months to explore the feasibility of developing an innovative new social enterprise to help people with disabilities attain secure employment. Enhancing people’s economic wellbeing, this initiative is helping people become and stay employed, and has an impact on the lives of  100 people in the community.',\n",
       " 'Delivering a project at the idea or conceptual stage with a $75,000 grant over 11 months to create an alternative employment program for individuals who have Autism Spectrum Disorder. Enhancing people’s economic wellbeing, this initiative is helping people become and stay employed, and has an impact on the lives of  10 people in the community.',\n",
       " 'Delivering a project that builds on the success of a proven model or program with a $374,100 grant over 36 months to open a grocer providing access to employment, training and food. Enhancing people’s economic wellbeing, this initiative is helping people become and stay employed, and has an impact on the lives of  5,650 people in the community.',\n",
       " \"to provide resources on nutrition and engage members of North York's South Asian community in physical activity to help reduce the risk of cardiovascular disease, stroke, diabetes and cancer.\",\n",
       " '$50,000 over one year for a series of programs to generate awareness regarding diabetes prevention and management in the Toronto South Asian community. Culturally and linguistically sensitive strategies will be used.',\n",
       " \"to broaden the skills and profiles of local First-Nation and regional artists by offering a series of professional workshops in dance, song creation, theatre and comedy, and visual and media arts. Local artists' works-in-progress will be showcased to the community annually and a professional performance called Dances of Resistance produced.\",\n",
       " 'Delivering a project at the idea or conceptual stage with a $26,500 grant over 9 months to build environmental connections for youth and adults through the Equine Assisted Learning Program. Encouraging people to support a healthy and sustainable environment, this initiative is helping people connect with the environment and understand their impact on it, and has an impact on the lives of  200 people in the community.',\n",
       " 'to implement an education program comprised of workshops, camps and a self-guided tour. The program will engage the Haliburton community and build partnerships to increase awareness of sustainable food production and building technologies, ecosystems restoration and ecological stewardship.',\n",
       " 'Our organization, with a $30,600 Resilient Communities Fund grant over 12 months, will rebuild and recover from impacts of COVID-19 by assisting with the technological and program materials costs required to transition needed programs, activities, and practices to an online format.',\n",
       " 'to purchase furnishings and equipment for gathering rooms and common spaces that will create open and friendly community gathering places for seniors in Caledon East.',\n",
       " 'to increase capacity by providing training, staffing and renovations to a drop in center for homeless and difficult to house youth in Guelph.',\n",
       " '$17,200 over six months to develop a strategic plan to address the viability of establishing a new affordable residential facility for seniors in Kingston.',\n",
       " \"$24,000 over one year to develop and implement a communication strategy that raises awareness among seniors and their families of how the organization meets senior's housing needs.\",\n",
       " 'Delivering a project at the idea or conceptual stage with a $69,700 grant over 12 months to explore a community-based model for affordable housing for seniors. Building inclusive and engaged communities together, this initiative is helping diverse groups work together to improve community life, and has an impact on the lives of  1,000 people in the community.',\n",
       " \"to create a viable farmers' market that will support locally grown food systems, sustain farm-based businesses and improve the economic viability and social connectedness of this rural Wellington community by providing support for promotions and staffing.\",\n",
       " '$50,000 over one year to enhance child development and parenting programs with on-site professional services and by providing transportation for parents and their children to attend the program.',\n",
       " 'to increase capacity by contributing to staff salaries and providing curatorial, technical and marketing expertise to partners as they pilot a disability arts festival in a selected regional community. The feasibility of replicating this festival model will guide future projects.',\n",
       " '$100,300 over two years to develop this Toronto festival. The event celebrates and showcases artists with disabilities and increases community participation in the arts.',\n",
       " 'to purchase wheelchair basketball court chairs, cardio equipment and volleyball posts and net, which will increase sports and recreation opportunities for local persons of all abilities.',\n",
       " 'Delivering a project at the idea or conceptual stage with a $29,900 grant over 12 months to establish an adaptive kayaking location to empower people with disabilities to improve their physical and mental health. Fostering more active lifestyles, this initiative is helping programs be safe, inclusive, and fair, and has an impact on the lives of  200 people in the community.',\n",
       " 'Delivering improved infrastructure with a $6,000 grant over 6 months to purchase five new kayaks and personal flotation devices, as well as kayak and canoe paddles. Fostering more active lifestyles, this initiative is helping infrastructure be accessible and available for physical activity, and has an impact on the lives of  200 people in the community.',\n",
       " 'Delivering improved infrastructure with a $6,700 grant over 11 months to obtain new kayak/canoe equipment for people of all abilities. Fostering more active lifestyles, this initiative is helping infrastructure for unstructured and structured physical activities, and has an impact on the lives of  100 people in the community.',\n",
       " 'Our organization, with a $14,700 Community Building Fund – Operating stream grant over 12 months, will continue operating facilities and/or delivering experiences or programs for Ontarians by supporting salaries and operating expenses while developing and implementing post Covid-19 protocols, and developing online content.',\n",
       " '$22,000 over six months to conduct an organizational audit and develop a strategic plan to help the organization meet the increasing and diverse needs of children and youth with disabilities.\\n',\n",
       " 'Our organization, with a $71,100 Resilient Communities Fund grant over 12 months, will rebuild and recover from impacts of COVID-19 by expanding online services for youth with disabilities by helping with website maintenance costs, hiring part-time staff and developing a new strategic fundraising plan.\\nCensus Division of Impact: Toronto',\n",
       " '$24,900 over one year to purchase a new mower to reduce maintenance expenses and improve the quality of this golf course, which is a major recreational facility in the community.',\n",
       " \"$25,000 over one year for repairs to the walls of the clubhouse in Iroquois Falls. This will ensure the building's structural integrity and that it continues to be a safe and comfortable place for golfers and other community groups to gather.\",\n",
       " '$75,000 over one year to install an irrigation system at this nine-hole golf course in Iroquois Falls that is popular with community residents and attracts tourists to the area.',\n",
       " '$49,000 over one year to develop a vibrant community-based centre for art in a multi-cultural/linguistic environment in Cochrane.\\n\\n',\n",
       " 'to develop a program to enhance independent living skills in young adults living with physical disabilities in Hamilton. Funds will support a coordinator, attendant, supervisory staff and program expenses.',\n",
       " '$225,200 over two years to produce and disseminate a cancer education video by and for Aboriginal people to demystify treatment and promote healthy lifestyles and the need for early detection.',\n",
       " 'to support part-time staff salaries and hire a consultant to conduct board development, complete strategic and business plans and conduct outreach to visual arts organizations across Ontario. Office furniture and digital equipment, including computers, cameras and software, will be purchased.',\n",
       " \"Our organization, with a $88,500 Resilient Communities Fund grant over 12 months, will rebuild and recover from impacts of COVID-19 by developing and implementing training and mentorship resources, hiring staff to help rebuild, and continuing to assist the next generation of Ontario's Indigenous arts leaders.\\nCensus Division of Impact: Toronto\",\n",
       " \"$40,000 over one year to strengthen the organization's operations in order to continue to offer authentic programs of aboriginal culture in the National Capital region.\",\n",
       " '$43,900 over one year to expand educational theatrical outreach into rural communities that surround the First Nations reserves of Golden Lake and Akwesasne. Interactive workshops and performances in traditional languages will also be provided.',\n",
       " '$63,000 over one year to provide an opportunity for young Aboriginal adults to educate children and youth across Eastern Ontario about Aboriginal culture and arts through dance and theatrical performances.',\n",
       " 'to provide urban Aboriginal children and youth in the National Capital Region and the Akewsasne First Nation community with an opportunity to participate in workshops and performances that will help them develop artistic skills in dance, theatre and story-telling while building stronger connections to their cultural teachings, values and traditions.',\n",
       " '$42,300 over three years to help increase the capacity of the organization to provide services for the Aboriginal community.',\n",
       " \"$15,000 over one year to purchase a van that will be used  to increase access to the organization's early years and seniors programming by providing transportation to clients and volunteers in the Chapleau area.\",\n",
       " '$159,100 over  two years to recruit health care and social service professionals to work in Aboriginal  communities and to promote these occupations as desirable career opportunities for First Nations youth.',\n",
       " '$25,000 over 4 months for an Elders, Spiritual Leaders and Traditional Healers Gathering, July 27-30, 1999, at Fort Hope 1st  Nations, to bring together Elders and youth from isolated northern reserves to support passing on of traditional knowledge, etc',\n",
       " \"$29,600 over 3 months to support the 2000 NAN Elders' Conference on Traditional Governance to be held in Thunder Bay.\",\n",
       " \"$350,000 over two years to produce high-quality, culturally-relevant news, public affairs and other radio programs specifically oriented to the needs, interests and concerns of Ontario's Aboriginal peoples.\",\n",
       " 'Our organization, with a $48,700 Resilient Communities Fund grant over 12 months, will rebuild and recover from impacts of COVID-19 by hiring staff and consultants to modify existing programs and pivoting the peer-to-peer pilot project online.\\nCensus Division of Impact: Toronto',\n",
       " 'to develop a new website that will allow for increased interactivity among youth, adults and parents of children with a facial difference in Ontario.',\n",
       " '$105,500 over 18 months to design and implement a volunteer training program based on best practices in the not-for-profit sector. The program will address the needs of individuals with facial differences and their families.',\n",
       " 'to purchase and install four waterless composting toilets at the Above the Falls Challenge Course site in Goderich. This demonstration site for green technologies will provide local youth with an outdoor adventure education program and opportunities for challenges, self-discovery and personal growth._x000D_\\n_x000D_\\n',\n",
       " 'to conduct a needs assessment and program evaluation for this west-end Toronto organization that helps youth, newcomers, parents, seniors, women experiencing abuse, volunteers and students achieve their full potential.',\n",
       " 'to hire a coordinator to formalize and expand recruitment programs so that more volunteers can help deliver programs at this west Toronto multi-service organization serving Portuguese-speaking individuals and families.',\n",
       " '$105,500 over two years to establish a sustainable volunteer development program to promote the prevention of older adult abuse in Peterborough City & County.',\n",
       " 'to increase organizational capacity by conducting a comprehensive organizational review and re-branding. Building on a 25-year history, a new strategic plan will ensure the organization continues to serve those in need across the region.',\n",
       " 'Delivering a project at the idea or conceptual stage with a $190,200 grant over 36 months to provide weekly mentoring opportunities and workshops for racialized and newcomer youth in Toronto. The group will expand peer and youth support networks, empower and inspire youth to continue with high school and post-secondary education, participate in school activities and become more involved in their communities.',\n",
       " '$8,000 over one year to complete an engineering study and develop a strategic business plan for the theatre, so it can plan for upgrades and improve overall sustainability.',\n",
       " '$87,200 over two years to undertake a comprehensive marketing strategy and to acquire equipment to increase operational efficiency which will benefit the local performing arts and attract tourists to the area.',\n",
       " '$21,500 over one year for artists, equipment rental and publicity to attract visitors to celebrate culture at the Acadian and Franco-Ontarian family festival in Rockland during the 400th anniversary of the Francophone presence in North America.',\n",
       " 'Delivering a project that builds on the success of a proven model or program with a $750,000 grant over 36 months to scale up an entrepreneurial program that offers mentorship opportunities, focusing on creating a more sustainable environment. Enhancing people’s economic wellbeing, this initiative is helping people become entrepreneurs, and has an impact on the lives of  150 people in the community.',\n",
       " '$23,000 over one year to provide leadership training and community development activities for psychiatric survivors from across the GTA.\\n',\n",
       " 'Our organization, with a $73,200 Resilient Communities Fund grant over 12 months, will rebuild and recover from impacts of COVID-19 by creating a sustainable financial plan and delivering virtual and in-person equine therapy treatments for clients in need.\\nCensus Division of Impact: Chatham-Kent',\n",
       " 'to enhance the Acceptional Riders program in Chatham-Kent to include survivors of brain injury and stroke. This program would support and encourage persons with physical and developmental disabilities by offering a recreational horseback riding program to acquire riding skills while gaining therapeutic benefits.',\n",
       " '$98,500 over two years for a youth outreach initiative to reduce the incidence of HIV/AIDS infection in Sault Ste. Marie and the Algoma district.',\n",
       " '$75,000 over three years to support the development of recreational opportunities for isolated, low income seniors across the City of Toronto.',\n",
       " 'Delivering a project at the idea or conceptual stage with a $69,400 grant over 11 months to research and promote methods for successfully integrating internationally educated researchers into their chosen fields. Enhancing people’s economic wellbeing, this initiative is helping people become and stay employed, and has an impact on the lives of  300 people in the community.',\n",
       " 'Delivering a project that builds on the success of a proven model or program with a $263,800 grant over 29 months to launch Tech Spark, a technology creation program for youth facing barriers, in select schools. Supporting the positive development of children and youth, this initiative is helping children and youth who are facing barriers develop strong emotional and social skills, and has an impact on the lives of  180 people in the community.',\n",
       " 'Delivering improved infrastructure with a $110,000 grant over 11 months to make accessibility upgrades to washroom facilities at one location, and replace tiling at a second. Building inclusive and engaged communities together, this initiative is helping people who are isolated have connections in their community, and has an impact on the lives of  11,000 people in the community.',\n",
       " 'to create GreenAccess, a multi-purpose roof garden program promoting community health, environmental sustainability, and awareness of urban agriculture.  Located in the Crescent Town, Teesdale and Oakridge priority neighbourhoods in East Toronto, GreenAccess will encourage residents to meet, learn, and grow together through participation and volunteering._x000D_\\n_x000D_\\n',\n",
       " 'to launch the Green Access Academy initiative, providing environmental programming to children aged 6 to 12 in Toronto’s Crescent Town and Teesdale/Oakridge neighbourhoods. Funds will be used to expand gardening spaces, hire a Community Health Worker, and train community leaders in delivering hands-on activities to people living in high-rise, low income communities.',\n",
       " 'to purchase gardening equipment and make the community rooftop garden more accessible at this community services centre serving the Crescent Town and Teesdale/Oakridge neighbourhoods in Toronto. Funds will also be used to buy computer and office equipment and a vehicle to better serve immigrants and refugees._x000D_\\n',\n",
       " '$53,400 over one year to advance accessibility\\nfor people with disabilities in order to improve their quality of life.\\n',\n",
       " '$125,500 over three years to scale-up and develop chapters of the organization in six Toronto neighbourhoods. The expanded community loan program will provide credit to a greater number of low-income individuals starting small businesses.',\n",
       " 'Delivering a project at the idea or conceptual stage with a $52,900 grant over 11 months to provide affordable small loans to buy work-related equipment or upgrade employment skills. Enhancing people’s economic wellbeing, this initiative is helping people become and stay employed, and has an impact on the lives of  280 people in the community.',\n",
       " 'Delivering a project at the idea or conceptual stage with a $74,700 grant over 12 months to help marginalized groups access good trades skilled employment during the construction of the Eglinton Crosstown. Enhancing people’s economic wellbeing, this initiative is helping people become and stay employed, and has an impact on the lives of  300 people in the community.',\n",
       " 'to increase community outreach and partnership-building efforts to deepen the impact of this social finance enterprise across Toronto. Workshops on financial literacy, business planning and business skills development will also be delivered to disadvantaged individuals, increasing their opportunities to receive a microloan.',\n",
       " '$225,000 over three years for staff, outreach and administration costs to support the Caring Dads program, which will help men to develop non-abusive relationship skills and better parenting abilities.',\n",
       " '$36,000 over one year to upgrade computer equipment which will enhance the quality and efficiency of services to Burlington area families.',\n",
       " 'With a grant of $545,200 over 36 months, this collaborative will strengthen the service delivery system for youth who are at risk of, or are currently experiencing, homelessness in Leamington. It will provide a one-stop, “no wrong door” approach to keep youth connected to the community and enable young people to navigate and access needed services. ',\n",
       " 'Delivering a project that builds on the success of a proven model or program with a $367,100 grant over 36 months to encourage individuals with disabilities to stay active by creating community gardens programs. Fostering more active lifestyles, this initiative is helping Ontarians participate in an active lifestyle, and has an impact on the lives of  3,000 people in the community.',\n",
       " 'to conduct Phase 2 of a research study engaging 200 people with disabilities in Toronto in 20 peer-led focus groups on the topic of aging with a disability. A final research paper, disseminated broadly, will help policy makers identify service gaps and required resources, and make recommendations to inform and improve the work of the 12 organizations in the Aging With a Disability Working Group.',\n",
       " '$24,000 over one year to support the production of a guide highlighting businesses and attractions that are accessible for people with disabilities. The initiative will benefit area residents and tourists to the area.',\n",
       " \"Delivering a project that builds on the success of a proven model or program with a $355,100 grant over 36 months to replicate lasting Customized Employment opportunities tailored to people with disabilities and related barriers in Barry's Bay and surrounding townships. Enhancing people’s economic wellbeing, this initiative is helping people become and stay employed, and has an impact on the lives of  50 people in the community.\",\n",
       " 'Our organization, with a $29,700 Resilient Communities Fund grant over 6 months, will rebuild and recover from impacts of COVID-19 by purchasing health and safety equipment, cellphones, laptops and iPads, cubicles, furniture, filing cabinets to pivot in-person programs to online delivery, enabling staff to work remotely, and updating office space for new distancing protocols.',\n",
       " \"to develop employment opportunities for people with disabilities in Barry's Bay and surrounding regions of Renfrew County by hiring a Project Coordinator and Community Developer to implement a multi-year strategic plan.\",\n",
       " \"to provide employment opportunities for people with disabilities and those facing multiple barriers to employment in Barry's Bay, Eganville and Renfrew, and to build the capacity of this emerging organization through the development of a comprehensive strategic plan. Funding will pay for a qualified part-time coordinator and an experienced consultant.\",\n",
       " '$8,000 over 12 months to finance an Internet summer camp for youngsters, increase training for adults and private enterprises and improve certain aspects of their Web page.',\n",
       " 'to purchase office equipment that will enable the organization to enhance professional communications with volunteers, businesses and the community and increase its capacity to deliver awareness and training programs.',\n",
       " '$31,000 over two years to update the Accessible Niagara.com website, develop an on-line assessment tool for people with disabilities to audit tourism-related venues and produce an educational DVD about accessible tourism for service providers.',\n",
       " 'Delivering a project at the idea or conceptual stage with a $75,000 grant over 12 months to hire a Music Therapist to pilot the Creating Connections Through Music project that will reduce social isolation among people with dementia and their caregivers. Building inclusive and engaged communities together, this initiative is helping people who are isolated have connections in their community, and has an impact on the lives of  125 people in the community.',\n",
       " \"Delivering a project that builds on the success of a proven model or program with a $177,400 grant over 36 months to expand a home exercise program for Halton's homebound, older adults. Fostering more active lifestyles, this initiative is helping Ontarians participate in an active lifestyle, and has an impact on the lives of  150 people in the community.\",\n",
       " 'Delivering a project that builds on the success of a proven model or program with a $343,800 grant over 36 months to assist with staffing and program costs to expand the Connecting Caregiver project to reduce social isolation for caregivers of people living with dementia in the Halton region. Building inclusive and engaged communities together, this initiative is helping people who are isolated have connections in their community, and has an impact on the lives of  1,000 people in the community.',\n",
       " 'Delivering improved infrastructure with a $150,000 grant over 6 months to assist with the purchase of a building to house a new dementia care centre. Building inclusive and engaged communities together, this initiative is helping people who are isolated have connections in their community, and has an impact on the lives of  1,025 people in the community.',\n",
       " 'Delivering improved infrastructure with a $24,800 grant over 7 months to purchase new furniture and equipment for day programs for people with dementia. Building inclusive and engaged communities together, this initiative is helping people who are isolated have connections in their community, and has an impact on the lives of  200 people in the community.',\n",
       " 'Our organization, with a $12,500 Resilient Communities Fund grant over 3 months, will rebuild and recover from impacts of COVID-19 by purchasing equipment and offering technical training for staff to continue providing virtual support for people living with dementia.\\nCensus Division of Impact: Regional Municipality of Halton',\n",
       " '$120,000 over three years to implement the People in Crisis Program, a collaborative and multidisciplinary approach to provide services to clients in shelters and young offender facilities in Halton.',\n",
       " \"$50,000 over one year to support 'People in Crisis', a comprehensive health care support program for vulnerable adults.\",\n",
       " '$78,000 over three years to increase volunteers for a variety of health programs. This will help the organization serve more clients through the Tele-touch Reassurance Service and Friendly Visiting programs in Halton.\\n',\n",
       " 'to hire a coordinator to train staff and volunteers working with persons with dementia. This will increase their skill and comfort in supporting individuals with dementia and their caregivers.',\n",
       " \"to hire a part-time coordinator to increase the organization's capacity to deliver its bereavement support program in the Halton area. Funding will also support the lending library, recruitment and training of new volunteers, and the revision of the bereavement support group manual.\",\n",
       " '$65,900 over one year to purchase a wheelchair accessible van that several community organizations will use for transportation to enable disadvantaged adults to participate in recreational activities.',\n",
       " '$490,500 over three years to develop a new third-party accreditation agency for community-based service organizations.  Six accreditation programs serving more than 300 health and social services organizations in Ontario will be merged first.',\n",
       " '$25,000 to establish Accès Arts Canada, an organization to promote Afro-Canadian Francophone artists from the GTA. Staff, facilities and furniture will enable this new collaborative to develop workshops and present public events.',\n",
       " '$206,000 over 4 years to firmly establish an economically viable business in growing and selling herbs and herb-related products, employing at least twenty-five members of this psychosocial rehabilitation program for consumers of the mental health syste',\n",
       " \"to increase the organization's capacity to provide choral music to the not-for-profit organizations and residents of Dufferin County. Funding is for purchasing sound and lighting equipment.\",\n",
       " '$20,000 over one year to enable this popular community choir to purchase new uniforms and continue to offer quality performances to residents of Dufferin County.',\n",
       " '$38,500 over one year to help develop operational planning strategies to establish three new community running clubs in Ontario that will provide integrated recreational programs for athletes with and without disabilities.',\n",
       " '$64,700 over 30 months to improve volunteer retention and recruitment by providing skills development and networking opportunities for existing and new volunteers, and by promoting partnerships that will support program growth.',\n",
       " '$275,000 over four years to support the Acorn Community Outreach Network, a collaboration of 19 local organizations, in implementing a community development project aimed at increasing local leadership and community capacity in a low-income area.',\n",
       " \"$115,000 over two years to produce 'Shakespeare on the Thames', an outdoor theatre event that will attract an audience of 5,000 people to downtown London.\",\n",
       " '$50,000 over one year to produce Shakespeare on the Thames, a new showcase aimed at attracting tourists to London and providing area residents with seasonal entertainment and interested students with hands-on experience in a true artistic setting.',\n",
       " \"$183,500 over three years to support a resource development program to diversify the agency's funding base in order to provide enhanced mental health services to ethno-racial communities.\",\n",
       " \"$15,000 over one year to purchase software and develop it to manage the organization's services in London-Middlesex. The new tool will increase the ability for interpreters and clients to communicate through a web-based application.\",\n",
       " 'Delivering a project at the idea or conceptual stage with a $73,600 grant over 12 months to research and evaluate a coordinated community-wide response for persons affected by human trafficking. Building inclusive and engaged communities together, this initiative is helping diverse groups work together to improve community life, and has an impact on the lives of  999 people in the community.',\n",
       " 'to increase access to public services for newcomers and Ontarians facing language barriers in London and surrounding areas, by purchasing and installing software that will allow them to connect with interpreters and translators.',\n",
       " 'Our organization, with a $135,400 Resilient Communities Fund grant over 12 months, will rebuild and recover from impacts of COVID-19 by hiring a project manager to review and implement program delivery methods, purchasing new technical equipment and reconfiguring building space.',\n",
       " 'to renovate an industrial unit in Markham to create a workshop and meeting area, resource and multimedia centre, performance stage, art studio, office space and an accessible washroom in order to expand programs offered to youth in the East Asian community.',\n",
       " '$33,800 over one year to train volunteers, develop materials and purchase supplies for the 2006 Ontario Senior Games in Hamilton. The event will engage 1,500 seniors, encourage healthy active lifestyles and promote tourism.',\n",
       " 'to implement a community engagement initiative involving participatory opportunities for students and theatre audiences. The organization will develop innovative interactive activities including the use of technology both in the theatre and outside in order to increase audience engagement and participation.',\n",
       " '$65,200 over one year to consolidate the newly established Action Budget project which assists people to effectively manage their budget through training and professional counselling.',\n",
       " '$74,000 over one year to provide credit counselling services and training on budget planning so that Hawkesbury area residents living on limited incomes can more effectively manage their personal financial situation.',\n",
       " 'to increase accessibility by improving safety features of the learning centre and enhancing technology for staff and community members.',\n",
       " '$24,100 over one year to promote the organization by producing marketing materials and holding events to attract participants and tourists, and by purchasing equipment to maintain dirt jumps which provide recreational opportunities for area youth.',\n",
       " '$72,700 over three years to establish a year-round program of action sports, attracting positive attention and creating awareness of the sports within the wider community.',\n",
       " 'to hire part-time staff and fund program expenses, which will enable this collaborative to increase participation in its community drug strategy.  This will help reduce the harm associated with substance misuse and improve health, safety and well-being in the community.',\n",
       " \"$130,000 over two years to support the development of Vanier's Sugar Bush's programs through environmental upgrades, and to support organizational outreach and efficiency.\",\n",
       " '$56,800 over one year  for the Youth to Youth program, which provides leadership training for 50 high-school students & community involvement for over 300 elementary school children.',\n",
       " '$15,000 over one year to pay the honoraria of staff instructing at the homework club in the Haitian community of Ottawa-Vanier.',\n",
       " '$45,000 over three years to provide Francophone tutoring services to children and youth with learning difficulties aged 6 to 19 years. The program will target the Haitian community in Ottawa West area, including Barrhaven, Nepean and Kanata.',\n",
       " '$17,600 over seven months for staff and board-member training. The organization will develop a three-year strategic plan and implement communication and volunteer recruitment strategies to improve youth engagement and mentorship programs in Ottawa.',\n",
       " 'to purchase office equipment and hire staff to oversee the planning and marketing of three cultural events. These programs will showcase the various cultures and traditions of Afro-Francophone communities in Ottawa and provide a unique opportunity for young local artists to perform with professionals.',\n",
       " '$80,000 over one year to engage and train parents in developing and implementing community action plans that will address education, housing, family support and health issues.',\n",
       " \"to support people experiencing chronic neuropathic pain by developing a peer support model in Dufferin. Funds will also support a trainer's salary.\",\n",
       " '$180,000 over two years for staff, equipment and program evaluation costs to enable this provincial organization to expand its services to Francophone women in underserved regions of the province.',\n",
       " '$210,000 over 3 years to provide supporting funds for their activities, which includes coordination of a 5-year strategic plan for the development of French language services across Ontario, in the area of violence against women...',\n",
       " 'to support the creation of eleven legal service distribution centres for francophone women victims of abuse across the province and to provide the necessary administrative and operational support to the satellites established.',\n",
       " '$25,000 over eight months to reduce the need for legal aid by creating resources that will enable the organization to help its clients understand and participate in housing tribunal proceedings.',\n",
       " \"$25,000 over one year to strengthen the organization's capacity to diversify its revenues and increase its fundraising capacity. This will enable it to better respond to growing demands for services around housing and the prevention of homelessness.\",\n",
       " '$25,000 over one year to train advisors to assist and represent individuals and families in Ottawa facing housing problems or at risk of losing their homes.',\n",
       " \"to hire a housing counsellor to develop innovative and more culturally appropriate services for clients who are recent immigrants or from visible-minority communities, resulting in better understanding of these groups' needs and how to respond to them.\",\n",
       " '$120,000 over 30 months to implement a community-wide strategy that involves people of all ages in physical activity, builds community capacity, improves access and creates more opportunities for physical activity in the Kingston area.',\n",
       " 'Our organization, with a $12,500 Resilient Communities Fund grant over 9 months, will rebuild and recover from impacts of COVID-19 by hiring a facilitator or consultant to develop and pilot a comprehensive and adaptable fund development plan as well as conducting subsequent staff and Board online training.\\nCensus Division of Impact: Regional Municipality of Peel',\n",
       " 'Our organization, with a $77,800 Community Building Fund – Operating stream grant over 12 months, will continue operating facilities and/or delivering experiences or programs for Ontarians by supporting staffing and operation costs as well as purchasing software and equipment while adapting to deliver in-person and virtual programming.',\n",
       " 'to improve physical activity levels of residents in Cambridge and Waterloo region by creating tv and web produced materials that emphasize the benefits of physical activity and available programs.',\n",
       " 'to recruit community ambassadors to engage members of all ages and abilities to increase their participation in physical activity.',\n",
       " '$400,000 over two years to build capacity among youth and community leaders to develop, implement, and sustain culturally relevant sports and recreation programs in remote and underserviced Aboriginal communities.',\n",
       " '$30,800 over one year for staff, training and fees to develop a comprehensive, user-friendly searchable web-based inventory of all recreation and leisure opportunities within Elgin County.',\n",
       " '$128,800 over two years to hire a project co-ordinator, produce tool kits and offer training workshops that promote greater physical activity and better health for low-income women and their families in Brantford, Six Nations and Brant County.',\n",
       " \"$135,500 over one year for staff, research and communications to produce an Ontario supplement to the Canada Report Card on Physical Activity for Children & Youth. This will compile and report information about physical activity and children's health.\",\n",
       " 'to host the Global Summit on the Physical Activity of Children in Toronto in May, 2014, and implement a knowledge-mobilization strategy across Ontario to promote the use of evidence and best practices. More than 900 delegates from Ontario and around the world will convene to share knowledge in order to foster coordinated action to address global childhood physical inactivity.',\n",
       " '$68,500 over one year to enhance the capacity of this important seniors organization by offering nutritious meals to elderly people in Chatham Kent.',\n",
       " 'Our organization, with a $18,200 Community Building Fund – Operating stream grant over 12 months, will continue operating facilities and/or delivering experiences or programs for Ontarians by supporting our staffing and general operating expenses.',\n",
       " 'to undertake an organizational review and consult with more than 70 Ontario member organizations to develop a three-year strategic plan. Online surveys, a planning summit will be undertaken and round tables will be held in London, Toronto/Hamilton, Ottawa and Thunder Bay.',\n",
       " '$315,000 over three years to improve and expand the Active Living Challenge program, an initiative that encourages Ontarians to become more physically active.',\n",
       " 'to develop and implement a structured age-friendly Wheel and Walk Mall Program in 20 enclosed malls in the city of Toronto. Trained leaders will offer a free morning program to 40 participants each week before the mall stores open for business.',\n",
       " '$177,900 over three years to build the capacity of this organization to promote physical activity by recruiting volunteers, delivering physical activity programming to children and youth, and conducting a survey of Ottawa residents.',\n",
       " \"$5,000 over one year to develop two regulation-size shuffleboard courts that will provide a local and affordable physical and recreational activity for seniors at the Watson's Comers Community Centre.\",\n",
       " 'to hire two part-time coordinators to expand the program to more sites in Halton and Peel, and to engage over 2,000 children and their families in experiential learning related to healthy nutrition, food preparation and active living. Funds will also be used for program costs so that more groups can participate.',\n",
       " 'to staff and deliver the Junior Chef Cooking Program in high-need areas in Oakville and Burlington. This cost-free initiative promotes the health and well-being of school-age children through healthy multicultural cooking, physical activity and community partnerships.',\n",
       " '$14,100 over one year for carpet bowling equipment, which will enhance recreational opportunities for seniors in Peterborough.',\n",
       " '$17,000 over one year to purchase equipment that will enhance recreational programs and volunteerism for seniors.',\n",
       " '$21,600 over one year to deliver more effective and safer programs for seniors in Peterborough by completing kitchen renovations and purchasing new appliances for the centre.\\n\\n',\n",
       " \"$100,000 over one year to install indoor artificial turf for the Acton Agricultural Society's new facility in Prospect Park, enhancing its use for indoor soccer leagues and community recreational activities.\\n\\n\",\n",
       " 'to renovate the drill shed to a multi-use facility that would be used by the community. Funding will also enhance cultural events taking place at the 100th Anniversary of the Acton Fall Fair.',\n",
       " '$75,500 over four years to enable the group to implement revenue replacement strategies that include increased sponsorships, the development of a novice swim team and CPR courses.',\n",
       " '$70,000 over one year to install a new ice refrigeration plant in the curling facility, which will improve playing conditions and enhance the growth of the sport of curling in Acton and surrounding communities.',\n",
       " 'Delivering improved infrastructure with a $250,000 grant over 9 months to make accessibility renovations, upgrade plumbing and electrical systems and purchase an air conditioning system. Fostering more active lifestyles, this initiative is helping infrastructure be accessible and available for physical activity, and has an impact on the lives of  5,000 people in the community.',\n",
       " 'to install a new brine header that will improve the ice surface and overall playing conditions at this community curling facility in Halton Hills.',\n",
       " \"to promote a new 10-week  skating program and support promotional activities for the organization's 50th Anniversary.\",\n",
       " 'to purchase computer equipment to assist volunteers and coaches to run the organization and deliver programming.',\n",
       " '$37,700 over one year to make renovations to the building and purchase equipment that will enable area seniors to make fuller use of this community recreation centre.',\n",
       " '$112,500 over three years to enhance the capacity of the Actors Theatre of Windsor through the employment of a full-time artistic director.',\n",
       " '$14,200 over one year to purchase lighting equipment that will enhance the capacity of this theatre group, increasing its professionalism and enabling it to host the first Windsor International Fringe Festival.',\n",
       " \"$350,000 over three years to increase the scientific and technical literacy of Ontario's children and youth through the expanded delivery of community-based science, engineering and technology programs.\",\n",
       " '$527,500 over three years to deliver interactive extra-curricular science, technology and environmental programs to Ontario youth. These will be targeted to girls, Aboriginal youth and youth living in remote communities or disadvantaged families.',\n",
       " 'Delivering a project that builds on the success of a proven model or program with a $650,000 grant over 36 months to build resilience and economic independence among socio-economically challenged Ontario youth. Supporting the positive development of children and youth, this initiative is helping children and youth who are facing barriers develop strong emotional and social skills, and has an impact on the lives of  10,000 people in the community.',\n",
       " 'Delivering a project that builds on the success of a proven model or program with a $750,000 grant over 36 months to empower First Nations/Inuit/Métis young people to engage in science/technology programs. Supporting the positive development of children and youth, this initiative is helping children and youth who are facing barriers develop strong emotional and social skills, and has an impact on the lives of  12,000 people in the community.',\n",
       " 'to provide science, technology, engineering and math programming for Aboriginal youth in Northern Ontario communities. Partially funded through the Future Fund program, the organization will also research models and partner with industry, corporations, government, and universities and colleges to develop programs to foster innovation, build entrepreneurial skills for youth to better compete in the knowledge-based global economy and to share their learnings.',\n",
       " '$50,000 over nine months to make the entrance to the Lucknow Community Centre fully accessible and improve energy efficiency to increase comfort and community usage.',\n",
       " '$166,300 over two years to develop and implement an adapted music program in six Ontario communities to provide children with disabilities a first-time opportunity to participate independently in music-making.',\n",
       " 'to hire a Community Capacity Quality Coordinator to build on the Anti-Stigma campaign promoted by the organization. The initiative will strengthen current and foster new relationships with other service providers through improved communication strategies and will also build internal capacity and sustainability through the development of a strong volunteer program.',\n",
       " '$139,500 over two years to develop an addiction assessment and practical  treatment program for offenders whose substance abuse is a factor in their crime, and deliver it at probation and parole offices.',\n",
       " '$99,000 over two years to evaluate the effectiveness of an Alternative to Long-Term Suspension program for students at risk of continued substance abuse.',\n",
       " 'Delivering a project at the idea or conceptual stage with a $75,000 grant over 11 months to research youth attitudes, behaviors and concerns around substance use in York Region. Supporting the positive development of children and youth, this initiative is helping parents, caregivers and adult allies have the skills to support children and youth who are facing barriers, and has an impact on the lives of  2,000 people in the community.',\n",
       " 'to complete the consolidation of two offices into one new and central location to enhance addiction counselling services provided to the growing diverse communities within York Region.',\n",
       " '$23,400 over one year to expand the respite experience program. Increased relief services for parents of children with mental health or behavioural difficulties and youth at risk in Brant County will then be provided.',\n",
       " '$5,000 over eight months to develop a lending library of resources that will provide information and support to families and children experiencing addiction, mental health and behavioural challenges.',\n",
       " 'to hire a staff person to plan for detoxification services for local residents with drug and alcohol addictions. A needs assessment and stakeholder consultation will also be completed that will identify potential efficiencies in the addictions and mental health system in Brant County and Brantford.',\n",
       " 'Delivering a project that builds on the success of a proven model or program with a $699,500 grant over 36 months to expand on the Overcoming Stigma healthy cooking awareness workshops to reduce social isolation. Building inclusive and engaged communities together, this initiative is helping people who are isolated have connections in their community, and has an impact on the lives of  240 people in the community.',\n",
       " 'to hire a coordinator and consultant to support the collaboration of three provincial community health organizations in order to increase the efficiencies and integration of mental health services to consumers across Ontario.',\n",
       " '$42,000 over two years to hire a co-ordinator for a child and youth transportation program. Youth and families in rural areas surrounding Northbrook will then have transportation to attend recreation programs, school and appointments.',\n",
       " '$14,500 over one year to purchase new collections and build a wheelchair ramp which will improve access for people with limited mobility at both libraries located in Denbigh and Flinton.',\n",
       " 'to purchase a new van that will allow adults with mobility issues and developmental disabilities to participate more fully in vocational and recreational programs in Toronto. New computers will enable staff to work more effectively and participants to have better equipment at their disposal.',\n",
       " 'to purchase computer tablets and learning applications for individuals with developmental disabilities who have autism and/or do not use words to communicate.',\n",
       " '$10,000 over one year to make improvements to the building, including the washrooms, to make the facility located in Douglas more comfortable and accessible for members of the community.\\n\\n',\n",
       " \"$30,300 over 1 year to help adolescent families pursue their education by providing a community worker in Beamsville and supplying toys and equipment to enhance their children's social and emotional development.\",\n",
       " '$35,000 over one year for repairs to the building roof, enabling it to maintain services in Welland to young families pursuing an education thanks to the provision of quality childcare and other necessary services.',\n",
       " '$45,400 over six months to repair the roof of the community facility enabling vulnerable children and families to receive ongoing support services in Welland.',\n",
       " \"$74,300 over one year to provide operational and administrative support to increase the organization's fundraising capacity in order to assist young Niagara area parents in completing their education and becoming self-sufficient.\",\n",
       " 'to provide meaningful employment, economic and social opportunities for youth and families in the Eastdale Cordage neighbourhood of Welland, through the delivery of leadership, recreation, nutrition, dental, literacy and employment programs.',\n",
       " 'to repair the heating and air conditioning system and install push button doors to ensure comfortable and universal access to the programs delivered at the Welland facility.',\n",
       " 'to support the hiring of two community workers who will coordinate educational, pre-employment, life skills and parenting programming for teen parents in Niagara Falls and St. Catharines.',\n",
       " \"to assist with the design and printing costs of a book about 64 local historical community members commemorated in mid-1800's frieze tiles at a local church.  This project has the opportunity to teach children and youth about their ancestors and local history.\",\n",
       " '$124,000 over two years to improve water quality and the fish and wildlife habitat in York Region by re-vegetating the land and stabilizing the terrain bordering streams at road crossings.',\n",
       " 'Delivering a project at the idea or conceptual stage with a $75,000 grant over 12 months to host Youth Speak Out Storytellers digital workshops in Toronto and Guelph for youth in/from government care. Supporting the positive development of children and youth, this initiative is helping youth facing barriers volunteer and are in leadership roles, and has an impact on the lives of  45 people in the community.',\n",
       " \"Delivering a project that builds on the success of a proven model or program with a $750,000 grant over 36 months to expand the Youth Speak Out Storytellers program, working with 15-29 year-old's on their lived experiences. Supporting the positive development of children and youth, this initiative is helping youth facing barriers volunteer and are in leadership roles, and has an impact on the lives of  65 people in the community.\",\n",
       " '$250,000 over five years to implement a unique adoption recruitment project that will identify adoptive families able to provide permanent homes for eligible special needs foster children.',\n",
       " 'Address the effects of developmental trauma in children and youth',\n",
       " 'Our organization, with a $142,200 Resilient Communities Fund grant over 12 months, will rebuild and recover from impacts of COVID-19 by assisting with staffing to develop fundraising strategy and purchasing donor retention software and learning management system.',\n",
       " 'to expand programming, develop a marketing campaign and implement a fund development strategy that will improve the delivery of information services about adoption while strengthening the financial health of the organization.',\n",
       " \"to increase services available to adoptive families by conducting a feasibility study, including a comprehensive business model. Funding will also support a pilot project providing comprehensive training to child welfare and children's mental health professionals working in the adoption field throughout Ontario.\",\n",
       " ' Delivering a project that builds on the success of a proven model or program  with a $500,000 grant over 4 years to assist with staffing and programs costs needed to provide safe space for intersectional, dialogue-centring storytelling, education and artistry initiatives, and hosting mental health workshops for Black women and femmes, and Black LGBTQ+ identities in Toronto. ',\n",
       " '$170,000 over 24 months to create safer spaces for Black women/femme youth in the Weston-Mount Dennis area to discuss mental health, wellness, and develop new, culturally-relevant skills. The grant will be used to help with staffing, program and training costs.',\n",
       " '$30,000 over one year to help promote awareness of the importance and benefits of lifelong learning in the workplace.',\n",
       " 'to develop clear writing standards and a training module, as well as an accreditation process offered on a fee-for-service basis, in order to boost revenue to support Learning Networks in Ontario._x000D_\\n',\n",
       " 'to pilot a program to teach financial literacy for people with lower literacy skills. Three modules will be developed and tested before they are supported by training webinars and translated into French.',\n",
       " 'to support staffing and production costs to increase the capacity of Deaf communities to access clear writing guidelines, to improve standards and produce a video that visually translates writing guidelines using American Sign Language. Recognition for Deaf community clear-writing editors, facilitators and consultants will be provided by the Learning Networks of Ontario.',\n",
       " \"$57,500 over one year for renovations to the centre's washrooms and work areas. These will make the facility fully accessible to newcomers and people of all abilities who need settlement services in the Chatham area.\",\n",
       " 'Our organization, with a $14,600 Resilient Communities Fund grant over 12 months, will rebuild and recover from impacts of COVID-19 by purchasing technological equipment and interpretation services to transition to on-line English classes to support adult newcomers and literacy learners.\\nCensus Division of Impact: Chatham-Kent',\n",
       " \"to fund staff who will teach computer literacy, financial literacy, women's health and communication skills, to women who are vulnerable or disadvantaged in Chatham-Kent. By developing these valuable skills, these women will face improved employment prospects and social integration.\",\n",
       " '$35,000 over two years to provide operational support to an Adult Day Program for Brant County.',\n",
       " '$300,000 over three years to assist communities in implementing a CPR program in high schools across Ontario so that youth will be equipped with the skills and knowledge needed to save lives at home and in their communities.',\n",
       " '$450,000 over three years to assist 200 Ontario high schools in setting up their own CPR and automated external defibrillator (AED) program. Youth will then be given the skills and knowledge to save lives.',\n",
       " 'Delivering a project at the idea or conceptual stage with a $75,000 grant over 12 months to conduct an environmental scan regarding the creation of a community hub in Greater Fort Erie. Building inclusive and engaged communities together, this initiative is helping diverse groups work together to improve community life, and has an impact on the lives of  10,000 people in the community.',\n",
       " '$100,000 over six months to install an energy efficient air conditioning system that will improve the health and safety of children, staff, parents and caregivers.',\n",
       " '$155,200 over three years to establish the Villaways Community House and programs to support children, youth and parents, and to expand participation in the Villaways Resource Group.',\n",
       " 'to purchase a cargo trailer for the transportation of kayaks and other equipment so that this volunteer group can deliver its Youth Challenge Kayak Program in the Cornwall area and provide for secure storage space when the equipment is not in use.',\n",
       " '$32,900 over one year to organize and deliver a two-day symposium. This meeting will engage stakeholders in creating a community-based arts, culture and heritage action plan, which will be an important framework for local arts decision making.',\n",
       " '$58,000 over 18 months for staffing and project funding to develop a cultural roundtable. This group will oversee the implementation of a wide range of action and communication plans to enhance arts, culture and heritage in Halton Hills.',\n",
       " 'Delivering improved infrastructure with a $150,000 grant over 12 months to purchase new lighting, sound and video equipment for the Aeolian Hall. Enriching people’s lives through arts, culture and heritage, this initiative is helping arts, culture and heritage have appropriate spaces, and has an impact on the lives of  3,000 people in the community.',\n",
       " 'Our organization, with a $100,000 Community Building Fund – Operating stream grant over 12 months, will continue operating facilities and/or delivering experiences or programs for Ontarians by supporting marketing and rental costs as well as purchasing audio-visual equipment while enhancing wireless infrastructure and recording studio capabilities.',\n",
       " 'Our organization, with a $150,000 Resilient Communities Fund grant over 12 months, will rebuild and recover from impacts of COVID-19 by enhancing our recording studio and online resources, as well as investing in training and development.\\nCensus Division of Impact: County of Middlesex',\n",
       " 'to support quality arts infrastructure in London, by replacing the heating and cooling systems and performing electrical upgrades to the Aeolian Hall.',\n",
       " 'to hire an executive director and administrative assistant who will market the hall to the wider community and establish it as an ideal venue for concerts and events in London and area.',\n",
       " 'to implement the El Sistema Aeolian, a free, intensive and accessible after school orchestral program that will provide 100 children and youth the opportunity to get involved in a world-renowned musical program, with the goal of helping them achieve their full potential and enrich the London community.',\n",
       " '$25,000 to purchase a spring floor designed to ensure a safer tumbling surface for recreational and competitive gymnasts at this gymnastics club located in Welland.',\n",
       " \"$16,700 over two years to build a flying replica of Canada's first airplane, the Silver Dart, in Niagara. It will be displayed at community events and ultimately placed in a museum where presentations detailing Canadian aviation history can be offered.\",\n",
       " '$75,000 over one year to support a community-wide initiative to reduce and prevent bullying among children and youth in the Hamilton area.',\n",
       " \"to hire a full-time manager and to lease space to house the organization's administrative services and client-based programs. A new website, shelving, display units and lighting will help the organization continue to provide support services and employment programs for a growing number of people diagnosed with mental illness in North Bay and area.\",\n",
       " 'to purchase a truck and enclosed utility trailer to transport workers and equipment. This new equipment will help to sustain current employment programs for persons with disabilities in North Bay who carry out yard maintenance, moving and snow removal services.',\n",
       " '$141,500 over three years for a project co-ordinator and resource materials to increase affordable housing in Collingwood by undertaking research, education and community development with local government, landlords, residents and developers.',\n",
       " '$135,000 over two years to facilitate a community approach in supporting people moving from shelters to affordable home ownership as part of a catalyst for economic growth and neighbourhood revitalization in Hamilton.',\n",
       " 'to hire a coordinator to support the work of a multi-stakeholder group of individuals and organizations to find innovative and collaborative ways to address the growing need for affordable accessible housing in Halton. Funding will also support public forums that will raise awareness of local housing issues.',\n",
       " '$6,000 over one year to initiate a mentorship program with twenty Afghani youth in Durham. Mentorship activities will include a homework club and guest speaker sessions.',\n",
       " 'to develop environmental awareness, leadership skills and civic participation opportunities in the Afghan community, with a focus on youth leadership.  Programming includes educational workshops, outdoor activities and the production of an environmental video and related materials for Afghan community members from across Toronto.',\n",
       " \"to hire a Program Coordinator and Peer Leaders to oversee the implementation of an awareness program that will encourage acceptance of mental illness within Toronto's Afghan, Iranian and Central Asian communities. Funds will help public outreach efforts.\",\n",
       " \"to hire an executive director and support volunteer development costs in order to increase access to services by community members in Toronto's west-end priority areas.\",\n",
       " \"to hire an outreach coordinator to build organizational infrastructure to support outreach and educational activities in Toronto, increase revenues, grow the Ensemble's audiences and develop strong relationships with community partners.\",\n",
       " '$20,000 over one year for costumes and displays to enhance the cultural presentations of the Africa Pavillion at the 2008 Carassauga festival in Mississauga.',\n",
       " 'to increase appreciation for a healthy eco-system and increase employability of lower income and new immigrant youth in Kitchener Waterloo by developing a youth focused community garden project. Funding will be used to support staffing and program costs.',\n",
       " \"$9,000 over one year to support the provision of recreational activities for children attending Camp Tiamoyo in the summer, and the development of a website to enhance the organization's communications capacity.\",\n",
       " 'Delivering a project that builds on the success of a proven model or program with a $245,600 grant over 24 months to produce and share video series showcasing African-Canadian culture which includes oral traditions, performing arts and social practices. Enriching people’s lives through arts, culture and heritage, this initiative is helping the preservation and animation of cultural heritage, and has an impact on the lives of  11,000 people in the community.',\n",
       " 'to fund salary, administrative and programming expenses to deliver services and increase awareness, participation and involvement of African Canadians in community development in London and area.',\n",
       " \"$183,000 over three years to operate and promote the network's five historic facilities in order to increase their visibility.\",\n",
       " 'to implement the Imani Healing Circle, a program for African Canadian youth in Toronto involved with the criminal justice system, who are gang-involved and/or experiencing drug and mental health issues. The circle will provide them with skills to address underlying issues and make positive life choices. More than 350 youth will be mentored and will receive supports to reduce recidivism and to reintegrate into the community.',\n",
       " '$65,000 over two years to enhance the delivery of after-school support programs in Toronto. A plan will be implemented to encourage low-income and African-Canadian children and youths to improve their educational achievements and stay in school.',\n",
       " '$77,600 over two years to provide coordination and resources to the African Canadian Social Development Council to help build capacity among its 54-member organizations so they can better serve clients.',\n",
       " 'Delivering a project at the idea or conceptual stage with a $170,400 grant over 24 months to provide supports to facilitate systems navigation and improve access to community services for Black newcomer parents, caregivers, and guardians living in Sault Ste. Marie and area, and ensure social integration is done in an informative, socially and culturally anchored safe space.',\n",
       " '$24,000 over one year to document the contributions of a diverse group of educators that served the Hamilton Wentworth Region for the last forty years and promoting black history in the region .',\n",
       " 'to implement a homework club program in London targeting children from African origins and help decrease high drop out rates in these communities.',\n",
       " '$118,700 over 2 years to provide the opportunity to stabilize its operations, systems, policies and structure and work towards long-term sustainability as it offers culturally sensitive programs to the needs of the Afro-Canadian community in Peel.',\n",
       " '$199,000 over three years to involve immigrant minority youth of African descent in arts, heritage and cultural activities to increase their self-esteem and self-confidence. This will benefit the Brampton and Mississauga communities.',\n",
       " '$30,700 over one year to support an intergenerational mentorship program for African-Canadian at-risk youth in Peel.',\n",
       " 'Our organization, with a $60,100 Resilient Communities Fund grant over 12 months, will rebuild and recover from impacts of COVID-19 by hiring consultants to train staff on remote work programming, strategic planning and developing organizational policies, offering training sessions for staff and Board.',\n",
       " \"$25,000 over one year to build the capacity of this emerging Ottawa-based workers' co-op by developing the business partnerships needed to ensure the long-term viability of this community and economic development (CED) enterprise.\",\n",
       " \"$75,000 over one year to explore Africa's relationship to the West through workshops with artists from Ontario university drama programs, a public forum by the Centre for Ethics, and a multimedia installation at the Luminato Festival in Toronto.\",\n",
       " '$10,000 over eight months to support the development of volunteer policies and procedures in order to build the capacity of the organization to develop programs and services to meet the needs of African-Canadian youth.',\n",
       " '$65,000 over 28 months to expand, strengthen and recruit volunteers for this homework club for African-Canadian students. The program will help students acquire the knowledge and self-esteem to perform academically and complete their education.',\n",
       " '$10,000 over one year to provide start-up funds for a mediation service designed to meet the needs of African-Canadians and other members of black communities in greater Toronto.',\n",
       " 'to hire a full-time coordinator to enhance and maintain an effective volunteer program responsive to the needs of African communities regarding HIV/AIDS awareness, prevention, education and support across Toronto.',\n",
       " 'to support the program Raising Sexually Healthy Children within five African Canadian communities across Toronto. It will use a peer-led train-the-trainer model to engage parents and caregivers, increasing their awareness about the importance of sharing factual information about sexual health with their children and equipping them with specific communication and facilitation skills.',\n",
       " \"$25,000 over one year to support Journée de la culture et de l'art africain, a public event that promotes African culture, that will be held in Toronto in August 2000.\",\n",
       " '$50,500 over eight months to increase public awareness and present a series of artistic and cultural events that celebrate African Canadian culture.',\n",
       " '$75,000 over one year to produce and promote a compilation CD of 20 tracks by 10 artists from the francophone ethno-cultural community, including a marketing kit for the finished product.',\n",
       " \"to develop strategic and business plans, and create a communication plan to raise the profile of the activities of this Toronto organization, including Festival Bana y'Afrique, an annual celebration of African music and art.\",\n",
       " 'Our organization, with a $25,900 Community Building Fund – Operating stream grant over 6 months, will continue operating facilities and/or delivering experiences or programs for Ontarians by retaining program staff, updating the website and upgrading video conferencing equipment to support virtual programs and events.',\n",
       " '$153,000 over three years for equipment, administration and program costs to develop peer-led programs. These will help engage 1,000 afro-Canadian youth aged 13 to 18 in positive activities, helping to build self-esteem and leadership skills.\\n',\n",
       " '$25,000 over one year to purchase equipment and develop and deliver a youth-issues program that will provide education and positive role models for black youth aged 13 to 21 years from the African- and Caribbean-Canadian communities.',\n",
       " 'to continue a weekly program for black youth, aged 9 to 21 years, in Hamilton that develops their leadership skills through mentoring and volunteering.',\n",
       " 'Delivering a project at the idea or conceptual stage with a $241,000 grant over 36 months to address the lack of safe performance spaces and learning opportunities in the music industry for Black queer creatives within Toronto\\t\\n\\n',\n",
       " 'to support Afrofesta London in its fourth year of growth by supplementing funding for the parade, bringing in recognized performers and purchasing costumes and a sound system to be used in this and future events.',\n",
       " '$75,000 over one year to provide 14 Ottawa-area schools with after-school program activities, which include homework tutoring, literacy instruction, skill-based sport instruction, one-on-one mentoring and supervised recreational play.',\n",
       " 'Our organization, with a $86,100 Resilient Communities Fund grant over 12 months, will rebuild and recover from impacts of COVID-19 by adapting school-visit program delivery to digital formats for students, and installing permanent tent anchors to safely host programs outside.\\nCensus Division of Impact: Toronto',\n",
       " \"to enhance the organization's ability to raise funds by implementing new fundraising strategies such as Text to Donate, online campaigns, volunteer engagement strategies and membership campaigns. The grant will also help develop a sustainability plan and increase the Thrift Store's sales revenues by improving the sorting processes.\",\n",
       " \"to help hire staff, purchase office equipment and participate in a train-the-trainer program. Volunteer involvement will increase and the organization's capacity to meet the increased demand for services will strengthen._x000D_\\n\",\n",
       " 'to improve physical access to the main entrance by building a new barrier-free ramp, installing an automatic door and renovating the landing, canopy and stairs. These renovations will make this community building fully accessible.',\n",
       " \"$40,000 over one year to make the entrance of this downtown seniors group's building accessible to people with disabilities and mobility issues. A ramp will be constructed and automatic doors will be installed.\",\n",
       " \"$23,000 over one year to establish a resource centre and an after-school program called 'Bringing Books to Life.' The initiative will benefit francophone youth in the High Park and Parkdale areas.\",\n",
       " '$98,800 over three years to support the skills development of Francophone families through the provision of a resource centre and address the literacy needs of seniors with decreased mobility through a mobile library program.',\n",
       " '$150,400 over three years to engage the citizens of the Bay Mills community in addressing the issues of youth violence and racism by implementing a parenting program and a community action plan.\\n\\n',\n",
       " '$75,000 over three years to operate a community catering project that will allow participants to acquire business and job skills by selling healthy meals to customers and their families.',\n",
       " 'Delivering a project at the idea or conceptual stage with a $75,000 grant over 12 months to pilot Taking the Lead, a 24-week leadership workshop series providing training for community leaders creating their own pilot initiatives. Building inclusive and engaged communities together, this initiative is helping people who are marginalized take on leadership roles in their communities, and has an impact on the lives of  125 people in the community.',\n",
       " 'Delivering a project that builds on the success of a proven model or program with a $427,200 grant over 36 months to improve the skills of parents, caregivers and adult allies. Supporting the positive development of children and youth, this initiative is helping parents, caregivers and adult allies have the skills to support children and youth who are facing barriers, and has an impact on the lives of  9,600 people in the community.',\n",
       " 'Delivering a project that builds on the success of a proven model or program with a $540,000 grant over 36 months to expand on leadership and skills development workshops offered in 90 Toronto schools. Supporting the positive development of children and youth, this initiative is helping youth facing barriers volunteer and are in leadership roles, and has an impact on the lives of  3,375 people in the community.',\n",
       " 'Delivering a project that builds on the success of a proven model or program with a $749,600 grant over 36 months to increase the emotional well-being of children between 6-12 years old through after-school and summer-camps using Restorative Justice practices. Supporting the positive development of children and youth, this initiative is helping children and youth who are facing barriers develop strong emotional and social skills, and has an impact on the lives of  700 people in the community.',\n",
       " 'to equip a new community facility and to enhance programming for children, youth and adults in the Chester Le community of Scarborough. Residents will participate in community events, a youth drop-in, after-school programs, parenting programs and workshops on food security and healthy relationships.',\n",
       " 'to establish a multi-service community hub to provide services for immigrants and newcomers in the Dorset Park area of Scarborough that is accessible to all.',\n",
       " 'to strengthen the work of the The Middle Childhood Matters Coalition, which works to enhance the quality and availability of after-school and summer programs for children aged 6 to 12. Information, resources and workshops will be provided to parents and community agency staff acrossToronto. _x000D_\\n_x000D_\\n',\n",
       " \"to support a project coordinator to implement a civic education program in Scarborough to enable newcomers to learn about Canada's political system and civic culture. A research component and a Community of Practice will help to build knowledge on what makes for an effective community-based civic engagement initiative.\",\n",
       " 'to purchase lawn-bowling equipment, a computer, a printer and a dishwasher in order to support the delivery of affordable recreational opportunities for Agincourt residents.',\n",
       " '$195,100 over three years to support a collaborative child and family resource program in northwest Scarborough, providing a range of resources to young children, their parents and caregivers including a toy lending library and  parent support groups.',\n",
       " 'to engage Scarborough youth in inclusive food security and access programs. Through participation in after-school and summer programs, youth will gain and share skills and knowledge related to healthy eating, urban agriculture and culinary skills.  _x000D_\\n_x000D_\\n',\n",
       " '$58,000 over two years to develop industry solutions and policies to support farm-based renewable energy projects in rural communities.',\n",
       " 'to purchase a fairway mower to groom and maintain this community-run golf course. This will improve the quality of the course, helping to retain volunteers and attract new members in the Terrace Bay area to this healthy form of active recreation.',\n",
       " '$15,000 over one year to purchase equipment that will improve the safety and maintenance of the space for golfers of all ages in the community and three surrounding municipalities.',\n",
       " 'Delivering a project at the idea or conceptual stage with a $62,100 grant over 12 months to engage people with complex physical/communication disabilities in arts co-creation. Enriching people’s lives through arts, culture and heritage, this initiative is helping people be engaged in community-based arts creation, and has an impact on the lives of  500 people in the community.',\n",
       " 'Delivering a project that builds on the success of a proven model or program with a $164,900 grant over 26 months to expand opportunities to engage people with physical and communication disabilities in collaborative artistic creations. Enriching people’s lives through arts, culture and heritage, this initiative is helping people be engaged in community-based arts creation, and has an impact on the lives of  250 people in the community.',\n",
       " 'Our organization, with a $49,800 Community Building Fund – Operating stream grant over 6 months, will continue operating facilities and/or delivering experiences or programs for Ontarians by assisting with staffing, operational and equipment costs for developing new ways of engaging in virtual co-creation and increasing access for community members with disabilities.',\n",
       " 'to engage in a social development process, using participatory theatre to identify and discuss cultural and social issues affecting newcomer youth, families and seniors in Niagara.',\n",
       " '$225,000 over three years to recruit volunteers and build the fundraising capacity of three community agencies by developing their collective infrastructure with shared staff.',\n",
       " '$13,200 one time funding to assist in renovating the former Trinity Anglican Church for use as a museum in order to preserve and promote the heritage of Ailsa Craig and district.',\n",
       " '$14,800 over two months to produce promotional materials for the museum, which is an important local tourist attraction.',\n",
       " \"$57,600 over one year to restore the former Baptist church as the home of the Ailsa Craig & District Historical Society's collection.\",\n",
       " 'to hire a curator and help the Society strengthen its operations and expand its programming. This would help ensure its long term sustainability.',\n",
       " 'to pave a trail through the Memorial Forest in Lions Park in Ailsa Craig.  This will result in the trail being accessible to people of all abilities in the community.',\n",
       " 'to hire a promotions and marketing coordinator to increase the visibility of the festival. This will result in an increase in attendance and sponsorship.',\n",
       " '$25,000 over one year to purchase professionally built skatepark equipment with a 15 to 20 year lifespan for this community park.',\n",
       " '$19,900 over six months to purchase musical instruments and computer equipment, helping outfit this youth marching band in Mount Hope. Musical skills will improve and high-tech, interactive training modules will be developed for their peers.',\n",
       " 'to provide ceremonial uniforms and musical instruments to this Air Cadet Squadron and to train youth in the pipe and drum band to become musically proficient in time for their 50th anniversary celebrations in 2013.',\n",
       " \"$10,000 over six months to purchase musical instruments that will enhance the performances of the squadron's youth marching band.\",\n",
       " 'to increase the energy efficiency of two cadet training sites in Port Elgin and Saugeen Shores by installing new thermal doors, baseboard heaters, ceiling tiles, insulation and thermal windows.',\n",
       " \"to complete renovations to the organization's facility to make it an accessible training space for local youth in the Saugeen Shores area.\",\n",
       " '$18,500 over one year to enable more young people in the community to gain marching band skills by purchasing instruments and increasing musical instruction.',\n",
       " 'to increase organizational capacity and engage more youth by implementing volunteer development and corporate sponsorship programs, establishing an Air Cadet Advisory Board, and providing additional operational support to 111 local Squadrons across Ontario.',\n",
       " '$14,500 over one year to purchase musical instruments, sports and camping equipment and educational tools. These will increase participation by youth from low and fixed income families in a range of activities offered by this Ottawa organization.',\n",
       " '$52,700 over 10 months to renovate and make fully accessible this facility which is used by the community for various recreation and cultural activities.',\n",
       " '$75,000 over six months to replace the roof in order to ensure continued access to this community space used for cultural, recreational and leisure activities.',\n",
       " '$29,500 over one year to make the building more accessible for members of the Cornwall community.',\n",
       " 'to increase participation of youth in the Cornwall area in the sport of trampoline, by purchasing equipment, training new coaches and offering skills development workshops.',\n",
       " \"$89,700 over two years to implement a fundraising strategy  to enhance the agency's capacity to provide\\nprograms and services for children and families affected by developmental disabilities and mental health needs.\\n\",\n",
       " '$150,000 over three years to implement a growth plan to provide more children with the opportunity to play ringette. Staff will be hired, an equipment loan cupboard established, transportation provided and outreach to diverse communities conducted.',\n",
       " '$160,000 over three years to purchase new equipment to add new programs so that more children and youth can participate in an activity that contributes to their health and well-being.',\n",
       " 'to replace the aging boxing ring and five heavy bags. This new equipment will provide the organization with safer, high-quality training equipment, which will enable it to host more in-house shows and tournaments and increase youth membership and the value of their participation in the sport of boxing.',\n",
       " '$25,000 over 2 months to furnish the newly renovated judo club with mats, carpets and bleachers',\n",
       " '$25,000 over one year to increase the safety and effectiveness of programs by purchasing equipment and renovating the facility to create change rooms.',\n",
       " '$120,000 over two years to establish a volunteer training program to train team leaders, volunteer facilitators and volunteers to work effectively with woman abuse survivors and their children.',\n",
       " '$75,000 over six months to install playground and outdoor equipment at a newly-opened shelter for abused women and their children in Ajax and Pickering.',\n",
       " \"$13,500 over one year for a sound system and office equipment, which will enhance the organization's ability to provide quality skating opportunities for children and youth in Ajax.\",\n",
       " '$70,500 over six months to renovate the clubhouse and promote its use by other community organizations, which will encourage more volunteers in club operations and greater participation in sports.',\n",
       " 'Our organization, with a $49,900 Community Building Fund – Operating stream grant over 12 months, will continue operating facilities and/or delivering experiences or programs for Ontarians by hiring staff and coaches to manage adapted playing conditions, purchasing health and safety equipment, and supporting technology licensing and general operating expenses.',\n",
       " '$25,000 over one year to expand house league play by purchasing football equipment.',\n",
       " '$40,500 over one year to increase training opportunities in music and naval programs by purchasing new instruments and instructional equipment for youth aged 9 to 19 years in Ajax and Pickering.',\n",
       " '$28,000 over one year to purchase gym equipment so that more children and youth in Huntsville can participate in quality fitness programs in a safe, competitive facility.',\n",
       " '$100,000 over two years for language and artistic skills to expand the multimedia Mohawk language initiative in Akwesasne. The organization will then have the capacity to provide the language initiative to other First Nations in Ontario.',\n",
       " '$75,000 over one year to develop and implement an initiative to preserve, protect and revitalize the Mohawk language for the youth and adults of Akwesasne. \\n',\n",
       " \"$12,000 over six months to stage 'Al Purdy at the Quinte Hotel', an original Canadian play, at the Regent Theatre in Picton, to draw visitors to the area during the 2004 summer season.\",\n",
       " 'to renovate and expand its North York facility to provide more space for community programming and children, youth and scouting activities, create a large multi-purpose room with washrooms and kitchen for community events, and install an elevator to make the community activities accessible to all.',\n",
       " '$150,000 over three years to build the capacity of this Latin American theatre company in Toronto. The initiative will engage artists and youth within the Latin American community through outreach, audience development, training and mentorships.',\n",
       " '$100,000 over one year to create a safer environment for the public at the fairgrounds in Bolton by upgrading the spectator stands, and installing new lighting and fences.',\n",
       " \"Delivering improved infrastructure with a $150,000 grant over 12 months to extend the President's Building, adding two multi-purpose rooms, a storage area, and four non-gender, accessible washrooms. Fostering more active lifestyles, this initiative is helping infrastructure for unstructured and structured physical activities, and has an impact on the lives of  9,000 people in the community.\",\n",
       " 'to support a community farm and learning centre that uses an integrated approach to farming and engages both rural and urban community members. This carbon-neutral farm will have vegetables, field crops, edible trees, livestock, local grains, beans and legumes.With the Albion Hills Outdoor Education Centres, it will offer school programs.',\n",
       " '$207,400 over three years to support a newly established Boys and Girls Club that will offer social and recreational programs to children and youth.',\n",
       " '$210,000 over three years to provide children in the Rexdale/Albion community with access to recreational activities such as sailing, skiing, rowing and performing arts.',\n",
       " 'Improve youth employment in Rexdale community',\n",
       " 'This grant will address youth unemployment in the Rexdale Community ',\n",
       " 'to support three new programs to enhance the life of hundreds of youth in the Albion Hills neighbourhood of Toronto. The Youth Diversion-To-Leadership Program, the Youth Social/Recreational Program and the Youth Artistic/Creative Arts Program will be open to youth ages 13 to 18. Funds will help cover staffing and program costs such as art supplies, guest speakers and sport equipment.',\n",
       " \"$14,700 over one year to erect interpretive heritage signage and a masonry bench in a local parkette. The initiative will help increase awareness and appreciation of Bolton's historical origin and its water-powered industrial history.\",\n",
       " '$100,000 over two years to implement a new development strategy that will expand the reach of existing programs and services throughout Ontario.',\n",
       " '$198,800 over three years to support a multisectoral community development initiative designed to foster community involvement and contribute to the quality of life in Aldershot.',\n",
       " '$77,600 over one year to upgrade the summer court lighting system, which will extend playing time and improve safety on the tennis courts.',\n",
       " '$19,500 over one year to preserve an 1870 historic church and transform it into a community space, through improvements in heating efficiency, accessiblity and upgrades to the exterior of the building.',\n",
       " '$65,800 over two years to provide skill and self-esteem building workshops and courses to residents of Alderville First Nation and the surrounding rural communities in the northeast of Northumberland County.',\n",
       " \"Delivering improved infrastructure with a $40,000 grant over 6 months to ensure the public's continued use of Alderville Community Centre by making needed upgrades. Fostering more active lifestyles, this initiative is helping infrastructure for unstructured and structured physical activities, and has an impact on the lives of  1,000 people in the community.\",\n",
       " \"$6,300 over six months to improve both children's and adult collections and specifically to develop a pre-literacy program for children at the library located in Alderville.\\n\",\n",
       " 'Delivering a project at the idea or conceptual stage with a $15,100 grant over 4 months to develop a plan that fosters neighbourhood and community partnerships to reduce social isolation for seniors. Building inclusive and engaged communities together, this initiative is helping people who are isolated have connections in their community, and has an impact on the lives of  500 people in the community.',\n",
       " 'Our group, with a $75,000 Resilient Communities Fund grant over 12 months, will rebuild and recover from impacts of COVID-19 by develop service delivery plans, purchasing tablets, and hosting focus groups to identify strengths and opportunities.',\n",
       " 'Delivering a project at the idea or conceptual stage with a $74,400 grant over 12 months to test a cafe-collective entrepreneurship business program that engages newcomer women and youth in Thorncliffe Park. Enhancing people’s economic wellbeing, this initiative is helping people become entrepreneurs, and has an impact on the lives of  360 people in the community.',\n",
       " 'Delivering improved infrastructure with a $150,000 grant over 12 months to build a multi-purpose space dedicated to arts-based education and programs. Enriching people’s lives through arts, culture and heritage, this initiative is helping arts, culture and heritage have appropriate spaces, and has an impact on the lives of  180 people in the community.',\n",
       " 'Our group, with a $89,500 Resilient Communities Fund grant over 12 months, will rebuild and recover from impacts of COVID-19 by converting an onsite, tutor-led literacy training program into an online delivery model, adapting materials for online sessions and providing volunteer training for adult literacy programs.\\nCensus Division of Impact: Toronto',\n",
       " '$208,700 over three years to provide recreation programs in the Alexandra Park neighbourhood.',\n",
       " 'to increase the capacity of the Alexandria Festival of Lights by enhancing community and youth engagement, improving volunteer management and developing a strategic plan that will identify the resources needed to grow the Festival.',\n",
       " \"Delivering improved infrastructure with a $113,700 grant over 6 months to replace Alexandria Curling Club's ice making equipment. Fostering more active lifestyles, this initiative is helping infrastructure for unstructured and structured physical activities, and has an impact on the lives of  2,500 people in the community.\",\n",
       " '$30,000 to purchase ice shed heaters, replace the roof, insulate the building and purchase new rocks for younger players, encouraging healthy activity through the sport of curling.',\n",
       " '$5,300 over six months to purchase a commercial dishwasher. This will enhance this club, which serves the needs of people with developmental disabilities in the Lambton County area, and make it more appealing for community events.',\n",
       " '$60,000 over six months to purchase and install a playground structure designed for people who are physically or developmentally disabled.',\n",
       " 'to install a new roof to maintain the facility for use by the members and the community.',\n",
       " 'to hire a project manager with experience in tourism who will plan and implement a series of commemorative events and activities throughout the area to celebrate the bicentennial of the War of 1812-14.',\n",
       " '$14,300 over one year to train artists to work as art educators with elementary school teachers and students in Algoma. This will expand opportunities for children and youth to develop skills and knowledge about art.',\n",
       " \"$100,000 over three years to develop and implement new marketing strategies to expand the festival's audience base.\",\n",
       " 'Our organization, with a $100,000 Community Building Fund – Operating stream grant over 12 months, will continue operating facilities and/or delivering experiences or programs for Ontarians by supporting staffing and general operating expenses, enhancing our online programs and expanding live-streaming of concerts and events.',\n",
       " \"to create and facilitate training modules highlighting Group of Seven Artists. Training will be offered to residents, organizations and tourism operators across the Algoma Region, thereby strengthening the capacity, vibrancy and growth the region's artistic and cultural community.\",\n",
       " '$106,500 over 15 mos. to develop and produce a teaching tool comprised of live drama and video that will illustrate the specialized knowledge, attitudes and skills that health care professionals need in order to provide the best possible palliative care',\n",
       " '$68,900 over three years to deliver an early intervention program for elementary school children who are at-risk for school failure, juvenile delinquency and substance abuse.',\n",
       " '$14,900 over one year to purchase an electric piano, stands and accessories that will enable the group to continue providing concerts for people of all ages and abilities in Sault Ste. Marie and area.',\n",
       " '$25,000 over two years to enable this growing choir to purchase sheet music and risers and to travel to Elliot Lake to perform in a concert.',\n",
       " '$5,000 over one year to purchase risers and a podium for the choir to increase the safety of its members and expand the number of venues where they can perform.',\n",
       " 'Our organization, with a $11,400 Community Building Fund – Operating stream grant over 12 months, will continue operating facilities and/or delivering experiences or programs for Ontarians by retaining the staff members to curate and manage the next concert season.',\n",
       " \"$4,000 over 6 months to replace the furnace in the Algoma Friendship Seniors' Club in Leeburn.\",\n",
       " '$8,000 over six months to build a wheelchair ramp and make improvements to the parking area in order to improve access to the Community Hall in Leeburn.',\n",
       " 'to drill a new well, and replace the kitchen stove at Leeburn hall. These improvements will ensure that this well-used four-season community facility remains available to people of all ages and abilities for a variety of social and recreational activities.',\n",
       " 'to renovate the Leeburn Hall of Memories with new roofing shingles, windows and doors to provide a more comfortable place for community groups to gather.',\n",
       " '$50,000 over one year to hire an executive director who will help form new partnerships and raise funds to purchase ecologically sensitive property for conservation and public use in the King Mountain area.',\n",
       " \"to hire an environmental education coordinator to develop and promote education courses for students and the general public in the Sault Ste. Marie area. This initiative will increase the participants' awareness of human impact on the environment and their understanding of natural ecosystems and the need for conservation.\",\n",
       " '$20,000 over one year to send 30 children aged 10 to 13 years to a one-week youth business camp. The program will help participants from rural Algoma communities develop the skills needed to start and run a small business.',\n",
       " \"$34,100 over one year to renovate the kitchen facilities at the music camp located on St. Joseph Island.  This will improve sanitary conditions, decrease energy consumption and increase the camp's use by others in the community.\\n\\n\",\n",
       " '$71,800 over one year for renovations to operate a summer residential music camp on St. Joseph Island for children and youth.',\n",
       " '$17,000 over one year to purchase canoes and kayaks to enable more people to participate in paddling sports and promote active, healthy recreational activities in the community.',\n",
       " '$20,000 over one year for equipment and supplies in order to deliver a summer day-camp program that will teach paddling and outdoor skills to youth in the Blind River area.',\n",
       " 'to create a mobile training centre and updated website. These improvements will allow the organization to increase the scope of its community outreach and boost its online presence.',\n",
       " '$30,000 over one year for instructors, kayaks and equipment to provide opportunities for First Nations youth to travel between Whitefish River and Serpent River First Nations while learning about plants, medicines, history and life skills from elders.',\n",
       " \"Delivering improved infrastructure with a $51,400 grant over 3 months to replace and upgrade ARCH Hospice's three gas fired boilers. Building inclusive and engaged communities together, this initiative is helping people who are isolated have connections in their community, and has an impact on the lives of  1,180 people in the community.\",\n",
       " '$58,000 over one year to purchase equipment for a new 10-bed residential hospice in Sault Ste. Marie. The facility will provide palliative care services to terminally ill clients and respite services to their caregivers.',\n",
       " '$80,000 over three years to help establish and operate a day hospice program in Sault Ste. Marie. The program will provide palliative care services to terminally ill clients and respite services to their caregivers.',\n",
       " 'to replace the shingles on the clubhouse roof. This will help to preserve the structural integrity of the building and ensure it continues to provide a safe and comfortable meeting place for members and other users of this club which is based in Sault Ste. Marie.',\n",
       " '$23,300 over 12 months for equipment to expand a junior archery program.',\n",
       " '$70,000 over one year for renovations that will make the facility safer and more accessible so that it will be a more attractive venue for community events in Sault Ste. Marie.',\n",
       " 'Delivering a project at the idea or conceptual stage with a $75,000 grant over 11 months to introduce ARTSPEAKS, a program designed to positively impact women’s lives through visual arts and digital-storytelling. Enriching people’s lives through arts, culture and heritage, this initiative is helping access to arts-based learning opportunities and compelling artistic, cultural and heritage experiences, and has an impact on the lives of  48 people in the community.',\n",
       " '$23,600 over one year to make renovations to this centre which is used to help women recovering from addictions learn how to live without alcohol and drugs.',\n",
       " '$19,700 over six months to offer a traditional music and dance family camp program on St. Joseph Island to promote interest in the study of traditional music and dance.',\n",
       " \"$27,800 over three years to hire a part-time administrator to enhance the organization's marketing and fundraising capacity. Capital equipment will also be purchased to present better music-and-dance camps, workshops, concerts and dances.\",\n",
       " '$7,000 over one year to provide critical incident stress management training to volunteers in Sault Ste. Marie. This will promote volunteer retention and better prepare them to help victims of crime, tragic circumstances and disaster.',\n",
       " 'Delivering improved infrastructure with a $150,000 grant over 5 months to build a seasonal timber frame pavilion for performances, dances, and program workshops. Enriching people’s lives through arts, culture and heritage, this initiative is helping arts, culture and heritage have appropriate spaces, and has an impact on the lives of  1,200 people in the community.',\n",
       " '$25,000 over 1 year for marketing the programs of this non-profit art school as well as for the purchase of artistic supplies such as clay and easels needed for the various courses.',\n",
       " '$25,000 over one month to  renovate and upgrade the Village Playhouse in Bancroft, which is used for performances that attract tourists to the area.',\n",
       " '$25,000 over six months towards renovations and equipment for the Bancroft Village Playhouse to improve accessibility, safety and operating efficiency.',\n",
       " 'to refurbish the Village Playhouse in Bancroft to make it more energy efficient and provide a more inviting facility for visitors, volunteers and artists. Improvements will include replacing the ductwork, installing insulation in the attic, stabilizing the chimney and removing an old furnace._x000D_\\n_x000D_\\n_x000D_\\n',\n",
       " '$17,100 over 10 months to support a one-day Family Fair for families in the District of Muskoka and Parry Sound to improve parenting capacity through education workshops, activities and resource sharing.\\n',\n",
       " '$80,000 over 3 years to hire a Coordinator to train facilitators to work with families in the Wraparound process in Parry Sound and Nipissing Districts.',\n",
       " '$24,000 over one year to provide Algonquin people and the general public with an accessible, fact-based and interactive window on Algonquin history and culture in the Upper Ottawa Valley through the Internet.',\n",
       " '$44,000 over one year to cover marketing costs and some operating costs of running the now locally-owned Algonquin Park Gallery & Museum.',\n",
       " '$231,100 over three years to promote and discuss economic development in the boreal forest with members and stakeholders in ways that sustain the economic health of communities while preserving wilderness and caribou habitat.',\n",
       " \"$250,400 over two years for a bilingual, Cree-English mining co-ordinator. First Nations will better understand the impact of development on their communities and be more aware of how climate change affects Ontario's polar bear.\",\n",
       " 'Delivering a project at the idea or conceptual stage with a $29,000 grant over 10 months to complete a Local Conservation Action Plan based on regional ecological circumstances. Encouraging people to support a healthy and sustainable environment, this initiative is helping conservation and restoration efforts be better planned and more sustainable, and has an impact on the lives of  500 people in the community.',\n",
       " 'to develop the capacity of the Algonquin to Adirondacks Conservation Association. Funding will be used to hire a full-time coordinator to support collaborative activities underway to conserve this unique ecosystem corridor.',\n",
       " \"Delivering a project at the idea or conceptual stage with a $62,300 grant over 11 months to develop a conservation action plan for the Ontario portion of the  'Algonquin to Adirondack Corridor'. Encouraging people to support a healthy and sustainable environment, this initiative is helping conservation and restoration efforts be better planned and more sustainable, and has an impact on the lives of  75,000 people in the community.\",\n",
       " 'to implement fitness and healthy-living educational programs in the Algonquin community and support the after-school physical-activity programs that have a particular focus on children and youth.',\n",
       " 'to increase sports and recreation opportunities for members of the Algonquins of Pikwakanagan First Nation and the surrounding communities, by upgrading an outdoor rink located on the shores of the Bonnechere River and Golden Lake in Renfrew County.',\n",
       " '$5,000 over one year to acquire new books, augment the DVD collection, and purchase new educational software at the library located in Golden Lake. \\n',\n",
       " \"$40,000 over one year to develop and implement a seniors' wellness program. This will provide opportunities for elderly people to socialize and participate in various health promotion activities offered at their Elders Lodge in Golden Lake.\",\n",
       " 'Delivering a project at the idea or conceptual stage with a $74,000 grant over 12 months to pilot an approach for employment for individuals with developmental disabilities. Enhancing people’s economic wellbeing, this initiative is helping people become and stay employed, and has an impact on the lives of  50 people in the community.',\n",
       " '$75,000 over one year to complete barrier-free renovations to make the community meeting space accessible for people with disabilities.',\n",
       " 'Delivering a project at the idea or conceptual stage with a $51,000 grant over 12 months to reduce social isolation for vulnerable individuals within their new community by developing a collaborative approach between landlords, agencies and tenants. Building inclusive and engaged communities together, this initiative is helping people who are isolated have connections in their community, and has an impact on the lives of  35 people in the community.',\n",
       " 'to increase access to affordable housing and support services for people who are living with HIV/AIDs and are at risk of homelessness in Belleville. This investment will provide an accessible washroom, a community meeting room and a transitional housing unit.',\n",
       " '$37,500 over one year to upgrade the electrical,  heating and air conditioning systems in the centre, ensuring safety and compliance to building codes. This will allow greater social and recreational use of the building by more community groups.',\n",
       " '$20,000 over one year to establish a community garden that will provide access to garden plots for people who live in apartments to grow their own produce and enjoy the social, recreational and therapeutic benefits of gardening.',\n",
       " '$14,000 over one year to enhance the quality of the performances of this popular Springfield community group by purchasing musical equipment. Audiences throughout Oxford County will benefit.',\n",
       " '$37,500 over six months to undertake building upgrades that will reduce electricity consumption and costs. The improvements will help to ensure that operations of this extensively used community facility remain viable.',\n",
       " 'Our organization, with a $26,400 Community Building Fund – Operating stream grant over 12 months, will continue operating facilities and/or delivering experiences or programs for Ontarians by purchasing the appropriate protective equipment and supplies to ensure the safe return of curlers and supporting the operating costs of the facility.',\n",
       " 'to purchase banquet equipment and complete upgrades to the upper level of the facility to improve its energy efficiency and sustainability in order to meet broader community needs in Bruce County.',\n",
       " 'for staff and resources to assist with improving the promotional work done to create interest in community artists from the Francophone community in the Ottawa Region.',\n",
       " '$8,000 to hold a Francophone concert entitled Féminin Pluriel in June 2010 at Glenn Gould Studio in Toronto. The program will celebrate the 15th anniversary of Oasis Centre des Femmes and the role of women in society.',\n",
       " \"to build and equip a new multi-purpose space that will house a 170-seat theatre and to renovate and make accessible the existing location, used by Toronto's culturally-diverse Francophone community.\",\n",
       " '$20,000 over one year to develop a new website and provide communication resources to franco-Ontarian cultural arts-services organizations across the province.\\n',\n",
       " 'to promote careers in the arts to francophone youth living in rural communities, create opportunities for dialogue between youth and artists, and to develop an online resource centre for youth interested in an arts career.  The program will be delivered in Moonbeam, Chapleau, Rivière des français, Alfred, Plantagenet, Casselman and Hawkesbury._x000D_\\n',\n",
       " \"$50,000 over 2 months to fund the equipment and operating costs of the Reseau francophone d'Amerique (RFA) [North American French Radio Network].\",\n",
       " '$60,000 over nine months towards Radio  Jeunesse. Seventy youth from Canada and abroad will be trained and willl then produce a 24-hours-a-day broadcast from June 24 to July 24 2001 to coincide with the Fourth Francophone Games being held in Ottawa.',\n",
       " '$30,000 over six months to update  computer and office equipment this not-for-profit organization that promotes and preserves Canadian contemporary music.  The initiative will provide greater access to works of Ontario composers.',\n",
       " '$65,000 over two years to deliver composing, orchestral and opera workshops in schools led by professional musicians in Dunville, Gravenhurst, North Bay, Peel Region, Thunder Bay and Windsor.',\n",
       " '$12,000 over nine months to develop a comprehensive three-year business plan for the collaborative and an evaluation framework that specifies community-based outcome measures.',\n",
       " \"$73,500 over three years to support volunteer recruitment and development in order to enhance the agency's work in preventing HIV and in providing service to affected individuals.\",\n",
       " 'to engage South Asian youth to help prevent the spread of HIV/AIDS in the Thorncliffe and Crescent Town neighbourhoods in Toronto.  Using arts-based storytelling and through leadership opportunities, youth will develop and promote an HIV prevention campaign through social media, blogs, websites and e-zines.',\n",
       " '$86,000 over three years for materials, supplies and services to support eight communities in Georgina in collecting valuable environmental, social and cultural data and creating community maps to foster citizen engagement.',\n",
       " \"$162,500 over three years for a collaborative of nine regional art organizations to undertake initiatives and strategies that lead to sharing best practices and expertise, peer mentoring and increased public awareness of the art sector's contribution.\",\n",
       " '$246,500 over 36 months to provide culturally relevant support, awareness and information to Black and racialized parents, families and communities in order to successfully navigate the criminal justice and penal systems from incarceration to parole with confidence and empowerment.',\n",
       " '$100,000 over three years to provide management and administrative support to enable the organization to expand programs, provide enhanced leadership opportunities to visible minority students, and undertake fundraising activities.',\n",
       " '$18,400 over 12 months to establish an In-School Mentoring program in New Tecumseth elementary schools.',\n",
       " '$75,000 over six months to assist in replacing an old ice-making unit with a new energy-efficient refrigeration system so that members of the community can continue to participate in the sport of curling.',\n",
       " '$49,000 over one year to assist with the purchase of safe, high quality gynmastic equipment.   The equipment will support the growing programs offered by the club, increasing participation from 180 to 500.',\n",
       " '$2,400 over 6 months to renovate the entrance area of a family resource centre, including new flooring and radiant heating.',\n",
       " '$3,600 over one year for new computer equipment and software to offer on-line registration and improved activities at ASUS Summer Camps. The organization offers arts and science-focused summer day camps to more than 400 children in the Kingston area.',\n",
       " '$112,900 over two years to hire two staff members who will help adult clients in the Almaguin area develop and achieve their personal goals and create a client-centered delivery model for youth.',\n",
       " '$31,800 over one year for renovations to the Sundridge facility that will improve access for people with disabilities and older adults. Increased accessibility will allow more people to participate in programs and activities held in the centre.',\n",
       " '$10,400 over one year to purchase office equipment that will allow the team to better manage the increase in demand for palliative care support in the Almaquin area.',\n",
       " '$32,000 over one year to develop a web-based electronic map and upgrade telephone and computer systems. This will help attract more visitors to the area.',\n",
       " 'to purchase and install digital repeaters, which will improve the reliability and integrity of radio communications in the County of Lanark. This will ensure the club and its members can continue to provide emergency radio-communications services, equipment demonstrations and resources at community festivals and events._x000D_\\n_x000D_\\n',\n",
       " \"$21,300 over six months for renovations to improve accessibility to 'The Hub' community centre in Almonte, by installing wheelchair accessible washrooms, door openers and making improvements to the entrance.\",\n",
       " '$37,500 over one year to establish a not-for-profit business that remarkets donated items to encourage community recycling, provide employment and training and generate funds that offer financial support for local initiatives and individuals in need.',\n",
       " '$10,300 over one year toward the purchase of equipment that will improve ice maintenance and enhance training and participation in the sport of curling in Almonte.',\n",
       " 'to purchase new granite curling stones, which will enhance access to recreational activities and improve the sporting experience for local curlers of all ages.',\n",
       " '$6,000 over one year to purchase a verti-cutter, which will increase the safety of the volunteers who operate the equipment and improve the quality of the playing greens.',\n",
       " 'to install new floating gutters and purchase a new greens cutting machine to improve the safety and professional quality of the lawn bowling greens for local bowlers._x000D_\\n_x000D_\\n',\n",
       " \"$13,000 over one year to host the Bach Comes to Almonte festival in May 2000, which will bring Canadian musicians together for a series of millennium concerts to commemorate the 250th anniversary of Bach's death.\",\n",
       " 'to purchase portable lighting, sound and projection equipment to enhance the theatrical performances of the Almost Famous Players, adult performers with a range of developmental and physical disabilities. The equipment will increase their ability to perform in five communities throughout the Grey, Bruce, Huron and Perth region. _x000D_\\n_x000D_\\n',\n",
       " '$9,000 over six months to address community needs by improving the collections for children and patrons with special needs.',\n",
       " '$98,600 over two years to reduce homelessness in Thunder Bay by providing services to people with mental illnesses and substance abuse problems who otherwise risk becoming or remaining homeless.',\n",
       " 'to upgrade the common areas of this facility used by more than 960 people who receive addiction education and wellness, life skills, anger management and relapse prevention programs in east Toronto thereby providing a warm, life-affirming program environment for people addicted to alcohol and/or drugs.',\n",
       " '$36,500 over two years to support the residential program, which provides an opportunity for young pregnant women and young women with babies to return to school, seek employment and learn life skills.',\n",
       " '$16,700 over one year to purchase football equipment to improve the performance of players and coaches and ensure the safety of Windsor area youth participating in the football program.',\n",
       " 'Delivering a project at the idea or conceptual stage with a $39,900 grant over 12 months to promote historic Windsor Stadium as a location for recreation activities and events. Fostering more active lifestyles, this initiative is helping Ontarians participate in an active lifestyle, and has an impact on the lives of  2,000 people in the community.',\n",
       " 'Delivering improved infrastructure with a $118,500 grant over 12 months to upgrade bathroom facilities at Windsor Stadium, improving accessibility at the historic community space. Fostering more active lifestyles, this initiative is helping infrastructure be accessible and available for physical activity, and has an impact on the lives of  10,000 people in the community.',\n",
       " '$75,000 over one year to assist women in poverty in rural Sudbury East District with the transition to employment',\n",
       " '$46,600 over one year to hire staff and produce resource guides. A model will be created for Internet-based peer-support groups that will provide health benefits for people who are suffering with rare diseases.',\n",
       " '$45,000 over one year to offer a Francophone family-literacy program in Niagara, which will allow adult parents to acquire the necessary skills to find and sustain employment',\n",
       " '$50,000 over 1 year for Alpine Ontario/Ontario Alpine Ski Team to undertake a process with stakeholders to determine the best model and structure for a Provincial Sports Organization, prepare a business plan, and to hold its first Annual General Meeting',\n",
       " '$192,500 over three years to develop Ski Cross, the newest Olympic sport. Programs for coaching, officials and ski-course design will be offered and technical and safety standards developed for youth high-performance and university-race events.',\n",
       " '$10,400 over one year to purchase equipment to improve skill development and physical activity for youth participating in the sport of ski racing in Thunder Bay.',\n",
       " '$53,500 over one year to conduct a research project that will lead to a greater understanding of the unique local and natural heritage of Lambton County. The feasibility of integrating a plant rescue program into the region will be explored.',\n",
       " '$166,500 over two years to test the Alternative Land Use Services model. This program pays farmers a market rate for the ecological use of their land. (An additional grant of $50,000 in Grand River will support this initiative.)\\n\\n \\n',\n",
       " '$50,000 over two years for five liaison positions. These will work with 380 local farmers to test the Alternative Land Use Services model in Norfolk County.',\n",
       " 'Delivering a project at the idea or conceptual stage with a $43,000 grant over 12 months to provide barrier-free employment training opportunities to people with disabilities. Enhancing people’s economic wellbeing, this initiative is helping people have the skills and knowledge to achieve greater financial independence, and has an impact on the lives of  250 people in the community.',\n",
       " \"to develop training opportunities and new materials which will enhance the organization's capacity to offer the Deaf Family Literacy program to more families and service providers in Ottawa and across Ontario.\",\n",
       " '$15,000 over six months to construct a new kitchen and meeting room that will allow this Ottawa organization to more effectively deliver some of its literacy and numeracy training.',\n",
       " '$25,000 over six months to develop an accessible quality family literacy program with on-site childcare, and to research existing family literacy programs and needs in the downtown Ottawa area.',\n",
       " '$25,000 over six months to develop and implement a family literacy project in four locations in Ottawa. This project will help parents increase their literacy level so that they can better support their children, especially in the early years.',\n",
       " '$90,000 over two years to deliver the family literacy program Reading and Parents Program (RAPP) to families in various communities in downtown Ottawa and Vanier and to adapt the program to meet the specific needs of local Inuit families.',\n",
       " '$158,100 over 22 months to establish Ontario as a leading cycle tourism destination  by developing sustainable tourism options for cycle tourists travelling between Toronto, Eastern Ontario, Niagara, North Bay and Windsor.',\n",
       " '$90,100 over 22 months to develop local infrastructure and co-ordination to help create an attractive tourism destination for cyclists between Toronto and North Bay. (Another OTF grant will support this activity)',\n",
       " 'Delivering improved infrastructure with a $97,400 grant over 12 months to transform part of a building into a multi-use community space for people living with disabilities. Building inclusive and engaged communities together, this initiative is helping people who are isolated have connections in their community, and has an impact on the lives of  1,000 people in the community.',\n",
       " '$12,000 over two years to extend recreational programs to include winter as well as the currently offered summer activities for people with developmental disabilities in Etobicoke.',\n",
       " 'to hire a full-time fund development manager, allowing the organization to grow programs and services in Vaughan. Funds will also support computer software, office equipment, brochures and staff training.',\n",
       " '$31,400 over two years for staff, travel and resource materials. Radio, podcasts and live author events will raise awareness and help educate the Kitchener/Waterloo community about the environment.',\n",
       " '$42,200 over six months to develop marketing and public-relations plans, purchase computer equipment and develop financial reporting systems. Funding will help to create an electronic environmental magazine.',\n",
       " '$138,000 over two years to enhance the impact \\nof the Hamilton Youth Net through outreach and program development\\n',\n",
       " '$129,200 over three years to enable children with developmental disabilities to participate in programs by leasing a van, purchasing computer equipment and providing staff support.',\n",
       " '$299,000 over five years to enhance organizational capacity building.  Funding will support staffing as well as program enhancements for adults with cognitive challenges in the City of Vaughan.',\n",
       " '$24,500 over one year to enhance the accessibility and usefulness of this vital community hall.',\n",
       " 'Delivering a project that builds on the success of a proven model or program with a $495,000 grant over 27 months to assist with the costs of the design and restoration work of the millpond. Encouraging people to support a healthy and sustainable environment, this initiative is helping conservation and restoration efforts be better planned and more sustainable, and has an impact on the lives of  75,000 people in the community.',\n",
       " 'to support a community undertaking to develop the Alton Village Heritage Square, a gathering place for community celebrations and arts performances, heritage awareness and community engagement. Funding will enable project planning and coordination, and the building of a heritage stone wall, outdoor structures, and sustainable community gardens.',\n",
       " '$57,600 over one year to create public access to the forest and install boardwalks so that residents can enjoy this natural area within an urban setting.',\n",
       " \"$253,000 over 3 years to design, develop & implement an online Leadership Development Program that will recruit, train and match skilled volunteers interested in a governance role on a charitable organization's Board of Directors.\",\n",
       " \"$429,400 over three years to launch BoardMatch ED, a multi-component province-wide program that will help executive directors build better working relationships with their boards of directors and understand the boards' role as a strategic asset.\",\n",
       " 'to deliver 50 board leadership development training sessions to not-for-profit organizations in Toronto. The initiative will target groups serving youth, marginalized individuals and newcomers. The capacity of the organizations will be strengthened by being matched with chartered accountants seeking to serve with these organizations as board members or treasurers.',\n",
       " \"$57,500 over six months to repair or replace technical equipment so that Canada's oldest still-existing theatre company can continue to produce works of little known Canadian playwrights.\\n\",\n",
       " 'Our organization, with a $22,400 Community Building Fund – Operating stream grant over 6 months, will continue operating facilities and/or delivering experiences or programs for Ontarians by assisting with protective equipment and operational costs  to ensure safe reopening, development of theatrical productions and growth of audience and renters.',\n",
       " 'to purchase technical equipment, engage a general manager and support increased hours for the artistic director and artistic producer who together will develop and implement a three-year strategic plan for this Toronto-based Latin American theatre company. They will be able to expand programming and improve fundraising efforts._x000D_\\n_x000D_\\n',\n",
       " 'to develop a green space on the main street of this small rural community which includes gardens, trees, benches, swings and a games table and seats.',\n",
       " '$23,100 over one year to restore Alway School for the purpose of providing additional meeting facilities for local community groups and to make the field suitable for rugby and soccer.',\n",
       " '$25,000 over one year to set up a therapeutic recreational program for youth to promote physical health education and enhance their ability to abstain from drug and alcohol abuse.',\n",
       " '$31,500 over one year to support a therapeutic recreation program for the residents of this youth addiction treatment centre and to support its efforts to secure sustainable funding for the program.',\n",
       " \"$118,400 over 36 months to develop and establish activities and tools to augment and diversify the Society's revenue base to ensure long-term sustainability and growth to meet the growing service and educational needs in the community.\",\n",
       " \"$27,000 over one year to hire a Connection to Care project coordinator to develop a comprehensive volunteer facilitators' program to provide essential dementia education and support programs for Elgin-St. Thomas residents.\",\n",
       " '$79,000 over 2 years to develop alternate sources of funding to ensure long-term sustainability and growth to meet the growing service and educational needs in the community.',\n",
       " 'Delivering a project that builds on the success of a proven model or program with a $385,400 grant over 35 months to deliver the Minds in Motion program for people with dementia. Building inclusive and engaged communities together, this initiative is helping people who are isolated have connections in their community, and has an impact on the lives of  1,044 people in the community.',\n",
       " 'Delivering a project that builds on the success of a proven model or program with a $101,800 grant over 24 months to launch Minds in Motion, a program designed for people with early and mid-stage dementia. Building inclusive and engaged communities together, this initiative is helping people who are isolated have connections in their community, and has an impact on the lives of  264 people in the community.',\n",
       " 'Delivering a project that builds on the success of a proven model or program with a $151,300 grant over 35 months to provide monthly Memory Cafes for isolated seniors. Building inclusive and engaged communities together, this initiative is helping people who are isolated have connections in their community, and has an impact on the lives of  1,140 people in the community.',\n",
       " 'Delivering a project that builds on the success of a proven model or program with a $230,600 grant over 36 months to assist with staffing and programming costs to scale up and improve the delivery of in-home recreation activities to families living with dementia. Building inclusive and engaged communities together, this initiative is helping people who are isolated have connections in their community, and has an impact on the lives of  340 people in the community.',\n",
       " 'Our group, with a $143,900 Resilient Communities Fund grant over 12 months, will rebuild and recover from impacts of COVID-19 by unifying our organizational structure to improve service delivery for families living with dementia.\\nCensus Division of Impact: County of Middlesex',\n",
       " 'to develop 50 videos that will help increase awareness of Alzheimer Disease and related dementia, its risk factors, the benefits of early diagnosis and programs and educational resources that are available for people impacted by this._x000D_\\n',\n",
       " 'to launch three new satellite social recreation programs in London Middlesex.  The satellite programs will provide music, art and cooking programs and support community integration of 600 individuals living with dementia.',\n",
       " 'Delivering a project that builds on the success of a proven model or program with a $552,000 grant over 36 months to expand the Minds in Motion wellness program, enabling people living with dementia to become more active. Fostering more active lifestyles, this initiative is helping Ontarians participate in an active lifestyle, and has an impact on the lives of  2,200 people in the community.',\n",
       " 'Our organization, with a $119,800 Resilient Communities Fund grant over 12 months, will rebuild and recover from impacts of COVID-19 by developing and implementing a digital communications strategy to mitigate lost fundraising revenue necessary to support people living with dementia.',\n",
       " \"to develop an educational microsite that will provide online support to families, caregivers and to people suffering from dementia and Alzheimer's disease. The site will contain information tools, videos, and the ability to access support from a counsellor.\",\n",
       " \"to hire a Public Education Co-ordinator to raise awareness about Alzheimer's disease and provide education and support for people living with the disease. Caregivers will also be provided with support in both official languages in Hearst and Kapuskasing.\",\n",
       " 'Delivering a project at the idea or conceptual stage with a $75,000 grant over 12 months to hire a Program Coordinator to provide focus groups and surveys to identify new therapeutic recreational programming for people living with dementia. Building inclusive and engaged communities together, this initiative is helping people who are isolated have connections in their community, and has an impact on the lives of  500 people in the community.',\n",
       " 'Delivering a project that builds on the success of a proven model or program with a $331,700 grant over 24 months to expand the Minds in Motion program to 50 sessions in Waterloo Wellington. Fostering more active lifestyles, this initiative is helping programs be safe, inclusive, and fair, and has an impact on the lives of  1,000 people in the community.',\n",
       " 'Delivering a project that builds on the success of a proven model or program with a $682,600 grant over 36 months to assist with staffing and programming costs to expand the Minds in Motion to 75 sessions in Waterloo and Wellington. Fostering more active lifestyles, this initiative is helping programs be safe, inclusive, and fair, and has an impact on the lives of  1,400 people in the community.',\n",
       " \"$36,500 over two years to enhance the agency's volunteer recruitment, training and management in order to expand services and programs to families and individuals with Alzheimer's Disease and early dementia.\",\n",
       " 'to increase transportation, housing and recreational opportunities for seniors in Brant County and Brantford through the development and implementation of the recently completed community Master Aging Plan._x000D_\\n_x000D_\\n_x000D_\\n_x000D_\\n',\n",
       " 'Delivering improved infrastructure with a $12,500 grant over 1 month to install a more accessible front door and create a functional activity room. Building inclusive and engaged communities together, this initiative is helping people who are isolated have connections in their community, and has an impact on the lives of  4,600 people in the community.',\n",
       " 'Delivering improved infrastructure with a $67,600 grant over 3 months to purchase a transportation van with an installed accessible lift. Building inclusive and engaged communities together, this initiative is helping people who are isolated have connections in their community, and has an impact on the lives of  75 people in the community.',\n",
       " 'Our organization, with a $39,100 Resilient Communities Fund grant over 12 months, will rebuild and recover from impacts of COVID-19 by purchasing 30 tablets with accessories as well as engaging an employee to facilitate the Tablet Loan Program in order to providing Alzheimer Society clients with digital resources to live well with dementia.\\nCensus Division of Impact: Haldimand-Norfolk',\n",
       " \"$133,000 over five years to support and enhance the respite care program which offers in-home support to Alzheimer's patients and their caregivers.\",\n",
       " \"$122,500 over three years to strengthen the organization's volunteer and fundraising capacity in order to meet the growing service and educational needs in the community.\",\n",
       " \"$58,800 over two years to establish a volunteer development program. The needs of individuals in Dufferin County dealing with Alzheimer's disease or related dementia will be better met, and greater community awareness and support will be created.\",\n",
       " 'to meet the growing demand for services by hiring a family support worker and a fund development and social media manager. Staff will enhance outreach and expand service capacity.  Grant funds will also support the training of telephone support volunteers so that they may better serve clients. _x000D_\\n_x000D_\\n',\n",
       " 'to support the design, development and testing of a virtual volunteer-centre website for Dufferin County, which will help recruit volunteers, allow them to apply online and match their skills to meaningful opportunities.',\n",
       " 'Delivering a project that builds on the success of a proven model or program with a $486,000 grant over 36 months to reduce isolation for persons with dementia using volunteer-lead community-based programs. Building inclusive and engaged communities together, this initiative is helping people who are isolated have connections in their community, and has an impact on the lives of  4,960 people in the community.',\n",
       " 'Our organization, with a $93,700 Resilient Communities Fund grant over 9 months, will rebuild and recover from impacts of COVID-19 by designing new organizational business and fundraising plans, ensuring the future sustainability for the delivery of valuable programs and services.\\nCensus Division of Impact: Regional Municipality of Durham',\n",
       " \"$100,700 over two years to support the 'Building a Solid Foundation for Service' project which will develop and establish activities and tools to augment and diversify the society's current revenue base.\",\n",
       " '$50,000 over six months to renovate program space for persons with dementia and their caregivers.',\n",
       " '$70,000 over two years to increase the capacity of the organization to recruit and train new volunteers to support an increased number of clients in rural and small communities.',\n",
       " 'Delivering a project at the idea or conceptual stage with a $64,000 grant over 12 months to provide transitioning assistance for persons with dementia with accessing adult day programs that reduce social isolation. Building inclusive and engaged communities together, this initiative is helping people who are isolated have connections in their community, and has an impact on the lives of  128 people in the community.',\n",
       " 'Delivering a project that builds on the success of a proven model or program with a $652,700 grant over 36 months to expand Minds in Motion programming, promoting wellness and reducing isolation for persons with dementia and their care-givers. Building inclusive and engaged communities together, this initiative is helping people who are isolated have connections in their community, and has an impact on the lives of  2,255 people in the community.',\n",
       " 'to increase the accessibility of the Haldimand Abilities Centre in Hagersville and facilitate new client-education opportunities through the creation of a demonstration kitchen that is fully accessible to all members of the community.',\n",
       " 'to pilot effective approaches to recruiting skilled volunteers who can lead support groups and undertake speaking and outreach activities to support clients with Alzheimer disease in Haldimand and Norfolk.',\n",
       " '$14,700 over six months to develop a community resource library for people with dementia and their care partners. This will increase opportunities for clients and families to participate in games and activities that promote better health.',\n",
       " '$20,000 over one year to support the development of a strategic funding plan in order to continue to serve people with Alzheimer disease and their families in Haldimand and Norfolk.',\n",
       " '$68,500 over two years to implement a funding development plan to increase and improve the programs and services provided for caregivers and people suffering from dementia in the community.',\n",
       " '$90,000 over six months to make the Haldimand Abilities Centre more energy-efficient and accessible to people of all abilities. This multi-agency hub will improve access to services for seniors and people with disabilities in Hagersville and area.',\n",
       " '$90,700 over three years to hire a Volunteer Co-ordinator who would recruit, train and manage a corps of local volunteers who in turn would assist and provide respite for clients with Alzheimer Disease and their families.',\n",
       " '$13,100 over one year to develop a manual of effective outreach strategies that can be shared with other community organizations and groups, helping them engage the culturally diverse community in the delivery of services.',\n",
       " '$6,000 over four months to conduct an organizational review in order to increase organizational effectiveness.',\n",
       " '$7,000 over four months to conduct an organizational review in order to increase organizational effectiveness.\\n',\n",
       " \"$99,400 over two years to pilot a model to support people affected by Alzheimer's Disease in the Spanish, Portuguese and Vietnamese-speaking communities\",\n",
       " 'to hire a coordinator to develop new resources for older adults of diverse backgrounds who are  at risk of dementia in North Halton.',\n",
       " \"to increase the agency's capacity to recruit and train volunteers to assist with dementia support programs in the community and in long-term care facilities.\",\n",
       " \"$14,000 over six months to build this Huron County service agency's capacity to communicate with their clients, caregivers and volunteers through purchase of new technology, internal networking and upgraded website.\",\n",
       " '$74,300 over three years to hire two half-time staff for fundraising and volunteer development in order to meet the growing need for programs and services for persons with dementia and their caregivers.',\n",
       " \"to provide community outreach services to enhance the volunteer companion program for persons with Alzheimer's disease or related dementia and to develop volunteer information ambassadors in six rural communities within Huron County.\",\n",
       " '$77,000 over two years to provide an emergency respite centre. The centre will offer day programs and services for people with Alzheimer disease and their caregivers in Kenora.',\n",
       " \"$77,100 over two years to support outreach, volunteer training and fund development to provide enhanced services for individuals affected by Alzheimer's disease.\",\n",
       " '$53,400 over two years to fund a satellite office and a part-time public education co-ordinator, who will provide access and support services in the north Frontenac area.',\n",
       " \"$60,000 over two years to review, develop and implement a three-year fund development plan to enable the organization to expand programs to meet the needs of individuals with Alzheimer's disease and related dementia.\",\n",
       " 'to increase the financial capacity of three Alzheimer Societies in the Guelph, Kitchener -Waterloo and Cambridge communities as they merge into one organization.  A comprehensive fund development strategy for future sustainability will be developed.',\n",
       " '$25,000 over one year to expand its Day Away and  education programs and Family Support Groups which provide stimulating activities for people with Alzheimer and offer relief to family members and caregivers.',\n",
       " \"$135,000 over three years to provide outreach services to the community, including early intervention programs, education workshops and support to people with Alzheimer's disease and their caregivers in rural Middlesex County.\\n\\n\",\n",
       " '$50,000 over 15 months to develop and pilot an activity program for individuals with early stage dementia. Clients will participate in the development of the program to address their needs.',\n",
       " '$64,000 over two years toward a program designed to address the cognitive, psycho-social, emotional and educational needs of people with disabilities associated with the early stages of dementia.',\n",
       " '$74,000 over three years to support ;  i) the Assistive Devices Program which loans assistive devices (i.e walkers, wheelchairs, grab bars) to clients, and ii) a special events assistant to develop and evaluate fund development opportunities.',\n",
       " 'Delivering a project at the idea or conceptual stage with a $25,200 grant over 12 months to pilot a self-managing/education program that empowers people living with dementia. Building inclusive and engaged communities together, this initiative is helping people who are isolated have connections in their community, and has an impact on the lives of  12 people in the community.',\n",
       " 'Delivering a project that builds on the success of a proven model or program with a $126,000 grant over 36 months to deliver the Minds in Motion program for people with dementia/care-partners. Building inclusive and engaged communities together, this initiative is helping people who are isolated have connections in their community, and has an impact on the lives of  792 people in the community.',\n",
       " \"Delivering improved infrastructure with a $38,300 grant over 5 months to re-shingle the organization's roof and install more environmentally-friendly HVAC equipment. Building inclusive and engaged communities together, this initiative is helping people who are isolated have connections in their community, and has an impact on the lives of  2,000 people in the community.\",\n",
       " 'Our organization, with a $90,800 Resilient Communities Fund grant over 12 months, will rebuild and recover from impacts of COVID-19 by developing fundraising strategies and hiring a development officer to implement plans in the community, creating new communications tools to deliver the message.',\n",
       " 'to develop Niagara-specific, bilingual pamphlets and information cards about elder abuse to encourage the community to openly discuss and address the issue of abuse toward older adults.',\n",
       " \"$60,000 over two years to establish the First Link Program to provide coordinated support, education and links to health care facilities, service providers and mental health programs for individuals with Alzheimer's disease and their families.\",\n",
       " '$60,000 over two years to support the implementation of a rural outreach strategy.',\n",
       " \"$68,000 over two years to help develop the organization's governance and fundraising capacity. Business and fundraising plans will be established to meet the growing need for programs and services for people with dementia and their caregivers.\",\n",
       " 'This project aims to create a dementia-friendly community where rights and opportunities are in place for people with dementia to live well, and be involved in a leadership capacity to influence decision making and reduce social isolation.',\n",
       " 'To create dementia-friendly communities by convening a range of community organizations to undertake a collective impact initiative to address a healthcare infrastructure poorly suited to the needs of people with dementia.',\n",
       " \"to partner with local Alzheimer's Societies, recreation facilities and older adult centres to pilot the Minds in Motion program in six Ontario communities. The eight-week program will offer an hour of physical activity and an hour of meaningful activity, such as puzzles and games, music, art, or memory sharing, to more than 700 persons with early to mid-stage dementia and their care partners to boost social engagement and functional ability.\",\n",
       " 'to support a change management process, taking its 38 chapters to a more streamlined and effective model of operation and service delivery. This will help the organization better meet the rising demand for its services.',\n",
       " 'to support staff and external expertise to integrate services and develop common operational and human resource functions for chapter organizations across the province._x000D_\\n_x000D_\\n_x000D_\\n',\n",
       " '$134,000 over 2 years to provide support, education and  linkage system to persons with dementia and their families from the time of diagnosis through the continuum of the disease.',\n",
       " '$60,000 over one year to provide support and information to individuals and family members from the initial diagnosis of dementia to the final stage of the illness and to expand the First Link support program into Renfrew County.',\n",
       " '$85,000 over two years to assist the Champlain Dementia Network in its efforts to improve access to caregiver support and ensure better co-ordination of service delivery to persons with dementia and their family members in Eastern Ontario.',\n",
       " 'Delivering a project at the idea or conceptual stage with a $75,000 grant over 12 months to to connect people living with dementia to their communities. Building inclusive and engaged communities together, this initiative is helping people who are isolated have connections in their community, and has an impact on the lives of  30,000 people in the community.',\n",
       " \"to partner with the City of Ottawa to develop and pilot the Minds in Motion program in Ottawa. Minds in Motion is an eight week fitness and social program for people experiencing early stage memory loss due to Alzheimer's disease or another dementia and a friend, family member or care partner. As a result of this investment, more than 150 people with dementia will increase their level of physical activity and social engagement.\",\n",
       " '$112,000 over three years for a co-ordinator and costs to implement a program for individuals with Alzheimer Disease or related dementia and their families who are dealing with the early stages of the disease.',\n",
       " \"$15,000 for computer upgrades to make the organization more efficient and responsive to clients' needs.\",\n",
       " 'to increase the available office and meeting space to allow for the delivery of more programs, and to add a ramp to make the building accessible to all community members.',\n",
       " \"$115,500 over three years to support resource development initiatives to increase and diversify the organization's revenue base so that it can expand existing programs.\",\n",
       " '$149,300 over one year to renovate a garage, turning it into a facility with two respite beds. A horticulturalist will also be hired to build and animate an outdoor garden, which will help to raise funds and develop partnerships with other programs.',\n",
       " '$76,900 over three years to hire a volunteer co-ordinator, who will  develop a volunteer management program and help to build organizational capacity for long- term sustainability.',\n",
       " 'Our group, with a $57,800 Resilient Communities Fund grant over 9 months, will rebuild and recover from impacts of COVID-19 by developing a virtual and in-person service model, and purchasing technical equipment to assist with online connectivity and implementing new fundraising strategies and engagement.\\nCensus Division of Impact: County of Perth',\n",
       " \"to develop and implement a social media framework that will strengthen communications and enhance public  awareness of programs related to Alzheimer's disease throughout Perth, Huron, Grey and Bruce counties.\",\n",
       " \"to provide community outreach services and implement the volunteer companion program for local persons with Alzheimer's disease or related dementia.\",\n",
       " \"to hold a conference entitled A Changing Melody for individuals in the early stages of Alzheimer's disease and other forms of dementia, and their families and caregivers.\",\n",
       " '$62,000 over two years to deliver an in-home recreation therapy program to improve the quality of life for people affected by Alzheimer disease and related disorders.',\n",
       " 'Delivering a project that builds on the success of a proven model or program with a $289,300 grant over 34 months to implement the Minds in Motion program in Simcoe County and in the Muskoka/Parry Sound area. Building inclusive and engaged communities together, this initiative is helping people who are isolated have connections in their community, and has an impact on the lives of  804 people in the community.',\n",
       " '$112,500 over three years to assist with operating and equipment costs so that the organization will be able to develop a volunteer program and a sustainable fund generation initiative.',\n",
       " \"$129,000 over three years to establish an early warning signs project and build the organization's capacity to continue providing programs and services for people with Alzheimer's disease and their families in Thunder Bay and district.\",\n",
       " 'Delivering a project at the idea or conceptual stage with a $75,000 grant over 11 months to develop and implement an education and training program. Building inclusive and engaged communities together, this initiative is helping people who are isolated have connections in their community, and has an impact on the lives of  37,600 people in the community.',\n",
       " \"to hire a co-ordinator who will implement a three-year strategic plan, develop partnerships and refocus the fund-development program on planned giving. This will help the organization increase revenue and improve service delivery to people with Alzheimer's and their families in the region._x000D_\\n_x000D_\\n\",\n",
       " '$150,000 over eight months toward renovations to co-locate three Alzheimer Societies: Toronto, Ontario and Canada.  This will decrease overhead costs and increase access to coordinated services and resources for clients with dementia across Toronto.',\n",
       " \"$25,000 over one year to implement a new software program in order to improve the organization's management of its client and donor database.\",\n",
       " '$35,800 to improve access to information about dementia by making the resource centre fully accessible to the public through an on-line catalogue and an upgrade to its automation system.',\n",
       " \"Delivering a project at the idea or conceptual stage with a $34,800 grant over 12 months to provide four, eight-week Men's Sheds programs focused on engaging isolated men with dementia. Building inclusive and engaged communities together, this initiative is helping people who are isolated have connections in their community, and has an impact on the lives of  80 people in the community.\",\n",
       " 'Delivering a project at the idea or conceptual stage with a $75,000 grant over 11 months to create and implement a Volunteer Companionship Program. Building inclusive and engaged communities together, this initiative is helping people who are isolated have connections in their community, and has an impact on the lives of  300 people in the community.',\n",
       " 'Delivering a project at the idea or conceptual stage with a $75,000 grant over 12 months to research how to best educate community businesses to be supportive of people living with dementia. Building inclusive and engaged communities together, this initiative is helping people who are isolated have connections in their community, and has an impact on the lives of  43,000 people in the community.',\n",
       " 'Delivering a project that builds on the success of a proven model or program with a $137,700 grant over 24 months to provide physical activity and socialization to people with dementia. Fostering more active lifestyles, this initiative is helping Ontarians participate in an active lifestyle, and has an impact on the lives of  160 people in the community.',\n",
       " 'to coordinate a personalized music program that will reach people with Alzheimer’s disease and other dementias, and engage 100 volunteers, particularly youth, in an iPod donation drive and the provision of technical support and online content. Website and social media components will also be launched to connect with other agencies, encourage financial donations and enable the recycling of digital audio players.',\n",
       " \"$98,800 over three years to coordinate expansion of support services to people with Alzheimer's disease and their care givers, including the establishment of six satellite locations in rural Victoria County.\",\n",
       " \"to develop and implement a Volunteer Companionship Program in Windsor/ Essex County for those suffering from Alzheimer's disease and other related dementias. This will help people living in their homes who are susceptible to loneliness and social isolation, with particular focus on the diverse communities.\",\n",
       " \"to increase awareness of services available in York Region for persons with Alzheimer's Disease and other dementias, and their families. Funds will be used to hire a Communications Coordinator and Human Resources Manager, as well as program costs.\",\n",
       " '$166,000 over three years to improve the quality of life of people with Alzheimer disease and their families by raising awareness of the services available from the organization and building its volunteer base and fundraising capacity.',\n",
       " 'Delivering a project at the idea or conceptual stage with a $73,200 grant over 12 months to launch Minds in Motion, a dementia-friendly recreation program for people living with dementia and their care partners. Building inclusive and engaged communities together, this initiative is helping people who are isolated have connections in their community, and has an impact on the lives of  88 people in the community.',\n",
       " 'Delivering improved infrastructure with a $132,500 grant over 1 month to buy two new vans to transport isolated seniors to programs, and purchase furniture and sound systems. Building inclusive and engaged communities together, this initiative is helping people who are isolated have connections in their community, and has an impact on the lives of  265 people in the community.',\n",
       " 'Delivering improved infrastructure with a $25,000 grant over 10 months to renovate existing washroom facilities and install a new, accessible washroom. Building inclusive and engaged communities together, this initiative is helping people who are isolated have connections in their community, and has an impact on the lives of  350 people in the community.',\n",
       " 'Our organization, with a $150,000 Resilient Communities Fund grant over 12 months, will rebuild and recover from impacts of COVID-19 by hiring staff to do overnight cleaning at two sites, and purchasing computer hardware, software and accessories as well as PPE to safely operate six days per week by reinstating face-to-face meeting among social workers and clients.\\nCensus Division of Impact: Regional Municipality of York',\n",
       " 'to open a satellite office in Vaughan to provide increased services to people with Alzheimer Disease, their families and caregivers.',\n",
       " '$20,000 over 1 year to purchase marketing materials to increase local public awareness.',\n",
       " \"$53,600 over two years for the choirs to establish an office location and hire a part-time manager. These improvements will enhance the organizational structure, support the efforts of volunteers and increase the choirs' professionalism.\",\n",
       " 'to hire a fund development officer to develop a strong funding base that would solidify the artistic vision of the  Choirs for the long term. This grant will promote arts and culture for the London community.',\n",
       " '$225,000 over three years to provide support, mentorship and opportunities for young people in the adult correctional system to earn their high school diploma. The Look at My Life Project (TLMLP) will provide one-on-one tutoring, support and information sessions for youth in custody. Youth enrolled in the program will also receive post-release supports in accessing employment, post-secondary education and housing.',\n",
       " '$10,000 over eight months to undertake a marketing campaign that will increase attendance at the Dragon Boat Festival so that it will become an important tourist attraction.',\n",
       " '$12,800 over one year to broaden the repertoire, train choristers and extend the audience base by purchasing a digital piano and portable risers as well as developing marketing tools and outreach initiatives..',\n",
       " '$75,000 over one year to expand the technology required to provide a sports management system that will enhance communications and coordination among teams and associations, enabling them to operate more efficiently and reduce volunteer burnout',\n",
       " '$18,000 over two years to publish a book that documents and celebrates the history of medicine in the Hamilton area.',\n",
       " 'Delivering a project at the idea or conceptual stage with a $74,300 grant over 12 months to provide an empowering program for local youth that focuses on developing healthy relationships and building self-esteem. Supporting the positive development of children and youth, this initiative is helping parents, caregivers and adult allies have the skills to support children and youth who are facing barriers, and has an impact on the lives of  300 people in the community.',\n",
       " '$37,000 over 1 year to hire one support worker to help reduce the waiting period for counseling and to develop an educational support group for partners, spouses, family members and friends of adult female survivors of sexual violence.',\n",
       " '$80,000 over two years to develop and implement group support services for male survivors of sexual abuse and assault.',\n",
       " 'Our organization, with a $63,800 Resilient Communities Fund grant over 12 months, will rebuild and recover from impacts of COVID-19 by buying docking stations, phones, laptops & air purifiers, scaling up the online content, training staff on virtual addiction services and holding development sessions.',\n",
       " 'to fund a part-time coordinator and cultural facilitators to identify barriers to services, develop culturally and linguistically appropriate screening tools and explore opportunities for more coordinated action for women who have experienced abuse. Tools and resources developed by this collaborative will be shared with other communities through the Ontario Woman Abuse Screening initiative.',\n",
       " '$25,000 over one year for a station manager to help build the capacity of Amherst Island Public Radio CJAI-FM. Programming will be enhanced, funding secured and volunteers trained to help the organization become a full-power community radio station.',\n",
       " 'Our organization, with a $11,600 Community Building Fund – Operating stream grant over 12 months, will continue operating facilities and/or delivering experiences or programs for Ontarians by assisting with operating costs, and upgrading computer and audio equipment to continue developing new ways of engaging with audiences.',\n",
       " '$60,000 over four years for the trumpeter swan reintroduction program, a volunteer-driven project that will return swans to their original habitat by nurturing and caring for more than 250 cygnets at the Fair Lake compound near the community of Ayr.',\n",
       " '$43,300 over one year to purchase equipment that will expand programming in drumming and other visual and performing arts and attract spectators to performances and events.',\n",
       " '$65,000 over one year to enhance tourism and promote activities in the historical community of Amherstburg.',\n",
       " \"$8,900 over five months to strengthen the Amherstburg Youth Council's organizational capacity to provide programs that encourage youth to lead healthy and productive lives.\",\n",
       " 'Our organization, with a $7,200 Resilient Communities Fund grant over 12 months, will rebuild and recover from impacts of COVID-19 by Purchasing equipment, software and resources to continue to deliver community programming online to both existing and new clients.\\nCensus Division of Impact: Essex County',\n",
       " 'to engage a community developer to support a partnership between agencies serving Amherstburg and Essex. _x000D_\\nOne integrated volunteer program will be established and community awareness of and access to services will be enhanced. The sustainability of services will be strengthened through increased volunteer and donor engagement.',\n",
       " \"$12,000 over 3 years to support a weekly soup kitchen, a children's program and the delivery of meals to seniors and families.\",\n",
       " '$75,000 over one year to help the organization purchase kitchen and other equipment that will enable it to provide hot meals and support to people in need in the community.',\n",
       " '$75,000 over one year to purchase an exterior walk-in freezer, a hot-water delivery system and kitchen equipment. These additions will improve the capacity of this group to provide free food service to residents who are financially disadvantaged.',\n",
       " 'Delivering improved infrastructure with a $119,700 grant over 3 months to renovate and upgrade the infrastructures of the Amherstburg Freedom Museum and the historic Taylor Log Cabin. Enriching people’s lives through arts, culture and heritage, this initiative is helping arts, culture and heritage have appropriate spaces, and has an impact on the lives of  20,000 people in the community.',\n",
       " 'Our organization, with a $23,700 Resilient Communities Fund grant over 9 months, will rebuild and recover from impacts of COVID-19 by purchasing materials and services for website design, digital media storage, fundraising access, protective equipment and hiring a content producer for safe service delivery.\\nCensus Division of Impact: Essex County',\n",
       " \"$15,000 over one year to enhance the capacity of the group with a portable sound system. The equipment will be used at the association's annual festival, which celebrates the community's history as the main final terminal on the Underground Railroad.\",\n",
       " 'to increase the capacity of the group through promotional materials, equipment and office space, highlighting the plight of slaves crossing into Amherstburg. This grant will help promote culture in the Essex community.',\n",
       " '$24,000 over six months to produce a Microbiz CD-ROM, identifying the history and culture of Amherstburg.',\n",
       " '$46,000 over one year to make repairs and renovations to the Park House Museum located in Amherstburg, Ontario.',\n",
       " 'Our organization, with a $39,400 Community Building Fund – Operating stream grant over 12 months, will continue operating facilities and/or delivering experiences or programs for Ontarians by adapting youth sports programs to meet public health guidelines by purchasing cleaning materials and equipment, and assisting with operational costs.',\n",
       " '$10,000 over one year towards hiring a fundraising consultant to work with the Board and staff in the development of a strategic fundraising plan.',\n",
       " '$122,100 over one year to establish a social enterprise café in downtown Hamilton. The café will provide employment training for youth at risk and persons with disabilities and generate sustainable operational revenue.',\n",
       " '$60,000 over one year to increase community awareness of the organization and implement a fundraising program.',\n",
       " '$46,400 over 1 year to roll out a piloted human rights education project in 100 schools across Ontario.',\n",
       " '$224,400 over three years to support a volunteer development and training initiative for lesbian, gay, bisexual and transsexual (LGBT) newcomers and increase the capacity of community agencies to provide effective programming for LGBT newcomers.',\n",
       " \"$30,000 over two years to establish a local office and expand support services through fundraising, a web site and promotional materials for people suffering from Amyotrophic Lateral Sclerosis (Lou Gehrig's Disease).\",\n",
       " '$141,900 over two years to expand services to people with ALS in York Region and Simcoe County. A community development program will be launched that will increase support to existing and new ALS chapters.',\n",
       " 'to hire a part-time community development co-ordinator who will implement a program to improve the quality of life of people living with ALS and help them live in their homes as long as possible.',\n",
       " \"$5,000 over six months to produce in London a show entitled 'Failte A Celtic Canadian Odyssey' that showcases Irish dancing and celebrates Irish immigrant history.\\n\",\n",
       " 'to build a solid information technology infrastructure and pay for a part-time project coordinator who will improve their ability to provide effective and needed service to their clients in Middlesex.',\n",
       " \"Delivering improved infrastructure with a $35,000 grant over 3 months to replace St. Mary's Food Bank's aging walk-in cooler/freezer. Enhancing people’s economic wellbeing, this initiative is helping people who are economically vulnerable be able to meet their basic needs, and has an impact on the lives of  10,000 people in the community.\",\n",
       " 'to increase the employment skills of Arabic speaking immigrants and newcomers by renovating and equipping a skills training centre in Mississauga.',\n",
       " '$122,000 over two years for transportation and a full-time manager to improve the overall capacity of the food bank.  It will then be able to provide food and other needed items for families in the Mississauga area.',\n",
       " 'to hire an outreach coordinator to develop partnerships, provide faster referrals to local services and support low-income seniors living in Ancaster and surrounding area._x000D_\\n_x000D_\\n',\n",
       " '$54,600 over two years to design and implement a volunteer program that will help address the needs of seniors in Ancaster and area.',\n",
       " '$65,000 over three years to enable the organization to expand its resource and community development services.',\n",
       " '$75,000 over three years to maintain and expand the information and referral and community services provided by the Centre from 30 hours to 35 hours per week.',\n",
       " '$28,700 over two years to equip 470 volunteer coaches with more training, information, resources and equipment, enabling over 1,000 children, youth and adults to safely play hockey.',\n",
       " '$4,300 over one year to improve the co-ordination of 200 volunteers and recognize their contributions to the 25th Ancaster Old Mill Race where 1,400 people participate each year.',\n",
       " '$52,300 to purchase soccer equipment that will enhance the training and competitive soccer program offered to 2,450 youth in Ancaster.',\n",
       " '$31,000 over five years to produce a weekly summer concert series at the Fieldcote Park and Museum, benefiting local musicians and performers.',\n",
       " 'to facilitate the creation of the Ancaster Memorial Arts Centre, a multidisciplinary arts and community space that will hold dance and music studios, as well as a theatre. Funds will be used to hire a coordinator to support partnerships, undertake a needs assessment and assist in fundraising.',\n",
       " 'to promote and enhance access to Music at Fieldcote, a free Sunday afternoon music program, featuring live jazz and classical musicians.  Some 200 seniors will be transported to these concerts using the Disabled Assisted Regional Transit System and a sound system will be purchased to ensure a high quality experience.',\n",
       " 'to increase club membership, safety and accessibility by renovating the tennis courts currently used by over 400 members._x000D_\\n',\n",
       " '$51,000 over six months to rejuvenate the park \\nand purchase equipment for baseball players.\\n',\n",
       " '$70,000 over six months to help create a safer baseball viewing area for residents of Ancaster by installing grandstands.',\n",
       " 'Our organization, with a $29,300 Community Building Fund – Operating stream grant over 12 months, will continue operating facilities and/or delivering experiences or programs for Ontarians by continuing to employ a permanent part-time administrator as well as purchasing a laptop for remote work.',\n",
       " 'Delivering a project at the idea or conceptual stage with a $75,000 grant over 12 months to recruit and train volunteers to map and assess old-growth forests. Encouraging people to support a healthy and sustainable environment, this initiative is helping people participate in ecosystem conservation and restoration efforts, and has an impact on the lives of  10,000 people in the community.',\n",
       " 'to improve organizational effectiveness by hiring consultants to assist in the development of a strategic plan.',\n",
       " \"$50,800 over six months to help transform this Ottawa centre's playground into the Children's Urban Oasis, an inclusive ecological learning environment for children with special needs and from inner-city, low-income and new immigrant families.\",\n",
       " 'RESCINDED - $25,000 over 13 months to complete a survey of work and family issues and stresses in the Ottawa-Carleton Region.',\n",
       " \"$90,000 over one year to create, develop and present a multimedia touring production profiling André Paiement's contribution to franco-Ontarian cultural heritage. The productions will be presented in Sudbury, Toronto and Ottawa.\",\n",
       " '$100,000 over two years to enable the organization to enhance services to Aboriginal women, men and children by supporting a marketing and fundraising campaign.',\n",
       " 'Delivering improved infrastructure with a $149,900 grant over 12 months to renovate 24 units and four common rooms, replacing aging furniture and equipment. Enhancing people’s economic wellbeing, this initiative is helping people who are economically vulnerable be able to meet their basic needs, and has an impact on the lives of  62 people in the community.',\n",
       " 'Delivering improved infrastructure with a $150,000 grant over 12 months to install energy efficient windows at a transitional housing facility to help lower operational costs. Enhancing people’s economic wellbeing, this initiative is helping people who are economically vulnerable be able to meet their basic needs, and has an impact on the lives of  600 people in the community.',\n",
       " 'Delivering improved infrastructure with a $150,000 grant over 12 months to replace and install windows at transitional housing building for Indigenous women and children. Enhancing people’s economic wellbeing, this initiative is helping people who are economically vulnerable be able to meet their basic needs, and has an impact on the lives of  1,000 people in the community.',\n",
       " 'Our organization, with a $150,000 Resilient Communities Fund grant over 12 months, will rebuild and recover from impacts of COVID-19 by hiring a full-time Program Coordinator, purchasing fundraising technology, conducting workshops for Board members and staff by engaging an Indigenous Elder who will develop cultural awareness activities to best meet the emerging needs of Indigenous women and children fleeing violence.\\nCensus Division of Impact: Toronto',\n",
       " \"Delivering improved infrastructure with a $91,000 grant over 10 months to renovate the housing cooperative's accessibility ramp and create a second barrier-free exit for isolated seniors with mobility issues. Building inclusive and engaged communities together, this initiative is helping people who are isolated have connections in their community, and has an impact on the lives of  50 people in the community.\",\n",
       " 'to purchase and install a picnic shelter for community gatherings on the land at Partridge Lake. It will be used for recreation and culture activities for people of all ages in the First Nation.',\n",
       " '$20,000 to develop a watershed management plan that will increase awareness of watershed issues, natural resource preservation and development in six First Nation communities on Lake of the Woods.',\n",
       " '$405,000 over three years to build the organizational capacity to develop policy and co-ordinate research to preserve and standardize 13 languages representing all 134 First Nations in Ontario.',\n",
       " '$345,500 over three years to pilot a credit union in Bearskin Lake First Nation and provide financial education in Oji-Cree. Once evaluated, the model may be replicated in other First Nations communities in Northern Ontario.',\n",
       " ' Supporting collaborative work with a $1,500,000 grant over 6 years to strengthen the high school to sustainable employment transition for First Nation youth in remote communities and Thunder Bay, increasing student success by enhancing the education system',\n",
       " 'Our organization, with a $150,000 Resilient Communities Fund grant over 12 months, will rebuild and recover from impacts of COVID-19 by launching the loaner laptop program to support online program delivery while also training staff and collecting essential labour market information.\\nCensus Division of Impact: Thunder Bay',\n",
       " '$150,000 over two years to develop and implement environmental programs such as recycling and hazardous waste diversion for the Fort William First Nation. Funding will provide opportunities for citizens to engage in improving their own community.',\n",
       " '$204,000 over 3 years to promote harmony and sustainable use among fisheries communities in the Great Lakes Basin of Ontario. AOFRC will achieve their goal through stakeholder  discussion, community training and database development.',\n",
       " 'to enhance service delivery for urban Aboriginal youth and to increase community engagement through a highly structured, culture-based learning program and readily identifiable meeting space.',\n",
       " '$61,000 over one year to complete a business plan for an Aboriginal information technology centre that will provide computer training and business development support to members of this Aboriginal community near Sault Ste. Marie.',\n",
       " '$75,000 over one year to support the operating costs of a training centre that will provide information technology training to Aboriginal people to enhance their employment prospects.',\n",
       " '$275,900 over five years to support the implementation of the Biindged Program, an initiative that works to get  homeless Aboriginal men & women off the streets of Toronto & into more stable & rewarding lifestyles.',\n",
       " \"$70,000 over two years to hire a year-round, part-time artistic co-ordinator who will assist with the planning, promotion, administration, implementation and delivery of the organization's programming in London.\",\n",
       " '$4,000 over one year to support a weeklong Bloomsday festival of readings, music, & celebration of the Irish writer, James Joyce.',\n",
       " '$10,700 over six months to support a project that will use drama as a tool to bridge communication between persons with disabilities, youth, and seniors.',\n",
       " '$14,700 over two years to conduct outreach and deliver an adapted exercise program for people with physical disabilities in North Toronto. This will increase participation in recreation by supporting a healthy and physically active lifestyle.',\n",
       " 'Our organization, with a $125,500 Resilient Communities Fund grant over 12 months, will rebuild and recover from impacts of COVID-19 by purchasing new online tools to improve service efficiency and hiring personnel to train the Leadership team and deliver trauma and violence informed programming.',\n",
       " ...]"
      ]
     },
     "execution_count": 39,
     "metadata": {},
     "output_type": "execute_result"
    }
   ],
   "source": [
    "english_description_info"
   ]
  },
  {
   "cell_type": "code",
   "execution_count": null,
   "metadata": {},
   "outputs": [],
   "source": []
  }
 ],
 "metadata": {
  "kernelspec": {
   "display_name": "Python 3",
   "language": "python",
   "name": "python3"
  },
  "language_info": {
   "codemirror_mode": {
    "name": "ipython",
    "version": 3
   },
   "file_extension": ".py",
   "mimetype": "text/x-python",
   "name": "python",
   "nbconvert_exporter": "python",
   "pygments_lexer": "ipython3",
   "version": "3.7.4"
  }
 },
 "nbformat": 4,
 "nbformat_minor": 2
}
