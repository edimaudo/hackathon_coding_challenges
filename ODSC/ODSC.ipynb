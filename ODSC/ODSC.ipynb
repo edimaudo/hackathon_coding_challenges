{
 "cells": [
  {
   "cell_type": "code",
   "execution_count": 1,
   "id": "8245bab1",
   "metadata": {},
   "outputs": [],
   "source": [
    "# --------------------------------------------------------\n",
    "# Overview \n",
    "# --------------------------------------------------------\n",
    "# Objective is to predictive output for pm, stator tooth, stator winding\n",
    "# and stator yoke.  The key measure is RMSE\n",
    "#  judging criteria\n",
    "#  1. Code structure/quality\n",
    "#  2. Data mining\n",
    "#  3. Findings and explanations\n",
    "#  4. Predictions and performance of the model "
   ]
  },
  {
   "cell_type": "code",
   "execution_count": null,
   "id": "91f8766c",
   "metadata": {},
   "outputs": [],
   "source": [
    "import pandas as pd\n",
    "from pycaret.classification import *"
   ]
  }
 ],
 "metadata": {
  "kernelspec": {
   "display_name": "Python 3",
   "language": "python",
   "name": "python3"
  },
  "language_info": {
   "codemirror_mode": {
    "name": "ipython",
    "version": 3
   },
   "file_extension": ".py",
   "mimetype": "text/x-python",
   "name": "python",
   "nbconvert_exporter": "python",
   "pygments_lexer": "ipython3",
   "version": "3.7.4"
  }
 },
 "nbformat": 4,
 "nbformat_minor": 5
}
