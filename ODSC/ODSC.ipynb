{
 "cells": [
  {
   "cell_type": "markdown",
   "id": "08f96a33",
   "metadata": {},
   "source": [
    "### --------------------------------------------------------\n",
    "### Overview \n",
    "### --------------------------------------------------------\n",
    "### Objective is to predictive output for pm, stator tooth, stator winding\n",
    "### and stator yoke.  The key measure is RMSE"
   ]
  },
  {
   "cell_type": "code",
   "execution_count": 3,
   "id": "8a443022",
   "metadata": {},
   "outputs": [],
   "source": [
    "import pandas as pd\n",
    "from pycaret.regression import *\n",
    "import sklearn\n",
    "import matplotlib.pyplot as plt\n",
    "%matplotlib inline\n",
    "from sklearn import preprocessing\n",
    "from sklearn.metrics import accuracy_score\n",
    "from sklearn import model_selection\n",
    "from sklearn.metrics import mean_squared_error\n",
    "from sklearn.model_selection import cross_val_score\n",
    "from sklearn.preprocessing import LabelEncoder, MinMaxScaler, StandardScaler, OneHotEncoder\n",
    "from sklearn.model_selection import train_test_split"
   ]
  },
  {
   "cell_type": "code",
   "execution_count": 4,
   "id": "688013d6",
   "metadata": {},
   "outputs": [],
   "source": [
    "# Load data\n",
    "train = pd.read_csv(\"train.csv\")\n",
    "test = pd.read_csv(\"test.csv\")\n",
    "test_solutions = pd.read_csv(\"test_solutions.csv\")\n",
    "test = pd.concat([test, test_solutions],axis=1)"
   ]
  },
  {
   "cell_type": "code",
   "execution_count": 3,
   "id": "c4a1d166",
   "metadata": {},
   "outputs": [
    {
     "data": {
      "text/html": [
       "<div>\n",
       "<style scoped>\n",
       "    .dataframe tbody tr th:only-of-type {\n",
       "        vertical-align: middle;\n",
       "    }\n",
       "\n",
       "    .dataframe tbody tr th {\n",
       "        vertical-align: top;\n",
       "    }\n",
       "\n",
       "    .dataframe thead th {\n",
       "        text-align: right;\n",
       "    }\n",
       "</style>\n",
       "<table border=\"1\" class=\"dataframe\">\n",
       "  <thead>\n",
       "    <tr style=\"text-align: right;\">\n",
       "      <th></th>\n",
       "      <th>ambient</th>\n",
       "      <th>coolant</th>\n",
       "      <th>u_d</th>\n",
       "      <th>u_q</th>\n",
       "      <th>motor_speed</th>\n",
       "      <th>torque</th>\n",
       "      <th>i_d</th>\n",
       "      <th>i_q</th>\n",
       "      <th>pm</th>\n",
       "      <th>stator_yoke</th>\n",
       "      <th>stator_tooth</th>\n",
       "      <th>stator_winding</th>\n",
       "      <th>profile_id</th>\n",
       "    </tr>\n",
       "  </thead>\n",
       "  <tbody>\n",
       "    <tr>\n",
       "      <th>0</th>\n",
       "      <td>-0.752143</td>\n",
       "      <td>-1.118446</td>\n",
       "      <td>0.327935</td>\n",
       "      <td>-1.297858</td>\n",
       "      <td>-1.222428</td>\n",
       "      <td>-0.250182</td>\n",
       "      <td>1.029572</td>\n",
       "      <td>-0.245860</td>\n",
       "      <td>-2.522071</td>\n",
       "      <td>-1.831422</td>\n",
       "      <td>-2.066143</td>\n",
       "      <td>-2.018033</td>\n",
       "      <td>4</td>\n",
       "    </tr>\n",
       "    <tr>\n",
       "      <th>1</th>\n",
       "      <td>-0.771263</td>\n",
       "      <td>-1.117021</td>\n",
       "      <td>0.329665</td>\n",
       "      <td>-1.297686</td>\n",
       "      <td>-1.222429</td>\n",
       "      <td>-0.249133</td>\n",
       "      <td>1.029509</td>\n",
       "      <td>-0.245832</td>\n",
       "      <td>-2.522418</td>\n",
       "      <td>-1.830969</td>\n",
       "      <td>-2.064859</td>\n",
       "      <td>-2.017631</td>\n",
       "      <td>4</td>\n",
       "    </tr>\n",
       "    <tr>\n",
       "      <th>2</th>\n",
       "      <td>-0.782892</td>\n",
       "      <td>-1.116681</td>\n",
       "      <td>0.332771</td>\n",
       "      <td>-1.301822</td>\n",
       "      <td>-1.222428</td>\n",
       "      <td>-0.249431</td>\n",
       "      <td>1.029448</td>\n",
       "      <td>-0.245818</td>\n",
       "      <td>-2.522673</td>\n",
       "      <td>-1.830400</td>\n",
       "      <td>-2.064073</td>\n",
       "      <td>-2.017343</td>\n",
       "      <td>4</td>\n",
       "    </tr>\n",
       "    <tr>\n",
       "      <th>3</th>\n",
       "      <td>-0.780935</td>\n",
       "      <td>-1.116764</td>\n",
       "      <td>0.333700</td>\n",
       "      <td>-1.301852</td>\n",
       "      <td>-1.222430</td>\n",
       "      <td>-0.248636</td>\n",
       "      <td>1.032845</td>\n",
       "      <td>-0.246955</td>\n",
       "      <td>-2.521639</td>\n",
       "      <td>-1.830333</td>\n",
       "      <td>-2.063137</td>\n",
       "      <td>-2.017632</td>\n",
       "      <td>4</td>\n",
       "    </tr>\n",
       "    <tr>\n",
       "      <th>4</th>\n",
       "      <td>-0.774043</td>\n",
       "      <td>-1.116775</td>\n",
       "      <td>0.335206</td>\n",
       "      <td>-1.303118</td>\n",
       "      <td>-1.222429</td>\n",
       "      <td>-0.248701</td>\n",
       "      <td>1.031807</td>\n",
       "      <td>-0.246610</td>\n",
       "      <td>-2.521900</td>\n",
       "      <td>-1.830498</td>\n",
       "      <td>-2.062795</td>\n",
       "      <td>-2.018145</td>\n",
       "      <td>4</td>\n",
       "    </tr>\n",
       "  </tbody>\n",
       "</table>\n",
       "</div>"
      ],
      "text/plain": [
       "    ambient   coolant       u_d       u_q  motor_speed    torque       i_d  \\\n",
       "0 -0.752143 -1.118446  0.327935 -1.297858    -1.222428 -0.250182  1.029572   \n",
       "1 -0.771263 -1.117021  0.329665 -1.297686    -1.222429 -0.249133  1.029509   \n",
       "2 -0.782892 -1.116681  0.332771 -1.301822    -1.222428 -0.249431  1.029448   \n",
       "3 -0.780935 -1.116764  0.333700 -1.301852    -1.222430 -0.248636  1.032845   \n",
       "4 -0.774043 -1.116775  0.335206 -1.303118    -1.222429 -0.248701  1.031807   \n",
       "\n",
       "        i_q        pm  stator_yoke  stator_tooth  stator_winding  profile_id  \n",
       "0 -0.245860 -2.522071    -1.831422     -2.066143       -2.018033           4  \n",
       "1 -0.245832 -2.522418    -1.830969     -2.064859       -2.017631           4  \n",
       "2 -0.245818 -2.522673    -1.830400     -2.064073       -2.017343           4  \n",
       "3 -0.246955 -2.521639    -1.830333     -2.063137       -2.017632           4  \n",
       "4 -0.246610 -2.521900    -1.830498     -2.062795       -2.018145           4  "
      ]
     },
     "execution_count": 3,
     "metadata": {},
     "output_type": "execute_result"
    }
   ],
   "source": []
  },
  {
   "cell_type": "code",
   "execution_count": null,
   "id": "74a5936e",
   "metadata": {},
   "outputs": [],
   "source": []
  },
  {
   "cell_type": "code",
   "execution_count": null,
   "id": "5b966add",
   "metadata": {},
   "outputs": [],
   "source": []
  },
  {
   "cell_type": "code",
   "execution_count": 5,
   "id": "6570f94d",
   "metadata": {},
   "outputs": [],
   "source": [
    "main_columns = ['ambient','coolant','u_d','u_q','motor_speed','torque','i_d','i_q']"
   ]
  },
  {
   "cell_type": "code",
   "execution_count": null,
   "id": "332149b2",
   "metadata": {},
   "outputs": [],
   "source": []
  },
  {
   "cell_type": "code",
   "execution_count": 7,
   "id": "948555f2",
   "metadata": {},
   "outputs": [],
   "source": [
    "# rescale all train variables except the target variable\n",
    "scaler = preprocessing.MinMaxScaler()\n",
    "df_scale_train = scaler.fit_transform(train[main_columns])\n",
    "df_scale_train = pd.DataFrame(df_scale_train)\n",
    "df_scale_train.reset_index(drop=True, inplace=True)"
   ]
  },
  {
   "cell_type": "code",
   "execution_count": 8,
   "id": "95002b26",
   "metadata": {},
   "outputs": [],
   "source": [
    "# rescale all test variables except the target variable\n",
    "scaler = preprocessing.MinMaxScaler()\n",
    "df_scale_test = scaler.fit_transform(test[main_columns])\n",
    "df_scale_test = pd.DataFrame(df_scale_test)\n",
    "df_scale_test.reset_index(drop=True, inplace=True)"
   ]
  },
  {
   "cell_type": "code",
   "execution_count": null,
   "id": "1ceb1e1f",
   "metadata": {},
   "outputs": [],
   "source": [
    "## pm\tstator_yoke\tstator_tooth\tstator_winding"
   ]
  },
  {
   "cell_type": "code",
   "execution_count": 9,
   "id": "8294dffd",
   "metadata": {},
   "outputs": [],
   "source": [
    "# create train models\n",
    "train['pm'].reset_index(drop=True, inplace=True)\n",
    "train['stator_yoke'].reset_index(drop=True, inplace=True)\n",
    "train['stator_tooth'].reset_index(drop=True, inplace=True)\n",
    "train['stator_winding'].reset_index(drop=True, inplace=True)\n",
    "# build pm model\n",
    "train_pm = pd.concat([df_scale_train,train['pm']], axis=1)\n",
    "# build stator tooth model\n",
    "train_stator_tooth = pd.concat([df_scale_train,train['stator_tooth']], axis=1)\n",
    "# build stator yoke model\n",
    "train_stator_yoke = pd.concat([df_scale_train,train['stator_yoke']], axis=1)\n",
    "# build stator winding model\n",
    "train_stator_winding = pd.concat([df_scale_train,train['stator_winding']], axis=1)"
   ]
  },
  {
   "cell_type": "code",
   "execution_count": 10,
   "id": "2f98ab38",
   "metadata": {},
   "outputs": [],
   "source": [
    "# create test models\n",
    "test['pm'].reset_index(drop=True, inplace=True)\n",
    "test['stator_yoke'].reset_index(drop=True, inplace=True)\n",
    "test['stator_tooth'].reset_index(drop=True, inplace=True)\n",
    "test['stator_winding'].reset_index(drop=True, inplace=True)\n",
    "# build pm model\n",
    "test_pm = pd.concat([df_scale_test,test['pm']], axis=1)\n",
    "# build stator tooth model\n",
    "test_stator_tooth = pd.concat([df_scale_test,test['stator_tooth']], axis=1)\n",
    "# build stator yoke model\n",
    "test_stator_yoke = pd.concat([df_scale_test,test['stator_yoke']], axis=1)\n",
    "# build stator winding model\n",
    "test_stator_winding = pd.concat([df_scale_test,test['stator_winding']], axis=1)"
   ]
  },
  {
   "cell_type": "code",
   "execution_count": null,
   "id": "65f4ac78",
   "metadata": {},
   "outputs": [],
   "source": []
  },
  {
   "cell_type": "code",
   "execution_count": null,
   "id": "5a4b3655",
   "metadata": {},
   "outputs": [],
   "source": [
    "\n"
   ]
  },
  {
   "cell_type": "code",
   "execution_count": null,
   "id": "047cf367",
   "metadata": {},
   "outputs": [],
   "source": [
    "\n",
    "# init setup on exp\n",
    "exp.setup(data, target = 'charges', session_id = 123)\n",
    "# compare baseline models\n",
    "best = compare_models()\n",
    "# predict model on new_data\n",
    "predictions = predict_model(best, data = new_data)\n",
    "predictions.head()\n"
   ]
  },
  {
   "cell_type": "code",
   "execution_count": null,
   "id": "c9c2bcea",
   "metadata": {},
   "outputs": [],
   "source": []
  },
  {
   "cell_type": "code",
   "execution_count": null,
   "id": "1175c968",
   "metadata": {},
   "outputs": [],
   "source": []
  },
  {
   "cell_type": "code",
   "execution_count": null,
   "id": "07e33ac5",
   "metadata": {},
   "outputs": [],
   "source": [
    "# plot residuals\n",
    "plot_model(best, plot = 'residuals')"
   ]
  },
  {
   "cell_type": "code",
   "execution_count": null,
   "id": "6a3ec060",
   "metadata": {},
   "outputs": [],
   "source": [
    "# plot error\n",
    "plot_model(best, plot = 'error')"
   ]
  },
  {
   "cell_type": "code",
   "execution_count": null,
   "id": "2e153e82",
   "metadata": {},
   "outputs": [],
   "source": [
    "# plot feature importance\n",
    "plot_model(best, plot = 'feature')"
   ]
  },
  {
   "cell_type": "code",
   "execution_count": null,
   "id": "50a7a59b",
   "metadata": {},
   "outputs": [],
   "source": [
    "# save pipeline\n",
    "save_model(best, 'my_first_pipeline')"
   ]
  },
  {
   "cell_type": "code",
   "execution_count": null,
   "id": "21037c26",
   "metadata": {},
   "outputs": [],
   "source": [
    "lightgbm = create_model('lightgbm')\n",
    "#gbc = create_model('Gradient Boosting Classifier')\n",
    "#rf = create_model('Random Forest Classifier')\n",
    "#et = create_model('Extra Trees Classifier')\n",
    "#nb = create_model('Naive Bayes')"
   ]
  },
  {
   "cell_type": "code",
   "execution_count": null,
   "id": "1ebdad6c",
   "metadata": {},
   "outputs": [],
   "source": [
    "tuned_lightgbm = tune_model(lightgbm)"
   ]
  },
  {
   "cell_type": "code",
   "execution_count": null,
   "id": "2028bbd8",
   "metadata": {},
   "outputs": [],
   "source": [
    "predict_model(tuned_lightgbm);"
   ]
  },
  {
   "cell_type": "code",
   "execution_count": null,
   "id": "da1ed3da",
   "metadata": {},
   "outputs": [],
   "source": [
    "final_lightgbm = finalize_model(tuned_lightgbm)"
   ]
  },
  {
   "cell_type": "code",
   "execution_count": null,
   "id": "cc4f94e8",
   "metadata": {},
   "outputs": [],
   "source": [
    "save_model(final_lightgbm,'Final lightgbm')\n",
    "saved_final_lightgbm = load_model('Final lightgbm')"
   ]
  },
  {
   "cell_type": "code",
   "execution_count": null,
   "id": "d0dba633",
   "metadata": {},
   "outputs": [],
   "source": [
    "unseen_predictions = predict_model(final_lightgbm, data=test)\n",
    "unseen_predictions.head()"
   ]
  },
  {
   "cell_type": "code",
   "execution_count": null,
   "id": "3911036a",
   "metadata": {},
   "outputs": [],
   "source": []
  },
  {
   "cell_type": "code",
   "execution_count": null,
   "id": "26acf242",
   "metadata": {},
   "outputs": [],
   "source": [
    "# RMSE\n",
    "import warnings\n",
    "warnings.simplefilter(action='ignore', category=FutureWarning)\n",
    "for model, label in zip([model1, model2, model3, model4,model5], \n",
    "                        ['Random Forest','Gradient Boosting','Linear Regression','KNN','Ensemble']):\n",
    "    regressor = model.fit(X_train, y_train)\n",
    "    y_pred = regressor.predict(X_test)\n",
    "    score = np.sqrt(mean_squared_error(y_pred, y_test))\n",
    "    rmse.append(score)\n",
    "    Name.append(model.__class__.__name__)\n",
    "    print(\"RMSE: %f for model %s\" % (score,label))"
   ]
  },
  {
   "cell_type": "code",
   "execution_count": null,
   "id": "611b5238",
   "metadata": {},
   "outputs": [],
   "source": [
    "\n"
   ]
  },
  {
   "cell_type": "code",
   "execution_count": null,
   "id": "038f51f1",
   "metadata": {},
   "outputs": [],
   "source": []
  }
 ],
 "metadata": {
  "kernelspec": {
   "display_name": "Python 3",
   "language": "python",
   "name": "python3"
  },
  "language_info": {
   "codemirror_mode": {
    "name": "ipython",
    "version": 3
   },
   "file_extension": ".py",
   "mimetype": "text/x-python",
   "name": "python",
   "nbconvert_exporter": "python",
   "pygments_lexer": "ipython3",
   "version": "3.7.4"
  }
 },
 "nbformat": 4,
 "nbformat_minor": 5
}
